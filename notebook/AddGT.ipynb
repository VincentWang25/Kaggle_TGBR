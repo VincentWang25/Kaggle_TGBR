{
 "cells": [
  {
   "cell_type": "code",
   "execution_count": null,
   "id": "2e333758",
   "metadata": {
    "ExecuteTime": {
     "end_time": "2022-02-07T05:15:24.897885Z",
     "start_time": "2022-02-07T05:15:24.881774Z"
    }
   },
   "outputs": [],
   "source": [
    "%load_ext autoreload\n",
    "%autoreload 2\n",
    "\n",
    "from IPython.core.display import display, HTML\n",
    "display(HTML(\"<style>.container { width:100% !important; }</style>\"))"
   ]
  },
  {
   "cell_type": "code",
   "execution_count": null,
   "id": "96f6647c",
   "metadata": {
    "ExecuteTime": {
     "end_time": "2022-02-07T05:15:26.976077Z",
     "start_time": "2022-02-07T05:15:25.412591Z"
    }
   },
   "outputs": [],
   "source": [
    "import sys\n",
    "from itertools import groupby\n",
    "import numpy as np\n",
    "import cv2\n",
    "from tqdm.notebook import tqdm\n",
    "tqdm.pandas()\n",
    "import pandas as pd\n",
    "import os\n",
    "from glob import glob\n",
    "from multiprocessing import Pool\n",
    "import matplotlib.pyplot as plt\n",
    "# import cupy as cp\n",
    "import ast\n",
    "from pathlib import Path\n",
    "import pickle5 as pickle\n",
    "import torch\n",
    "\n",
    "import shutil\n",
    "import sys\n",
    "sys.path.append(\"../src/\")\n",
    "sys.path.append(\"../yolov5/\")\n",
    "\n",
    "import util\n",
    "\n",
    "from joblib import Parallel, delayed\n",
    "\n",
    "from IPython.display import display, HTML\n",
    "from sahi.model import Yolov5DetectionModel\n",
    "from sahi.utils.cv import read_image\n",
    "from sahi.utils.file import download_from_url\n",
    "from sahi.predict import get_prediction, get_sliced_prediction, predict\n",
    "from ensemble_boxes import weighted_boxes_fusion\n",
    "\n",
    "import albumentations as A\n",
    "\n",
    "from IPython.display import Image\n",
    "from matplotlib import animation, rc\n",
    "rc('animation', html='jshtml')"
   ]
  },
  {
   "cell_type": "code",
   "execution_count": null,
   "id": "2787a5ed",
   "metadata": {
    "ExecuteTime": {
     "end_time": "2022-02-07T05:15:27.018006Z",
     "start_time": "2022-02-07T05:15:26.977366Z"
    }
   },
   "outputs": [],
   "source": [
    "from norfair import Detection, Tracker\n",
    "\n",
    "# Helper to convert bbox in format [x_min, y_min, x_max, y_max, score] to norfair.Detection class\n",
    "def to_norfair(detects, frame_id):\n",
    "    result = []\n",
    "    for x_min, y_min, x_max, y_max, score in detects:\n",
    "        xc, yc = (x_min + x_max) / 2, (y_min + y_max) / 2\n",
    "        w, h = x_max - x_min, y_max - y_min\n",
    "        result.append(Detection(points=np.array([xc, yc]), scores=np.array([score]), data=np.array([w, h, frame_id])))\n",
    "        \n",
    "    return result\n",
    "\n",
    "def euclidean_distance(detection, tracked_object):\n",
    "    return np.linalg.norm(detection.points - tracked_object.estimate)\n",
    "\n",
    "def tracking_function(tracker, frame_id, bboxes, scores, best_conf, num_prev_bbox = None):\n",
    "    \n",
    "    detects = []\n",
    "    predictions = []\n",
    "    \n",
    "    if len(scores)>0:\n",
    "        for i in range(len(bboxes)):\n",
    "            # remember to check\n",
    "            if scores[i] <= best_conf:\n",
    "                continue\n",
    "            box = bboxes[i]\n",
    "            score = scores[i]\n",
    "            x_min = int(box[0])\n",
    "            y_min = int(box[1])\n",
    "            bbox_width = int(box[2])\n",
    "            bbox_height = int(box[3])\n",
    "            detects.append([x_min, y_min, x_min+bbox_width, y_min+bbox_height, score])\n",
    "            predictions.append('{:.2f} {} {} {} {}'.format(score, x_min, y_min, bbox_width, bbox_height))\n",
    "    # Update tracks using detects from current frame\n",
    "    tracked_objects = tracker.update(detections=to_norfair(detects, frame_id))\n",
    "    to_add_preds = []\n",
    "    for tobj in tracked_objects:\n",
    "        bbox_width, bbox_height, last_detected_frame_id = tobj.last_detection.data\n",
    "        if last_detected_frame_id == frame_id:  # Skip objects that were detected on current frame\n",
    "            continue\n",
    "        xc, yc = tobj.estimate[0]\n",
    "        x_min, y_min = int(round(xc - bbox_width / 2)), int(round(yc - bbox_height / 2))\n",
    "\n",
    "        #exclude those in the edge\n",
    "        if (x_min + bbox_width >= 1279) or (y_min + bbox_height) >= 719 or (x_min <= 1) or (y_min <= 1):\n",
    "            continue\n",
    "        score = tobj.last_detection.scores[0]            \n",
    "        to_add_preds.append('{:.2f} {} {} {} {}'.format(score, x_min, y_min, bbox_width, bbox_height))\n",
    "        #predictions.append('{:.2f} {} {} {} {}'.format(score, x_min, y_min, bbox_width, bbox_height))            \n",
    "        \n",
    "    if (num_prev_bbox is None or (num_prev_bbox - len(predictions) + 1) >= len(to_add_preds)):\n",
    "        predictions.extend(to_add_preds)\n",
    "        \n",
    "    return predictions"
   ]
  },
  {
   "cell_type": "code",
   "execution_count": null,
   "id": "4e4c6741",
   "metadata": {
    "ExecuteTime": {
     "end_time": "2022-02-07T05:15:27.037772Z",
     "start_time": "2022-02-07T05:15:27.018833Z"
    }
   },
   "outputs": [],
   "source": [
    "from ensemble_boxes import weighted_boxes_fusion\n",
    "def run_wbf(bboxes, confs, iou_thr=0.5, skip_box_thr=0.00000001):\n",
    "    if len(bboxes) == 1:\n",
    "        return bboxes[0], confs[0], []   \n",
    "    else:\n",
    "        for i in range(len(bboxes)):\n",
    "            sub_bboxes = bboxes[i]\n",
    "            if len(sub_bboxes) > 0:\n",
    "                sub_bboxes[:,2:] = sub_bboxes[:,2:] + sub_bboxes[:,:2]\n",
    "                sub_bboxes[:,0] = sub_bboxes[:,0] / 1279.\n",
    "                sub_bboxes[:,1] = sub_bboxes[:,1] / 719.\n",
    "                sub_bboxes[:,2] = sub_bboxes[:,2] / 1279.\n",
    "                sub_bboxes[:,3] = sub_bboxes[:,3] / 719.\n",
    "            bboxes[i] = sub_bboxes    \n",
    "    labels = [np.ones(len(conf)) for conf in confs]\n",
    "    boxes, scores, labels = weighted_boxes_fusion(bboxes, confs, labels, iou_thr=iou_thr, skip_box_thr=0.001, allows_overflow=True, conf_type='avg')\n",
    "    if len(boxes) > 0:\n",
    "        boxes[:,0] = boxes[:,0] * 1279.\n",
    "        boxes[:,1] = boxes[:,1] * 719.\n",
    "        boxes[:,2] = boxes[:,2] * 1279.\n",
    "        boxes[:,3] = boxes[:,3] * 719.\n",
    "        boxes[:,2:] = boxes[:,2:] - boxes[:,:2]\n",
    "        \n",
    "    boxes = [box for i,box in enumerate(boxes) if scores[i] >= skip_box_thr]\n",
    "    scores = [conf for conf in scores if conf >= skip_box_thr]\n",
    "\n",
    "    return boxes, scores, labels"
   ]
  },
  {
   "cell_type": "code",
   "execution_count": null,
   "id": "925765c5",
   "metadata": {
    "ExecuteTime": {
     "end_time": "2022-02-07T05:15:27.062684Z",
     "start_time": "2022-02-07T05:15:27.039390Z"
    }
   },
   "outputs": [],
   "source": [
    "from IPython.display import Image\n",
    "from PIL import Image as Img\n",
    "import subprocess\n",
    "#This code I found in: https://www.kaggle.com/bamps53/create-annotated-video Thank you for sharing.\n",
    "out_dir = \"/home/vincent/Kaggle/data/tensorflow-great-barrier-reef/video_check/\"\n",
    "if not os.path.exists(out_dir):\n",
    "    os.makedirs(out_dir)\n",
    "\n",
    "def load_image(image_dir):\n",
    "    assert os.path.exists(image_dir), f'{image_dir} does not exist.'\n",
    "    img = cv2.imread(str(image_dir))\n",
    "    img = cv2.cvtColor(img, cv2.COLOR_BGR2RGB)\n",
    "    return img\n",
    "\n",
    "def load_image_with_annotations(image_dir, annotations):\n",
    "    img = load_image(image_dir)\n",
    "    if len(annotations) > 0:\n",
    "        for ann in annotations:\n",
    "            cv2.rectangle(img, (ann['x'], ann['y']),\n",
    "                (ann['x'] + ann['width'], ann['y'] + ann['height']),\n",
    "                (0, 255, 0), thickness=3)\n",
    "    return img\n",
    "\n",
    "def show_prediction(img, bboxes, scores, show = True):\n",
    "    colors = [(0, 0, 255)]\n",
    "\n",
    "    obj_names = [\"s\"]\n",
    "\n",
    "    for box, score in zip(bboxes, scores):\n",
    "        cv2.rectangle(img, (int(box[0]), int(box[1])), (int(box[0] + box[2]), int(box[1] + box[3])), (255,0,0), 2)\n",
    "        cv2.putText(img, f'{score:.2f}', (int(box[0]), int(box[1])-3), cv2.FONT_HERSHEY_SIMPLEX, 0.5, (255,0,0), 2, cv2.LINE_AA)\n",
    "    if show:\n",
    "        img = Img.fromarray(img).resize((1280, 720))\n",
    "    return img\n",
    "\n",
    "def make_video(df, video_id, sequence_id, pred_col, out_dir, best_conf, name=None, s_f=None, e_f=None):\n",
    "    fps = 15\n",
    "    width = 1280\n",
    "    height = 720\n",
    "    if name is None:\n",
    "        name = \"video\"\n",
    "    \n",
    "    save_path = f'{out_dir}/{name}.mp4'\n",
    "    tmp_path =  f'{out_dir}/tmp-{name}.mp4'\n",
    "    output_video = cv2.VideoWriter(tmp_path, cv2.VideoWriter_fourcc(*\"MP4V\"), fps, (width, height),)\n",
    "    \n",
    "    # I just generate ony part of video\n",
    "    if video_id is not None and sequence_id is not None:\n",
    "        query = 'video_id == {} and sequence == {}'.format(video_id, sequence_id)\n",
    "        if s_f is not None:\n",
    "            query = query + 'and video_frame >= {} and video_frame <= {}'.format(s_f, e_f)\n",
    "        print(query)\n",
    "        video_df = df.query(query)\n",
    "    else:\n",
    "        video_df = df\n",
    "    print(video_df.shape)\n",
    "    for _, row in tqdm(video_df.iterrows(), total=len(video_df)):\n",
    "        video_id = row.video_id\n",
    "        video_frame = row.video_frame\n",
    "        annotations = row.annotations\n",
    "        img_file = row.image_path\n",
    "        img = load_image_with_annotations(img_file, annotations)\n",
    "        preds = row[pred_col]\n",
    "        best_conf = 0\n",
    "        bboxes = [preds[i][1:] for i in range(len(preds)) if preds[i][0] >= best_conf]\n",
    "        confis = [preds[i][0] for i in range(len(preds)) if preds[i][0] >= best_conf]        \n",
    "        img = show_prediction(img, bboxes, confis, show=False)\n",
    "        cv2.putText(img, f'{video_id}-{video_frame}', (10,70), cv2.FONT_HERSHEY_SIMPLEX, 1, (255,0,0), 1, cv2.LINE_AA)\n",
    "        img = cv2.cvtColor(img, cv2.COLOR_BGR2RGB)\n",
    "        output_video.write(img)\n",
    "    \n",
    "    output_video.release()\n",
    "\n",
    "    if os.path.exists(save_path):\n",
    "        os.remove(save_path)\n",
    "    subprocess.run(\n",
    "        [\"ffmpeg\", \"-i\", tmp_path, \"-crf\", \"18\", \"-preset\", \"veryfast\", \"-vcodec\", \"libx264\", save_path]\n",
    "    )\n",
    "    os.remove(tmp_path)"
   ]
  },
  {
   "cell_type": "code",
   "execution_count": null,
   "id": "8c6a3eab",
   "metadata": {
    "ExecuteTime": {
     "end_time": "2022-02-07T05:15:27.172323Z",
     "start_time": "2022-02-07T05:15:27.157907Z"
    }
   },
   "outputs": [],
   "source": [
    "from base64 import b64encode\n",
    "def play(filename):\n",
    "    html = ''\n",
    "    video = open(filename,'rb').read()\n",
    "    src = 'data:video/mp4;base64,' + b64encode(video).decode()\n",
    "    html += '<video width=1280 controls autoplay loop><source src=\"%s\" type=\"video/mp4\"></video>' % src \n",
    "    return HTML(html)"
   ]
  },
  {
   "cell_type": "markdown",
   "id": "4225f2a7",
   "metadata": {},
   "source": [
    "# Read Data"
   ]
  },
  {
   "cell_type": "code",
   "execution_count": null,
   "id": "055117e7",
   "metadata": {
    "ExecuteTime": {
     "end_time": "2022-02-07T05:15:28.483102Z",
     "start_time": "2022-02-07T05:15:28.450867Z"
    }
   },
   "outputs": [],
   "source": [
    "INPUT_DIR = Path(\"../../data/tensorflow-great-barrier-reef/\")\n",
    "df_origin = pd.read_csv(INPUT_DIR / \"train.csv\")"
   ]
  },
  {
   "cell_type": "code",
   "execution_count": null,
   "id": "748d5de9",
   "metadata": {
    "ExecuteTime": {
     "end_time": "2022-02-07T05:15:29.028929Z",
     "start_time": "2022-02-07T05:15:28.983346Z"
    }
   },
   "outputs": [],
   "source": [
    "\n",
    "df = pd.read_csv(INPUT_DIR / \"train.csv\")\n",
    "folds = util.load_pickle(\"../input/fold_test_2.pkl\")\n",
    "df[\"fold\"] = df[\"sequence\"].apply(lambda x: folds[x])\n",
    "highFP_df = pd.read_csv('../input/df_highFPNoBB.csv')\n",
    "df = pd.merge(df, highFP_df[['video_id',\"video_frame\",\"highFBNoBB\"]], on=[\"video_id\",\"video_frame\"], how='left')\n",
    "df[\"highFBNoBB\"].fillna(False, inplace=True)\n",
    "\n",
    "df.shape"
   ]
  },
  {
   "cell_type": "code",
   "execution_count": null,
   "id": "360b93d2",
   "metadata": {
    "ExecuteTime": {
     "end_time": "2022-02-07T05:15:50.254546Z",
     "start_time": "2022-02-07T05:15:29.495832Z"
    }
   },
   "outputs": [],
   "source": [
    "data_param = {'root_dir':INPUT_DIR,'label_dir':INPUT_DIR / \"labels\"}\n",
    "df = df.progress_apply(lambda x: util.get_path(x, data_param, infer=True), axis=1)\n",
    "df['annotations'] = df['annotations'].progress_apply(lambda x: ast.literal_eval(x))\n",
    "df[\"real_bbox\"] = df[\"annotations\"].apply(lambda annots: [list(annot.values()) for annot in annots])\n",
    "df['num_bbox'] = df['annotations'].progress_apply(lambda x: len(x))\n",
    "data = (df.num_bbox>0).value_counts(normalize=True)*100\n",
    "print(f\"No BBox: {data[0]:0.2f}% | With BBox: {data[1]:0.2f}%\")"
   ]
  },
  {
   "cell_type": "code",
   "execution_count": null,
   "id": "924d5fe9",
   "metadata": {
    "ExecuteTime": {
     "end_time": "2022-02-07T05:15:50.281598Z",
     "start_time": "2022-02-07T05:15:50.256588Z"
    }
   },
   "outputs": [],
   "source": [
    "df['train'] = False\n",
    "df.loc[df.query(\"fold == 0 and (num_bbox > 0 or highFBNoBB)\").index, 'train'] = True\n",
    "df['train'].value_counts()"
   ]
  },
  {
   "cell_type": "code",
   "execution_count": null,
   "id": "a9ee8d2b",
   "metadata": {
    "ExecuteTime": {
     "end_time": "2022-02-07T05:15:50.302262Z",
     "start_time": "2022-02-07T05:15:50.282540Z"
    }
   },
   "outputs": [],
   "source": [
    "# COTS per frame\n",
    "df.groupby(\"fold\").apply(lambda df: df[\"num_bbox\"].sum() / df.shape[0])"
   ]
  },
  {
   "cell_type": "code",
   "execution_count": null,
   "id": "17659f85",
   "metadata": {
    "ExecuteTime": {
     "end_time": "2022-02-07T05:15:50.320016Z",
     "start_time": "2022-02-07T05:15:50.303705Z"
    }
   },
   "outputs": [],
   "source": [
    "df['fold'].value_counts(normalize=True)"
   ]
  },
  {
   "cell_type": "code",
   "execution_count": null,
   "id": "24092fca",
   "metadata": {
    "ExecuteTime": {
     "end_time": "2022-02-07T05:15:50.341974Z",
     "start_time": "2022-02-07T05:15:50.320833Z"
    }
   },
   "outputs": [],
   "source": [
    "df.head()"
   ]
  },
  {
   "cell_type": "markdown",
   "id": "604e7f16",
   "metadata": {},
   "source": [
    "# Add OOF prediction"
   ]
  },
  {
   "cell_type": "code",
   "execution_count": null,
   "id": "e209c27e",
   "metadata": {
    "ExecuteTime": {
     "end_time": "2022-02-07T05:15:50.530893Z",
     "start_time": "2022-02-07T05:15:50.342857Z"
    }
   },
   "outputs": [],
   "source": [
    "df_oof = util.load_pickle(\"../input/wbf_pred.pkl\")\n",
    "df_oof.head()"
   ]
  },
  {
   "cell_type": "code",
   "execution_count": null,
   "id": "e2a3c3b1",
   "metadata": {
    "ExecuteTime": {
     "end_time": "2022-02-07T05:15:50.550376Z",
     "start_time": "2022-02-07T05:15:50.532054Z"
    }
   },
   "outputs": [],
   "source": [
    "df['wbf_pred'] = None\n",
    "df.loc[df['fold']==1, 'wbf_pred'] = df_oof['track_pred']"
   ]
  },
  {
   "cell_type": "code",
   "execution_count": null,
   "id": "6a908b59",
   "metadata": {
    "ExecuteTime": {
     "end_time": "2022-02-07T05:15:51.607253Z",
     "start_time": "2022-02-07T05:15:50.551091Z"
    }
   },
   "outputs": [],
   "source": [
    "df_pred1 = util.load_pickle(\"whole_pred_0204_yolov5s6_B.pkl\")\n",
    "df_pred2 = util.load_pickle(\"whole_pred_0205_yolov5m6_B_LS02.pkl\")\n",
    "df['pred_0204_yolov5s6_B'] = df_pred1['pred_0204_yolov5s6_B']\n",
    "df['pred_0205_yolov5m6_B_LS02'] = df_pred2['pred_0205_yolov5m6_B_LS02']"
   ]
  },
  {
   "cell_type": "code",
   "execution_count": null,
   "id": "3fa2bcc5",
   "metadata": {
    "ExecuteTime": {
     "end_time": "2022-02-07T05:15:51.622174Z",
     "start_time": "2022-02-07T05:15:51.608044Z"
    }
   },
   "outputs": [],
   "source": [
    "best_conf_dict = {\n",
    "    '0204_yolov5s6_B':0.2,\n",
    "    '0205_yolov5m6_B_LS02':0.3,\n",
    "}"
   ]
  },
  {
   "cell_type": "code",
   "execution_count": null,
   "id": "039f841d",
   "metadata": {
    "ExecuteTime": {
     "end_time": "2022-02-07T05:15:57.626002Z",
     "start_time": "2022-02-07T05:15:51.623390Z"
    }
   },
   "outputs": [],
   "source": [
    "iou_thr = 0.4\n",
    "skip_box_thr = 0.22\n",
    "wbf_models =[\"0204_yolov5s6_B\", '0205_yolov5m6_B_LS02']\n",
    "df[\"wbf_noTrack_pred\"] = None\n",
    "frame_id = 0\n",
    "tracker = Tracker(\n",
    "    distance_function=euclidean_distance, \n",
    "    distance_threshold=30,\n",
    "    hit_inertia_min=3,\n",
    "    hit_inertia_max=6,\n",
    "    initialization_delay=2,\n",
    ")              \n",
    "num_prev_bbox = None\n",
    "for i, idx in enumerate(df.query(\"fold!=1\").index):\n",
    "    row = df.loc[idx]\n",
    "    bboxes_l = []\n",
    "    confs_l = []    \n",
    "    for model_version in wbf_models:\n",
    "        BEST_CONF = best_conf_dict[model_version]\n",
    "        pred_col = \"pred_\" + model_version \n",
    "        prd_bboxs = row[pred_col]\n",
    "        prd_bboxs = [p for p in prd_bboxs if p[0] >= BEST_CONF]\n",
    "        bboxes, confis = [p[1:] for p in prd_bboxs], [p[0] for p in prd_bboxs]    \n",
    "        bboxes = np.array(bboxes,dtype=np.float64)\n",
    "        bboxes_l.append(bboxes)\n",
    "        confs_l.append(confis)\n",
    "    bboxes_l = np.array(bboxes_l)\n",
    "    wbf_boxes, wbf_confs, _ = run_wbf(bboxes_l, confs_l, iou_thr, skip_box_thr)\n",
    "    df.at[idx, \"wbf_noTrack_pred\"] = [[wbf_confs[i]] + wbf_boxes[i].tolist() for i in range(len(wbf_boxes))]\n",
    "    \n",
    "    predictions = tracking_function(tracker, frame_id, wbf_boxes, wbf_confs, 0, num_prev_bbox)\n",
    "    prd_bboxs_tracking =  [[float(p) for p in pred.split(\" \")] for pred in predictions]\n",
    "    num_prev_bbox = len(wbf_boxes)\n",
    "    df.at[idx, \"wbf_pred\"] = prd_bboxs_tracking\n",
    "\n",
    "    frame_id += 1"
   ]
  },
  {
   "cell_type": "code",
   "execution_count": null,
   "id": "d7c404e5",
   "metadata": {
    "ExecuteTime": {
     "end_time": "2022-02-07T05:15:57.648722Z",
     "start_time": "2022-02-07T05:15:57.627263Z"
    }
   },
   "outputs": [],
   "source": [
    "df.loc[df.query(\"fold==1\").index, \"wbf_noTrack_pred\"] = df.query(\"fold==1\")['wbf_pred']"
   ]
  },
  {
   "cell_type": "markdown",
   "id": "56f700bc",
   "metadata": {},
   "source": [
    "## check score"
   ]
  },
  {
   "cell_type": "code",
   "execution_count": null,
   "id": "b79cf2ac",
   "metadata": {
    "ExecuteTime": {
     "end_time": "2022-02-07T05:15:57.716937Z",
     "start_time": "2022-02-07T05:15:57.649547Z"
    }
   },
   "outputs": [],
   "source": [
    "all_gt = [np.array(x) for x in  df['real_bbox']]\n",
    "all_gt_m = all_gt.copy()\n",
    "all_pred = [np.array(x) if x is not None else np.array([]) for x in  df['wbf_pred']]\n",
    "all_pred_notrack = [np.array(x) if x is not None else np.array([]) for x in  df['wbf_noTrack_pred']]"
   ]
  },
  {
   "cell_type": "code",
   "execution_count": null,
   "id": "22322d9d",
   "metadata": {
    "ExecuteTime": {
     "end_time": "2022-02-07T05:15:57.733546Z",
     "start_time": "2022-02-07T05:15:57.717740Z"
    }
   },
   "outputs": [],
   "source": [
    "def check_score_gt(df, q):\n",
    "    selected_gt = []\n",
    "    selected_pred = []\n",
    "    for idx in df.query(q).index:\n",
    "        selected_gt.append(all_gt[idx])\n",
    "        selected_pred.append(all_pred[idx])\n",
    "    f2_dict = util.calc_f2_score(selected_gt, selected_pred, verbose=False) \n",
    "    return f2_dict['f2']\n",
    "\n",
    "def check_score_gt_notrack(df, q):\n",
    "    selected_gt = []\n",
    "    selected_pred = []\n",
    "    for idx in df.query(q).index:\n",
    "        selected_gt.append(all_gt[idx])\n",
    "        selected_pred.append(all_pred_notrack[idx])\n",
    "    f2_dict = util.calc_f2_score(selected_gt, selected_pred, verbose=False) \n",
    "    return f2_dict['f2']"
   ]
  },
  {
   "cell_type": "code",
   "execution_count": null,
   "id": "145d3ec5",
   "metadata": {
    "ExecuteTime": {
     "end_time": "2022-02-07T05:15:59.058065Z",
     "start_time": "2022-02-07T05:15:57.734288Z"
    }
   },
   "outputs": [],
   "source": [
    "check_score_gt(df, \"fold==1\")"
   ]
  },
  {
   "cell_type": "code",
   "execution_count": null,
   "id": "2bf6f711",
   "metadata": {
    "ExecuteTime": {
     "end_time": "2022-02-07T05:16:07.923810Z",
     "start_time": "2022-02-07T05:15:59.058894Z"
    }
   },
   "outputs": [],
   "source": [
    "check_score_gt(df, \"train\")"
   ]
  },
  {
   "cell_type": "code",
   "execution_count": null,
   "id": "447ed8e3",
   "metadata": {
    "ExecuteTime": {
     "end_time": "2022-02-07T05:16:09.304774Z",
     "start_time": "2022-02-07T05:16:07.924695Z"
    }
   },
   "outputs": [],
   "source": [
    "check_score_gt(df, \"not train\")"
   ]
  },
  {
   "cell_type": "code",
   "execution_count": null,
   "id": "0b1da778",
   "metadata": {
    "ExecuteTime": {
     "end_time": "2022-02-07T05:16:18.057502Z",
     "start_time": "2022-02-07T05:16:09.305741Z"
    }
   },
   "outputs": [],
   "source": [
    "check_score_gt_notrack(df, \"train\")"
   ]
  },
  {
   "cell_type": "markdown",
   "id": "9faf8a07",
   "metadata": {},
   "source": [
    "## save video"
   ]
  },
  {
   "cell_type": "code",
   "execution_count": null,
   "id": "44567abf",
   "metadata": {
    "ExecuteTime": {
     "end_time": "2022-02-07T05:16:18.073070Z",
     "start_time": "2022-02-07T05:16:18.059257Z"
    },
    "scrolled": true
   },
   "outputs": [],
   "source": [
    "# for video_id, sequence in df.query(\"fold!=1\").groupby([\"video_id\",\"sequence\"]).size().index:\n",
    "#     name = f'check-{video_id}-{sequence}'\n",
    "#     make_video(df, video_id, sequence, 'wbf_pred', out_dir, 0, name=name)"
   ]
  },
  {
   "cell_type": "code",
   "execution_count": null,
   "id": "a6299f6c",
   "metadata": {
    "ExecuteTime": {
     "end_time": "2022-02-07T02:33:31.789997Z",
     "start_time": "2022-02-07T02:33:30.718174Z"
    },
    "scrolled": true
   },
   "outputs": [],
   "source": [
    "video_id=2\n",
    "sequence=22643\n",
    "s_f = 5661\n",
    "e_f = 5691\n",
    "\n",
    "name = f'checkFix2-{video_id}-{sequence}_{s_f}_{e_f}'\n",
    "make_video(df, video_id, sequence, 'wbf_pred', out_dir, 0, name=name,s_f=s_f, e_f=e_f)"
   ]
  },
  {
   "cell_type": "markdown",
   "id": "3e0f227c",
   "metadata": {},
   "source": [
    "# modify GT"
   ]
  },
  {
   "cell_type": "markdown",
   "id": "919966ce",
   "metadata": {},
   "source": [
    "## Modify fold==1 GT"
   ]
  },
  {
   "cell_type": "code",
   "execution_count": null,
   "id": "925f2179",
   "metadata": {
    "ExecuteTime": {
     "end_time": "2022-02-07T04:06:46.062870Z",
     "start_time": "2022-02-07T04:06:46.041214Z"
    }
   },
   "outputs": [],
   "source": [
    "# 1-15827-2148-2205\n",
    "video_id = 1\n",
    "sequence = 15827\n",
    "s_f = 2148\n",
    "e_f = 2205\n",
    "q = f\"video_id == {video_id} and sequence == {sequence} and video_frame >= {s_f} and video_frame <= {e_f}\"\n",
    "df_check = df.query(q).copy()\n",
    "for idx in df_check.index:\n",
    "    pred = all_pred[idx]\n",
    "    if len(all_gt_m[idx]) == 0:\n",
    "        if len(pred) > 0:\n",
    "            all_gt_m[idx] = pred[:,1:]"
   ]
  },
  {
   "cell_type": "code",
   "execution_count": null,
   "id": "1a484aa6",
   "metadata": {
    "ExecuteTime": {
     "end_time": "2022-02-06T17:03:09.389864Z",
     "start_time": "2022-02-06T17:03:09.368056Z"
    }
   },
   "outputs": [],
   "source": [
    "# 2-26651-4639-4748\n",
    "video_id = 2\n",
    "sequence = 26651\n",
    "s_f = 4639\n",
    "e_f = 4748\n",
    "q = f\"video_id == {video_id} and sequence == {sequence} and video_frame >= {s_f} and video_frame <= {e_f}\"\n",
    "df_check = df.query(q).copy()\n",
    "for idx in df_check.index:\n",
    "    pred = all_pred[idx]\n",
    "    if len(all_gt_m[idx]) == 0:\n",
    "        if len(pred) > 0:\n",
    "            all_gt_m[idx] = pred[:,1:]"
   ]
  },
  {
   "cell_type": "code",
   "execution_count": null,
   "id": "433191db",
   "metadata": {
    "ExecuteTime": {
     "end_time": "2022-02-06T17:03:41.061202Z",
     "start_time": "2022-02-06T17:03:39.687842Z"
    }
   },
   "outputs": [],
   "source": [
    "# modified f2\n",
    "selected_gt = []\n",
    "selected_pred = []\n",
    "for idx in df.query(\"fold==1\").index:\n",
    "    selected_gt.append(all_gt_m[idx])\n",
    "    selected_pred.append(all_pred[idx])\n",
    "f2_dict = util.calc_f2_score(selected_gt, selected_pred, verbose=False) \n",
    "f2_dict['f2']"
   ]
  },
  {
   "cell_type": "code",
   "execution_count": null,
   "id": "2473baf6",
   "metadata": {
    "ExecuteTime": {
     "end_time": "2022-02-06T21:29:03.339184Z",
     "start_time": "2022-02-06T21:29:03.303996Z"
    }
   },
   "outputs": [],
   "source": [
    "df.query(\"video_frame == 6845\")"
   ]
  },
  {
   "cell_type": "code",
   "execution_count": null,
   "id": "16517e4a",
   "metadata": {
    "ExecuteTime": {
     "end_time": "2022-02-06T21:30:50.903604Z",
     "start_time": "2022-02-06T21:30:50.874825Z"
    }
   },
   "outputs": [],
   "source": [
    "df.loc[[11893]]"
   ]
  },
  {
   "cell_type": "markdown",
   "id": "d71c7322",
   "metadata": {},
   "source": [
    "## Modify fold != 1 GT"
   ]
  },
  {
   "cell_type": "code",
   "execution_count": null,
   "id": "8b023729",
   "metadata": {
    "ExecuteTime": {
     "end_time": "2022-02-06T21:36:55.872949Z",
     "start_time": "2022-02-06T21:36:53.698291Z"
    },
    "scrolled": true
   },
   "outputs": [],
   "source": [
    "video_id = 1\n",
    "sequence = 18048\n",
    "s_f = 6709\n",
    "e_f = 6780\n",
    "\n",
    "name = f'InterestingFP_wbf-{video_id}-{sequence}-{s_f}-{e_f}'\n",
    "make_video(df, video_id, sequence, 'wbf_pred', out_dir, 0, name=name,s_f=s_f, e_f=e_f)"
   ]
  },
  {
   "cell_type": "code",
   "execution_count": null,
   "id": "c1d3f3a6",
   "metadata": {
    "ExecuteTime": {
     "end_time": "2022-02-06T18:32:31.107584Z",
     "start_time": "2022-02-06T18:32:30.525622Z"
    },
    "scrolled": true
   },
   "outputs": [],
   "source": [
    "video_id = 1\n",
    "sequence = 8503\n",
    "s_f =3891\n",
    "e_f =3904\n",
    "\n",
    "name = f'Error_TP_wbf-{video_id}-{sequence}-{s_f}-{e_f}'\n",
    "make_video(df, video_id, sequence, 'wbf_pred', out_dir, 0, name=name,s_f=s_f, e_f=e_f)"
   ]
  },
  {
   "cell_type": "markdown",
   "id": "37dd0e6a",
   "metadata": {},
   "source": [
    "# Add GT"
   ]
  },
  {
   "cell_type": "code",
   "execution_count": null,
   "id": "bb829530",
   "metadata": {
    "ExecuteTime": {
     "end_time": "2022-02-07T05:16:18.092865Z",
     "start_time": "2022-02-07T05:16:18.073751Z"
    }
   },
   "outputs": [],
   "source": [
    "video_dir = out_dir\n",
    "check_videos = glob(video_dir + \"*.mp4\")\n",
    "gt_candidates = []\n",
    "for name in check_videos:\n",
    "    name = name.split(\"/\")[-1]\n",
    "    if name in ['UnkownFP_wbf-2-26651-4154-4200.mp4', 'commonFP_wbf-0-996-11971-11994.mp4']:\n",
    "        continue\n",
    "    if \"fp\" in name.lower() and \"error\" not in name.lower():\n",
    "        print(name)\n",
    "        _, video_id, sequence, s_f, e_f_mp4 = name.split(\"-\")\n",
    "        e_f = e_f_mp4[:-4]\n",
    "        gt_candidates.append([int(video_id), int(sequence), int(s_f), int(e_f)])"
   ]
  },
  {
   "cell_type": "code",
   "execution_count": null,
   "id": "43e18f24",
   "metadata": {
    "ExecuteTime": {
     "end_time": "2022-02-07T05:16:18.108839Z",
     "start_time": "2022-02-07T05:16:18.093572Z"
    }
   },
   "outputs": [],
   "source": [
    "gt_candidates"
   ]
  },
  {
   "cell_type": "code",
   "execution_count": null,
   "id": "ad21109a",
   "metadata": {
    "ExecuteTime": {
     "end_time": "2022-02-07T05:16:18.135018Z",
     "start_time": "2022-02-07T05:16:18.109549Z"
    }
   },
   "outputs": [],
   "source": [
    "gt_candidates_dfs = []\n",
    "cols = [\"video_id\",\"sequence\",\"video_frame\"]\n",
    "for video_id, sequence, s_f, e_f in gt_candidates:\n",
    "    l = e_f - s_f + 1\n",
    "    df_ = pd.DataFrame([f for f in range(s_f, e_f+1)], columns=['video_frame'])\n",
    "    df_['video_id'] = video_id\n",
    "    df_['sequence'] = sequence\n",
    "    gt_candidates_dfs.append(df_)\n",
    "gt_candidates_df = pd.concat(gt_candidates_dfs)[cols]"
   ]
  },
  {
   "cell_type": "code",
   "execution_count": null,
   "id": "e7811ff5",
   "metadata": {
    "ExecuteTime": {
     "end_time": "2022-02-07T05:16:18.159205Z",
     "start_time": "2022-02-07T05:16:18.135754Z"
    }
   },
   "outputs": [],
   "source": [
    "df_new = pd.merge(gt_candidates_df, df[cols + ['annotations','image_path',\"real_bbox\", \"wbf_noTrack_pred\"]], on=cols)\n",
    "df_new = df_new.drop_duplicates(subset=['video_id',\"sequence\",\"video_frame\"]).sort_values([\"video_id\",\"video_frame\"])"
   ]
  },
  {
   "cell_type": "code",
   "execution_count": null,
   "id": "582e4152",
   "metadata": {
    "ExecuteTime": {
     "end_time": "2022-02-07T05:16:18.180276Z",
     "start_time": "2022-02-07T05:16:18.160010Z"
    }
   },
   "outputs": [],
   "source": [
    "df_new[\"added_pred\"] = [list([]) for _ in range(df_new.shape[0])]\n",
    "df_new[\"new_real_bbox\"] = [list([]) for _ in range(df_new.shape[0])]"
   ]
  },
  {
   "cell_type": "code",
   "execution_count": null,
   "id": "a68166b6",
   "metadata": {
    "ExecuteTime": {
     "end_time": "2022-02-07T05:16:18.583373Z",
     "start_time": "2022-02-07T05:16:18.180961Z"
    }
   },
   "outputs": [],
   "source": [
    "for idx, row in df_new.iterrows():\n",
    "    if len(row['wbf_noTrack_pred']) == 0:\n",
    "        continue\n",
    "    elif len(row['real_bbox']) == 0:\n",
    "        df_new.at[idx, 'added_pred'] = df_new.loc[idx,'wbf_noTrack_pred']\n",
    "    else:\n",
    "        wbf_pred = np.array(row['wbf_noTrack_pred'])\n",
    "        real_gt = np.array(row['real_bbox'])\n",
    "        added_pred = []\n",
    "        ious = util.calc_iou(np.array(wbf_pred)[:,1:], np.array(real_gt))\n",
    "        ious_max = ious.max(axis=1)\n",
    "        added_pred = wbf_pred[ious_max < 0.3].copy().tolist()\n",
    "        df_new.at[idx,'added_pred'] = added_pred"
   ]
  },
  {
   "cell_type": "code",
   "execution_count": null,
   "id": "94cc0425",
   "metadata": {
    "ExecuteTime": {
     "end_time": "2022-02-07T05:16:18.604748Z",
     "start_time": "2022-02-07T05:16:18.584181Z"
    }
   },
   "outputs": [],
   "source": [
    "(df_new['added_pred'].apply(len) > 0).sum()"
   ]
  },
  {
   "cell_type": "code",
   "execution_count": null,
   "id": "e7e06861",
   "metadata": {
    "ExecuteTime": {
     "end_time": "2022-02-07T05:16:18.647705Z",
     "start_time": "2022-02-07T05:16:18.605455Z"
    }
   },
   "outputs": [],
   "source": [
    "df_new['new_real_bbox'] = df_new.apply(lambda x: x['real_bbox'] + [p[1:] for p in x['added_pred']], axis=1)"
   ]
  },
  {
   "cell_type": "code",
   "execution_count": null,
   "id": "34d2bda7",
   "metadata": {
    "ExecuteTime": {
     "end_time": "2022-02-07T05:16:18.663473Z",
     "start_time": "2022-02-07T05:16:18.648472Z"
    }
   },
   "outputs": [],
   "source": [
    "df_new['new_real_bbox'].iloc[20:].iloc[0][0]"
   ]
  },
  {
   "cell_type": "code",
   "execution_count": null,
   "id": "84014dcd",
   "metadata": {
    "ExecuteTime": {
     "end_time": "2022-02-07T05:16:18.680877Z",
     "start_time": "2022-02-07T05:16:18.664218Z"
    }
   },
   "outputs": [],
   "source": [
    "df_new['wbf_pred'] = df_new['new_real_bbox'].apply(lambda pp:  [[1] + p for p in pp])"
   ]
  },
  {
   "cell_type": "code",
   "execution_count": null,
   "id": "e2dfe676",
   "metadata": {
    "ExecuteTime": {
     "end_time": "2022-02-07T04:56:21.134993Z",
     "start_time": "2022-02-07T04:54:50.037418Z"
    },
    "scrolled": true
   },
   "outputs": [],
   "source": [
    "make_video(df_new, None, None, 'wbf_pred', out_dir, 0, name=\"new_GT_check\",s_f=None, e_f=None)"
   ]
  },
  {
   "cell_type": "markdown",
   "id": "7fef64a7",
   "metadata": {},
   "source": [
    "## combine with old data"
   ]
  },
  {
   "cell_type": "code",
   "execution_count": null,
   "id": "ed99fc06",
   "metadata": {
    "ExecuteTime": {
     "end_time": "2022-02-07T05:16:21.924880Z",
     "start_time": "2022-02-07T05:16:21.891391Z"
    }
   },
   "outputs": [],
   "source": [
    "if 'mark' in df.columns:\n",
    "    del df['mark']\n",
    "df_new['mark'] = True\n",
    "df = pd.merge(df, df_new[cols + ['mark']], on=cols, how='left')\n",
    "df['mark'].fillna(False, inplace=True)"
   ]
  },
  {
   "cell_type": "code",
   "execution_count": null,
   "id": "6048b1fa",
   "metadata": {
    "ExecuteTime": {
     "end_time": "2022-02-07T05:16:22.465209Z",
     "start_time": "2022-02-07T05:16:22.236521Z"
    }
   },
   "outputs": [],
   "source": [
    "df[\"new_real_bbox\"] = df['real_bbox']\n",
    "df['added_pred'] = [list([]) for i in range(df.shape[0])]\n",
    "df.loc[df.query('mark').index, \"new_real_bbox\"] = df_new['new_real_bbox'].values\n",
    "df.loc[df.query('mark').index, \"added_pred\"] = df_new['added_pred'].values"
   ]
  },
  {
   "cell_type": "code",
   "execution_count": null,
   "id": "d891adbd",
   "metadata": {},
   "outputs": [],
   "source": [
    "df.query(\"\")"
   ]
  },
  {
   "cell_type": "code",
   "execution_count": null,
   "id": "bf6b71fd",
   "metadata": {
    "ExecuteTime": {
     "end_time": "2022-02-07T05:17:21.612593Z",
     "start_time": "2022-02-07T05:17:21.591473Z"
    }
   },
   "outputs": [],
   "source": [
    "df['num_bbox'].sum()"
   ]
  },
  {
   "cell_type": "code",
   "execution_count": null,
   "id": "2bc6fc9e",
   "metadata": {
    "ExecuteTime": {
     "end_time": "2022-02-07T05:17:33.536912Z",
     "start_time": "2022-02-07T05:17:33.518760Z"
    }
   },
   "outputs": [],
   "source": [
    "1120/11898"
   ]
  },
  {
   "cell_type": "code",
   "execution_count": null,
   "id": "844c6db7",
   "metadata": {
    "ExecuteTime": {
     "end_time": "2022-02-07T05:33:05.967583Z",
     "start_time": "2022-02-07T05:33:05.945568Z"
    }
   },
   "outputs": [],
   "source": [
    "df['added_pred'].apply(len)"
   ]
  },
  {
   "cell_type": "code",
   "execution_count": null,
   "id": "452411f9",
   "metadata": {
    "ExecuteTime": {
     "end_time": "2022-02-07T05:33:33.479256Z",
     "start_time": "2022-02-07T05:33:33.440276Z"
    }
   },
   "outputs": [],
   "source": [
    "df.groupby(\"fold\").apply(lambda df: np.sum(((df['added_pred'].apply(len)>0).astype(int)  + (df['num_bbox'] == 0)).astype(int) > 1 ))"
   ]
  },
  {
   "cell_type": "code",
   "execution_count": null,
   "id": "e260a951",
   "metadata": {
    "ExecuteTime": {
     "end_time": "2022-02-07T05:34:22.170022Z",
     "start_time": "2022-02-07T05:34:22.150007Z"
    }
   },
   "outputs": [],
   "source": [
    "353 / (df['num_bbox'] > 0).sum()"
   ]
  },
  {
   "cell_type": "code",
   "execution_count": null,
   "id": "da458084",
   "metadata": {
    "ExecuteTime": {
     "end_time": "2022-02-07T05:16:46.943807Z",
     "start_time": "2022-02-07T05:16:46.911280Z"
    }
   },
   "outputs": [],
   "source": [
    "df.groupby(\"fold\").apply(lambda df: np.sum(df['added_pred'].apply(len)))"
   ]
  },
  {
   "cell_type": "code",
   "execution_count": null,
   "id": "ace00bf5",
   "metadata": {
    "ExecuteTime": {
     "end_time": "2022-02-07T05:17:45.052529Z",
     "start_time": "2022-02-07T05:17:44.999393Z"
    }
   },
   "outputs": [],
   "source": [
    "# save it\n",
    "def from_bbox_to_str(bbox):\n",
    "    if len(bbox) == 0:\n",
    "        return '[]'\n",
    "    else:\n",
    "        d = []\n",
    "        for p in bbox:\n",
    "            d.append({\"x\":round(p[0],1), \n",
    "                      \"y\":round(p[1],1), \n",
    "                      \"width\":round(p[2],1), \n",
    "                      \"height\":round(p[3],1)})\n",
    "        return str(d)\n",
    "def from_pred_to_str(bbox):\n",
    "    if len(bbox) == 0:\n",
    "        return '[]'\n",
    "    else:\n",
    "        d = []\n",
    "        for p in bbox:\n",
    "            d.append({'conf':round(p[0],3),\n",
    "                      \"x\":round(p[1],2), \n",
    "                      \"y\":round(p[2],3), \n",
    "                      \"width\":round(p[3],4), \n",
    "                      \"height\":round(p[4],5)})\n",
    "        return str(d)\n",
    "df['new_annotations'] = df['new_real_bbox'].apply(from_bbox_to_str)\n",
    "df['new_added_pred'] = df['added_pred'].apply(from_pred_to_str)"
   ]
  },
  {
   "cell_type": "code",
   "execution_count": null,
   "id": "d1e4fe6b",
   "metadata": {
    "ExecuteTime": {
     "end_time": "2022-02-07T05:18:18.082054Z",
     "start_time": "2022-02-07T05:18:18.058398Z"
    }
   },
   "outputs": [],
   "source": [
    "ast.literal_eval(df.iloc[9316][\"new_annotations\"])"
   ]
  },
  {
   "cell_type": "code",
   "execution_count": null,
   "id": "93733b2c",
   "metadata": {
    "ExecuteTime": {
     "end_time": "2022-02-07T05:18:25.624748Z",
     "start_time": "2022-02-07T05:18:25.604997Z"
    }
   },
   "outputs": [],
   "source": [
    "ast.literal_eval(df.iloc[9316][\"new_added_pred\"])"
   ]
  },
  {
   "cell_type": "code",
   "execution_count": null,
   "id": "861b2c08",
   "metadata": {
    "ExecuteTime": {
     "end_time": "2022-02-07T05:18:33.999171Z",
     "start_time": "2022-02-07T05:18:33.977311Z"
    }
   },
   "outputs": [],
   "source": [
    "ast.literal_eval(df_origin.query(\"video_id == 1 and video_frame==4164\").iloc[0]['annotations'])"
   ]
  },
  {
   "cell_type": "code",
   "execution_count": null,
   "id": "27f23a30",
   "metadata": {
    "ExecuteTime": {
     "end_time": "2022-02-07T05:18:42.376866Z",
     "start_time": "2022-02-07T05:18:42.317424Z"
    }
   },
   "outputs": [],
   "source": [
    "df_origin = pd.merge(df_origin, df[['video_id','video_frame','new_annotations','new_added_pred']], on=['video_id','video_frame'], how='left')\n",
    "df_origin.fillna(\"[]\", inplace=True)\n",
    "df_origin"
   ]
  },
  {
   "cell_type": "code",
   "execution_count": null,
   "id": "b823baa9",
   "metadata": {
    "ExecuteTime": {
     "end_time": "2022-02-07T05:18:47.091443Z",
     "start_time": "2022-02-07T05:18:47.009497Z"
    }
   },
   "outputs": [],
   "source": [
    "df_origin.to_csv(\"../../data/tensorflow-great-barrier-reef/train_with_added_GT.csv\",index=False)"
   ]
  },
  {
   "cell_type": "code",
   "execution_count": null,
   "id": "4d7beae1",
   "metadata": {},
   "outputs": [],
   "source": []
  },
  {
   "cell_type": "markdown",
   "id": "6c64488e",
   "metadata": {},
   "source": [
    "# Improve Tracking"
   ]
  },
  {
   "cell_type": "code",
   "execution_count": null,
   "id": "dd8cf45f",
   "metadata": {},
   "outputs": [],
   "source": [
    "# tracking needs to be improved! especially when the camera moves fast"
   ]
  },
  {
   "cell_type": "code",
   "execution_count": null,
   "id": "206a804b",
   "metadata": {
    "ExecuteTime": {
     "end_time": "2022-02-06T23:21:16.747023Z",
     "start_time": "2022-02-06T23:21:16.675854Z"
    }
   },
   "outputs": [],
   "source": [
    "??Tracker"
   ]
  },
  {
   "cell_type": "code",
   "execution_count": null,
   "id": "5a188120",
   "metadata": {
    "ExecuteTime": {
     "end_time": "2022-02-06T23:38:12.551031Z",
     "start_time": "2022-02-06T23:38:12.439402Z"
    }
   },
   "outputs": [],
   "source": [
    "iou_thr = 0.4\n",
    "skip_box_thr = 0.22\n",
    "wbf_models =[\"0204_yolov5s6_B\", '0205_yolov5m6_B_LS02']\n",
    "df[\"wbf_noTrack_pred\"] = None\n",
    "frame_id = 0\n",
    "tracker = Tracker(\n",
    "    distance_function=euclidean_distance, \n",
    "    distance_threshold=5,\n",
    "    hit_inertia_min=3,\n",
    "    hit_inertia_max=6,\n",
    "    initialization_delay=2,\n",
    ")                      \n",
    "for i, idx in enumerate(df.query(\"sequence == 18048\").index):\n",
    "    row = df.loc[idx]\n",
    "    bboxes_l = []\n",
    "    confs_l = []    \n",
    "    for model_version in wbf_models:\n",
    "        BEST_CONF = best_conf_dict[model_version]\n",
    "        pred_col = \"pred_\" + model_version \n",
    "        prd_bboxs = row[pred_col]\n",
    "        prd_bboxs = [p for p in prd_bboxs if p[0] >= BEST_CONF]\n",
    "        bboxes, confis = [p[1:] for p in prd_bboxs], [p[0] for p in prd_bboxs]    \n",
    "        bboxes = np.array(bboxes,dtype=np.float64)\n",
    "        bboxes_l.append(bboxes)\n",
    "        confs_l.append(confis)\n",
    "    bboxes_l = np.array(bboxes_l)\n",
    "    wbf_boxes, wbf_confs, _ = run_wbf(bboxes_l, confs_l, iou_thr, skip_box_thr)\n",
    "    df.at[idx, \"wbf_noTrack_pred\"] = [[wbf_confs[i]] + wbf_boxes[i].tolist() for i in range(len(wbf_boxes))]\n",
    "    \n",
    "    predictions = tracking_function(tracker, frame_id, wbf_boxes, wbf_confs, 0)\n",
    "    prd_bboxs_tracking =  [[float(p) for p in pred.split(\" \")] for pred in predictions]\n",
    "    df.at[idx, \"wbf_pred\"] = prd_bboxs_tracking\n",
    "\n",
    "    frame_id += 1"
   ]
  },
  {
   "cell_type": "code",
   "execution_count": null,
   "id": "177be38f",
   "metadata": {},
   "outputs": [],
   "source": []
  },
  {
   "cell_type": "code",
   "execution_count": null,
   "id": "ef4d1c82",
   "metadata": {},
   "outputs": [],
   "source": []
  },
  {
   "cell_type": "code",
   "execution_count": null,
   "id": "9a0fdac5",
   "metadata": {},
   "outputs": [],
   "source": []
  },
  {
   "cell_type": "code",
   "execution_count": null,
   "id": "0c84f6d3",
   "metadata": {},
   "outputs": [],
   "source": []
  },
  {
   "cell_type": "code",
   "execution_count": null,
   "id": "335b8451",
   "metadata": {},
   "outputs": [],
   "source": []
  },
  {
   "cell_type": "code",
   "execution_count": null,
   "id": "235c007c",
   "metadata": {},
   "outputs": [],
   "source": []
  },
  {
   "cell_type": "code",
   "execution_count": null,
   "id": "59486e13",
   "metadata": {
    "ExecuteTime": {
     "end_time": "2022-02-06T23:38:16.047659Z",
     "start_time": "2022-02-06T23:38:16.027535Z"
    }
   },
   "outputs": [],
   "source": [
    "seq_check = 18048\n",
    "df_check = df.query(\"sequence == @seq_check\").copy()"
   ]
  },
  {
   "cell_type": "code",
   "execution_count": null,
   "id": "9fbad321",
   "metadata": {
    "ExecuteTime": {
     "end_time": "2022-02-06T23:38:16.945782Z",
     "start_time": "2022-02-06T23:38:16.923732Z"
    }
   },
   "outputs": [],
   "source": [
    "df_check[\"pred_track_num\"] = df_check[\"wbf_pred\"].apply(len)\n",
    "df_check[\"pred_notrack_num\"] = df_check[\"wbf_noTrack_pred\"].apply(len)"
   ]
  },
  {
   "cell_type": "code",
   "execution_count": null,
   "id": "1f611161",
   "metadata": {
    "ExecuteTime": {
     "end_time": "2022-02-06T23:38:17.662168Z",
     "start_time": "2022-02-06T23:38:17.637384Z"
    }
   },
   "outputs": [],
   "source": [
    "df_check[[\"video_frame\",\"num_bbox\",\"pred_track_num\",\"pred_notrack_num\"]].iloc[20:30]\n",
    "## 11851 is where the things go wrong"
   ]
  },
  {
   "cell_type": "markdown",
   "id": "a3168e38",
   "metadata": {},
   "source": [
    "# Similarity"
   ]
  },
  {
   "cell_type": "code",
   "execution_count": null,
   "id": "62411dc5",
   "metadata": {
    "ExecuteTime": {
     "end_time": "2022-02-07T01:00:07.335869Z",
     "start_time": "2022-02-07T01:00:07.318030Z"
    }
   },
   "outputs": [],
   "source": [
    "import image_similarity_measures\n",
    "from image_similarity_measures.quality_metrics import metric_functions"
   ]
  },
  {
   "cell_type": "code",
   "execution_count": null,
   "id": "095e534f",
   "metadata": {
    "ExecuteTime": {
     "end_time": "2022-02-07T01:00:07.353706Z",
     "start_time": "2022-02-07T01:00:07.336732Z"
    }
   },
   "outputs": [],
   "source": [
    "metric_functions"
   ]
  },
  {
   "cell_type": "code",
   "execution_count": null,
   "id": "3de286b8",
   "metadata": {
    "ExecuteTime": {
     "end_time": "2022-02-07T01:07:21.065284Z",
     "start_time": "2022-02-07T01:07:21.045668Z"
    }
   },
   "outputs": [],
   "source": [
    "df.groupby(\"sequence\").size().sort_values()"
   ]
  },
  {
   "cell_type": "code",
   "execution_count": null,
   "id": "fdc74fff",
   "metadata": {
    "ExecuteTime": {
     "end_time": "2022-02-07T01:17:22.463981Z",
     "start_time": "2022-02-07T01:17:09.809212Z"
    }
   },
   "outputs": [],
   "source": [
    "max_p = 255\n",
    "seq_check = [18048,17665,44160,29424]\n",
    "df_check = df.query(\"sequence in @seq_check\").copy()\n",
    "\n",
    "prev_image = cv2.imread(str(df.iloc[-1]['image_path']))\n",
    "for idx, row in tqdm(df_check.iterrows()):\n",
    "    curr_image = cv2.imread(str(row['image_path']))\n",
    "    for name, func in metric_functions.items():\n",
    "        if name in ['rmse']:\n",
    "            sim = func(curr_image, prev_image, max_p)\n",
    "        else:\n",
    "            continue\n",
    "        df_check.loc[idx, name] = sim\n",
    "    prev_image = curr_image"
   ]
  },
  {
   "cell_type": "code",
   "execution_count": null,
   "id": "76a2465c",
   "metadata": {
    "ExecuteTime": {
     "end_time": "2022-02-07T01:31:30.306905Z",
     "start_time": "2022-02-07T01:31:30.104005Z"
    }
   },
   "outputs": [],
   "source": [
    "fig, axes = plt.subplots(1,2,figsize=(18,9))\n",
    "axes[0].plot(df_check['rmse'].values)\n",
    "axes[0].twinx().plot(np.diff(df_check['sequence']) != 0, color='red' )\n",
    "axes[1].plot(np.abs(np.diff(df_check['rmse'].values)))\n",
    "#axes[1].twinx().plot(np.diff(df_check['sequence']) != 0, color='red' )\n",
    "plt.show()"
   ]
  },
  {
   "cell_type": "code",
   "execution_count": null,
   "id": "284429e2",
   "metadata": {
    "ExecuteTime": {
     "end_time": "2022-02-07T01:30:10.799870Z",
     "start_time": "2022-02-07T01:19:26.184922Z"
    }
   },
   "outputs": [],
   "source": [
    "prev_image = cv2.imread(str(df.iloc[-1]['image_path']))\n",
    "for idx, row in tqdm(df.iterrows()):\n",
    "    curr_image = cv2.imread(str(row['image_path']))\n",
    "    for name, func in metric_functions.items():\n",
    "        if name in ['rmse']:\n",
    "            sim = func(curr_image, prev_image, max_p)\n",
    "        else:\n",
    "            continue\n",
    "        df.loc[idx, name] = sim\n",
    "    prev_image = curr_image"
   ]
  },
  {
   "cell_type": "code",
   "execution_count": null,
   "id": "14334966",
   "metadata": {
    "ExecuteTime": {
     "end_time": "2022-02-07T01:32:45.050870Z",
     "start_time": "2022-02-07T01:32:44.792077Z"
    }
   },
   "outputs": [],
   "source": [
    "fig, axes = plt.subplots(1,2,figsize=(18,9))\n",
    "axes[0].plot(df['rmse'].values)\n",
    "axes[0].twinx().plot(np.diff(df['sequence']) != 0, color='red' )\n",
    "axes[1].plot(np.abs(np.diff(df['rmse'].values)))\n",
    "#axes[1].twinx().plot(np.diff(df_check['sequence']) != 0, color='red' )\n",
    "plt.show()"
   ]
  },
  {
   "cell_type": "code",
   "execution_count": null,
   "id": "5c003d0d",
   "metadata": {
    "ExecuteTime": {
     "end_time": "2022-02-07T01:35:49.710568Z",
     "start_time": "2022-02-07T01:35:49.685123Z"
    }
   },
   "outputs": [],
   "source": [
    "df['rmse_diff_abs'] = df['rmse'].diff().abs()\n",
    "df_seq_place = df.loc[np.diff(df['sequence'], prepend=0) != 0].copy()"
   ]
  },
  {
   "cell_type": "code",
   "execution_count": null,
   "id": "7dd66ea9",
   "metadata": {
    "ExecuteTime": {
     "end_time": "2022-02-07T01:37:35.077258Z",
     "start_time": "2022-02-07T01:37:35.057405Z"
    }
   },
   "outputs": [],
   "source": [
    "df_seq_place[['sequence','rmse_diff_abs']]#.min()"
   ]
  },
  {
   "cell_type": "code",
   "execution_count": null,
   "id": "99490e1b",
   "metadata": {},
   "outputs": [],
   "source": [
    "prev_img"
   ]
  }
 ],
 "metadata": {
  "kernelspec": {
   "display_name": "base",
   "language": "python",
   "name": "base"
  },
  "language_info": {
   "codemirror_mode": {
    "name": "ipython",
    "version": 3
   },
   "file_extension": ".py",
   "mimetype": "text/x-python",
   "name": "python",
   "nbconvert_exporter": "python",
   "pygments_lexer": "ipython3",
   "version": "3.8.10"
  },
  "toc": {
   "base_numbering": 1,
   "nav_menu": {},
   "number_sections": true,
   "sideBar": true,
   "skip_h1_title": false,
   "title_cell": "Table of Contents",
   "title_sidebar": "Contents",
   "toc_cell": false,
   "toc_position": {
    "height": "calc(100% - 180px)",
    "left": "10px",
    "top": "150px",
    "width": "384px"
   },
   "toc_section_display": true,
   "toc_window_display": true
  }
 },
 "nbformat": 4,
 "nbformat_minor": 5
}
