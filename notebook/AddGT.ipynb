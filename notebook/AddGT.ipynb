{
 "cells": [
  {
   "cell_type": "code",
   "execution_count": 1,
   "id": "cc006a43",
   "metadata": {
    "ExecuteTime": {
     "end_time": "2022-02-09T02:56:20.368413Z",
     "start_time": "2022-02-09T02:56:20.351180Z"
    }
   },
   "outputs": [
    {
     "data": {
      "text/html": [
       "<style>.container { width:100% !important; }</style>"
      ],
      "text/plain": [
       "<IPython.core.display.HTML object>"
      ]
     },
     "metadata": {},
     "output_type": "display_data"
    }
   ],
   "source": [
    "%load_ext autoreload\n",
    "%autoreload 2\n",
    "\n",
    "from IPython.core.display import display, HTML\n",
    "display(HTML(\"<style>.container { width:100% !important; }</style>\"))"
   ]
  },
  {
   "cell_type": "code",
   "execution_count": 2,
   "id": "6f42fbd9",
   "metadata": {
    "ExecuteTime": {
     "end_time": "2022-02-09T02:56:22.155663Z",
     "start_time": "2022-02-09T02:56:20.592924Z"
    }
   },
   "outputs": [],
   "source": [
    "import sys\n",
    "from itertools import groupby\n",
    "import numpy as np\n",
    "import cv2\n",
    "from tqdm.notebook import tqdm\n",
    "tqdm.pandas()\n",
    "import pandas as pd\n",
    "import os\n",
    "from glob import glob\n",
    "from multiprocessing import Pool\n",
    "import matplotlib.pyplot as plt\n",
    "# import cupy as cp\n",
    "import ast\n",
    "from pathlib import Path\n",
    "import pickle5 as pickle\n",
    "import torch\n",
    "\n",
    "import shutil\n",
    "import sys\n",
    "sys.path.append(\"../src/\")\n",
    "sys.path.append(\"../yolov5/\")\n",
    "\n",
    "import util\n",
    "\n",
    "from joblib import Parallel, delayed\n",
    "\n",
    "from IPython.display import display, HTML\n",
    "from sahi.model import Yolov5DetectionModel\n",
    "from sahi.utils.cv import read_image\n",
    "from sahi.utils.file import download_from_url\n",
    "from sahi.predict import get_prediction, get_sliced_prediction, predict\n",
    "from ensemble_boxes import weighted_boxes_fusion\n",
    "\n",
    "import albumentations as A\n",
    "\n",
    "from IPython.display import Image\n",
    "from matplotlib import animation, rc\n",
    "rc('animation', html='jshtml')"
   ]
  },
  {
   "cell_type": "code",
   "execution_count": 3,
   "id": "158b44b2",
   "metadata": {
    "ExecuteTime": {
     "end_time": "2022-02-09T02:56:22.211818Z",
     "start_time": "2022-02-09T02:56:22.157005Z"
    }
   },
   "outputs": [],
   "source": [
    "from norfair import Detection, Tracker\n",
    "\n",
    "# Helper to convert bbox in format [x_min, y_min, x_max, y_max, score] to norfair.Detection class\n",
    "def to_norfair(detects, frame_id):\n",
    "    result = []\n",
    "    for x_min, y_min, x_max, y_max, score in detects:\n",
    "        xc, yc = (x_min + x_max) / 2, (y_min + y_max) / 2\n",
    "        w, h = x_max - x_min, y_max - y_min\n",
    "        result.append(Detection(points=np.array([xc, yc]), scores=np.array([score]), data=np.array([w, h, frame_id])))\n",
    "        \n",
    "    return result\n",
    "\n",
    "def euclidean_distance(detection, tracked_object):\n",
    "    return np.linalg.norm(detection.points - tracked_object.estimate)\n",
    "\n",
    "def tracking_function(tracker, frame_id, bboxes, scores, best_conf, num_prev_bbox = None):\n",
    "    \n",
    "    detects = []\n",
    "    predictions = []\n",
    "    \n",
    "    if len(scores)>0:\n",
    "        for i in range(len(bboxes)):\n",
    "            # remember to check\n",
    "            if scores[i] <= best_conf:\n",
    "                continue\n",
    "            box = bboxes[i]\n",
    "            score = scores[i]\n",
    "            x_min = int(box[0])\n",
    "            y_min = int(box[1])\n",
    "            bbox_width = int(box[2])\n",
    "            bbox_height = int(box[3])\n",
    "            detects.append([x_min, y_min, x_min+bbox_width, y_min+bbox_height, score])\n",
    "            predictions.append('{:.2f} {} {} {} {}'.format(score, x_min, y_min, bbox_width, bbox_height))\n",
    "    # Update tracks using detects from current frame\n",
    "    tracked_objects = tracker.update(detections=to_norfair(detects, frame_id))\n",
    "    to_add_preds = []\n",
    "    for tobj in tracked_objects:\n",
    "        bbox_width, bbox_height, last_detected_frame_id = tobj.last_detection.data\n",
    "        if last_detected_frame_id == frame_id:  # Skip objects that were detected on current frame\n",
    "            continue\n",
    "        xc, yc = tobj.estimate[0]\n",
    "        x_min, y_min = int(round(xc - bbox_width / 2)), int(round(yc - bbox_height / 2))\n",
    "\n",
    "        #exclude those in the edge\n",
    "        if (x_min + bbox_width >= 1279) or (y_min + bbox_height) >= 719 or (x_min <= 1) or (y_min <= 1):\n",
    "            continue\n",
    "        score = tobj.last_detection.scores[0]            \n",
    "        to_add_preds.append('{:.2f} {} {} {} {}'.format(score, x_min, y_min, bbox_width, bbox_height))\n",
    "        #predictions.append('{:.2f} {} {} {} {}'.format(score, x_min, y_min, bbox_width, bbox_height))            \n",
    "        \n",
    "    if (num_prev_bbox is None or (num_prev_bbox - len(predictions) + 1) >= len(to_add_preds)):\n",
    "        predictions.extend(to_add_preds)\n",
    "        \n",
    "    return predictions"
   ]
  },
  {
   "cell_type": "code",
   "execution_count": 4,
   "id": "11c43ca4",
   "metadata": {
    "ExecuteTime": {
     "end_time": "2022-02-09T02:56:22.230454Z",
     "start_time": "2022-02-09T02:56:22.212632Z"
    }
   },
   "outputs": [],
   "source": [
    "from ensemble_boxes import weighted_boxes_fusion\n",
    "def run_wbf(bboxes, confs, iou_thr=0.5, skip_box_thr=0.00000001):\n",
    "    if len(bboxes) == 1:\n",
    "        return bboxes[0], confs[0], []   \n",
    "    else:\n",
    "        for i in range(len(bboxes)):\n",
    "            sub_bboxes = bboxes[i]\n",
    "            if len(sub_bboxes) > 0:\n",
    "                sub_bboxes[:,2:] = sub_bboxes[:,2:] + sub_bboxes[:,:2]\n",
    "                sub_bboxes[:,0] = sub_bboxes[:,0] / 1279.\n",
    "                sub_bboxes[:,1] = sub_bboxes[:,1] / 719.\n",
    "                sub_bboxes[:,2] = sub_bboxes[:,2] / 1279.\n",
    "                sub_bboxes[:,3] = sub_bboxes[:,3] / 719.\n",
    "            bboxes[i] = sub_bboxes    \n",
    "    labels = [np.ones(len(conf)) for conf in confs]\n",
    "    boxes, scores, labels = weighted_boxes_fusion(bboxes, confs, labels, iou_thr=iou_thr, skip_box_thr=0.001, allows_overflow=True, conf_type='avg')\n",
    "    if len(boxes) > 0:\n",
    "        boxes[:,0] = boxes[:,0] * 1279.\n",
    "        boxes[:,1] = boxes[:,1] * 719.\n",
    "        boxes[:,2] = boxes[:,2] * 1279.\n",
    "        boxes[:,3] = boxes[:,3] * 719.\n",
    "        boxes[:,2:] = boxes[:,2:] - boxes[:,:2]\n",
    "        \n",
    "    boxes = [box for i,box in enumerate(boxes) if scores[i] >= skip_box_thr]\n",
    "    scores = [conf for conf in scores if conf >= skip_box_thr]\n",
    "\n",
    "    return boxes, scores, labels"
   ]
  },
  {
   "cell_type": "code",
   "execution_count": 5,
   "id": "4a40da1b",
   "metadata": {
    "ExecuteTime": {
     "end_time": "2022-02-09T02:56:22.258055Z",
     "start_time": "2022-02-09T02:56:22.231640Z"
    }
   },
   "outputs": [],
   "source": [
    "from IPython.display import Image\n",
    "from PIL import Image as Img\n",
    "import subprocess\n",
    "#This code I found in: https://www.kaggle.com/bamps53/create-annotated-video Thank you for sharing.\n",
    "out_dir = \"/home/vincent/Kaggle/data/tensorflow-great-barrier-reef/video_check/\"\n",
    "if not os.path.exists(out_dir):\n",
    "    os.makedirs(out_dir)\n",
    "\n",
    "def load_image(image_dir):\n",
    "    assert os.path.exists(image_dir), f'{image_dir} does not exist.'\n",
    "    img = cv2.imread(str(image_dir))\n",
    "    img = cv2.cvtColor(img, cv2.COLOR_BGR2RGB)\n",
    "    return img\n",
    "\n",
    "def load_image_with_annotations(image_dir, annotations):\n",
    "    img = load_image(image_dir)\n",
    "    if len(annotations) > 0:\n",
    "        for ann in annotations:\n",
    "            cv2.rectangle(img, (int(ann['x']), int(ann['y'])),\n",
    "                (int(ann['x'] + ann['width']), int(ann['y'] + ann['height'])),\n",
    "                (0, 255, 0), thickness=3)\n",
    "    return img\n",
    "\n",
    "def show_prediction(img, bboxes, scores, show = True):\n",
    "    colors = [(0, 0, 255)]\n",
    "\n",
    "    obj_names = [\"s\"]\n",
    "\n",
    "    for box, score in zip(bboxes, scores):\n",
    "        cv2.rectangle(img, (int(box[0]), int(box[1])), (int(box[0] + box[2]), int(box[1] + box[3])), (255,0,0), 2)\n",
    "        cv2.putText(img, f'{score:.2f}', (int(box[0]), int(box[1])-3), cv2.FONT_HERSHEY_SIMPLEX, 0.5, (255,0,0), 2, cv2.LINE_AA)\n",
    "    if show:\n",
    "        img = Img.fromarray(img).resize((1280, 720))\n",
    "    return img\n",
    "\n",
    "def save_bulk_images(df, video_id, sequence_id, pred_col, out_dir, best_conf, name=None, s_f=None, e_f=None):\n",
    "    width = 1280\n",
    "    height = 720\n",
    "    if name is None:\n",
    "        name = \"check_pics\"\n",
    "    \n",
    "    save_dir = f'{out_dir}/{name}/'\n",
    "    if not os.path.exists(save_dir):\n",
    "        os.makedirs(save_dir)\n",
    "    \n",
    "    # I just generate ony part of video\n",
    "    if video_id is not None and sequence_id is not None:\n",
    "        query = 'video_id == {} and sequence == {}'.format(video_id, sequence_id)\n",
    "        if s_f is not None:\n",
    "            query = query + 'and video_frame >= {} and video_frame <= {}'.format(s_f, e_f)\n",
    "        print(query)\n",
    "        video_df = df.query(query)\n",
    "    else:\n",
    "        video_df = df\n",
    "    print(video_df.shape)\n",
    "    for _, row in tqdm(video_df.iterrows(), total=len(video_df)):\n",
    "        video_id = row.video_id\n",
    "        video_frame = row.video_frame\n",
    "        annotations = row.annotations\n",
    "        img_file = row.image_path\n",
    "        img = load_image_with_annotations(img_file, annotations)\n",
    "        preds = row[pred_col]\n",
    "        best_conf = 0\n",
    "        bboxes = [preds[i][1:] for i in range(len(preds)) if preds[i][0] >= best_conf]\n",
    "        confis = [preds[i][0] for i in range(len(preds)) if preds[i][0] >= best_conf]        \n",
    "        img = show_prediction(img, bboxes, confis, show=False)\n",
    "        cv2.putText(img, f'{video_id}-{video_frame}', (10,70), cv2.FONT_HERSHEY_SIMPLEX, 1, (255,0,0), 1, cv2.LINE_AA)\n",
    "        img = cv2.cvtColor(img, cv2.COLOR_BGR2RGB)\n",
    "        cv2.imwrite(save_dir + \"{}.jpg\".format(video_frame), img)    \n",
    "    \n",
    "def make_video(df, video_id, sequence_id, pred_col, out_dir, best_conf, name=None, s_f=None, e_f=None):\n",
    "    fps = 15\n",
    "    width = 1280\n",
    "    height = 720\n",
    "    if name is None:\n",
    "        name = \"video\"\n",
    "    \n",
    "    save_path = f'{out_dir}/{name}.mp4'\n",
    "    tmp_path =  f'{out_dir}/tmp-{name}.mp4'\n",
    "    output_video = cv2.VideoWriter(tmp_path, cv2.VideoWriter_fourcc(*\"MP4V\"), fps, (width, height),)\n",
    "    \n",
    "    # I just generate ony part of video\n",
    "    if video_id is not None and sequence_id is not None:\n",
    "        query = 'video_id == {} and sequence == {}'.format(video_id, sequence_id)\n",
    "        if s_f is not None:\n",
    "            query = query + 'and video_frame >= {} and video_frame <= {}'.format(s_f, e_f)\n",
    "        print(query)\n",
    "        video_df = df.query(query)\n",
    "    else:\n",
    "        video_df = df\n",
    "    print(video_df.shape)\n",
    "    for _, row in tqdm(video_df.iterrows(), total=len(video_df)):\n",
    "        video_id = row.video_id\n",
    "        video_frame = row.video_frame\n",
    "        annotations = row.annotations\n",
    "        img_file = row.image_path\n",
    "        img = load_image_with_annotations(img_file, annotations)\n",
    "        preds = row[pred_col]\n",
    "        best_conf = 0\n",
    "        bboxes = [preds[i][1:] for i in range(len(preds)) if preds[i][0] >= best_conf]\n",
    "        confis = [preds[i][0] for i in range(len(preds)) if preds[i][0] >= best_conf]        \n",
    "        img = show_prediction(img, bboxes, confis, show=False)\n",
    "        cv2.putText(img, f'{video_id}-{video_frame}', (10,70), cv2.FONT_HERSHEY_SIMPLEX, 1, (255,0,0), 1, cv2.LINE_AA)\n",
    "        img = cv2.cvtColor(img, cv2.COLOR_BGR2RGB)\n",
    "        output_video.write(img)\n",
    "        \n",
    "    output_video.release()\n",
    "\n",
    "    if os.path.exists(save_path):\n",
    "        os.remove(save_path)\n",
    "    subprocess.run(\n",
    "        [\"ffmpeg\", \"-i\", tmp_path, \"-crf\", \"18\", \"-preset\", \"veryfast\", \"-vcodec\", \"libx264\", save_path]\n",
    "    )\n",
    "    os.remove(tmp_path)"
   ]
  },
  {
   "cell_type": "code",
   "execution_count": 6,
   "id": "48042253",
   "metadata": {
    "ExecuteTime": {
     "end_time": "2022-02-09T02:56:22.276798Z",
     "start_time": "2022-02-09T02:56:22.258871Z"
    }
   },
   "outputs": [],
   "source": [
    "from base64 import b64encode\n",
    "def play(filename):\n",
    "    html = ''\n",
    "    video = open(filename,'rb').read()\n",
    "    src = 'data:video/mp4;base64,' + b64encode(video).decode()\n",
    "    html += '<video width=1280 controls autoplay loop><source src=\"%s\" type=\"video/mp4\"></video>' % src \n",
    "    return HTML(html)"
   ]
  },
  {
   "cell_type": "markdown",
   "id": "50554086",
   "metadata": {},
   "source": [
    "# Read Data"
   ]
  },
  {
   "cell_type": "code",
   "execution_count": 7,
   "id": "27a994f8",
   "metadata": {
    "ExecuteTime": {
     "end_time": "2022-02-09T02:56:23.528569Z",
     "start_time": "2022-02-09T02:56:23.487586Z"
    }
   },
   "outputs": [],
   "source": [
    "INPUT_DIR = Path(\"../../data/tensorflow-great-barrier-reef/\")\n",
    "df_origin = pd.read_csv(INPUT_DIR / \"train.csv\")"
   ]
  },
  {
   "cell_type": "code",
   "execution_count": 8,
   "id": "d8cae5ee",
   "metadata": {
    "ExecuteTime": {
     "end_time": "2022-02-09T02:56:23.727018Z",
     "start_time": "2022-02-09T02:56:23.678462Z"
    }
   },
   "outputs": [
    {
     "data": {
      "text/plain": [
       "(23501, 8)"
      ]
     },
     "execution_count": 8,
     "metadata": {},
     "output_type": "execute_result"
    }
   ],
   "source": [
    "\n",
    "df = pd.read_csv(INPUT_DIR / \"train.csv\")\n",
    "folds = util.load_pickle(\"../input/fold_test_2.pkl\")\n",
    "df[\"fold\"] = df[\"sequence\"].apply(lambda x: folds[x])\n",
    "highFP_df = pd.read_csv('../input/df_highFPNoBB.csv')\n",
    "df = pd.merge(df, highFP_df[['video_id',\"video_frame\",\"highFBNoBB\"]], on=[\"video_id\",\"video_frame\"], how='left')\n",
    "df[\"highFBNoBB\"].fillna(False, inplace=True)\n",
    "\n",
    "df.shape"
   ]
  },
  {
   "cell_type": "code",
   "execution_count": 9,
   "id": "5981f099",
   "metadata": {
    "ExecuteTime": {
     "end_time": "2022-02-09T02:56:44.324479Z",
     "start_time": "2022-02-09T02:56:23.884653Z"
    }
   },
   "outputs": [
    {
     "data": {
      "application/vnd.jupyter.widget-view+json": {
       "model_id": "06c5d581b4f74c4ea4e7cc987b302e29",
       "version_major": 2,
       "version_minor": 0
      },
      "text/plain": [
       "  0%|          | 0/23501 [00:00<?, ?it/s]"
      ]
     },
     "metadata": {},
     "output_type": "display_data"
    },
    {
     "data": {
      "application/vnd.jupyter.widget-view+json": {
       "model_id": "3113b80d07b74d1a996062c0dcaba331",
       "version_major": 2,
       "version_minor": 0
      },
      "text/plain": [
       "  0%|          | 0/23501 [00:00<?, ?it/s]"
      ]
     },
     "metadata": {},
     "output_type": "display_data"
    },
    {
     "data": {
      "application/vnd.jupyter.widget-view+json": {
       "model_id": "e135a814f9304a7b9a027a028490e2cf",
       "version_major": 2,
       "version_minor": 0
      },
      "text/plain": [
       "  0%|          | 0/23501 [00:00<?, ?it/s]"
      ]
     },
     "metadata": {},
     "output_type": "display_data"
    },
    {
     "name": "stdout",
     "output_type": "stream",
     "text": [
      "No BBox: 79.07% | With BBox: 20.93%\n"
     ]
    }
   ],
   "source": [
    "data_param = {'root_dir':INPUT_DIR,'label_dir':INPUT_DIR / \"labels\"}\n",
    "df = df.progress_apply(lambda x: util.get_path(x, data_param, infer=True), axis=1)\n",
    "df['annotations'] = df['annotations'].progress_apply(lambda x: ast.literal_eval(x))\n",
    "df[\"real_bbox\"] = df[\"annotations\"].apply(lambda annots: [list(annot.values()) for annot in annots])\n",
    "df['num_bbox'] = df['annotations'].progress_apply(lambda x: len(x))\n",
    "data = (df.num_bbox>0).value_counts(normalize=True)*100\n",
    "print(f\"No BBox: {data[0]:0.2f}% | With BBox: {data[1]:0.2f}%\")"
   ]
  },
  {
   "cell_type": "code",
   "execution_count": 10,
   "id": "cc03eeaa",
   "metadata": {
    "ExecuteTime": {
     "end_time": "2022-02-09T02:56:44.353376Z",
     "start_time": "2022-02-09T02:56:44.325779Z"
    }
   },
   "outputs": [
    {
     "data": {
      "text/plain": [
       "False    19173\n",
       "True      4328\n",
       "Name: train, dtype: int64"
      ]
     },
     "execution_count": 10,
     "metadata": {},
     "output_type": "execute_result"
    }
   ],
   "source": [
    "df['train'] = False\n",
    "df.loc[df.query(\"fold == 0 and (num_bbox > 0 or highFBNoBB)\").index, 'train'] = True\n",
    "df['train'].value_counts()"
   ]
  },
  {
   "cell_type": "code",
   "execution_count": 11,
   "id": "b8bd03a7",
   "metadata": {
    "ExecuteTime": {
     "end_time": "2022-02-09T02:56:44.377291Z",
     "start_time": "2022-02-09T02:56:44.354549Z"
    }
   },
   "outputs": [
    {
     "data": {
      "text/plain": [
       "fold\n",
       "0    0.549803\n",
       "1    0.332484\n",
       "dtype: float64"
      ]
     },
     "execution_count": 11,
     "metadata": {},
     "output_type": "execute_result"
    }
   ],
   "source": [
    "# COTS per frame\n",
    "df.groupby(\"fold\").apply(lambda df: df[\"num_bbox\"].sum() / df.shape[0])"
   ]
  },
  {
   "cell_type": "code",
   "execution_count": 12,
   "id": "7f14626a",
   "metadata": {
    "ExecuteTime": {
     "end_time": "2022-02-09T02:56:44.395715Z",
     "start_time": "2022-02-09T02:56:44.378450Z"
    }
   },
   "outputs": [
    {
     "data": {
      "text/plain": [
       "0    0.799711\n",
       "1    0.200289\n",
       "Name: fold, dtype: float64"
      ]
     },
     "execution_count": 12,
     "metadata": {},
     "output_type": "execute_result"
    }
   ],
   "source": [
    "df['fold'].value_counts(normalize=True)"
   ]
  },
  {
   "cell_type": "code",
   "execution_count": 13,
   "id": "621b647e",
   "metadata": {
    "ExecuteTime": {
     "end_time": "2022-02-09T02:56:44.416850Z",
     "start_time": "2022-02-09T02:56:44.396432Z"
    }
   },
   "outputs": [
    {
     "data": {
      "text/html": [
       "<div>\n",
       "<style scoped>\n",
       "    .dataframe tbody tr th:only-of-type {\n",
       "        vertical-align: middle;\n",
       "    }\n",
       "\n",
       "    .dataframe tbody tr th {\n",
       "        vertical-align: top;\n",
       "    }\n",
       "\n",
       "    .dataframe thead th {\n",
       "        text-align: right;\n",
       "    }\n",
       "</style>\n",
       "<table border=\"1\" class=\"dataframe\">\n",
       "  <thead>\n",
       "    <tr style=\"text-align: right;\">\n",
       "      <th></th>\n",
       "      <th>video_id</th>\n",
       "      <th>sequence</th>\n",
       "      <th>video_frame</th>\n",
       "      <th>sequence_frame</th>\n",
       "      <th>image_id</th>\n",
       "      <th>annotations</th>\n",
       "      <th>fold</th>\n",
       "      <th>highFBNoBB</th>\n",
       "      <th>old_image_path</th>\n",
       "      <th>image_path</th>\n",
       "      <th>label_path</th>\n",
       "      <th>real_bbox</th>\n",
       "      <th>num_bbox</th>\n",
       "      <th>train</th>\n",
       "    </tr>\n",
       "  </thead>\n",
       "  <tbody>\n",
       "    <tr>\n",
       "      <th>0</th>\n",
       "      <td>0</td>\n",
       "      <td>40258</td>\n",
       "      <td>0</td>\n",
       "      <td>0</td>\n",
       "      <td>0-0</td>\n",
       "      <td>[]</td>\n",
       "      <td>0</td>\n",
       "      <td>False</td>\n",
       "      <td>../../data/tensorflow-great-barrier-reef/train...</td>\n",
       "      <td>../../data/tensorflow-great-barrier-reef/train...</td>\n",
       "      <td>../../data/tensorflow-great-barrier-reef/label...</td>\n",
       "      <td>[]</td>\n",
       "      <td>0</td>\n",
       "      <td>False</td>\n",
       "    </tr>\n",
       "    <tr>\n",
       "      <th>1</th>\n",
       "      <td>0</td>\n",
       "      <td>40258</td>\n",
       "      <td>1</td>\n",
       "      <td>1</td>\n",
       "      <td>0-1</td>\n",
       "      <td>[]</td>\n",
       "      <td>0</td>\n",
       "      <td>False</td>\n",
       "      <td>../../data/tensorflow-great-barrier-reef/train...</td>\n",
       "      <td>../../data/tensorflow-great-barrier-reef/train...</td>\n",
       "      <td>../../data/tensorflow-great-barrier-reef/label...</td>\n",
       "      <td>[]</td>\n",
       "      <td>0</td>\n",
       "      <td>False</td>\n",
       "    </tr>\n",
       "    <tr>\n",
       "      <th>2</th>\n",
       "      <td>0</td>\n",
       "      <td>40258</td>\n",
       "      <td>2</td>\n",
       "      <td>2</td>\n",
       "      <td>0-2</td>\n",
       "      <td>[]</td>\n",
       "      <td>0</td>\n",
       "      <td>False</td>\n",
       "      <td>../../data/tensorflow-great-barrier-reef/train...</td>\n",
       "      <td>../../data/tensorflow-great-barrier-reef/train...</td>\n",
       "      <td>../../data/tensorflow-great-barrier-reef/label...</td>\n",
       "      <td>[]</td>\n",
       "      <td>0</td>\n",
       "      <td>False</td>\n",
       "    </tr>\n",
       "    <tr>\n",
       "      <th>3</th>\n",
       "      <td>0</td>\n",
       "      <td>40258</td>\n",
       "      <td>3</td>\n",
       "      <td>3</td>\n",
       "      <td>0-3</td>\n",
       "      <td>[]</td>\n",
       "      <td>0</td>\n",
       "      <td>False</td>\n",
       "      <td>../../data/tensorflow-great-barrier-reef/train...</td>\n",
       "      <td>../../data/tensorflow-great-barrier-reef/train...</td>\n",
       "      <td>../../data/tensorflow-great-barrier-reef/label...</td>\n",
       "      <td>[]</td>\n",
       "      <td>0</td>\n",
       "      <td>False</td>\n",
       "    </tr>\n",
       "    <tr>\n",
       "      <th>4</th>\n",
       "      <td>0</td>\n",
       "      <td>40258</td>\n",
       "      <td>4</td>\n",
       "      <td>4</td>\n",
       "      <td>0-4</td>\n",
       "      <td>[]</td>\n",
       "      <td>0</td>\n",
       "      <td>False</td>\n",
       "      <td>../../data/tensorflow-great-barrier-reef/train...</td>\n",
       "      <td>../../data/tensorflow-great-barrier-reef/train...</td>\n",
       "      <td>../../data/tensorflow-great-barrier-reef/label...</td>\n",
       "      <td>[]</td>\n",
       "      <td>0</td>\n",
       "      <td>False</td>\n",
       "    </tr>\n",
       "  </tbody>\n",
       "</table>\n",
       "</div>"
      ],
      "text/plain": [
       "   video_id  sequence  video_frame  sequence_frame image_id annotations  fold  \\\n",
       "0         0     40258            0               0      0-0          []     0   \n",
       "1         0     40258            1               1      0-1          []     0   \n",
       "2         0     40258            2               2      0-2          []     0   \n",
       "3         0     40258            3               3      0-3          []     0   \n",
       "4         0     40258            4               4      0-4          []     0   \n",
       "\n",
       "   highFBNoBB                                     old_image_path  \\\n",
       "0       False  ../../data/tensorflow-great-barrier-reef/train...   \n",
       "1       False  ../../data/tensorflow-great-barrier-reef/train...   \n",
       "2       False  ../../data/tensorflow-great-barrier-reef/train...   \n",
       "3       False  ../../data/tensorflow-great-barrier-reef/train...   \n",
       "4       False  ../../data/tensorflow-great-barrier-reef/train...   \n",
       "\n",
       "                                          image_path  \\\n",
       "0  ../../data/tensorflow-great-barrier-reef/train...   \n",
       "1  ../../data/tensorflow-great-barrier-reef/train...   \n",
       "2  ../../data/tensorflow-great-barrier-reef/train...   \n",
       "3  ../../data/tensorflow-great-barrier-reef/train...   \n",
       "4  ../../data/tensorflow-great-barrier-reef/train...   \n",
       "\n",
       "                                          label_path real_bbox  num_bbox  \\\n",
       "0  ../../data/tensorflow-great-barrier-reef/label...        []         0   \n",
       "1  ../../data/tensorflow-great-barrier-reef/label...        []         0   \n",
       "2  ../../data/tensorflow-great-barrier-reef/label...        []         0   \n",
       "3  ../../data/tensorflow-great-barrier-reef/label...        []         0   \n",
       "4  ../../data/tensorflow-great-barrier-reef/label...        []         0   \n",
       "\n",
       "   train  \n",
       "0  False  \n",
       "1  False  \n",
       "2  False  \n",
       "3  False  \n",
       "4  False  "
      ]
     },
     "execution_count": 13,
     "metadata": {},
     "output_type": "execute_result"
    }
   ],
   "source": [
    "df.head()"
   ]
  },
  {
   "cell_type": "markdown",
   "id": "1acc555d",
   "metadata": {},
   "source": [
    "# Add OOF prediction"
   ]
  },
  {
   "cell_type": "code",
   "execution_count": 14,
   "id": "045e4d3a",
   "metadata": {
    "ExecuteTime": {
     "end_time": "2022-02-09T02:56:44.615015Z",
     "start_time": "2022-02-09T02:56:44.417568Z"
    }
   },
   "outputs": [
    {
     "data": {
      "text/html": [
       "<div>\n",
       "<style scoped>\n",
       "    .dataframe tbody tr th:only-of-type {\n",
       "        vertical-align: middle;\n",
       "    }\n",
       "\n",
       "    .dataframe tbody tr th {\n",
       "        vertical-align: top;\n",
       "    }\n",
       "\n",
       "    .dataframe thead th {\n",
       "        text-align: right;\n",
       "    }\n",
       "</style>\n",
       "<table border=\"1\" class=\"dataframe\">\n",
       "  <thead>\n",
       "    <tr style=\"text-align: right;\">\n",
       "      <th></th>\n",
       "      <th>video_id</th>\n",
       "      <th>sequence</th>\n",
       "      <th>video_frame</th>\n",
       "      <th>sequence_frame</th>\n",
       "      <th>image_id</th>\n",
       "      <th>annotations</th>\n",
       "      <th>fold</th>\n",
       "      <th>old_image_path</th>\n",
       "      <th>image_path</th>\n",
       "      <th>label_path</th>\n",
       "      <th>real_bbox</th>\n",
       "      <th>num_bbox</th>\n",
       "      <th>notrack_pred</th>\n",
       "    </tr>\n",
       "  </thead>\n",
       "  <tbody>\n",
       "    <tr>\n",
       "      <th>480</th>\n",
       "      <td>0</td>\n",
       "      <td>45518</td>\n",
       "      <td>873</td>\n",
       "      <td>0</td>\n",
       "      <td>0-873</td>\n",
       "      <td>[]</td>\n",
       "      <td>1</td>\n",
       "      <td>../../data/tensorflow-great-barrier-reef/train...</td>\n",
       "      <td>../../data/tensorflow-great-barrier-reef/train...</td>\n",
       "      <td>../../data/tensorflow-great-barrier-reef/label...</td>\n",
       "      <td>[]</td>\n",
       "      <td>0</td>\n",
       "      <td>[]</td>\n",
       "    </tr>\n",
       "    <tr>\n",
       "      <th>481</th>\n",
       "      <td>0</td>\n",
       "      <td>45518</td>\n",
       "      <td>874</td>\n",
       "      <td>1</td>\n",
       "      <td>0-874</td>\n",
       "      <td>[]</td>\n",
       "      <td>1</td>\n",
       "      <td>../../data/tensorflow-great-barrier-reef/train...</td>\n",
       "      <td>../../data/tensorflow-great-barrier-reef/train...</td>\n",
       "      <td>../../data/tensorflow-great-barrier-reef/label...</td>\n",
       "      <td>[]</td>\n",
       "      <td>0</td>\n",
       "      <td>[]</td>\n",
       "    </tr>\n",
       "    <tr>\n",
       "      <th>482</th>\n",
       "      <td>0</td>\n",
       "      <td>45518</td>\n",
       "      <td>875</td>\n",
       "      <td>2</td>\n",
       "      <td>0-875</td>\n",
       "      <td>[]</td>\n",
       "      <td>1</td>\n",
       "      <td>../../data/tensorflow-great-barrier-reef/train...</td>\n",
       "      <td>../../data/tensorflow-great-barrier-reef/train...</td>\n",
       "      <td>../../data/tensorflow-great-barrier-reef/label...</td>\n",
       "      <td>[]</td>\n",
       "      <td>0</td>\n",
       "      <td>[]</td>\n",
       "    </tr>\n",
       "    <tr>\n",
       "      <th>483</th>\n",
       "      <td>0</td>\n",
       "      <td>45518</td>\n",
       "      <td>876</td>\n",
       "      <td>3</td>\n",
       "      <td>0-876</td>\n",
       "      <td>[]</td>\n",
       "      <td>1</td>\n",
       "      <td>../../data/tensorflow-great-barrier-reef/train...</td>\n",
       "      <td>../../data/tensorflow-great-barrier-reef/train...</td>\n",
       "      <td>../../data/tensorflow-great-barrier-reef/label...</td>\n",
       "      <td>[]</td>\n",
       "      <td>0</td>\n",
       "      <td>[]</td>\n",
       "    </tr>\n",
       "    <tr>\n",
       "      <th>484</th>\n",
       "      <td>0</td>\n",
       "      <td>45518</td>\n",
       "      <td>877</td>\n",
       "      <td>4</td>\n",
       "      <td>0-877</td>\n",
       "      <td>[]</td>\n",
       "      <td>1</td>\n",
       "      <td>../../data/tensorflow-great-barrier-reef/train...</td>\n",
       "      <td>../../data/tensorflow-great-barrier-reef/train...</td>\n",
       "      <td>../../data/tensorflow-great-barrier-reef/label...</td>\n",
       "      <td>[]</td>\n",
       "      <td>0</td>\n",
       "      <td>[[0.6129487156867981, 717.4990131855011, 692.2...</td>\n",
       "    </tr>\n",
       "  </tbody>\n",
       "</table>\n",
       "</div>"
      ],
      "text/plain": [
       "     video_id  sequence  video_frame  sequence_frame image_id annotations  \\\n",
       "480         0     45518          873               0    0-873          []   \n",
       "481         0     45518          874               1    0-874          []   \n",
       "482         0     45518          875               2    0-875          []   \n",
       "483         0     45518          876               3    0-876          []   \n",
       "484         0     45518          877               4    0-877          []   \n",
       "\n",
       "     fold                                     old_image_path  \\\n",
       "480     1  ../../data/tensorflow-great-barrier-reef/train...   \n",
       "481     1  ../../data/tensorflow-great-barrier-reef/train...   \n",
       "482     1  ../../data/tensorflow-great-barrier-reef/train...   \n",
       "483     1  ../../data/tensorflow-great-barrier-reef/train...   \n",
       "484     1  ../../data/tensorflow-great-barrier-reef/train...   \n",
       "\n",
       "                                            image_path  \\\n",
       "480  ../../data/tensorflow-great-barrier-reef/train...   \n",
       "481  ../../data/tensorflow-great-barrier-reef/train...   \n",
       "482  ../../data/tensorflow-great-barrier-reef/train...   \n",
       "483  ../../data/tensorflow-great-barrier-reef/train...   \n",
       "484  ../../data/tensorflow-great-barrier-reef/train...   \n",
       "\n",
       "                                            label_path real_bbox  num_bbox  \\\n",
       "480  ../../data/tensorflow-great-barrier-reef/label...        []         0   \n",
       "481  ../../data/tensorflow-great-barrier-reef/label...        []         0   \n",
       "482  ../../data/tensorflow-great-barrier-reef/label...        []         0   \n",
       "483  ../../data/tensorflow-great-barrier-reef/label...        []         0   \n",
       "484  ../../data/tensorflow-great-barrier-reef/label...        []         0   \n",
       "\n",
       "                                          notrack_pred  \n",
       "480                                                 []  \n",
       "481                                                 []  \n",
       "482                                                 []  \n",
       "483                                                 []  \n",
       "484  [[0.6129487156867981, 717.4990131855011, 692.2...  "
      ]
     },
     "execution_count": 14,
     "metadata": {},
     "output_type": "execute_result"
    }
   ],
   "source": [
    "df_oof = util.load_pickle(\"../input/wbf_notrack_pred.pkl\")\n",
    "df_oof.head()"
   ]
  },
  {
   "cell_type": "code",
   "execution_count": 15,
   "id": "6e4d37e1",
   "metadata": {
    "ExecuteTime": {
     "end_time": "2022-02-09T02:56:44.637229Z",
     "start_time": "2022-02-09T02:56:44.616194Z"
    }
   },
   "outputs": [],
   "source": [
    "df['wbf_pred'] = None\n",
    "df.loc[df['fold']==1, 'wbf_pred'] = df_oof['notrack_pred']"
   ]
  },
  {
   "cell_type": "code",
   "execution_count": 16,
   "id": "767c21ba",
   "metadata": {
    "ExecuteTime": {
     "end_time": "2022-02-09T02:56:45.759411Z",
     "start_time": "2022-02-09T02:56:44.638115Z"
    }
   },
   "outputs": [],
   "source": [
    "df_pred1 = util.load_pickle(\"whole_pred_0204_yolov5s6_B.pkl\")\n",
    "df_pred2 = util.load_pickle(\"whole_pred_0205_yolov5m6_B_LS02.pkl\")\n",
    "df['pred_0204_yolov5s6_B'] = df_pred1['pred_0204_yolov5s6_B']\n",
    "df['pred_0205_yolov5m6_B_LS02'] = df_pred2['pred_0205_yolov5m6_B_LS02']"
   ]
  },
  {
   "cell_type": "code",
   "execution_count": 17,
   "id": "382025ad",
   "metadata": {
    "ExecuteTime": {
     "end_time": "2022-02-09T02:56:45.775434Z",
     "start_time": "2022-02-09T02:56:45.760105Z"
    }
   },
   "outputs": [],
   "source": [
    "best_conf_dict = {\n",
    "    '0204_yolov5s6_B':0.2,\n",
    "    '0205_yolov5m6_B_LS02':0.3,\n",
    "}"
   ]
  },
  {
   "cell_type": "code",
   "execution_count": 18,
   "id": "800a5471",
   "metadata": {
    "ExecuteTime": {
     "end_time": "2022-02-09T02:56:51.780534Z",
     "start_time": "2022-02-09T02:56:45.777280Z"
    }
   },
   "outputs": [
    {
     "name": "stderr",
     "output_type": "stream",
     "text": [
      "/tmp/ipykernel_3061730/409034513.py:27: VisibleDeprecationWarning: Creating an ndarray from ragged nested sequences (which is a list-or-tuple of lists-or-tuples-or ndarrays with different lengths or shapes) is deprecated. If you meant to do this, you must specify 'dtype=object' when creating the ndarray.\n",
      "  bboxes_l = np.array(bboxes_l)\n"
     ]
    }
   ],
   "source": [
    "iou_thr = 0.4\n",
    "skip_box_thr = 0.22\n",
    "wbf_models =[\"0204_yolov5s6_B\", '0205_yolov5m6_B_LS02']\n",
    "df[\"wbf_noTrack_pred\"] = None\n",
    "frame_id = 0\n",
    "tracker = Tracker(\n",
    "    distance_function=euclidean_distance, \n",
    "    distance_threshold=30,\n",
    "    hit_inertia_min=3,\n",
    "    hit_inertia_max=6,\n",
    "    initialization_delay=2,\n",
    ")              \n",
    "num_prev_bbox = None\n",
    "for i, idx in enumerate(df.query(\"fold!=1\").index):\n",
    "    row = df.loc[idx]\n",
    "    bboxes_l = []\n",
    "    confs_l = []    \n",
    "    for model_version in wbf_models:\n",
    "        BEST_CONF = best_conf_dict[model_version]\n",
    "        pred_col = \"pred_\" + model_version \n",
    "        prd_bboxs = row[pred_col]\n",
    "        prd_bboxs = [p for p in prd_bboxs if p[0] >= BEST_CONF]\n",
    "        bboxes, confis = [p[1:] for p in prd_bboxs], [p[0] for p in prd_bboxs]    \n",
    "        bboxes = np.array(bboxes,dtype=np.float64)\n",
    "        bboxes_l.append(bboxes)\n",
    "        confs_l.append(confis)\n",
    "    bboxes_l = np.array(bboxes_l)\n",
    "    wbf_boxes, wbf_confs, _ = run_wbf(bboxes_l, confs_l, iou_thr, skip_box_thr)\n",
    "    df.at[idx, \"wbf_noTrack_pred\"] = [[wbf_confs[i]] + wbf_boxes[i].tolist() for i in range(len(wbf_boxes))]\n",
    "    \n",
    "    predictions = tracking_function(tracker, frame_id, wbf_boxes, wbf_confs, 0, num_prev_bbox)\n",
    "    prd_bboxs_tracking =  [[float(p) for p in pred.split(\" \")] for pred in predictions]\n",
    "    num_prev_bbox = len(wbf_boxes)\n",
    "    df.at[idx, \"wbf_pred\"] = prd_bboxs_tracking\n",
    "\n",
    "    frame_id += 1"
   ]
  },
  {
   "cell_type": "code",
   "execution_count": 19,
   "id": "4c2b1a17",
   "metadata": {
    "ExecuteTime": {
     "end_time": "2022-02-09T02:56:51.800456Z",
     "start_time": "2022-02-09T02:56:51.781310Z"
    }
   },
   "outputs": [],
   "source": [
    "df.loc[df.query(\"fold==1\").index, \"wbf_noTrack_pred\"] = df.query(\"fold==1\")['wbf_pred']"
   ]
  },
  {
   "cell_type": "markdown",
   "id": "4b06cd1e",
   "metadata": {},
   "source": [
    "## check score"
   ]
  },
  {
   "cell_type": "code",
   "execution_count": 20,
   "id": "91895ad3",
   "metadata": {
    "ExecuteTime": {
     "end_time": "2022-02-09T02:56:51.872799Z",
     "start_time": "2022-02-09T02:56:51.801265Z"
    }
   },
   "outputs": [],
   "source": [
    "all_gt = [np.array(x) for x in  df['real_bbox']]\n",
    "all_gt_m = all_gt.copy()\n",
    "all_pred = [np.array(x) if x is not None else np.array([]) for x in  df['wbf_pred']]\n",
    "all_pred_notrack = [np.array(x) if x is not None else np.array([]) for x in  df['wbf_noTrack_pred']]"
   ]
  },
  {
   "cell_type": "code",
   "execution_count": 21,
   "id": "21991d31",
   "metadata": {
    "ExecuteTime": {
     "end_time": "2022-02-09T02:56:51.894236Z",
     "start_time": "2022-02-09T02:56:51.873772Z"
    }
   },
   "outputs": [],
   "source": [
    "def check_score_gt(df, q):\n",
    "    selected_gt = []\n",
    "    selected_pred = []\n",
    "    for idx in df.query(q).index:\n",
    "        selected_gt.append(all_gt[idx])\n",
    "        selected_pred.append(all_pred[idx])\n",
    "    f2_dict = util.calc_f2_score(selected_gt, selected_pred, verbose=False) \n",
    "    return f2_dict['f2']\n",
    "\n",
    "def check_score_gt_notrack(df, q):\n",
    "    selected_gt = []\n",
    "    selected_pred = []\n",
    "    for idx in df.query(q).index:\n",
    "        selected_gt.append(all_gt[idx])\n",
    "        selected_pred.append(all_pred_notrack[idx])\n",
    "    f2_dict = util.calc_f2_score(selected_gt, selected_pred, verbose=False) \n",
    "    return f2_dict['f2']"
   ]
  },
  {
   "cell_type": "code",
   "execution_count": 22,
   "id": "7a532c41",
   "metadata": {
    "ExecuteTime": {
     "end_time": "2022-02-09T02:56:53.091779Z",
     "start_time": "2022-02-09T02:56:51.894977Z"
    }
   },
   "outputs": [
    {
     "data": {
      "text/plain": [
       "0.7484346011131726"
      ]
     },
     "execution_count": 22,
     "metadata": {},
     "output_type": "execute_result"
    }
   ],
   "source": [
    "check_score_gt(df, \"fold==1\")"
   ]
  },
  {
   "cell_type": "code",
   "execution_count": 23,
   "id": "488c3e04",
   "metadata": {
    "ExecuteTime": {
     "end_time": "2022-02-09T02:57:01.955428Z",
     "start_time": "2022-02-09T02:56:53.092508Z"
    }
   },
   "outputs": [
    {
     "data": {
      "text/plain": [
       "0.8636732955082255"
      ]
     },
     "execution_count": 23,
     "metadata": {},
     "output_type": "execute_result"
    }
   ],
   "source": [
    "check_score_gt(df, \"train\")"
   ]
  },
  {
   "cell_type": "code",
   "execution_count": 24,
   "id": "a077f7b6",
   "metadata": {
    "ExecuteTime": {
     "end_time": "2022-02-09T02:57:03.252702Z",
     "start_time": "2022-02-09T02:57:01.956622Z"
    }
   },
   "outputs": [
    {
     "data": {
      "text/plain": [
       "0.6744514106583072"
      ]
     },
     "execution_count": 24,
     "metadata": {},
     "output_type": "execute_result"
    }
   ],
   "source": [
    "check_score_gt(df, \"not train\")"
   ]
  },
  {
   "cell_type": "code",
   "execution_count": 25,
   "id": "a71f84d4",
   "metadata": {
    "ExecuteTime": {
     "end_time": "2022-02-09T02:57:12.033262Z",
     "start_time": "2022-02-09T02:57:03.253417Z"
    }
   },
   "outputs": [
    {
     "data": {
      "text/plain": [
       "0.887297161118435"
      ]
     },
     "execution_count": 25,
     "metadata": {},
     "output_type": "execute_result"
    }
   ],
   "source": [
    "check_score_gt_notrack(df, \"train\")"
   ]
  },
  {
   "cell_type": "markdown",
   "id": "4a80bce0",
   "metadata": {},
   "source": [
    "## save video"
   ]
  },
  {
   "cell_type": "code",
   "execution_count": 26,
   "id": "cae30e5b",
   "metadata": {
    "ExecuteTime": {
     "end_time": "2022-02-09T02:57:12.048841Z",
     "start_time": "2022-02-09T02:57:12.033971Z"
    },
    "scrolled": true
   },
   "outputs": [],
   "source": [
    "# for video_id, sequence in df.query(\"fold!=1\").groupby([\"video_id\",\"sequence\"]).size().index:\n",
    "#     name = f'check-{video_id}-{sequence}'\n",
    "#     make_video(df, video_id, sequence, 'wbf_pred', out_dir, 0, name=name)"
   ]
  },
  {
   "cell_type": "code",
   "execution_count": 27,
   "id": "3ed927ca",
   "metadata": {
    "ExecuteTime": {
     "end_time": "2022-02-09T02:57:13.076417Z",
     "start_time": "2022-02-09T02:57:12.049587Z"
    },
    "scrolled": true
   },
   "outputs": [
    {
     "name": "stdout",
     "output_type": "stream",
     "text": [
      "video_id == 2 and sequence == 22643and video_frame >= 5661 and video_frame <= 5691\n",
      "(31, 18)\n"
     ]
    },
    {
     "name": "stderr",
     "output_type": "stream",
     "text": [
      "OpenCV: FFMPEG: tag 0x5634504d/'MP4V' is not supported with codec id 12 and format 'mp4 / MP4 (MPEG-4 Part 14)'\n",
      "OpenCV: FFMPEG: fallback to use tag 0x7634706d/'mp4v'\n"
     ]
    },
    {
     "data": {
      "application/vnd.jupyter.widget-view+json": {
       "model_id": "d55e1de30b9c4324b3f203c253537dba",
       "version_major": 2,
       "version_minor": 0
      },
      "text/plain": [
       "  0%|          | 0/31 [00:00<?, ?it/s]"
      ]
     },
     "metadata": {},
     "output_type": "display_data"
    },
    {
     "name": "stderr",
     "output_type": "stream",
     "text": [
      "ffmpeg version 4.2.4-1ubuntu0.1 Copyright (c) 2000-2020 the FFmpeg developers\n",
      "  built with gcc 9 (Ubuntu 9.3.0-10ubuntu2)\n",
      "  configuration: --prefix=/usr --extra-version=1ubuntu0.1 --toolchain=hardened --libdir=/usr/lib/x86_64-linux-gnu --incdir=/usr/include/x86_64-linux-gnu --arch=amd64 --enable-gpl --disable-stripping --enable-avresample --disable-filter=resample --enable-avisynth --enable-gnutls --enable-ladspa --enable-libaom --enable-libass --enable-libbluray --enable-libbs2b --enable-libcaca --enable-libcdio --enable-libcodec2 --enable-libflite --enable-libfontconfig --enable-libfreetype --enable-libfribidi --enable-libgme --enable-libgsm --enable-libjack --enable-libmp3lame --enable-libmysofa --enable-libopenjpeg --enable-libopenmpt --enable-libopus --enable-libpulse --enable-librsvg --enable-librubberband --enable-libshine --enable-libsnappy --enable-libsoxr --enable-libspeex --enable-libssh --enable-libtheora --enable-libtwolame --enable-libvidstab --enable-libvorbis --enable-libvpx --enable-libwavpack --enable-libwebp --enable-libx265 --enable-libxml2 --enable-libxvid --enable-libzmq --enable-libzvbi --enable-lv2 --enable-omx --enable-openal --enable-opencl --enable-opengl --enable-sdl2 --enable-libdc1394 --enable-libdrm --enable-libiec61883 --enable-nvenc --enable-chromaprint --enable-frei0r --enable-libx264 --enable-shared\n",
      "  libavutil      56. 31.100 / 56. 31.100\n",
      "  libavcodec     58. 54.100 / 58. 54.100\n",
      "  libavformat    58. 29.100 / 58. 29.100\n",
      "  libavdevice    58.  8.100 / 58.  8.100\n",
      "  libavfilter     7. 57.100 /  7. 57.100\n",
      "  libavresample   4.  0.  0 /  4.  0.  0\n",
      "  libswscale      5.  5.100 /  5.  5.100\n",
      "  libswresample   3.  5.100 /  3.  5.100\n",
      "  libpostproc    55.  5.100 / 55.  5.100\n",
      "Input #0, mov,mp4,m4a,3gp,3g2,mj2, from '/home/vincent/Kaggle/data/tensorflow-great-barrier-reef/video_check//tmp-checkFix2-2-22643_5661_5691.mp4':\n",
      "  Metadata:\n",
      "    major_brand     : isom\n",
      "    minor_version   : 512\n",
      "    compatible_brands: isomiso2mp41\n",
      "    encoder         : Lavf58.49.100\n",
      "  Duration: 00:00:02.07, start: 0.000000, bitrate: 26669 kb/s\n",
      "    Stream #0:0(und): Video: mpeg4 (Simple Profile) (mp4v / 0x7634706D), yuv420p, 1280x720 [SAR 1:1 DAR 16:9], 26669 kb/s, 15 fps, 15 tbr, 15360 tbn, 15 tbc (default)\n",
      "    Metadata:\n",
      "      handler_name    : VideoHandler\n",
      "Stream mapping:\n",
      "  Stream #0:0 -> #0:0 (mpeg4 (native) -> h264 (libx264))\n",
      "Press [q] to stop, [?] for help\n",
      "[libx264 @ 0x561e4ec286c0] using SAR=1/1\n",
      "[libx264 @ 0x561e4ec286c0] using cpu capabilities: MMX2 SSE2Fast SSSE3 SSE4.2 AVX FMA3 BMI2 AVX2\n",
      "[libx264 @ 0x561e4ec286c0] profile High, level 3.1\n",
      "[libx264 @ 0x561e4ec286c0] 264 - core 155 r2917 0a84d98 - H.264/MPEG-4 AVC codec - Copyleft 2003-2018 - http://www.videolan.org/x264.html - options: cabac=1 ref=1 deblock=1:0:0 analyse=0x3:0x113 me=hex subme=2 psy=1 psy_rd=1.00:0.00 mixed_ref=0 me_range=16 chroma_me=1 trellis=0 8x8dct=1 cqm=0 deadzone=21,11 fast_pskip=1 chroma_qp_offset=0 threads=22 lookahead_threads=5 sliced_threads=0 nr=0 decimate=1 interlaced=0 bluray_compat=0 constrained_intra=0 bframes=3 b_pyramid=2 b_adapt=1 b_bias=0 direct=1 weightb=1 open_gop=0 weightp=1 keyint=250 keyint_min=15 scenecut=40 intra_refresh=0 rc_lookahead=10 rc=crf mbtree=1 crf=18.0 qcomp=0.60 qpmin=0 qpmax=69 qpstep=4 ip_ratio=1.40 aq=1:1.00\n",
      "Output #0, mp4, to '/home/vincent/Kaggle/data/tensorflow-great-barrier-reef/video_check//checkFix2-2-22643_5661_5691.mp4':\n",
      "  Metadata:\n",
      "    major_brand     : isom\n",
      "    minor_version   : 512\n",
      "    compatible_brands: isomiso2mp41\n",
      "    encoder         : Lavf58.29.100\n",
      "    Stream #0:0(und): Video: h264 (libx264) (avc1 / 0x31637661), yuv420p, 1280x720 [SAR 1:1 DAR 16:9], q=-1--1, 15 fps, 15360 tbn, 15 tbc (default)\n",
      "    Metadata:\n",
      "      handler_name    : VideoHandler\n",
      "      encoder         : Lavc58.54.100 libx264\n",
      "    Side data:\n",
      "      cpb: bitrate max/min/avg: 0/0/0 buffer size: 0 vbv_delay: -1\n",
      "frame=   31 fps=0.0 q=-1.0 Lsize=    4941kB time=00:00:01.86 bitrate=21683.8kbits/s speed=10.5x    \n",
      "video:4940kB audio:0kB subtitle:0kB other streams:0kB global headers:0kB muxing overhead: 0.020321%\n",
      "[libx264 @ 0x561e4ec286c0] frame I:1     Avg QP:21.84  size:284122\n",
      "[libx264 @ 0x561e4ec286c0] frame P:30    Avg QP:21.27  size:159130\n",
      "[libx264 @ 0x561e4ec286c0] mb I  I16..4:  0.6% 13.1% 86.3%\n",
      "[libx264 @ 0x561e4ec286c0] mb P  I16..4:  0.2%  2.9%  2.3%  P16..4: 46.3% 20.7% 27.5%  0.0%  0.0%    skip: 0.1%\n",
      "[libx264 @ 0x561e4ec286c0] 8x8 transform intra:38.3% inter:68.2%\n",
      "[libx264 @ 0x561e4ec286c0] coded y,uvDC,uvAC intra: 87.2% 93.5% 64.0% inter: 94.4% 83.0% 44.7%\n",
      "[libx264 @ 0x561e4ec286c0] i16 v,h,dc,p: 30% 30% 31%  9%\n",
      "[libx264 @ 0x561e4ec286c0] i8 v,h,dc,ddl,ddr,vr,hd,vl,hu: 16% 25% 44%  3%  2%  1%  2%  2%  5%\n",
      "[libx264 @ 0x561e4ec286c0] i4 v,h,dc,ddl,ddr,vr,hd,vl,hu: 12% 17% 16%  8% 10%  7% 11%  7% 13%\n",
      "[libx264 @ 0x561e4ec286c0] i8c dc,h,v,p: 54% 23% 15%  7%\n",
      "[libx264 @ 0x561e4ec286c0] Weighted P-Frames: Y:0.0% UV:0.0%\n",
      "[libx264 @ 0x561e4ec286c0] kb/s:19579.40\n"
     ]
    }
   ],
   "source": [
    "video_id=2\n",
    "sequence=22643\n",
    "s_f = 5661\n",
    "e_f = 5691\n",
    "\n",
    "name = f'checkFix2-{video_id}-{sequence}_{s_f}_{e_f}'\n",
    "make_video(df, video_id, sequence, 'wbf_pred', out_dir, 0, name=name,s_f=s_f, e_f=e_f)"
   ]
  },
  {
   "cell_type": "markdown",
   "id": "7fbcde66",
   "metadata": {},
   "source": [
    "# modify GT"
   ]
  },
  {
   "cell_type": "markdown",
   "id": "263b8908",
   "metadata": {},
   "source": [
    "## Modify fold==1 GT"
   ]
  },
  {
   "cell_type": "code",
   "execution_count": null,
   "id": "a7f081a8",
   "metadata": {
    "ExecuteTime": {
     "end_time": "2022-02-07T04:06:46.062870Z",
     "start_time": "2022-02-07T04:06:46.041214Z"
    }
   },
   "outputs": [],
   "source": [
    "# 1-15827-2148-2205\n",
    "video_id = 1\n",
    "sequence = 15827\n",
    "s_f = 2148\n",
    "e_f = 2205\n",
    "q = f\"video_id == {video_id} and sequence == {sequence} and video_frame >= {s_f} and video_frame <= {e_f}\"\n",
    "df_check = df.query(q).copy()\n",
    "for idx in df_check.index:\n",
    "    pred = all_pred[idx]\n",
    "    if len(all_gt_m[idx]) == 0:\n",
    "        if len(pred) > 0:\n",
    "            all_gt_m[idx] = pred[:,1:]"
   ]
  },
  {
   "cell_type": "code",
   "execution_count": null,
   "id": "86bcf3aa",
   "metadata": {
    "ExecuteTime": {
     "end_time": "2022-02-06T17:03:09.389864Z",
     "start_time": "2022-02-06T17:03:09.368056Z"
    }
   },
   "outputs": [],
   "source": [
    "# 2-26651-4639-4748\n",
    "video_id = 2\n",
    "sequence = 26651\n",
    "s_f = 4639\n",
    "e_f = 4748\n",
    "q = f\"video_id == {video_id} and sequence == {sequence} and video_frame >= {s_f} and video_frame <= {e_f}\"\n",
    "df_check = df.query(q).copy()\n",
    "for idx in df_check.index:\n",
    "    pred = all_pred[idx]\n",
    "    if len(all_gt_m[idx]) == 0:\n",
    "        if len(pred) > 0:\n",
    "            all_gt_m[idx] = pred[:,1:]"
   ]
  },
  {
   "cell_type": "code",
   "execution_count": null,
   "id": "d9206077",
   "metadata": {
    "ExecuteTime": {
     "end_time": "2022-02-06T17:03:41.061202Z",
     "start_time": "2022-02-06T17:03:39.687842Z"
    }
   },
   "outputs": [],
   "source": [
    "# modified f2\n",
    "selected_gt = []\n",
    "selected_pred = []\n",
    "for idx in df.query(\"fold==1\").index:\n",
    "    selected_gt.append(all_gt_m[idx])\n",
    "    selected_pred.append(all_pred[idx])\n",
    "f2_dict = util.calc_f2_score(selected_gt, selected_pred, verbose=False) \n",
    "f2_dict['f2']"
   ]
  },
  {
   "cell_type": "code",
   "execution_count": null,
   "id": "af92d6a0",
   "metadata": {
    "ExecuteTime": {
     "end_time": "2022-02-06T21:29:03.339184Z",
     "start_time": "2022-02-06T21:29:03.303996Z"
    }
   },
   "outputs": [],
   "source": [
    "df.query(\"video_frame == 6845\")"
   ]
  },
  {
   "cell_type": "code",
   "execution_count": null,
   "id": "04483acd",
   "metadata": {
    "ExecuteTime": {
     "end_time": "2022-02-06T21:30:50.903604Z",
     "start_time": "2022-02-06T21:30:50.874825Z"
    }
   },
   "outputs": [],
   "source": [
    "df.loc[[11893]]"
   ]
  },
  {
   "cell_type": "markdown",
   "id": "4fb4d884",
   "metadata": {},
   "source": [
    "## Modify fold != 1 GT"
   ]
  },
  {
   "cell_type": "code",
   "execution_count": null,
   "id": "9d6b5b8f",
   "metadata": {
    "ExecuteTime": {
     "end_time": "2022-02-06T21:36:55.872949Z",
     "start_time": "2022-02-06T21:36:53.698291Z"
    },
    "scrolled": true
   },
   "outputs": [],
   "source": [
    "video_id = 1\n",
    "sequence = 18048\n",
    "s_f = 6709\n",
    "e_f = 6780\n",
    "\n",
    "name = f'InterestingFP_wbf-{video_id}-{sequence}-{s_f}-{e_f}'\n",
    "make_video(df, video_id, sequence, 'wbf_pred', out_dir, 0, name=name,s_f=s_f, e_f=e_f)"
   ]
  },
  {
   "cell_type": "code",
   "execution_count": null,
   "id": "fa400c39",
   "metadata": {
    "ExecuteTime": {
     "end_time": "2022-02-06T18:32:31.107584Z",
     "start_time": "2022-02-06T18:32:30.525622Z"
    },
    "scrolled": true
   },
   "outputs": [],
   "source": [
    "video_id = 1\n",
    "sequence = 8503\n",
    "s_f =3891\n",
    "e_f =3904\n",
    "\n",
    "name = f'Error_TP_wbf-{video_id}-{sequence}-{s_f}-{e_f}'\n",
    "make_video(df, video_id, sequence, 'wbf_pred', out_dir, 0, name=name,s_f=s_f, e_f=e_f)"
   ]
  },
  {
   "cell_type": "markdown",
   "id": "0f0b5b7e",
   "metadata": {},
   "source": [
    "# Add GT"
   ]
  },
  {
   "cell_type": "code",
   "execution_count": 121,
   "id": "175f26ae",
   "metadata": {
    "ExecuteTime": {
     "end_time": "2022-02-09T03:19:21.520272Z",
     "start_time": "2022-02-09T03:19:21.498672Z"
    }
   },
   "outputs": [
    {
     "name": "stdout",
     "output_type": "stream",
     "text": [
      "FP_wbf-0-996-12136-12325.mp4\n",
      "FP_wbf-0-35305-8171-8292.mp4\n",
      "FP_wbf-2-37114-2692-2765.mp4\n",
      "FP_wbf-0-40258-300-380.mp4\n",
      "FP_wbf-0-40258-0-200.mp4\n",
      "FP_wbf-0-8399-4400-4885.mp4\n",
      "InterestingFP&Tracking_wbf-1-8503-5778-5950.mp4\n",
      "FP_wbf-0-53708-9570-9802.mp4\n",
      "FP_wbf-0-996-11850-11935.mp4\n",
      "FP_wbf-0-45015-6000-6065.mp4\n",
      "FP_wbf-0-53708-9802-9850.mp4\n",
      "FP_wbf-0-53708-8900-8911.mp4\n",
      "InterestingFP&Tracking_wbf-1-8503-5180-5726.mp4\n",
      "FP_wbf-1-15827-2150-2207.mp4\n",
      "FP&Tracking_wbf-1-8503-4390-4555.mp4\n",
      "InterestingFP_wbf-1-18048-6709-6780.mp4\n",
      "MostInterestingFP_wbf-1-8503-4100-4278.mp4\n",
      "FP_wbf-1-15827-2148-2205.mp4\n",
      "FP_wbf-2-26651-4639-4748.mp4\n",
      "InterestingFP_wbf-2-22643-5655-5968.mp4\n",
      "InterestingFP_wbf-2-29859-10500-10637.mp4\n",
      "FP_wbf-0-45015-5702-5730.mp4\n",
      "FP_wbf-0-45518-950-990.mp4\n"
     ]
    }
   ],
   "source": [
    "video_dir = out_dir\n",
    "check_videos = glob(video_dir + \"*.mp4\")\n",
    "gt_candidates = []\n",
    "for name in check_videos:\n",
    "    name = name.split(\"/\")[-1]\n",
    "    if name in ['UnkownFP_wbf-2-26651-4154-4200.mp4', 'commonFP_wbf-0-996-11971-11994.mp4']:\n",
    "        continue\n",
    "    if \"fp\" in name.lower() and \"error\" not in name.lower():\n",
    "        print(name)\n",
    "        _, video_id, sequence, s_f, e_f_mp4 = name.split(\"-\")\n",
    "        e_f = e_f_mp4[:-4]\n",
    "        gt_candidates.append([int(video_id), int(sequence), int(s_f), int(e_f)])"
   ]
  },
  {
   "cell_type": "code",
   "execution_count": 122,
   "id": "17bec7e6",
   "metadata": {
    "ExecuteTime": {
     "end_time": "2022-02-09T03:19:21.797801Z",
     "start_time": "2022-02-09T03:19:21.770410Z"
    }
   },
   "outputs": [
    {
     "data": {
      "text/plain": [
       "[[0, 996, 12136, 12325],\n",
       " [0, 35305, 8171, 8292],\n",
       " [2, 37114, 2692, 2765],\n",
       " [0, 40258, 300, 380],\n",
       " [0, 40258, 0, 200],\n",
       " [0, 8399, 4400, 4885],\n",
       " [1, 8503, 5778, 5950],\n",
       " [0, 53708, 9570, 9802],\n",
       " [0, 996, 11850, 11935],\n",
       " [0, 45015, 6000, 6065],\n",
       " [0, 53708, 9802, 9850],\n",
       " [0, 53708, 8900, 8911],\n",
       " [1, 8503, 5180, 5726],\n",
       " [1, 15827, 2150, 2207],\n",
       " [1, 8503, 4390, 4555],\n",
       " [1, 18048, 6709, 6780],\n",
       " [1, 8503, 4100, 4278],\n",
       " [1, 15827, 2148, 2205],\n",
       " [2, 26651, 4639, 4748],\n",
       " [2, 22643, 5655, 5968],\n",
       " [2, 29859, 10500, 10637],\n",
       " [0, 45015, 5702, 5730],\n",
       " [0, 45518, 950, 990]]"
      ]
     },
     "execution_count": 122,
     "metadata": {},
     "output_type": "execute_result"
    }
   ],
   "source": [
    "gt_candidates"
   ]
  },
  {
   "cell_type": "code",
   "execution_count": 123,
   "id": "b5942bd9",
   "metadata": {
    "ExecuteTime": {
     "end_time": "2022-02-09T03:19:35.450514Z",
     "start_time": "2022-02-09T03:19:35.420088Z"
    }
   },
   "outputs": [],
   "source": [
    "gt_candidates_dfs = []\n",
    "cols = [\"video_id\",\"sequence\",\"video_frame\"]\n",
    "for video_id, sequence, s_f, e_f in gt_candidates:\n",
    "    l = e_f - s_f + 1\n",
    "    df_ = pd.DataFrame([f for f in range(s_f, e_f+1)], columns=['video_frame'])\n",
    "    df_['video_id'] = video_id\n",
    "    df_['sequence'] = sequence\n",
    "    gt_candidates_dfs.append(df_)\n",
    "gt_candidates_df = pd.concat(gt_candidates_dfs)[cols]"
   ]
  },
  {
   "cell_type": "code",
   "execution_count": 124,
   "id": "259e8465",
   "metadata": {
    "ExecuteTime": {
     "end_time": "2022-02-09T03:19:35.706340Z",
     "start_time": "2022-02-09T03:19:35.673000Z"
    }
   },
   "outputs": [],
   "source": [
    "df_new = pd.merge(gt_candidates_df, df[cols + ['annotations','image_path',\"real_bbox\", \"wbf_noTrack_pred\"]], on=cols)\n",
    "df_new = df_new.drop_duplicates(subset=['video_id',\"sequence\",\"video_frame\"]).sort_values([\"video_id\",\"video_frame\"])"
   ]
  },
  {
   "cell_type": "code",
   "execution_count": 125,
   "id": "69f3e23b",
   "metadata": {
    "ExecuteTime": {
     "end_time": "2022-02-09T03:20:03.912012Z",
     "start_time": "2022-02-09T03:20:03.892003Z"
    }
   },
   "outputs": [],
   "source": [
    "df_new[\"added_pred\"] = [list([]) for _ in range(df_new.shape[0])]\n",
    "df_new[\"new_real_bbox\"] = [list([]) for _ in range(df_new.shape[0])]"
   ]
  },
  {
   "cell_type": "code",
   "execution_count": 126,
   "id": "d9fd789d",
   "metadata": {
    "ExecuteTime": {
     "end_time": "2022-02-09T03:20:08.275155Z",
     "start_time": "2022-02-09T03:20:07.886225Z"
    }
   },
   "outputs": [],
   "source": [
    "for idx, row in df_new.iterrows():\n",
    "    if len(row['wbf_noTrack_pred']) == 0:\n",
    "        continue\n",
    "    elif len(row['real_bbox']) == 0:\n",
    "        df_new.at[idx, 'added_pred'] = df_new.loc[idx,'wbf_noTrack_pred']\n",
    "    else:\n",
    "        wbf_pred = np.array(row['wbf_noTrack_pred'])\n",
    "        real_gt = np.array(row['real_bbox'])\n",
    "        added_pred = []\n",
    "        ious = util.calc_iou(np.array(wbf_pred)[:,1:], np.array(real_gt))\n",
    "        ious_max = ious.max(axis=1)\n",
    "        added_pred = wbf_pred[ious_max < 0.3].copy().tolist()\n",
    "        df_new.at[idx,'added_pred'] = added_pred"
   ]
  },
  {
   "cell_type": "code",
   "execution_count": 127,
   "id": "5cb5b582",
   "metadata": {
    "ExecuteTime": {
     "end_time": "2022-02-09T03:21:37.710827Z",
     "start_time": "2022-02-09T03:21:37.690798Z"
    }
   },
   "outputs": [
    {
     "data": {
      "text/plain": [
       "1069"
      ]
     },
     "execution_count": 127,
     "metadata": {},
     "output_type": "execute_result"
    }
   ],
   "source": [
    "df_new['added_pred'].apply(len).sum()"
   ]
  },
  {
   "cell_type": "code",
   "execution_count": 128,
   "id": "802a706b",
   "metadata": {
    "ExecuteTime": {
     "end_time": "2022-02-09T03:21:40.284520Z",
     "start_time": "2022-02-09T03:21:40.234572Z"
    }
   },
   "outputs": [],
   "source": [
    "df_new['new_real_bbox'] = df_new.apply(lambda x: x['real_bbox'] + [p[1:] for p in x['added_pred']], axis=1)\n",
    "df_new['wbf_pred'] = df_new['new_real_bbox'].apply(lambda pp:  [[1] + p for p in pp])"
   ]
  },
  {
   "cell_type": "code",
   "execution_count": 129,
   "id": "782ee108",
   "metadata": {
    "ExecuteTime": {
     "end_time": "2022-02-09T03:21:41.193738Z",
     "start_time": "2022-02-09T03:21:41.175362Z"
    },
    "scrolled": true
   },
   "outputs": [],
   "source": [
    "#make_video(df_new, None, None, 'wbf_pred', out_dir, 0, name=\"new_GT_check\",s_f=None, e_f=None)"
   ]
  },
  {
   "cell_type": "code",
   "execution_count": 130,
   "id": "740b47b2",
   "metadata": {
    "ExecuteTime": {
     "end_time": "2022-02-09T03:21:45.738650Z",
     "start_time": "2022-02-09T03:21:45.716142Z"
    }
   },
   "outputs": [],
   "source": [
    "df_new[\"new_real_bbox\"] = [list([]) for _ in range(df_new.shape[0])]\n",
    "df_new[\"wbf_pred\"] = [list([]) for _ in range(df_new.shape[0])]"
   ]
  },
  {
   "cell_type": "code",
   "execution_count": 131,
   "id": "66fbd9da",
   "metadata": {
    "ExecuteTime": {
     "end_time": "2022-02-09T03:22:31.067020Z",
     "start_time": "2022-02-09T03:22:31.042183Z"
    }
   },
   "outputs": [
    {
     "data": {
      "text/plain": [
       "300"
      ]
     },
     "execution_count": 131,
     "metadata": {},
     "output_type": "execute_result"
    }
   ],
   "source": [
    "# remove those unnecessary\n",
    "pairs = [\n",
    "    [0, 40],\n",
    "    [0, 69],\n",
    "    [0, 101],\n",
    "    [0, 103],\n",
    "    [0, 107],\n",
    "    [0, 140],\n",
    "    [0, 153],\n",
    "    [0, 153],    \n",
    "]\n",
    "pairs = np.concatenate(pairs).tolist()\n",
    "pairs.extend(\n",
    "[\n",
    "    0,4596,0,9648,0,11860,\n",
    "])\n",
    "for i in range(11857, 11870):\n",
    "    pairs.extend([0, i])\n",
    "for i in range(4590, 4597):\n",
    "    pairs.extend([0, i])\n",
    "for i in range(4751, 4759):\n",
    "    pairs.extend([0, i])\n",
    "    \n",
    "pairs.extend([\n",
    "    0, 11900, 0, 12171, 1, 4177, 1, 4178, 1, 4184, 1, 4261, 1, 4262, 1, 4255, 1, 4400, 1, 5269, 1, 5335, 1, 5344, 1, 5348,\n",
    "    1, 5436, 1, 5439,  1, 5882, 1, 6737, 2, 4712, 2, 4717, 2, 4721, 2,5704, 2,5741, 2, 5907, 0, 4525,\n",
    "])\n",
    "for i in range(5516, 5594):\n",
    "    pairs.extend([1, i])\n",
    "for i in range(5675, 5684):\n",
    "    pairs.extend([1, i])\n",
    "len(pairs)"
   ]
  },
  {
   "cell_type": "code",
   "execution_count": 132,
   "id": "7c56c92e",
   "metadata": {
    "ExecuteTime": {
     "end_time": "2022-02-09T03:22:59.850275Z",
     "start_time": "2022-02-09T03:22:59.708822Z"
    }
   },
   "outputs": [
    {
     "name": "stdout",
     "output_type": "stream",
     "text": [
      "45\n"
     ]
    }
   ],
   "source": [
    "appeared = set([])\n",
    "removed_FP = 0\n",
    "manual_process = []\n",
    "for i in range(len(pairs)//2):\n",
    "    video_id = pairs[i * 2]\n",
    "    video_frame = pairs[i * 2 + 1]\n",
    "    if (video_id, video_frame) in appeared:\n",
    "        continue\n",
    "    else:\n",
    "        appeared.add((video_id, video_frame))\n",
    "    idx = df_new.query(\"video_id == @video_id and video_frame == @video_frame\").index[0]\n",
    "    if len(df_new.loc[idx, 'added_pred']) <= 1:\n",
    "        removed_FP += len(df_new.loc[idx,'added_pred'])\n",
    "        df_new.at[idx, 'added_pred'] = []\n",
    "    else:\n",
    "        manual_process.extend([video_id, video_frame])\n",
    "print(removed_FP)"
   ]
  },
  {
   "cell_type": "code",
   "execution_count": 133,
   "id": "f257f38c",
   "metadata": {
    "ExecuteTime": {
     "end_time": "2022-02-09T03:23:00.899421Z",
     "start_time": "2022-02-09T03:23:00.883548Z"
    }
   },
   "outputs": [
    {
     "data": {
      "text/plain": [
       "40"
      ]
     },
     "execution_count": 133,
     "metadata": {},
     "output_type": "execute_result"
    }
   ],
   "source": [
    "len(manual_process)"
   ]
  },
  {
   "cell_type": "code",
   "execution_count": 134,
   "id": "a442adab",
   "metadata": {
    "ExecuteTime": {
     "end_time": "2022-02-09T03:23:02.070734Z",
     "start_time": "2022-02-09T03:23:02.051657Z"
    }
   },
   "outputs": [
    {
     "data": {
      "text/plain": [
       "Int64Index([ 467,  468,  469,  470,  471,  472,  473,  474,  475,  476,\n",
       "            ...\n",
       "            3404, 3405, 3406, 3407, 3408, 3409, 3410, 3411, 3412, 3413],\n",
       "           dtype='int64', length=3427)"
      ]
     },
     "execution_count": 134,
     "metadata": {},
     "output_type": "execute_result"
    }
   ],
   "source": [
    "df_new.index"
   ]
  },
  {
   "cell_type": "code",
   "execution_count": 135,
   "id": "a137ef59",
   "metadata": {
    "ExecuteTime": {
     "end_time": "2022-02-09T03:23:05.020279Z",
     "start_time": "2022-02-09T03:23:04.942744Z"
    }
   },
   "outputs": [
    {
     "data": {
      "text/html": [
       "<div>\n",
       "<style scoped>\n",
       "    .dataframe tbody tr th:only-of-type {\n",
       "        vertical-align: middle;\n",
       "    }\n",
       "\n",
       "    .dataframe tbody tr th {\n",
       "        vertical-align: top;\n",
       "    }\n",
       "\n",
       "    .dataframe thead th {\n",
       "        text-align: right;\n",
       "    }\n",
       "</style>\n",
       "<table border=\"1\" class=\"dataframe\">\n",
       "  <thead>\n",
       "    <tr style=\"text-align: right;\">\n",
       "      <th></th>\n",
       "      <th>video_id</th>\n",
       "      <th>sequence</th>\n",
       "      <th>video_frame</th>\n",
       "      <th>annotations</th>\n",
       "      <th>image_path</th>\n",
       "      <th>real_bbox</th>\n",
       "      <th>wbf_noTrack_pred</th>\n",
       "      <th>added_pred</th>\n",
       "      <th>new_real_bbox</th>\n",
       "      <th>wbf_pred</th>\n",
       "    </tr>\n",
       "  </thead>\n",
       "  <tbody>\n",
       "    <tr>\n",
       "      <th>1571</th>\n",
       "      <td>0</td>\n",
       "      <td>996</td>\n",
       "      <td>11860</td>\n",
       "      <td>[]</td>\n",
       "      <td>../../data/tensorflow-great-barrier-reef/train...</td>\n",
       "      <td>[]</td>\n",
       "      <td>[[0.6911746263504028, 780.2709791660309, 560.9...</td>\n",
       "      <td>[[0.6911746263504028, 780.2709791660309, 560.9...</td>\n",
       "      <td>[]</td>\n",
       "      <td>[]</td>\n",
       "    </tr>\n",
       "    <tr>\n",
       "      <th>1568</th>\n",
       "      <td>0</td>\n",
       "      <td>996</td>\n",
       "      <td>11857</td>\n",
       "      <td>[]</td>\n",
       "      <td>../../data/tensorflow-great-barrier-reef/train...</td>\n",
       "      <td>[]</td>\n",
       "      <td>[[0.48151302337646484, 769.6262257099152, 86.3...</td>\n",
       "      <td>[[0.48151302337646484, 769.6262257099152, 86.3...</td>\n",
       "      <td>[]</td>\n",
       "      <td>[]</td>\n",
       "    </tr>\n",
       "    <tr>\n",
       "      <th>1569</th>\n",
       "      <td>0</td>\n",
       "      <td>996</td>\n",
       "      <td>11858</td>\n",
       "      <td>[]</td>\n",
       "      <td>../../data/tensorflow-great-barrier-reef/train...</td>\n",
       "      <td>[]</td>\n",
       "      <td>[[0.5886034369468689, 769.5400809049606, 542.3...</td>\n",
       "      <td>[[0.5886034369468689, 769.5400809049606, 542.3...</td>\n",
       "      <td>[]</td>\n",
       "      <td>[]</td>\n",
       "    </tr>\n",
       "    <tr>\n",
       "      <th>1570</th>\n",
       "      <td>0</td>\n",
       "      <td>996</td>\n",
       "      <td>11859</td>\n",
       "      <td>[]</td>\n",
       "      <td>../../data/tensorflow-great-barrier-reef/train...</td>\n",
       "      <td>[]</td>\n",
       "      <td>[[0.5662558674812317, 778.5100421309471, 550.9...</td>\n",
       "      <td>[[0.5662558674812317, 778.5100421309471, 550.9...</td>\n",
       "      <td>[]</td>\n",
       "      <td>[]</td>\n",
       "    </tr>\n",
       "    <tr>\n",
       "      <th>1572</th>\n",
       "      <td>0</td>\n",
       "      <td>996</td>\n",
       "      <td>11861</td>\n",
       "      <td>[]</td>\n",
       "      <td>../../data/tensorflow-great-barrier-reef/train...</td>\n",
       "      <td>[]</td>\n",
       "      <td>[[0.7072060108184814, 790.9597960710526, 569.5...</td>\n",
       "      <td>[[0.7072060108184814, 790.9597960710526, 569.5...</td>\n",
       "      <td>[]</td>\n",
       "      <td>[]</td>\n",
       "    </tr>\n",
       "    <tr>\n",
       "      <th>1573</th>\n",
       "      <td>0</td>\n",
       "      <td>996</td>\n",
       "      <td>11862</td>\n",
       "      <td>[]</td>\n",
       "      <td>../../data/tensorflow-great-barrier-reef/train...</td>\n",
       "      <td>[]</td>\n",
       "      <td>[[0.7071714401245117, 805.4812182188034, 46.48...</td>\n",
       "      <td>[[0.7071714401245117, 805.4812182188034, 46.48...</td>\n",
       "      <td>[]</td>\n",
       "      <td>[]</td>\n",
       "    </tr>\n",
       "    <tr>\n",
       "      <th>1574</th>\n",
       "      <td>0</td>\n",
       "      <td>996</td>\n",
       "      <td>11863</td>\n",
       "      <td>[]</td>\n",
       "      <td>../../data/tensorflow-great-barrier-reef/train...</td>\n",
       "      <td>[]</td>\n",
       "      <td>[[0.6633244752883911, 807.2837029695511, 587.8...</td>\n",
       "      <td>[[0.6633244752883911, 807.2837029695511, 587.8...</td>\n",
       "      <td>[]</td>\n",
       "      <td>[]</td>\n",
       "    </tr>\n",
       "    <tr>\n",
       "      <th>1575</th>\n",
       "      <td>0</td>\n",
       "      <td>996</td>\n",
       "      <td>11864</td>\n",
       "      <td>[]</td>\n",
       "      <td>../../data/tensorflow-great-barrier-reef/train...</td>\n",
       "      <td>[]</td>\n",
       "      <td>[[0.6915255784988403, 816.3384367823601, 601.7...</td>\n",
       "      <td>[[0.6915255784988403, 816.3384367823601, 601.7...</td>\n",
       "      <td>[]</td>\n",
       "      <td>[]</td>\n",
       "    </tr>\n",
       "    <tr>\n",
       "      <th>1576</th>\n",
       "      <td>0</td>\n",
       "      <td>996</td>\n",
       "      <td>11865</td>\n",
       "      <td>[]</td>\n",
       "      <td>../../data/tensorflow-great-barrier-reef/train...</td>\n",
       "      <td>[]</td>\n",
       "      <td>[[0.7656852006912231, 824.5827995538712, 615.5...</td>\n",
       "      <td>[[0.7656852006912231, 824.5827995538712, 615.5...</td>\n",
       "      <td>[]</td>\n",
       "      <td>[]</td>\n",
       "    </tr>\n",
       "    <tr>\n",
       "      <th>1577</th>\n",
       "      <td>0</td>\n",
       "      <td>996</td>\n",
       "      <td>11866</td>\n",
       "      <td>[]</td>\n",
       "      <td>../../data/tensorflow-great-barrier-reef/train...</td>\n",
       "      <td>[]</td>\n",
       "      <td>[[0.7503771781921387, 836.1335981488228, 631.0...</td>\n",
       "      <td>[[0.7503771781921387, 836.1335981488228, 631.0...</td>\n",
       "      <td>[]</td>\n",
       "      <td>[]</td>\n",
       "    </tr>\n",
       "    <tr>\n",
       "      <th>1578</th>\n",
       "      <td>0</td>\n",
       "      <td>996</td>\n",
       "      <td>11867</td>\n",
       "      <td>[]</td>\n",
       "      <td>../../data/tensorflow-great-barrier-reef/train...</td>\n",
       "      <td>[]</td>\n",
       "      <td>[[0.7381105422973633, 847.1936000585556, 648.0...</td>\n",
       "      <td>[[0.7381105422973633, 847.1936000585556, 648.0...</td>\n",
       "      <td>[]</td>\n",
       "      <td>[]</td>\n",
       "    </tr>\n",
       "    <tr>\n",
       "      <th>1579</th>\n",
       "      <td>0</td>\n",
       "      <td>996</td>\n",
       "      <td>11868</td>\n",
       "      <td>[]</td>\n",
       "      <td>../../data/tensorflow-great-barrier-reef/train...</td>\n",
       "      <td>[]</td>\n",
       "      <td>[[0.7550845146179199, 848.9877752661705, 668.4...</td>\n",
       "      <td>[[0.7550845146179199, 848.9877752661705, 668.4...</td>\n",
       "      <td>[]</td>\n",
       "      <td>[]</td>\n",
       "    </tr>\n",
       "    <tr>\n",
       "      <th>2833</th>\n",
       "      <td>1</td>\n",
       "      <td>8503</td>\n",
       "      <td>4262</td>\n",
       "      <td>[{'x': 288, 'y': 667, 'width': 49, 'height': 46}]</td>\n",
       "      <td>../../data/tensorflow-great-barrier-reef/train...</td>\n",
       "      <td>[[288, 667, 49, 46]]</td>\n",
       "      <td>[[0.7956693172454834, 287.4960128068924, 664.4...</td>\n",
       "      <td>[[0.3045779764652252, 321.0, 647.0, 39.0, 31.0...</td>\n",
       "      <td>[]</td>\n",
       "      <td>[]</td>\n",
       "    </tr>\n",
       "    <tr>\n",
       "      <th>2826</th>\n",
       "      <td>1</td>\n",
       "      <td>8503</td>\n",
       "      <td>4255</td>\n",
       "      <td>[{'x': 307, 'y': 534, 'width': 45, 'height': 4...</td>\n",
       "      <td>../../data/tensorflow-great-barrier-reef/train...</td>\n",
       "      <td>[[307, 534, 45, 46], [525, 620, 45, 58]]</td>\n",
       "      <td>[[0.807616114616394, 311.00186164677143, 530.9...</td>\n",
       "      <td>[[0.5695754289627075, 341.438364982605, 517.68...</td>\n",
       "      <td>[]</td>\n",
       "      <td>[]</td>\n",
       "    </tr>\n",
       "    <tr>\n",
       "      <th>1862</th>\n",
       "      <td>1</td>\n",
       "      <td>8503</td>\n",
       "      <td>5269</td>\n",
       "      <td>[{'x': 550, 'y': 185, 'width': 57, 'height': 52}]</td>\n",
       "      <td>../../data/tensorflow-great-barrier-reef/train...</td>\n",
       "      <td>[[550, 185, 57, 52]]</td>\n",
       "      <td>[[0.8104088306427002, 552.49877846241, 185.997...</td>\n",
       "      <td>[[0.32363682985305786, 341.85887360572815, 477...</td>\n",
       "      <td>[]</td>\n",
       "      <td>[]</td>\n",
       "    </tr>\n",
       "    <tr>\n",
       "      <th>2628</th>\n",
       "      <td>1</td>\n",
       "      <td>18048</td>\n",
       "      <td>6737</td>\n",
       "      <td>[{'x': 527, 'y': 442, 'width': 40, 'height': 41}]</td>\n",
       "      <td>../../data/tensorflow-great-barrier-reef/train...</td>\n",
       "      <td>[[527, 442, 40, 41]]</td>\n",
       "      <td>[[0.8191563487052917, 525.000518143177, 442.49...</td>\n",
       "      <td>[[0.644077479839325, 324.36286371946335, 168.4...</td>\n",
       "      <td>[]</td>\n",
       "      <td>[]</td>\n",
       "    </tr>\n",
       "    <tr>\n",
       "      <th>793</th>\n",
       "      <td>0</td>\n",
       "      <td>8399</td>\n",
       "      <td>4525</td>\n",
       "      <td>[]</td>\n",
       "      <td>../../data/tensorflow-great-barrier-reef/train...</td>\n",
       "      <td>[]</td>\n",
       "      <td>[[0.7297202348709106, 200.99999624490738, 3.46...</td>\n",
       "      <td>[[0.7297202348709106, 200.99999624490738, 3.46...</td>\n",
       "      <td>[]</td>\n",
       "      <td>[]</td>\n",
       "    </tr>\n",
       "    <tr>\n",
       "      <th>2165</th>\n",
       "      <td>1</td>\n",
       "      <td>8503</td>\n",
       "      <td>5572</td>\n",
       "      <td>[]</td>\n",
       "      <td>../../data/tensorflow-great-barrier-reef/train...</td>\n",
       "      <td>[]</td>\n",
       "      <td>[[0.6818425059318542, 854.1213195323944, 490.2...</td>\n",
       "      <td>[[0.6818425059318542, 854.1213195323944, 490.2...</td>\n",
       "      <td>[]</td>\n",
       "      <td>[]</td>\n",
       "    </tr>\n",
       "    <tr>\n",
       "      <th>2166</th>\n",
       "      <td>1</td>\n",
       "      <td>8503</td>\n",
       "      <td>5573</td>\n",
       "      <td>[]</td>\n",
       "      <td>../../data/tensorflow-great-barrier-reef/train...</td>\n",
       "      <td>[]</td>\n",
       "      <td>[[0.3522000312805176, 850.0, 504.0, 37.0, 32.0...</td>\n",
       "      <td>[[0.3522000312805176, 850.0, 504.0, 37.0, 32.0...</td>\n",
       "      <td>[]</td>\n",
       "      <td>[]</td>\n",
       "    </tr>\n",
       "    <tr>\n",
       "      <th>2167</th>\n",
       "      <td>1</td>\n",
       "      <td>8503</td>\n",
       "      <td>5574</td>\n",
       "      <td>[]</td>\n",
       "      <td>../../data/tensorflow-great-barrier-reef/train...</td>\n",
       "      <td>[]</td>\n",
       "      <td>[[0.5130207538604736, 844.0715751051903, 512.0...</td>\n",
       "      <td>[[0.5130207538604736, 844.0715751051903, 512.0...</td>\n",
       "      <td>[]</td>\n",
       "      <td>[]</td>\n",
       "    </tr>\n",
       "  </tbody>\n",
       "</table>\n",
       "</div>"
      ],
      "text/plain": [
       "      video_id  sequence  video_frame  \\\n",
       "1571         0       996        11860   \n",
       "1568         0       996        11857   \n",
       "1569         0       996        11858   \n",
       "1570         0       996        11859   \n",
       "1572         0       996        11861   \n",
       "1573         0       996        11862   \n",
       "1574         0       996        11863   \n",
       "1575         0       996        11864   \n",
       "1576         0       996        11865   \n",
       "1577         0       996        11866   \n",
       "1578         0       996        11867   \n",
       "1579         0       996        11868   \n",
       "2833         1      8503         4262   \n",
       "2826         1      8503         4255   \n",
       "1862         1      8503         5269   \n",
       "2628         1     18048         6737   \n",
       "793          0      8399         4525   \n",
       "2165         1      8503         5572   \n",
       "2166         1      8503         5573   \n",
       "2167         1      8503         5574   \n",
       "\n",
       "                                            annotations  \\\n",
       "1571                                                 []   \n",
       "1568                                                 []   \n",
       "1569                                                 []   \n",
       "1570                                                 []   \n",
       "1572                                                 []   \n",
       "1573                                                 []   \n",
       "1574                                                 []   \n",
       "1575                                                 []   \n",
       "1576                                                 []   \n",
       "1577                                                 []   \n",
       "1578                                                 []   \n",
       "1579                                                 []   \n",
       "2833  [{'x': 288, 'y': 667, 'width': 49, 'height': 46}]   \n",
       "2826  [{'x': 307, 'y': 534, 'width': 45, 'height': 4...   \n",
       "1862  [{'x': 550, 'y': 185, 'width': 57, 'height': 52}]   \n",
       "2628  [{'x': 527, 'y': 442, 'width': 40, 'height': 41}]   \n",
       "793                                                  []   \n",
       "2165                                                 []   \n",
       "2166                                                 []   \n",
       "2167                                                 []   \n",
       "\n",
       "                                             image_path  \\\n",
       "1571  ../../data/tensorflow-great-barrier-reef/train...   \n",
       "1568  ../../data/tensorflow-great-barrier-reef/train...   \n",
       "1569  ../../data/tensorflow-great-barrier-reef/train...   \n",
       "1570  ../../data/tensorflow-great-barrier-reef/train...   \n",
       "1572  ../../data/tensorflow-great-barrier-reef/train...   \n",
       "1573  ../../data/tensorflow-great-barrier-reef/train...   \n",
       "1574  ../../data/tensorflow-great-barrier-reef/train...   \n",
       "1575  ../../data/tensorflow-great-barrier-reef/train...   \n",
       "1576  ../../data/tensorflow-great-barrier-reef/train...   \n",
       "1577  ../../data/tensorflow-great-barrier-reef/train...   \n",
       "1578  ../../data/tensorflow-great-barrier-reef/train...   \n",
       "1579  ../../data/tensorflow-great-barrier-reef/train...   \n",
       "2833  ../../data/tensorflow-great-barrier-reef/train...   \n",
       "2826  ../../data/tensorflow-great-barrier-reef/train...   \n",
       "1862  ../../data/tensorflow-great-barrier-reef/train...   \n",
       "2628  ../../data/tensorflow-great-barrier-reef/train...   \n",
       "793   ../../data/tensorflow-great-barrier-reef/train...   \n",
       "2165  ../../data/tensorflow-great-barrier-reef/train...   \n",
       "2166  ../../data/tensorflow-great-barrier-reef/train...   \n",
       "2167  ../../data/tensorflow-great-barrier-reef/train...   \n",
       "\n",
       "                                     real_bbox  \\\n",
       "1571                                        []   \n",
       "1568                                        []   \n",
       "1569                                        []   \n",
       "1570                                        []   \n",
       "1572                                        []   \n",
       "1573                                        []   \n",
       "1574                                        []   \n",
       "1575                                        []   \n",
       "1576                                        []   \n",
       "1577                                        []   \n",
       "1578                                        []   \n",
       "1579                                        []   \n",
       "2833                      [[288, 667, 49, 46]]   \n",
       "2826  [[307, 534, 45, 46], [525, 620, 45, 58]]   \n",
       "1862                      [[550, 185, 57, 52]]   \n",
       "2628                      [[527, 442, 40, 41]]   \n",
       "793                                         []   \n",
       "2165                                        []   \n",
       "2166                                        []   \n",
       "2167                                        []   \n",
       "\n",
       "                                       wbf_noTrack_pred  \\\n",
       "1571  [[0.6911746263504028, 780.2709791660309, 560.9...   \n",
       "1568  [[0.48151302337646484, 769.6262257099152, 86.3...   \n",
       "1569  [[0.5886034369468689, 769.5400809049606, 542.3...   \n",
       "1570  [[0.5662558674812317, 778.5100421309471, 550.9...   \n",
       "1572  [[0.7072060108184814, 790.9597960710526, 569.5...   \n",
       "1573  [[0.7071714401245117, 805.4812182188034, 46.48...   \n",
       "1574  [[0.6633244752883911, 807.2837029695511, 587.8...   \n",
       "1575  [[0.6915255784988403, 816.3384367823601, 601.7...   \n",
       "1576  [[0.7656852006912231, 824.5827995538712, 615.5...   \n",
       "1577  [[0.7503771781921387, 836.1335981488228, 631.0...   \n",
       "1578  [[0.7381105422973633, 847.1936000585556, 648.0...   \n",
       "1579  [[0.7550845146179199, 848.9877752661705, 668.4...   \n",
       "2833  [[0.7956693172454834, 287.4960128068924, 664.4...   \n",
       "2826  [[0.807616114616394, 311.00186164677143, 530.9...   \n",
       "1862  [[0.8104088306427002, 552.49877846241, 185.997...   \n",
       "2628  [[0.8191563487052917, 525.000518143177, 442.49...   \n",
       "793   [[0.7297202348709106, 200.99999624490738, 3.46...   \n",
       "2165  [[0.6818425059318542, 854.1213195323944, 490.2...   \n",
       "2166  [[0.3522000312805176, 850.0, 504.0, 37.0, 32.0...   \n",
       "2167  [[0.5130207538604736, 844.0715751051903, 512.0...   \n",
       "\n",
       "                                             added_pred new_real_bbox wbf_pred  \n",
       "1571  [[0.6911746263504028, 780.2709791660309, 560.9...            []       []  \n",
       "1568  [[0.48151302337646484, 769.6262257099152, 86.3...            []       []  \n",
       "1569  [[0.5886034369468689, 769.5400809049606, 542.3...            []       []  \n",
       "1570  [[0.5662558674812317, 778.5100421309471, 550.9...            []       []  \n",
       "1572  [[0.7072060108184814, 790.9597960710526, 569.5...            []       []  \n",
       "1573  [[0.7071714401245117, 805.4812182188034, 46.48...            []       []  \n",
       "1574  [[0.6633244752883911, 807.2837029695511, 587.8...            []       []  \n",
       "1575  [[0.6915255784988403, 816.3384367823601, 601.7...            []       []  \n",
       "1576  [[0.7656852006912231, 824.5827995538712, 615.5...            []       []  \n",
       "1577  [[0.7503771781921387, 836.1335981488228, 631.0...            []       []  \n",
       "1578  [[0.7381105422973633, 847.1936000585556, 648.0...            []       []  \n",
       "1579  [[0.7550845146179199, 848.9877752661705, 668.4...            []       []  \n",
       "2833  [[0.3045779764652252, 321.0, 647.0, 39.0, 31.0...            []       []  \n",
       "2826  [[0.5695754289627075, 341.438364982605, 517.68...            []       []  \n",
       "1862  [[0.32363682985305786, 341.85887360572815, 477...            []       []  \n",
       "2628  [[0.644077479839325, 324.36286371946335, 168.4...            []       []  \n",
       "793   [[0.7297202348709106, 200.99999624490738, 3.46...            []       []  \n",
       "2165  [[0.6818425059318542, 854.1213195323944, 490.2...            []       []  \n",
       "2166  [[0.3522000312805176, 850.0, 504.0, 37.0, 32.0...            []       []  \n",
       "2167  [[0.5130207538604736, 844.0715751051903, 512.0...            []       []  "
      ]
     },
     "execution_count": 135,
     "metadata": {},
     "output_type": "execute_result"
    }
   ],
   "source": [
    "tmp = []\n",
    "mannual_process_df = None\n",
    "for i in range(len(manual_process)//2):\n",
    "    video_id = manual_process[i * 2]\n",
    "    video_frame = manual_process[i * 2 + 1]\n",
    "    tmp.append(df_new.query(\"video_id == @video_id and video_frame == @video_frame\").copy())\n",
    "mannual_process_df = pd.concat(tmp)\n",
    "mannual_process_df"
   ]
  },
  {
   "cell_type": "code",
   "execution_count": 136,
   "id": "a3eae5ac",
   "metadata": {
    "ExecuteTime": {
     "end_time": "2022-02-09T03:23:08.539160Z",
     "start_time": "2022-02-09T03:23:08.516923Z"
    }
   },
   "outputs": [
    {
     "data": {
      "text/plain": [
       "1571            [0.6911746263504028, 0.22442416846752167]\n",
       "1568            [0.48151302337646484, 0.2662089169025421]\n",
       "1569            [0.5886034369468689, 0.42555445432662964]\n",
       "1570             [0.5662558674812317, 0.3016071319580078]\n",
       "1572            [0.7072060108184814, 0.28356847167015076]\n",
       "1573             [0.7071714401245117, 0.6711126565933228]\n",
       "1574             [0.6633244752883911, 0.5287286639213562]\n",
       "1575              [0.6915255784988403, 0.632911205291748]\n",
       "1576             [0.7656852006912231, 0.4901295006275177]\n",
       "1577             [0.7503771781921387, 0.5626591444015503]\n",
       "1578             [0.7381105422973633, 0.5699230432510376]\n",
       "1579             [0.7550845146179199, 0.6722005605697632]\n",
       "2833            [0.3045779764652252, 0.26051944494247437]\n",
       "2826             [0.5695754289627075, 0.2420150190591812]\n",
       "1862           [0.32363682985305786, 0.23518715798854828]\n",
       "2628             [0.644077479839325, 0.27890917658805847]\n",
       "793     [0.7297202348709106, 0.6788763999938965, 0.229...\n",
       "2165             [0.6818425059318542, 0.5242912173271179]\n",
       "2166             [0.3522000312805176, 0.2651439607143402]\n",
       "2167            [0.5130207538604736, 0.22350572049617767]\n",
       "Name: added_pred, dtype: object"
      ]
     },
     "execution_count": 136,
     "metadata": {},
     "output_type": "execute_result"
    }
   ],
   "source": [
    "mannual_process_df['added_pred'].apply(lambda x: [p[0] for p in x])"
   ]
  },
  {
   "cell_type": "code",
   "execution_count": 137,
   "id": "88111d76",
   "metadata": {
    "ExecuteTime": {
     "end_time": "2022-02-09T03:23:28.701080Z",
     "start_time": "2022-02-09T03:23:28.679863Z"
    }
   },
   "outputs": [],
   "source": [
    "for idx, row in mannual_process_df.iterrows():\n",
    "    if row['sequence'] == 996:\n",
    "        mannual_process_df.at[idx, 'added_pred'] = [p for p in mannual_process_df.at[idx, 'added_pred'] if p[2] >= 360]\n",
    "        removed_FP += 1\n",
    "    elif row['sequence'] == 8503 and row['video_frame'] <=4255:\n",
    "        mannual_process_df.at[idx, 'added_pred'] = [p for p in mannual_process_df.at[idx, 'added_pred'] if p[2] <= 360]\n",
    "        removed_FP += 1\n",
    "    elif row['sequence'] == 8503:\n",
    "        mannual_process_df.at[idx, 'added_pred'] = []\n",
    "        removed_FP += 2\n",
    "    else:\n",
    "        origin_len = len(mannual_process_df.at[idx, 'added_pred'])\n",
    "        mannual_process_df.at[idx, 'added_pred'] = [p for p in mannual_process_df.at[idx, 'added_pred'] if p[0] >= 0.5]\n",
    "        removed_FP += origin_len - len(mannual_process_df.at[idx, 'added_pred'])"
   ]
  },
  {
   "cell_type": "code",
   "execution_count": 138,
   "id": "3ce74c65",
   "metadata": {
    "ExecuteTime": {
     "end_time": "2022-02-09T03:23:33.199581Z",
     "start_time": "2022-02-09T03:23:33.183465Z"
    }
   },
   "outputs": [
    {
     "data": {
      "text/plain": [
       "70"
      ]
     },
     "execution_count": 138,
     "metadata": {},
     "output_type": "execute_result"
    }
   ],
   "source": [
    "removed_FP"
   ]
  },
  {
   "cell_type": "code",
   "execution_count": 139,
   "id": "193d41e3",
   "metadata": {
    "ExecuteTime": {
     "end_time": "2022-02-09T03:23:39.262439Z",
     "start_time": "2022-02-09T03:23:39.243492Z"
    }
   },
   "outputs": [],
   "source": [
    "df_new.loc[mannual_process_df.index, 'added_pred'] = mannual_process_df['added_pred']"
   ]
  },
  {
   "cell_type": "code",
   "execution_count": 140,
   "id": "0c906b8b",
   "metadata": {
    "ExecuteTime": {
     "end_time": "2022-02-09T03:23:40.081346Z",
     "start_time": "2022-02-09T03:23:40.062094Z"
    }
   },
   "outputs": [
    {
     "data": {
      "text/plain": [
       "999"
      ]
     },
     "execution_count": 140,
     "metadata": {},
     "output_type": "execute_result"
    }
   ],
   "source": [
    "df_new[\"added_pred\"].apply(len).sum()"
   ]
  },
  {
   "cell_type": "code",
   "execution_count": 141,
   "id": "5fdd1109",
   "metadata": {
    "ExecuteTime": {
     "end_time": "2022-02-09T03:23:42.861726Z",
     "start_time": "2022-02-09T03:23:42.810571Z"
    }
   },
   "outputs": [],
   "source": [
    "df_new['new_real_bbox'] = df_new.apply(lambda x: x['real_bbox'] + [p[1:] for p in x['added_pred']], axis=1)\n",
    "df_new['wbf_pred'] = df_new['new_real_bbox'].apply(lambda pp:  [[1] + p for p in pp])"
   ]
  },
  {
   "cell_type": "code",
   "execution_count": 48,
   "id": "c0b33242",
   "metadata": {
    "ExecuteTime": {
     "end_time": "2022-02-09T02:57:14.313853Z",
     "start_time": "2022-02-09T02:57:14.299700Z"
    },
    "scrolled": true
   },
   "outputs": [],
   "source": [
    "#make_video(df_new, None, None, 'wbf_pred', out_dir, 0, name=\"new_GT_check_clean\",s_f=None, e_f=None)"
   ]
  },
  {
   "cell_type": "markdown",
   "id": "e07a0913",
   "metadata": {},
   "source": [
    "## combine with old data"
   ]
  },
  {
   "cell_type": "code",
   "execution_count": 49,
   "id": "7049c63e",
   "metadata": {
    "ExecuteTime": {
     "end_time": "2022-02-09T02:57:15.483631Z",
     "start_time": "2022-02-09T02:57:15.452848Z"
    }
   },
   "outputs": [],
   "source": [
    "if 'mark' in df.columns:\n",
    "    del df['mark']\n",
    "df_new['mark'] = True\n",
    "df = pd.merge(df, df_new[cols + ['mark']], on=cols, how='left')\n",
    "df['mark'].fillna(False, inplace=True)"
   ]
  },
  {
   "cell_type": "code",
   "execution_count": 50,
   "id": "a4b9e3ae",
   "metadata": {
    "ExecuteTime": {
     "end_time": "2022-02-09T02:57:41.560097Z",
     "start_time": "2022-02-09T02:57:41.521518Z"
    }
   },
   "outputs": [],
   "source": [
    "df[\"new_real_bbox\"] = df['real_bbox']\n",
    "df['added_pred'] = [list([]) for i in range(df.shape[0])]\n",
    "df.loc[df.query('mark').index, \"new_real_bbox\"] = df_new['new_real_bbox'].values\n",
    "df.loc[df.query('mark').index, \"added_pred\"] = df_new['added_pred'].values"
   ]
  },
  {
   "cell_type": "code",
   "execution_count": 51,
   "id": "fbc7a32b",
   "metadata": {
    "ExecuteTime": {
     "end_time": "2022-02-09T02:57:42.965502Z",
     "start_time": "2022-02-09T02:57:42.946998Z"
    }
   },
   "outputs": [
    {
     "data": {
      "text/plain": [
       "11898"
      ]
     },
     "execution_count": 51,
     "metadata": {},
     "output_type": "execute_result"
    }
   ],
   "source": [
    "df['num_bbox'].sum()"
   ]
  },
  {
   "cell_type": "code",
   "execution_count": 52,
   "id": "01707c58",
   "metadata": {
    "ExecuteTime": {
     "end_time": "2022-02-09T02:57:45.326085Z",
     "start_time": "2022-02-09T02:57:45.308200Z"
    }
   },
   "outputs": [
    {
     "data": {
      "text/plain": [
       "0.09413346780971592"
      ]
     },
     "execution_count": 52,
     "metadata": {},
     "output_type": "execute_result"
    }
   ],
   "source": [
    "1120/11898"
   ]
  },
  {
   "cell_type": "code",
   "execution_count": 54,
   "id": "efdb541d",
   "metadata": {
    "ExecuteTime": {
     "end_time": "2022-02-09T02:57:52.842362Z",
     "start_time": "2022-02-09T02:57:52.806294Z"
    }
   },
   "outputs": [
    {
     "data": {
      "text/plain": [
       "fold\n",
       "0    247\n",
       "1     51\n",
       "dtype: int64"
      ]
     },
     "execution_count": 54,
     "metadata": {},
     "output_type": "execute_result"
    }
   ],
   "source": [
    "df.groupby(\"fold\").apply(lambda df: np.sum(((df['added_pred'].apply(len)>0).astype(int)  + (df['num_bbox'] == 0)).astype(int) > 1 ))"
   ]
  },
  {
   "cell_type": "code",
   "execution_count": 55,
   "id": "8d54301d",
   "metadata": {
    "ExecuteTime": {
     "end_time": "2022-02-09T02:57:53.910311Z",
     "start_time": "2022-02-09T02:57:53.893811Z"
    }
   },
   "outputs": [
    {
     "data": {
      "text/plain": [
       "0.07176255336450497"
      ]
     },
     "execution_count": 55,
     "metadata": {},
     "output_type": "execute_result"
    }
   ],
   "source": [
    "353 / (df['num_bbox'] > 0).sum()"
   ]
  },
  {
   "cell_type": "code",
   "execution_count": 56,
   "id": "6aef09c7",
   "metadata": {
    "ExecuteTime": {
     "end_time": "2022-02-09T02:57:57.452741Z",
     "start_time": "2022-02-09T02:57:57.418754Z"
    }
   },
   "outputs": [
    {
     "data": {
      "text/plain": [
       "fold\n",
       "0    880\n",
       "1    119\n",
       "dtype: int64"
      ]
     },
     "execution_count": 56,
     "metadata": {},
     "output_type": "execute_result"
    }
   ],
   "source": [
    "df.groupby(\"fold\").apply(lambda df: np.sum(df['added_pred'].apply(len)))"
   ]
  },
  {
   "cell_type": "code",
   "execution_count": 57,
   "id": "3bfc4763",
   "metadata": {
    "ExecuteTime": {
     "end_time": "2022-02-09T02:57:58.220225Z",
     "start_time": "2022-02-09T02:57:58.162114Z"
    }
   },
   "outputs": [],
   "source": [
    "# save it\n",
    "def from_bbox_to_str(bbox):\n",
    "    if len(bbox) == 0:\n",
    "        return '[]'\n",
    "    else:\n",
    "        d = []\n",
    "        for p in bbox:\n",
    "            d.append({\"x\":round(p[0],1), \n",
    "                      \"y\":round(p[1],1), \n",
    "                      \"width\":round(p[2],1), \n",
    "                      \"height\":round(p[3],1)})\n",
    "        return str(d)\n",
    "def from_pred_to_str(bbox):\n",
    "    if len(bbox) == 0:\n",
    "        return '[]'\n",
    "    else:\n",
    "        d = []\n",
    "        for p in bbox:\n",
    "            d.append({'conf':round(p[0],3),\n",
    "                      \"x\":round(p[1],2), \n",
    "                      \"y\":round(p[2],3), \n",
    "                      \"width\":round(p[3],4), \n",
    "                      \"height\":round(p[4],5)})\n",
    "        return str(d)\n",
    "df['new_annotations'] = df['new_real_bbox'].apply(from_bbox_to_str)\n",
    "df['new_added_pred'] = df['added_pred'].apply(from_pred_to_str)"
   ]
  },
  {
   "cell_type": "code",
   "execution_count": 58,
   "id": "17756161",
   "metadata": {
    "ExecuteTime": {
     "end_time": "2022-02-09T02:57:59.680066Z",
     "start_time": "2022-02-09T02:57:59.658650Z"
    }
   },
   "outputs": [
    {
     "data": {
      "text/plain": [
       "[{'x': 386, 'y': 531, 'width': 26, 'height': 25},\n",
       " {'x': 638, 'y': 228, 'width': 36, 'height': 42},\n",
       " {'x': 699, 'y': 314, 'width': 41, 'height': 40},\n",
       " {'x': 308, 'y': 246, 'width': 30, 'height': 25},\n",
       " {'x': 750, 'y': 362, 'width': 63, 'height': 67},\n",
       " {'x': 278, 'y': 315, 'width': 56, 'height': 38},\n",
       " {'x': 788, 'y': 339, 'width': 29, 'height': 52},\n",
       " {'x': 356, 'y': 274, 'width': 24, 'height': 24},\n",
       " {'x': 178, 'y': 418, 'width': 30, 'height': 37},\n",
       " {'x': 208, 'y': 459, 'width': 29, 'height': 34},\n",
       " {'x': 658, 'y': 541, 'width': 34, 'height': 34},\n",
       " {'x': 445.0, 'y': 195.5, 'width': 36.0, 'height': 36.0},\n",
       " {'x': 457.9, 'y': 185.4, 'width': 27.7, 'height': 25.1}]"
      ]
     },
     "execution_count": 58,
     "metadata": {},
     "output_type": "execute_result"
    }
   ],
   "source": [
    "ast.literal_eval(df.iloc[9316][\"new_annotations\"])"
   ]
  },
  {
   "cell_type": "code",
   "execution_count": 59,
   "id": "d81ef598",
   "metadata": {
    "ExecuteTime": {
     "end_time": "2022-02-09T02:58:00.237225Z",
     "start_time": "2022-02-09T02:58:00.217669Z"
    }
   },
   "outputs": [
    {
     "data": {
      "text/plain": [
       "[{'conf': 0.707,\n",
       "  'x': 445.0,\n",
       "  'y': 195.51,\n",
       "  'width': 35.9944,\n",
       "  'height': 35.98886},\n",
       " {'conf': 0.61, 'x': 457.87, 'y': 185.4, 'width': 27.6673, 'height': 25.13382}]"
      ]
     },
     "execution_count": 59,
     "metadata": {},
     "output_type": "execute_result"
    }
   ],
   "source": [
    "ast.literal_eval(df.iloc[9316][\"new_added_pred\"])"
   ]
  },
  {
   "cell_type": "code",
   "execution_count": 60,
   "id": "21d48ce9",
   "metadata": {
    "ExecuteTime": {
     "end_time": "2022-02-09T02:58:00.684486Z",
     "start_time": "2022-02-09T02:58:00.663524Z"
    }
   },
   "outputs": [
    {
     "data": {
      "text/plain": [
       "[{'x': 386, 'y': 531, 'width': 26, 'height': 25},\n",
       " {'x': 638, 'y': 228, 'width': 36, 'height': 42},\n",
       " {'x': 699, 'y': 314, 'width': 41, 'height': 40},\n",
       " {'x': 308, 'y': 246, 'width': 30, 'height': 25},\n",
       " {'x': 750, 'y': 362, 'width': 63, 'height': 67},\n",
       " {'x': 278, 'y': 315, 'width': 56, 'height': 38},\n",
       " {'x': 788, 'y': 339, 'width': 29, 'height': 52},\n",
       " {'x': 356, 'y': 274, 'width': 24, 'height': 24},\n",
       " {'x': 178, 'y': 418, 'width': 30, 'height': 37},\n",
       " {'x': 208, 'y': 459, 'width': 29, 'height': 34},\n",
       " {'x': 658, 'y': 541, 'width': 34, 'height': 34}]"
      ]
     },
     "execution_count": 60,
     "metadata": {},
     "output_type": "execute_result"
    }
   ],
   "source": [
    "ast.literal_eval(df_origin.query(\"video_id == 1 and video_frame==4164\").iloc[0]['annotations'])"
   ]
  },
  {
   "cell_type": "code",
   "execution_count": 61,
   "id": "43957165",
   "metadata": {
    "ExecuteTime": {
     "end_time": "2022-02-09T02:58:02.183242Z",
     "start_time": "2022-02-09T02:58:02.119875Z"
    }
   },
   "outputs": [
    {
     "data": {
      "text/html": [
       "<div>\n",
       "<style scoped>\n",
       "    .dataframe tbody tr th:only-of-type {\n",
       "        vertical-align: middle;\n",
       "    }\n",
       "\n",
       "    .dataframe tbody tr th {\n",
       "        vertical-align: top;\n",
       "    }\n",
       "\n",
       "    .dataframe thead th {\n",
       "        text-align: right;\n",
       "    }\n",
       "</style>\n",
       "<table border=\"1\" class=\"dataframe\">\n",
       "  <thead>\n",
       "    <tr style=\"text-align: right;\">\n",
       "      <th></th>\n",
       "      <th>video_id</th>\n",
       "      <th>sequence</th>\n",
       "      <th>video_frame</th>\n",
       "      <th>sequence_frame</th>\n",
       "      <th>image_id</th>\n",
       "      <th>annotations</th>\n",
       "      <th>new_annotations</th>\n",
       "      <th>new_added_pred</th>\n",
       "    </tr>\n",
       "  </thead>\n",
       "  <tbody>\n",
       "    <tr>\n",
       "      <th>0</th>\n",
       "      <td>0</td>\n",
       "      <td>40258</td>\n",
       "      <td>0</td>\n",
       "      <td>0</td>\n",
       "      <td>0-0</td>\n",
       "      <td>[]</td>\n",
       "      <td>[]</td>\n",
       "      <td>[]</td>\n",
       "    </tr>\n",
       "    <tr>\n",
       "      <th>1</th>\n",
       "      <td>0</td>\n",
       "      <td>40258</td>\n",
       "      <td>1</td>\n",
       "      <td>1</td>\n",
       "      <td>0-1</td>\n",
       "      <td>[]</td>\n",
       "      <td>[]</td>\n",
       "      <td>[]</td>\n",
       "    </tr>\n",
       "    <tr>\n",
       "      <th>2</th>\n",
       "      <td>0</td>\n",
       "      <td>40258</td>\n",
       "      <td>2</td>\n",
       "      <td>2</td>\n",
       "      <td>0-2</td>\n",
       "      <td>[]</td>\n",
       "      <td>[]</td>\n",
       "      <td>[]</td>\n",
       "    </tr>\n",
       "    <tr>\n",
       "      <th>3</th>\n",
       "      <td>0</td>\n",
       "      <td>40258</td>\n",
       "      <td>3</td>\n",
       "      <td>3</td>\n",
       "      <td>0-3</td>\n",
       "      <td>[]</td>\n",
       "      <td>[]</td>\n",
       "      <td>[]</td>\n",
       "    </tr>\n",
       "    <tr>\n",
       "      <th>4</th>\n",
       "      <td>0</td>\n",
       "      <td>40258</td>\n",
       "      <td>4</td>\n",
       "      <td>4</td>\n",
       "      <td>0-4</td>\n",
       "      <td>[]</td>\n",
       "      <td>[]</td>\n",
       "      <td>[]</td>\n",
       "    </tr>\n",
       "    <tr>\n",
       "      <th>...</th>\n",
       "      <td>...</td>\n",
       "      <td>...</td>\n",
       "      <td>...</td>\n",
       "      <td>...</td>\n",
       "      <td>...</td>\n",
       "      <td>...</td>\n",
       "      <td>...</td>\n",
       "      <td>...</td>\n",
       "    </tr>\n",
       "    <tr>\n",
       "      <th>23496</th>\n",
       "      <td>2</td>\n",
       "      <td>29859</td>\n",
       "      <td>10755</td>\n",
       "      <td>2983</td>\n",
       "      <td>2-10755</td>\n",
       "      <td>[]</td>\n",
       "      <td>[]</td>\n",
       "      <td>[]</td>\n",
       "    </tr>\n",
       "    <tr>\n",
       "      <th>23497</th>\n",
       "      <td>2</td>\n",
       "      <td>29859</td>\n",
       "      <td>10756</td>\n",
       "      <td>2984</td>\n",
       "      <td>2-10756</td>\n",
       "      <td>[]</td>\n",
       "      <td>[]</td>\n",
       "      <td>[]</td>\n",
       "    </tr>\n",
       "    <tr>\n",
       "      <th>23498</th>\n",
       "      <td>2</td>\n",
       "      <td>29859</td>\n",
       "      <td>10757</td>\n",
       "      <td>2985</td>\n",
       "      <td>2-10757</td>\n",
       "      <td>[]</td>\n",
       "      <td>[]</td>\n",
       "      <td>[]</td>\n",
       "    </tr>\n",
       "    <tr>\n",
       "      <th>23499</th>\n",
       "      <td>2</td>\n",
       "      <td>29859</td>\n",
       "      <td>10758</td>\n",
       "      <td>2986</td>\n",
       "      <td>2-10758</td>\n",
       "      <td>[]</td>\n",
       "      <td>[]</td>\n",
       "      <td>[]</td>\n",
       "    </tr>\n",
       "    <tr>\n",
       "      <th>23500</th>\n",
       "      <td>2</td>\n",
       "      <td>29859</td>\n",
       "      <td>10759</td>\n",
       "      <td>2987</td>\n",
       "      <td>2-10759</td>\n",
       "      <td>[]</td>\n",
       "      <td>[]</td>\n",
       "      <td>[]</td>\n",
       "    </tr>\n",
       "  </tbody>\n",
       "</table>\n",
       "<p>23501 rows × 8 columns</p>\n",
       "</div>"
      ],
      "text/plain": [
       "       video_id  sequence  video_frame  sequence_frame image_id annotations  \\\n",
       "0             0     40258            0               0      0-0          []   \n",
       "1             0     40258            1               1      0-1          []   \n",
       "2             0     40258            2               2      0-2          []   \n",
       "3             0     40258            3               3      0-3          []   \n",
       "4             0     40258            4               4      0-4          []   \n",
       "...         ...       ...          ...             ...      ...         ...   \n",
       "23496         2     29859        10755            2983  2-10755          []   \n",
       "23497         2     29859        10756            2984  2-10756          []   \n",
       "23498         2     29859        10757            2985  2-10757          []   \n",
       "23499         2     29859        10758            2986  2-10758          []   \n",
       "23500         2     29859        10759            2987  2-10759          []   \n",
       "\n",
       "      new_annotations new_added_pred  \n",
       "0                  []             []  \n",
       "1                  []             []  \n",
       "2                  []             []  \n",
       "3                  []             []  \n",
       "4                  []             []  \n",
       "...               ...            ...  \n",
       "23496              []             []  \n",
       "23497              []             []  \n",
       "23498              []             []  \n",
       "23499              []             []  \n",
       "23500              []             []  \n",
       "\n",
       "[23501 rows x 8 columns]"
      ]
     },
     "execution_count": 61,
     "metadata": {},
     "output_type": "execute_result"
    }
   ],
   "source": [
    "df_origin = pd.merge(df_origin, df[['video_id','video_frame','new_annotations','new_added_pred']], on=['video_id','video_frame'], how='left')\n",
    "df_origin.fillna(\"[]\", inplace=True)\n",
    "df_origin"
   ]
  },
  {
   "cell_type": "code",
   "execution_count": 62,
   "id": "9b2fa568",
   "metadata": {
    "ExecuteTime": {
     "end_time": "2022-02-09T02:58:07.464921Z",
     "start_time": "2022-02-09T02:58:07.451050Z"
    }
   },
   "outputs": [],
   "source": [
    "#df_origin.to_csv(\"../../data/tensorflow-great-barrier-reef/train_with_added_GT.csv\",index=False)"
   ]
  },
  {
   "cell_type": "markdown",
   "id": "19a79def",
   "metadata": {},
   "source": [
    "# checking FP from best LB"
   ]
  },
  {
   "cell_type": "code",
   "execution_count": 165,
   "id": "c5f56389",
   "metadata": {
    "ExecuteTime": {
     "end_time": "2022-02-09T03:56:14.512702Z",
     "start_time": "2022-02-09T03:56:14.491334Z"
    }
   },
   "outputs": [
    {
     "data": {
      "text/html": [
       "<div>\n",
       "<style scoped>\n",
       "    .dataframe tbody tr th:only-of-type {\n",
       "        vertical-align: middle;\n",
       "    }\n",
       "\n",
       "    .dataframe tbody tr th {\n",
       "        vertical-align: top;\n",
       "    }\n",
       "\n",
       "    .dataframe thead th {\n",
       "        text-align: right;\n",
       "    }\n",
       "</style>\n",
       "<table border=\"1\" class=\"dataframe\">\n",
       "  <thead>\n",
       "    <tr style=\"text-align: right;\">\n",
       "      <th></th>\n",
       "      <th>video_id</th>\n",
       "      <th>sequence</th>\n",
       "      <th>video_frame</th>\n",
       "      <th>sequence_frame</th>\n",
       "      <th>image_id</th>\n",
       "      <th>annotations</th>\n",
       "      <th>new_annotations</th>\n",
       "      <th>new_added_pred</th>\n",
       "    </tr>\n",
       "  </thead>\n",
       "  <tbody>\n",
       "    <tr>\n",
       "      <th>0</th>\n",
       "      <td>0</td>\n",
       "      <td>40258</td>\n",
       "      <td>0</td>\n",
       "      <td>0</td>\n",
       "      <td>0-0</td>\n",
       "      <td>[]</td>\n",
       "      <td>[]</td>\n",
       "      <td>[]</td>\n",
       "    </tr>\n",
       "    <tr>\n",
       "      <th>1</th>\n",
       "      <td>0</td>\n",
       "      <td>40258</td>\n",
       "      <td>1</td>\n",
       "      <td>1</td>\n",
       "      <td>0-1</td>\n",
       "      <td>[]</td>\n",
       "      <td>[]</td>\n",
       "      <td>[]</td>\n",
       "    </tr>\n",
       "    <tr>\n",
       "      <th>2</th>\n",
       "      <td>0</td>\n",
       "      <td>40258</td>\n",
       "      <td>2</td>\n",
       "      <td>2</td>\n",
       "      <td>0-2</td>\n",
       "      <td>[]</td>\n",
       "      <td>[]</td>\n",
       "      <td>[]</td>\n",
       "    </tr>\n",
       "    <tr>\n",
       "      <th>3</th>\n",
       "      <td>0</td>\n",
       "      <td>40258</td>\n",
       "      <td>3</td>\n",
       "      <td>3</td>\n",
       "      <td>0-3</td>\n",
       "      <td>[]</td>\n",
       "      <td>[]</td>\n",
       "      <td>[]</td>\n",
       "    </tr>\n",
       "    <tr>\n",
       "      <th>4</th>\n",
       "      <td>0</td>\n",
       "      <td>40258</td>\n",
       "      <td>4</td>\n",
       "      <td>4</td>\n",
       "      <td>0-4</td>\n",
       "      <td>[]</td>\n",
       "      <td>[]</td>\n",
       "      <td>[]</td>\n",
       "    </tr>\n",
       "  </tbody>\n",
       "</table>\n",
       "</div>"
      ],
      "text/plain": [
       "   video_id  sequence  video_frame  sequence_frame image_id annotations  \\\n",
       "0         0     40258            0               0      0-0          []   \n",
       "1         0     40258            1               1      0-1          []   \n",
       "2         0     40258            2               2      0-2          []   \n",
       "3         0     40258            3               3      0-3          []   \n",
       "4         0     40258            4               4      0-4          []   \n",
       "\n",
       "  new_annotations new_added_pred  \n",
       "0              []             []  \n",
       "1              []             []  \n",
       "2              []             []  \n",
       "3              []             []  \n",
       "4              []             []  "
      ]
     },
     "execution_count": 165,
     "metadata": {},
     "output_type": "execute_result"
    }
   ],
   "source": [
    "df_origin.head()"
   ]
  },
  {
   "cell_type": "code",
   "execution_count": 166,
   "id": "41886fdd",
   "metadata": {
    "ExecuteTime": {
     "end_time": "2022-02-09T03:56:14.546253Z",
     "start_time": "2022-02-09T03:56:14.513653Z"
    }
   },
   "outputs": [],
   "source": [
    "LB_pred = pd.read_csv(\"../input/train_oof_v79.csv\")"
   ]
  },
  {
   "cell_type": "code",
   "execution_count": 167,
   "id": "dc3f4d8a",
   "metadata": {
    "ExecuteTime": {
     "end_time": "2022-02-09T03:56:15.102443Z",
     "start_time": "2022-02-09T03:56:14.665991Z"
    }
   },
   "outputs": [],
   "source": [
    "LB_pred['annotations'] = df['new_annotations'].apply(ast.literal_eval)\n",
    "LB_pred['image_path'] = df['image_path']\n",
    "LB_pred['real_bbox'] = df['new_real_bbox']\n",
    "LB_pred['wbf_pred'] = LB_pred['pred'].apply(lambda x: [list(p.values()) for p in ast.literal_eval(x)])"
   ]
  },
  {
   "cell_type": "code",
   "execution_count": 168,
   "id": "ba8908d9",
   "metadata": {
    "ExecuteTime": {
     "end_time": "2022-02-09T03:56:15.127205Z",
     "start_time": "2022-02-09T03:56:15.103501Z"
    }
   },
   "outputs": [],
   "source": [
    "LB_pred[\"added_pred\"] = [list([]) for _ in range(LB_pred.shape[0])]\n",
    "LB_pred[\"new_real_bbox\"] = [list([]) for _ in range(LB_pred.shape[0])]"
   ]
  },
  {
   "cell_type": "code",
   "execution_count": 169,
   "id": "396f8311",
   "metadata": {
    "ExecuteTime": {
     "end_time": "2022-02-09T03:56:16.450460Z",
     "start_time": "2022-02-09T03:56:15.128013Z"
    }
   },
   "outputs": [],
   "source": [
    "for idx, row in LB_pred.iterrows():\n",
    "    if len(row['wbf_pred']) == 0 or len(row['real_bbox']) == 0:\n",
    "        continue\n",
    "    else:\n",
    "        wbf_pred = np.array(row['wbf_pred'])\n",
    "        real_gt = np.array(row['real_bbox'])\n",
    "        added_pred = []\n",
    "        ious = util.calc_iou(np.array(wbf_pred)[:,1:], np.array(real_gt))\n",
    "        ious_max = ious.max(axis=1)\n",
    "        added_pred = wbf_pred[ious_max < 0.3].copy().tolist()\n",
    "        LB_pred.at[idx,'wbf_pred'] = added_pred"
   ]
  },
  {
   "cell_type": "code",
   "execution_count": 170,
   "id": "c9907239",
   "metadata": {
    "ExecuteTime": {
     "end_time": "2022-02-09T03:56:16.466159Z",
     "start_time": "2022-02-09T03:56:16.451744Z"
    },
    "scrolled": true
   },
   "outputs": [],
   "source": [
    "# for video_id, sequence in LB_pred.groupby([\"video_id\",\"sequence\"]).size().index:\n",
    "#     make_video(LB_pred, video_id, sequence, 'wbf_pred', out_dir[:-1] + \"_2/\", 0, name=f\"check-{video_id}-{sequence}\",s_f=None, e_f=None)"
   ]
  },
  {
   "cell_type": "code",
   "execution_count": 171,
   "id": "aa066279",
   "metadata": {
    "ExecuteTime": {
     "end_time": "2022-02-09T03:56:16.483409Z",
     "start_time": "2022-02-09T03:56:16.467159Z"
    }
   },
   "outputs": [],
   "source": [
    "# video_id = 0\n",
    "# sequence = 8399\n",
    "# s_f = 4722\n",
    "# e_f = 4821\n",
    "# make_video(LB_pred, video_id, sequence, 'wbf_pred', out_dir[:-1] + \"_2/\", 0, name=f\"checkBlackHole-{video_id}-{sequence}-s{s_f}-e{e_f}\",s_f=s_f, e_f=e_f)"
   ]
  },
  {
   "cell_type": "code",
   "execution_count": 172,
   "id": "e60d6466",
   "metadata": {
    "ExecuteTime": {
     "end_time": "2022-02-09T03:56:16.498359Z",
     "start_time": "2022-02-09T03:56:16.484394Z"
    },
    "scrolled": true
   },
   "outputs": [],
   "source": [
    "# pic_out_dir = '/home/vincent/Kaggle/data/tensorflow-great-barrier-reef/pic_check/'\n",
    "# for video_id, sequence in LB_pred.groupby([\"video_id\",\"sequence\"]).size().index:\n",
    "#     save_bulk_images(LB_pred, video_id, sequence, 'wbf_pred', pic_out_dir, 0, name=f\"v{video_id}-s{sequence}\",s_f=None, e_f=None)"
   ]
  },
  {
   "cell_type": "markdown",
   "id": "5a998a22",
   "metadata": {
    "ExecuteTime": {
     "end_time": "2022-02-09T01:11:16.067266Z",
     "start_time": "2022-02-09T01:11:16.052507Z"
    }
   },
   "source": [
    "# Add GT from best LB"
   ]
  },
  {
   "cell_type": "code",
   "execution_count": 173,
   "id": "3e427a6e",
   "metadata": {
    "ExecuteTime": {
     "end_time": "2022-02-09T03:56:16.522303Z",
     "start_time": "2022-02-09T03:56:16.499341Z"
    }
   },
   "outputs": [
    {
     "data": {
      "text/plain": [
       "2302"
      ]
     },
     "execution_count": 173,
     "metadata": {},
     "output_type": "execute_result"
    }
   ],
   "source": [
    "# remove those unnecessary\n",
    "pairs = []\n",
    "pairs.extend(\n",
    "[\n",
    "    0, 8900,1, 8946, 0, 5762, 0, 5781,2 ,4691,2,4695,2,4699, 0,9633,\n",
    "])\n",
    "for i in range(85, 133):\n",
    "    pairs.extend([0, i])\n",
    "for i in range(85, 133):\n",
    "    pairs.extend([0, i])\n",
    "for i in range(220, 243):\n",
    "    pairs.extend([0, i])\n",
    "\n",
    "for i in range(11843, 11890):\n",
    "    pairs.extend([0, i])\n",
    "for i in range(12187, 12241):\n",
    "    pairs.extend([0, i])\n",
    "\n",
    "for i in range(1877, 1945):\n",
    "    pairs.extend([0, i])\n",
    "for i in range(2032, 2039):\n",
    "    pairs.extend([0, i])\n",
    "for i in range(2230, 2272):\n",
    "    pairs.extend([0, i])\n",
    "for i in range(1496, 1543):\n",
    "    pairs.extend([0, i])\n",
    "\n",
    "for i in range(4448, 4488):\n",
    "    pairs.extend([0, i])\n",
    "for i in range(4523, 4548):\n",
    "    pairs.extend([0, i])\n",
    "    \n",
    "for i in range(9376, 9460):\n",
    "    # remove those fish in the ocean\n",
    "    pairs.extend([0, i])\n",
    "for i in range(9523, 9544):\n",
    "    pairs.extend([0, i])\n",
    "for i in range(9599, 9630 ):\n",
    "    pairs.extend([0, i])\n",
    "for i in range(9041, 9212):\n",
    "    pairs.extend([1, i])\n",
    "for i in range(9242, 9275):\n",
    "    pairs.extend([1, i])\n",
    "for i in range(9344, 9372):\n",
    "    pairs.extend([1, i])\n",
    "for i in range(4056, 4088):\n",
    "    pairs.extend([1, i])\n",
    "for i in range(4197, 4265):\n",
    "    pairs.extend([1, i])\n",
    "for i in range(5828, 5916):\n",
    "    pairs.extend([1, i])\n",
    "\n",
    "for i in range(4658, 4685):\n",
    "    pairs.extend([2, i])\n",
    "for i in range(4705, 4719):\n",
    "    pairs.extend([2, i])\n",
    "for i in range(4705, 4719):\n",
    "    pairs.extend([2, i])\n",
    "for i in range(5975, 6058):\n",
    "    pairs.extend([0, i])\n",
    "\n",
    "len(pairs)"
   ]
  },
  {
   "cell_type": "code",
   "execution_count": 174,
   "id": "160ea583",
   "metadata": {
    "ExecuteTime": {
     "end_time": "2022-02-09T03:56:16.536623Z",
     "start_time": "2022-02-09T03:56:16.523120Z"
    }
   },
   "outputs": [],
   "source": [
    "added_GT = 0"
   ]
  },
  {
   "cell_type": "code",
   "execution_count": 175,
   "id": "c4fea138",
   "metadata": {
    "ExecuteTime": {
     "end_time": "2022-02-09T03:56:17.498751Z",
     "start_time": "2022-02-09T03:56:16.537710Z"
    }
   },
   "outputs": [
    {
     "data": {
      "text/plain": [
       "(243, 58)"
      ]
     },
     "execution_count": 175,
     "metadata": {},
     "output_type": "execute_result"
    }
   ],
   "source": [
    "appeared = set([])\n",
    "removed_FP = 0\n",
    "manual_process = []\n",
    "for i in range(len(pairs)//2):\n",
    "    video_id = pairs[i * 2]\n",
    "    video_frame = pairs[i * 2 + 1]\n",
    "    if (video_id, video_frame) in appeared:\n",
    "        continue\n",
    "    else:\n",
    "        appeared.add((video_id, video_frame))\n",
    "    idx = LB_pred.query(\"video_id == @video_id and video_frame == @video_frame\").index[0]\n",
    "    if len(LB_pred.loc[idx, 'wbf_pred']) <= 1:\n",
    "        added_GT += len(LB_pred.loc[idx,'wbf_pred'])\n",
    "        LB_pred.at[idx, 'added_pred'] = LB_pred.at[idx, \"wbf_pred\"]\n",
    "    else:\n",
    "        manual_process.extend([video_id, video_frame])\n",
    "added_GT, len(manual_process)"
   ]
  },
  {
   "cell_type": "code",
   "execution_count": 176,
   "id": "dd421395",
   "metadata": {
    "ExecuteTime": {
     "end_time": "2022-02-09T03:56:18.715917Z",
     "start_time": "2022-02-09T03:56:18.687853Z"
    }
   },
   "outputs": [
    {
     "data": {
      "text/plain": [
       "239"
      ]
     },
     "execution_count": 176,
     "metadata": {},
     "output_type": "execute_result"
    }
   ],
   "source": [
    "LB_pred[LB_pred['added_pred'].apply(len) > 0].query(\"sequence == 45015\")\n",
    "remove = [6050, 6053, 6054, 6057]\n",
    "for video_frame in remove:\n",
    "    LB_pred.at[LB_pred.query('sequence == 45015 and video_frame == @video_frame').index[0], \"added_pred\"] = []\n",
    "    added_GT -= 1\n",
    "added_GT"
   ]
  },
  {
   "cell_type": "code",
   "execution_count": 177,
   "id": "88fc5d6e",
   "metadata": {
    "ExecuteTime": {
     "end_time": "2022-02-09T03:56:19.809216Z",
     "start_time": "2022-02-09T03:56:19.748070Z"
    }
   },
   "outputs": [
    {
     "data": {
      "text/html": [
       "<div>\n",
       "<style scoped>\n",
       "    .dataframe tbody tr th:only-of-type {\n",
       "        vertical-align: middle;\n",
       "    }\n",
       "\n",
       "    .dataframe tbody tr th {\n",
       "        vertical-align: top;\n",
       "    }\n",
       "\n",
       "    .dataframe thead th {\n",
       "        text-align: right;\n",
       "    }\n",
       "</style>\n",
       "<table border=\"1\" class=\"dataframe\">\n",
       "  <thead>\n",
       "    <tr style=\"text-align: right;\">\n",
       "      <th></th>\n",
       "      <th>sequence</th>\n",
       "      <th>video_frame</th>\n",
       "      <th>wbf_pred</th>\n",
       "    </tr>\n",
       "  </thead>\n",
       "  <tbody>\n",
       "    <tr>\n",
       "      <th>6227</th>\n",
       "      <td>996</td>\n",
       "      <td>11867</td>\n",
       "      <td>[[0.517, 841.0, 18.0, 46.0, 36.0], [0.408, 429...</td>\n",
       "    </tr>\n",
       "    <tr>\n",
       "      <th>11035</th>\n",
       "      <td>8503</td>\n",
       "      <td>5883</td>\n",
       "      <td>[[0.514, 178.0, 283.0, 40.0, 50.0], [0.46, 333...</td>\n",
       "    </tr>\n",
       "    <tr>\n",
       "      <th>18763</th>\n",
       "      <td>26651</td>\n",
       "      <td>4695</td>\n",
       "      <td>[[0.541, 293, 333, 27, 28], [0.535, 965, 646, ...</td>\n",
       "    </tr>\n",
       "    <tr>\n",
       "      <th>3587</th>\n",
       "      <td>45015</td>\n",
       "      <td>6051</td>\n",
       "      <td>[[0.459, 874, 324, 38, 32], [0.436, 964, 220, ...</td>\n",
       "    </tr>\n",
       "    <tr>\n",
       "      <th>3591</th>\n",
       "      <td>45015</td>\n",
       "      <td>6055</td>\n",
       "      <td>[[0.604, 899, 348, 43, 39], [0.515, 989, 229, ...</td>\n",
       "    </tr>\n",
       "    <tr>\n",
       "      <th>1140</th>\n",
       "      <td>45518</td>\n",
       "      <td>1533</td>\n",
       "      <td>[[0.63, 311, 330, 28, 20], [0.629, 693, 215, 9...</td>\n",
       "    </tr>\n",
       "    <tr>\n",
       "      <th>1141</th>\n",
       "      <td>45518</td>\n",
       "      <td>1534</td>\n",
       "      <td>[[0.662, 299, 333, 34, 22], [0.509, 232, 666, ...</td>\n",
       "    </tr>\n",
       "    <tr>\n",
       "      <th>5224</th>\n",
       "      <td>53708</td>\n",
       "      <td>9401</td>\n",
       "      <td>[[0.45, 370.0, 135.0, 30.0, 25.0], [0.45, 806....</td>\n",
       "    </tr>\n",
       "    <tr>\n",
       "      <th>5262</th>\n",
       "      <td>53708</td>\n",
       "      <td>9439</td>\n",
       "      <td>[[0.615, 174.0, 280.0, 38.0, 25.0], [0.43, 435...</td>\n",
       "    </tr>\n",
       "    <tr>\n",
       "      <th>5266</th>\n",
       "      <td>53708</td>\n",
       "      <td>9443</td>\n",
       "      <td>[[0.694, 415.0, 308.0, 40.0, 22.0], [0.416, 13...</td>\n",
       "    </tr>\n",
       "    <tr>\n",
       "      <th>5267</th>\n",
       "      <td>53708</td>\n",
       "      <td>9444</td>\n",
       "      <td>[[0.643, 410.0, 318.0, 41.0, 22.0], [0.5, 119....</td>\n",
       "    </tr>\n",
       "    <tr>\n",
       "      <th>5268</th>\n",
       "      <td>53708</td>\n",
       "      <td>9445</td>\n",
       "      <td>[[0.643, 406.0, 327.0, 41.0, 22.0], [0.513, 10...</td>\n",
       "    </tr>\n",
       "    <tr>\n",
       "      <th>5269</th>\n",
       "      <td>53708</td>\n",
       "      <td>9446</td>\n",
       "      <td>[[0.749, 401.0, 337.0, 43.0, 22.0], [0.556, 96...</td>\n",
       "    </tr>\n",
       "    <tr>\n",
       "      <th>5270</th>\n",
       "      <td>53708</td>\n",
       "      <td>9447</td>\n",
       "      <td>[[0.569, 397.0, 347.0, 43.0, 23.0], [0.566, 87...</td>\n",
       "    </tr>\n",
       "    <tr>\n",
       "      <th>5274</th>\n",
       "      <td>53708</td>\n",
       "      <td>9451</td>\n",
       "      <td>[[0.576, 958.0, 225.0, 13.0, 12.0], [0.506, 38...</td>\n",
       "    </tr>\n",
       "    <tr>\n",
       "      <th>5278</th>\n",
       "      <td>53708</td>\n",
       "      <td>9455</td>\n",
       "      <td>[[0.506, 967.0, 249.0, 15.0, 14.0], [0.413, 0....</td>\n",
       "    </tr>\n",
       "    <tr>\n",
       "      <th>5456</th>\n",
       "      <td>53708</td>\n",
       "      <td>9633</td>\n",
       "      <td>[[0.557, 115.0, 187.0, 44.0, 35.0], [0.415, 11...</td>\n",
       "    </tr>\n",
       "    <tr>\n",
       "      <th>1692</th>\n",
       "      <td>59337</td>\n",
       "      <td>2265</td>\n",
       "      <td>[[0.572, 600, 155, 28, 23], [0.562, 69, 174, 4...</td>\n",
       "    </tr>\n",
       "    <tr>\n",
       "      <th>12621</th>\n",
       "      <td>60754</td>\n",
       "      <td>9056</td>\n",
       "      <td>[[0.537, 874.0, 143.0, 21.0, 17.0], [0.417, 77...</td>\n",
       "    </tr>\n",
       "    <tr>\n",
       "      <th>12629</th>\n",
       "      <td>60754</td>\n",
       "      <td>9064</td>\n",
       "      <td>[[0.584, 575.0, 256.0, 32.0, 31.0], [0.537, 60...</td>\n",
       "    </tr>\n",
       "    <tr>\n",
       "      <th>12642</th>\n",
       "      <td>60754</td>\n",
       "      <td>9077</td>\n",
       "      <td>[[0.717, 554.0, 447.0, 32.0, 37.0], [0.491, 45...</td>\n",
       "    </tr>\n",
       "    <tr>\n",
       "      <th>12645</th>\n",
       "      <td>60754</td>\n",
       "      <td>9080</td>\n",
       "      <td>[[0.577, 809.0, 254.0, 37.0, 30.0], [0.52, 552...</td>\n",
       "    </tr>\n",
       "    <tr>\n",
       "      <th>12646</th>\n",
       "      <td>60754</td>\n",
       "      <td>9081</td>\n",
       "      <td>[[0.626, 443.0, 172.0, 21.0, 21.0], [0.49, 547...</td>\n",
       "    </tr>\n",
       "    <tr>\n",
       "      <th>12647</th>\n",
       "      <td>60754</td>\n",
       "      <td>9082</td>\n",
       "      <td>[[0.728, 541.0, 475.0, 31.0, 39.0], [0.571, 43...</td>\n",
       "    </tr>\n",
       "    <tr>\n",
       "      <th>12648</th>\n",
       "      <td>60754</td>\n",
       "      <td>9083</td>\n",
       "      <td>[[0.663, 713.0, 639.0, 27.0, 24.0], [0.653, 43...</td>\n",
       "    </tr>\n",
       "    <tr>\n",
       "      <th>12650</th>\n",
       "      <td>60754</td>\n",
       "      <td>9085</td>\n",
       "      <td>[[0.63, 700.0, 625.0, 26.0, 25.0], [0.475, 795...</td>\n",
       "    </tr>\n",
       "    <tr>\n",
       "      <th>12670</th>\n",
       "      <td>60754</td>\n",
       "      <td>9105</td>\n",
       "      <td>[[0.656, 547.0, 568.0, 34.0, 40.0], [0.509, 60...</td>\n",
       "    </tr>\n",
       "    <tr>\n",
       "      <th>12678</th>\n",
       "      <td>60754</td>\n",
       "      <td>9113</td>\n",
       "      <td>[[0.461, 536.0, 0.0, 26.0, 23.0], [0.449, 536....</td>\n",
       "    </tr>\n",
       "    <tr>\n",
       "      <th>12736</th>\n",
       "      <td>60754</td>\n",
       "      <td>9171</td>\n",
       "      <td>[[0.684, 343.0, 148.0, 33.0, 31.0], [0.593, 34...</td>\n",
       "    </tr>\n",
       "  </tbody>\n",
       "</table>\n",
       "</div>"
      ],
      "text/plain": [
       "       sequence  video_frame  \\\n",
       "6227        996        11867   \n",
       "11035      8503         5883   \n",
       "18763     26651         4695   \n",
       "3587      45015         6051   \n",
       "3591      45015         6055   \n",
       "1140      45518         1533   \n",
       "1141      45518         1534   \n",
       "5224      53708         9401   \n",
       "5262      53708         9439   \n",
       "5266      53708         9443   \n",
       "5267      53708         9444   \n",
       "5268      53708         9445   \n",
       "5269      53708         9446   \n",
       "5270      53708         9447   \n",
       "5274      53708         9451   \n",
       "5278      53708         9455   \n",
       "5456      53708         9633   \n",
       "1692      59337         2265   \n",
       "12621     60754         9056   \n",
       "12629     60754         9064   \n",
       "12642     60754         9077   \n",
       "12645     60754         9080   \n",
       "12646     60754         9081   \n",
       "12647     60754         9082   \n",
       "12648     60754         9083   \n",
       "12650     60754         9085   \n",
       "12670     60754         9105   \n",
       "12678     60754         9113   \n",
       "12736     60754         9171   \n",
       "\n",
       "                                                wbf_pred  \n",
       "6227   [[0.517, 841.0, 18.0, 46.0, 36.0], [0.408, 429...  \n",
       "11035  [[0.514, 178.0, 283.0, 40.0, 50.0], [0.46, 333...  \n",
       "18763  [[0.541, 293, 333, 27, 28], [0.535, 965, 646, ...  \n",
       "3587   [[0.459, 874, 324, 38, 32], [0.436, 964, 220, ...  \n",
       "3591   [[0.604, 899, 348, 43, 39], [0.515, 989, 229, ...  \n",
       "1140   [[0.63, 311, 330, 28, 20], [0.629, 693, 215, 9...  \n",
       "1141   [[0.662, 299, 333, 34, 22], [0.509, 232, 666, ...  \n",
       "5224   [[0.45, 370.0, 135.0, 30.0, 25.0], [0.45, 806....  \n",
       "5262   [[0.615, 174.0, 280.0, 38.0, 25.0], [0.43, 435...  \n",
       "5266   [[0.694, 415.0, 308.0, 40.0, 22.0], [0.416, 13...  \n",
       "5267   [[0.643, 410.0, 318.0, 41.0, 22.0], [0.5, 119....  \n",
       "5268   [[0.643, 406.0, 327.0, 41.0, 22.0], [0.513, 10...  \n",
       "5269   [[0.749, 401.0, 337.0, 43.0, 22.0], [0.556, 96...  \n",
       "5270   [[0.569, 397.0, 347.0, 43.0, 23.0], [0.566, 87...  \n",
       "5274   [[0.576, 958.0, 225.0, 13.0, 12.0], [0.506, 38...  \n",
       "5278   [[0.506, 967.0, 249.0, 15.0, 14.0], [0.413, 0....  \n",
       "5456   [[0.557, 115.0, 187.0, 44.0, 35.0], [0.415, 11...  \n",
       "1692   [[0.572, 600, 155, 28, 23], [0.562, 69, 174, 4...  \n",
       "12621  [[0.537, 874.0, 143.0, 21.0, 17.0], [0.417, 77...  \n",
       "12629  [[0.584, 575.0, 256.0, 32.0, 31.0], [0.537, 60...  \n",
       "12642  [[0.717, 554.0, 447.0, 32.0, 37.0], [0.491, 45...  \n",
       "12645  [[0.577, 809.0, 254.0, 37.0, 30.0], [0.52, 552...  \n",
       "12646  [[0.626, 443.0, 172.0, 21.0, 21.0], [0.49, 547...  \n",
       "12647  [[0.728, 541.0, 475.0, 31.0, 39.0], [0.571, 43...  \n",
       "12648  [[0.663, 713.0, 639.0, 27.0, 24.0], [0.653, 43...  \n",
       "12650  [[0.63, 700.0, 625.0, 26.0, 25.0], [0.475, 795...  \n",
       "12670  [[0.656, 547.0, 568.0, 34.0, 40.0], [0.509, 60...  \n",
       "12678  [[0.461, 536.0, 0.0, 26.0, 23.0], [0.449, 536....  \n",
       "12736  [[0.684, 343.0, 148.0, 33.0, 31.0], [0.593, 34...  "
      ]
     },
     "execution_count": 177,
     "metadata": {},
     "output_type": "execute_result"
    }
   ],
   "source": [
    "tmp = []\n",
    "mannual_process_df = None\n",
    "for i in range(len(manual_process)//2):\n",
    "    video_id = manual_process[i * 2]\n",
    "    video_frame = manual_process[i * 2 + 1]\n",
    "    tmp.append(LB_pred.query(\"video_id == @video_id and video_frame == @video_frame\").copy())\n",
    "mannual_process_df = pd.concat(tmp)\n",
    "mannual_process_df.sort_values([\"sequence\",\"video_frame\"])[[\"sequence\",\"video_frame\",\"wbf_pred\"]]"
   ]
  },
  {
   "cell_type": "code",
   "execution_count": 180,
   "id": "a41b9393",
   "metadata": {
    "ExecuteTime": {
     "end_time": "2022-02-09T04:07:01.273570Z",
     "start_time": "2022-02-09T04:07:01.244614Z"
    }
   },
   "outputs": [
    {
     "data": {
      "text/plain": [
       "284"
      ]
     },
     "execution_count": 180,
     "metadata": {},
     "output_type": "execute_result"
    }
   ],
   "source": [
    "for idx, row in mannual_process_df.iterrows():\n",
    "    if row['sequence'] == 996:\n",
    "        mannual_process_df.at[idx, 'added_pred'] = [p for p in mannual_process_df.at[idx, 'wbf_pred'] if p[1] >= 640]\n",
    "    elif row['sequence'] == 8503:\n",
    "        mannual_process_df.at[idx, 'added_pred'] = [p for p in mannual_process_df.at[idx, 'wbf_pred'] if p[1] <= 200]\n",
    "    elif row['sequence'] == 26651:\n",
    "        mannual_process_df.at[idx, 'added_pred'] = [p for p in mannual_process_df.at[idx, 'wbf_pred'] if p[1] <= 640]\n",
    "    elif row['sequence'] == 45015:\n",
    "        mannual_process_df.at[idx, 'added_pred'] = [p for p in mannual_process_df.at[idx, 'wbf_pred'] if p[1] >= 920]\n",
    "    elif row['sequence'] == 45518:\n",
    "        mannual_process_df.at[idx, 'added_pred'] = [p for p in mannual_process_df.at[idx, 'wbf_pred'] if p[1] <= 320 and p[2] <= 400 ]\n",
    "    elif row['sequence'] == 53708:\n",
    "        if row['video_frame'] in [9451, 9455]:\n",
    "            mannual_process_df.at[idx, 'added_pred'] = [p for p in mannual_process_df.at[idx, 'wbf_pred'] if p[1] <= 640]\n",
    "        elif row['video_frame'] in [9633]:\n",
    "            mannual_process_df.at[idx, 'added_pred'] = [p for p in mannual_process_df.at[idx, 'wbf_pred'] if p[1] == 115]\n",
    "        else:\n",
    "            mannual_process_df.at[idx, 'added_pred'] = mannual_process_df.at[idx, 'wbf_pred']\n",
    "            \n",
    "            \n",
    "    elif row[\"sequence\"] == 59337:\n",
    "        mannual_process_df.at[idx, 'added_pred'] = [p for p in mannual_process_df.at[idx, 'wbf_pred'] if p[1] >= 500]\n",
    "    elif row['sequence'] == 60754:\n",
    "        if row['video_frame'] in [9056]:\n",
    "            mannual_process_df.at[idx, 'added_pred'] = []\n",
    "        elif row['video_frame'] in [9064]:\n",
    "            mannual_process_df.at[idx, 'added_pred'] = [p for p in mannual_process_df.at[idx, 'wbf_pred'] if p[1] <= 590]\n",
    "        elif row['video_frame'] in [9081]:\n",
    "            mannual_process_df.at[idx, 'added_pred'] = [p for p in mannual_process_df.at[idx, 'wbf_pred'] if p[0] >= 0.45]\n",
    "        else:\n",
    "            mannual_process_df.at[idx, 'added_pred'] = mannual_process_df.at[idx, 'wbf_pred']\n",
    "            \n",
    "    added_GT += len(mannual_process_df.at[idx, 'added_pred'])\n",
    "added_GT"
   ]
  },
  {
   "cell_type": "code",
   "execution_count": 182,
   "id": "2fb88bf1",
   "metadata": {
    "ExecuteTime": {
     "end_time": "2022-02-09T04:08:54.731169Z",
     "start_time": "2022-02-09T04:08:54.715766Z"
    }
   },
   "outputs": [],
   "source": [
    "LB_pred.loc[mannual_process_df.index, 'added_pred'] = mannual_process_df['added_pred']"
   ]
  },
  {
   "cell_type": "code",
   "execution_count": 186,
   "id": "24e618b7",
   "metadata": {
    "ExecuteTime": {
     "end_time": "2022-02-09T04:12:14.045250Z",
     "start_time": "2022-02-09T04:12:13.825825Z"
    }
   },
   "outputs": [],
   "source": [
    "LB_pred['new_real_bbox'] = LB_pred.apply(lambda x: x['real_bbox'] + [p[1:] for p in x['added_pred']], axis=1)\n",
    "LB_pred['combined_bbox'] = LB_pred['new_real_bbox'].apply(lambda pp:  [[1] + p for p in pp])"
   ]
  },
  {
   "cell_type": "code",
   "execution_count": 188,
   "id": "5ec870e7",
   "metadata": {
    "ExecuteTime": {
     "end_time": "2022-02-09T04:16:18.545020Z",
     "start_time": "2022-02-09T04:16:18.524538Z"
    },
    "scrolled": true
   },
   "outputs": [],
   "source": [
    "# make_video(LB_pred[LB_pred['added_pred'].apply(len)>0], None, None, 'combined_bbox', out_dir[:-1] + \"_2/\", 0, name=\"added_LB_part\",s_f=None, e_f=None)"
   ]
  },
  {
   "cell_type": "code",
   "execution_count": 189,
   "id": "4dfcf488",
   "metadata": {
    "ExecuteTime": {
     "end_time": "2022-02-09T04:17:09.134046Z",
     "start_time": "2022-02-09T04:17:09.113863Z"
    }
   },
   "outputs": [
    {
     "data": {
      "text/plain": [
       "['video_id', 'sequence', 'video_frame']"
      ]
     },
     "execution_count": 189,
     "metadata": {},
     "output_type": "execute_result"
    }
   ],
   "source": [
    "cols"
   ]
  },
  {
   "cell_type": "code",
   "execution_count": 191,
   "id": "7d7a61b4",
   "metadata": {
    "ExecuteTime": {
     "end_time": "2022-02-09T04:17:39.105782Z",
     "start_time": "2022-02-09T04:17:39.064485Z"
    }
   },
   "outputs": [],
   "source": [
    "if 'mark' in df.columns:\n",
    "    del df['mark']\n",
    "LB_pred['mark'] = True\n",
    "df = pd.merge(df, LB_pred[cols + ['mark']], on=cols, how='left')\n",
    "df['mark'].fillna(False, inplace=True)"
   ]
  },
  {
   "cell_type": "code",
   "execution_count": 192,
   "id": "ee313432",
   "metadata": {
    "ExecuteTime": {
     "end_time": "2022-02-09T04:18:43.685845Z",
     "start_time": "2022-02-09T04:18:43.624357Z"
    }
   },
   "outputs": [],
   "source": [
    "df[\"new_real_bbox_LB\"] = df['new_real_bbox']\n",
    "df['added_pred_LB'] = [list([]) for i in range(df.shape[0])]\n",
    "df.loc[df.query('mark').index, \"new_real_bbox_LB\"] = LB_pred['new_real_bbox'].values\n",
    "df.loc[df.query('mark').index, \"added_pred_LB\"] = LB_pred['added_pred'].values"
   ]
  },
  {
   "cell_type": "code",
   "execution_count": 193,
   "id": "e51deb80",
   "metadata": {
    "ExecuteTime": {
     "end_time": "2022-02-09T04:19:42.150903Z",
     "start_time": "2022-02-09T04:19:42.104429Z"
    }
   },
   "outputs": [],
   "source": [
    "df['new_annotations_LB'] = df['new_real_bbox_LB'].apply(from_bbox_to_str)\n",
    "df['new_added_pred_LB'] = df['added_pred_LB'].apply(from_pred_to_str)"
   ]
  },
  {
   "cell_type": "code",
   "execution_count": 205,
   "id": "04f65166",
   "metadata": {
    "ExecuteTime": {
     "end_time": "2022-02-09T04:30:56.253449Z",
     "start_time": "2022-02-09T04:30:56.161384Z"
    }
   },
   "outputs": [],
   "source": [
    "df_origin.to_csv(\"../../data/tensorflow-great-barrier-reef/train_with_added_GT.csv\",index=False)"
   ]
  },
  {
   "cell_type": "code",
   "execution_count": 195,
   "id": "50d27fc7",
   "metadata": {
    "ExecuteTime": {
     "end_time": "2022-02-09T04:23:45.104909Z",
     "start_time": "2022-02-09T04:23:45.086459Z"
    }
   },
   "outputs": [],
   "source": [
    "# sanity check"
   ]
  },
  {
   "cell_type": "code",
   "execution_count": 206,
   "id": "03cec791",
   "metadata": {
    "ExecuteTime": {
     "end_time": "2022-02-09T04:31:19.985178Z",
     "start_time": "2022-02-09T04:31:19.962652Z"
    }
   },
   "outputs": [
    {
     "data": {
      "text/html": [
       "<div>\n",
       "<style scoped>\n",
       "    .dataframe tbody tr th:only-of-type {\n",
       "        vertical-align: middle;\n",
       "    }\n",
       "\n",
       "    .dataframe tbody tr th {\n",
       "        vertical-align: top;\n",
       "    }\n",
       "\n",
       "    .dataframe thead th {\n",
       "        text-align: right;\n",
       "    }\n",
       "</style>\n",
       "<table border=\"1\" class=\"dataframe\">\n",
       "  <thead>\n",
       "    <tr style=\"text-align: right;\">\n",
       "      <th></th>\n",
       "      <th>video_id</th>\n",
       "      <th>sequence</th>\n",
       "      <th>video_frame</th>\n",
       "      <th>sequence_frame</th>\n",
       "      <th>image_id</th>\n",
       "      <th>annotations</th>\n",
       "      <th>new_annotations</th>\n",
       "      <th>new_added_pred</th>\n",
       "      <th>new_annotations_LB</th>\n",
       "      <th>new_added_pred_LB</th>\n",
       "    </tr>\n",
       "  </thead>\n",
       "  <tbody>\n",
       "    <tr>\n",
       "      <th>0</th>\n",
       "      <td>0</td>\n",
       "      <td>40258</td>\n",
       "      <td>0</td>\n",
       "      <td>0</td>\n",
       "      <td>0-0</td>\n",
       "      <td>[]</td>\n",
       "      <td>[]</td>\n",
       "      <td>[]</td>\n",
       "      <td>[]</td>\n",
       "      <td>[]</td>\n",
       "    </tr>\n",
       "    <tr>\n",
       "      <th>1</th>\n",
       "      <td>0</td>\n",
       "      <td>40258</td>\n",
       "      <td>1</td>\n",
       "      <td>1</td>\n",
       "      <td>0-1</td>\n",
       "      <td>[]</td>\n",
       "      <td>[]</td>\n",
       "      <td>[]</td>\n",
       "      <td>[]</td>\n",
       "      <td>[]</td>\n",
       "    </tr>\n",
       "  </tbody>\n",
       "</table>\n",
       "</div>"
      ],
      "text/plain": [
       "   video_id  sequence  video_frame  sequence_frame image_id annotations  \\\n",
       "0         0     40258            0               0      0-0          []   \n",
       "1         0     40258            1               1      0-1          []   \n",
       "\n",
       "  new_annotations new_added_pred new_annotations_LB new_added_pred_LB  \n",
       "0              []             []                 []                []  \n",
       "1              []             []                 []                []  "
      ]
     },
     "execution_count": 206,
     "metadata": {},
     "output_type": "execute_result"
    }
   ],
   "source": [
    "df_origin = pd.merge(df_origin, df[['video_id','video_frame','new_annotations_LB','new_added_pred_LB']], on=['video_id','video_frame'], how='left')\n",
    "df_origin.fillna(\"[]\", inplace=True)\n",
    "df_origin.head(2)"
   ]
  },
  {
   "cell_type": "code",
   "execution_count": 201,
   "id": "9beab973",
   "metadata": {
    "ExecuteTime": {
     "end_time": "2022-02-09T04:26:39.799389Z",
     "start_time": "2022-02-09T04:26:39.176042Z"
    }
   },
   "outputs": [
    {
     "name": "stdout",
     "output_type": "stream",
     "text": [
      "annotations 11898\n",
      "new_annotations 12897\n",
      "new_annotations_LB 13181\n"
     ]
    }
   ],
   "source": [
    "# number of bbox\n",
    "df_origin_check = df_origin.copy()\n",
    "annot_cols = ['annotations', \"new_annotations\", \"new_annotations_LB\"]\n",
    "for col in annot_cols:\n",
    "    df_origin_check[col] = df_origin_check[col].apply(ast.literal_eval)\n",
    "    print(col, df_origin_check[col].apply(len).sum())"
   ]
  },
  {
   "cell_type": "code",
   "execution_count": 203,
   "id": "b4d86a66",
   "metadata": {
    "ExecuteTime": {
     "end_time": "2022-02-09T04:28:13.638121Z",
     "start_time": "2022-02-09T04:28:13.616486Z"
    }
   },
   "outputs": [
    {
     "data": {
      "text/plain": [
       "0.10783324928559423"
      ]
     },
     "execution_count": 203,
     "metadata": {},
     "output_type": "execute_result"
    }
   ],
   "source": [
    "(13181 / 11898 - 1)"
   ]
  },
  {
   "cell_type": "code",
   "execution_count": 202,
   "id": "07fbf9ff",
   "metadata": {
    "ExecuteTime": {
     "end_time": "2022-02-09T04:27:10.774758Z",
     "start_time": "2022-02-09T04:27:10.741459Z"
    }
   },
   "outputs": [
    {
     "name": "stdout",
     "output_type": "stream",
     "text": [
      "annotations 4919\n",
      "new_annotations 5217\n",
      "new_annotations_LB 5302\n"
     ]
    }
   ],
   "source": [
    "# number of image with bbox\n",
    "for col in annot_cols:\n",
    "    print(col, (df_origin_check[col].apply(len) > 0).sum())"
   ]
  },
  {
   "cell_type": "code",
   "execution_count": 204,
   "id": "131e3c11",
   "metadata": {
    "ExecuteTime": {
     "end_time": "2022-02-09T04:28:32.782354Z",
     "start_time": "2022-02-09T04:28:32.764065Z"
    }
   },
   "outputs": [
    {
     "data": {
      "text/plain": [
       "0.07786135393372628"
      ]
     },
     "execution_count": 204,
     "metadata": {},
     "output_type": "execute_result"
    }
   ],
   "source": [
    "(5302 / 4919 - 1)"
   ]
  },
  {
   "cell_type": "markdown",
   "id": "ee06edb6",
   "metadata": {},
   "source": [
    "# Improve Tracking"
   ]
  },
  {
   "cell_type": "code",
   "execution_count": null,
   "id": "3b48a211",
   "metadata": {},
   "outputs": [],
   "source": [
    "# tracking needs to be improved! especially when the camera moves fast"
   ]
  },
  {
   "cell_type": "code",
   "execution_count": null,
   "id": "b64f1bb4",
   "metadata": {
    "ExecuteTime": {
     "end_time": "2022-02-06T23:21:16.747023Z",
     "start_time": "2022-02-06T23:21:16.675854Z"
    }
   },
   "outputs": [],
   "source": [
    "??Tracker"
   ]
  },
  {
   "cell_type": "code",
   "execution_count": null,
   "id": "bd1d20c6",
   "metadata": {
    "ExecuteTime": {
     "end_time": "2022-02-06T23:38:12.551031Z",
     "start_time": "2022-02-06T23:38:12.439402Z"
    }
   },
   "outputs": [],
   "source": [
    "iou_thr = 0.4\n",
    "skip_box_thr = 0.22\n",
    "wbf_models =[\"0204_yolov5s6_B\", '0205_yolov5m6_B_LS02']\n",
    "df[\"wbf_noTrack_pred\"] = None\n",
    "frame_id = 0\n",
    "tracker = Tracker(\n",
    "    distance_function=euclidean_distance, \n",
    "    distance_threshold=5,\n",
    "    hit_inertia_min=3,\n",
    "    hit_inertia_max=6,\n",
    "    initialization_delay=2,\n",
    ")                      \n",
    "for i, idx in enumerate(df.query(\"sequence == 18048\").index):\n",
    "    row = df.loc[idx]\n",
    "    bboxes_l = []\n",
    "    confs_l = []    \n",
    "    for model_version in wbf_models:\n",
    "        BEST_CONF = best_conf_dict[model_version]\n",
    "        pred_col = \"pred_\" + model_version \n",
    "        prd_bboxs = row[pred_col]\n",
    "        prd_bboxs = [p for p in prd_bboxs if p[0] >= BEST_CONF]\n",
    "        bboxes, confis = [p[1:] for p in prd_bboxs], [p[0] for p in prd_bboxs]    \n",
    "        bboxes = np.array(bboxes,dtype=np.float64)\n",
    "        bboxes_l.append(bboxes)\n",
    "        confs_l.append(confis)\n",
    "    bboxes_l = np.array(bboxes_l)\n",
    "    wbf_boxes, wbf_confs, _ = run_wbf(bboxes_l, confs_l, iou_thr, skip_box_thr)\n",
    "    df.at[idx, \"wbf_noTrack_pred\"] = [[wbf_confs[i]] + wbf_boxes[i].tolist() for i in range(len(wbf_boxes))]\n",
    "    \n",
    "    predictions = tracking_function(tracker, frame_id, wbf_boxes, wbf_confs, 0)\n",
    "    prd_bboxs_tracking =  [[float(p) for p in pred.split(\" \")] for pred in predictions]\n",
    "    df.at[idx, \"wbf_pred\"] = prd_bboxs_tracking\n",
    "\n",
    "    frame_id += 1"
   ]
  },
  {
   "cell_type": "code",
   "execution_count": null,
   "id": "aaede0c6",
   "metadata": {},
   "outputs": [],
   "source": []
  },
  {
   "cell_type": "code",
   "execution_count": null,
   "id": "975a7426",
   "metadata": {},
   "outputs": [],
   "source": []
  },
  {
   "cell_type": "code",
   "execution_count": null,
   "id": "11b12f42",
   "metadata": {},
   "outputs": [],
   "source": []
  },
  {
   "cell_type": "code",
   "execution_count": null,
   "id": "b28c30fc",
   "metadata": {},
   "outputs": [],
   "source": []
  },
  {
   "cell_type": "code",
   "execution_count": null,
   "id": "c06efb10",
   "metadata": {},
   "outputs": [],
   "source": []
  },
  {
   "cell_type": "code",
   "execution_count": null,
   "id": "7ee27c20",
   "metadata": {},
   "outputs": [],
   "source": []
  },
  {
   "cell_type": "code",
   "execution_count": null,
   "id": "ae0e796f",
   "metadata": {
    "ExecuteTime": {
     "end_time": "2022-02-06T23:38:16.047659Z",
     "start_time": "2022-02-06T23:38:16.027535Z"
    }
   },
   "outputs": [],
   "source": [
    "seq_check = 18048\n",
    "df_check = df.query(\"sequence == @seq_check\").copy()"
   ]
  },
  {
   "cell_type": "code",
   "execution_count": null,
   "id": "22bce8ea",
   "metadata": {
    "ExecuteTime": {
     "end_time": "2022-02-06T23:38:16.945782Z",
     "start_time": "2022-02-06T23:38:16.923732Z"
    }
   },
   "outputs": [],
   "source": [
    "df_check[\"pred_track_num\"] = df_check[\"wbf_pred\"].apply(len)\n",
    "df_check[\"pred_notrack_num\"] = df_check[\"wbf_noTrack_pred\"].apply(len)"
   ]
  },
  {
   "cell_type": "code",
   "execution_count": null,
   "id": "9f1692a4",
   "metadata": {
    "ExecuteTime": {
     "end_time": "2022-02-06T23:38:17.662168Z",
     "start_time": "2022-02-06T23:38:17.637384Z"
    }
   },
   "outputs": [],
   "source": [
    "df_check[[\"video_frame\",\"num_bbox\",\"pred_track_num\",\"pred_notrack_num\"]].iloc[20:30]\n",
    "## 11851 is where the things go wrong"
   ]
  },
  {
   "cell_type": "markdown",
   "id": "ba46abee",
   "metadata": {},
   "source": [
    "# Similarity"
   ]
  },
  {
   "cell_type": "code",
   "execution_count": null,
   "id": "1e7eaffe",
   "metadata": {
    "ExecuteTime": {
     "end_time": "2022-02-07T01:00:07.335869Z",
     "start_time": "2022-02-07T01:00:07.318030Z"
    }
   },
   "outputs": [],
   "source": [
    "import image_similarity_measures\n",
    "from image_similarity_measures.quality_metrics import metric_functions"
   ]
  },
  {
   "cell_type": "code",
   "execution_count": null,
   "id": "4af019ad",
   "metadata": {
    "ExecuteTime": {
     "end_time": "2022-02-07T01:00:07.353706Z",
     "start_time": "2022-02-07T01:00:07.336732Z"
    }
   },
   "outputs": [],
   "source": [
    "metric_functions"
   ]
  },
  {
   "cell_type": "code",
   "execution_count": null,
   "id": "7673311a",
   "metadata": {
    "ExecuteTime": {
     "end_time": "2022-02-07T01:07:21.065284Z",
     "start_time": "2022-02-07T01:07:21.045668Z"
    }
   },
   "outputs": [],
   "source": [
    "df.groupby(\"sequence\").size().sort_values()"
   ]
  },
  {
   "cell_type": "code",
   "execution_count": null,
   "id": "2e4c0f4e",
   "metadata": {
    "ExecuteTime": {
     "end_time": "2022-02-07T01:17:22.463981Z",
     "start_time": "2022-02-07T01:17:09.809212Z"
    }
   },
   "outputs": [],
   "source": [
    "max_p = 255\n",
    "seq_check = [18048,17665,44160,29424]\n",
    "df_check = df.query(\"sequence in @seq_check\").copy()\n",
    "\n",
    "prev_image = cv2.imread(str(df.iloc[-1]['image_path']))\n",
    "for idx, row in tqdm(df_check.iterrows()):\n",
    "    curr_image = cv2.imread(str(row['image_path']))\n",
    "    for name, func in metric_functions.items():\n",
    "        if name in ['rmse']:\n",
    "            sim = func(curr_image, prev_image, max_p)\n",
    "        else:\n",
    "            continue\n",
    "        df_check.loc[idx, name] = sim\n",
    "    prev_image = curr_image"
   ]
  },
  {
   "cell_type": "code",
   "execution_count": null,
   "id": "f1d5f334",
   "metadata": {
    "ExecuteTime": {
     "end_time": "2022-02-07T01:31:30.306905Z",
     "start_time": "2022-02-07T01:31:30.104005Z"
    }
   },
   "outputs": [],
   "source": [
    "fig, axes = plt.subplots(1,2,figsize=(18,9))\n",
    "axes[0].plot(df_check['rmse'].values)\n",
    "axes[0].twinx().plot(np.diff(df_check['sequence']) != 0, color='red' )\n",
    "axes[1].plot(np.abs(np.diff(df_check['rmse'].values)))\n",
    "#axes[1].twinx().plot(np.diff(df_check['sequence']) != 0, color='red' )\n",
    "plt.show()"
   ]
  },
  {
   "cell_type": "code",
   "execution_count": null,
   "id": "4d3df85f",
   "metadata": {
    "ExecuteTime": {
     "end_time": "2022-02-07T01:30:10.799870Z",
     "start_time": "2022-02-07T01:19:26.184922Z"
    }
   },
   "outputs": [],
   "source": [
    "prev_image = cv2.imread(str(df.iloc[-1]['image_path']))\n",
    "for idx, row in tqdm(df.iterrows()):\n",
    "    curr_image = cv2.imread(str(row['image_path']))\n",
    "    for name, func in metric_functions.items():\n",
    "        if name in ['rmse']:\n",
    "            sim = func(curr_image, prev_image, max_p)\n",
    "        else:\n",
    "            continue\n",
    "        df.loc[idx, name] = sim\n",
    "    prev_image = curr_image"
   ]
  },
  {
   "cell_type": "code",
   "execution_count": null,
   "id": "6013909b",
   "metadata": {
    "ExecuteTime": {
     "end_time": "2022-02-07T01:32:45.050870Z",
     "start_time": "2022-02-07T01:32:44.792077Z"
    }
   },
   "outputs": [],
   "source": [
    "fig, axes = plt.subplots(1,2,figsize=(18,9))\n",
    "axes[0].plot(df['rmse'].values)\n",
    "axes[0].twinx().plot(np.diff(df['sequence']) != 0, color='red' )\n",
    "axes[1].plot(np.abs(np.diff(df['rmse'].values)))\n",
    "#axes[1].twinx().plot(np.diff(df_check['sequence']) != 0, color='red' )\n",
    "plt.show()"
   ]
  },
  {
   "cell_type": "code",
   "execution_count": null,
   "id": "ef24e437",
   "metadata": {
    "ExecuteTime": {
     "end_time": "2022-02-07T01:35:49.710568Z",
     "start_time": "2022-02-07T01:35:49.685123Z"
    }
   },
   "outputs": [],
   "source": [
    "df['rmse_diff_abs'] = df['rmse'].diff().abs()\n",
    "df_seq_place = df.loc[np.diff(df['sequence'], prepend=0) != 0].copy()"
   ]
  },
  {
   "cell_type": "code",
   "execution_count": null,
   "id": "49c44a03",
   "metadata": {
    "ExecuteTime": {
     "end_time": "2022-02-07T01:37:35.077258Z",
     "start_time": "2022-02-07T01:37:35.057405Z"
    }
   },
   "outputs": [],
   "source": [
    "df_seq_place[['sequence','rmse_diff_abs']]#.min()"
   ]
  },
  {
   "cell_type": "code",
   "execution_count": null,
   "id": "6ffdf6c2",
   "metadata": {},
   "outputs": [],
   "source": [
    "prev_img"
   ]
  }
 ],
 "metadata": {
  "kernelspec": {
   "display_name": "base",
   "language": "python",
   "name": "base"
  },
  "language_info": {
   "codemirror_mode": {
    "name": "ipython",
    "version": 3
   },
   "file_extension": ".py",
   "mimetype": "text/x-python",
   "name": "python",
   "nbconvert_exporter": "python",
   "pygments_lexer": "ipython3",
   "version": "3.8.10"
  },
  "toc": {
   "base_numbering": 1,
   "nav_menu": {},
   "number_sections": true,
   "sideBar": true,
   "skip_h1_title": false,
   "title_cell": "Table of Contents",
   "title_sidebar": "Contents",
   "toc_cell": false,
   "toc_position": {
    "height": "calc(100% - 180px)",
    "left": "10px",
    "top": "150px",
    "width": "384px"
   },
   "toc_section_display": true,
   "toc_window_display": true
  }
 },
 "nbformat": 4,
 "nbformat_minor": 5
}
