{
 "cells": [
  {
   "cell_type": "code",
   "execution_count": null,
   "id": "f4ceb7d6",
   "metadata": {
    "ExecuteTime": {
     "end_time": "2022-01-27T23:58:36.973777Z",
     "start_time": "2022-01-27T23:58:36.957817Z"
    }
   },
   "outputs": [],
   "source": [
    "%load_ext autoreload\n",
    "%autoreload 2\n",
    "\n",
    "from IPython.core.display import display, HTML\n",
    "display(HTML(\"<style>.container { width:100% !important; }</style>\"))"
   ]
  },
  {
   "cell_type": "code",
   "execution_count": null,
   "id": "f57885f3",
   "metadata": {
    "ExecuteTime": {
     "end_time": "2022-01-27T23:58:38.621528Z",
     "start_time": "2022-01-27T23:58:37.285070Z"
    }
   },
   "outputs": [],
   "source": [
    "\n",
    "import sys\n",
    "from itertools import groupby\n",
    "import numpy as np\n",
    "import cv2\n",
    "from tqdm.notebook import tqdm\n",
    "tqdm.pandas()\n",
    "import pandas as pd\n",
    "import os\n",
    "from glob import glob\n",
    "from multiprocessing import Pool\n",
    "import matplotlib.pyplot as plt\n",
    "# import cupy as cp\n",
    "import ast\n",
    "from pathlib import Path\n",
    "import pickle5 as pickle\n",
    "import torch\n",
    "\n",
    "import shutil\n",
    "import sys\n",
    "sys.path.append(\"../src/\")\n",
    "sys.path.append(\"../yolov5/\")\n",
    "\n",
    "import util\n",
    "\n",
    "from joblib import Parallel, delayed\n",
    "\n",
    "from IPython.display import display, HTML\n",
    "from sahi.model import Yolov5DetectionModel\n",
    "from sahi.utils.cv import read_image\n",
    "from sahi.utils.file import download_from_url\n",
    "from sahi.predict import get_prediction, get_sliced_prediction, predict\n",
    "from ensemble_boxes import weighted_boxes_fusion\n",
    "\n",
    "from IPython.display import Image\n",
    "from matplotlib import animation, rc\n",
    "rc('animation', html='jshtml')"
   ]
  },
  {
   "cell_type": "code",
   "execution_count": null,
   "id": "a55d5701",
   "metadata": {
    "ExecuteTime": {
     "end_time": "2022-01-27T23:58:38.635166Z",
     "start_time": "2022-01-27T23:58:38.622438Z"
    }
   },
   "outputs": [],
   "source": [
    "CONF = 0\n",
    "IOU = 0.4\n",
    "AUGMENT = True # True\n",
    "SIZE = int(1280 * 1.3)  # 1280 * 1.3 \n",
    "#USE_CLACHE = True\n",
    "USE_SAHI = False"
   ]
  },
  {
   "cell_type": "code",
   "execution_count": null,
   "id": "76a377ef",
   "metadata": {
    "ExecuteTime": {
     "end_time": "2022-01-27T23:58:59.118928Z",
     "start_time": "2022-01-27T23:58:40.365054Z"
    }
   },
   "outputs": [],
   "source": [
    "INPUT_DIR = Path(\"../../data/tensorflow-great-barrier-reef/\")\n",
    "df = pd.read_csv(INPUT_DIR / \"train.csv\")\n",
    "#folds = pd.read_csv(\"../input/train_folds_balanced.csv\") #_CPF\n",
    "#df = pd.merge(df, folds[[\"video_id\",\"video_frame\",\"fold\"]], on=[\"video_id\",'video_frame'])\n",
    "data_param = {'root_dir':INPUT_DIR,'label_dir':INPUT_DIR / \"labels\"}\n",
    "df = df.progress_apply(lambda x: util.get_path(x, data_param, infer=True), axis=1)\n",
    "df['annotations'] = df['annotations'].progress_apply(lambda x: ast.literal_eval(x))\n",
    "df[\"real_bbox\"] = df[\"annotations\"].apply(lambda annots: [list(annot.values()) for annot in annots])\n",
    "df.shape"
   ]
  },
  {
   "cell_type": "code",
   "execution_count": null,
   "id": "522b9c7b",
   "metadata": {
    "ExecuteTime": {
     "end_time": "2022-01-27T23:58:59.169824Z",
     "start_time": "2022-01-27T23:58:59.119946Z"
    }
   },
   "outputs": [],
   "source": [
    "df['num_bbox'] = df['annotations'].progress_apply(lambda x: len(x))\n",
    "data = (df.num_bbox>0).value_counts(normalize=True)*100\n",
    "print(f\"No BBox: {data[0]:0.2f}% | With BBox: {data[1]:0.2f}%\")"
   ]
  },
  {
   "cell_type": "markdown",
   "id": "341436d8",
   "metadata": {},
   "source": [
    "# Folds"
   ]
  },
  {
   "cell_type": "code",
   "execution_count": null,
   "id": "e635cd08",
   "metadata": {
    "ExecuteTime": {
     "end_time": "2022-01-28T00:00:01.157093Z",
     "start_time": "2022-01-27T23:59:50.225613Z"
    }
   },
   "outputs": [],
   "source": [
    "#save it\n",
    "# A for Anjum, C for CPF, V for video\n",
    "df_l_A_cv = util.load_pickle(\"pred_all_large_wpre.pkl\")\n",
    "df_l_V_cv = util.load_pickle(\"pred_all_large_wpre_video.pkl\")\n",
    "df_l_V_cv_FP = util.load_pickle(\"pred_all_large_wpre_video_FP.pkl\")\n",
    "df_s_A_cv = util.load_pickle(\"pred_all.pkl\")\n",
    "df_s_C_cv = util.load_pickle(\"pred_all_cpf.pkl\")"
   ]
  },
  {
   "cell_type": "code",
   "execution_count": null,
   "id": "14ca021a",
   "metadata": {
    "ExecuteTime": {
     "end_time": "2022-01-28T00:00:10.493482Z",
     "start_time": "2022-01-28T00:00:10.456225Z"
    }
   },
   "outputs": [],
   "source": [
    "folds_A = pd.read_csv(\"../input/train_folds_balanced.csv\") \n",
    "folds_C = pd.read_csv(\"../input/train_folds_balanced_CPF.csv\")\n",
    "df['fold_V'] = df[\"video_id\"]\n",
    "df[\"fold_A\"] = folds_A[\"fold\"]\n",
    "df[\"fold_C\"] = folds_C[\"fold\"]"
   ]
  },
  {
   "cell_type": "code",
   "execution_count": null,
   "id": "4b3712ba",
   "metadata": {
    "ExecuteTime": {
     "end_time": "2022-01-28T00:01:02.698472Z",
     "start_time": "2022-01-28T00:01:02.546399Z"
    }
   },
   "outputs": [],
   "source": [
    "#df_plain[\"l_A\"] = np.nan\n",
    "#df_plain[\"l_V\"] = np.nan\n",
    "#df_plain[\"s_A\"] = np.nan\n",
    "#df_plain[\"s_C\"] = np.nan\n",
    "\n",
    "# th_d = {\n",
    "#     \"l_A\" : 0.1,\n",
    "#     \"l_V\" : 0.1,\n",
    "#     \"s_A\" : 0.2,\n",
    "#     \"s_C\" : 0.2,\n",
    "# }\n",
    "df_d = {\n",
    "    \"l_A\" : df_l_A_cv,\n",
    "    \"l_V\" : df_l_V_cv,\n",
    "    \"l_V_FP\" : df_l_V_cv_FP,\n",
    "    \"s_A\" : df_s_A_cv,\n",
    "    \"s_C\" : df_s_C_cv,    \n",
    "}\n",
    "for key in tqdm(df_d.keys()):\n",
    "    print(key, df.shape)\n",
    "    df = pd.merge(df, df_d[key][[\"video_id\",\"video_frame\", \"pred\"]].rename(columns={\"pred\":key}), on=[\"video_id\",\"video_frame\"])\n",
    "    df.dropna(subset=key,inplace=True)\n",
    "    #df[key] = df[key].apply(lambda x: [p for p in x if p[0] >= th_d[key]])"
   ]
  },
  {
   "cell_type": "code",
   "execution_count": null,
   "id": "6b6b1c0f",
   "metadata": {
    "ExecuteTime": {
     "end_time": "2022-01-28T00:01:21.903895Z",
     "start_time": "2022-01-28T00:01:20.663477Z"
    }
   },
   "outputs": [],
   "source": [
    "gt_bboxs_list = []\n",
    "for idx in range(len(df)):\n",
    "    row = df.iloc[idx]\n",
    "    gt_bboxs = row[\"real_bbox\"]\n",
    "    gt_bboxs_list.append(np.array(gt_bboxs))\n",
    "len(gt_bboxs_list)"
   ]
  },
  {
   "cell_type": "markdown",
   "id": "e7b2b8ec",
   "metadata": {},
   "source": [
    "## Get threshold"
   ]
  },
  {
   "cell_type": "code",
   "execution_count": null,
   "id": "5c5e2da4",
   "metadata": {
    "ExecuteTime": {
     "end_time": "2022-01-28T00:54:22.623303Z",
     "start_time": "2022-01-28T00:50:31.093698Z"
    }
   },
   "outputs": [],
   "source": [
    "conf_ths = np.arange(5, 35, 5) / 100\n",
    "perf_dict = {}\n",
    "for key in tqdm(df_d.keys()):\n",
    "    if key not in perf_dict:\n",
    "        perf_dict[key] = {}\n",
    "    for conf_th in conf_ths:\n",
    "        prd_bboxs_list = []\n",
    "        for index in df.index:\n",
    "            prd_bboxs = df.loc[index, key]\n",
    "            prd_bboxs_list.append(np.array([p for p in prd_bboxs if p[0] >= conf_th]))\n",
    "        f2_dict = util.calc_f2_score(gt_bboxs_list, prd_bboxs_list, verbose=False)    \n",
    "        print(\"model {}, conf_th {:.2f}, f2 {:.3f}, precision {:.3f}, recall {:.3f}\".format(key, conf_th, f2_dict['f2'], f2_dict['P'], f2_dict['R']))\n",
    "        del f2_dict[\"tps\"]\n",
    "        del f2_dict[\"fps\"]\n",
    "        del f2_dict[\"fns\"]\n",
    "        perf_dict[key][conf_th] = f2_dict"
   ]
  },
  {
   "cell_type": "code",
   "execution_count": null,
   "id": "faed3352",
   "metadata": {
    "ExecuteTime": {
     "end_time": "2022-01-28T01:25:36.109257Z",
     "start_time": "2022-01-28T01:25:36.090975Z"
    }
   },
   "outputs": [],
   "source": [
    "th_d = {\n",
    "    \"l_A\" : 0.1,\n",
    "    \"l_V\" : 0.1,\n",
    "    \"l_V_FP\" : 0.15,\n",
    "    \"s_A\" : 0.2,\n",
    "    \"s_C\" : 0.25,\n",
    "}"
   ]
  },
  {
   "cell_type": "code",
   "execution_count": null,
   "id": "2ff6e60e",
   "metadata": {
    "ExecuteTime": {
     "end_time": "2022-01-28T01:58:20.918280Z",
     "start_time": "2022-01-28T01:58:20.896334Z"
    }
   },
   "outputs": [],
   "source": [
    "np.sort([3,2])"
   ]
  },
  {
   "cell_type": "code",
   "execution_count": null,
   "id": "a2ab6459",
   "metadata": {
    "ExecuteTime": {
     "end_time": "2022-01-28T02:02:39.533831Z",
     "start_time": "2022-01-28T02:01:15.339981Z"
    }
   },
   "outputs": [],
   "source": [
    "perf_dict_best = {}\n",
    "for key in tqdm(df_d.keys()):\n",
    "    conf_th = th_d[key]\n",
    "    prd_bboxs_list = []\n",
    "    for index in df.index:\n",
    "        prd_bboxs = df.loc[index, key]\n",
    "        prd_bboxs_list.append(np.array([p for p in prd_bboxs if p[0] >= conf_th]))\n",
    "    df[key] = [p.tolist() for p in prd_bboxs_list]\n",
    "    f2_dict = util.calc_f2_score(gt_bboxs_list, prd_bboxs_list, verbose=False)    \n",
    "    print(\"model {}, conf_th {:.2f}, f2 {:.3f}, precision {:.3f}, recall {:.3f}\".format(key, conf_th, f2_dict['f2'], f2_dict['P'], f2_dict['R']))\n",
    "    df[f'{key}_tps'] = f2_dict[\"tps\"]\n",
    "    df[f'{key}_fps'] = f2_dict[\"fps\"]\n",
    "    df[f'{key}_fns'] = f2_dict[\"fns\"]\n",
    "    del f2_dict[\"tps\"]\n",
    "    del f2_dict[\"fps\"]\n",
    "    del f2_dict[\"fns\"]\n",
    "    perf_dict_best[key] = f2_dict\n",
    "    \n",
    "    fold_key = key.split(\"_\")[1]\n",
    "    fold_col = f\"fold_{fold_key}\"\n",
    "    for fold in np.sort(df[fold_col].unique()):\n",
    "        df_fold = df.query(f\"{fold_col} == {fold}\")\n",
    "        \n",
    "        \n",
    "        gt_bboxs_fold_list = []\n",
    "        for idx in df_fold.index:\n",
    "            row = df_fold.loc[idx]\n",
    "            gt_bboxs = row[\"real_bbox\"]\n",
    "            gt_bboxs_fold_list.append(np.array(gt_bboxs))\n",
    "            \n",
    "        prd_bboxs_list = []\n",
    "        for index in df_fold.index:\n",
    "            prd_bboxs = df_fold.loc[index, key]\n",
    "            prd_bboxs_list.append(np.array([p for p in prd_bboxs if p[0] >= conf_th]))\n",
    "        f2_dict = util.calc_f2_score(gt_bboxs_fold_list, prd_bboxs_list, verbose=False)    \n",
    "        print(\"fold {}, f2 {:.3f}, precision {:.3f}, recall {:.3f}\".format(fold, f2_dict['f2'], f2_dict['P'], f2_dict['R']))\n",
    "    print()"
   ]
  },
  {
   "cell_type": "code",
   "execution_count": null,
   "id": "153714a0",
   "metadata": {
    "ExecuteTime": {
     "end_time": "2022-01-28T00:56:17.176054Z",
     "start_time": "2022-01-28T00:56:17.135237Z"
    }
   },
   "outputs": [],
   "source": [
    "pd.set_option('display.max_columns', 40)\n",
    "f_cols = [\"f2\"] + [\"f2_\" + str(round(th,3)) for th in np.arange(0.3, 0.85, 0.05)]\n",
    "P_cols = [\"P\"] + [\"P_\" + str(round(th,3)) for th in np.arange(0.3, 0.85, 0.05)]\n",
    "R_cols = [\"R\"] + [\"R_\" + str(round(th,3)) for th in np.arange(0.3, 0.85, 0.05)]\n",
    "print(\"yolov5l, sequence cv method, best CV 0.635 under confidence threshold 0.1\")\n",
    "display(pd.DataFrame.from_dict(perf_dict['l_A']).loc[f_cols,:].style.format(\"{:.3f}\").background_gradient())\n",
    "display(pd.DataFrame.from_dict(perf_dict['l_A']).loc[P_cols,:].style.format(\"{:.3f}\").background_gradient())\n",
    "display(pd.DataFrame.from_dict(perf_dict['l_A']).loc[R_cols,:].style.format(\"{:.3f}\").background_gradient())"
   ]
  },
  {
   "cell_type": "code",
   "execution_count": null,
   "id": "91f67773",
   "metadata": {
    "ExecuteTime": {
     "end_time": "2022-01-28T01:09:54.724790Z",
     "start_time": "2022-01-28T01:09:54.692435Z"
    }
   },
   "outputs": [],
   "source": [
    "gt_sizes = [(g[:,2] * g[:,3]).tolist() for g in gt_bboxs_list if len(g) > 0]\n",
    "gt_sizes = np.concatenate(gt_sizes).tolist()\n",
    "pd.Series(gt_sizes).describe()"
   ]
  },
  {
   "cell_type": "code",
   "execution_count": null,
   "id": "b4344840",
   "metadata": {},
   "outputs": [],
   "source": [
    "# larger box requires larger confidence to stay"
   ]
  },
  {
   "cell_type": "code",
   "execution_count": null,
   "id": "36f85d97",
   "metadata": {
    "ExecuteTime": {
     "end_time": "2022-01-28T01:05:38.673987Z",
     "start_time": "2022-01-28T01:05:38.388617Z"
    }
   },
   "outputs": [],
   "source": [
    "key = \"l_A\"\n",
    "conf_list = [] # conf, size\n",
    "size_list = []\n",
    "conf_th = 0.05\n",
    "for index in df.index:\n",
    "    prd_bboxs = df.loc[index, key]\n",
    "    conf_list.extend([p[0] for p in prd_bboxs if p[0] >= conf_th])\n",
    "    size_list.extend([p[3] * p[4] for p in prd_bboxs if p[0] >= conf_th])"
   ]
  },
  {
   "cell_type": "code",
   "execution_count": null,
   "id": "094c1743",
   "metadata": {
    "ExecuteTime": {
     "end_time": "2022-01-28T01:10:15.292580Z",
     "start_time": "2022-01-28T01:10:15.272986Z"
    }
   },
   "outputs": [],
   "source": [
    "np.min(size_list)"
   ]
  },
  {
   "cell_type": "code",
   "execution_count": null,
   "id": "fcb58c3d",
   "metadata": {
    "ExecuteTime": {
     "end_time": "2022-01-28T01:05:44.672378Z",
     "start_time": "2022-01-28T01:05:44.651745Z"
    }
   },
   "outputs": [],
   "source": [
    "np.corrcoef(conf_list, size_list)"
   ]
  },
  {
   "cell_type": "code",
   "execution_count": null,
   "id": "1716309f",
   "metadata": {
    "ExecuteTime": {
     "end_time": "2022-01-28T01:11:17.299047Z",
     "start_time": "2022-01-28T01:11:17.276629Z"
    },
    "scrolled": false
   },
   "outputs": [],
   "source": [
    "size_bucket = [size for i, size in enumerate(size_list) if (conf_list[i] <= 0.2 and conf_list[i] >= 0.1)]\n",
    "len(size_bucket)"
   ]
  },
  {
   "cell_type": "code",
   "execution_count": null,
   "id": "04cf7be6",
   "metadata": {
    "ExecuteTime": {
     "end_time": "2022-01-28T01:11:45.728593Z",
     "start_time": "2022-01-28T01:11:45.709717Z"
    }
   },
   "outputs": [],
   "source": [
    "len([s for s in size_bucket  if s <= 700])"
   ]
  },
  {
   "cell_type": "markdown",
   "id": "a10e2fc4",
   "metadata": {},
   "source": [
    "# Check Performance"
   ]
  },
  {
   "cell_type": "code",
   "execution_count": null,
   "id": "a2b8a678",
   "metadata": {
    "ExecuteTime": {
     "end_time": "2022-01-28T02:19:25.332580Z",
     "start_time": "2022-01-28T02:19:25.135811Z"
    }
   },
   "outputs": [],
   "source": [
    "# util.save_pickle(df, \"df_agg.pkl\")"
   ]
  },
  {
   "cell_type": "code",
   "execution_count": null,
   "id": "73b11970",
   "metadata": {
    "ExecuteTime": {
     "end_time": "2022-01-28T01:45:47.787379Z",
     "start_time": "2022-01-28T01:45:46.532112Z"
    }
   },
   "outputs": [],
   "source": [
    "df['tp'] = 0\n",
    "df['fp'] = 0\n",
    "df['fn'] = 0\n",
    "for key in tqdm(df_d.keys()):\n",
    "    df[f'{key}_tp'] = df[f'{key}_tps'].apply(np.sum)\n",
    "    df[f'{key}_fp'] = df[f'{key}_fps'].apply(np.sum)\n",
    "    df[f'{key}_fn'] = df[f'{key}_fns'].apply(np.sum)\n",
    "    df['tp'] = df['tp'] + df[f'{key}_tp']\n",
    "    df['fp'] = df['fp'] + df[f'{key}_fp']\n",
    "    df['fn'] = df['fn'] + df[f'{key}_fn']"
   ]
  },
  {
   "cell_type": "code",
   "execution_count": null,
   "id": "5a37a6ae",
   "metadata": {
    "ExecuteTime": {
     "end_time": "2022-01-28T01:38:06.287175Z",
     "start_time": "2022-01-28T01:38:06.269026Z"
    }
   },
   "outputs": [],
   "source": [
    "color_pred = [(0,125,0)]    \n",
    "color_real = [(255,0,0)]\n",
    "def plot_img(df, idx, keys, save=False, pre=\"\"):\n",
    "    row = df.loc[idx]\n",
    "    path = row[\"image_path\"]\n",
    "    img = cv2.imread(str(path))[...,::-1]\n",
    "    real_bboxes = row[\"real_bbox\"]\n",
    "    preds = []\n",
    "    for key in keys:\n",
    "        if len(row[key]) > 0:\n",
    "            preds = preds + row[key]\n",
    "    bboxes = [p[1:5] for p in preds]\n",
    "    confis = [p[0] for p in preds]\n",
    "    print(f\"video {row.video_id}, sequence {row.sequence}, frame {row.video_frame}\")\n",
    "    img_plot = util.show_img(img, \n",
    "                          bboxes + real_bboxes, \n",
    "                          confis + [1] * len(real_bboxes),\n",
    "                          color_pred  * len(bboxes) + color_real * len(real_bboxes), \n",
    "                          bbox_format='coco')\n",
    "    img_plot.save(f\"./pic_check/{pre}v{row.video_id}_frame{row.video_frame}_seq{row.sequence}.jpg\")\n",
    "    display(img_plot)"
   ]
  },
  {
   "cell_type": "code",
   "execution_count": null,
   "id": "5d70ab36",
   "metadata": {
    "ExecuteTime": {
     "end_time": "2022-01-28T02:08:29.259257Z",
     "start_time": "2022-01-28T02:07:40.206296Z"
    }
   },
   "outputs": [],
   "source": [
    "for i, iou in tqdm(enumerate(np.arange(0.3,0.85,0.05))):\n",
    "    df[f\"f2_{iou:.2f}\"] = 0\n",
    "    df[f\"P_{iou:.2f}\"] = 0\n",
    "    df[f\"R_{iou:.2f}\"] = 0\n",
    "    for idx in df.index:\n",
    "        tp = 0\n",
    "        fp = 0\n",
    "        fn = 0\n",
    "        for key in df_d.keys():\n",
    "            tp += df.loc[idx, f'{key}_tps'][i]\n",
    "            fp += df.loc[idx, f'{key}_fps'][i]\n",
    "            fn += df.loc[idx, f'{key}_fns'][i]\n",
    "        df.loc[idx, f\"f2_{iou:.2f}\"] = util.f_beta(tp, fp, fn, beta=2)\n",
    "        df.loc[idx, f\"P_{iou:.2f}\"] = util.f_beta(tp, fp, fn, beta=0)\n",
    "        df.loc[idx, f\"R_{iou:.2f}\"] = util.f_beta(tp, fp, fn, beta=100)"
   ]
  },
  {
   "cell_type": "code",
   "execution_count": null,
   "id": "581a1a12",
   "metadata": {
    "ExecuteTime": {
     "end_time": "2022-01-28T02:08:33.092580Z",
     "start_time": "2022-01-28T02:08:33.045649Z"
    }
   },
   "outputs": [],
   "source": [
    "df[\"f2\"] = df[[f'f2_{iou:.2f}' for iou in np.arange(0.3,0.85,0.5)]].mean(axis=1)\n",
    "df[\"P\"] = df[[f'P_{iou:.2f}' for iou in np.arange(0.3,0.85,0.5)]].mean(axis=1)\n",
    "df[\"R\"] = df[[f'R_{iou:.2f}' for iou in np.arange(0.3,0.85,0.5)]].mean(axis=1)\n",
    "df.head()"
   ]
  },
  {
   "cell_type": "code",
   "execution_count": null,
   "id": "ebab7ac4",
   "metadata": {
    "ExecuteTime": {
     "end_time": "2022-01-28T01:44:23.147926Z",
     "start_time": "2022-01-28T01:44:23.129599Z"
    }
   },
   "outputs": [],
   "source": [
    "show_col = [\"video_id\",\"sequence\",\"video_frame\",\"num_bbox\", \"fold_V\", \"fold_A\", \"fold_C\", \"f2\", \"P\", \"R\"]"
   ]
  },
  {
   "cell_type": "code",
   "execution_count": null,
   "id": "d29ff9cc",
   "metadata": {
    "ExecuteTime": {
     "end_time": "2022-01-28T01:44:23.779649Z",
     "start_time": "2022-01-28T01:44:23.760008Z"
    }
   },
   "outputs": [],
   "source": [
    "sub_col = [\"fp\"] + [key+\"_fp\" for key in th_d.keys()]\n",
    "sub_col = sub_col + [\"tp\"] + [key+\"_tp\" for key in th_d.keys()]\n",
    "sub_col = sub_col + [\"fn\"] + [key+\"_fn\" for key in th_d.keys()]"
   ]
  },
  {
   "cell_type": "markdown",
   "id": "d2a1e0c3",
   "metadata": {
    "ExecuteTime": {
     "end_time": "2022-01-27T03:21:11.299685Z",
     "start_time": "2022-01-27T03:21:11.269707Z"
    }
   },
   "source": [
    "## most FP among empy group"
   ]
  },
  {
   "cell_type": "code",
   "execution_count": null,
   "id": "6e701b58",
   "metadata": {
    "ExecuteTime": {
     "end_time": "2022-01-28T02:08:41.820086Z",
     "start_time": "2022-01-28T02:08:41.748413Z"
    }
   },
   "outputs": [],
   "source": [
    "df_neg = df.query(\"num_bbox == 0\").copy()\n",
    "df_neg.sort_values(\"fp\", ascending=False, inplace=True)\n",
    "df_neg.reset_index(inplace=True, drop=True)\n",
    "df_neg[show_col + sub_col].head()"
   ]
  },
  {
   "cell_type": "code",
   "execution_count": null,
   "id": "a0dc1ab9",
   "metadata": {
    "ExecuteTime": {
     "end_time": "2022-01-28T02:08:51.633136Z",
     "start_time": "2022-01-28T02:08:50.518461Z"
    },
    "scrolled": false
   },
   "outputs": [],
   "source": [
    "if not os.path.exists(\"./pic_check/\"):\n",
    "    os.makedirs(\"./pic_check/\")\n",
    "    \n",
    "for i in range(5):\n",
    "    plot_img(df_neg, i, th_d.keys(), save=True, pre=\"MostFPinNoBBOXPic_\")"
   ]
  },
  {
   "cell_type": "markdown",
   "id": "372ffc91",
   "metadata": {},
   "source": [
    "## Most FP among non-empty group"
   ]
  },
  {
   "cell_type": "code",
   "execution_count": null,
   "id": "210404a8",
   "metadata": {
    "ExecuteTime": {
     "end_time": "2022-01-28T02:09:20.407544Z",
     "start_time": "2022-01-28T02:09:20.354392Z"
    }
   },
   "outputs": [],
   "source": [
    "df_pos = df.query(\"num_bbox > 0\").copy()\n",
    "df_pos.sort_values(\"fp\", ascending=False, inplace=True)\n",
    "df_pos.reset_index(inplace=True, drop=True)\n",
    "df_pos[show_col + sub_col].head()"
   ]
  },
  {
   "cell_type": "code",
   "execution_count": null,
   "id": "0ac86b4c",
   "metadata": {
    "ExecuteTime": {
     "end_time": "2022-01-28T02:09:35.187473Z",
     "start_time": "2022-01-28T02:09:34.177339Z"
    },
    "scrolled": false
   },
   "outputs": [],
   "source": [
    "for i in range(5):\n",
    "    plot_img(df_pos, i, th_d.keys(), save=True, pre=\"MostFPinBBOXPic_\")"
   ]
  },
  {
   "cell_type": "markdown",
   "id": "b56e6c8c",
   "metadata": {},
   "source": [
    "## Most FN among non-empty group"
   ]
  },
  {
   "cell_type": "code",
   "execution_count": null,
   "id": "af13e2d6",
   "metadata": {
    "ExecuteTime": {
     "end_time": "2022-01-28T02:11:08.348650Z",
     "start_time": "2022-01-28T02:11:08.313466Z"
    }
   },
   "outputs": [],
   "source": [
    "df_pos = df.query(\"num_bbox > 0\").copy()\n",
    "df_pos.sort_values(\"fn\", ascending=False, inplace=True)\n",
    "df_pos.reset_index(inplace=True, drop=True)\n",
    "df_pos[show_col + sub_col].head(10)"
   ]
  },
  {
   "cell_type": "code",
   "execution_count": null,
   "id": "9103902f",
   "metadata": {
    "ExecuteTime": {
     "end_time": "2022-01-28T02:11:27.424860Z",
     "start_time": "2022-01-28T02:11:25.386292Z"
    },
    "scrolled": false
   },
   "outputs": [],
   "source": [
    "for i in range(10):\n",
    "    plot_img(df_pos, i, th_d.keys(), save=True, pre=\"MostFN_\")"
   ]
  },
  {
   "cell_type": "markdown",
   "id": "55c9642a",
   "metadata": {},
   "source": [
    "## worst F2 with real bbox at least 3"
   ]
  },
  {
   "cell_type": "code",
   "execution_count": null,
   "id": "ebc58bf7",
   "metadata": {
    "ExecuteTime": {
     "end_time": "2022-01-28T02:11:48.648425Z",
     "start_time": "2022-01-28T02:11:48.618588Z"
    }
   },
   "outputs": [],
   "source": [
    "df_pos = df.query(\"num_bbox >= 3\").copy()\n",
    "df_pos.sort_values(\"f2\", ascending=True, inplace=True)\n",
    "df_pos.reset_index(inplace=True, drop=True)\n",
    "df_pos[show_col + sub_col].head()"
   ]
  },
  {
   "cell_type": "code",
   "execution_count": null,
   "id": "eac3e0a9",
   "metadata": {
    "ExecuteTime": {
     "end_time": "2022-01-28T02:12:06.616499Z",
     "start_time": "2022-01-28T02:12:05.480466Z"
    },
    "scrolled": false
   },
   "outputs": [],
   "source": [
    "for i in range(5):\n",
    "    plot_img(df_pos, i, th_d.keys(), save=True, pre=\"WorstF2inNumBBOXg3_\")"
   ]
  },
  {
   "cell_type": "markdown",
   "id": "16946134",
   "metadata": {},
   "source": [
    "## worst F2 with real bbox at least 5"
   ]
  },
  {
   "cell_type": "code",
   "execution_count": null,
   "id": "64e94623",
   "metadata": {
    "ExecuteTime": {
     "end_time": "2022-01-28T02:13:52.954154Z",
     "start_time": "2022-01-28T02:13:51.857074Z"
    },
    "scrolled": false
   },
   "outputs": [],
   "source": [
    "df_pos = df.query(\"num_bbox >= 5\").copy()\n",
    "df_pos.sort_values(\"f2\", ascending=True, inplace=True)\n",
    "df_pos.reset_index(inplace=True, drop=True)\n",
    "display(df_pos[show_col + sub_col].head())\n",
    "for i in range(5):\n",
    "    plot_img(df_pos, i, th_d.keys(), save=True, pre=\"WorstF2inNumBBOXg5_\")"
   ]
  },
  {
   "cell_type": "markdown",
   "id": "8debd0e5",
   "metadata": {},
   "source": [
    "## worst F2 with real bbox at least 8"
   ]
  },
  {
   "cell_type": "code",
   "execution_count": null,
   "id": "afa03ad4",
   "metadata": {
    "ExecuteTime": {
     "end_time": "2022-01-28T02:14:16.429205Z",
     "start_time": "2022-01-28T02:14:15.371571Z"
    },
    "scrolled": false
   },
   "outputs": [],
   "source": [
    "df_pos = df.query(\"num_bbox >= 8\").copy()\n",
    "df_pos.sort_values(\"f2\", ascending=True, inplace=True)\n",
    "df_pos.reset_index(inplace=True, drop=True)\n",
    "display(df_pos[show_col + sub_col].head())\n",
    "for i in range(5):\n",
    "    plot_img(df_pos, i, th_d.keys(), save=True, pre=\"WorstF2inNumBBOXg8_\")"
   ]
  },
  {
   "cell_type": "markdown",
   "id": "df37e3c9",
   "metadata": {},
   "source": [
    "## worst F2 with real bbox at least 12"
   ]
  },
  {
   "cell_type": "code",
   "execution_count": null,
   "id": "9b55a6a8",
   "metadata": {
    "ExecuteTime": {
     "end_time": "2022-01-28T02:14:40.038475Z",
     "start_time": "2022-01-28T02:14:39.026578Z"
    },
    "scrolled": false
   },
   "outputs": [],
   "source": [
    "df_pos = df.query(\"num_bbox >= 12\").copy()\n",
    "df_pos.sort_values(\"f2\", ascending=True, inplace=True)\n",
    "df_pos.reset_index(inplace=True, drop=True)\n",
    "display(df_pos[show_col + sub_col].head())\n",
    "for i in range(5):\n",
    "    plot_img(df_pos, i, th_d.keys(), save=True, pre=\"WorstF2inNumBBOXg12_\")"
   ]
  },
  {
   "cell_type": "markdown",
   "id": "c1e1a445",
   "metadata": {},
   "source": [
    "## Most TP"
   ]
  },
  {
   "cell_type": "code",
   "execution_count": null,
   "id": "873ca7bf",
   "metadata": {
    "ExecuteTime": {
     "end_time": "2022-01-28T02:14:51.263809Z",
     "start_time": "2022-01-28T02:14:50.266474Z"
    },
    "scrolled": false
   },
   "outputs": [],
   "source": [
    "df_pos = df.query(\"num_bbox>=0\").copy()\n",
    "df_pos.sort_values(\"tp\", ascending=False, inplace=True)\n",
    "df_pos.reset_index(inplace=True, drop=True)\n",
    "display(df_pos[show_col + sub_col].head())\n",
    "for i in range(5):\n",
    "    plot_img(df_pos, i, th_d.keys(), save=True, pre=\"MostTP_\")"
   ]
  },
  {
   "cell_type": "markdown",
   "id": "b4cc23df",
   "metadata": {},
   "source": [
    "## worst F2 with real bbox at least 3 in fold 4"
   ]
  },
  {
   "cell_type": "code",
   "execution_count": null,
   "id": "b1934d9f",
   "metadata": {
    "ExecuteTime": {
     "end_time": "2022-01-28T02:15:22.270232Z",
     "start_time": "2022-01-28T02:15:22.239220Z"
    }
   },
   "outputs": [],
   "source": [
    "df_pos = df.query(\"num_bbox >= 3 and fold_A==4\").copy()\n",
    "df_pos.sort_values(\"f2\", ascending=True, inplace=True)\n",
    "df_pos.reset_index(inplace=True, drop=True)\n",
    "df_pos[show_col + sub_col].head()"
   ]
  },
  {
   "cell_type": "code",
   "execution_count": null,
   "id": "52d502d6",
   "metadata": {
    "ExecuteTime": {
     "end_time": "2022-01-28T02:15:25.605616Z",
     "start_time": "2022-01-28T02:15:24.194605Z"
    },
    "scrolled": false
   },
   "outputs": [],
   "source": [
    "for i in range(5):\n",
    "    plot_img(df_pos, i, th_d.keys(), save=True, pre=\"WorstF2inNumBBOXg3CV4_\")"
   ]
  },
  {
   "cell_type": "markdown",
   "id": "4f3f928b",
   "metadata": {},
   "source": [
    "# NoBBOX case with many FP"
   ]
  },
  {
   "cell_type": "code",
   "execution_count": null,
   "id": "4a73eb42",
   "metadata": {
    "ExecuteTime": {
     "end_time": "2022-01-28T02:15:47.017427Z",
     "start_time": "2022-01-28T02:15:46.987266Z"
    }
   },
   "outputs": [],
   "source": [
    "df.query(\"num_bbox==0\")['fp'].describe()"
   ]
  },
  {
   "cell_type": "code",
   "execution_count": null,
   "id": "0e3c2d7c",
   "metadata": {
    "ExecuteTime": {
     "end_time": "2022-01-27T05:27:25.274401Z",
     "start_time": "2022-01-27T05:27:25.251453Z"
    }
   },
   "outputs": [],
   "source": [
    "df.query(\"num_bbox==0\")[\"fp\"].value_counts()"
   ]
  },
  {
   "cell_type": "code",
   "execution_count": null,
   "id": "09bb75c2",
   "metadata": {
    "ExecuteTime": {
     "end_time": "2022-01-27T05:27:25.292897Z",
     "start_time": "2022-01-27T05:27:25.275408Z"
    }
   },
   "outputs": [],
   "source": [
    "df.query(\"num_bbox==0 and fp>22\").shape, df.query(\"num_bbox>0\").shape"
   ]
  },
  {
   "cell_type": "code",
   "execution_count": null,
   "id": "6e2283c1",
   "metadata": {
    "ExecuteTime": {
     "end_time": "2022-01-27T05:27:25.450042Z",
     "start_time": "2022-01-27T05:27:25.429806Z"
    }
   },
   "outputs": [],
   "source": [
    "df_highFPNoBB = df.query(\"num_bbox==0 and fp>22\")[[\"video_id\",\"video_frame\",\"sequence\"]].copy()\n",
    "df_highFPNoBB['highFBNoBB'] = True"
   ]
  },
  {
   "cell_type": "code",
   "execution_count": null,
   "id": "793ae7bc",
   "metadata": {
    "ExecuteTime": {
     "end_time": "2022-01-27T05:23:21.226242Z",
     "start_time": "2022-01-27T05:23:21.205580Z"
    }
   },
   "outputs": [],
   "source": [
    "df_highFPNoBB.apply(lambda x: x.unique())"
   ]
  },
  {
   "cell_type": "code",
   "execution_count": null,
   "id": "2ff0be26",
   "metadata": {
    "ExecuteTime": {
     "end_time": "2022-01-27T05:24:16.668499Z",
     "start_time": "2022-01-27T05:24:16.640003Z"
    }
   },
   "outputs": [],
   "source": [
    "df_highFPNoBB.to_csv(\"../input/df_highFPNoBB.csv\", index=False)"
   ]
  },
  {
   "cell_type": "markdown",
   "id": "e7a08725",
   "metadata": {},
   "source": [
    "# check extreme"
   ]
  },
  {
   "cell_type": "code",
   "execution_count": null,
   "id": "31eaac66",
   "metadata": {
    "ExecuteTime": {
     "end_time": "2022-01-28T02:43:23.381897Z",
     "start_time": "2022-01-28T02:43:23.360519Z"
    }
   },
   "outputs": [],
   "source": [
    "df[\"tp_ratio\"] = df[\"tp\"] / df[\"tp\"].sum()\n",
    "df[\"fp_ratio\"] = df[\"fp\"] / df[\"fp\"].sum()\n",
    "df[\"fn_ratio\"] = df[\"fn\"] / df[\"fn\"].sum()\n",
    "util.f_beta(df[\"tp\"].sum(), df[\"fp\"].sum(), df[\"fn\"].sum(), 2)"
   ]
  },
  {
   "cell_type": "code",
   "execution_count": null,
   "id": "b04ed410",
   "metadata": {
    "ExecuteTime": {
     "end_time": "2022-01-28T02:44:33.850414Z",
     "start_time": "2022-01-28T02:44:33.810720Z"
    }
   },
   "outputs": [],
   "source": [
    "df[\"size\"] = 1\n",
    "df[\"has_annotations\"] = df[\"num_bbox\"] > 0\n",
    "seq_ratio = df.groupby([\"sequence\", \"video_id\",\"fold_A\n",
    "                        \"])[[\"size\",\"has_annotations\",\"num_bbox\",\"tp_ratio\", \"fp_ratio\", \"fn_ratio\"]].sum()\n",
    "seq_ratio[\"ratio\"] = seq_ratio[\"has_annotations\"] / seq_ratio[\"size\"]\n",
    "seq_ratio[\"f2\"] = seq_ratio.apply(lambda row: util.f_beta(row.tp_ratio, row.fp_ratio, row.fn_ratio, beta=2), axis=1) # f2 is invariant\n",
    "seq_ratio.style.background_gradient()"
   ]
  },
  {
   "cell_type": "code",
   "execution_count": null,
   "id": "f287e4b9",
   "metadata": {
    "ExecuteTime": {
     "end_time": "2022-01-27T05:52:49.380165Z",
     "start_time": "2022-01-27T05:52:49.361658Z"
    }
   },
   "outputs": [],
   "source": [
    "df.shape"
   ]
  },
  {
   "cell_type": "code",
   "execution_count": null,
   "id": "14b9b1b5",
   "metadata": {
    "ExecuteTime": {
     "end_time": "2022-01-27T05:33:15.035032Z",
     "start_time": "2022-01-27T05:33:15.014586Z"
    }
   },
   "outputs": [],
   "source": [
    "util.f_beta(df[\"tp\"].sum(), df[\"fp\"].sum(), df[\"fn\"].sum(), 2)"
   ]
  },
  {
   "cell_type": "markdown",
   "id": "5b28cde9",
   "metadata": {},
   "source": [
    "# pick hold out test sequence"
   ]
  },
  {
   "cell_type": "code",
   "execution_count": null,
   "id": "a4247761",
   "metadata": {
    "ExecuteTime": {
     "end_time": "2022-01-28T02:50:37.228797Z",
     "start_time": "2022-01-28T02:50:36.105488Z"
    }
   },
   "outputs": [],
   "source": [
    "# < 10% ratio, 0.5 ~ 0.6 cv score\n",
    "seqs = [996, 15827]\n",
    "df_seq = df.query(\"sequence in @seqs\").copy()\n",
    "print(df_seq.shape[0], df_seq.shape[0]/df.shape[0])\n",
    "gt_bboxs_seq_list = []\n",
    "for idx in range(len(df_seq)):\n",
    "    row = df_seq.iloc[idx]\n",
    "    gt_bboxs = row[\"real_bbox\"]\n",
    "    gt_bboxs_seq_list.append(np.array(gt_bboxs))\n",
    "\n",
    "for key in tqdm(df_d.keys()):\n",
    "    conf_th = th_d[key]\n",
    "    prd_bboxs_list = []\n",
    "    for index in df_seq.index:\n",
    "        prd_bboxs = df_seq.loc[index, key]\n",
    "        prd_bboxs_list.append(np.array([p for p in prd_bboxs if p[0] >= conf_th]))\n",
    "    f2_dict = util.calc_f2_score(gt_bboxs_seq_list, prd_bboxs_list, verbose=False)    \n",
    "    print(\"model {}, conf_th {:.2f}, f2 {:.3f}, precision {:.3f}, recall {:.3f}\".format(key, conf_th, f2_dict['f2'], f2_dict['P'], f2_dict['R']))"
   ]
  },
  {
   "cell_type": "markdown",
   "id": "a8a8bc24",
   "metadata": {},
   "source": [
    "# pick validation sequence"
   ]
  },
  {
   "cell_type": "code",
   "execution_count": null,
   "id": "29b6feec",
   "metadata": {
    "ExecuteTime": {
     "end_time": "2022-01-28T22:43:38.015020Z",
     "start_time": "2022-01-28T22:43:32.815233Z"
    }
   },
   "outputs": [],
   "source": [
    "# 18% ratio, ~ 0.6 cv score\n",
    "seqs = [53708, 59337, 45518,  26651, 15827]\n",
    "df_seq = df.query(\"sequence in @seqs\").copy()\n",
    "print(df_seq.shape[0], df_seq.shape[0]/df.shape[0])\n",
    "gt_bboxs_seq_list = []\n",
    "for idx in range(len(df_seq)):\n",
    "    row = df_seq.iloc[idx]\n",
    "    gt_bboxs = row[\"real_bbox\"]\n",
    "    gt_bboxs_seq_list.append(np.array(gt_bboxs))\n",
    "\n",
    "for key in tqdm(df_d.keys()):\n",
    "    conf_th = th_d[key]\n",
    "    prd_bboxs_list = []\n",
    "    for index in df_seq.index:\n",
    "        prd_bboxs = df_seq.loc[index, key]\n",
    "        prd_bboxs_list.append(np.array([p for p in prd_bboxs if p[0] >= conf_th]))\n",
    "    f2_dict = util.calc_f2_score(gt_bboxs_seq_list, prd_bboxs_list, verbose=False)    \n",
    "    print(\"model {}, conf_th {:.2f}, f2 {:.3f}, precision {:.3f}, recall {:.3f}\".format(key, conf_th, f2_dict['f2'], f2_dict['P'], f2_dict['R']))"
   ]
  },
  {
   "cell_type": "code",
   "execution_count": null,
   "id": "1a6f5cce",
   "metadata": {
    "ExecuteTime": {
     "end_time": "2022-01-28T22:43:44.779924Z",
     "start_time": "2022-01-28T22:43:44.758282Z"
    }
   },
   "outputs": [],
   "source": [
    "val_seq = [53708, 59337, 45518,  26651, 15827]\n",
    "df[\"fold_3\"] = 0\n",
    "df.loc[df.query(f\"sequence in {val_seq}\").index, \"fold_3\"] = 1"
   ]
  },
  {
   "cell_type": "code",
   "execution_count": null,
   "id": "028c2c49",
   "metadata": {
    "ExecuteTime": {
     "end_time": "2022-01-28T22:43:45.121182Z",
     "start_time": "2022-01-28T22:43:45.101803Z"
    }
   },
   "outputs": [],
   "source": [
    "df[\"fold_3\"].value_counts(normalize=True)"
   ]
  },
  {
   "cell_type": "code",
   "execution_count": null,
   "id": "2db904f6",
   "metadata": {
    "ExecuteTime": {
     "end_time": "2022-01-28T22:43:46.353001Z",
     "start_time": "2022-01-28T22:43:46.323447Z"
    }
   },
   "outputs": [],
   "source": [
    "idx = pd.IndexSlice\n",
    "stats = df.groupby(\"fold_3\")[[\"num_bbox\", \"has_annotations\"]].agg([\"count\", \"sum\"])\n",
    "stats.loc[:,idx[\"num_bbox\",\"ratio\"]] = stats.loc[:,idx[\"num_bbox\",\"sum\"]]/ stats.loc[:,idx[\"num_bbox\",\"count\"]]\n",
    "stats.loc[:,idx[\"has_annotations\",\"ratio\"]] = stats.loc[:,idx[\"has_annotations\",\"sum\"]]/ stats.loc[:,idx[\"has_annotations\",\"count\"]]\n",
    "stats.loc[:,idx[[\"num_bbox\",\"has_annotations\"],[\"count\", \"sum\", \"ratio\"]]]"
   ]
  },
  {
   "cell_type": "code",
   "execution_count": null,
   "id": "e42110dd",
   "metadata": {
    "ExecuteTime": {
     "end_time": "2022-01-28T22:44:12.076463Z",
     "start_time": "2022-01-28T22:44:02.716690Z"
    }
   },
   "outputs": [],
   "source": [
    "for f in [0, 1]:\n",
    "    df_fold = df.query(\"fold_3 == @f\").copy()\n",
    "    gt_bboxs_seq_list = []\n",
    "    for idx in range(len(df_fold)):\n",
    "        row = df_fold.iloc[idx]\n",
    "        gt_bboxs = row[\"real_bbox\"]\n",
    "        gt_bboxs_seq_list.append(np.array(gt_bboxs))\n",
    "\n",
    "    key = 'l_A'\n",
    "    conf_th = th_d[key]\n",
    "    prd_bboxs_list = []\n",
    "    for index in df_fold.index:\n",
    "        prd_bboxs = df_fold.loc[index, key]\n",
    "        prd_bboxs_list.append(np.array([p for p in prd_bboxs if p[0] >= conf_th]))\n",
    "    f2_dict = util.calc_f2_score(gt_bboxs_seq_list, prd_bboxs_list, verbose=False)    \n",
    "    print(\"fold {}, size {}, model {}, conf_th {:.2f}, f2 {:.3f}, precision {:.3f}, recall {:.3f}\".format(f, df_fold.shape[0], key, conf_th, f2_dict['f2'], f2_dict['P'], f2_dict['R']))"
   ]
  },
  {
   "cell_type": "code",
   "execution_count": null,
   "id": "903bc0c0",
   "metadata": {
    "ExecuteTime": {
     "end_time": "2022-01-28T22:44:30.506452Z",
     "start_time": "2022-01-28T22:44:30.487132Z"
    }
   },
   "outputs": [],
   "source": [
    "seq_fold = df.groupby(\"sequence\")[\"fold_3\"].last().to_dict()\n",
    "seq_fold"
   ]
  },
  {
   "cell_type": "code",
   "execution_count": null,
   "id": "2826171c",
   "metadata": {
    "ExecuteTime": {
     "end_time": "2022-01-28T22:44:32.739666Z",
     "start_time": "2022-01-28T22:44:32.721344Z"
    }
   },
   "outputs": [],
   "source": [
    "df.groupby(\"fold_3\")[\"video_id\"].unique()"
   ]
  },
  {
   "cell_type": "code",
   "execution_count": null,
   "id": "70312b90",
   "metadata": {
    "ExecuteTime": {
     "end_time": "2022-01-28T22:44:37.551029Z",
     "start_time": "2022-01-28T22:44:37.533130Z"
    }
   },
   "outputs": [],
   "source": [
    "util.save_pickle(seq_fold,\"../input/fold_test_2.pkl\")"
   ]
  },
  {
   "cell_type": "code",
   "execution_count": null,
   "id": "0c54b1f6",
   "metadata": {
    "ExecuteTime": {
     "end_time": "2022-01-28T22:51:20.296947Z",
     "start_time": "2022-01-28T22:51:20.278754Z"
    }
   },
   "outputs": [],
   "source": [
    "list(zip(range(3), 'abcd'))"
   ]
  },
  {
   "cell_type": "markdown",
   "id": "6f3145d2",
   "metadata": {},
   "source": [
    "# WBF"
   ]
  },
  {
   "cell_type": "code",
   "execution_count": null,
   "id": "a3843343",
   "metadata": {
    "ExecuteTime": {
     "end_time": "2022-01-26T22:03:19.328938Z",
     "start_time": "2022-01-26T22:03:19.307871Z"
    }
   },
   "outputs": [],
   "source": [
    "def run_wbf(bboxes, confs, image_size=1280, iou_thr=0.4, skip_box_thr=0.7, weights=None, conf_type='avg'):\n",
    "    if len(bboxes) == 1:\n",
    "        return bboxes[0], confs[0], []    \n",
    "    bboxes =  [bbox / (image_size-1) for bbox in bboxes]\n",
    "    scores = [conf for conf in confs]    \n",
    "    labels = [np.ones(len(conf)) for conf in confs]\n",
    "    bboxes, scores, labels = weighted_boxes_fusion(bboxes, scores, labels, weights=weights, iou_thr=iou_thr, skip_box_thr=skip_box_thr,conf_type=conf_type)\n",
    "    bboxes = bboxes * (image_size-1)\n",
    "    bboxes = bboxes.astype(int)\n",
    "    if len(bboxes) > 0:\n",
    "        bboxes[:,2:] = bboxes[:,2:] - bboxes[:,:2]\n",
    "    wbf_r = [[scores[i]] + bboxes[i].tolist() for i,s in enumerate(scores)]\n",
    "    return wbf_r"
   ]
  },
  {
   "cell_type": "code",
   "execution_count": null,
   "id": "fd0a1a6d",
   "metadata": {
    "ExecuteTime": {
     "end_time": "2022-01-26T22:23:02.581886Z",
     "start_time": "2022-01-26T22:23:02.564484Z"
    }
   },
   "outputs": [],
   "source": [
    "def prepare(row, keys=th_d.keys()):\n",
    "    bbox = []\n",
    "    confs = []\n",
    "    for key in keys:\n",
    "        bbox_tmp = np.array([p[1:] for p in row[key]])\n",
    "        if len(bbox_tmp) > 0:\n",
    "            bbox_tmp[:,2:] = bbox_tmp[:,2:] + bbox_tmp[:,:2]\n",
    "        bbox.append(bbox_tmp)\n",
    "        confs.append(np.array([p[0] for p in row[key]]))\n",
    "    return bbox, confs"
   ]
  },
  {
   "cell_type": "code",
   "execution_count": null,
   "id": "d7d8a283",
   "metadata": {
    "ExecuteTime": {
     "end_time": "2022-01-26T22:17:09.572259Z",
     "start_time": "2022-01-26T22:11:32.306164Z"
    }
   },
   "outputs": [],
   "source": [
    "iou_ths = [0.3,0.5,0.7]\n",
    "skip_box_ths = [0.3, 0.4, 0.5,0.7]\n",
    "conf_types = [\"max\", \"avg\"]\n",
    "for iou_th in iou_ths:\n",
    "    for skip_box_th in skip_box_ths:\n",
    "        for conf_type in conf_types:\n",
    "            df_plain['wbf'] = df_plain.apply(lambda row: run_wbf(prepare(row)[0], prepare(row)[1], iou_thr=iou_th, skip_box_thr=skip_box_th, conf_type=conf_type), axis=1 )\n",
    "            prd_bboxs_list = [np.array(p) for p in df_plain['wbf'].values]\n",
    "            tps, fps, fns = util.calc_f2_score(gt_bboxs_list, prd_bboxs_list, verbose=False)    \n",
    "            precision = util.f_beta(np.sum(tps), np.sum(fps), np.sum(fns), beta=0)\n",
    "            recall = util.f_beta(np.sum(tps), np.sum(fps), np.sum(fns), beta=100)    \n",
    "            score = util.f_beta(np.sum(tps), np.sum(fps), np.sum(fns), beta=2) \n",
    "            print(f\"wbf iou_th {iou_th}, skip_box_th {skip_box_th}, conf_type {conf_type}, pred: f2 {score:.4f}, precision {precision:.2f}, recall {recall:.2f} \")"
   ]
  },
  {
   "cell_type": "code",
   "execution_count": null,
   "id": "1c910864",
   "metadata": {
    "ExecuteTime": {
     "end_time": "2022-01-26T22:19:47.042654Z",
     "start_time": "2022-01-26T22:18:43.381232Z"
    }
   },
   "outputs": [],
   "source": [
    "iou_ths = [0.3,0.5,0.7]\n",
    "skip_box_ths = [0.4]\n",
    "conf_types = [\"max\", \"avg\"]\n",
    "for iou_th in iou_ths:\n",
    "    for skip_box_th in skip_box_ths:\n",
    "        for conf_type in conf_types:\n",
    "            df_plain['wbf'] = df_plain.apply(lambda row: run_wbf(prepare(row)[0], prepare(row)[1], iou_thr=iou_th, skip_box_thr=skip_box_th, conf_type=conf_type), axis=1 )\n",
    "            prd_bboxs_list = [np.array(p) for p in df_plain['wbf'].values]\n",
    "            tps, fps, fns = util.calc_f2_score(gt_bboxs_list, prd_bboxs_list, verbose=False)    \n",
    "            precision = util.f_beta(np.sum(tps), np.sum(fps), np.sum(fns), beta=0)\n",
    "            recall = util.f_beta(np.sum(tps), np.sum(fps), np.sum(fns), beta=100)    \n",
    "            score = util.f_beta(np.sum(tps), np.sum(fps), np.sum(fns), beta=2) \n",
    "            print(f\"wbf iou_th {iou_th}, skip_box_th {skip_box_th}, conf_type {conf_type}, pred: f2 {score:.4f}, precision {precision:.2f}, recall {recall:.2f} \")"
   ]
  },
  {
   "cell_type": "code",
   "execution_count": null,
   "id": "6cd9a20b",
   "metadata": {
    "ExecuteTime": {
     "end_time": "2022-01-26T22:24:44.515489Z",
     "start_time": "2022-01-26T22:24:35.332040Z"
    }
   },
   "outputs": [],
   "source": [
    "iou_th=0.5\n",
    "skip_box_th=0.4\n",
    "conf_type='avg'\n",
    "keys = [\"l_A\",\"l_V\",\"s_A\"]\n",
    "df_plain['wbf'] = df_plain.apply(lambda row: run_wbf(prepare(row,keys = keys)[0], prepare(row,keys = keys)[1], iou_thr=iou_th, skip_box_thr=skip_box_th, conf_type=conf_type), axis=1 )\n",
    "prd_bboxs_list = [np.array(p) for p in df_plain['wbf'].values]\n",
    "tps, fps, fns = util.calc_f2_score(gt_bboxs_list, prd_bboxs_list, verbose=False)    \n",
    "precision = util.f_beta(np.sum(tps), np.sum(fps), np.sum(fns), beta=0)\n",
    "recall = util.f_beta(np.sum(tps), np.sum(fps), np.sum(fns), beta=100)    \n",
    "score = util.f_beta(np.sum(tps), np.sum(fps), np.sum(fns), beta=2) \n",
    "print(f\"wbf iou_th {iou_th}, skip_box_th {skip_box_th}, conf_type {conf_type}, pred: f2 {score:.4f}, precision {precision:.2f}, recall {recall:.2f} \")"
   ]
  },
  {
   "cell_type": "code",
   "execution_count": null,
   "id": "aecaab05",
   "metadata": {},
   "outputs": [],
   "source": []
  }
 ],
 "metadata": {
  "kernelspec": {
   "display_name": "base",
   "language": "python",
   "name": "base"
  },
  "language_info": {
   "codemirror_mode": {
    "name": "ipython",
    "version": 3
   },
   "file_extension": ".py",
   "mimetype": "text/x-python",
   "name": "python",
   "nbconvert_exporter": "python",
   "pygments_lexer": "ipython3",
   "version": "3.8.10"
  },
  "toc": {
   "base_numbering": 1,
   "nav_menu": {},
   "number_sections": true,
   "sideBar": true,
   "skip_h1_title": false,
   "title_cell": "Table of Contents",
   "title_sidebar": "Contents",
   "toc_cell": false,
   "toc_position": {
    "height": "calc(100% - 180px)",
    "left": "10px",
    "top": "150px",
    "width": "426.667px"
   },
   "toc_section_display": true,
   "toc_window_display": true
  }
 },
 "nbformat": 4,
 "nbformat_minor": 5
}
