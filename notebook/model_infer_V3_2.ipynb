{
 "cells": [
  {
   "cell_type": "code",
   "execution_count": 1,
   "id": "c8f0ce2c",
   "metadata": {
    "ExecuteTime": {
     "end_time": "2022-01-30T01:35:26.581469Z",
     "start_time": "2022-01-30T01:35:26.564452Z"
    }
   },
   "outputs": [
    {
     "data": {
      "text/html": [
       "<style>.container { width:100% !important; }</style>"
      ],
      "text/plain": [
       "<IPython.core.display.HTML object>"
      ]
     },
     "metadata": {},
     "output_type": "display_data"
    }
   ],
   "source": [
    "%load_ext autoreload\n",
    "%autoreload 2\n",
    "\n",
    "from IPython.core.display import display, HTML\n",
    "display(HTML(\"<style>.container { width:100% !important; }</style>\"))"
   ]
  },
  {
   "cell_type": "code",
   "execution_count": 2,
   "id": "d2f506ce",
   "metadata": {
    "ExecuteTime": {
     "end_time": "2022-01-30T01:35:27.993470Z",
     "start_time": "2022-01-30T01:35:26.582801Z"
    }
   },
   "outputs": [],
   "source": [
    "import sys\n",
    "from itertools import groupby\n",
    "import numpy as np\n",
    "import cv2\n",
    "from tqdm.notebook import tqdm\n",
    "tqdm.pandas()\n",
    "import pandas as pd\n",
    "import os\n",
    "from glob import glob\n",
    "from multiprocessing import Pool\n",
    "import matplotlib.pyplot as plt\n",
    "# import cupy as cp\n",
    "import ast\n",
    "from pathlib import Path\n",
    "import pickle5 as pickle\n",
    "import torch\n",
    "\n",
    "import shutil\n",
    "import sys\n",
    "sys.path.append(\"../src/\")\n",
    "sys.path.append(\"../yolov5/\")\n",
    "\n",
    "import util\n",
    "\n",
    "from joblib import Parallel, delayed\n",
    "\n",
    "from IPython.display import display, HTML\n",
    "from sahi.model import Yolov5DetectionModel\n",
    "from sahi.utils.cv import read_image\n",
    "from sahi.utils.file import download_from_url\n",
    "from sahi.predict import get_prediction, get_sliced_prediction, predict\n",
    "from ensemble_boxes import weighted_boxes_fusion\n",
    "\n",
    "from IPython.display import Image\n",
    "from matplotlib import animation, rc\n",
    "rc('animation', html='jshtml')"
   ]
  },
  {
   "cell_type": "code",
   "execution_count": 3,
   "id": "e90818f1",
   "metadata": {
    "ExecuteTime": {
     "end_time": "2022-01-30T01:35:28.007141Z",
     "start_time": "2022-01-30T01:35:27.994369Z"
    }
   },
   "outputs": [],
   "source": [
    "CONF = 0\n",
    "IOU = 0.4\n",
    "AUGMENT = True # True \n",
    "SIZE = int(1800 * 1.5)  # 1280 * 1.3 \n",
    "#USE_CLACHE = True\n",
    "USE_SAHI = False"
   ]
  },
  {
   "cell_type": "markdown",
   "id": "3684e82d",
   "metadata": {},
   "source": [
    "# Load Data"
   ]
  },
  {
   "cell_type": "code",
   "execution_count": 4,
   "id": "bbf678d1",
   "metadata": {
    "ExecuteTime": {
     "end_time": "2022-01-30T01:35:28.041696Z",
     "start_time": "2022-01-30T01:35:28.008269Z"
    }
   },
   "outputs": [
    {
     "data": {
      "text/plain": [
       "(23501, 7)"
      ]
     },
     "execution_count": 4,
     "metadata": {},
     "output_type": "execute_result"
    }
   ],
   "source": [
    "INPUT_DIR = Path(\"../../data/tensorflow-great-barrier-reef/\")\n",
    "df = pd.read_csv(INPUT_DIR / \"train.csv\")\n",
    "folds = util.load_pickle(\"../input/fold_test_2.pkl\")\n",
    "df[\"fold\"] = df[\"sequence\"].apply(lambda x: folds[x])\n",
    "df.shape"
   ]
  },
  {
   "cell_type": "code",
   "execution_count": 5,
   "id": "1c4eed09",
   "metadata": {
    "ExecuteTime": {
     "end_time": "2022-01-30T01:35:47.878528Z",
     "start_time": "2022-01-30T01:35:28.042571Z"
    }
   },
   "outputs": [
    {
     "data": {
      "application/vnd.jupyter.widget-view+json": {
       "model_id": "d1152c23ee20477ca78dada1ea95d4ed",
       "version_major": 2,
       "version_minor": 0
      },
      "text/plain": [
       "  0%|          | 0/23501 [00:00<?, ?it/s]"
      ]
     },
     "metadata": {},
     "output_type": "display_data"
    },
    {
     "data": {
      "application/vnd.jupyter.widget-view+json": {
       "model_id": "3e11fe0c69bf4b98aa1a6ce99c259cd5",
       "version_major": 2,
       "version_minor": 0
      },
      "text/plain": [
       "  0%|          | 0/23501 [00:00<?, ?it/s]"
      ]
     },
     "metadata": {},
     "output_type": "display_data"
    }
   ],
   "source": [
    "data_param = {'root_dir':INPUT_DIR,'label_dir':INPUT_DIR / \"labels\"}\n",
    "df = df.progress_apply(lambda x: util.get_path(x, data_param, infer=True), axis=1)\n",
    "df['annotations'] = df['annotations'].progress_apply(lambda x: ast.literal_eval(x))\n",
    "df[\"real_bbox\"] = df[\"annotations\"].apply(lambda annots: [list(annot.values()) for annot in annots])"
   ]
  },
  {
   "cell_type": "code",
   "execution_count": 6,
   "id": "6c97008e",
   "metadata": {
    "ExecuteTime": {
     "end_time": "2022-01-30T01:35:47.931947Z",
     "start_time": "2022-01-30T01:35:47.879322Z"
    }
   },
   "outputs": [
    {
     "data": {
      "application/vnd.jupyter.widget-view+json": {
       "model_id": "0125d72728804adb8075689b77cd894c",
       "version_major": 2,
       "version_minor": 0
      },
      "text/plain": [
       "  0%|          | 0/23501 [00:00<?, ?it/s]"
      ]
     },
     "metadata": {},
     "output_type": "display_data"
    },
    {
     "name": "stdout",
     "output_type": "stream",
     "text": [
      "No BBox: 79.07% | With BBox: 20.93%\n"
     ]
    }
   ],
   "source": [
    "df['num_bbox'] = df['annotations'].progress_apply(lambda x: len(x))\n",
    "data = (df.num_bbox>0).value_counts(normalize=True)*100\n",
    "print(f\"No BBox: {data[0]:0.2f}% | With BBox: {data[1]:0.2f}%\")"
   ]
  },
  {
   "cell_type": "code",
   "execution_count": 7,
   "id": "e64374e5",
   "metadata": {
    "ExecuteTime": {
     "end_time": "2022-01-30T01:35:47.954537Z",
     "start_time": "2022-01-30T01:35:47.932836Z"
    }
   },
   "outputs": [
    {
     "data": {
      "text/plain": [
       "fold\n",
       "0    0.549803\n",
       "1    0.332484\n",
       "dtype: float64"
      ]
     },
     "execution_count": 7,
     "metadata": {},
     "output_type": "execute_result"
    }
   ],
   "source": [
    "# COTS per frame\n",
    "df.groupby(\"fold\").apply(lambda df: df[\"num_bbox\"].sum() / df.shape[0])"
   ]
  },
  {
   "cell_type": "markdown",
   "id": "a5bd44aa",
   "metadata": {},
   "source": [
    "# Model"
   ]
  },
  {
   "cell_type": "code",
   "execution_count": 8,
   "id": "ef45f306",
   "metadata": {
    "ExecuteTime": {
     "end_time": "2022-01-30T01:35:47.975050Z",
     "start_time": "2022-01-30T01:35:47.955351Z"
    }
   },
   "outputs": [],
   "source": [
    "meta_params = {}\n",
    "model_versions = ['0129_yolov5l_v3_1800_clahe']\n",
    "for model_version in model_versions:\n",
    "    model_folder = Path(f\"../output/{model_version}/\")\n",
    "    try:\n",
    "        params_path = model_folder / \"config\" / \"params.pkl\"\n",
    "        params = pickle.load(open(params_path, 'rb'))\n",
    "    except:\n",
    "        params_path = model_folder / \"config\" / \"params.yaml\"\n",
    "        params = util.load_yaml(params_path)\n",
    "        \n",
    "    for key, val in params.items():\n",
    "        if \"dir\" in key or \"path\" in key or \"file\" in key:\n",
    "            params[key] = Path(val)\n",
    "    meta_params[model_version] = params"
   ]
  },
  {
   "cell_type": "code",
   "execution_count": 9,
   "id": "9fdc893e",
   "metadata": {
    "ExecuteTime": {
     "end_time": "2022-01-30T01:35:48.075385Z",
     "start_time": "2022-01-30T01:35:47.975863Z"
    }
   },
   "outputs": [
    {
     "data": {
      "image/png": "[encoded data removed]",
      "text/plain": [
       "<Figure size 360x360 with 1 Axes>"
      ]
     },
     "metadata": {
      "needs_background": "light"
     },
     "output_type": "display_data"
    }
   ],
   "source": [
    "fig, axes = plt.subplots(1, len(meta_params),figsize=(5*len(meta_params), 5))\n",
    "if len(meta_params) == 1:\n",
    "    axes = [axes]\n",
    "target_score = {}\n",
    "for i,(model_version, params) in enumerate(meta_params.items()):\n",
    "    if params[\"tools\"] == \"mmdetection\":\n",
    "        continue\n",
    "    logging_dir = params[\"ckpt_path\"].parent.parent\n",
    "    res_df = pd.read_csv(logging_dir / \"results.csv\")    \n",
    "    res_df[['       metrics/score','   metrics/precision', '      metrics/recall']].plot(ax=axes[i])\n",
    "    axes[i].legend()\n",
    "    axes[i].set_title(f\"{model_version} score\")    \n",
    "    target_score[model_version] = res_df['       metrics/score'].max()\n",
    "plt.show()    "
   ]
  },
  {
   "cell_type": "code",
   "execution_count": 10,
   "id": "855638bb",
   "metadata": {
    "ExecuteTime": {
     "end_time": "2022-01-30T01:35:48.091074Z",
     "start_time": "2022-01-30T01:35:48.076869Z"
    }
   },
   "outputs": [
    {
     "data": {
      "text/plain": [
       "{'0129_yolov5l_v3_1800_clahe': 0.62257}"
      ]
     },
     "execution_count": 10,
     "metadata": {},
     "output_type": "execute_result"
    }
   ],
   "source": [
    "target_score"
   ]
  },
  {
   "cell_type": "code",
   "execution_count": 11,
   "id": "83ccd37e",
   "metadata": {
    "ExecuteTime": {
     "end_time": "2022-01-30T01:35:53.962932Z",
     "start_time": "2022-01-30T01:35:48.091854Z"
    }
   },
   "outputs": [
    {
     "name": "stderr",
     "output_type": "stream",
     "text": [
      "YOLOv5 🚀 v6.0-187-g6c42a6e torch 1.10.1+cu102 CUDA:0 (NVIDIA GeForce RTX 2080 Ti, 11016MiB)\n",
      "\n",
      "Fusing layers... \n",
      "Model Summary: 367 layers, 46108278 parameters, 0 gradients, 107.8 GFLOPs\n",
      "Adding AutoShape... \n"
     ]
    }
   ],
   "source": [
    "models = {}\n",
    "for model_version, params in meta_params.items():\n",
    "    if params['tools'] == \"yolov5\":\n",
    "        params[\"repo\"] = Path(\"../yolov5/\").resolve()\n",
    "    else:\n",
    "        ckp = glob(str(params['output_dir']) + \"/\" + \"last*\")[0]\n",
    "        params['ckpt_path'] = ckp\n",
    "    params[\"augment\"]  = AUGMENT\n",
    "    params[\"conf\"] = CONF\n",
    "    params[\"iou\"] = IOU\n",
    "\n",
    "    if USE_SAHI:\n",
    "        model = Yolov5DetectionModel(\n",
    "            model_path=str(params['ckpt_path']),\n",
    "            confidence_threshold=CONF,\n",
    "            image_size = params['img_size'],\n",
    "            device=\"cuda:0\", # or 'cuda:0'\n",
    "        )    \n",
    "    else:\n",
    "        if params['tools']  == \"yolov5\":\n",
    "            model = util.load_model(params)\n",
    "            device = torch.device(\"cuda:1\")\n",
    "            model.to(device)\n",
    "        elif params['tools'] == \"mmdetection\":\n",
    "            model = init_detector(str(params['cfg_dir'] / \"config.py\"), ckp, device='cuda:0')\n",
    "    models[model_version] = model"
   ]
  },
  {
   "cell_type": "markdown",
   "id": "aeb7e88a",
   "metadata": {},
   "source": [
    "# Prediction"
   ]
  },
  {
   "cell_type": "code",
   "execution_count": 12,
   "id": "0d0be6e0",
   "metadata": {
    "ExecuteTime": {
     "end_time": "2022-01-30T01:35:53.981377Z",
     "start_time": "2022-01-30T01:35:53.963844Z"
    }
   },
   "outputs": [
    {
     "data": {
      "text/plain": [
       "Index(['video_id', 'sequence', 'video_frame', 'sequence_frame', 'image_id',\n",
       "       'annotations', 'fold', 'old_image_path', 'image_path', 'label_path',\n",
       "       'real_bbox', 'num_bbox', 'pred_0129_yolov5l_v3_1800_clahe_fold1'],\n",
       "      dtype='object')"
      ]
     },
     "execution_count": 12,
     "metadata": {},
     "output_type": "execute_result"
    }
   ],
   "source": [
    "#df[\"pred\"] = None\n",
    "for model_version in meta_params.keys():\n",
    "    fold = meta_params[model_version][\"fold\"]\n",
    "    df[\"pred_\" + model_version + f\"_fold{fold}\"] = None\n",
    "df.columns"
   ]
  },
  {
   "cell_type": "code",
   "execution_count": 13,
   "id": "24cecc1d",
   "metadata": {
    "ExecuteTime": {
     "end_time": "2022-01-30T02:00:45.026225Z",
     "start_time": "2022-01-30T01:35:53.982105Z"
    }
   },
   "outputs": [
    {
     "data": {
      "application/vnd.jupyter.widget-view+json": {
       "model_id": "b36abfb4610d4316ac238c1cd1732fd4",
       "version_major": 2,
       "version_minor": 0
      },
      "text/plain": [
       "  0%|          | 0/23501 [00:00<?, ?it/s]"
      ]
     },
     "metadata": {},
     "output_type": "display_data"
    }
   ],
   "source": [
    "SH = 640\n",
    "SW = 640\n",
    "OHR = 0.2\n",
    "OWR = 0.2\n",
    "PMT = 0.2\n",
    "clahe = cv2.createCLAHE(clipLimit=5, tileGridSize=(10, 10))\n",
    "for idx in tqdm(range(len(df))):\n",
    "    row = df.loc[idx]\n",
    "    target_fold = row['fold']\n",
    "    if target_fold != 1:\n",
    "        continue\n",
    "    img_path = row[\"image_path\"]\n",
    "    img = cv2.imread(str(img_path))\n",
    "    for model_version, model in models.items():\n",
    "        USE_CLACHE = meta_params[model_version].get(\"use_clahe\", True)\n",
    "        img2 = img.copy()\n",
    "        if USE_CLACHE:\n",
    "            for i in range(3):\n",
    "                img2[:, :, i] = clahe.apply((img2[:, :, i]))     \n",
    "                \n",
    "        if meta_params[model_version][\"tools\"] == \"yolov5\":\n",
    "            img2 = img2[...,::-1]\n",
    "            if USE_SAHI:\n",
    "                result_sliced = get_sliced_prediction(\n",
    "                    img2,\n",
    "                    model,\n",
    "                    slice_height = SH,\n",
    "                    slice_width = SW,\n",
    "                    overlap_height_ratio = OHR,\n",
    "                    overlap_width_ratio = OWR,\n",
    "                    postprocess_match_threshold = PMT,\n",
    "                    verbose = False)\n",
    "                object_prediction_list = result_sliced.object_prediction_list\n",
    "                confs = [obj_pred.score.value for obj_pred in object_prediction_list]\n",
    "                pred_bbox = np.array([obj_pred.bbox.to_coco_bbox() for obj_pred in object_prediction_list])\n",
    "            else:\n",
    "                pred_bbox, confs = util.predict(model, img2, size=SIZE, augment=AUGMENT, use_sahi=USE_SAHI)\n",
    "\n",
    "        elif meta_params[model_version][\"tools\"] == \"mmdetection\":\n",
    "            result = inference_detector(model, img2)\n",
    "            pred_bbox = result[0][:,:4]\n",
    "            pred_bbox[:,2:] = pred_bbox[:,2:] - pred_bbox[:,:2]\n",
    "            pred_confs = result[0][:,4]\n",
    "            confs = pred_confs.tolist()\n",
    "        df.at[idx, \"pred_\" + model_version + f\"_fold{target_fold}\"] = [ [conf] + pred_bbox[i].tolist() for i, conf in enumerate(confs)]"
   ]
  },
  {
   "cell_type": "code",
   "execution_count": 14,
   "id": "34baaa11",
   "metadata": {
    "ExecuteTime": {
     "end_time": "2022-01-30T02:00:45.582701Z",
     "start_time": "2022-01-30T02:00:45.026943Z"
    }
   },
   "outputs": [],
   "source": [
    "#save it\n",
    "util.save_pickle(df, \"pred_CV3_s2700_clahe_0129.pkl\")"
   ]
  },
  {
   "cell_type": "code",
   "execution_count": null,
   "id": "8e1efb8c",
   "metadata": {},
   "outputs": [],
   "source": []
  }
 ],
 "metadata": {
  "kernelspec": {
   "display_name": "base",
   "language": "python",
   "name": "base"
  },
  "language_info": {
   "codemirror_mode": {
    "name": "ipython",
    "version": 3
   },
   "file_extension": ".py",
   "mimetype": "text/x-python",
   "name": "python",
   "nbconvert_exporter": "python",
   "pygments_lexer": "ipython3",
   "version": "3.8.10"
  },
  "toc": {
   "base_numbering": 1,
   "nav_menu": {},
   "number_sections": true,
   "sideBar": true,
   "skip_h1_title": false,
   "title_cell": "Table of Contents",
   "title_sidebar": "Contents",
   "toc_cell": false,
   "toc_position": {},
   "toc_section_display": true,
   "toc_window_display": false
  }
 },
 "nbformat": 4,
 "nbformat_minor": 5
}
