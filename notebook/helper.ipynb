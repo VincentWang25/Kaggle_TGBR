{
 "cells": [
  {
   "cell_type": "code",
   "execution_count": 1,
   "metadata": {},
   "outputs": [],
   "source": [
    "version = \"0104_yolov5s_fold0\"\n",
    "upload_folder = f\"../output/{version}/\"\n",
    "data_version = \"-\".join(version.split(\"_\"))"
   ]
  },
  {
   "cell_type": "code",
   "execution_count": 12,
   "metadata": {},
   "outputs": [],
   "source": [
    "!mv -f {upload_folder}/wandb ../output/{version}_wandb/"
   ]
  },
  {
   "cell_type": "code",
   "execution_count": 18,
   "metadata": {},
   "outputs": [],
   "source": [
    "with open(upload_folder + \"dataset-metadata.json\", \"w\") as f:\n",
    "    f.write(\"{\\n\")\n",
    "    f.write(f\"\"\"  \"title\": \"{data_version}\",\\n\"\"\")\n",
    "    f.write(f\"\"\"  \"id\": \"vincentwang25/{data_version}\",\\n\"\"\")\n",
    "    f.write(\"\"\"  \"licenses\": [\\n\"\"\")\n",
    "    f.write(\"\"\"    {\\n\"\"\")\n",
    "    f.write(\"\"\"      \"name\": \"CC0-1.0\"\\n\"\"\")\n",
    "    f.write(\"\"\"    }\\n\"\"\")\n",
    "    f.write(\"\"\"  ]\\n\"\"\")\n",
    "    f.write(\"\"\"}\"\"\")"
   ]
  },
  {
   "cell_type": "code",
   "execution_count": 21,
   "metadata": {},
   "outputs": [
    {
     "name": "stdout",
     "output_type": "stream",
     "text": [
      "Starting upload for file yolov5s.zip\n",
      "100%|██████████████████████████████████████| 31.9M/31.9M [00:05<00:00, 5.95MB/s]\n",
      "Upload successful: yolov5s.zip (32MB)\n",
      "Starting upload for file log.txt\n",
      "100%|██████████████████████████████████████| 1.07k/1.07k [00:00<00:00, 1.18kB/s]\n",
      "Upload successful: log.txt (1KB)\n",
      "Starting upload for file config.zip\n",
      "100%|█████████████████████████████████████████| 326k/326k [00:01<00:00, 332kB/s]\n",
      "Upload successful: config.zip (326KB)\n",
      "Dataset creation error: Slug can only contain alphanumeric or \"-\" characters\n"
     ]
    }
   ],
   "source": [
    "!kaggle datasets create -p {upload_folder} -r zip"
   ]
  },
  {
   "cell_type": "code",
   "execution_count": null,
   "metadata": {},
   "outputs": [],
   "source": []
  }
 ],
 "metadata": {
  "interpreter": {
   "hash": "916dbcbb3f70747c44a77c7bcd40155683ae19c65e1c03b4aa3499c5328201f1"
  },
  "kernelspec": {
   "display_name": "Python 3.8.10 64-bit",
   "language": "python",
   "name": "python3"
  },
  "language_info": {
   "codemirror_mode": {
    "name": "ipython",
    "version": 3
   },
   "file_extension": ".py",
   "mimetype": "text/x-python",
   "name": "python",
   "nbconvert_exporter": "python",
   "pygments_lexer": "ipython3",
   "version": "3.8.10"
  },
  "orig_nbformat": 4
 },
 "nbformat": 4,
 "nbformat_minor": 2
}
