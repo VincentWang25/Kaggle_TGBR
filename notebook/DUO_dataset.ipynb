{
 "cells": [
  {
   "cell_type": "code",
   "execution_count": 4,
   "id": "59b38a87",
   "metadata": {
    "ExecuteTime": {
     "end_time": "2022-01-24T05:13:46.262103Z",
     "start_time": "2022-01-24T05:13:46.258959Z"
    }
   },
   "outputs": [],
   "source": [
    "import os\n",
    "from pathlib import Path\n",
    "import sys\n",
    "import subprocess\n",
    "\n",
    "sys.path.append(\"../JSON2YOLO/\")\n",
    "from general_json2yolo import convert_coco_json"
   ]
  },
  {
   "cell_type": "code",
   "execution_count": 2,
   "id": "ca01de2c",
   "metadata": {
    "ExecuteTime": {
     "end_time": "2022-01-24T05:12:55.523682Z",
     "start_time": "2022-01-24T05:12:55.517684Z"
    }
   },
   "outputs": [],
   "source": [
    "data_dir = Path(\"/home/vincent/Kaggle/data/DUO/\")\n",
    "train_image_dir = data_dir / \"images\" / \"train\"\n",
    "test_image_dir = data_dir / \"images\" / \"test\"\n",
    "annot_coco_dir = data_dir / \"annotations\"\n",
    "train_annot_coco = annot_coco_dir / \"instances_train.json\"\n",
    "test_annot_coco = annot_coco_dir / \"instances_test.json\""
   ]
  },
  {
   "cell_type": "code",
   "execution_count": 5,
   "id": "0790171f",
   "metadata": {
    "ExecuteTime": {
     "end_time": "2022-01-24T05:14:42.708159Z",
     "start_time": "2022-01-24T05:14:37.554752Z"
    }
   },
   "outputs": [
    {
     "name": "stderr",
     "output_type": "stream",
     "text": [
      "Annotations /home/vincent/Kaggle/data/DUO/annotations/instances_test.json: 100%|█| 10517/10517 [00:00<00:\n",
      "Annotations /home/vincent/Kaggle/data/DUO/annotations/instances_train.json: 100%|█| 63998/63998 [00:03<00\n"
     ]
    }
   ],
   "source": [
    "convert_coco_json(json_dir = str(annot_coco_dir))"
   ]
  },
  {
   "cell_type": "code",
   "execution_count": null,
   "id": "623e705d",
   "metadata": {},
   "outputs": [],
   "source": [
    "# with open(train_annot_yolo, 'w') as f:\n",
    "#     for path in self.train_df.image_path.tolist():\n",
    "#         f.write(str(path.resolve())+'\\n')\n",
    "# with open(test_annot_yolo, 'w') as f:\n",
    "#     for path in self.valid_df.image_path.tolist():\n",
    "#         f.write(str(path.resolve())+'\\n')\n",
    "\n",
    "# data = dict(\n",
    "#     path = str(self.params[\"cfg_dir\"].resolve()),\n",
    "#     train = str((self.params[\"cfg_dir\"] / 'train.txt').resolve()),\n",
    "#     val = str((self.params[\"cfg_dir\"] / 'val.txt').resolve()),\n",
    "#     nc = 1,\n",
    "#     names = ['cots'],\n",
    "#     )\n",
    "\n",
    "# with open(self.params[\"cfg_dir\"] / 'bgr.yaml', 'w') as outfile:\n",
    "#     yaml.dump(data, outfile, default_flow_style=False)\n",
    "\n",
    "# f = open(self.params[\"cfg_dir\"] / 'bgr.yaml', 'r')\n"
   ]
  }
 ],
 "metadata": {
  "kernelspec": {
   "display_name": "base",
   "language": "python",
   "name": "base"
  },
  "language_info": {
   "codemirror_mode": {
    "name": "ipython",
    "version": 3
   },
   "file_extension": ".py",
   "mimetype": "text/x-python",
   "name": "python",
   "nbconvert_exporter": "python",
   "pygments_lexer": "ipython3",
   "version": "3.8.10"
  },
  "toc": {
   "base_numbering": 1,
   "nav_menu": {},
   "number_sections": true,
   "sideBar": true,
   "skip_h1_title": false,
   "title_cell": "Table of Contents",
   "title_sidebar": "Contents",
   "toc_cell": false,
   "toc_position": {},
   "toc_section_display": true,
   "toc_window_display": false
  }
 },
 "nbformat": 4,
 "nbformat_minor": 5
}
