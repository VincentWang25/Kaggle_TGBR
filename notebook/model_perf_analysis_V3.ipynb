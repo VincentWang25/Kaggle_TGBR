{
 "cells": [
  {
   "cell_type": "code",
   "execution_count": 1,
   "id": "c8f0ce2c",
   "metadata": {
    "ExecuteTime": {
     "end_time": "2022-02-09T04:48:33.518241Z",
     "start_time": "2022-02-09T04:48:33.503096Z"
    }
   },
   "outputs": [
    {
     "data": {
      "text/html": [
       "<style>.container { width:100% !important; }</style>"
      ],
      "text/plain": [
       "<IPython.core.display.HTML object>"
      ]
     },
     "metadata": {},
     "output_type": "display_data"
    }
   ],
   "source": [
    "%load_ext autoreload\n",
    "%autoreload 2\n",
    "\n",
    "from IPython.core.display import display, HTML\n",
    "display(HTML(\"<style>.container { width:100% !important; }</style>\"))"
   ]
  },
  {
   "cell_type": "code",
   "execution_count": 2,
   "id": "d2f506ce",
   "metadata": {
    "ExecuteTime": {
     "end_time": "2022-02-09T04:48:34.903013Z",
     "start_time": "2022-02-09T04:48:33.519745Z"
    }
   },
   "outputs": [],
   "source": [
    "import sys\n",
    "from itertools import groupby\n",
    "import numpy as np\n",
    "import cv2\n",
    "from tqdm.notebook import tqdm\n",
    "tqdm.pandas()\n",
    "import pandas as pd\n",
    "import os\n",
    "from glob import glob\n",
    "from multiprocessing import Pool\n",
    "import matplotlib.pyplot as plt\n",
    "# import cupy as cp\n",
    "import ast\n",
    "from pathlib import Path\n",
    "import pickle5 as pickle\n",
    "import torch\n",
    "\n",
    "import shutil\n",
    "import sys\n",
    "sys.path.append(\"../src/\")\n",
    "sys.path.append(\"../yolov5/\")\n",
    "\n",
    "import util\n",
    "\n",
    "from joblib import Parallel, delayed\n",
    "\n",
    "from IPython.display import display, HTML\n",
    "from sahi.model import Yolov5DetectionModel\n",
    "from sahi.utils.cv import read_image\n",
    "from sahi.utils.file import download_from_url\n",
    "from sahi.predict import get_prediction, get_sliced_prediction, predict\n",
    "from ensemble_boxes import weighted_boxes_fusion\n",
    "\n",
    "import albumentations as A\n",
    "\n",
    "from IPython.display import Image\n",
    "from matplotlib import animation, rc\n",
    "rc('animation', html='jshtml')"
   ]
  },
  {
   "cell_type": "markdown",
   "id": "3684e82d",
   "metadata": {},
   "source": [
    "# Load Data"
   ]
  },
  {
   "cell_type": "code",
   "execution_count": 52,
   "id": "49803627",
   "metadata": {
    "ExecuteTime": {
     "end_time": "2022-02-09T05:04:45.570168Z",
     "start_time": "2022-02-09T05:04:25.923667Z"
    }
   },
   "outputs": [
    {
     "data": {
      "application/vnd.jupyter.widget-view+json": {
       "model_id": "be2d3f5d11ac43538d1e77f04d825207",
       "version_major": 2,
       "version_minor": 0
      },
      "text/plain": [
       "  0%|          | 0/23501 [00:00<?, ?it/s]"
      ]
     },
     "metadata": {},
     "output_type": "display_data"
    },
    {
     "data": {
      "application/vnd.jupyter.widget-view+json": {
       "model_id": "0601ca1094cd4e8caee96700e76aa744",
       "version_major": 2,
       "version_minor": 0
      },
      "text/plain": [
       "  0%|          | 0/23501 [00:00<?, ?it/s]"
      ]
     },
     "metadata": {},
     "output_type": "display_data"
    },
    {
     "data": {
      "application/vnd.jupyter.widget-view+json": {
       "model_id": "efb0508d39144a708cd9b38dcec3f846",
       "version_major": 2,
       "version_minor": 0
      },
      "text/plain": [
       "  0%|          | 0/23501 [00:00<?, ?it/s]"
      ]
     },
     "metadata": {},
     "output_type": "display_data"
    },
    {
     "name": "stdout",
     "output_type": "stream",
     "text": [
      "No BBox: 79.07% | With BBox: 20.93%\n"
     ]
    }
   ],
   "source": [
    "cv_scheme = 'v2'\n",
    "INPUT_DIR = Path(\"../../data/tensorflow-great-barrier-reef/\")\n",
    "df = pd.read_csv(INPUT_DIR / \"train.csv\")\n",
    "if cv_scheme == \"video_id\":\n",
    "    df['fold'] = df['video_id']\n",
    "elif cv_scheme == \"v2\":\n",
    "    folds = util.load_pickle(\"../input/fold_test_2.pkl\")\n",
    "    df[\"fold\"] = df[\"sequence\"].apply(lambda x: folds[x])\n",
    "    \n",
    "highFP_df = pd.read_csv('../input/df_highFPNoBB.csv')\n",
    "df = pd.merge(df, highFP_df[['video_id',\"video_frame\",\"highFBNoBB\"]], on=[\"video_id\",\"video_frame\"], how='left')\n",
    "df[\"highFBNoBB\"].fillna(False, inplace=True)\n",
    "\n",
    "data_param = {'root_dir':INPUT_DIR,'label_dir':INPUT_DIR / \"labels\"}\n",
    "df = df.progress_apply(lambda x: util.get_path(x, data_param, infer=True), axis=1)\n",
    "df['annotations'] = df['annotations'].progress_apply(lambda x: ast.literal_eval(x))\n",
    "df[\"real_bbox\"] = df[\"annotations\"].apply(lambda annots: [list(annot.values()) for annot in annots])\n",
    "df['num_bbox'] = df['annotations'].progress_apply(lambda x: len(x))\n",
    "data = (df.num_bbox>0).value_counts(normalize=True)*100\n",
    "print(f\"No BBox: {data[0]:0.2f}% | With BBox: {data[1]:0.2f}%\")"
   ]
  },
  {
   "cell_type": "code",
   "execution_count": 53,
   "id": "d069100c",
   "metadata": {
    "ExecuteTime": {
     "end_time": "2022-02-09T05:04:47.256061Z",
     "start_time": "2022-02-09T05:04:45.571259Z"
    }
   },
   "outputs": [],
   "source": [
    "def add_df(name, from_col=None, to_col=None):\n",
    "    df_2 = util.load_pickle(name)\n",
    "    if from_col is not None:\n",
    "        df_2 = df_2.rename(columns = {from_col:to_col})\n",
    "    for col in df_2.columns:\n",
    "        if col not in df.columns:\n",
    "            new_col = col\n",
    "            if \"_fold1\" not in new_col and \"pred\" in new_col:\n",
    "                new_col = new_col + \"_fold1\"\n",
    "            df.loc[df.query('fold==1').index,new_col] = df_2.loc[df_2.query('fold==1').index,col].values\n",
    "#add_df('pred_CV3_0128.pkl')\n",
    "#add_df('pred_CV3_s1800_0129.pkl')\n",
    "# add_df('pred_CV3_s1800_e11_0129.pkl')\n",
    "#add_df('pred_CV3_s1280_clahe_0129.pkl')\n",
    "#add_df('pred_CV3_s3600_e11_0129.pkl', 'pred_0129_yolov5l_v3_highFP_1800_e11_fold1', 'pred_0129_yolov5l_v3_highFP_3600_e11_fold1')\n",
    "#add_df('pred_CV3_s1800_clahe_0129.pkl')\n",
    "#add_df('pred_CV3_s2700_clahe_0129.pkl', 'pred_0129_yolov5l_v3_1800_clahe_fold1', 'pred_0129_yolov5l_v3_2700_clahe_fold1')\n",
    "# add_df('pred_CV3_m6_s2300_clahe_0130.pkl')\n",
    "# add_df('pred_CV3_0130_exps.pkl')\n",
    "# add_df('pred_CV3_0131_exps.pkl')\n",
    "\n",
    "#add_df('pred_CV3_0203_sliced.pkl')\n",
    "#add_df('pred_0130_yolov5m6_noClahe_2300_IOU07.pkl', 'pred_0130_yolov5m6_noClahe_2300_fold1', 'pred_0130_yolov5m6_noClahe_2300_IOU07_fold1')\n",
    "#add_df('pred_CV3_0204_x6_1320.pkl')\n",
    "# add_df('pred_0205_m_TPH_1900_B.pkl')\n",
    "#add_df('pred_0205_yolov5s6_HA.pkl')\n",
    "# add_df('pred_0205_yolov5m6_B.pkl')\n",
    "# add_df('pred_0204_yolov5s6_B.pkl')\n",
    "# add_df('pred_0205_m_P7_2300_B.pkl')\n",
    "# add_df('pred_0205_m_TPH_1900_B_LR1e3.pkl')\n",
    "# add_df('pred_0205_yolov5m6_B_LS02.pkl')\n",
    "# add_df('pred_oof_pred_r22-0206-yolov5x6-1920_fold1_img2496.pkl')\n",
    "# add_df('pred_0206_yolov5m6_B_LS01.pkl')\n",
    "# add_df('pred_0206_yolov5m6_B_LS06.pkl')\n",
    "# add_df('pred_0207_yolov5s6_B_LS02_newGT.pkl')\n",
    "# add_df('pred_0207_yolov5m6_B_LS02_newGT.pkl')\n",
    "# add_df('pred_0207_yolov5m6_B_LS02_newGT_clahe.pkl')\n",
    "# add_df('pred_0207_m_TPH_1900_B_newGT.pkl')\n",
    "\n",
    "#add_df(\"pred_0207_yolov5m6_B_LS02_newGT_CV_video1.pkl\")\n",
    "add_df(\"pred_0207_m6_B_LS02_newGT_clahe.pkl\")\n",
    "add_df(\"pred_0208_s6_B_LS02_newGT_clahe.pkl\")\n",
    "add_df(\"pred_0208_s6_B_LS02_newGT_clahe.pkl\")\n",
    "add_df('pred_0208_m_TPH_1900_B_LS02_newGT.pkl')"
   ]
  },
  {
   "cell_type": "code",
   "execution_count": 54,
   "id": "0be511eb",
   "metadata": {
    "ExecuteTime": {
     "end_time": "2022-02-09T05:04:47.286942Z",
     "start_time": "2022-02-09T05:04:47.256982Z"
    }
   },
   "outputs": [],
   "source": [
    "df_oof = df.query(\"fold == 1\").copy()"
   ]
  },
  {
   "cell_type": "code",
   "execution_count": 55,
   "id": "07e4600b",
   "metadata": {
    "ExecuteTime": {
     "end_time": "2022-02-09T05:04:47.302669Z",
     "start_time": "2022-02-09T05:04:47.288200Z"
    }
   },
   "outputs": [
    {
     "data": {
      "text/plain": [
       "Index(['video_id', 'sequence', 'video_frame', 'sequence_frame', 'image_id',\n",
       "       'annotations', 'fold', 'highFBNoBB', 'old_image_path', 'image_path',\n",
       "       'label_path', 'real_bbox', 'num_bbox', 'train',\n",
       "       'pred_0207_m6_B_LS02_newGT_clahe_fold1',\n",
       "       'pred_0208_s6_B_LS02_newGT_fold1',\n",
       "       'pred_0208_s6_B_LS02_newGT_clahe_fold1',\n",
       "       'pred_0208_m_TPH_1900_B_LS02_newGT_fold1'],\n",
       "      dtype='object')"
      ]
     },
     "execution_count": 55,
     "metadata": {},
     "output_type": "execute_result"
    }
   ],
   "source": [
    "df_oof.columns"
   ]
  },
  {
   "cell_type": "markdown",
   "id": "73c58cc1",
   "metadata": {},
   "source": [
    "## mmdetection pred"
   ]
  },
  {
   "cell_type": "code",
   "execution_count": 56,
   "id": "29fcb577",
   "metadata": {
    "ExecuteTime": {
     "end_time": "2022-02-09T05:04:47.315518Z",
     "start_time": "2022-02-09T05:04:47.303358Z"
    }
   },
   "outputs": [],
   "source": [
    "# mm_model_versions = [\"0202_frcnn_1600_highFP_e8\"]\n",
    "# for mm_v in mm_model_versions:\n",
    "#     pred = util.load_pickle(f\"../output/{mm_v}/test_result.pkl\")\n",
    "#     pred_new = []\n",
    "#     for p in pred:\n",
    "#         p_sub = p[0]\n",
    "#         p_sub = p_sub[:,[4,0,1,2,3]]\n",
    "#         p_sub[:,3:] = p_sub[:,3:] - p_sub[:,1:3]\n",
    "#         pred_new.append(p_sub)\n",
    "#     df_oof[\"pred_\"+mm_v + \"_fold1\"] = pred_new"
   ]
  },
  {
   "cell_type": "code",
   "execution_count": 57,
   "id": "27b4a0ac",
   "metadata": {
    "ExecuteTime": {
     "end_time": "2022-02-09T05:04:47.331622Z",
     "start_time": "2022-02-09T05:04:47.316200Z"
    }
   },
   "outputs": [
    {
     "data": {
      "text/plain": [
       "['0207_m6_B_LS02_newGT_clahe',\n",
       " '0208_s6_B_LS02_newGT',\n",
       " '0208_s6_B_LS02_newGT_clahe',\n",
       " '0208_m_TPH_1900_B_LS02_newGT']"
      ]
     },
     "execution_count": 57,
     "metadata": {},
     "output_type": "execute_result"
    }
   ],
   "source": [
    "model_versions = [\"_\".join(col.split(\"_\")[1:-1]) for col in df_oof.columns if \"_fold1\" in col]\n",
    "model_versions"
   ]
  },
  {
   "cell_type": "markdown",
   "id": "a5bd44aa",
   "metadata": {},
   "source": [
    "# Model"
   ]
  },
  {
   "cell_type": "markdown",
   "id": "36b30983",
   "metadata": {},
   "source": [
    "# Pick Conf Thresh"
   ]
  },
  {
   "cell_type": "code",
   "execution_count": 58,
   "id": "9051cbe1",
   "metadata": {
    "ExecuteTime": {
     "end_time": "2022-02-09T05:04:47.375537Z",
     "start_time": "2022-02-09T05:04:47.332378Z"
    }
   },
   "outputs": [],
   "source": [
    "gt_bboxs_list = []\n",
    "for index in df_oof.index:\n",
    "    gt_bboxs_list.append(np.array(df_oof.loc[index, \"real_bbox\"]))"
   ]
  },
  {
   "cell_type": "code",
   "execution_count": 59,
   "id": "c7ec4428",
   "metadata": {
    "ExecuteTime": {
     "end_time": "2022-02-09T05:04:59.539807Z",
     "start_time": "2022-02-09T05:04:47.376327Z"
    }
   },
   "outputs": [
    {
     "name": "stdout",
     "output_type": "stream",
     "text": [
      "model 0208_m_TPH_1900_B_LS02_newGT, conf_th 0.05, f2 0.487, precision 0.204, recall 0.746\n",
      "model 0208_m_TPH_1900_B_LS02_newGT, conf_th 0.10, f2 0.581, precision 0.331, recall 0.715\n",
      "model 0208_m_TPH_1900_B_LS02_newGT, conf_th 0.15, f2 0.618, precision 0.431, recall 0.694\n",
      "model 0208_m_TPH_1900_B_LS02_newGT, conf_th 0.20, f2 0.633, precision 0.503, recall 0.676\n",
      "model 0208_m_TPH_1900_B_LS02_newGT, conf_th 0.25, f2 0.638, precision 0.562, recall 0.661\n",
      "model 0208_m_TPH_1900_B_LS02_newGT, conf_th 0.30, f2 0.640, precision 0.621, recall 0.644\n",
      "model 0208_m_TPH_1900_B_LS02_newGT, conf_th 0.35, f2 0.635, precision 0.663, recall 0.628\n",
      "model 0208_m_TPH_1900_B_LS02_newGT, conf_th 0.40, f2 0.630, precision 0.708, recall 0.613\n",
      "model 0208_m_TPH_1900_B_LS02_newGT, conf_th 0.45, f2 0.619, precision 0.740, recall 0.595\n",
      "model 0208_m_TPH_1900_B_LS02_newGT, conf_th 0.50, f2 0.607, precision 0.773, recall 0.576\n",
      "model 0208_m_TPH_1900_B_LS02_newGT, conf_th 0.60, f2 0.560, precision 0.828, recall 0.518\n"
     ]
    }
   ],
   "source": [
    "conf_ths = [5, 10, 15, 20, 25, 30, 35, 40, 45, 50, 60]\n",
    "#conf_ths = np.arange(15, 30)\n",
    "#conf_ths = np.arange(20, 35)\n",
    "\n",
    "#conf_ths = np.arange(25, 40)\n",
    "#conf_ths = np.arange(25, 40)\n",
    "\n",
    "#conf_ths = [12, 16, 18, 20, 22, 24]\n",
    "#conf_ths = [6, 8, 10, 12, 14]\n",
    "#conf_ths = [30, 32, 35, 38, 45, 50, 55]\n",
    "iou_ths = np.arange(0.3, 0.85, 0.05)\n",
    "fold = 1\n",
    "check_models = ['0208_m_TPH_1900_B_LS02_newGT']\n",
    "for model_version in model_versions:\n",
    "    if not model_version in check_models:\n",
    "        continue\n",
    "    pred_col = \"pred_\" + model_version + f\"_fold{fold}\"\n",
    "    for conf_th in conf_ths:\n",
    "        conf_th /= 100\n",
    "        prd_bboxs_list = []\n",
    "        for index in df_oof.index:\n",
    "            prd_bboxs = df_oof.loc[index, pred_col]\n",
    "            prd_bboxs = [p for p in prd_bboxs if p[0] >= conf_th]\n",
    "            prd_bboxs_list.append(np.array(prd_bboxs))\n",
    "        f2_dict = util.calc_f2_score(gt_bboxs_list, prd_bboxs_list, verbose=False)    \n",
    "        print(\"model {}, conf_th {:.2f}, f2 {:.3f}, precision {:.3f}, recall {:.3f}\".format(model_version, conf_th, f2_dict['f2'], f2_dict['P'], f2_dict['R']))"
   ]
  },
  {
   "cell_type": "code",
   "execution_count": 60,
   "id": "6d5f4503",
   "metadata": {
    "ExecuteTime": {
     "end_time": "2022-02-09T05:05:07.353464Z",
     "start_time": "2022-02-09T05:05:07.332446Z"
    }
   },
   "outputs": [],
   "source": [
    "best_conf_dict = {\n",
    "    '0207_m6_B_LS02_newGT_clahe': 0.25,\n",
    "    '0208_s6_B_LS02_newGT': 0.30,\n",
    "    '0208_s6_B_LS02_newGT_clahe': 0.30,\n",
    "    '0208_m_TPH_1900_B_LS02_newGT':0.30,\n",
    "    \n",
    "    '0128_yolov5l_v3': 0.25, #0.649\n",
    "    \"0128_yolov5l_v3_highFP\": 0.25, #642\n",
    "    \"0129_yolov5l_v3_highFP_1800\": 0.25, #645\n",
    "    \"0129_yolov5l_v3_highFP_1800_e11\": 0.16,\n",
    "    \"0129_yolov5l_v3_highFP_clahe\": 0.19,\n",
    "    '0129_yolov5l_v3_highFP_3600_e11': 0.25,\n",
    "    '0129_yolov5l_v3_1800_clahe': 0.15,\n",
    "    '0129_yolov5l_v3_2700_clahe': 0.2,\n",
    "    '0130_yolov5m6_2300': 0.27, # 660\n",
    "    '0130_yolov5s6_3100': 0.31, # 646\n",
    "    \"0130_yolov5m6_noHighFP_2300\": .40, # 655\n",
    "    \"0130_yolov5m6_noClahe_2300\": .23, # 678\n",
    "    \"0130_yolov5m6_2300_sheep\": .11, #669\n",
    "    \"0131_yolov5s6_3100_noClahe_sheep_whole\": .29, #673\n",
    "    '0131_frcnn_1600': 0.28,\n",
    "    '0201_frcnn_1600_highFP' : 0.40,\n",
    "    '0202_frcnn_1600_highFP_e8': 0.34, #621\n",
    "    '0202_vf_1700_highFP_e11': 0.4,\n",
    "    '0203_m6_1200_sliced_S720_ma025_lr5e4': 0.44, #666\n",
    "    '0203_m6_1000_sliced_S400x711_ma025': 0.38,\n",
    "    '0203_m6_1200_sliced_S720_ma025_lr5e4_AUG':0.53,\n",
    "    '0203_yolov5x6_1320':0.31, \n",
    "    '0205_m_TPH_1900_B':0.27, # 660\n",
    "    \"0205_yolov5s6_HA\":0.21, #666\n",
    "    '0205_yolov5m6_B': 0.17, #688\n",
    "    '0204_yolov5s6_B': 0.20, #683\n",
    "    '0205_yolov5s6_MA': 0.23, #664\n",
    "    '0205_m_P7_2300_B': 0.34, #659\n",
    "    '0205_m_TPH_1900_B_LR1e3': 0.36, # 678\n",
    "    '0205_yolov5m6_B_LS02': 0.3, # 687\n",
    "    'r22-0206-yolov5x6-1920':0.2,\n",
    "    \"0206_yolov5m6_B_LS01\": 0.15, # 671\n",
    "    \"0206_yolov5m6_B_LS06\": 0.20, # 669\n",
    "    '0207_yolov5s6_B_LS02_newGT':0.20, # 663\n",
    "    '0207_yolov5m6_B_LS02_newGT':0.38, # 680,\n",
    "    '0207_yolov5m6_B_LS02_newGT_clahe':0.33, # 682\n",
    "    '0207_m_TPH_1900_B_newGT':0.21,#661\n",
    "} "
   ]
  },
  {
   "cell_type": "code",
   "execution_count": 61,
   "id": "59b38c11",
   "metadata": {
    "ExecuteTime": {
     "end_time": "2022-02-09T05:05:08.546534Z",
     "start_time": "2022-02-09T05:05:08.526726Z"
    }
   },
   "outputs": [],
   "source": [
    "pd.set_option('display.max_columns', 40)\n",
    "f_cols = [\"f2\"] + [\"f2_\" + str(round(th,3)) for th in np.arange(0.3, 0.85, 0.05)]\n",
    "P_cols = [\"P\"] + [\"P_\" + str(round(th,3)) for th in np.arange(0.3, 0.85, 0.05)]\n",
    "R_cols = [\"R\"] + [\"R_\" + str(round(th,3)) for th in np.arange(0.3, 0.85, 0.05)]"
   ]
  },
  {
   "cell_type": "code",
   "execution_count": 62,
   "id": "a820dc32",
   "metadata": {
    "ExecuteTime": {
     "end_time": "2022-02-09T05:05:14.970140Z",
     "start_time": "2022-02-09T05:05:10.370220Z"
    },
    "scrolled": false
   },
   "outputs": [
    {
     "name": "stdout",
     "output_type": "stream",
     "text": [
      "model 0207_m6_B_LS02_newGT_clahe, conf_th 0.25, f2 0.695, precision 0.667, recall 0.703\n"
     ]
    },
    {
     "data": {
      "text/html": [
       "<style type=\"text/css\">\n",
       "#T_33119_row0_col0, #T_33119_row1_col0, #T_33119_row2_col0 {\n",
       "  background-color: #056ba7;\n",
       "  color: #f1f1f1;\n",
       "}\n",
       "#T_33119_row0_col1, #T_33119_row0_col2, #T_33119_row1_col1, #T_33119_row1_col2, #T_33119_row2_col1, #T_33119_row2_col2 {\n",
       "  background-color: #023858;\n",
       "  color: #f1f1f1;\n",
       "}\n",
       "#T_33119_row0_col3, #T_33119_row0_col4, #T_33119_row1_col3, #T_33119_row1_col4, #T_33119_row2_col3, #T_33119_row2_col4 {\n",
       "  background-color: #02395a;\n",
       "  color: #f1f1f1;\n",
       "}\n",
       "#T_33119_row0_col5, #T_33119_row1_col5, #T_33119_row2_col5 {\n",
       "  background-color: #023b5d;\n",
       "  color: #f1f1f1;\n",
       "}\n",
       "#T_33119_row0_col6, #T_33119_row1_col6, #T_33119_row2_col6 {\n",
       "  background-color: #034165;\n",
       "  color: #f1f1f1;\n",
       "}\n",
       "#T_33119_row0_col7, #T_33119_row1_col7, #T_33119_row2_col7 {\n",
       "  background-color: #034f7d;\n",
       "  color: #f1f1f1;\n",
       "}\n",
       "#T_33119_row0_col8, #T_33119_row1_col8, #T_33119_row2_col8 {\n",
       "  background-color: #05659f;\n",
       "  color: #f1f1f1;\n",
       "}\n",
       "#T_33119_row0_col9, #T_33119_row1_col9, #T_33119_row2_col9 {\n",
       "  background-color: #3f93c2;\n",
       "  color: #f1f1f1;\n",
       "}\n",
       "#T_33119_row0_col10, #T_33119_row1_col10, #T_33119_row2_col10 {\n",
       "  background-color: #b9c6e0;\n",
       "  color: #000000;\n",
       "}\n",
       "#T_33119_row0_col11, #T_33119_row1_col11, #T_33119_row2_col11 {\n",
       "  background-color: #fff7fb;\n",
       "  color: #000000;\n",
       "}\n",
       "</style>\n",
       "<table id=\"T_33119\">\n",
       "  <thead>\n",
       "    <tr>\n",
       "      <th class=\"blank level0\" >&nbsp;</th>\n",
       "      <th id=\"T_33119_level0_col0\" class=\"col_heading level0 col0\" >all</th>\n",
       "      <th id=\"T_33119_level0_col1\" class=\"col_heading level0 col1\" >0.3</th>\n",
       "      <th id=\"T_33119_level0_col2\" class=\"col_heading level0 col2\" >0.35</th>\n",
       "      <th id=\"T_33119_level0_col3\" class=\"col_heading level0 col3\" >0.4</th>\n",
       "      <th id=\"T_33119_level0_col4\" class=\"col_heading level0 col4\" >0.45</th>\n",
       "      <th id=\"T_33119_level0_col5\" class=\"col_heading level0 col5\" >0.5</th>\n",
       "      <th id=\"T_33119_level0_col6\" class=\"col_heading level0 col6\" >0.55</th>\n",
       "      <th id=\"T_33119_level0_col7\" class=\"col_heading level0 col7\" >0.6</th>\n",
       "      <th id=\"T_33119_level0_col8\" class=\"col_heading level0 col8\" >0.65</th>\n",
       "      <th id=\"T_33119_level0_col9\" class=\"col_heading level0 col9\" >0.7</th>\n",
       "      <th id=\"T_33119_level0_col10\" class=\"col_heading level0 col10\" >0.75</th>\n",
       "      <th id=\"T_33119_level0_col11\" class=\"col_heading level0 col11\" >0.8</th>\n",
       "    </tr>\n",
       "  </thead>\n",
       "  <tbody>\n",
       "    <tr>\n",
       "      <th id=\"T_33119_level0_row0\" class=\"row_heading level0 row0\" >f2</th>\n",
       "      <td id=\"T_33119_row0_col0\" class=\"data row0 col0\" >0.695</td>\n",
       "      <td id=\"T_33119_row0_col1\" class=\"data row0 col1\" >0.801</td>\n",
       "      <td id=\"T_33119_row0_col2\" class=\"data row0 col2\" >0.801</td>\n",
       "      <td id=\"T_33119_row0_col3\" class=\"data row0 col3\" >0.799</td>\n",
       "      <td id=\"T_33119_row0_col4\" class=\"data row0 col4\" >0.798</td>\n",
       "      <td id=\"T_33119_row0_col5\" class=\"data row0 col5\" >0.795</td>\n",
       "      <td id=\"T_33119_row0_col6\" class=\"data row0 col6\" >0.785</td>\n",
       "      <td id=\"T_33119_row0_col7\" class=\"data row0 col7\" >0.759</td>\n",
       "      <td id=\"T_33119_row0_col8\" class=\"data row0 col8\" >0.709</td>\n",
       "      <td id=\"T_33119_row0_col9\" class=\"data row0 col9\" >0.611</td>\n",
       "      <td id=\"T_33119_row0_col10\" class=\"data row0 col10\" >0.472</td>\n",
       "      <td id=\"T_33119_row0_col11\" class=\"data row0 col11\" >0.319</td>\n",
       "    </tr>\n",
       "    <tr>\n",
       "      <th id=\"T_33119_level0_row1\" class=\"row_heading level0 row1\" >P</th>\n",
       "      <td id=\"T_33119_row1_col0\" class=\"data row1 col0\" >0.667</td>\n",
       "      <td id=\"T_33119_row1_col1\" class=\"data row1 col1\" >0.768</td>\n",
       "      <td id=\"T_33119_row1_col2\" class=\"data row1 col2\" >0.768</td>\n",
       "      <td id=\"T_33119_row1_col3\" class=\"data row1 col3\" >0.767</td>\n",
       "      <td id=\"T_33119_row1_col4\" class=\"data row1 col4\" >0.766</td>\n",
       "      <td id=\"T_33119_row1_col5\" class=\"data row1 col5\" >0.762</td>\n",
       "      <td id=\"T_33119_row1_col6\" class=\"data row1 col6\" >0.753</td>\n",
       "      <td id=\"T_33119_row1_col7\" class=\"data row1 col7\" >0.728</td>\n",
       "      <td id=\"T_33119_row1_col8\" class=\"data row1 col8\" >0.680</td>\n",
       "      <td id=\"T_33119_row1_col9\" class=\"data row1 col9\" >0.586</td>\n",
       "      <td id=\"T_33119_row1_col10\" class=\"data row1 col10\" >0.452</td>\n",
       "      <td id=\"T_33119_row1_col11\" class=\"data row1 col11\" >0.306</td>\n",
       "    </tr>\n",
       "    <tr>\n",
       "      <th id=\"T_33119_level0_row2\" class=\"row_heading level0 row2\" >R</th>\n",
       "      <td id=\"T_33119_row2_col0\" class=\"data row2 col0\" >0.703</td>\n",
       "      <td id=\"T_33119_row2_col1\" class=\"data row2 col1\" >0.810</td>\n",
       "      <td id=\"T_33119_row2_col2\" class=\"data row2 col2\" >0.810</td>\n",
       "      <td id=\"T_33119_row2_col3\" class=\"data row2 col3\" >0.808</td>\n",
       "      <td id=\"T_33119_row2_col4\" class=\"data row2 col4\" >0.807</td>\n",
       "      <td id=\"T_33119_row2_col5\" class=\"data row2 col5\" >0.803</td>\n",
       "      <td id=\"T_33119_row2_col6\" class=\"data row2 col6\" >0.793</td>\n",
       "      <td id=\"T_33119_row2_col7\" class=\"data row2 col7\" >0.767</td>\n",
       "      <td id=\"T_33119_row2_col8\" class=\"data row2 col8\" >0.717</td>\n",
       "      <td id=\"T_33119_row2_col9\" class=\"data row2 col9\" >0.617</td>\n",
       "      <td id=\"T_33119_row2_col10\" class=\"data row2 col10\" >0.477</td>\n",
       "      <td id=\"T_33119_row2_col11\" class=\"data row2 col11\" >0.322</td>\n",
       "    </tr>\n",
       "  </tbody>\n",
       "</table>\n"
      ],
      "text/plain": [
       "<pandas.io.formats.style.Styler at 0x7ff6a28ca190>"
      ]
     },
     "metadata": {},
     "output_type": "display_data"
    },
    {
     "name": "stdout",
     "output_type": "stream",
     "text": [
      "model 0208_s6_B_LS02_newGT, conf_th 0.30, f2 0.666, precision 0.636, recall 0.674\n"
     ]
    },
    {
     "data": {
      "text/html": [
       "<style type=\"text/css\">\n",
       "#T_163ad_row0_col0, #T_163ad_row1_col0, #T_163ad_row2_col0 {\n",
       "  background-color: #056ba7;\n",
       "  color: #f1f1f1;\n",
       "}\n",
       "#T_163ad_row0_col1, #T_163ad_row0_col2, #T_163ad_row0_col3, #T_163ad_row0_col4, #T_163ad_row1_col1, #T_163ad_row1_col2, #T_163ad_row1_col3, #T_163ad_row1_col4, #T_163ad_row2_col1, #T_163ad_row2_col2, #T_163ad_row2_col3, #T_163ad_row2_col4 {\n",
       "  background-color: #023858;\n",
       "  color: #f1f1f1;\n",
       "}\n",
       "#T_163ad_row0_col5, #T_163ad_row1_col5, #T_163ad_row2_col5 {\n",
       "  background-color: #02395a;\n",
       "  color: #f1f1f1;\n",
       "}\n",
       "#T_163ad_row0_col6, #T_163ad_row1_col6, #T_163ad_row2_col6 {\n",
       "  background-color: #034267;\n",
       "  color: #f1f1f1;\n",
       "}\n",
       "#T_163ad_row0_col7, #T_163ad_row1_col7, #T_163ad_row2_col7 {\n",
       "  background-color: #045483;\n",
       "  color: #f1f1f1;\n",
       "}\n",
       "#T_163ad_row0_col8, #T_163ad_row1_col8, #T_163ad_row2_col8 {\n",
       "  background-color: #056aa6;\n",
       "  color: #f1f1f1;\n",
       "}\n",
       "#T_163ad_row0_col9, #T_163ad_row1_col9, #T_163ad_row2_col9 {\n",
       "  background-color: #3b92c1;\n",
       "  color: #f1f1f1;\n",
       "}\n",
       "#T_163ad_row0_col10, #T_163ad_row1_col10, #T_163ad_row2_col10 {\n",
       "  background-color: #b4c4df;\n",
       "  color: #000000;\n",
       "}\n",
       "#T_163ad_row0_col11, #T_163ad_row1_col11, #T_163ad_row2_col11 {\n",
       "  background-color: #fff7fb;\n",
       "  color: #000000;\n",
       "}\n",
       "</style>\n",
       "<table id=\"T_163ad\">\n",
       "  <thead>\n",
       "    <tr>\n",
       "      <th class=\"blank level0\" >&nbsp;</th>\n",
       "      <th id=\"T_163ad_level0_col0\" class=\"col_heading level0 col0\" >all</th>\n",
       "      <th id=\"T_163ad_level0_col1\" class=\"col_heading level0 col1\" >0.3</th>\n",
       "      <th id=\"T_163ad_level0_col2\" class=\"col_heading level0 col2\" >0.35</th>\n",
       "      <th id=\"T_163ad_level0_col3\" class=\"col_heading level0 col3\" >0.4</th>\n",
       "      <th id=\"T_163ad_level0_col4\" class=\"col_heading level0 col4\" >0.45</th>\n",
       "      <th id=\"T_163ad_level0_col5\" class=\"col_heading level0 col5\" >0.5</th>\n",
       "      <th id=\"T_163ad_level0_col6\" class=\"col_heading level0 col6\" >0.55</th>\n",
       "      <th id=\"T_163ad_level0_col7\" class=\"col_heading level0 col7\" >0.6</th>\n",
       "      <th id=\"T_163ad_level0_col8\" class=\"col_heading level0 col8\" >0.65</th>\n",
       "      <th id=\"T_163ad_level0_col9\" class=\"col_heading level0 col9\" >0.7</th>\n",
       "      <th id=\"T_163ad_level0_col10\" class=\"col_heading level0 col10\" >0.75</th>\n",
       "      <th id=\"T_163ad_level0_col11\" class=\"col_heading level0 col11\" >0.8</th>\n",
       "    </tr>\n",
       "  </thead>\n",
       "  <tbody>\n",
       "    <tr>\n",
       "      <th id=\"T_163ad_level0_row0\" class=\"row_heading level0 row0\" >f2</th>\n",
       "      <td id=\"T_163ad_row0_col0\" class=\"data row0 col0\" >0.666</td>\n",
       "      <td id=\"T_163ad_row0_col1\" class=\"data row0 col1\" >0.772</td>\n",
       "      <td id=\"T_163ad_row0_col2\" class=\"data row0 col2\" >0.772</td>\n",
       "      <td id=\"T_163ad_row0_col3\" class=\"data row0 col3\" >0.772</td>\n",
       "      <td id=\"T_163ad_row0_col4\" class=\"data row0 col4\" >0.772</td>\n",
       "      <td id=\"T_163ad_row0_col5\" class=\"data row0 col5\" >0.769</td>\n",
       "      <td id=\"T_163ad_row0_col6\" class=\"data row0 col6\" >0.753</td>\n",
       "      <td id=\"T_163ad_row0_col7\" class=\"data row0 col7\" >0.721</td>\n",
       "      <td id=\"T_163ad_row0_col8\" class=\"data row0 col8\" >0.667</td>\n",
       "      <td id=\"T_163ad_row0_col9\" class=\"data row0 col9\" >0.587</td>\n",
       "      <td id=\"T_163ad_row0_col10\" class=\"data row0 col10\" >0.452</td>\n",
       "      <td id=\"T_163ad_row0_col11\" class=\"data row0 col11\" >0.292</td>\n",
       "    </tr>\n",
       "    <tr>\n",
       "      <th id=\"T_163ad_level0_row1\" class=\"row_heading level0 row1\" >P</th>\n",
       "      <td id=\"T_163ad_row1_col0\" class=\"data row1 col0\" >0.636</td>\n",
       "      <td id=\"T_163ad_row1_col1\" class=\"data row1 col1\" >0.737</td>\n",
       "      <td id=\"T_163ad_row1_col2\" class=\"data row1 col2\" >0.737</td>\n",
       "      <td id=\"T_163ad_row1_col3\" class=\"data row1 col3\" >0.737</td>\n",
       "      <td id=\"T_163ad_row1_col4\" class=\"data row1 col4\" >0.737</td>\n",
       "      <td id=\"T_163ad_row1_col5\" class=\"data row1 col5\" >0.734</td>\n",
       "      <td id=\"T_163ad_row1_col6\" class=\"data row1 col6\" >0.720</td>\n",
       "      <td id=\"T_163ad_row1_col7\" class=\"data row1 col7\" >0.689</td>\n",
       "      <td id=\"T_163ad_row1_col8\" class=\"data row1 col8\" >0.637</td>\n",
       "      <td id=\"T_163ad_row1_col9\" class=\"data row1 col9\" >0.560</td>\n",
       "      <td id=\"T_163ad_row1_col10\" class=\"data row1 col10\" >0.431</td>\n",
       "      <td id=\"T_163ad_row1_col11\" class=\"data row1 col11\" >0.279</td>\n",
       "    </tr>\n",
       "    <tr>\n",
       "      <th id=\"T_163ad_level0_row2\" class=\"row_heading level0 row2\" >R</th>\n",
       "      <td id=\"T_163ad_row2_col0\" class=\"data row2 col0\" >0.674</td>\n",
       "      <td id=\"T_163ad_row2_col1\" class=\"data row2 col1\" >0.781</td>\n",
       "      <td id=\"T_163ad_row2_col2\" class=\"data row2 col2\" >0.781</td>\n",
       "      <td id=\"T_163ad_row2_col3\" class=\"data row2 col3\" >0.781</td>\n",
       "      <td id=\"T_163ad_row2_col4\" class=\"data row2 col4\" >0.781</td>\n",
       "      <td id=\"T_163ad_row2_col5\" class=\"data row2 col5\" >0.778</td>\n",
       "      <td id=\"T_163ad_row2_col6\" class=\"data row2 col6\" >0.762</td>\n",
       "      <td id=\"T_163ad_row2_col7\" class=\"data row2 col7\" >0.730</td>\n",
       "      <td id=\"T_163ad_row2_col8\" class=\"data row2 col8\" >0.675</td>\n",
       "      <td id=\"T_163ad_row2_col9\" class=\"data row2 col9\" >0.594</td>\n",
       "      <td id=\"T_163ad_row2_col10\" class=\"data row2 col10\" >0.457</td>\n",
       "      <td id=\"T_163ad_row2_col11\" class=\"data row2 col11\" >0.295</td>\n",
       "    </tr>\n",
       "  </tbody>\n",
       "</table>\n"
      ],
      "text/plain": [
       "<pandas.io.formats.style.Styler at 0x7ff6a1cd0520>"
      ]
     },
     "metadata": {},
     "output_type": "display_data"
    },
    {
     "name": "stdout",
     "output_type": "stream",
     "text": [
      "model 0208_s6_B_LS02_newGT_clahe, conf_th 0.30, f2 0.659, precision 0.595, recall 0.677\n"
     ]
    },
    {
     "data": {
      "text/html": [
       "<style type=\"text/css\">\n",
       "#T_8501b_row0_col0, #T_8501b_row1_col0, #T_8501b_row2_col0 {\n",
       "  background-color: #056dab;\n",
       "  color: #f1f1f1;\n",
       "}\n",
       "#T_8501b_row0_col1, #T_8501b_row0_col2, #T_8501b_row0_col3, #T_8501b_row1_col1, #T_8501b_row1_col2, #T_8501b_row1_col3, #T_8501b_row2_col1, #T_8501b_row2_col2, #T_8501b_row2_col3 {\n",
       "  background-color: #023858;\n",
       "  color: #f1f1f1;\n",
       "}\n",
       "#T_8501b_row0_col4, #T_8501b_row1_col4, #T_8501b_row2_col4 {\n",
       "  background-color: #023a5b;\n",
       "  color: #f1f1f1;\n",
       "}\n",
       "#T_8501b_row0_col5, #T_8501b_row1_col5, #T_8501b_row2_col5 {\n",
       "  background-color: #023d60;\n",
       "  color: #f1f1f1;\n",
       "}\n",
       "#T_8501b_row0_col6, #T_8501b_row1_col6, #T_8501b_row2_col6 {\n",
       "  background-color: #03466e;\n",
       "  color: #f1f1f1;\n",
       "}\n",
       "#T_8501b_row0_col7, #T_8501b_row1_col7, #T_8501b_row2_col7 {\n",
       "  background-color: #045585;\n",
       "  color: #f1f1f1;\n",
       "}\n",
       "#T_8501b_row0_col8, #T_8501b_row1_col8, #T_8501b_row2_col8 {\n",
       "  background-color: #056caa;\n",
       "  color: #f1f1f1;\n",
       "}\n",
       "#T_8501b_row0_col9, #T_8501b_row1_col9, #T_8501b_row2_col9 {\n",
       "  background-color: #4c99c5;\n",
       "  color: #f1f1f1;\n",
       "}\n",
       "#T_8501b_row0_col10, #T_8501b_row2_col10 {\n",
       "  background-color: #c1cae2;\n",
       "  color: #000000;\n",
       "}\n",
       "#T_8501b_row0_col11, #T_8501b_row1_col11, #T_8501b_row2_col11 {\n",
       "  background-color: #fff7fb;\n",
       "  color: #000000;\n",
       "}\n",
       "#T_8501b_row1_col10 {\n",
       "  background-color: #c2cbe2;\n",
       "  color: #000000;\n",
       "}\n",
       "</style>\n",
       "<table id=\"T_8501b\">\n",
       "  <thead>\n",
       "    <tr>\n",
       "      <th class=\"blank level0\" >&nbsp;</th>\n",
       "      <th id=\"T_8501b_level0_col0\" class=\"col_heading level0 col0\" >all</th>\n",
       "      <th id=\"T_8501b_level0_col1\" class=\"col_heading level0 col1\" >0.3</th>\n",
       "      <th id=\"T_8501b_level0_col2\" class=\"col_heading level0 col2\" >0.35</th>\n",
       "      <th id=\"T_8501b_level0_col3\" class=\"col_heading level0 col3\" >0.4</th>\n",
       "      <th id=\"T_8501b_level0_col4\" class=\"col_heading level0 col4\" >0.45</th>\n",
       "      <th id=\"T_8501b_level0_col5\" class=\"col_heading level0 col5\" >0.5</th>\n",
       "      <th id=\"T_8501b_level0_col6\" class=\"col_heading level0 col6\" >0.55</th>\n",
       "      <th id=\"T_8501b_level0_col7\" class=\"col_heading level0 col7\" >0.6</th>\n",
       "      <th id=\"T_8501b_level0_col8\" class=\"col_heading level0 col8\" >0.65</th>\n",
       "      <th id=\"T_8501b_level0_col9\" class=\"col_heading level0 col9\" >0.7</th>\n",
       "      <th id=\"T_8501b_level0_col10\" class=\"col_heading level0 col10\" >0.75</th>\n",
       "      <th id=\"T_8501b_level0_col11\" class=\"col_heading level0 col11\" >0.8</th>\n",
       "    </tr>\n",
       "  </thead>\n",
       "  <tbody>\n",
       "    <tr>\n",
       "      <th id=\"T_8501b_level0_row0\" class=\"row_heading level0 row0\" >f2</th>\n",
       "      <td id=\"T_8501b_row0_col0\" class=\"data row0 col0\" >0.659</td>\n",
       "      <td id=\"T_8501b_row0_col1\" class=\"data row0 col1\" >0.770</td>\n",
       "      <td id=\"T_8501b_row0_col2\" class=\"data row0 col2\" >0.770</td>\n",
       "      <td id=\"T_8501b_row0_col3\" class=\"data row0 col3\" >0.769</td>\n",
       "      <td id=\"T_8501b_row0_col4\" class=\"data row0 col4\" >0.764</td>\n",
       "      <td id=\"T_8501b_row0_col5\" class=\"data row0 col5\" >0.759</td>\n",
       "      <td id=\"T_8501b_row0_col6\" class=\"data row0 col6\" >0.745</td>\n",
       "      <td id=\"T_8501b_row0_col7\" class=\"data row0 col7\" >0.718</td>\n",
       "      <td id=\"T_8501b_row0_col8\" class=\"data row0 col8\" >0.660</td>\n",
       "      <td id=\"T_8501b_row0_col9\" class=\"data row0 col9\" >0.570</td>\n",
       "      <td id=\"T_8501b_row0_col10\" class=\"data row0 col10\" >0.432</td>\n",
       "      <td id=\"T_8501b_row0_col11\" class=\"data row0 col11\" >0.292</td>\n",
       "    </tr>\n",
       "    <tr>\n",
       "      <th id=\"T_8501b_level0_row1\" class=\"row_heading level0 row1\" >P</th>\n",
       "      <td id=\"T_8501b_row1_col0\" class=\"data row1 col0\" >0.595</td>\n",
       "      <td id=\"T_8501b_row1_col1\" class=\"data row1 col1\" >0.695</td>\n",
       "      <td id=\"T_8501b_row1_col2\" class=\"data row1 col2\" >0.695</td>\n",
       "      <td id=\"T_8501b_row1_col3\" class=\"data row1 col3\" >0.695</td>\n",
       "      <td id=\"T_8501b_row1_col4\" class=\"data row1 col4\" >0.690</td>\n",
       "      <td id=\"T_8501b_row1_col5\" class=\"data row1 col5\" >0.685</td>\n",
       "      <td id=\"T_8501b_row1_col6\" class=\"data row1 col6\" >0.673</td>\n",
       "      <td id=\"T_8501b_row1_col7\" class=\"data row1 col7\" >0.649</td>\n",
       "      <td id=\"T_8501b_row1_col8\" class=\"data row1 col8\" >0.596</td>\n",
       "      <td id=\"T_8501b_row1_col9\" class=\"data row1 col9\" >0.514</td>\n",
       "      <td id=\"T_8501b_row1_col10\" class=\"data row1 col10\" >0.390</td>\n",
       "      <td id=\"T_8501b_row1_col11\" class=\"data row1 col11\" >0.264</td>\n",
       "    </tr>\n",
       "    <tr>\n",
       "      <th id=\"T_8501b_level0_row2\" class=\"row_heading level0 row2\" >R</th>\n",
       "      <td id=\"T_8501b_row2_col0\" class=\"data row2 col0\" >0.677</td>\n",
       "      <td id=\"T_8501b_row2_col1\" class=\"data row2 col1\" >0.791</td>\n",
       "      <td id=\"T_8501b_row2_col2\" class=\"data row2 col2\" >0.791</td>\n",
       "      <td id=\"T_8501b_row2_col3\" class=\"data row2 col3\" >0.790</td>\n",
       "      <td id=\"T_8501b_row2_col4\" class=\"data row2 col4\" >0.785</td>\n",
       "      <td id=\"T_8501b_row2_col5\" class=\"data row2 col5\" >0.780</td>\n",
       "      <td id=\"T_8501b_row2_col6\" class=\"data row2 col6\" >0.765</td>\n",
       "      <td id=\"T_8501b_row2_col7\" class=\"data row2 col7\" >0.738</td>\n",
       "      <td id=\"T_8501b_row2_col8\" class=\"data row2 col8\" >0.679</td>\n",
       "      <td id=\"T_8501b_row2_col9\" class=\"data row2 col9\" >0.585</td>\n",
       "      <td id=\"T_8501b_row2_col10\" class=\"data row2 col10\" >0.444</td>\n",
       "      <td id=\"T_8501b_row2_col11\" class=\"data row2 col11\" >0.300</td>\n",
       "    </tr>\n",
       "  </tbody>\n",
       "</table>\n"
      ],
      "text/plain": [
       "<pandas.io.formats.style.Styler at 0x7ff6a3cadd90>"
      ]
     },
     "metadata": {},
     "output_type": "display_data"
    },
    {
     "name": "stdout",
     "output_type": "stream",
     "text": [
      "model 0208_m_TPH_1900_B_LS02_newGT, conf_th 0.30, f2 0.640, precision 0.621, recall 0.644\n"
     ]
    },
    {
     "data": {
      "text/html": [
       "<style type=\"text/css\">\n",
       "#T_4a330_row0_col0, #T_4a330_row1_col0, #T_4a330_row2_col0 {\n",
       "  background-color: #0569a5;\n",
       "  color: #f1f1f1;\n",
       "}\n",
       "#T_4a330_row0_col1, #T_4a330_row0_col2, #T_4a330_row0_col3, #T_4a330_row0_col4, #T_4a330_row0_col5, #T_4a330_row1_col1, #T_4a330_row1_col2, #T_4a330_row1_col3, #T_4a330_row1_col4, #T_4a330_row1_col5, #T_4a330_row2_col1, #T_4a330_row2_col2, #T_4a330_row2_col3, #T_4a330_row2_col4, #T_4a330_row2_col5 {\n",
       "  background-color: #023858;\n",
       "  color: #f1f1f1;\n",
       "}\n",
       "#T_4a330_row0_col6, #T_4a330_row1_col6, #T_4a330_row2_col6 {\n",
       "  background-color: #023b5d;\n",
       "  color: #f1f1f1;\n",
       "}\n",
       "#T_4a330_row0_col7, #T_4a330_row1_col7, #T_4a330_row2_col7 {\n",
       "  background-color: #034a74;\n",
       "  color: #f1f1f1;\n",
       "}\n",
       "#T_4a330_row0_col8, #T_4a330_row1_col8, #T_4a330_row2_col8 {\n",
       "  background-color: #0567a1;\n",
       "  color: #f1f1f1;\n",
       "}\n",
       "#T_4a330_row0_col9, #T_4a330_row1_col9, #T_4a330_row2_col9 {\n",
       "  background-color: #3d93c2;\n",
       "  color: #f1f1f1;\n",
       "}\n",
       "#T_4a330_row0_col10, #T_4a330_row1_col10, #T_4a330_row2_col10 {\n",
       "  background-color: #b0c2de;\n",
       "  color: #000000;\n",
       "}\n",
       "#T_4a330_row0_col11, #T_4a330_row1_col11, #T_4a330_row2_col11 {\n",
       "  background-color: #fff7fb;\n",
       "  color: #000000;\n",
       "}\n",
       "</style>\n",
       "<table id=\"T_4a330\">\n",
       "  <thead>\n",
       "    <tr>\n",
       "      <th class=\"blank level0\" >&nbsp;</th>\n",
       "      <th id=\"T_4a330_level0_col0\" class=\"col_heading level0 col0\" >all</th>\n",
       "      <th id=\"T_4a330_level0_col1\" class=\"col_heading level0 col1\" >0.3</th>\n",
       "      <th id=\"T_4a330_level0_col2\" class=\"col_heading level0 col2\" >0.35</th>\n",
       "      <th id=\"T_4a330_level0_col3\" class=\"col_heading level0 col3\" >0.4</th>\n",
       "      <th id=\"T_4a330_level0_col4\" class=\"col_heading level0 col4\" >0.45</th>\n",
       "      <th id=\"T_4a330_level0_col5\" class=\"col_heading level0 col5\" >0.5</th>\n",
       "      <th id=\"T_4a330_level0_col6\" class=\"col_heading level0 col6\" >0.55</th>\n",
       "      <th id=\"T_4a330_level0_col7\" class=\"col_heading level0 col7\" >0.6</th>\n",
       "      <th id=\"T_4a330_level0_col8\" class=\"col_heading level0 col8\" >0.65</th>\n",
       "      <th id=\"T_4a330_level0_col9\" class=\"col_heading level0 col9\" >0.7</th>\n",
       "      <th id=\"T_4a330_level0_col10\" class=\"col_heading level0 col10\" >0.75</th>\n",
       "      <th id=\"T_4a330_level0_col11\" class=\"col_heading level0 col11\" >0.8</th>\n",
       "    </tr>\n",
       "  </thead>\n",
       "  <tbody>\n",
       "    <tr>\n",
       "      <th id=\"T_4a330_level0_row0\" class=\"row_heading level0 row0\" >f2</th>\n",
       "      <td id=\"T_4a330_row0_col0\" class=\"data row0 col0\" >0.640</td>\n",
       "      <td id=\"T_4a330_row0_col1\" class=\"data row0 col1\" >0.736</td>\n",
       "      <td id=\"T_4a330_row0_col2\" class=\"data row0 col2\" >0.736</td>\n",
       "      <td id=\"T_4a330_row0_col3\" class=\"data row0 col3\" >0.736</td>\n",
       "      <td id=\"T_4a330_row0_col4\" class=\"data row0 col4\" >0.736</td>\n",
       "      <td id=\"T_4a330_row0_col5\" class=\"data row0 col5\" >0.735</td>\n",
       "      <td id=\"T_4a330_row0_col6\" class=\"data row0 col6\" >0.729</td>\n",
       "      <td id=\"T_4a330_row0_col7\" class=\"data row0 col7\" >0.704</td>\n",
       "      <td id=\"T_4a330_row0_col8\" class=\"data row0 col8\" >0.646</td>\n",
       "      <td id=\"T_4a330_row0_col9\" class=\"data row0 col9\" >0.559</td>\n",
       "      <td id=\"T_4a330_row0_col10\" class=\"data row0 col10\" >0.438</td>\n",
       "      <td id=\"T_4a330_row0_col11\" class=\"data row0 col11\" >0.282</td>\n",
       "    </tr>\n",
       "    <tr>\n",
       "      <th id=\"T_4a330_level0_row1\" class=\"row_heading level0 row1\" >P</th>\n",
       "      <td id=\"T_4a330_row1_col0\" class=\"data row1 col0\" >0.621</td>\n",
       "      <td id=\"T_4a330_row1_col1\" class=\"data row1 col1\" >0.714</td>\n",
       "      <td id=\"T_4a330_row1_col2\" class=\"data row1 col2\" >0.714</td>\n",
       "      <td id=\"T_4a330_row1_col3\" class=\"data row1 col3\" >0.714</td>\n",
       "      <td id=\"T_4a330_row1_col4\" class=\"data row1 col4\" >0.714</td>\n",
       "      <td id=\"T_4a330_row1_col5\" class=\"data row1 col5\" >0.713</td>\n",
       "      <td id=\"T_4a330_row1_col6\" class=\"data row1 col6\" >0.707</td>\n",
       "      <td id=\"T_4a330_row1_col7\" class=\"data row1 col7\" >0.683</td>\n",
       "      <td id=\"T_4a330_row1_col8\" class=\"data row1 col8\" >0.627</td>\n",
       "      <td id=\"T_4a330_row1_col9\" class=\"data row1 col9\" >0.542</td>\n",
       "      <td id=\"T_4a330_row1_col10\" class=\"data row1 col10\" >0.425</td>\n",
       "      <td id=\"T_4a330_row1_col11\" class=\"data row1 col11\" >0.274</td>\n",
       "    </tr>\n",
       "    <tr>\n",
       "      <th id=\"T_4a330_level0_row2\" class=\"row_heading level0 row2\" >R</th>\n",
       "      <td id=\"T_4a330_row2_col0\" class=\"data row2 col0\" >0.644</td>\n",
       "      <td id=\"T_4a330_row2_col1\" class=\"data row2 col1\" >0.741</td>\n",
       "      <td id=\"T_4a330_row2_col2\" class=\"data row2 col2\" >0.741</td>\n",
       "      <td id=\"T_4a330_row2_col3\" class=\"data row2 col3\" >0.741</td>\n",
       "      <td id=\"T_4a330_row2_col4\" class=\"data row2 col4\" >0.741</td>\n",
       "      <td id=\"T_4a330_row2_col5\" class=\"data row2 col5\" >0.741</td>\n",
       "      <td id=\"T_4a330_row2_col6\" class=\"data row2 col6\" >0.734</td>\n",
       "      <td id=\"T_4a330_row2_col7\" class=\"data row2 col7\" >0.709</td>\n",
       "      <td id=\"T_4a330_row2_col8\" class=\"data row2 col8\" >0.651</td>\n",
       "      <td id=\"T_4a330_row2_col9\" class=\"data row2 col9\" >0.563</td>\n",
       "      <td id=\"T_4a330_row2_col10\" class=\"data row2 col10\" >0.442</td>\n",
       "      <td id=\"T_4a330_row2_col11\" class=\"data row2 col11\" >0.284</td>\n",
       "    </tr>\n",
       "  </tbody>\n",
       "</table>\n"
      ],
      "text/plain": [
       "<pandas.io.formats.style.Styler at 0x7ff6a3cd03d0>"
      ]
     },
     "metadata": {},
     "output_type": "display_data"
    }
   ],
   "source": [
    "df_perf_dict = {model_version: pd.DataFrame(columns=[\"all\"] + [str(round(th,3)) for th in np.arange(0.3, 0.85, 0.05)]).copy() for model_version in model_versions}\n",
    "fold = 1\n",
    "f2_score = {}\n",
    "for model_version in model_versions:\n",
    "    pred_col = \"pred_\" + model_version + f\"_fold{fold}\"\n",
    "    conf_th = best_conf_dict[model_version]\n",
    "    prd_bboxs_list = []\n",
    "    for index in df_oof.index:\n",
    "        prd_bboxs = df_oof.loc[index, pred_col]\n",
    "        prd_bboxs = [p for p in prd_bboxs if p[0] >= conf_th]\n",
    "        prd_bboxs_list.append(np.array(prd_bboxs))\n",
    "    f2_dict = util.calc_f2_score(gt_bboxs_list, prd_bboxs_list, verbose=False)    \n",
    "    df_perf_dict[model_version].loc[\"f2\",:] = [f2_dict[col] for col in f_cols]\n",
    "    df_perf_dict[model_version].loc[\"P\",:] = [f2_dict[col] for col in P_cols]\n",
    "    df_perf_dict[model_version].loc[\"R\",:] = [f2_dict[col] for col in R_cols]\n",
    "    f2_score[model_version] = f2_dict['f2']\n",
    "    print(\"model {}, conf_th {:.2f}, f2 {:.3f}, precision {:.3f}, recall {:.3f}\".format(model_version, conf_th, f2_dict['f2'], f2_dict['P'], f2_dict['R']))\n",
    "    display(df_perf_dict[model_version].astype(float).style.format(\"{:.3f}\").background_gradient(axis=1))"
   ]
  },
  {
   "cell_type": "code",
   "execution_count": 63,
   "id": "c4561bb2",
   "metadata": {
    "ExecuteTime": {
     "end_time": "2022-02-09T05:05:14.988251Z",
     "start_time": "2022-02-09T05:05:14.970893Z"
    }
   },
   "outputs": [
    {
     "data": {
      "text/html": [
       "<style type=\"text/css\">\n",
       "#T_a23bc_row0_col0 {\n",
       "  background-color: #023858;\n",
       "  color: #f1f1f1;\n",
       "}\n",
       "#T_a23bc_row1_col0 {\n",
       "  background-color: #7eadd1;\n",
       "  color: #f1f1f1;\n",
       "}\n",
       "#T_a23bc_row2_col0 {\n",
       "  background-color: #afc1dd;\n",
       "  color: #000000;\n",
       "}\n",
       "#T_a23bc_row3_col0 {\n",
       "  background-color: #fff7fb;\n",
       "  color: #000000;\n",
       "}\n",
       "</style>\n",
       "<table id=\"T_a23bc\">\n",
       "  <thead>\n",
       "    <tr>\n",
       "      <th class=\"blank level0\" >&nbsp;</th>\n",
       "      <th id=\"T_a23bc_level0_col0\" class=\"col_heading level0 col0\" >f2</th>\n",
       "    </tr>\n",
       "  </thead>\n",
       "  <tbody>\n",
       "    <tr>\n",
       "      <th id=\"T_a23bc_level0_row0\" class=\"row_heading level0 row0\" >0207_m6_B_LS02_newGT_clahe</th>\n",
       "      <td id=\"T_a23bc_row0_col0\" class=\"data row0 col0\" >0.695</td>\n",
       "    </tr>\n",
       "    <tr>\n",
       "      <th id=\"T_a23bc_level0_row1\" class=\"row_heading level0 row1\" >0208_s6_B_LS02_newGT</th>\n",
       "      <td id=\"T_a23bc_row1_col0\" class=\"data row1 col0\" >0.666</td>\n",
       "    </tr>\n",
       "    <tr>\n",
       "      <th id=\"T_a23bc_level0_row2\" class=\"row_heading level0 row2\" >0208_s6_B_LS02_newGT_clahe</th>\n",
       "      <td id=\"T_a23bc_row2_col0\" class=\"data row2 col0\" >0.659</td>\n",
       "    </tr>\n",
       "    <tr>\n",
       "      <th id=\"T_a23bc_level0_row3\" class=\"row_heading level0 row3\" >0208_m_TPH_1900_B_LS02_newGT</th>\n",
       "      <td id=\"T_a23bc_row3_col0\" class=\"data row3 col0\" >0.640</td>\n",
       "    </tr>\n",
       "  </tbody>\n",
       "</table>\n"
      ],
      "text/plain": [
       "<pandas.io.formats.style.Styler at 0x7ff6a2698400>"
      ]
     },
     "execution_count": 63,
     "metadata": {},
     "output_type": "execute_result"
    }
   ],
   "source": [
    "f2_score_df = pd.DataFrame.from_dict(f2_score,orient='index',columns=[\"f2\"])\n",
    "f2_score_df.style.format(\"{:.3f}\").background_gradient(axis=0)"
   ]
  },
  {
   "cell_type": "markdown",
   "id": "d078dcf1",
   "metadata": {},
   "source": [
    "# Tracking"
   ]
  },
  {
   "cell_type": "code",
   "execution_count": 64,
   "id": "15b1dc28",
   "metadata": {
    "ExecuteTime": {
     "end_time": "2022-02-09T05:05:15.012417Z",
     "start_time": "2022-02-09T05:05:14.989055Z"
    }
   },
   "outputs": [],
   "source": [
    "from norfair import Detection, Tracker\n",
    "\n",
    "# Helper to convert bbox in format [x_min, y_min, x_max, y_max, score] to norfair.Detection class\n",
    "def to_norfair(detects, frame_id):\n",
    "    result = []\n",
    "    for x_min, y_min, x_max, y_max, score in detects:\n",
    "        xc, yc = (x_min + x_max) / 2, (y_min + y_max) / 2\n",
    "        w, h = x_max - x_min, y_max - y_min\n",
    "        result.append(Detection(points=np.array([xc, yc]), scores=np.array([score]), data=np.array([w, h, frame_id])))\n",
    "        \n",
    "    return result\n",
    "\n",
    "def euclidean_distance(detection, tracked_object):\n",
    "    return np.linalg.norm(detection.points - tracked_object.estimate)\n",
    "\n",
    "def tracking_function(tracker, frame_id, bboxes, scores, best_conf, num_prev_bbox=None):\n",
    "    \n",
    "    detects = []\n",
    "    predictions = []\n",
    "    \n",
    "    if len(scores)>0:\n",
    "        for i in range(len(bboxes)):\n",
    "            # remember to check\n",
    "            if scores[i] <= best_conf:\n",
    "                continue\n",
    "            box = bboxes[i]\n",
    "            score = scores[i]\n",
    "            x_min = int(box[0])\n",
    "            y_min = int(box[1])\n",
    "            bbox_width = int(box[2])\n",
    "            bbox_height = int(box[3])\n",
    "            detects.append([x_min, y_min, x_min+bbox_width, y_min+bbox_height, score])\n",
    "            predictions.append('{:.2f} {} {} {} {}'.format(score, x_min, y_min, bbox_width, bbox_height))\n",
    "#             print(predictions[:-1])\n",
    "    # Update tracks using detects from current frame\n",
    "    tracked_objects = tracker.update(detections=to_norfair(detects, frame_id))\n",
    "    to_add_preds = []\n",
    "    for tobj in tracked_objects:\n",
    "        bbox_width, bbox_height, last_detected_frame_id = tobj.last_detection.data\n",
    "        if last_detected_frame_id == frame_id:  # Skip objects that were detected on current frame\n",
    "            continue\n",
    "        xc, yc = tobj.estimate[0]\n",
    "        x_min, y_min = int(round(xc - bbox_width / 2)), int(round(yc - bbox_height / 2))\n",
    "\n",
    "        #exclude those in the edge\n",
    "        if (x_min + bbox_width >= 1279) or (y_min + bbox_height) >= 719 or (x_min <= 1) or (y_min <= 1):\n",
    "            continue\n",
    "        score = tobj.last_detection.scores[0]            \n",
    "        to_add_preds.append('{:.2f} {} {} {} {}'.format(score, x_min, y_min, bbox_width, bbox_height))\n",
    "        #predictions.append('{:.2f} {} {} {} {}'.format(score, x_min, y_min, bbox_width, bbox_height))\n",
    "            \n",
    "        \n",
    "    if (num_prev_bbox is None or (num_prev_bbox - len(predictions) + 1) >= len(to_add_preds)):\n",
    "        predictions.extend(to_add_preds)\n",
    "        \n",
    "    return predictions"
   ]
  },
  {
   "cell_type": "code",
   "execution_count": 65,
   "id": "37c7fcd9",
   "metadata": {
    "ExecuteTime": {
     "end_time": "2022-02-09T05:05:22.210228Z",
     "start_time": "2022-02-09T05:05:15.013380Z"
    },
    "scrolled": false
   },
   "outputs": [
    {
     "name": "stdout",
     "output_type": "stream",
     "text": [
      "Using Tracking new: model 0207_m6_B_LS02_newGT_clahe, conf_th 0.25, f2 0.702, precision 0.648, recall 0.717\n"
     ]
    },
    {
     "data": {
      "text/html": [
       "<style type=\"text/css\">\n",
       "#T_a96df_row0_col0, #T_a96df_row1_col0, #T_a96df_row2_col0 {\n",
       "  background-color: #056caa;\n",
       "  color: #f1f1f1;\n",
       "}\n",
       "#T_a96df_row0_col1, #T_a96df_row0_col2, #T_a96df_row1_col1, #T_a96df_row1_col2, #T_a96df_row2_col1, #T_a96df_row2_col2 {\n",
       "  background-color: #023858;\n",
       "  color: #f1f1f1;\n",
       "}\n",
       "#T_a96df_row0_col3, #T_a96df_row0_col4, #T_a96df_row1_col3, #T_a96df_row1_col4, #T_a96df_row2_col3, #T_a96df_row2_col4 {\n",
       "  background-color: #023a5b;\n",
       "  color: #f1f1f1;\n",
       "}\n",
       "#T_a96df_row0_col5, #T_a96df_row1_col5, #T_a96df_row2_col5 {\n",
       "  background-color: #023f64;\n",
       "  color: #f1f1f1;\n",
       "}\n",
       "#T_a96df_row0_col6, #T_a96df_row1_col6, #T_a96df_row2_col6 {\n",
       "  background-color: #03456c;\n",
       "  color: #f1f1f1;\n",
       "}\n",
       "#T_a96df_row0_col7, #T_a96df_row1_col7, #T_a96df_row2_col7 {\n",
       "  background-color: #045483;\n",
       "  color: #f1f1f1;\n",
       "}\n",
       "#T_a96df_row0_col8, #T_a96df_row1_col8, #T_a96df_row2_col8 {\n",
       "  background-color: #056aa6;\n",
       "  color: #f1f1f1;\n",
       "}\n",
       "#T_a96df_row0_col9, #T_a96df_row1_col9, #T_a96df_row2_col9 {\n",
       "  background-color: #4897c4;\n",
       "  color: #f1f1f1;\n",
       "}\n",
       "#T_a96df_row0_col10, #T_a96df_row1_col10, #T_a96df_row2_col10 {\n",
       "  background-color: #bdc8e1;\n",
       "  color: #000000;\n",
       "}\n",
       "#T_a96df_row0_col11, #T_a96df_row1_col11, #T_a96df_row2_col11 {\n",
       "  background-color: #fff7fb;\n",
       "  color: #000000;\n",
       "}\n",
       "</style>\n",
       "<table id=\"T_a96df\">\n",
       "  <thead>\n",
       "    <tr>\n",
       "      <th class=\"blank level0\" >&nbsp;</th>\n",
       "      <th id=\"T_a96df_level0_col0\" class=\"col_heading level0 col0\" >all</th>\n",
       "      <th id=\"T_a96df_level0_col1\" class=\"col_heading level0 col1\" >0.3</th>\n",
       "      <th id=\"T_a96df_level0_col2\" class=\"col_heading level0 col2\" >0.35</th>\n",
       "      <th id=\"T_a96df_level0_col3\" class=\"col_heading level0 col3\" >0.4</th>\n",
       "      <th id=\"T_a96df_level0_col4\" class=\"col_heading level0 col4\" >0.45</th>\n",
       "      <th id=\"T_a96df_level0_col5\" class=\"col_heading level0 col5\" >0.5</th>\n",
       "      <th id=\"T_a96df_level0_col6\" class=\"col_heading level0 col6\" >0.55</th>\n",
       "      <th id=\"T_a96df_level0_col7\" class=\"col_heading level0 col7\" >0.6</th>\n",
       "      <th id=\"T_a96df_level0_col8\" class=\"col_heading level0 col8\" >0.65</th>\n",
       "      <th id=\"T_a96df_level0_col9\" class=\"col_heading level0 col9\" >0.7</th>\n",
       "      <th id=\"T_a96df_level0_col10\" class=\"col_heading level0 col10\" >0.75</th>\n",
       "      <th id=\"T_a96df_level0_col11\" class=\"col_heading level0 col11\" >0.8</th>\n",
       "    </tr>\n",
       "  </thead>\n",
       "  <tbody>\n",
       "    <tr>\n",
       "      <th id=\"T_a96df_level0_row0\" class=\"row_heading level0 row0\" >f2</th>\n",
       "      <td id=\"T_a96df_row0_col0\" class=\"data row0 col0\" >0.702</td>\n",
       "      <td id=\"T_a96df_row0_col1\" class=\"data row0 col1\" >0.817</td>\n",
       "      <td id=\"T_a96df_row0_col2\" class=\"data row0 col2\" >0.816</td>\n",
       "      <td id=\"T_a96df_row0_col3\" class=\"data row0 col3\" >0.812</td>\n",
       "      <td id=\"T_a96df_row0_col4\" class=\"data row0 col4\" >0.811</td>\n",
       "      <td id=\"T_a96df_row0_col5\" class=\"data row0 col5\" >0.803</td>\n",
       "      <td id=\"T_a96df_row0_col6\" class=\"data row0 col6\" >0.793</td>\n",
       "      <td id=\"T_a96df_row0_col7\" class=\"data row0 col7\" >0.764</td>\n",
       "      <td id=\"T_a96df_row0_col8\" class=\"data row0 col8\" >0.709</td>\n",
       "      <td id=\"T_a96df_row0_col9\" class=\"data row0 col9\" >0.610</td>\n",
       "      <td id=\"T_a96df_row0_col10\" class=\"data row0 col10\" >0.469</td>\n",
       "      <td id=\"T_a96df_row0_col11\" class=\"data row0 col11\" >0.316</td>\n",
       "    </tr>\n",
       "    <tr>\n",
       "      <th id=\"T_a96df_level0_row1\" class=\"row_heading level0 row1\" >P</th>\n",
       "      <td id=\"T_a96df_row1_col0\" class=\"data row1 col0\" >0.648</td>\n",
       "      <td id=\"T_a96df_row1_col1\" class=\"data row1 col1\" >0.754</td>\n",
       "      <td id=\"T_a96df_row1_col2\" class=\"data row1 col2\" >0.754</td>\n",
       "      <td id=\"T_a96df_row1_col3\" class=\"data row1 col3\" >0.750</td>\n",
       "      <td id=\"T_a96df_row1_col4\" class=\"data row1 col4\" >0.749</td>\n",
       "      <td id=\"T_a96df_row1_col5\" class=\"data row1 col5\" >0.742</td>\n",
       "      <td id=\"T_a96df_row1_col6\" class=\"data row1 col6\" >0.732</td>\n",
       "      <td id=\"T_a96df_row1_col7\" class=\"data row1 col7\" >0.706</td>\n",
       "      <td id=\"T_a96df_row1_col8\" class=\"data row1 col8\" >0.655</td>\n",
       "      <td id=\"T_a96df_row1_col9\" class=\"data row1 col9\" >0.564</td>\n",
       "      <td id=\"T_a96df_row1_col10\" class=\"data row1 col10\" >0.433</td>\n",
       "      <td id=\"T_a96df_row1_col11\" class=\"data row1 col11\" >0.292</td>\n",
       "    </tr>\n",
       "    <tr>\n",
       "      <th id=\"T_a96df_level0_row2\" class=\"row_heading level0 row2\" >R</th>\n",
       "      <td id=\"T_a96df_row2_col0\" class=\"data row2 col0\" >0.717</td>\n",
       "      <td id=\"T_a96df_row2_col1\" class=\"data row2 col1\" >0.834</td>\n",
       "      <td id=\"T_a96df_row2_col2\" class=\"data row2 col2\" >0.833</td>\n",
       "      <td id=\"T_a96df_row2_col3\" class=\"data row2 col3\" >0.829</td>\n",
       "      <td id=\"T_a96df_row2_col4\" class=\"data row2 col4\" >0.828</td>\n",
       "      <td id=\"T_a96df_row2_col5\" class=\"data row2 col5\" >0.820</td>\n",
       "      <td id=\"T_a96df_row2_col6\" class=\"data row2 col6\" >0.810</td>\n",
       "      <td id=\"T_a96df_row2_col7\" class=\"data row2 col7\" >0.780</td>\n",
       "      <td id=\"T_a96df_row2_col8\" class=\"data row2 col8\" >0.724</td>\n",
       "      <td id=\"T_a96df_row2_col9\" class=\"data row2 col9\" >0.623</td>\n",
       "      <td id=\"T_a96df_row2_col10\" class=\"data row2 col10\" >0.479</td>\n",
       "      <td id=\"T_a96df_row2_col11\" class=\"data row2 col11\" >0.323</td>\n",
       "    </tr>\n",
       "  </tbody>\n",
       "</table>\n"
      ],
      "text/plain": [
       "<pandas.io.formats.style.Styler at 0x7ff6a4aef2e0>"
      ]
     },
     "metadata": {},
     "output_type": "display_data"
    },
    {
     "name": "stdout",
     "output_type": "stream",
     "text": [
      "Using Tracking new: model 0208_s6_B_LS02_newGT, conf_th 0.30, f2 0.684, precision 0.610, recall 0.705\n"
     ]
    },
    {
     "data": {
      "text/html": [
       "<style type=\"text/css\">\n",
       "#T_5760c_row0_col0, #T_5760c_row1_col0, #T_5760c_row2_col0 {\n",
       "  background-color: #056dac;\n",
       "  color: #f1f1f1;\n",
       "}\n",
       "#T_5760c_row0_col1, #T_5760c_row0_col2, #T_5760c_row1_col1, #T_5760c_row1_col2, #T_5760c_row2_col1, #T_5760c_row2_col2 {\n",
       "  background-color: #023858;\n",
       "  color: #f1f1f1;\n",
       "}\n",
       "#T_5760c_row0_col3, #T_5760c_row1_col3, #T_5760c_row2_col3 {\n",
       "  background-color: #023a5b;\n",
       "  color: #f1f1f1;\n",
       "}\n",
       "#T_5760c_row0_col4, #T_5760c_row1_col4, #T_5760c_row2_col4 {\n",
       "  background-color: #023b5d;\n",
       "  color: #f1f1f1;\n",
       "}\n",
       "#T_5760c_row0_col5, #T_5760c_row1_col5, #T_5760c_row2_col5 {\n",
       "  background-color: #023e62;\n",
       "  color: #f1f1f1;\n",
       "}\n",
       "#T_5760c_row0_col6, #T_5760c_row1_col6, #T_5760c_row2_col6 {\n",
       "  background-color: #034871;\n",
       "  color: #f1f1f1;\n",
       "}\n",
       "#T_5760c_row0_col7, #T_5760c_row1_col7, #T_5760c_row2_col7 {\n",
       "  background-color: #045b8e;\n",
       "  color: #f1f1f1;\n",
       "}\n",
       "#T_5760c_row0_col8, #T_5760c_row1_col8, #T_5760c_row2_col8 {\n",
       "  background-color: #056faf;\n",
       "  color: #f1f1f1;\n",
       "}\n",
       "#T_5760c_row0_col9, #T_5760c_row1_col9, #T_5760c_row2_col9 {\n",
       "  background-color: #4a98c5;\n",
       "  color: #f1f1f1;\n",
       "}\n",
       "#T_5760c_row0_col10, #T_5760c_row1_col10, #T_5760c_row2_col10 {\n",
       "  background-color: #bcc7e1;\n",
       "  color: #000000;\n",
       "}\n",
       "#T_5760c_row0_col11, #T_5760c_row1_col11, #T_5760c_row2_col11 {\n",
       "  background-color: #fff7fb;\n",
       "  color: #000000;\n",
       "}\n",
       "</style>\n",
       "<table id=\"T_5760c\">\n",
       "  <thead>\n",
       "    <tr>\n",
       "      <th class=\"blank level0\" >&nbsp;</th>\n",
       "      <th id=\"T_5760c_level0_col0\" class=\"col_heading level0 col0\" >all</th>\n",
       "      <th id=\"T_5760c_level0_col1\" class=\"col_heading level0 col1\" >0.3</th>\n",
       "      <th id=\"T_5760c_level0_col2\" class=\"col_heading level0 col2\" >0.35</th>\n",
       "      <th id=\"T_5760c_level0_col3\" class=\"col_heading level0 col3\" >0.4</th>\n",
       "      <th id=\"T_5760c_level0_col4\" class=\"col_heading level0 col4\" >0.45</th>\n",
       "      <th id=\"T_5760c_level0_col5\" class=\"col_heading level0 col5\" >0.5</th>\n",
       "      <th id=\"T_5760c_level0_col6\" class=\"col_heading level0 col6\" >0.55</th>\n",
       "      <th id=\"T_5760c_level0_col7\" class=\"col_heading level0 col7\" >0.6</th>\n",
       "      <th id=\"T_5760c_level0_col8\" class=\"col_heading level0 col8\" >0.65</th>\n",
       "      <th id=\"T_5760c_level0_col9\" class=\"col_heading level0 col9\" >0.7</th>\n",
       "      <th id=\"T_5760c_level0_col10\" class=\"col_heading level0 col10\" >0.75</th>\n",
       "      <th id=\"T_5760c_level0_col11\" class=\"col_heading level0 col11\" >0.8</th>\n",
       "    </tr>\n",
       "  </thead>\n",
       "  <tbody>\n",
       "    <tr>\n",
       "      <th id=\"T_5760c_level0_row0\" class=\"row_heading level0 row0\" >f2</th>\n",
       "      <td id=\"T_5760c_row0_col0\" class=\"data row0 col0\" >0.684</td>\n",
       "      <td id=\"T_5760c_row0_col1\" class=\"data row0 col1\" >0.806</td>\n",
       "      <td id=\"T_5760c_row0_col2\" class=\"data row0 col2\" >0.804</td>\n",
       "      <td id=\"T_5760c_row0_col3\" class=\"data row0 col3\" >0.801</td>\n",
       "      <td id=\"T_5760c_row0_col4\" class=\"data row0 col4\" >0.799</td>\n",
       "      <td id=\"T_5760c_row0_col5\" class=\"data row0 col5\" >0.793</td>\n",
       "      <td id=\"T_5760c_row0_col6\" class=\"data row0 col6\" >0.774</td>\n",
       "      <td id=\"T_5760c_row0_col7\" class=\"data row0 col7\" >0.737</td>\n",
       "      <td id=\"T_5760c_row0_col8\" class=\"data row0 col8\" >0.677</td>\n",
       "      <td id=\"T_5760c_row0_col9\" class=\"data row0 col9\" >0.590</td>\n",
       "      <td id=\"T_5760c_row0_col10\" class=\"data row0 col10\" >0.450</td>\n",
       "      <td id=\"T_5760c_row0_col11\" class=\"data row0 col11\" >0.289</td>\n",
       "    </tr>\n",
       "    <tr>\n",
       "      <th id=\"T_5760c_level0_row1\" class=\"row_heading level0 row1\" >P</th>\n",
       "      <td id=\"T_5760c_row1_col0\" class=\"data row1 col0\" >0.610</td>\n",
       "      <td id=\"T_5760c_row1_col1\" class=\"data row1 col1\" >0.719</td>\n",
       "      <td id=\"T_5760c_row1_col2\" class=\"data row1 col2\" >0.717</td>\n",
       "      <td id=\"T_5760c_row1_col3\" class=\"data row1 col3\" >0.715</td>\n",
       "      <td id=\"T_5760c_row1_col4\" class=\"data row1 col4\" >0.713</td>\n",
       "      <td id=\"T_5760c_row1_col5\" class=\"data row1 col5\" >0.708</td>\n",
       "      <td id=\"T_5760c_row1_col6\" class=\"data row1 col6\" >0.691</td>\n",
       "      <td id=\"T_5760c_row1_col7\" class=\"data row1 col7\" >0.658</td>\n",
       "      <td id=\"T_5760c_row1_col8\" class=\"data row1 col8\" >0.604</td>\n",
       "      <td id=\"T_5760c_row1_col9\" class=\"data row1 col9\" >0.527</td>\n",
       "      <td id=\"T_5760c_row1_col10\" class=\"data row1 col10\" >0.402</td>\n",
       "      <td id=\"T_5760c_row1_col11\" class=\"data row1 col11\" >0.258</td>\n",
       "    </tr>\n",
       "    <tr>\n",
       "      <th id=\"T_5760c_level0_row2\" class=\"row_heading level0 row2\" >R</th>\n",
       "      <td id=\"T_5760c_row2_col0\" class=\"data row2 col0\" >0.705</td>\n",
       "      <td id=\"T_5760c_row2_col1\" class=\"data row2 col1\" >0.831</td>\n",
       "      <td id=\"T_5760c_row2_col2\" class=\"data row2 col2\" >0.829</td>\n",
       "      <td id=\"T_5760c_row2_col3\" class=\"data row2 col3\" >0.826</td>\n",
       "      <td id=\"T_5760c_row2_col4\" class=\"data row2 col4\" >0.824</td>\n",
       "      <td id=\"T_5760c_row2_col5\" class=\"data row2 col5\" >0.818</td>\n",
       "      <td id=\"T_5760c_row2_col6\" class=\"data row2 col6\" >0.798</td>\n",
       "      <td id=\"T_5760c_row2_col7\" class=\"data row2 col7\" >0.760</td>\n",
       "      <td id=\"T_5760c_row2_col8\" class=\"data row2 col8\" >0.698</td>\n",
       "      <td id=\"T_5760c_row2_col9\" class=\"data row2 col9\" >0.608</td>\n",
       "      <td id=\"T_5760c_row2_col10\" class=\"data row2 col10\" >0.464</td>\n",
       "      <td id=\"T_5760c_row2_col11\" class=\"data row2 col11\" >0.298</td>\n",
       "    </tr>\n",
       "  </tbody>\n",
       "</table>\n"
      ],
      "text/plain": [
       "<pandas.io.formats.style.Styler at 0x7ff6a25afca0>"
      ]
     },
     "metadata": {},
     "output_type": "display_data"
    },
    {
     "name": "stdout",
     "output_type": "stream",
     "text": [
      "Using Tracking new: model 0208_s6_B_LS02_newGT_clahe, conf_th 0.30, f2 0.671, precision 0.566, recall 0.704\n"
     ]
    },
    {
     "data": {
      "text/html": [
       "<style type=\"text/css\">\n",
       "#T_60abc_row0_col0, #T_60abc_row1_col0, #T_60abc_row2_col0 {\n",
       "  background-color: #056fae;\n",
       "  color: #f1f1f1;\n",
       "}\n",
       "#T_60abc_row0_col1, #T_60abc_row0_col2, #T_60abc_row1_col1, #T_60abc_row1_col2, #T_60abc_row2_col1, #T_60abc_row2_col2 {\n",
       "  background-color: #023858;\n",
       "  color: #f1f1f1;\n",
       "}\n",
       "#T_60abc_row0_col3, #T_60abc_row1_col3, #T_60abc_row2_col3 {\n",
       "  background-color: #02395a;\n",
       "  color: #f1f1f1;\n",
       "}\n",
       "#T_60abc_row0_col4, #T_60abc_row1_col4, #T_60abc_row2_col4 {\n",
       "  background-color: #023c5f;\n",
       "  color: #f1f1f1;\n",
       "}\n",
       "#T_60abc_row0_col5, #T_60abc_row1_col5, #T_60abc_row2_col5 {\n",
       "  background-color: #034267;\n",
       "  color: #f1f1f1;\n",
       "}\n",
       "#T_60abc_row0_col6, #T_60abc_row1_col6, #T_60abc_row2_col6 {\n",
       "  background-color: #034b76;\n",
       "  color: #f1f1f1;\n",
       "}\n",
       "#T_60abc_row0_col7, #T_60abc_row1_col7, #T_60abc_row2_col7 {\n",
       "  background-color: #045b8e;\n",
       "  color: #f1f1f1;\n",
       "}\n",
       "#T_60abc_row0_col8, #T_60abc_row1_col8, #T_60abc_row2_col8 {\n",
       "  background-color: #0872b1;\n",
       "  color: #f1f1f1;\n",
       "}\n",
       "#T_60abc_row0_col9, #T_60abc_row1_col9, #T_60abc_row2_col9 {\n",
       "  background-color: #589ec8;\n",
       "  color: #f1f1f1;\n",
       "}\n",
       "#T_60abc_row0_col10, #T_60abc_row1_col10, #T_60abc_row2_col10 {\n",
       "  background-color: #c6cce3;\n",
       "  color: #000000;\n",
       "}\n",
       "#T_60abc_row0_col11, #T_60abc_row1_col11, #T_60abc_row2_col11 {\n",
       "  background-color: #fff7fb;\n",
       "  color: #000000;\n",
       "}\n",
       "</style>\n",
       "<table id=\"T_60abc\">\n",
       "  <thead>\n",
       "    <tr>\n",
       "      <th class=\"blank level0\" >&nbsp;</th>\n",
       "      <th id=\"T_60abc_level0_col0\" class=\"col_heading level0 col0\" >all</th>\n",
       "      <th id=\"T_60abc_level0_col1\" class=\"col_heading level0 col1\" >0.3</th>\n",
       "      <th id=\"T_60abc_level0_col2\" class=\"col_heading level0 col2\" >0.35</th>\n",
       "      <th id=\"T_60abc_level0_col3\" class=\"col_heading level0 col3\" >0.4</th>\n",
       "      <th id=\"T_60abc_level0_col4\" class=\"col_heading level0 col4\" >0.45</th>\n",
       "      <th id=\"T_60abc_level0_col5\" class=\"col_heading level0 col5\" >0.5</th>\n",
       "      <th id=\"T_60abc_level0_col6\" class=\"col_heading level0 col6\" >0.55</th>\n",
       "      <th id=\"T_60abc_level0_col7\" class=\"col_heading level0 col7\" >0.6</th>\n",
       "      <th id=\"T_60abc_level0_col8\" class=\"col_heading level0 col8\" >0.65</th>\n",
       "      <th id=\"T_60abc_level0_col9\" class=\"col_heading level0 col9\" >0.7</th>\n",
       "      <th id=\"T_60abc_level0_col10\" class=\"col_heading level0 col10\" >0.75</th>\n",
       "      <th id=\"T_60abc_level0_col11\" class=\"col_heading level0 col11\" >0.8</th>\n",
       "    </tr>\n",
       "  </thead>\n",
       "  <tbody>\n",
       "    <tr>\n",
       "      <th id=\"T_60abc_level0_row0\" class=\"row_heading level0 row0\" >f2</th>\n",
       "      <td id=\"T_60abc_row0_col0\" class=\"data row0 col0\" >0.671</td>\n",
       "      <td id=\"T_60abc_row0_col1\" class=\"data row0 col1\" >0.796</td>\n",
       "      <td id=\"T_60abc_row0_col2\" class=\"data row0 col2\" >0.795</td>\n",
       "      <td id=\"T_60abc_row0_col3\" class=\"data row0 col3\" >0.793</td>\n",
       "      <td id=\"T_60abc_row0_col4\" class=\"data row0 col4\" >0.787</td>\n",
       "      <td id=\"T_60abc_row0_col5\" class=\"data row0 col5\" >0.778</td>\n",
       "      <td id=\"T_60abc_row0_col6\" class=\"data row0 col6\" >0.760</td>\n",
       "      <td id=\"T_60abc_row0_col7\" class=\"data row0 col7\" >0.730</td>\n",
       "      <td id=\"T_60abc_row0_col8\" class=\"data row0 col8\" >0.664</td>\n",
       "      <td id=\"T_60abc_row0_col9\" class=\"data row0 col9\" >0.569</td>\n",
       "      <td id=\"T_60abc_row0_col10\" class=\"data row0 col10\" >0.428</td>\n",
       "      <td id=\"T_60abc_row0_col11\" class=\"data row0 col11\" >0.286</td>\n",
       "    </tr>\n",
       "    <tr>\n",
       "      <th id=\"T_60abc_level0_row1\" class=\"row_heading level0 row1\" >P</th>\n",
       "      <td id=\"T_60abc_row1_col0\" class=\"data row1 col0\" >0.566</td>\n",
       "      <td id=\"T_60abc_row1_col1\" class=\"data row1 col1\" >0.671</td>\n",
       "      <td id=\"T_60abc_row1_col2\" class=\"data row1 col2\" >0.670</td>\n",
       "      <td id=\"T_60abc_row1_col3\" class=\"data row1 col3\" >0.669</td>\n",
       "      <td id=\"T_60abc_row1_col4\" class=\"data row1 col4\" >0.664</td>\n",
       "      <td id=\"T_60abc_row1_col5\" class=\"data row1 col5\" >0.656</td>\n",
       "      <td id=\"T_60abc_row1_col6\" class=\"data row1 col6\" >0.641</td>\n",
       "      <td id=\"T_60abc_row1_col7\" class=\"data row1 col7\" >0.616</td>\n",
       "      <td id=\"T_60abc_row1_col8\" class=\"data row1 col8\" >0.560</td>\n",
       "      <td id=\"T_60abc_row1_col9\" class=\"data row1 col9\" >0.480</td>\n",
       "      <td id=\"T_60abc_row1_col10\" class=\"data row1 col10\" >0.361</td>\n",
       "      <td id=\"T_60abc_row1_col11\" class=\"data row1 col11\" >0.242</td>\n",
       "    </tr>\n",
       "    <tr>\n",
       "      <th id=\"T_60abc_level0_row2\" class=\"row_heading level0 row2\" >R</th>\n",
       "      <td id=\"T_60abc_row2_col0\" class=\"data row2 col0\" >0.704</td>\n",
       "      <td id=\"T_60abc_row2_col1\" class=\"data row2 col1\" >0.834</td>\n",
       "      <td id=\"T_60abc_row2_col2\" class=\"data row2 col2\" >0.833</td>\n",
       "      <td id=\"T_60abc_row2_col3\" class=\"data row2 col3\" >0.832</td>\n",
       "      <td id=\"T_60abc_row2_col4\" class=\"data row2 col4\" >0.825</td>\n",
       "      <td id=\"T_60abc_row2_col5\" class=\"data row2 col5\" >0.815</td>\n",
       "      <td id=\"T_60abc_row2_col6\" class=\"data row2 col6\" >0.797</td>\n",
       "      <td id=\"T_60abc_row2_col7\" class=\"data row2 col7\" >0.765</td>\n",
       "      <td id=\"T_60abc_row2_col8\" class=\"data row2 col8\" >0.696</td>\n",
       "      <td id=\"T_60abc_row2_col9\" class=\"data row2 col9\" >0.597</td>\n",
       "      <td id=\"T_60abc_row2_col10\" class=\"data row2 col10\" >0.449</td>\n",
       "      <td id=\"T_60abc_row2_col11\" class=\"data row2 col11\" >0.300</td>\n",
       "    </tr>\n",
       "  </tbody>\n",
       "</table>\n"
      ],
      "text/plain": [
       "<pandas.io.formats.style.Styler at 0x7ff6a4aeec70>"
      ]
     },
     "metadata": {},
     "output_type": "display_data"
    },
    {
     "name": "stdout",
     "output_type": "stream",
     "text": [
      "Using Tracking new: model 0208_m_TPH_1900_B_LS02_newGT, conf_th 0.30, f2 0.655, precision 0.592, recall 0.673\n"
     ]
    },
    {
     "data": {
      "text/html": [
       "<style type=\"text/css\">\n",
       "#T_fde22_row0_col0, #T_fde22_row1_col0, #T_fde22_row2_col0 {\n",
       "  background-color: #056caa;\n",
       "  color: #f1f1f1;\n",
       "}\n",
       "#T_fde22_row0_col1, #T_fde22_row0_col2, #T_fde22_row1_col1, #T_fde22_row1_col2, #T_fde22_row2_col1, #T_fde22_row2_col2 {\n",
       "  background-color: #023858;\n",
       "  color: #f1f1f1;\n",
       "}\n",
       "#T_fde22_row0_col3, #T_fde22_row1_col3, #T_fde22_row2_col3 {\n",
       "  background-color: #02395a;\n",
       "  color: #f1f1f1;\n",
       "}\n",
       "#T_fde22_row0_col4, #T_fde22_row1_col4, #T_fde22_row2_col4 {\n",
       "  background-color: #023b5d;\n",
       "  color: #f1f1f1;\n",
       "}\n",
       "#T_fde22_row0_col5, #T_fde22_row1_col5, #T_fde22_row2_col5 {\n",
       "  background-color: #023d60;\n",
       "  color: #f1f1f1;\n",
       "}\n",
       "#T_fde22_row0_col6, #T_fde22_row1_col6, #T_fde22_row2_col6 {\n",
       "  background-color: #034267;\n",
       "  color: #f1f1f1;\n",
       "}\n",
       "#T_fde22_row0_col7, #T_fde22_row1_col7, #T_fde22_row2_col7 {\n",
       "  background-color: #045280;\n",
       "  color: #f1f1f1;\n",
       "}\n",
       "#T_fde22_row0_col8, #T_fde22_row1_col8, #T_fde22_row2_col8 {\n",
       "  background-color: #056dab;\n",
       "  color: #f1f1f1;\n",
       "}\n",
       "#T_fde22_row0_col9, #T_fde22_row1_col9, #T_fde22_row2_col9 {\n",
       "  background-color: #4e9ac6;\n",
       "  color: #f1f1f1;\n",
       "}\n",
       "#T_fde22_row0_col10, #T_fde22_row1_col10, #T_fde22_row2_col10 {\n",
       "  background-color: #b9c6e0;\n",
       "  color: #000000;\n",
       "}\n",
       "#T_fde22_row0_col11, #T_fde22_row1_col11, #T_fde22_row2_col11 {\n",
       "  background-color: #fff7fb;\n",
       "  color: #000000;\n",
       "}\n",
       "</style>\n",
       "<table id=\"T_fde22\">\n",
       "  <thead>\n",
       "    <tr>\n",
       "      <th class=\"blank level0\" >&nbsp;</th>\n",
       "      <th id=\"T_fde22_level0_col0\" class=\"col_heading level0 col0\" >all</th>\n",
       "      <th id=\"T_fde22_level0_col1\" class=\"col_heading level0 col1\" >0.3</th>\n",
       "      <th id=\"T_fde22_level0_col2\" class=\"col_heading level0 col2\" >0.35</th>\n",
       "      <th id=\"T_fde22_level0_col3\" class=\"col_heading level0 col3\" >0.4</th>\n",
       "      <th id=\"T_fde22_level0_col4\" class=\"col_heading level0 col4\" >0.45</th>\n",
       "      <th id=\"T_fde22_level0_col5\" class=\"col_heading level0 col5\" >0.5</th>\n",
       "      <th id=\"T_fde22_level0_col6\" class=\"col_heading level0 col6\" >0.55</th>\n",
       "      <th id=\"T_fde22_level0_col7\" class=\"col_heading level0 col7\" >0.6</th>\n",
       "      <th id=\"T_fde22_level0_col8\" class=\"col_heading level0 col8\" >0.65</th>\n",
       "      <th id=\"T_fde22_level0_col9\" class=\"col_heading level0 col9\" >0.7</th>\n",
       "      <th id=\"T_fde22_level0_col10\" class=\"col_heading level0 col10\" >0.75</th>\n",
       "      <th id=\"T_fde22_level0_col11\" class=\"col_heading level0 col11\" >0.8</th>\n",
       "    </tr>\n",
       "  </thead>\n",
       "  <tbody>\n",
       "    <tr>\n",
       "      <th id=\"T_fde22_level0_row0\" class=\"row_heading level0 row0\" >f2</th>\n",
       "      <td id=\"T_fde22_row0_col0\" class=\"data row0 col0\" >0.655</td>\n",
       "      <td id=\"T_fde22_row0_col1\" class=\"data row0 col1\" >0.766</td>\n",
       "      <td id=\"T_fde22_row0_col2\" class=\"data row0 col2\" >0.764</td>\n",
       "      <td id=\"T_fde22_row0_col3\" class=\"data row0 col3\" >0.763</td>\n",
       "      <td id=\"T_fde22_row0_col4\" class=\"data row0 col4\" >0.759</td>\n",
       "      <td id=\"T_fde22_row0_col5\" class=\"data row0 col5\" >0.756</td>\n",
       "      <td id=\"T_fde22_row0_col6\" class=\"data row0 col6\" >0.748</td>\n",
       "      <td id=\"T_fde22_row0_col7\" class=\"data row0 col7\" >0.718</td>\n",
       "      <td id=\"T_fde22_row0_col8\" class=\"data row0 col8\" >0.653</td>\n",
       "      <td id=\"T_fde22_row0_col9\" class=\"data row0 col9\" >0.560</td>\n",
       "      <td id=\"T_fde22_row0_col10\" class=\"data row0 col10\" >0.434</td>\n",
       "      <td id=\"T_fde22_row0_col11\" class=\"data row0 col11\" >0.280</td>\n",
       "    </tr>\n",
       "    <tr>\n",
       "      <th id=\"T_fde22_level0_row1\" class=\"row_heading level0 row1\" >P</th>\n",
       "      <td id=\"T_fde22_row1_col0\" class=\"data row1 col0\" >0.592</td>\n",
       "      <td id=\"T_fde22_row1_col1\" class=\"data row1 col1\" >0.692</td>\n",
       "      <td id=\"T_fde22_row1_col2\" class=\"data row1 col2\" >0.690</td>\n",
       "      <td id=\"T_fde22_row1_col3\" class=\"data row1 col3\" >0.690</td>\n",
       "      <td id=\"T_fde22_row1_col4\" class=\"data row1 col4\" >0.686</td>\n",
       "      <td id=\"T_fde22_row1_col5\" class=\"data row1 col5\" >0.683</td>\n",
       "      <td id=\"T_fde22_row1_col6\" class=\"data row1 col6\" >0.676</td>\n",
       "      <td id=\"T_fde22_row1_col7\" class=\"data row1 col7\" >0.649</td>\n",
       "      <td id=\"T_fde22_row1_col8\" class=\"data row1 col8\" >0.590</td>\n",
       "      <td id=\"T_fde22_row1_col9\" class=\"data row1 col9\" >0.506</td>\n",
       "      <td id=\"T_fde22_row1_col10\" class=\"data row1 col10\" >0.392</td>\n",
       "      <td id=\"T_fde22_row1_col11\" class=\"data row1 col11\" >0.253</td>\n",
       "    </tr>\n",
       "    <tr>\n",
       "      <th id=\"T_fde22_level0_row2\" class=\"row_heading level0 row2\" >R</th>\n",
       "      <td id=\"T_fde22_row2_col0\" class=\"data row2 col0\" >0.673</td>\n",
       "      <td id=\"T_fde22_row2_col1\" class=\"data row2 col1\" >0.787</td>\n",
       "      <td id=\"T_fde22_row2_col2\" class=\"data row2 col2\" >0.785</td>\n",
       "      <td id=\"T_fde22_row2_col3\" class=\"data row2 col3\" >0.784</td>\n",
       "      <td id=\"T_fde22_row2_col4\" class=\"data row2 col4\" >0.780</td>\n",
       "      <td id=\"T_fde22_row2_col5\" class=\"data row2 col5\" >0.776</td>\n",
       "      <td id=\"T_fde22_row2_col6\" class=\"data row2 col6\" >0.769</td>\n",
       "      <td id=\"T_fde22_row2_col7\" class=\"data row2 col7\" >0.738</td>\n",
       "      <td id=\"T_fde22_row2_col8\" class=\"data row2 col8\" >0.671</td>\n",
       "      <td id=\"T_fde22_row2_col9\" class=\"data row2 col9\" >0.575</td>\n",
       "      <td id=\"T_fde22_row2_col10\" class=\"data row2 col10\" >0.446</td>\n",
       "      <td id=\"T_fde22_row2_col11\" class=\"data row2 col11\" >0.288</td>\n",
       "    </tr>\n",
       "  </tbody>\n",
       "</table>\n"
      ],
      "text/plain": [
       "<pandas.io.formats.style.Styler at 0x7ff6a4b13e80>"
      ]
     },
     "metadata": {},
     "output_type": "display_data"
    }
   ],
   "source": [
    "df_perf_track_dict = {model_version: pd.DataFrame(columns=[\"all\"] + [str(round(th,3)) for th in np.arange(0.3, 0.85, 0.05)]).copy() for model_version in model_versions}\n",
    "df_oof.sort_values([\"video_id\",\"video_frame\"], inplace=True)\n",
    "df_oof[\"track_pred\"] = [[] for i in range(len(df_oof))]\n",
    "f2_scores_track = {}\n",
    "for model_version in model_versions:\n",
    "    BEST_CONF = best_conf_dict[model_version]\n",
    "    pred_col = \"pred_\" + model_version + f\"_fold1\"\n",
    "    prd_bboxs_tracking_list = []\n",
    "    frame_id = 0\n",
    "    tracker = Tracker(\n",
    "        distance_function=euclidean_distance, \n",
    "        distance_threshold=30,\n",
    "        hit_inertia_min=3,\n",
    "        hit_inertia_max=6,\n",
    "        initialization_delay=2,\n",
    "    )          \n",
    "    num_prev_bbox = None\n",
    "    for idx in df_oof.index:\n",
    "        row = df_oof.loc[idx]\n",
    "        prd_bboxs = row[pred_col]\n",
    "        bboxes, confis = [p[1:] for p in prd_bboxs], [p[0] for p in prd_bboxs]    \n",
    "        predictions = tracking_function(tracker, frame_id, bboxes, confis, BEST_CONF, num_prev_bbox)    \n",
    "        prd_bboxs_tracking =  [[float(p) for p in pred.split(\" \")] for pred in predictions]\n",
    "        num_prev_bbox = len(bboxes)\n",
    "        prd_bboxs_tracking_list.append(np.array(prd_bboxs_tracking))\n",
    "        df_oof.at[idx, \"track_pred\"].extend(prd_bboxs_tracking)\n",
    "        frame_id += 1        \n",
    "        \n",
    "    f2_dict = util.calc_f2_score(gt_bboxs_list, prd_bboxs_tracking_list, verbose=False) \n",
    "    f2_scores_track[model_version] = f2_dict['f2']\n",
    "    df_perf_track_dict[model_version].loc[\"f2\",:] = [f2_dict[col] for col in f_cols]\n",
    "    df_perf_track_dict[model_version].loc[\"P\",:] = [f2_dict[col] for col in P_cols]\n",
    "    df_perf_track_dict[model_version].loc[\"R\",:] = [f2_dict[col] for col in R_cols]\n",
    "    df_oof[f'{model_version}_tps'] = f2_dict[\"tps\"]\n",
    "    df_oof[f'{model_version}_fps'] = f2_dict[\"fps\"]\n",
    "    df_oof[f'{model_version}_fns'] = f2_dict[\"fns\"]\n",
    "    print(\"Using Tracking new: model {}, conf_th {:.2f}, f2 {:.3f}, precision {:.3f}, recall {:.3f}\".format(model_version, BEST_CONF, f2_dict['f2'], f2_dict['P'], f2_dict['R']))\n",
    "    display(df_perf_track_dict[model_version].astype(float).style.format(\"{:.3f}\").background_gradient(axis=1))"
   ]
  },
  {
   "cell_type": "code",
   "execution_count": 66,
   "id": "dc8c7045",
   "metadata": {
    "ExecuteTime": {
     "end_time": "2022-02-09T05:05:22.229376Z",
     "start_time": "2022-02-09T05:05:22.211224Z"
    }
   },
   "outputs": [
    {
     "data": {
      "text/html": [
       "<style type=\"text/css\">\n",
       "#T_e4302_row0_col0, #T_e4302_row0_col1 {\n",
       "  background-color: #023858;\n",
       "  color: #f1f1f1;\n",
       "}\n",
       "#T_e4302_row1_col0 {\n",
       "  background-color: #7eadd1;\n",
       "  color: #f1f1f1;\n",
       "}\n",
       "#T_e4302_row1_col1 {\n",
       "  background-color: #3b92c1;\n",
       "  color: #f1f1f1;\n",
       "}\n",
       "#T_e4302_row2_col0 {\n",
       "  background-color: #afc1dd;\n",
       "  color: #000000;\n",
       "}\n",
       "#T_e4302_row2_col1 {\n",
       "  background-color: #acc0dd;\n",
       "  color: #000000;\n",
       "}\n",
       "#T_e4302_row3_col0, #T_e4302_row3_col1 {\n",
       "  background-color: #fff7fb;\n",
       "  color: #000000;\n",
       "}\n",
       "</style>\n",
       "<table id=\"T_e4302\">\n",
       "  <thead>\n",
       "    <tr>\n",
       "      <th class=\"blank level0\" >&nbsp;</th>\n",
       "      <th id=\"T_e4302_level0_col0\" class=\"col_heading level0 col0\" >f2</th>\n",
       "      <th id=\"T_e4302_level0_col1\" class=\"col_heading level0 col1\" >f2_with_track</th>\n",
       "    </tr>\n",
       "  </thead>\n",
       "  <tbody>\n",
       "    <tr>\n",
       "      <th id=\"T_e4302_level0_row0\" class=\"row_heading level0 row0\" >0207_m6_B_LS02_newGT_clahe</th>\n",
       "      <td id=\"T_e4302_row0_col0\" class=\"data row0 col0\" >0.695</td>\n",
       "      <td id=\"T_e4302_row0_col1\" class=\"data row0 col1\" >0.702</td>\n",
       "    </tr>\n",
       "    <tr>\n",
       "      <th id=\"T_e4302_level0_row1\" class=\"row_heading level0 row1\" >0208_s6_B_LS02_newGT</th>\n",
       "      <td id=\"T_e4302_row1_col0\" class=\"data row1 col0\" >0.666</td>\n",
       "      <td id=\"T_e4302_row1_col1\" class=\"data row1 col1\" >0.684</td>\n",
       "    </tr>\n",
       "    <tr>\n",
       "      <th id=\"T_e4302_level0_row2\" class=\"row_heading level0 row2\" >0208_s6_B_LS02_newGT_clahe</th>\n",
       "      <td id=\"T_e4302_row2_col0\" class=\"data row2 col0\" >0.659</td>\n",
       "      <td id=\"T_e4302_row2_col1\" class=\"data row2 col1\" >0.671</td>\n",
       "    </tr>\n",
       "    <tr>\n",
       "      <th id=\"T_e4302_level0_row3\" class=\"row_heading level0 row3\" >0208_m_TPH_1900_B_LS02_newGT</th>\n",
       "      <td id=\"T_e4302_row3_col0\" class=\"data row3 col0\" >0.640</td>\n",
       "      <td id=\"T_e4302_row3_col1\" class=\"data row3 col1\" >0.655</td>\n",
       "    </tr>\n",
       "  </tbody>\n",
       "</table>\n"
      ],
      "text/plain": [
       "<pandas.io.formats.style.Styler at 0x7ff6a2569280>"
      ]
     },
     "execution_count": 66,
     "metadata": {},
     "output_type": "execute_result"
    }
   ],
   "source": [
    "f2_score_df['f2_with_track'] = pd.DataFrame.from_dict(f2_scores_track,orient='index',columns=[\"f2_with_track\"])['f2_with_track']\n",
    "f2_score_df.style.format(\"{:.3f}\").background_gradient(axis=0)"
   ]
  },
  {
   "cell_type": "markdown",
   "id": "3f84ae8a",
   "metadata": {},
   "source": [
    "# Ensemble"
   ]
  },
  {
   "cell_type": "code",
   "execution_count": 67,
   "id": "d81090a9",
   "metadata": {
    "ExecuteTime": {
     "end_time": "2022-02-09T05:05:29.541885Z",
     "start_time": "2022-02-09T05:05:29.516870Z"
    }
   },
   "outputs": [],
   "source": [
    "from image_similarity_measures.quality_metrics import rmse\n",
    "\n",
    "from ensemble_boxes import weighted_boxes_fusion\n",
    "def run_wbf(bboxes, confs, iou_thr=0.5, skip_box_thr=0.00000001):\n",
    "    if len(bboxes) == 1:\n",
    "        return bboxes[0], confs[0], []   \n",
    "    else:\n",
    "        for i in range(len(bboxes)):\n",
    "            sub_bboxes = bboxes[i]\n",
    "            if len(sub_bboxes) > 0:\n",
    "                sub_bboxes[:,2:] = sub_bboxes[:,2:] + sub_bboxes[:,:2]\n",
    "                sub_bboxes[:,0] = sub_bboxes[:,0] / 1279.\n",
    "                sub_bboxes[:,1] = sub_bboxes[:,1] / 719.\n",
    "                sub_bboxes[:,2] = sub_bboxes[:,2] / 1279.\n",
    "                sub_bboxes[:,3] = sub_bboxes[:,3] / 719.\n",
    "            bboxes[i] = sub_bboxes    \n",
    "    labels = [np.ones(len(conf)) for conf in confs]\n",
    "    boxes, scores, labels = weighted_boxes_fusion(bboxes, confs, labels, iou_thr=iou_thr, skip_box_thr=0.001, allows_overflow=True, conf_type='avg')\n",
    "    if len(boxes) > 0:\n",
    "        boxes[:,0] = boxes[:,0] * 1279.\n",
    "        boxes[:,1] = boxes[:,1] * 719.\n",
    "        boxes[:,2] = boxes[:,2] * 1279.\n",
    "        boxes[:,3] = boxes[:,3] * 719.\n",
    "        boxes[:,2:] = boxes[:,2:] - boxes[:,:2]\n",
    "        \n",
    "    boxes = [box for i,box in enumerate(boxes) if scores[i] >= skip_box_thr]\n",
    "    scores = [conf for conf in scores if conf >= skip_box_thr]\n",
    "\n",
    "    return boxes, scores, labels"
   ]
  },
  {
   "cell_type": "code",
   "execution_count": 68,
   "id": "510f4c2a",
   "metadata": {
    "ExecuteTime": {
     "end_time": "2022-02-09T05:05:31.576587Z",
     "start_time": "2022-02-09T05:05:31.557328Z"
    }
   },
   "outputs": [],
   "source": [
    "# 2 [\"0130_yolov5m6_noClahe_2300\", '0130_yolov5m6_2300_sheep'], IOU 0.4, skip 0.25 -> CV 0.707\n",
    "# 2 [\"0130_yolov5m6_noClahe_2300\", '0205_m_TPH_1900_B'], IOU 0.4, skip 0.24 -> CV 0.704\n",
    "# 3 [\"0130_yolov5m6_noClahe_2300\", '0205_m_TPH_1900_B', \"0203_m6_1200_sliced_S720_ma025_lr5e4\"], skip 0.25  -> CV 0.71\n",
    "# 4 [\"0130_yolov5m6_noClahe_2300\", '0205_m_TPH_1900_B', \"0203_m6_1200_sliced_S720_ma025_lr5e4\", '0202_frcnn_1600_highFP_e8'], skip 0.20  -> CV 0.734\n",
    "# 5 [\"0130_yolov5m6_noClahe_2300\", '0130_yolov5m6_2300_sheep', '0205_m_TPH_1900_B', \"0203_m6_1200_sliced_S720_ma025_lr5e4\", \"0202_frcnn_1600_highFP_e8\"], Skip 0.16 -> CV 0.740\n",
    "\n",
    "# 2 [\"0205_yolov5m6_B\", '0204_yolov5s6_B'] conf 0.22 -> CV 0.704\n",
    "# 3 [\"0205_yolov5m6_B\", '0204_yolov5s6_B', '0205_m_TPH_1900_B'] conf 0.18 -> CV 0.713\n",
    "# 4 [\"0205_yolov5m6_B\", '0204_yolov5s6_B', '0205_m_TPH_1900_B', '0202_frcnn_1600_highFP_e8'] conf 0.18 -> CV 0.724\n",
    "# 5 [\"0205_yolov5m6_B\", '0204_yolov5s6_B', '0205_m_TPH_1900_B', '0202_frcnn_1600_highFP_e8', '0203_m6_1200_sliced_S720_ma025_lr5e4'] conf 0.18 -> CV 0.734\n",
    "# 6 [\"0205_yolov5m6_B\", '0204_yolov5s6_B', '0205_m_TPH_1900_B', '0202_frcnn_1600_highFP_e8', '0203_m6_1200_sliced_S720_ma025_lr5e4', '0130_yolov5m6_2300_sheep'] conf 0.18 -> CV 0.740\n",
    "\n",
    "# substitute first 2 with previous sub that has 2nd stage training finished.\n",
    "# 5 [\"0130_yolov5m6_noClahe_2300\", '0205_m_TPH_1900_B', '0202_frcnn_1600_highFP_e8', '0203_m6_1200_sliced_S720_ma025_lr5e4', '0130_yolov5m6_2300'] conf 0.18 -> CV 0.740\n",
    "# 6 [\"0130_yolov5m6_noClahe_2300\", \"0204_yolov5s6_B\", '0205_m_TPH_1900_B', '0202_frcnn_1600_highFP_e8', \n",
    "#   '0203_m6_1200_sliced_S720_ma025_lr5e4', '0130_yolov5m6_2300'] conf 0.16 -> CV 0.742\n",
    "\n",
    "\n",
    "# [\"0130_yolov5m6_noClahe_2300\", \"0204_yolov5s6_B\", '0205_m_TPH_1900_B', '0203_m6_1200_sliced_S720_ma025_lr5e4', '0130_yolov5m6_2300'] conf 0.16 -> CV 734\n",
    "# [\"0130_yolov5m6_noClahe_2300\", \"0204_yolov5s6_B\", '0205_yolov5m6_B_LS02' ,'0205_m_TPH_1900_B_LR1e3', '0203_m6_1200_sliced_S720_ma025_lr5e4', '0130_yolov5m6_2300'] conf 0.18 -> CV 738\n",
    "# ['0130_yolov5m6_noClahe_2300',\"0204_yolov5s6_B\", '0205_yolov5m6_B_LS02' ,'0205_m_TPH_1900_B_LR1e3', '0203_m6_1200_sliced_S720_ma025_lr5e4'] conf 0.16 CV 735\n",
    "# [\"0204_yolov5s6_B\", '0205_yolov5m6_B_LS02'] conf 0.22 CV 706\n",
    "\n",
    "# ['0130_yolov5m6_noClahe_2300', '0204_yolov5s6_B', '0205_yolov5m6_B_LS02', '0205_m_TPH_1900_B_LR1e3', 'r22-0206-yolov5x6-1920'] iou_thr 0.40, skip_box_thr 0.16, Using wbf, f2 0.742, precision 0.679, recall 0.759"
   ]
  },
  {
   "cell_type": "code",
   "execution_count": 71,
   "id": "b842e98d",
   "metadata": {
    "ExecuteTime": {
     "end_time": "2022-02-09T05:06:35.245226Z",
     "start_time": "2022-02-09T05:06:31.778294Z"
    },
    "scrolled": false
   },
   "outputs": [
    {
     "name": "stderr",
     "output_type": "stream",
     "text": [
      "/tmp/ipykernel_3116002/2609670574.py:63: VisibleDeprecationWarning: Creating an ndarray from ragged nested sequences (which is a list-or-tuple of lists-or-tuples-or ndarrays with different lengths or shapes) is deprecated. If you meant to do this, you must specify 'dtype=object' when creating the ndarray.\n",
      "  bboxes_l = np.array(bboxes_l)\n"
     ]
    },
    {
     "name": "stdout",
     "output_type": "stream",
     "text": [
      "wbf ['0207_m6_B_LS02_newGT_clahe', '0208_s6_B_LS02_newGT', '0208_s6_B_LS02_newGT_clahe'] distance_th 30, init_delay2,  iou_thr 0.40, skip_box_thr 0.18, Using wbf, f2 0.725, precision 0.687, recall 0.735\n"
     ]
    },
    {
     "data": {
      "text/html": [
       "<style type=\"text/css\">\n",
       "#T_5f063_row0_col0, #T_5f063_row1_col0, #T_5f063_row2_col0 {\n",
       "  background-color: #056caa;\n",
       "  color: #f1f1f1;\n",
       "}\n",
       "#T_5f063_row0_col1, #T_5f063_row0_col2, #T_5f063_row1_col1, #T_5f063_row1_col2, #T_5f063_row2_col1, #T_5f063_row2_col2 {\n",
       "  background-color: #023858;\n",
       "  color: #f1f1f1;\n",
       "}\n",
       "#T_5f063_row0_col3, #T_5f063_row1_col3, #T_5f063_row2_col3 {\n",
       "  background-color: #02395a;\n",
       "  color: #f1f1f1;\n",
       "}\n",
       "#T_5f063_row0_col4, #T_5f063_row1_col4, #T_5f063_row2_col4 {\n",
       "  background-color: #023a5b;\n",
       "  color: #f1f1f1;\n",
       "}\n",
       "#T_5f063_row0_col5, #T_5f063_row1_col5, #T_5f063_row2_col5 {\n",
       "  background-color: #023c5f;\n",
       "  color: #f1f1f1;\n",
       "}\n",
       "#T_5f063_row0_col6, #T_5f063_row1_col6, #T_5f063_row2_col6 {\n",
       "  background-color: #03456c;\n",
       "  color: #f1f1f1;\n",
       "}\n",
       "#T_5f063_row0_col7, #T_5f063_row1_col7, #T_5f063_row2_col7 {\n",
       "  background-color: #045687;\n",
       "  color: #f1f1f1;\n",
       "}\n",
       "#T_5f063_row0_col8, #T_5f063_row1_col8, #T_5f063_row2_col8 {\n",
       "  background-color: #056aa6;\n",
       "  color: #f1f1f1;\n",
       "}\n",
       "#T_5f063_row0_col9, #T_5f063_row1_col9, #T_5f063_row2_col9 {\n",
       "  background-color: #509ac6;\n",
       "  color: #f1f1f1;\n",
       "}\n",
       "#T_5f063_row0_col10, #T_5f063_row1_col10, #T_5f063_row2_col10 {\n",
       "  background-color: #b9c6e0;\n",
       "  color: #000000;\n",
       "}\n",
       "#T_5f063_row0_col11, #T_5f063_row1_col11, #T_5f063_row2_col11 {\n",
       "  background-color: #fff7fb;\n",
       "  color: #000000;\n",
       "}\n",
       "</style>\n",
       "<table id=\"T_5f063\">\n",
       "  <thead>\n",
       "    <tr>\n",
       "      <th class=\"blank level0\" >&nbsp;</th>\n",
       "      <th id=\"T_5f063_level0_col0\" class=\"col_heading level0 col0\" >all</th>\n",
       "      <th id=\"T_5f063_level0_col1\" class=\"col_heading level0 col1\" >0.3</th>\n",
       "      <th id=\"T_5f063_level0_col2\" class=\"col_heading level0 col2\" >0.35</th>\n",
       "      <th id=\"T_5f063_level0_col3\" class=\"col_heading level0 col3\" >0.4</th>\n",
       "      <th id=\"T_5f063_level0_col4\" class=\"col_heading level0 col4\" >0.45</th>\n",
       "      <th id=\"T_5f063_level0_col5\" class=\"col_heading level0 col5\" >0.5</th>\n",
       "      <th id=\"T_5f063_level0_col6\" class=\"col_heading level0 col6\" >0.55</th>\n",
       "      <th id=\"T_5f063_level0_col7\" class=\"col_heading level0 col7\" >0.6</th>\n",
       "      <th id=\"T_5f063_level0_col8\" class=\"col_heading level0 col8\" >0.65</th>\n",
       "      <th id=\"T_5f063_level0_col9\" class=\"col_heading level0 col9\" >0.7</th>\n",
       "      <th id=\"T_5f063_level0_col10\" class=\"col_heading level0 col10\" >0.75</th>\n",
       "      <th id=\"T_5f063_level0_col11\" class=\"col_heading level0 col11\" >0.8</th>\n",
       "    </tr>\n",
       "  </thead>\n",
       "  <tbody>\n",
       "    <tr>\n",
       "      <th id=\"T_5f063_level0_row0\" class=\"row_heading level0 row0\" >f2</th>\n",
       "      <td id=\"T_5f063_row0_col0\" class=\"data row0 col0\" >0.725</td>\n",
       "      <td id=\"T_5f063_row0_col1\" class=\"data row0 col1\" >0.847</td>\n",
       "      <td id=\"T_5f063_row0_col2\" class=\"data row0 col2\" >0.847</td>\n",
       "      <td id=\"T_5f063_row0_col3\" class=\"data row0 col3\" >0.844</td>\n",
       "      <td id=\"T_5f063_row0_col4\" class=\"data row0 col4\" >0.843</td>\n",
       "      <td id=\"T_5f063_row0_col5\" class=\"data row0 col5\" >0.838</td>\n",
       "      <td id=\"T_5f063_row0_col6\" class=\"data row0 col6\" >0.821</td>\n",
       "      <td id=\"T_5f063_row0_col7\" class=\"data row0 col7\" >0.788</td>\n",
       "      <td id=\"T_5f063_row0_col8\" class=\"data row0 col8\" >0.730</td>\n",
       "      <td id=\"T_5f063_row0_col9\" class=\"data row0 col9\" >0.619</td>\n",
       "      <td id=\"T_5f063_row0_col10\" class=\"data row0 col10\" >0.483</td>\n",
       "      <td id=\"T_5f063_row0_col11\" class=\"data row0 col11\" >0.313</td>\n",
       "    </tr>\n",
       "    <tr>\n",
       "      <th id=\"T_5f063_level0_row1\" class=\"row_heading level0 row1\" >P</th>\n",
       "      <td id=\"T_5f063_row1_col0\" class=\"data row1 col0\" >0.687</td>\n",
       "      <td id=\"T_5f063_row1_col1\" class=\"data row1 col1\" >0.803</td>\n",
       "      <td id=\"T_5f063_row1_col2\" class=\"data row1 col2\" >0.803</td>\n",
       "      <td id=\"T_5f063_row1_col3\" class=\"data row1 col3\" >0.800</td>\n",
       "      <td id=\"T_5f063_row1_col4\" class=\"data row1 col4\" >0.799</td>\n",
       "      <td id=\"T_5f063_row1_col5\" class=\"data row1 col5\" >0.794</td>\n",
       "      <td id=\"T_5f063_row1_col6\" class=\"data row1 col6\" >0.778</td>\n",
       "      <td id=\"T_5f063_row1_col7\" class=\"data row1 col7\" >0.747</td>\n",
       "      <td id=\"T_5f063_row1_col8\" class=\"data row1 col8\" >0.692</td>\n",
       "      <td id=\"T_5f063_row1_col9\" class=\"data row1 col9\" >0.587</td>\n",
       "      <td id=\"T_5f063_row1_col10\" class=\"data row1 col10\" >0.458</td>\n",
       "      <td id=\"T_5f063_row1_col11\" class=\"data row1 col11\" >0.296</td>\n",
       "    </tr>\n",
       "    <tr>\n",
       "      <th id=\"T_5f063_level0_row2\" class=\"row_heading level0 row2\" >R</th>\n",
       "      <td id=\"T_5f063_row2_col0\" class=\"data row2 col0\" >0.735</td>\n",
       "      <td id=\"T_5f063_row2_col1\" class=\"data row2 col1\" >0.859</td>\n",
       "      <td id=\"T_5f063_row2_col2\" class=\"data row2 col2\" >0.859</td>\n",
       "      <td id=\"T_5f063_row2_col3\" class=\"data row2 col3\" >0.856</td>\n",
       "      <td id=\"T_5f063_row2_col4\" class=\"data row2 col4\" >0.854</td>\n",
       "      <td id=\"T_5f063_row2_col5\" class=\"data row2 col5\" >0.849</td>\n",
       "      <td id=\"T_5f063_row2_col6\" class=\"data row2 col6\" >0.832</td>\n",
       "      <td id=\"T_5f063_row2_col7\" class=\"data row2 col7\" >0.799</td>\n",
       "      <td id=\"T_5f063_row2_col8\" class=\"data row2 col8\" >0.741</td>\n",
       "      <td id=\"T_5f063_row2_col9\" class=\"data row2 col9\" >0.627</td>\n",
       "      <td id=\"T_5f063_row2_col10\" class=\"data row2 col10\" >0.489</td>\n",
       "      <td id=\"T_5f063_row2_col11\" class=\"data row2 col11\" >0.317</td>\n",
       "    </tr>\n",
       "  </tbody>\n",
       "</table>\n"
      ],
      "text/plain": [
       "<pandas.io.formats.style.Styler at 0x7ff69d3af820>"
      ]
     },
     "metadata": {},
     "output_type": "display_data"
    }
   ],
   "source": [
    "df_oof[\"wbf\"] = None\n",
    "df_oof['notrack_pred'] = None\n",
    "df_oof['track_pred'] = None\n",
    "write_track = True\n",
    "wbf_models =['0207_m6_B_LS02_newGT_clahe',\"0208_s6_B_LS02_newGT\" ,'0208_s6_B_LS02_newGT_clahe']\n",
    "num_prev_bbox = None\n",
    "df_perf_track_dict = {model_version: pd.DataFrame(columns=[\"all\"] + [str(round(th,3)) for th in np.arange(0.3, 0.85, 0.05)]).copy() for model_version in ['wbf']}\n",
    "for distance_th in [30]:\n",
    "    for init_delay in [2]:\n",
    "        for iou_thr in np.arange(4, 5, 1):\n",
    "            iou_thr = iou_thr / 10\n",
    "            for skip_box_thr in np.arange(1.8, 1.9, .2):\n",
    "                skip_box_thr = skip_box_thr / 10\n",
    "                prd_wbf_list = []\n",
    "                prd_wbf_list_notrack = []\n",
    "                frame_id = 0\n",
    "                tracker = Tracker(\n",
    "                    distance_function=euclidean_distance, \n",
    "                    distance_threshold=distance_th,\n",
    "                    hit_inertia_min=3,\n",
    "                    hit_inertia_max=6,\n",
    "                    initialization_delay=init_delay,\n",
    "                ) \n",
    "                prev_sim = None\n",
    "                prev_image = None\n",
    "                for i, idx in enumerate(df_oof.index):\n",
    "                    row = df_oof.loc[idx]\n",
    "                    bboxes_l = []\n",
    "                    confs_l = []    \n",
    "                    #curr_image = cv2.imread(str(row['image_path']))\n",
    "#                     if prev_image is None:\n",
    "#                         prev_image = curr_image.copy()\n",
    "#                     else:\n",
    "#                         sim = rmse(curr_image, prev_image)\n",
    "#                         if prev_sim is None:\n",
    "#                             prev_sim = sim\n",
    "#                         else:\n",
    "#                             sim_diff = abs(sim - prev_sim)\n",
    "#                             if sim_diff >= 0.06:\n",
    "#                                 # reset\n",
    "#                                 tracker = Tracker(\n",
    "#                                     distance_function=euclidean_distance, \n",
    "#                                     distance_threshold=distance_th,\n",
    "#                                     hit_inertia_min=3,\n",
    "#                                     hit_inertia_max=6,\n",
    "#                                     initialization_delay=init_delay,\n",
    "#                                 ) \n",
    "#                                 prev_sim = None\n",
    "#                                 prev_image = None\n",
    "#                             else:\n",
    "#                                 prev_sim = sim\n",
    "#                                 prev_image = curr_image.copy()\n",
    "                                \n",
    "                    for model_version in wbf_models:\n",
    "                        BEST_CONF = best_conf_dict[model_version]\n",
    "                        pred_col = \"pred_\" + model_version + f\"_fold1\"\n",
    "                        prd_bboxs = row[pred_col]\n",
    "                        prd_bboxs = [p for p in prd_bboxs if p[0] >= BEST_CONF]\n",
    "                        bboxes, confis = [p[1:] for p in prd_bboxs], [p[0] for p in prd_bboxs]    \n",
    "                        bboxes = np.array(bboxes,dtype=np.float64)\n",
    "                        bboxes_l.append(bboxes)\n",
    "                        confs_l.append(confis)\n",
    "                    bboxes_l = np.array(bboxes_l)\n",
    "                    wbf_boxes, wbf_confs, _ = run_wbf(bboxes_l, confs_l, iou_thr, skip_box_thr)\n",
    "                    \n",
    "                    predictions = tracking_function(tracker, frame_id, wbf_boxes, wbf_confs, 0, num_prev_bbox)\n",
    "                    prd_bboxs_tracking =  [[float(p) for p in pred.split(\" \")] for pred in predictions]\n",
    "                    num_prev_bbox = len(wbf_boxes)\n",
    "                    #num_prev_bbox = len(prd_bboxs_tracking)\n",
    "                    if write_track:\n",
    "                        df_oof.at[idx, \"notrack_pred\"] = [[wbf_confs[i]] + wbf_boxes[i].tolist() for i in range(len(wbf_boxes))]\n",
    "                        df_oof.at[idx, \"track_pred\"] = prd_bboxs_tracking\n",
    "                    prd_wbf_list.append(np.array(prd_bboxs_tracking))\n",
    "                    prd_wbf_list_notrack.append(np.array([np.array([wbf_confs[i]] + wbf_boxes[i].tolist()) for i in range(len(wbf_boxes))]))\n",
    "                    \n",
    "\n",
    "                    frame_id += 1\n",
    "\n",
    "                f2_dict = util.calc_f2_score(gt_bboxs_list, prd_wbf_list, verbose=False) \n",
    "                f2_dict_notrack =  util.calc_f2_score(gt_bboxs_list, prd_wbf_list_notrack, verbose=False) \n",
    "                print(\"wbf {} distance_th {}, init_delay{},  iou_thr {:.2f}, skip_box_thr {:.2f}, Using wbf, f2 {:.3f}, precision {:.3f}, recall {:.3f}\".format(\n",
    "                    wbf_models, distance_th, init_delay, iou_thr, skip_box_thr,f2_dict['f2'], f2_dict['P'], f2_dict['R']))\n",
    "                if write_track:\n",
    "                    df_oof[f'wbf_tps'] = f2_dict[\"tps\"]\n",
    "                    df_oof[f'wbf_fps'] = f2_dict[\"fps\"]\n",
    "                    df_oof[f'wbf_fns'] = f2_dict[\"fns\"]\n",
    "                    df_perf_track_dict['wbf'].loc[\"f2\",:] = [f2_dict[col] for col in f_cols]\n",
    "                    df_perf_track_dict['wbf'].loc[\"P\",:] = [f2_dict[col] for col in P_cols]\n",
    "                    df_perf_track_dict['wbf'].loc[\"R\",:] = [f2_dict[col] for col in R_cols]        \n",
    "                    display(df_perf_track_dict['wbf'].astype(float).style.format(\"{:.3f}\").background_gradient(axis=1))"
   ]
  },
  {
   "cell_type": "code",
   "execution_count": 35,
   "id": "30a3b22f",
   "metadata": {
    "ExecuteTime": {
     "end_time": "2022-02-09T04:56:52.818088Z",
     "start_time": "2022-02-09T04:56:52.800161Z"
    }
   },
   "outputs": [
    {
     "data": {
      "text/plain": [
       "(0.7243069152078966, 0.7162742739302285, 0.7263422843028923)"
      ]
     },
     "execution_count": 35,
     "metadata": {},
     "output_type": "execute_result"
    }
   ],
   "source": [
    "f2_dict_notrack['f2'],f2_dict_notrack['P'], f2_dict_notrack['R']"
   ]
  },
  {
   "cell_type": "code",
   "execution_count": 44,
   "id": "19e18617",
   "metadata": {
    "ExecuteTime": {
     "end_time": "2022-02-09T05:00:15.029175Z",
     "start_time": "2022-02-09T05:00:14.946254Z"
    }
   },
   "outputs": [
    {
     "data": {
      "text/plain": [
       "(1149.909090909091, 524.0909090909091, 415.09090909090907)"
      ]
     },
     "execution_count": 44,
     "metadata": {},
     "output_type": "execute_result"
    }
   ],
   "source": [
    "tp = df_oof[\"wbf_tps\"].apply(np.sum).sum() / 11\n",
    "fp = df_oof[\"wbf_fps\"].apply(np.sum).sum() / 11\n",
    "fn = df_oof[\"wbf_fns\"].apply(np.sum).sum() / 11\n",
    "tp, fp, fn"
   ]
  },
  {
   "cell_type": "code",
   "execution_count": 46,
   "id": "85505b0c",
   "metadata": {
    "ExecuteTime": {
     "end_time": "2022-02-09T05:00:26.325290Z",
     "start_time": "2022-02-09T05:00:26.308181Z"
    }
   },
   "outputs": [],
   "source": [
    "def f_beta(tp, fp, fn, beta=2):\n",
    "    if tp == 0:\n",
    "        return 0\n",
    "    return (1+beta**2)*tp / ((1+beta**2)*tp + beta**2*fn+fp)"
   ]
  },
  {
   "cell_type": "code",
   "execution_count": 47,
   "id": "864e13e7",
   "metadata": {
    "ExecuteTime": {
     "end_time": "2022-02-09T05:00:26.392496Z",
     "start_time": "2022-02-09T05:00:26.372698Z"
    }
   },
   "outputs": [
    {
     "data": {
      "text/plain": [
       "0.7246717235373651"
      ]
     },
     "execution_count": 47,
     "metadata": {},
     "output_type": "execute_result"
    }
   ],
   "source": [
    "f_beta(tp, fp, fn)"
   ]
  },
  {
   "cell_type": "code",
   "execution_count": 49,
   "id": "f62333b0",
   "metadata": {
    "ExecuteTime": {
     "end_time": "2022-02-09T05:02:00.628819Z",
     "start_time": "2022-02-09T05:02:00.610162Z"
    }
   },
   "outputs": [
    {
     "data": {
      "text/plain": [
       "0.7409942440770044"
      ]
     },
     "execution_count": 49,
     "metadata": {},
     "output_type": "execute_result"
    }
   ],
   "source": [
    "allocated_num = 100\n",
    "\n",
    "f_beta(tp+allocated_num, fp, fn)"
   ]
  },
  {
   "cell_type": "code",
   "execution_count": 50,
   "id": "e5bae37a",
   "metadata": {
    "ExecuteTime": {
     "end_time": "2022-02-09T05:02:10.081927Z",
     "start_time": "2022-02-09T05:02:10.063186Z"
    }
   },
   "outputs": [
    {
     "data": {
      "text/plain": [
       "0.6898902633243886"
      ]
     },
     "execution_count": 50,
     "metadata": {},
     "output_type": "execute_result"
    }
   ],
   "source": [
    "f_beta(tp, fp, fn + allocated_num)"
   ]
  },
  {
   "cell_type": "code",
   "execution_count": 51,
   "id": "c2ecfdc8",
   "metadata": {
    "ExecuteTime": {
     "end_time": "2022-02-09T05:03:23.700567Z",
     "start_time": "2022-02-09T05:03:23.680728Z"
    }
   },
   "outputs": [
    {
     "data": {
      "text/plain": [
       "0.6925657337646829"
      ]
     },
     "execution_count": 51,
     "metadata": {},
     "output_type": "execute_result"
    }
   ],
   "source": [
    "f_beta(tp + allocated_num * 0.1, fp + allocated_num * 0.1 * 3, fn + allocated_num * 0.9)"
   ]
  },
  {
   "cell_type": "code",
   "execution_count": null,
   "id": "8ae4d9f6",
   "metadata": {},
   "outputs": [],
   "source": []
  },
  {
   "cell_type": "code",
   "execution_count": null,
   "id": "f00062d7",
   "metadata": {},
   "outputs": [],
   "source": []
  },
  {
   "cell_type": "code",
   "execution_count": 91,
   "id": "f15fcf03",
   "metadata": {
    "ExecuteTime": {
     "end_time": "2022-02-07T12:36:29.565673Z",
     "start_time": "2022-02-07T12:36:29.549917Z"
    }
   },
   "outputs": [
    {
     "data": {
      "text/plain": [
       "0.7469982847341338"
      ]
     },
     "execution_count": 91,
     "metadata": {},
     "output_type": "execute_result"
    }
   ],
   "source": [
    "f2_dict['f2']"
   ]
  },
  {
   "cell_type": "code",
   "execution_count": 51,
   "id": "8fec07bc",
   "metadata": {
    "ExecuteTime": {
     "end_time": "2022-02-07T12:26:15.530311Z",
     "start_time": "2022-02-07T12:26:15.509075Z"
    }
   },
   "outputs": [],
   "source": [
    "# f2 0.747, precision 0.703, recall 0.759 ->\n",
    "# f2 0.747, precision 0.701, recall 0.759"
   ]
  },
  {
   "cell_type": "code",
   "execution_count": 52,
   "id": "40719140",
   "metadata": {
    "ExecuteTime": {
     "end_time": "2022-02-07T12:26:17.959264Z",
     "start_time": "2022-02-07T12:26:17.781488Z"
    }
   },
   "outputs": [],
   "source": [
    "gt_sizes = []\n",
    "sizes = []\n",
    "confs = []\n",
    "for idx,row in df_oof.iterrows():\n",
    "    g = row['real_bbox']\n",
    "    if len(g) >= 1:\n",
    "        gt_sizes.extend([x[2] * x[3] for x in g])    \n",
    "    p = row['track_pred']\n",
    "    if len(p) >= 1:\n",
    "        sizes.extend([x[3] * x[4] for x in p])\n",
    "        confs.extend([x[0] for x in p])"
   ]
  },
  {
   "cell_type": "code",
   "execution_count": 53,
   "id": "e84c63fc",
   "metadata": {
    "ExecuteTime": {
     "end_time": "2022-02-07T12:26:19.134493Z",
     "start_time": "2022-02-07T12:26:19.010080Z"
    }
   },
   "outputs": [
    {
     "data": {
      "image/png": "[encoded data removed]",
      "text/plain": [
       "<Figure size 648x648 with 1 Axes>"
      ]
     },
     "metadata": {
      "needs_background": "light"
     },
     "output_type": "display_data"
    }
   ],
   "source": [
    "plt.subplots(1,1,figsize=(9,9))\n",
    "plt.scatter(confs, sizes)\n",
    "plt.xlabel(\"conf\")\n",
    "plt.ylabel(\"size\")\n",
    "plt.show()"
   ]
  },
  {
   "cell_type": "code",
   "execution_count": null,
   "id": "759c0192",
   "metadata": {
    "ExecuteTime": {
     "end_time": "2022-02-06T23:54:25.636141Z",
     "start_time": "2022-02-06T23:54:25.616242Z"
    }
   },
   "outputs": [],
   "source": [
    "pd.Series(sizes).describe()"
   ]
  },
  {
   "cell_type": "code",
   "execution_count": null,
   "id": "80a81b9b",
   "metadata": {},
   "outputs": [],
   "source": []
  },
  {
   "cell_type": "code",
   "execution_count": null,
   "id": "e2a14760",
   "metadata": {
    "ExecuteTime": {
     "end_time": "2022-02-06T23:56:44.861037Z",
     "start_time": "2022-02-06T23:56:44.841632Z"
    }
   },
   "outputs": [],
   "source": [
    "pd.Series(sizes).quantile(0.9)"
   ]
  },
  {
   "cell_type": "code",
   "execution_count": null,
   "id": "eae367f7",
   "metadata": {
    "ExecuteTime": {
     "end_time": "2022-02-06T23:56:24.219621Z",
     "start_time": "2022-02-06T23:56:24.190470Z"
    }
   },
   "outputs": [],
   "source": [
    "pd.Series(gt_sizes).describe()"
   ]
  },
  {
   "cell_type": "code",
   "execution_count": null,
   "id": "ba2954ee",
   "metadata": {},
   "outputs": [],
   "source": []
  },
  {
   "cell_type": "code",
   "execution_count": 92,
   "id": "cb5574c2",
   "metadata": {
    "ExecuteTime": {
     "end_time": "2022-02-07T12:36:38.499124Z",
     "start_time": "2022-02-07T12:36:38.436393Z"
    }
   },
   "outputs": [],
   "source": [
    "basic_cols = ['video_id', 'sequence', 'video_frame', 'sequence_frame', 'image_id',\n",
    "       'annotations', 'fold', 'old_image_path', 'image_path', 'label_path',\n",
    "       'real_bbox', 'num_bbox']\n",
    "basic_cols = basic_cols + ['notrack_pred']\n",
    "util.save_pickle(df_oof[basic_cols],\"../input/wbf_notrack_pred.pkl\")"
   ]
  },
  {
   "cell_type": "code",
   "execution_count": null,
   "id": "3bf5be16",
   "metadata": {
    "ExecuteTime": {
     "end_time": "2022-02-06T16:36:02.299810Z",
     "start_time": "2022-02-06T16:36:02.276349Z"
    }
   },
   "outputs": [],
   "source": [
    "df_oof.columns"
   ]
  },
  {
   "cell_type": "markdown",
   "id": "e2b850d3",
   "metadata": {},
   "source": [
    "# check image"
   ]
  },
  {
   "cell_type": "code",
   "execution_count": null,
   "id": "4418ca22",
   "metadata": {
    "ExecuteTime": {
     "end_time": "2022-02-06T13:41:45.337854Z",
     "start_time": "2022-02-06T13:41:45.321051Z"
    }
   },
   "outputs": [],
   "source": [
    "check_versions = [\"wbf\"]\n",
    "f2_score_df.loc[check_versions[:-1]].style.format(\"{:.3f}\").background_gradient(axis=0)"
   ]
  },
  {
   "cell_type": "code",
   "execution_count": null,
   "id": "52bca246",
   "metadata": {
    "ExecuteTime": {
     "end_time": "2022-02-06T13:41:45.425144Z",
     "start_time": "2022-02-06T13:41:45.338520Z"
    }
   },
   "outputs": [],
   "source": [
    "df_oof['tp'] = 0\n",
    "df_oof['fp'] = 0\n",
    "df_oof['fn'] = 0\n",
    "for key in check_versions: \n",
    "    df_oof[f'{key}_tp'] = df_oof[f'{key}_tps'].apply(np.sum)\n",
    "    df_oof[f'{key}_fp'] = df_oof[f'{key}_fps'].apply(np.sum)\n",
    "    df_oof[f'{key}_fn'] = df_oof[f'{key}_fns'].apply(np.sum)\n",
    "    df_oof['tp'] = df_oof['tp'] + df_oof[f'{key}_tp']\n",
    "    df_oof['fp'] = df_oof['fp'] + df_oof[f'{key}_fp']\n",
    "    df_oof['fn'] = df_oof['fn'] + df_oof[f'{key}_fn']"
   ]
  },
  {
   "cell_type": "code",
   "execution_count": null,
   "id": "1e6902bf",
   "metadata": {
    "ExecuteTime": {
     "end_time": "2022-02-06T13:41:45.442175Z",
     "start_time": "2022-02-06T13:41:45.426119Z"
    }
   },
   "outputs": [],
   "source": [
    "color_pred = [(0,125,0)]    \n",
    "color_real = [(255,0,0)]\n",
    "def plot_img(df, idx, keys, save=False, pre=\"\"):\n",
    "    row = df.iloc[idx]\n",
    "    path = row[\"image_path\"]\n",
    "    img = cv2.imread(str(path))[...,::-1]\n",
    "    real_bboxes = row[\"real_bbox\"]\n",
    "    preds = row[\"track_pred\"]\n",
    "#     for key in keys:\n",
    "#         best_conf = best_conf_dict[key]\n",
    "#         pred_col = \"pred_\" + key + \"_fold1\"\n",
    "#         if len(row[pred_col]) > 0:\n",
    "#             preds = preds + [p for p in row[pred_col] if p[0] >= best_conf]\n",
    "            \n",
    "    bboxes = [p[1:5] for p in preds]\n",
    "    confis = [p[0] for p in preds]\n",
    "    print(f\"video {row.video_id}, sequence {row.sequence}, frame {row.video_frame}\")\n",
    "    img_plot = util.show_img(img, \n",
    "                          bboxes + real_bboxes, \n",
    "                          confis + [1] * len(real_bboxes),\n",
    "                          color_pred  * len(bboxes) + color_real * len(real_bboxes), \n",
    "                          bbox_format='coco')\n",
    "    if save:\n",
    "        img_plot.save(f\"./pic_check/{pre}v{row.video_id}_frame{row.video_frame}_seq{row.sequence}.jpg\")\n",
    "    display(img_plot)"
   ]
  },
  {
   "cell_type": "code",
   "execution_count": null,
   "id": "d21d3a72",
   "metadata": {
    "ExecuteTime": {
     "end_time": "2022-02-06T13:41:55.413102Z",
     "start_time": "2022-02-06T13:41:45.940954Z"
    }
   },
   "outputs": [],
   "source": [
    "for i, iou in tqdm(enumerate(np.arange(0.3,0.85,0.05))):\n",
    "    df_oof[f\"f2_{iou:.2f}\"] = 0\n",
    "    df_oof[f\"P_{iou:.2f}\"] = 0\n",
    "    df_oof[f\"R_{iou:.2f}\"] = 0\n",
    "    for idx in df_oof.index:\n",
    "        tp = 0\n",
    "        fp = 0\n",
    "        fn = 0\n",
    "        for key in check_versions:\n",
    "            tp += df_oof.loc[idx, f'{key}_tps'][i]\n",
    "            fp += df_oof.loc[idx, f'{key}_fps'][i]\n",
    "            fn += df_oof.loc[idx, f'{key}_fns'][i]\n",
    "        df_oof.loc[idx, f\"f2_{iou:.2f}\"] = util.f_beta(tp, fp, fn, beta=2)\n",
    "        df_oof.loc[idx, f\"P_{iou:.2f}\"] = util.f_beta(tp, fp, fn, beta=0)\n",
    "        df_oof.loc[idx, f\"R_{iou:.2f}\"] = util.f_beta(tp, fp, fn, beta=100)"
   ]
  },
  {
   "cell_type": "code",
   "execution_count": null,
   "id": "34bb4cc9",
   "metadata": {
    "ExecuteTime": {
     "end_time": "2022-02-06T13:42:05.121527Z",
     "start_time": "2022-02-06T13:42:05.082117Z"
    }
   },
   "outputs": [],
   "source": [
    "df_oof[\"f2\"] = df_oof[[f'f2_{iou:.2f}' for iou in np.arange(0.3,0.85,0.5)]].mean(axis=1)\n",
    "df_oof[\"P\"] = df_oof[[f'P_{iou:.2f}' for iou in np.arange(0.3,0.85,0.5)]].mean(axis=1)\n",
    "df_oof[\"R\"] = df_oof[[f'R_{iou:.2f}' for iou in np.arange(0.3,0.85,0.5)]].mean(axis=1)\n",
    "#df_oof.head()"
   ]
  },
  {
   "cell_type": "code",
   "execution_count": null,
   "id": "54d9f7a1",
   "metadata": {
    "ExecuteTime": {
     "end_time": "2022-02-06T13:42:05.773743Z",
     "start_time": "2022-02-06T13:42:05.754481Z"
    }
   },
   "outputs": [],
   "source": [
    "show_col = [\"video_id\",\"sequence\",\"video_frame\",\"num_bbox\", \"f2\", \"P\", \"R\"]\n",
    "sub_col = [\"fp\"] + [key+\"_fp\" for key in check_versions]\n",
    "sub_col = sub_col + [\"tp\"] + [key+\"_tp\" for key in check_versions]\n",
    "sub_col = sub_col + [\"fn\"] + [key+\"_fn\" for key in check_versions]"
   ]
  },
  {
   "cell_type": "markdown",
   "id": "b08bc92a",
   "metadata": {},
   "source": [
    "## most FP among empy group"
   ]
  },
  {
   "cell_type": "code",
   "execution_count": null,
   "id": "6fa63643",
   "metadata": {
    "ExecuteTime": {
     "end_time": "2022-02-06T13:42:06.856903Z",
     "start_time": "2022-02-06T13:42:06.568143Z"
    }
   },
   "outputs": [],
   "source": [
    "df_neg = df_oof.query(\"num_bbox == 0\").copy()\n",
    "df_neg.sort_values(\"fp\", ascending=False, inplace=True)\n",
    "df_neg.reset_index(inplace=True, drop=True)\n",
    "df_neg[show_col + sub_col].head()"
   ]
  },
  {
   "cell_type": "code",
   "execution_count": null,
   "id": "68f58572",
   "metadata": {
    "ExecuteTime": {
     "end_time": "2022-02-06T13:42:08.532394Z",
     "start_time": "2022-02-06T13:42:07.008792Z"
    },
    "scrolled": false
   },
   "outputs": [],
   "source": [
    "for i in range(5):\n",
    "    plot_img(df_neg, i, model_versions, save=False)"
   ]
  },
  {
   "cell_type": "markdown",
   "id": "d9e73677",
   "metadata": {},
   "source": [
    "## Most FP among non-empty group"
   ]
  },
  {
   "cell_type": "code",
   "execution_count": null,
   "id": "4319abc3",
   "metadata": {
    "ExecuteTime": {
     "end_time": "2022-02-06T13:42:16.690994Z",
     "start_time": "2022-02-06T13:42:16.567268Z"
    }
   },
   "outputs": [],
   "source": [
    "df_pos = df_oof.query(\"num_bbox > 0\").copy()\n",
    "df_pos.sort_values(\"fp\", ascending=False, inplace=True)\n",
    "df_pos.reset_index(inplace=True, drop=True)\n",
    "df_pos[show_col + sub_col].head()"
   ]
  },
  {
   "cell_type": "code",
   "execution_count": null,
   "id": "a3b8c9c6",
   "metadata": {
    "ExecuteTime": {
     "end_time": "2022-02-06T13:42:18.621597Z",
     "start_time": "2022-02-06T13:42:16.742744Z"
    },
    "scrolled": false
   },
   "outputs": [],
   "source": [
    "for i in range(5):\n",
    "    plot_img(df_pos, i, model_versions)"
   ]
  },
  {
   "cell_type": "markdown",
   "id": "98c04fbc",
   "metadata": {},
   "source": [
    "## Most TP"
   ]
  },
  {
   "cell_type": "code",
   "execution_count": null,
   "id": "b412c010",
   "metadata": {
    "ExecuteTime": {
     "end_time": "2022-02-06T13:42:18.652428Z",
     "start_time": "2022-02-06T13:42:18.622782Z"
    }
   },
   "outputs": [],
   "source": [
    "df_pos = df_oof.query(\"num_bbox > 0\").copy()\n",
    "df_pos.sort_values(\"tp\", ascending=False, inplace=True)\n",
    "df_pos.reset_index(inplace=True, drop=True)\n",
    "df_pos[show_col + sub_col].head(5)"
   ]
  },
  {
   "cell_type": "code",
   "execution_count": null,
   "id": "17d9dd6f",
   "metadata": {
    "ExecuteTime": {
     "end_time": "2022-02-06T13:42:19.663607Z",
     "start_time": "2022-02-06T13:42:18.653333Z"
    },
    "scrolled": false
   },
   "outputs": [],
   "source": [
    "for i in range(3):\n",
    "    plot_img(df_pos, i, model_versions)"
   ]
  },
  {
   "cell_type": "markdown",
   "id": "c59dcce7",
   "metadata": {},
   "source": [
    "## Most FN"
   ]
  },
  {
   "cell_type": "code",
   "execution_count": null,
   "id": "77b488bb",
   "metadata": {
    "ExecuteTime": {
     "end_time": "2022-02-06T13:42:19.695174Z",
     "start_time": "2022-02-06T13:42:19.664745Z"
    }
   },
   "outputs": [],
   "source": [
    "df_pos = df_oof.query(\"num_bbox > 0\").copy()\n",
    "df_pos.sort_values(\"fn\", ascending=False, inplace=True)\n",
    "df_pos.reset_index(inplace=True, drop=True)\n",
    "df_pos[show_col + sub_col].head(10)"
   ]
  },
  {
   "cell_type": "code",
   "execution_count": null,
   "id": "d55a51f0",
   "metadata": {
    "ExecuteTime": {
     "end_time": "2022-02-06T13:42:23.392049Z",
     "start_time": "2022-02-06T13:42:19.696076Z"
    },
    "scrolled": false
   },
   "outputs": [],
   "source": [
    "for i in range(10):\n",
    "    plot_img(df_pos, i, model_versions)"
   ]
  },
  {
   "cell_type": "markdown",
   "id": "24345e39",
   "metadata": {},
   "source": [
    "# Make Video"
   ]
  },
  {
   "cell_type": "code",
   "execution_count": null,
   "id": "1054429d",
   "metadata": {
    "ExecuteTime": {
     "end_time": "2022-02-06T16:27:24.556823Z",
     "start_time": "2022-02-06T16:27:24.536118Z"
    }
   },
   "outputs": [],
   "source": [
    "df_oof.groupby([\"video_id\",\"sequence\"]).size()"
   ]
  },
  {
   "cell_type": "code",
   "execution_count": null,
   "id": "531c990f",
   "metadata": {
    "ExecuteTime": {
     "end_time": "2022-02-06T16:28:15.943199Z",
     "start_time": "2022-02-06T16:28:15.914584Z"
    }
   },
   "outputs": [],
   "source": [
    "from IPython.display import Image\n",
    "from PIL import Image as Img\n",
    "import subprocess\n",
    "#This code I found in: https://www.kaggle.com/bamps53/create-annotated-video Thank you for sharing.\n",
    "out_dir = \"/home/vincent/Kaggle/data/tensorflow-great-barrier-reef/video_check/\"\n",
    "if not os.path.exists(out_dir):\n",
    "    os.makedirs(out_dir)\n",
    "\n",
    "def load_image(image_dir):\n",
    "    assert os.path.exists(image_dir), f'{image_dir} does not exist.'\n",
    "    img = cv2.imread(str(image_dir))\n",
    "    img = cv2.cvtColor(img, cv2.COLOR_BGR2RGB)\n",
    "    return img\n",
    "\n",
    "def load_image_with_annotations(image_dir, annotations):\n",
    "    img = load_image(image_dir)\n",
    "    if len(annotations) > 0:\n",
    "        for ann in annotations:\n",
    "            cv2.rectangle(img, (ann['x'], ann['y']),\n",
    "                (ann['x'] + ann['width'], ann['y'] + ann['height']),\n",
    "                (0, 255, 0), thickness=2,)\n",
    "    return img\n",
    "\n",
    "def show_prediction(img, bboxes, scores, show = True):\n",
    "    colors = [(0, 0, 255)]\n",
    "\n",
    "    obj_names = [\"s\"]\n",
    "\n",
    "    for box, score in zip(bboxes, scores):\n",
    "        cv2.rectangle(img, (int(box[0]), int(box[1])), (int(box[0] + box[2]), int(box[1] + box[3])), (255,0,0), 2)\n",
    "        cv2.putText(img, f'{score:.2f}', (int(box[0]), int(box[1])-3), cv2.FONT_HERSHEY_SIMPLEX, 0.5, (255,0,0), 2, cv2.LINE_AA)\n",
    "    if show:\n",
    "        img = Img.fromarray(img).resize((1280, 720))\n",
    "    return img\n",
    "\n",
    "def make_video(df, video_id, sequence_id, pred_col, out_dir, best_conf, name=None, s_f=None, e_f=None):\n",
    "    fps = 15\n",
    "    width = 1280\n",
    "    height = 720\n",
    "    if name is None:\n",
    "        name = \"video\"\n",
    "    \n",
    "    save_path = f'{out_dir}/{name}.mp4'\n",
    "    tmp_path =  f'{out_dir}/tmp-{name}.mp4'\n",
    "    output_video = cv2.VideoWriter(tmp_path, cv2.VideoWriter_fourcc(*\"MP4V\"), fps, (width, height),)\n",
    "    \n",
    "    # I just generate ony part of video\n",
    "    if video_id is not None and sequence_id is not None:\n",
    "        query = 'video_id == {} and sequence == {}'.format(video_id, sequence_id)\n",
    "        if s_f is not None:\n",
    "            query = query + 'and video_frame >= {} and video_frame <= {}'.format(s_f, e_f)\n",
    "        print(query)\n",
    "        video_df = df.query(query)\n",
    "    else:\n",
    "        video_df = df\n",
    "    print(video_df.shape)\n",
    "    for _, row in tqdm(video_df.iterrows(), total=len(video_df)):\n",
    "        video_id = row.video_id\n",
    "        video_frame = row.video_frame\n",
    "        annotations = row.annotations\n",
    "        img_file = row.image_path\n",
    "        img = load_image_with_annotations(img_file, annotations)\n",
    "        preds = row[pred_col]\n",
    "        best_conf = 0\n",
    "        bboxes = [preds[i][1:] for i in range(len(preds)) if preds[i][0] >= best_conf]\n",
    "        confis = [preds[i][0] for i in range(len(preds)) if preds[i][0] >= best_conf]        \n",
    "        img = show_prediction(img, bboxes, confis, show=False)\n",
    "        cv2.putText(img, f'{video_id}-{video_frame}', (10,70), cv2.FONT_HERSHEY_SIMPLEX, 1, (255,0,0), 1, cv2.LINE_AA)\n",
    "        img = cv2.cvtColor(img, cv2.COLOR_BGR2RGB)\n",
    "        output_video.write(img)\n",
    "    \n",
    "    output_video.release()\n",
    "\n",
    "    if os.path.exists(save_path):\n",
    "        os.remove(save_path)\n",
    "    subprocess.run(\n",
    "        [\"ffmpeg\", \"-i\", tmp_path, \"-crf\", \"18\", \"-preset\", \"veryfast\", \"-vcodec\", \"libx264\", save_path]\n",
    "    )\n",
    "    os.remove(tmp_path)"
   ]
  },
  {
   "cell_type": "code",
   "execution_count": null,
   "id": "5fc0b791",
   "metadata": {
    "ExecuteTime": {
     "end_time": "2022-02-06T13:54:00.523229Z",
     "start_time": "2022-02-06T13:51:58.430627Z"
    }
   },
   "outputs": [],
   "source": [
    "for video_id, sequence in df_oof.groupby([\"video_id\",\"sequence\"]).size().index:\n",
    "    name = f'wbf-{video_id}-{sequence}'\n",
    "    make_video(df_oof, video_id, sequence, 'track_pred', out_dir, 0, name=name)"
   ]
  },
  {
   "cell_type": "code",
   "execution_count": null,
   "id": "ac8e33ce",
   "metadata": {
    "ExecuteTime": {
     "end_time": "2022-02-06T13:48:16.682486Z",
     "start_time": "2022-02-06T13:48:16.661262Z"
    }
   },
   "outputs": [],
   "source": [
    "from base64 import b64encode\n",
    "def play(filename):\n",
    "    html = ''\n",
    "    video = open(filename,'rb').read()\n",
    "    src = 'data:video/mp4;base64,' + b64encode(video).decode()\n",
    "    html += '<video width=1280 controls autoplay loop><source src=\"%s\" type=\"video/mp4\"></video>' % src \n",
    "    return HTML(html)"
   ]
  },
  {
   "cell_type": "code",
   "execution_count": null,
   "id": "3d392daa",
   "metadata": {},
   "outputs": [],
   "source": []
  },
  {
   "cell_type": "code",
   "execution_count": null,
   "id": "edfa024b",
   "metadata": {
    "ExecuteTime": {
     "end_time": "2022-02-06T14:37:23.525298Z",
     "start_time": "2022-02-06T14:37:23.460115Z"
    }
   },
   "outputs": [],
   "source": [
    "video_id = 1\n",
    "sequence = 15827\n",
    "s_f = 2148\n",
    "e_f = 2205\n",
    "q = f\"video_id == {video_id} and sequence == {sequence} and video_frame >= {s_f} and video_frame <= {e_f}\"\n",
    "df_oof_check = df_oof.reset_index(drop=True).query(q).copy()"
   ]
  },
  {
   "cell_type": "code",
   "execution_count": null,
   "id": "4fe195d1",
   "metadata": {
    "ExecuteTime": {
     "end_time": "2022-02-06T14:37:24.404697Z",
     "start_time": "2022-02-06T14:37:24.385089Z"
    }
   },
   "outputs": [],
   "source": [
    "df_oof_check.index"
   ]
  },
  {
   "cell_type": "code",
   "execution_count": null,
   "id": "7d6ef35b",
   "metadata": {
    "ExecuteTime": {
     "end_time": "2022-02-06T14:41:33.881482Z",
     "start_time": "2022-02-06T14:41:32.582948Z"
    }
   },
   "outputs": [],
   "source": [
    "f2_dict = util.calc_f2_score(gt_bboxs_list, prd_wbf_list, verbose=False) \n",
    "f2_dict['f2']"
   ]
  },
  {
   "cell_type": "code",
   "execution_count": null,
   "id": "4005ec18",
   "metadata": {
    "ExecuteTime": {
     "end_time": "2022-02-06T14:42:03.735183Z",
     "start_time": "2022-02-06T14:42:03.716786Z"
    }
   },
   "outputs": [],
   "source": [
    "gt_bboxs_list_modify = gt_bboxs_list.copy()\n",
    "prd_wbf_list_modify = prd_wbf_list.copy()"
   ]
  },
  {
   "cell_type": "code",
   "execution_count": null,
   "id": "803fc78a",
   "metadata": {
    "ExecuteTime": {
     "end_time": "2022-02-06T14:43:09.990075Z",
     "start_time": "2022-02-06T14:43:09.968160Z"
    }
   },
   "outputs": [],
   "source": [
    "# for idx in df_oof_check.index:\n",
    "#     prd_wbf_list_modify[idx] = np.array([])\n",
    "for idx in df_oof_check.index:\n",
    "    pred = prd_wbf_list_modify[idx]\n",
    "    if len(pred) > 0:\n",
    "        gt_bboxs_list_modify[idx] = pred[:,1:]"
   ]
  },
  {
   "cell_type": "code",
   "execution_count": null,
   "id": "d7a153c3",
   "metadata": {
    "ExecuteTime": {
     "end_time": "2022-02-06T14:43:13.549790Z",
     "start_time": "2022-02-06T14:43:13.531446Z"
    }
   },
   "outputs": [],
   "source": [
    "# for idx in df_oof_check.index:\n",
    "#     print(gt_bboxs_list_modify[idx])"
   ]
  },
  {
   "cell_type": "code",
   "execution_count": null,
   "id": "73c970ec",
   "metadata": {
    "ExecuteTime": {
     "end_time": "2022-02-06T14:42:38.346836Z",
     "start_time": "2022-02-06T14:42:38.328390Z"
    }
   },
   "outputs": [],
   "source": [
    "prd_wbf_list_modify[idx]"
   ]
  },
  {
   "cell_type": "code",
   "execution_count": null,
   "id": "eaef0672",
   "metadata": {
    "ExecuteTime": {
     "end_time": "2022-02-06T14:43:19.279394Z",
     "start_time": "2022-02-06T14:43:17.956652Z"
    }
   },
   "outputs": [],
   "source": [
    "f2_dict = util.calc_f2_score(gt_bboxs_list_modify, prd_wbf_list_modify, verbose=False) \n",
    "f2_dict['f2']"
   ]
  },
  {
   "cell_type": "code",
   "execution_count": null,
   "id": "42ff73db",
   "metadata": {
    "ExecuteTime": {
     "end_time": "2022-02-06T14:33:47.688030Z",
     "start_time": "2022-02-06T14:33:47.670198Z"
    }
   },
   "outputs": [],
   "source": [
    "(df_oof_check['track_pred'].apply(len) > 0).sum()"
   ]
  },
  {
   "cell_type": "code",
   "execution_count": null,
   "id": "d9198d83",
   "metadata": {
    "ExecuteTime": {
     "end_time": "2022-02-06T16:26:29.575654Z",
     "start_time": "2022-02-06T16:26:29.430417Z"
    }
   },
   "outputs": [],
   "source": [
    "video_id = 2\n",
    "sequence =26651\n",
    "s_f =4154\n",
    "e_f =4200\n",
    "\n",
    "name = f'UnkownFP_wbf-{video_id}-{sequence}-{s_f}-{e_f}'\n",
    "make_video(df_oof, video_id, sequence, 'track_pred', out_dir, 0, name=name,s_f=s_f, e_f=e_f)"
   ]
  },
  {
   "cell_type": "code",
   "execution_count": null,
   "id": "0b62c3b5",
   "metadata": {
    "ExecuteTime": {
     "end_time": "2022-02-06T16:26:53.290181Z",
     "start_time": "2022-02-06T16:26:53.270984Z"
    }
   },
   "outputs": [],
   "source": [
    "df_oof['track_pred']"
   ]
  },
  {
   "cell_type": "code",
   "execution_count": null,
   "id": "02074847",
   "metadata": {
    "ExecuteTime": {
     "end_time": "2022-02-06T16:29:07.218906Z",
     "start_time": "2022-02-06T16:29:04.101616Z"
    }
   },
   "outputs": [],
   "source": [
    "video_id = 2\n",
    "sequence =26651\n",
    "s_f =4639\n",
    "e_f =4748\n",
    "\n",
    "name = f'FP_wbf-{video_id}-{sequence}-{s_f}-{e_f}'\n",
    "make_video(df_oof, video_id, sequence, 'track_pred', out_dir, 0, name=name,s_f=s_f, e_f=e_f)"
   ]
  },
  {
   "cell_type": "code",
   "execution_count": null,
   "id": "95995f28",
   "metadata": {
    "ExecuteTime": {
     "end_time": "2022-02-06T16:32:04.999786Z",
     "start_time": "2022-02-06T16:32:02.799972Z"
    }
   },
   "outputs": [],
   "source": [
    "video_id = 2\n",
    "sequence =26651\n",
    "s_f =5024\n",
    "e_f =5090\n",
    "\n",
    "name = f'Fish_wbf-{video_id}-{sequence}-{s_f}-{e_f}'\n",
    "make_video(df_oof, video_id, sequence, 'track_pred', out_dir, 0, name=name,s_f=s_f, e_f=e_f)"
   ]
  },
  {
   "cell_type": "code",
   "execution_count": null,
   "id": "b321e888",
   "metadata": {
    "ExecuteTime": {
     "end_time": "2022-02-06T16:33:47.337620Z",
     "start_time": "2022-02-06T16:33:45.930075Z"
    }
   },
   "outputs": [],
   "source": [
    "video_id = 2\n",
    "sequence =26651\n",
    "s_f =5120\n",
    "e_f =5160\n",
    "\n",
    "name = f'Fish_wbf-{video_id}-{sequence}-{s_f}-{e_f}'\n",
    "make_video(df_oof, video_id, sequence, 'track_pred', out_dir, 0, name=name,s_f=s_f, e_f=e_f)"
   ]
  },
  {
   "cell_type": "markdown",
   "id": "5cb96ebb",
   "metadata": {},
   "source": [
    "# Improve FN"
   ]
  },
  {
   "cell_type": "code",
   "execution_count": null,
   "id": "19e5b43a",
   "metadata": {
    "ExecuteTime": {
     "end_time": "2022-01-29T21:08:28.249579Z",
     "start_time": "2022-01-29T21:08:28.231739Z"
    }
   },
   "outputs": [],
   "source": [
    "egs = [\n",
    "    # sequence , frame id\n",
    "    (53708, 8926),\n",
    "    (53708, 8928),\n",
    "    (53708, 9654),\n",
    "    (53708, 9655),\n",
    "]"
   ]
  },
  {
   "cell_type": "code",
   "execution_count": null,
   "id": "29d1d406",
   "metadata": {
    "ExecuteTime": {
     "end_time": "2022-01-29T21:08:28.362365Z",
     "start_time": "2022-01-29T21:08:28.341664Z"
    }
   },
   "outputs": [],
   "source": [
    "\n",
    "def plot_img_2(df, sequence, frame_id, keys, save=False, pre=\"\", use_clahe=False, aug=None):\n",
    "    #row = df.iloc[idx]\n",
    "    row = df.query(\"sequence == @seq and video_frame == @frame_id\").iloc[0]\n",
    "    path = row[\"image_path\"]\n",
    "    img = cv2.imread(str(path))[...,::-1]\n",
    "    if use_clahe:\n",
    "        for i in range(3):\n",
    "            img[:, :, i] = clahe.apply((img[:, :, i]))         \n",
    "    if aug is not None:\n",
    "        img = aug(image=img)['image']\n",
    "    real_bboxes = row[\"real_bbox\"]\n",
    "    preds = row[\"track_pred\"]            \n",
    "    bboxes = [p[1:5] for p in preds]\n",
    "    confis = [p[0] for p in preds]\n",
    "    print(f\"video {row.video_id}, sequence {row.sequence}, frame {row.video_frame}\")\n",
    "    img_plot = util.show_img(img, \n",
    "                          bboxes + real_bboxes, \n",
    "                          confis + [1] * len(real_bboxes),\n",
    "                          color_pred  * len(bboxes) + color_real * len(real_bboxes), \n",
    "                          bbox_format='coco')\n",
    "    if save:\n",
    "        img_plot.save(f\"./pic_check/{pre}v{row.video_id}_frame{row.video_frame}_seq{row.sequence}.jpg\")\n",
    "    display(img_plot)"
   ]
  },
  {
   "cell_type": "code",
   "execution_count": null,
   "id": "5c9bc79d",
   "metadata": {
    "ExecuteTime": {
     "end_time": "2022-01-29T21:08:29.091680Z",
     "start_time": "2022-01-29T21:08:28.545683Z"
    },
    "scrolled": false
   },
   "outputs": [],
   "source": [
    "seq, frame = egs[0]\n",
    "seq_tp = 53708\n",
    "frame_tp = 9653\n",
    "plot_img_2(df_oof, seq, frame, model_versions, use_clahe=False)\n",
    "plot_img_2(df_oof, seq_tp, frame_tp, model_versions, use_clahe=False)"
   ]
  },
  {
   "cell_type": "markdown",
   "id": "5c5538e0",
   "metadata": {},
   "source": [
    "## CLAHE"
   ]
  },
  {
   "cell_type": "code",
   "execution_count": null,
   "id": "dd82e6ba",
   "metadata": {
    "ExecuteTime": {
     "end_time": "2022-01-29T21:08:29.508627Z",
     "start_time": "2022-01-29T21:08:29.092568Z"
    },
    "scrolled": false
   },
   "outputs": [],
   "source": [
    "clahe = cv2.createCLAHE(clipLimit=5, tileGridSize=(10, 10))\n",
    "plot_img_2(df_oof, seq, frame, model_versions, use_clahe=True)\n",
    "plot_img_2(df_oof, seq_tp, frame_tp, model_versions, use_clahe=True)        "
   ]
  },
  {
   "cell_type": "markdown",
   "id": "12175d32",
   "metadata": {},
   "source": [
    "## HueSaturationValue"
   ]
  },
  {
   "cell_type": "code",
   "execution_count": null,
   "id": "b68c4c41",
   "metadata": {
    "ExecuteTime": {
     "end_time": "2022-01-29T21:08:30.003179Z",
     "start_time": "2022-01-29T21:08:29.509385Z"
    },
    "scrolled": true
   },
   "outputs": [],
   "source": [
    "aug = A.HueSaturationValue(hue_shift_limit=10,p = 1.0)\n",
    "plot_img_2(df_oof, seq, frame, model_versions, use_clahe=False, aug=aug)\n",
    "plot_img_2(df_oof, seq_tp, frame_tp, model_versions, use_clahe=False, aug=aug)        "
   ]
  },
  {
   "cell_type": "markdown",
   "id": "d80413f8",
   "metadata": {},
   "source": [
    "## RGBShift"
   ]
  },
  {
   "cell_type": "code",
   "execution_count": null,
   "id": "9d0c6caa",
   "metadata": {
    "ExecuteTime": {
     "end_time": "2022-01-29T21:08:32.341157Z",
     "start_time": "2022-01-29T21:08:31.816690Z"
    },
    "scrolled": false
   },
   "outputs": [],
   "source": [
    "aug = A.RGBShift(r_shift_limit = 40, b_shift_limit=0, g_shift_limit=0, p = 1.0)\n",
    "plot_img_2(df_oof, seq, frame, model_versions, use_clahe=False, aug=aug)\n",
    "plot_img_2(df_oof, seq_tp, frame_tp, model_versions, use_clahe=False, aug=aug)        "
   ]
  },
  {
   "cell_type": "markdown",
   "id": "4e318bdc",
   "metadata": {},
   "source": [
    "## FUnIE-GAN"
   ]
  },
  {
   "cell_type": "code",
   "execution_count": null,
   "id": "e55f7386",
   "metadata": {
    "ExecuteTime": {
     "end_time": "2022-01-30T01:04:46.854094Z",
     "start_time": "2022-01-30T01:04:46.747035Z"
    }
   },
   "outputs": [],
   "source": [
    "sys.path.append(\"./FUnIE-GAN/PyTorch/\")\n",
    "from nets import funiegan\n",
    "\n",
    "model_path = \"./FUnIE-GAN/PyTorch/models/funie_generator.pth\"\n",
    "model = funiegan.GeneratorFunieGAN()\n",
    "model.load_state_dict(torch.load(model_path,map_location=torch.device('cpu')))"
   ]
  },
  {
   "cell_type": "code",
   "execution_count": null,
   "id": "9c6d1f38",
   "metadata": {
    "ExecuteTime": {
     "end_time": "2022-01-30T01:05:40.530547Z",
     "start_time": "2022-01-30T01:05:40.510842Z"
    },
    "scrolled": true
   },
   "outputs": [],
   "source": [
    "model.eval()"
   ]
  },
  {
   "cell_type": "code",
   "execution_count": null,
   "id": "ceb343c5",
   "metadata": {
    "ExecuteTime": {
     "end_time": "2022-01-30T01:27:10.731951Z",
     "start_time": "2022-01-30T01:27:10.713724Z"
    }
   },
   "outputs": [],
   "source": [
    "import torchvision.transforms as transforms\n",
    "## data pipeline\n",
    "img_width, img_height, channels = 1280, 1280, 3\n",
    "transforms_ = [transforms.Resize((img_height, img_width), transforms.InterpolationMode.BICUBIC),\n",
    "               transforms.ToTensor(),\n",
    "               transforms.Normalize((0.5, 0.5, 0.5), (0.5, 0.5, 0.5)),]\n",
    "transform = transforms.Compose(transforms_)"
   ]
  },
  {
   "cell_type": "code",
   "execution_count": null,
   "id": "a6e98648",
   "metadata": {
    "ExecuteTime": {
     "end_time": "2022-01-30T01:28:19.988387Z",
     "start_time": "2022-01-30T01:28:19.963765Z"
    }
   },
   "outputs": [],
   "source": [
    "path = df_oof.query(\"sequence == 53708 and video_frame == 8926\").iloc[0][\"image_path\"]\n",
    "path = df_oof.query(\"sequence == 53708 and video_frame == 9653\").iloc[0][\"image_path\"]"
   ]
  },
  {
   "cell_type": "code",
   "execution_count": null,
   "id": "d66dd0d5",
   "metadata": {
    "ExecuteTime": {
     "end_time": "2022-01-30T01:28:22.219746Z",
     "start_time": "2022-01-30T01:28:20.470685Z"
    }
   },
   "outputs": [],
   "source": [
    "from PIL import Image\n",
    "from torch.autograd import Variable\n",
    "import torch\n",
    "Tensor = torch.FloatTensor \n",
    "#path = '../../data/tensorflow-great-barrier-reef/train_images/video_0/8926.jpg'\n",
    "inp_img = transform(Image.open(path))\n",
    "inp_img = Variable(inp_img).type(Tensor).unsqueeze(0)\n",
    "gen_img = model(inp_img)"
   ]
  },
  {
   "cell_type": "code",
   "execution_count": null,
   "id": "e5204048",
   "metadata": {
    "ExecuteTime": {
     "end_time": "2022-01-30T01:28:25.080828Z",
     "start_time": "2022-01-30T01:28:25.062249Z"
    }
   },
   "outputs": [],
   "source": [
    "from torchvision.utils import save_image"
   ]
  },
  {
   "cell_type": "code",
   "execution_count": null,
   "id": "75471457",
   "metadata": {
    "ExecuteTime": {
     "end_time": "2022-01-30T01:28:27.915312Z",
     "start_time": "2022-01-30T01:28:27.816283Z"
    }
   },
   "outputs": [],
   "source": [
    "save_image(gen_img, \"./test2.jpg\", normalize=True)"
   ]
  },
  {
   "cell_type": "code",
   "execution_count": null,
   "id": "6ef6057b",
   "metadata": {
    "ExecuteTime": {
     "end_time": "2022-01-30T01:20:29.705368Z",
     "start_time": "2022-01-30T01:20:29.342252Z"
    },
    "scrolled": false
   },
   "outputs": [],
   "source": [
    "plt.imshow(gen_img.squeeze().data.permute(1, 2, 0).numpy())"
   ]
  },
  {
   "cell_type": "code",
   "execution_count": null,
   "id": "8ebd7c86",
   "metadata": {},
   "outputs": [],
   "source": []
  }
 ],
 "metadata": {
  "kernelspec": {
   "display_name": "base",
   "language": "python",
   "name": "base"
  },
  "language_info": {
   "codemirror_mode": {
    "name": "ipython",
    "version": 3
   },
   "file_extension": ".py",
   "mimetype": "text/x-python",
   "name": "python",
   "nbconvert_exporter": "python",
   "pygments_lexer": "ipython3",
   "version": "3.8.10"
  },
  "toc": {
   "base_numbering": 1,
   "nav_menu": {},
   "number_sections": true,
   "sideBar": true,
   "skip_h1_title": false,
   "title_cell": "Table of Contents",
   "title_sidebar": "Contents",
   "toc_cell": false,
   "toc_position": {
    "height": "calc(100% - 180px)",
    "left": "10px",
    "top": "150px",
    "width": "198px"
   },
   "toc_section_display": true,
   "toc_window_display": false
  }
 },
 "nbformat": 4,
 "nbformat_minor": 5
}
