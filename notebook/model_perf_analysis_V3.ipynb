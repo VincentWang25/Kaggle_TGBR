{
 "cells": [
  {
   "cell_type": "code",
   "execution_count": 1,
   "id": "c8f0ce2c",
   "metadata": {
    "ExecuteTime": {
     "end_time": "2022-01-30T13:03:00.946557Z",
     "start_time": "2022-01-30T13:03:00.926183Z"
    }
   },
   "outputs": [
    {
     "data": {
      "text/html": [
       "<style>.container { width:100% !important; }</style>"
      ],
      "text/plain": [
       "<IPython.core.display.HTML object>"
      ]
     },
     "metadata": {},
     "output_type": "display_data"
    }
   ],
   "source": [
    "%load_ext autoreload\n",
    "%autoreload 2\n",
    "\n",
    "from IPython.core.display import display, HTML\n",
    "display(HTML(\"<style>.container { width:100% !important; }</style>\"))"
   ]
  },
  {
   "cell_type": "code",
   "execution_count": 2,
   "id": "d2f506ce",
   "metadata": {
    "ExecuteTime": {
     "end_time": "2022-01-30T13:03:02.608655Z",
     "start_time": "2022-01-30T13:03:01.074941Z"
    }
   },
   "outputs": [],
   "source": [
    "import sys\n",
    "from itertools import groupby\n",
    "import numpy as np\n",
    "import cv2\n",
    "from tqdm.notebook import tqdm\n",
    "tqdm.pandas()\n",
    "import pandas as pd\n",
    "import os\n",
    "from glob import glob\n",
    "from multiprocessing import Pool\n",
    "import matplotlib.pyplot as plt\n",
    "# import cupy as cp\n",
    "import ast\n",
    "from pathlib import Path\n",
    "import pickle5 as pickle\n",
    "import torch\n",
    "\n",
    "import shutil\n",
    "import sys\n",
    "sys.path.append(\"../src/\")\n",
    "sys.path.append(\"../yolov5/\")\n",
    "\n",
    "import util\n",
    "\n",
    "from joblib import Parallel, delayed\n",
    "\n",
    "from IPython.display import display, HTML\n",
    "from sahi.model import Yolov5DetectionModel\n",
    "from sahi.utils.cv import read_image\n",
    "from sahi.utils.file import download_from_url\n",
    "from sahi.predict import get_prediction, get_sliced_prediction, predict\n",
    "from ensemble_boxes import weighted_boxes_fusion\n",
    "\n",
    "import albumentations as A\n",
    "\n",
    "from IPython.display import Image\n",
    "from matplotlib import animation, rc\n",
    "rc('animation', html='jshtml')"
   ]
  },
  {
   "cell_type": "code",
   "execution_count": 3,
   "id": "e90818f1",
   "metadata": {
    "ExecuteTime": {
     "end_time": "2022-01-30T13:03:02.624686Z",
     "start_time": "2022-01-30T13:03:02.609638Z"
    }
   },
   "outputs": [],
   "source": [
    "CONF = 0\n",
    "IOU = 0.4\n",
    "AUGMENT = True # True \n",
    "SIZE = int(1280 * 1.3)  # 1280 * 1.3 \n",
    "#USE_CLACHE = True\n",
    "USE_SAHI = False"
   ]
  },
  {
   "cell_type": "markdown",
   "id": "3684e82d",
   "metadata": {},
   "source": [
    "# Load Data"
   ]
  },
  {
   "cell_type": "code",
   "execution_count": 4,
   "id": "d069100c",
   "metadata": {
    "ExecuteTime": {
     "end_time": "2022-01-30T13:03:08.022485Z",
     "start_time": "2022-01-30T13:03:03.793138Z"
    }
   },
   "outputs": [],
   "source": [
    "df = util.load_pickle(\"pred_CV3_0128.pkl\")\n",
    "# df_2 = util.load_pickle(\"pred_CV3_s1800_0129.pkl\")\n",
    "# for col in df_2.columns:\n",
    "#     if col not in df.columns:\n",
    "#         df[col] = df_2[col]\n",
    "df_3 = util.load_pickle(\"pred_CV3_s1800_e11_0129.pkl\")\n",
    "for col in df_3.columns:\n",
    "    if col not in df.columns:\n",
    "        df[col] = df_3[col]\n",
    "df_4 = util.load_pickle(\"pred_CV3_s1280_clahe_0129.pkl\")\n",
    "for col in df_4.columns:\n",
    "    if col not in df.columns:\n",
    "        df[col] = df_4[col]\n",
    "        \n",
    "# df_5 = util.load_pickle(\"pred_CV3_s3600_e11_0129.pkl\")\n",
    "# df_5 = df_5.rename(columns = {\"pred_0129_yolov5l_v3_highFP_1800_e11_fold1\":\"pred_0129_yolov5l_v3_highFP_3600_e11_fold1\" })\n",
    "# for col in df_5.columns:\n",
    "#     if col not in df.columns:\n",
    "#         df[col] = df_5[col]\n",
    "\n",
    "df_6 = util.load_pickle(\"pred_CV3_s1800_clahe_0129.pkl\")\n",
    "for col in df_6.columns:\n",
    "    if col not in df.columns:\n",
    "        df[col] = df_6[col]\n",
    "        \n",
    "df_7 = util.load_pickle(\"pred_CV3_s2700_clahe_0129.pkl\")\n",
    "df_7 = df_7.rename(columns = {\"pred_0129_yolov5l_v3_1800_clahe_fold1\":\"pred_0129_yolov5l_v3_2700_clahe_fold1\" })\n",
    "for col in df_7.columns:\n",
    "    if col not in df.columns:\n",
    "        df[col] = df_7[col]"
   ]
  },
  {
   "cell_type": "code",
   "execution_count": 5,
   "id": "725b69b5",
   "metadata": {
    "ExecuteTime": {
     "end_time": "2022-01-30T13:03:08.040914Z",
     "start_time": "2022-01-30T13:03:08.023463Z"
    }
   },
   "outputs": [
    {
     "data": {
      "text/plain": [
       "['0128_yolov5l_v3',\n",
       " '0128_yolov5l_v3_highFP',\n",
       " '0129_yolov5l_v3_highFP_1800_e11',\n",
       " '0129_yolov5l_v3_highFP_clahe',\n",
       " '0129_yolov5l_v3_1800_clahe',\n",
       " '0129_yolov5l_v3_2700_clahe']"
      ]
     },
     "execution_count": 5,
     "metadata": {},
     "output_type": "execute_result"
    }
   ],
   "source": [
    "model_versions = [\"_\".join(col.split(\"_\")[1:-1]) for col in df.columns if \"_fold1\" in col]\n",
    "model_versions"
   ]
  },
  {
   "cell_type": "markdown",
   "id": "a5bd44aa",
   "metadata": {},
   "source": [
    "# Model"
   ]
  },
  {
   "cell_type": "markdown",
   "id": "36b30983",
   "metadata": {},
   "source": [
    "# Pick Conf Thresh"
   ]
  },
  {
   "cell_type": "code",
   "execution_count": 6,
   "id": "9051cbe1",
   "metadata": {
    "ExecuteTime": {
     "end_time": "2022-01-30T13:03:08.098914Z",
     "start_time": "2022-01-30T13:03:08.041786Z"
    }
   },
   "outputs": [],
   "source": [
    "df_oof = df.query(\"fold == 1\").copy()\n",
    "gt_bboxs_list = []\n",
    "for index in df_oof.index:\n",
    "    gt_bboxs_list.append(np.array(df_oof.loc[index, \"real_bbox\"]))"
   ]
  },
  {
   "cell_type": "code",
   "execution_count": 7,
   "id": "c7ec4428",
   "metadata": {
    "ExecuteTime": {
     "end_time": "2022-01-30T13:03:19.435591Z",
     "start_time": "2022-01-30T13:03:08.099978Z"
    }
   },
   "outputs": [
    {
     "name": "stdout",
     "output_type": "stream",
     "text": [
      "model 0129_yolov5l_v3_2700_clahe, conf_th 0.15, f2 0.637, precision 0.618, recall 0.642\n",
      "model 0129_yolov5l_v3_2700_clahe, conf_th 0.16, f2 0.637, precision 0.628, recall 0.639\n",
      "model 0129_yolov5l_v3_2700_clahe, conf_th 0.17, f2 0.637, precision 0.641, recall 0.636\n",
      "model 0129_yolov5l_v3_2700_clahe, conf_th 0.18, f2 0.638, precision 0.649, recall 0.635\n",
      "model 0129_yolov5l_v3_2700_clahe, conf_th 0.19, f2 0.639, precision 0.660, recall 0.634\n",
      "model 0129_yolov5l_v3_2700_clahe, conf_th 0.20, f2 0.638, precision 0.665, recall 0.631\n",
      "model 0129_yolov5l_v3_2700_clahe, conf_th 0.21, f2 0.639, precision 0.674, recall 0.631\n",
      "model 0129_yolov5l_v3_2700_clahe, conf_th 0.22, f2 0.638, precision 0.680, recall 0.628\n",
      "model 0129_yolov5l_v3_2700_clahe, conf_th 0.23, f2 0.638, precision 0.688, recall 0.627\n",
      "model 0129_yolov5l_v3_2700_clahe, conf_th 0.24, f2 0.638, precision 0.691, recall 0.626\n"
     ]
    }
   ],
   "source": [
    "#conf_ths = [5, 10, 15, 20, 25, 30, 35, 40]\n",
    "conf_ths = np.arange(15, 25, 1)\n",
    "#conf_ths = [12, 16, 18, 20, 22, 24]\n",
    "#conf_ths = [6, 8, 10, 12, 14]\n",
    "#conf_ths = [30, 32, 35, 38, 45, 50, 55]\n",
    "iou_ths = np.arange(0.3, 0.85, 0.05)\n",
    "fold = 1\n",
    "for model_version in model_versions:\n",
    "    if not model_version in ['0129_yolov5l_v3_2700_clahe']:\n",
    "        continue\n",
    "    pred_col = \"pred_\" + model_version + f\"_fold{fold}\"\n",
    "    for conf_th in conf_ths:\n",
    "        conf_th /= 100\n",
    "        prd_bboxs_list = []\n",
    "        for index in df_oof.index:\n",
    "            prd_bboxs = df_oof.loc[index, pred_col]\n",
    "            prd_bboxs = [p for p in prd_bboxs if p[0] >= conf_th]\n",
    "            prd_bboxs_list.append(np.array(prd_bboxs))\n",
    "        f2_dict = util.calc_f2_score(gt_bboxs_list, prd_bboxs_list, verbose=False)    \n",
    "        print(\"model {}, conf_th {:.2f}, f2 {:.3f}, precision {:.3f}, recall {:.3f}\".format(model_version, conf_th, f2_dict['f2'], f2_dict['P'], f2_dict['R']))"
   ]
  },
  {
   "cell_type": "code",
   "execution_count": 8,
   "id": "6d5f4503",
   "metadata": {
    "ExecuteTime": {
     "end_time": "2022-01-30T13:03:19.450684Z",
     "start_time": "2022-01-30T13:03:19.436337Z"
    }
   },
   "outputs": [],
   "source": [
    "best_conf_dict = {\n",
    "    '0128_yolov5l_v3': 0.25,\n",
    "    \"0128_yolov5l_v3_highFP\": 0.25,\n",
    "    \"0129_yolov5l_v3_highFP_1800\": 0.25,\n",
    "    \"0129_yolov5l_v3_highFP_1800_e11\": 0.16,\n",
    "    \"0129_yolov5l_v3_highFP_clahe\": 0.19,\n",
    "    '0129_yolov5l_v3_highFP_3600_e11': 0.25,\n",
    "    '0129_yolov5l_v3_1800_clahe': 0.15,\n",
    "    '0129_yolov5l_v3_2700_clahe': 0.2,\n",
    "}"
   ]
  },
  {
   "cell_type": "code",
   "execution_count": 9,
   "id": "e1f9450b",
   "metadata": {
    "ExecuteTime": {
     "end_time": "2022-01-30T13:03:19.470242Z",
     "start_time": "2022-01-30T13:03:19.451514Z"
    }
   },
   "outputs": [],
   "source": [
    "pd.set_option('display.max_columns', 40)\n",
    "f_cols = [\"f2\"] + [\"f2_\" + str(round(th,3)) for th in np.arange(0.3, 0.85, 0.05)]\n",
    "P_cols = [\"P\"] + [\"P_\" + str(round(th,3)) for th in np.arange(0.3, 0.85, 0.05)]\n",
    "R_cols = [\"R\"] + [\"R_\" + str(round(th,3)) for th in np.arange(0.3, 0.85, 0.05)]"
   ]
  },
  {
   "cell_type": "code",
   "execution_count": 10,
   "id": "a820dc32",
   "metadata": {
    "ExecuteTime": {
     "end_time": "2022-01-30T13:03:26.421042Z",
     "start_time": "2022-01-30T13:03:19.471346Z"
    }
   },
   "outputs": [
    {
     "name": "stdout",
     "output_type": "stream",
     "text": [
      "model 0128_yolov5l_v3, conf_th 0.25, f2 0.649, precision 0.576, recall 0.670\n"
     ]
    },
    {
     "data": {
      "text/html": [
       "<style type=\"text/css\">\n",
       "#T_f5798_row0_col0, #T_f5798_row1_col0, #T_f5798_row2_col0 {\n",
       "  background-color: #0569a5;\n",
       "  color: #f1f1f1;\n",
       "}\n",
       "#T_f5798_row0_col1, #T_f5798_row0_col2, #T_f5798_row0_col3, #T_f5798_row0_col4, #T_f5798_row1_col1, #T_f5798_row1_col2, #T_f5798_row1_col3, #T_f5798_row1_col4, #T_f5798_row2_col1, #T_f5798_row2_col2, #T_f5798_row2_col3, #T_f5798_row2_col4 {\n",
       "  background-color: #023858;\n",
       "  color: #f1f1f1;\n",
       "}\n",
       "#T_f5798_row0_col5, #T_f5798_row1_col5, #T_f5798_row2_col5 {\n",
       "  background-color: #023a5b;\n",
       "  color: #f1f1f1;\n",
       "}\n",
       "#T_f5798_row0_col6, #T_f5798_row1_col6, #T_f5798_row2_col6 {\n",
       "  background-color: #023f64;\n",
       "  color: #f1f1f1;\n",
       "}\n",
       "#T_f5798_row0_col7, #T_f5798_row1_col7, #T_f5798_row2_col7 {\n",
       "  background-color: #034973;\n",
       "  color: #f1f1f1;\n",
       "}\n",
       "#T_f5798_row0_col8, #T_f5798_row1_col8, #T_f5798_row2_col8 {\n",
       "  background-color: #046299;\n",
       "  color: #f1f1f1;\n",
       "}\n",
       "#T_f5798_row0_col9, #T_f5798_row1_col9, #T_f5798_row2_col9 {\n",
       "  background-color: #348ebf;\n",
       "  color: #f1f1f1;\n",
       "}\n",
       "#T_f5798_row0_col10, #T_f5798_row1_col10, #T_f5798_row2_col10 {\n",
       "  background-color: #bcc7e1;\n",
       "  color: #000000;\n",
       "}\n",
       "#T_f5798_row0_col11, #T_f5798_row1_col11, #T_f5798_row2_col11 {\n",
       "  background-color: #fff7fb;\n",
       "  color: #000000;\n",
       "}\n",
       "</style>\n",
       "<table id=\"T_f5798\">\n",
       "  <thead>\n",
       "    <tr>\n",
       "      <th class=\"blank level0\" >&nbsp;</th>\n",
       "      <th id=\"T_f5798_level0_col0\" class=\"col_heading level0 col0\" >all</th>\n",
       "      <th id=\"T_f5798_level0_col1\" class=\"col_heading level0 col1\" >0.3</th>\n",
       "      <th id=\"T_f5798_level0_col2\" class=\"col_heading level0 col2\" >0.35</th>\n",
       "      <th id=\"T_f5798_level0_col3\" class=\"col_heading level0 col3\" >0.4</th>\n",
       "      <th id=\"T_f5798_level0_col4\" class=\"col_heading level0 col4\" >0.45</th>\n",
       "      <th id=\"T_f5798_level0_col5\" class=\"col_heading level0 col5\" >0.5</th>\n",
       "      <th id=\"T_f5798_level0_col6\" class=\"col_heading level0 col6\" >0.55</th>\n",
       "      <th id=\"T_f5798_level0_col7\" class=\"col_heading level0 col7\" >0.6</th>\n",
       "      <th id=\"T_f5798_level0_col8\" class=\"col_heading level0 col8\" >0.65</th>\n",
       "      <th id=\"T_f5798_level0_col9\" class=\"col_heading level0 col9\" >0.7</th>\n",
       "      <th id=\"T_f5798_level0_col10\" class=\"col_heading level0 col10\" >0.75</th>\n",
       "      <th id=\"T_f5798_level0_col11\" class=\"col_heading level0 col11\" >0.8</th>\n",
       "    </tr>\n",
       "  </thead>\n",
       "  <tbody>\n",
       "    <tr>\n",
       "      <th id=\"T_f5798_level0_row0\" class=\"row_heading level0 row0\" >f2</th>\n",
       "      <td id=\"T_f5798_row0_col0\" class=\"data row0 col0\" >0.649</td>\n",
       "      <td id=\"T_f5798_row0_col1\" class=\"data row0 col1\" >0.744</td>\n",
       "      <td id=\"T_f5798_row0_col2\" class=\"data row0 col2\" >0.744</td>\n",
       "      <td id=\"T_f5798_row0_col3\" class=\"data row0 col3\" >0.744</td>\n",
       "      <td id=\"T_f5798_row0_col4\" class=\"data row0 col4\" >0.744</td>\n",
       "      <td id=\"T_f5798_row0_col5\" class=\"data row0 col5\" >0.741</td>\n",
       "      <td id=\"T_f5798_row0_col6\" class=\"data row0 col6\" >0.731</td>\n",
       "      <td id=\"T_f5798_row0_col7\" class=\"data row0 col7\" >0.716</td>\n",
       "      <td id=\"T_f5798_row0_col8\" class=\"data row0 col8\" >0.668</td>\n",
       "      <td id=\"T_f5798_row0_col9\" class=\"data row0 col9\" >0.579</td>\n",
       "      <td id=\"T_f5798_row0_col10\" class=\"data row0 col10\" >0.434</td>\n",
       "      <td id=\"T_f5798_row0_col11\" class=\"data row0 col11\" >0.294</td>\n",
       "    </tr>\n",
       "    <tr>\n",
       "      <th id=\"T_f5798_level0_row1\" class=\"row_heading level0 row1\" >P</th>\n",
       "      <td id=\"T_f5798_row1_col0\" class=\"data row1 col0\" >0.576</td>\n",
       "      <td id=\"T_f5798_row1_col1\" class=\"data row1 col1\" >0.660</td>\n",
       "      <td id=\"T_f5798_row1_col2\" class=\"data row1 col2\" >0.660</td>\n",
       "      <td id=\"T_f5798_row1_col3\" class=\"data row1 col3\" >0.660</td>\n",
       "      <td id=\"T_f5798_row1_col4\" class=\"data row1 col4\" >0.660</td>\n",
       "      <td id=\"T_f5798_row1_col5\" class=\"data row1 col5\" >0.657</td>\n",
       "      <td id=\"T_f5798_row1_col6\" class=\"data row1 col6\" >0.648</td>\n",
       "      <td id=\"T_f5798_row1_col7\" class=\"data row1 col7\" >0.635</td>\n",
       "      <td id=\"T_f5798_row1_col8\" class=\"data row1 col8\" >0.592</td>\n",
       "      <td id=\"T_f5798_row1_col9\" class=\"data row1 col9\" >0.514</td>\n",
       "      <td id=\"T_f5798_row1_col10\" class=\"data row1 col10\" >0.385</td>\n",
       "      <td id=\"T_f5798_row1_col11\" class=\"data row1 col11\" >0.261</td>\n",
       "    </tr>\n",
       "    <tr>\n",
       "      <th id=\"T_f5798_level0_row2\" class=\"row_heading level0 row2\" >R</th>\n",
       "      <td id=\"T_f5798_row2_col0\" class=\"data row2 col0\" >0.670</td>\n",
       "      <td id=\"T_f5798_row2_col1\" class=\"data row2 col1\" >0.769</td>\n",
       "      <td id=\"T_f5798_row2_col2\" class=\"data row2 col2\" >0.769</td>\n",
       "      <td id=\"T_f5798_row2_col3\" class=\"data row2 col3\" >0.769</td>\n",
       "      <td id=\"T_f5798_row2_col4\" class=\"data row2 col4\" >0.768</td>\n",
       "      <td id=\"T_f5798_row2_col5\" class=\"data row2 col5\" >0.765</td>\n",
       "      <td id=\"T_f5798_row2_col6\" class=\"data row2 col6\" >0.755</td>\n",
       "      <td id=\"T_f5798_row2_col7\" class=\"data row2 col7\" >0.739</td>\n",
       "      <td id=\"T_f5798_row2_col8\" class=\"data row2 col8\" >0.689</td>\n",
       "      <td id=\"T_f5798_row2_col9\" class=\"data row2 col9\" >0.598</td>\n",
       "      <td id=\"T_f5798_row2_col10\" class=\"data row2 col10\" >0.448</td>\n",
       "      <td id=\"T_f5798_row2_col11\" class=\"data row2 col11\" >0.304</td>\n",
       "    </tr>\n",
       "  </tbody>\n",
       "</table>\n"
      ],
      "text/plain": [
       "<pandas.io.formats.style.Styler at 0x7f6085e39640>"
      ]
     },
     "metadata": {},
     "output_type": "display_data"
    },
    {
     "name": "stdout",
     "output_type": "stream",
     "text": [
      "model 0128_yolov5l_v3_highFP, conf_th 0.25, f2 0.642, precision 0.710, recall 0.628\n"
     ]
    },
    {
     "data": {
      "text/html": [
       "<style type=\"text/css\">\n",
       "#T_da878_row0_col0, #T_da878_row1_col0, #T_da878_row2_col0 {\n",
       "  background-color: #056ba7;\n",
       "  color: #f1f1f1;\n",
       "}\n",
       "#T_da878_row0_col1, #T_da878_row0_col2, #T_da878_row0_col3, #T_da878_row1_col1, #T_da878_row1_col2, #T_da878_row1_col3, #T_da878_row2_col1, #T_da878_row2_col2, #T_da878_row2_col3 {\n",
       "  background-color: #023858;\n",
       "  color: #f1f1f1;\n",
       "}\n",
       "#T_da878_row0_col4, #T_da878_row1_col4, #T_da878_row2_col4 {\n",
       "  background-color: #02395a;\n",
       "  color: #f1f1f1;\n",
       "}\n",
       "#T_da878_row0_col5, #T_da878_row1_col5, #T_da878_row2_col5 {\n",
       "  background-color: #023e62;\n",
       "  color: #f1f1f1;\n",
       "}\n",
       "#T_da878_row0_col6, #T_da878_row1_col6, #T_da878_row2_col6 {\n",
       "  background-color: #034369;\n",
       "  color: #f1f1f1;\n",
       "}\n",
       "#T_da878_row0_col7, #T_da878_row1_col7, #T_da878_row2_col7 {\n",
       "  background-color: #045280;\n",
       "  color: #f1f1f1;\n",
       "}\n",
       "#T_da878_row0_col8, #T_da878_row1_col8, #T_da878_row2_col8 {\n",
       "  background-color: #0569a5;\n",
       "  color: #f1f1f1;\n",
       "}\n",
       "#T_da878_row0_col9, #T_da878_row1_col9, #T_da878_row2_col9 {\n",
       "  background-color: #3d93c2;\n",
       "  color: #f1f1f1;\n",
       "}\n",
       "#T_da878_row0_col10, #T_da878_row1_col10, #T_da878_row2_col10 {\n",
       "  background-color: #b7c5df;\n",
       "  color: #000000;\n",
       "}\n",
       "#T_da878_row0_col11, #T_da878_row1_col11, #T_da878_row2_col11 {\n",
       "  background-color: #fff7fb;\n",
       "  color: #000000;\n",
       "}\n",
       "</style>\n",
       "<table id=\"T_da878\">\n",
       "  <thead>\n",
       "    <tr>\n",
       "      <th class=\"blank level0\" >&nbsp;</th>\n",
       "      <th id=\"T_da878_level0_col0\" class=\"col_heading level0 col0\" >all</th>\n",
       "      <th id=\"T_da878_level0_col1\" class=\"col_heading level0 col1\" >0.3</th>\n",
       "      <th id=\"T_da878_level0_col2\" class=\"col_heading level0 col2\" >0.35</th>\n",
       "      <th id=\"T_da878_level0_col3\" class=\"col_heading level0 col3\" >0.4</th>\n",
       "      <th id=\"T_da878_level0_col4\" class=\"col_heading level0 col4\" >0.45</th>\n",
       "      <th id=\"T_da878_level0_col5\" class=\"col_heading level0 col5\" >0.5</th>\n",
       "      <th id=\"T_da878_level0_col6\" class=\"col_heading level0 col6\" >0.55</th>\n",
       "      <th id=\"T_da878_level0_col7\" class=\"col_heading level0 col7\" >0.6</th>\n",
       "      <th id=\"T_da878_level0_col8\" class=\"col_heading level0 col8\" >0.65</th>\n",
       "      <th id=\"T_da878_level0_col9\" class=\"col_heading level0 col9\" >0.7</th>\n",
       "      <th id=\"T_da878_level0_col10\" class=\"col_heading level0 col10\" >0.75</th>\n",
       "      <th id=\"T_da878_level0_col11\" class=\"col_heading level0 col11\" >0.8</th>\n",
       "    </tr>\n",
       "  </thead>\n",
       "  <tbody>\n",
       "    <tr>\n",
       "      <th id=\"T_da878_level0_row0\" class=\"row_heading level0 row0\" >f2</th>\n",
       "      <td id=\"T_da878_row0_col0\" class=\"data row0 col0\" >0.642</td>\n",
       "      <td id=\"T_da878_row0_col1\" class=\"data row0 col1\" >0.737</td>\n",
       "      <td id=\"T_da878_row0_col2\" class=\"data row0 col2\" >0.737</td>\n",
       "      <td id=\"T_da878_row0_col3\" class=\"data row0 col3\" >0.737</td>\n",
       "      <td id=\"T_da878_row0_col4\" class=\"data row0 col4\" >0.735</td>\n",
       "      <td id=\"T_da878_row0_col5\" class=\"data row0 col5\" >0.727</td>\n",
       "      <td id=\"T_da878_row0_col6\" class=\"data row0 col6\" >0.720</td>\n",
       "      <td id=\"T_da878_row0_col7\" class=\"data row0 col7\" >0.696</td>\n",
       "      <td id=\"T_da878_row0_col8\" class=\"data row0 col8\" >0.646</td>\n",
       "      <td id=\"T_da878_row0_col9\" class=\"data row0 col9\" >0.572</td>\n",
       "      <td id=\"T_da878_row0_col10\" class=\"data row0 col10\" >0.450</td>\n",
       "      <td id=\"T_da878_row0_col11\" class=\"data row0 col11\" >0.311</td>\n",
       "    </tr>\n",
       "    <tr>\n",
       "      <th id=\"T_da878_level0_row1\" class=\"row_heading level0 row1\" >P</th>\n",
       "      <td id=\"T_da878_row1_col0\" class=\"data row1 col0\" >0.710</td>\n",
       "      <td id=\"T_da878_row1_col1\" class=\"data row1 col1\" >0.814</td>\n",
       "      <td id=\"T_da878_row1_col2\" class=\"data row1 col2\" >0.814</td>\n",
       "      <td id=\"T_da878_row1_col3\" class=\"data row1 col3\" >0.814</td>\n",
       "      <td id=\"T_da878_row1_col4\" class=\"data row1 col4\" >0.811</td>\n",
       "      <td id=\"T_da878_row1_col5\" class=\"data row1 col5\" >0.803</td>\n",
       "      <td id=\"T_da878_row1_col6\" class=\"data row1 col6\" >0.795</td>\n",
       "      <td id=\"T_da878_row1_col7\" class=\"data row1 col7\" >0.769</td>\n",
       "      <td id=\"T_da878_row1_col8\" class=\"data row1 col8\" >0.714</td>\n",
       "      <td id=\"T_da878_row1_col9\" class=\"data row1 col9\" >0.632</td>\n",
       "      <td id=\"T_da878_row1_col10\" class=\"data row1 col10\" >0.497</td>\n",
       "      <td id=\"T_da878_row1_col11\" class=\"data row1 col11\" >0.343</td>\n",
       "    </tr>\n",
       "    <tr>\n",
       "      <th id=\"T_da878_level0_row2\" class=\"row_heading level0 row2\" >R</th>\n",
       "      <td id=\"T_da878_row2_col0\" class=\"data row2 col0\" >0.628</td>\n",
       "      <td id=\"T_da878_row2_col1\" class=\"data row2 col1\" >0.720</td>\n",
       "      <td id=\"T_da878_row2_col2\" class=\"data row2 col2\" >0.720</td>\n",
       "      <td id=\"T_da878_row2_col3\" class=\"data row2 col3\" >0.720</td>\n",
       "      <td id=\"T_da878_row2_col4\" class=\"data row2 col4\" >0.718</td>\n",
       "      <td id=\"T_da878_row2_col5\" class=\"data row2 col5\" >0.710</td>\n",
       "      <td id=\"T_da878_row2_col6\" class=\"data row2 col6\" >0.703</td>\n",
       "      <td id=\"T_da878_row2_col7\" class=\"data row2 col7\" >0.680</td>\n",
       "      <td id=\"T_da878_row2_col8\" class=\"data row2 col8\" >0.631</td>\n",
       "      <td id=\"T_da878_row2_col9\" class=\"data row2 col9\" >0.558</td>\n",
       "      <td id=\"T_da878_row2_col10\" class=\"data row2 col10\" >0.440</td>\n",
       "      <td id=\"T_da878_row2_col11\" class=\"data row2 col11\" >0.304</td>\n",
       "    </tr>\n",
       "  </tbody>\n",
       "</table>\n"
      ],
      "text/plain": [
       "<pandas.io.formats.style.Styler at 0x7f6085e391f0>"
      ]
     },
     "metadata": {},
     "output_type": "display_data"
    },
    {
     "name": "stdout",
     "output_type": "stream",
     "text": [
      "model 0129_yolov5l_v3_highFP_1800_e11, conf_th 0.16, f2 0.645, precision 0.630, recall 0.649\n"
     ]
    },
    {
     "data": {
      "text/html": [
       "<style type=\"text/css\">\n",
       "#T_2a2f3_row0_col0, #T_2a2f3_row1_col0, #T_2a2f3_row2_col0 {\n",
       "  background-color: #056ead;\n",
       "  color: #f1f1f1;\n",
       "}\n",
       "#T_2a2f3_row0_col1, #T_2a2f3_row0_col2, #T_2a2f3_row0_col3, #T_2a2f3_row1_col1, #T_2a2f3_row1_col2, #T_2a2f3_row1_col3, #T_2a2f3_row2_col1, #T_2a2f3_row2_col2, #T_2a2f3_row2_col3 {\n",
       "  background-color: #023858;\n",
       "  color: #f1f1f1;\n",
       "}\n",
       "#T_2a2f3_row0_col4, #T_2a2f3_row1_col4, #T_2a2f3_row2_col4 {\n",
       "  background-color: #023a5b;\n",
       "  color: #f1f1f1;\n",
       "}\n",
       "#T_2a2f3_row0_col5, #T_2a2f3_row1_col5, #T_2a2f3_row2_col5 {\n",
       "  background-color: #023e62;\n",
       "  color: #f1f1f1;\n",
       "}\n",
       "#T_2a2f3_row0_col6, #T_2a2f3_row1_col6, #T_2a2f3_row2_col6 {\n",
       "  background-color: #034973;\n",
       "  color: #f1f1f1;\n",
       "}\n",
       "#T_2a2f3_row0_col7, #T_2a2f3_row1_col7, #T_2a2f3_row2_col7 {\n",
       "  background-color: #045f95;\n",
       "  color: #f1f1f1;\n",
       "}\n",
       "#T_2a2f3_row0_col8, #T_2a2f3_row1_col8, #T_2a2f3_row2_col8 {\n",
       "  background-color: #0872b1;\n",
       "  color: #f1f1f1;\n",
       "}\n",
       "#T_2a2f3_row0_col9, #T_2a2f3_row1_col9, #T_2a2f3_row2_col9 {\n",
       "  background-color: #569dc8;\n",
       "  color: #f1f1f1;\n",
       "}\n",
       "#T_2a2f3_row0_col10, #T_2a2f3_row1_col10, #T_2a2f3_row2_col10 {\n",
       "  background-color: #b8c6e0;\n",
       "  color: #000000;\n",
       "}\n",
       "#T_2a2f3_row0_col11, #T_2a2f3_row1_col11, #T_2a2f3_row2_col11 {\n",
       "  background-color: #fff7fb;\n",
       "  color: #000000;\n",
       "}\n",
       "</style>\n",
       "<table id=\"T_2a2f3\">\n",
       "  <thead>\n",
       "    <tr>\n",
       "      <th class=\"blank level0\" >&nbsp;</th>\n",
       "      <th id=\"T_2a2f3_level0_col0\" class=\"col_heading level0 col0\" >all</th>\n",
       "      <th id=\"T_2a2f3_level0_col1\" class=\"col_heading level0 col1\" >0.3</th>\n",
       "      <th id=\"T_2a2f3_level0_col2\" class=\"col_heading level0 col2\" >0.35</th>\n",
       "      <th id=\"T_2a2f3_level0_col3\" class=\"col_heading level0 col3\" >0.4</th>\n",
       "      <th id=\"T_2a2f3_level0_col4\" class=\"col_heading level0 col4\" >0.45</th>\n",
       "      <th id=\"T_2a2f3_level0_col5\" class=\"col_heading level0 col5\" >0.5</th>\n",
       "      <th id=\"T_2a2f3_level0_col6\" class=\"col_heading level0 col6\" >0.55</th>\n",
       "      <th id=\"T_2a2f3_level0_col7\" class=\"col_heading level0 col7\" >0.6</th>\n",
       "      <th id=\"T_2a2f3_level0_col8\" class=\"col_heading level0 col8\" >0.65</th>\n",
       "      <th id=\"T_2a2f3_level0_col9\" class=\"col_heading level0 col9\" >0.7</th>\n",
       "      <th id=\"T_2a2f3_level0_col10\" class=\"col_heading level0 col10\" >0.75</th>\n",
       "      <th id=\"T_2a2f3_level0_col11\" class=\"col_heading level0 col11\" >0.8</th>\n",
       "    </tr>\n",
       "  </thead>\n",
       "  <tbody>\n",
       "    <tr>\n",
       "      <th id=\"T_2a2f3_level0_row0\" class=\"row_heading level0 row0\" >f2</th>\n",
       "      <td id=\"T_2a2f3_row0_col0\" class=\"data row0 col0\" >0.645</td>\n",
       "      <td id=\"T_2a2f3_row0_col1\" class=\"data row0 col1\" >0.763</td>\n",
       "      <td id=\"T_2a2f3_row0_col2\" class=\"data row0 col2\" >0.762</td>\n",
       "      <td id=\"T_2a2f3_row0_col3\" class=\"data row0 col3\" >0.762</td>\n",
       "      <td id=\"T_2a2f3_row0_col4\" class=\"data row0 col4\" >0.758</td>\n",
       "      <td id=\"T_2a2f3_row0_col5\" class=\"data row0 col5\" >0.751</td>\n",
       "      <td id=\"T_2a2f3_row0_col6\" class=\"data row0 col6\" >0.730</td>\n",
       "      <td id=\"T_2a2f3_row0_col7\" class=\"data row0 col7\" >0.687</td>\n",
       "      <td id=\"T_2a2f3_row0_col8\" class=\"data row0 col8\" >0.635</td>\n",
       "      <td id=\"T_2a2f3_row0_col9\" class=\"data row0 col9\" >0.548</td>\n",
       "      <td id=\"T_2a2f3_row0_col10\" class=\"data row0 col10\" >0.430</td>\n",
       "      <td id=\"T_2a2f3_row0_col11\" class=\"data row0 col11\" >0.271</td>\n",
       "    </tr>\n",
       "    <tr>\n",
       "      <th id=\"T_2a2f3_level0_row1\" class=\"row_heading level0 row1\" >P</th>\n",
       "      <td id=\"T_2a2f3_row1_col0\" class=\"data row1 col0\" >0.630</td>\n",
       "      <td id=\"T_2a2f3_row1_col1\" class=\"data row1 col1\" >0.745</td>\n",
       "      <td id=\"T_2a2f3_row1_col2\" class=\"data row1 col2\" >0.744</td>\n",
       "      <td id=\"T_2a2f3_row1_col3\" class=\"data row1 col3\" >0.744</td>\n",
       "      <td id=\"T_2a2f3_row1_col4\" class=\"data row1 col4\" >0.741</td>\n",
       "      <td id=\"T_2a2f3_row1_col5\" class=\"data row1 col5\" >0.733</td>\n",
       "      <td id=\"T_2a2f3_row1_col6\" class=\"data row1 col6\" >0.713</td>\n",
       "      <td id=\"T_2a2f3_row1_col7\" class=\"data row1 col7\" >0.671</td>\n",
       "      <td id=\"T_2a2f3_row1_col8\" class=\"data row1 col8\" >0.620</td>\n",
       "      <td id=\"T_2a2f3_row1_col9\" class=\"data row1 col9\" >0.535</td>\n",
       "      <td id=\"T_2a2f3_row1_col10\" class=\"data row1 col10\" >0.420</td>\n",
       "      <td id=\"T_2a2f3_row1_col11\" class=\"data row1 col11\" >0.265</td>\n",
       "    </tr>\n",
       "    <tr>\n",
       "      <th id=\"T_2a2f3_level0_row2\" class=\"row_heading level0 row2\" >R</th>\n",
       "      <td id=\"T_2a2f3_row2_col0\" class=\"data row2 col0\" >0.649</td>\n",
       "      <td id=\"T_2a2f3_row2_col1\" class=\"data row2 col1\" >0.767</td>\n",
       "      <td id=\"T_2a2f3_row2_col2\" class=\"data row2 col2\" >0.767</td>\n",
       "      <td id=\"T_2a2f3_row2_col3\" class=\"data row2 col3\" >0.766</td>\n",
       "      <td id=\"T_2a2f3_row2_col4\" class=\"data row2 col4\" >0.763</td>\n",
       "      <td id=\"T_2a2f3_row2_col5\" class=\"data row2 col5\" >0.755</td>\n",
       "      <td id=\"T_2a2f3_row2_col6\" class=\"data row2 col6\" >0.735</td>\n",
       "      <td id=\"T_2a2f3_row2_col7\" class=\"data row2 col7\" >0.691</td>\n",
       "      <td id=\"T_2a2f3_row2_col8\" class=\"data row2 col8\" >0.638</td>\n",
       "      <td id=\"T_2a2f3_row2_col9\" class=\"data row2 col9\" >0.551</td>\n",
       "      <td id=\"T_2a2f3_row2_col10\" class=\"data row2 col10\" >0.433</td>\n",
       "      <td id=\"T_2a2f3_row2_col11\" class=\"data row2 col11\" >0.273</td>\n",
       "    </tr>\n",
       "  </tbody>\n",
       "</table>\n"
      ],
      "text/plain": [
       "<pandas.io.formats.style.Styler at 0x7f6085e39490>"
      ]
     },
     "metadata": {},
     "output_type": "display_data"
    },
    {
     "name": "stdout",
     "output_type": "stream",
     "text": [
      "model 0129_yolov5l_v3_highFP_clahe, conf_th 0.19, f2 0.625, precision 0.646, recall 0.620\n"
     ]
    },
    {
     "data": {
      "text/html": [
       "<style type=\"text/css\">\n",
       "#T_e1c19_row0_col0, #T_e1c19_row1_col0, #T_e1c19_row2_col0 {\n",
       "  background-color: #0567a2;\n",
       "  color: #f1f1f1;\n",
       "}\n",
       "#T_e1c19_row0_col1, #T_e1c19_row0_col2, #T_e1c19_row0_col3, #T_e1c19_row0_col4, #T_e1c19_row0_col5, #T_e1c19_row1_col1, #T_e1c19_row1_col2, #T_e1c19_row1_col3, #T_e1c19_row1_col4, #T_e1c19_row1_col5, #T_e1c19_row2_col1, #T_e1c19_row2_col2, #T_e1c19_row2_col3, #T_e1c19_row2_col4, #T_e1c19_row2_col5 {\n",
       "  background-color: #023858;\n",
       "  color: #f1f1f1;\n",
       "}\n",
       "#T_e1c19_row0_col6, #T_e1c19_row1_col6, #T_e1c19_row2_col6 {\n",
       "  background-color: #023c5f;\n",
       "  color: #f1f1f1;\n",
       "}\n",
       "#T_e1c19_row0_col7, #T_e1c19_row1_col7, #T_e1c19_row2_col7 {\n",
       "  background-color: #034a74;\n",
       "  color: #f1f1f1;\n",
       "}\n",
       "#T_e1c19_row0_col8, #T_e1c19_row1_col8, #T_e1c19_row2_col8 {\n",
       "  background-color: #046097;\n",
       "  color: #f1f1f1;\n",
       "}\n",
       "#T_e1c19_row0_col9, #T_e1c19_row1_col9, #T_e1c19_row2_col9 {\n",
       "  background-color: #2f8bbe;\n",
       "  color: #f1f1f1;\n",
       "}\n",
       "#T_e1c19_row0_col10, #T_e1c19_row1_col10, #T_e1c19_row2_col10 {\n",
       "  background-color: #a7bddb;\n",
       "  color: #000000;\n",
       "}\n",
       "#T_e1c19_row0_col11, #T_e1c19_row1_col11, #T_e1c19_row2_col11 {\n",
       "  background-color: #fff7fb;\n",
       "  color: #000000;\n",
       "}\n",
       "</style>\n",
       "<table id=\"T_e1c19\">\n",
       "  <thead>\n",
       "    <tr>\n",
       "      <th class=\"blank level0\" >&nbsp;</th>\n",
       "      <th id=\"T_e1c19_level0_col0\" class=\"col_heading level0 col0\" >all</th>\n",
       "      <th id=\"T_e1c19_level0_col1\" class=\"col_heading level0 col1\" >0.3</th>\n",
       "      <th id=\"T_e1c19_level0_col2\" class=\"col_heading level0 col2\" >0.35</th>\n",
       "      <th id=\"T_e1c19_level0_col3\" class=\"col_heading level0 col3\" >0.4</th>\n",
       "      <th id=\"T_e1c19_level0_col4\" class=\"col_heading level0 col4\" >0.45</th>\n",
       "      <th id=\"T_e1c19_level0_col5\" class=\"col_heading level0 col5\" >0.5</th>\n",
       "      <th id=\"T_e1c19_level0_col6\" class=\"col_heading level0 col6\" >0.55</th>\n",
       "      <th id=\"T_e1c19_level0_col7\" class=\"col_heading level0 col7\" >0.6</th>\n",
       "      <th id=\"T_e1c19_level0_col8\" class=\"col_heading level0 col8\" >0.65</th>\n",
       "      <th id=\"T_e1c19_level0_col9\" class=\"col_heading level0 col9\" >0.7</th>\n",
       "      <th id=\"T_e1c19_level0_col10\" class=\"col_heading level0 col10\" >0.75</th>\n",
       "      <th id=\"T_e1c19_level0_col11\" class=\"col_heading level0 col11\" >0.8</th>\n",
       "    </tr>\n",
       "  </thead>\n",
       "  <tbody>\n",
       "    <tr>\n",
       "      <th id=\"T_e1c19_level0_row0\" class=\"row_heading level0 row0\" >f2</th>\n",
       "      <td id=\"T_e1c19_row0_col0\" class=\"data row0 col0\" >0.625</td>\n",
       "      <td id=\"T_e1c19_row0_col1\" class=\"data row0 col1\" >0.714</td>\n",
       "      <td id=\"T_e1c19_row0_col2\" class=\"data row0 col2\" >0.714</td>\n",
       "      <td id=\"T_e1c19_row0_col3\" class=\"data row0 col3\" >0.714</td>\n",
       "      <td id=\"T_e1c19_row0_col4\" class=\"data row0 col4\" >0.714</td>\n",
       "      <td id=\"T_e1c19_row0_col5\" class=\"data row0 col5\" >0.714</td>\n",
       "      <td id=\"T_e1c19_row0_col6\" class=\"data row0 col6\" >0.707</td>\n",
       "      <td id=\"T_e1c19_row0_col7\" class=\"data row0 col7\" >0.685</td>\n",
       "      <td id=\"T_e1c19_row0_col8\" class=\"data row0 col8\" >0.642</td>\n",
       "      <td id=\"T_e1c19_row0_col9\" class=\"data row0 col9\" >0.558</td>\n",
       "      <td id=\"T_e1c19_row0_col10\" class=\"data row0 col10\" >0.438</td>\n",
       "      <td id=\"T_e1c19_row0_col11\" class=\"data row0 col11\" >0.274</td>\n",
       "    </tr>\n",
       "    <tr>\n",
       "      <th id=\"T_e1c19_level0_row1\" class=\"row_heading level0 row1\" >P</th>\n",
       "      <td id=\"T_e1c19_row1_col0\" class=\"data row1 col0\" >0.646</td>\n",
       "      <td id=\"T_e1c19_row1_col1\" class=\"data row1 col1\" >0.738</td>\n",
       "      <td id=\"T_e1c19_row1_col2\" class=\"data row1 col2\" >0.738</td>\n",
       "      <td id=\"T_e1c19_row1_col3\" class=\"data row1 col3\" >0.738</td>\n",
       "      <td id=\"T_e1c19_row1_col4\" class=\"data row1 col4\" >0.738</td>\n",
       "      <td id=\"T_e1c19_row1_col5\" class=\"data row1 col5\" >0.738</td>\n",
       "      <td id=\"T_e1c19_row1_col6\" class=\"data row1 col6\" >0.731</td>\n",
       "      <td id=\"T_e1c19_row1_col7\" class=\"data row1 col7\" >0.708</td>\n",
       "      <td id=\"T_e1c19_row1_col8\" class=\"data row1 col8\" >0.664</td>\n",
       "      <td id=\"T_e1c19_row1_col9\" class=\"data row1 col9\" >0.577</td>\n",
       "      <td id=\"T_e1c19_row1_col10\" class=\"data row1 col10\" >0.453</td>\n",
       "      <td id=\"T_e1c19_row1_col11\" class=\"data row1 col11\" >0.284</td>\n",
       "    </tr>\n",
       "    <tr>\n",
       "      <th id=\"T_e1c19_level0_row2\" class=\"row_heading level0 row2\" >R</th>\n",
       "      <td id=\"T_e1c19_row2_col0\" class=\"data row2 col0\" >0.620</td>\n",
       "      <td id=\"T_e1c19_row2_col1\" class=\"data row2 col1\" >0.709</td>\n",
       "      <td id=\"T_e1c19_row2_col2\" class=\"data row2 col2\" >0.709</td>\n",
       "      <td id=\"T_e1c19_row2_col3\" class=\"data row2 col3\" >0.709</td>\n",
       "      <td id=\"T_e1c19_row2_col4\" class=\"data row2 col4\" >0.709</td>\n",
       "      <td id=\"T_e1c19_row2_col5\" class=\"data row2 col5\" >0.709</td>\n",
       "      <td id=\"T_e1c19_row2_col6\" class=\"data row2 col6\" >0.702</td>\n",
       "      <td id=\"T_e1c19_row2_col7\" class=\"data row2 col7\" >0.679</td>\n",
       "      <td id=\"T_e1c19_row2_col8\" class=\"data row2 col8\" >0.637</td>\n",
       "      <td id=\"T_e1c19_row2_col9\" class=\"data row2 col9\" >0.553</td>\n",
       "      <td id=\"T_e1c19_row2_col10\" class=\"data row2 col10\" >0.435</td>\n",
       "      <td id=\"T_e1c19_row2_col11\" class=\"data row2 col11\" >0.272</td>\n",
       "    </tr>\n",
       "  </tbody>\n",
       "</table>\n"
      ],
      "text/plain": [
       "<pandas.io.formats.style.Styler at 0x7f6085e390d0>"
      ]
     },
     "metadata": {},
     "output_type": "display_data"
    },
    {
     "name": "stdout",
     "output_type": "stream",
     "text": [
      "model 0129_yolov5l_v3_1800_clahe, conf_th 0.15, f2 0.643, precision 0.663, recall 0.638\n"
     ]
    },
    {
     "data": {
      "text/html": [
       "<style type=\"text/css\">\n",
       "#T_384f1_row0_col0, #T_384f1_row1_col0, #T_384f1_row2_col0 {\n",
       "  background-color: #056caa;\n",
       "  color: #f1f1f1;\n",
       "}\n",
       "#T_384f1_row0_col1, #T_384f1_row0_col2, #T_384f1_row0_col3, #T_384f1_row0_col4, #T_384f1_row1_col1, #T_384f1_row1_col2, #T_384f1_row1_col3, #T_384f1_row1_col4, #T_384f1_row2_col1, #T_384f1_row2_col2, #T_384f1_row2_col3, #T_384f1_row2_col4 {\n",
       "  background-color: #023858;\n",
       "  color: #f1f1f1;\n",
       "}\n",
       "#T_384f1_row0_col5, #T_384f1_row1_col5, #T_384f1_row2_col5 {\n",
       "  background-color: #023b5d;\n",
       "  color: #f1f1f1;\n",
       "}\n",
       "#T_384f1_row0_col6, #T_384f1_row1_col6, #T_384f1_row2_col6 {\n",
       "  background-color: #034165;\n",
       "  color: #f1f1f1;\n",
       "}\n",
       "#T_384f1_row0_col7, #T_384f1_row1_col7, #T_384f1_row2_col7 {\n",
       "  background-color: #045483;\n",
       "  color: #f1f1f1;\n",
       "}\n",
       "#T_384f1_row0_col8, #T_384f1_row1_col8, #T_384f1_row2_col8 {\n",
       "  background-color: #056dac;\n",
       "  color: #f1f1f1;\n",
       "}\n",
       "#T_384f1_row0_col9, #T_384f1_row1_col9, #T_384f1_row2_col9 {\n",
       "  background-color: #529bc7;\n",
       "  color: #f1f1f1;\n",
       "}\n",
       "#T_384f1_row0_col10, #T_384f1_row1_col10, #T_384f1_row2_col10 {\n",
       "  background-color: #b9c6e0;\n",
       "  color: #000000;\n",
       "}\n",
       "#T_384f1_row0_col11, #T_384f1_row1_col11, #T_384f1_row2_col11 {\n",
       "  background-color: #fff7fb;\n",
       "  color: #000000;\n",
       "}\n",
       "</style>\n",
       "<table id=\"T_384f1\">\n",
       "  <thead>\n",
       "    <tr>\n",
       "      <th class=\"blank level0\" >&nbsp;</th>\n",
       "      <th id=\"T_384f1_level0_col0\" class=\"col_heading level0 col0\" >all</th>\n",
       "      <th id=\"T_384f1_level0_col1\" class=\"col_heading level0 col1\" >0.3</th>\n",
       "      <th id=\"T_384f1_level0_col2\" class=\"col_heading level0 col2\" >0.35</th>\n",
       "      <th id=\"T_384f1_level0_col3\" class=\"col_heading level0 col3\" >0.4</th>\n",
       "      <th id=\"T_384f1_level0_col4\" class=\"col_heading level0 col4\" >0.45</th>\n",
       "      <th id=\"T_384f1_level0_col5\" class=\"col_heading level0 col5\" >0.5</th>\n",
       "      <th id=\"T_384f1_level0_col6\" class=\"col_heading level0 col6\" >0.55</th>\n",
       "      <th id=\"T_384f1_level0_col7\" class=\"col_heading level0 col7\" >0.6</th>\n",
       "      <th id=\"T_384f1_level0_col8\" class=\"col_heading level0 col8\" >0.65</th>\n",
       "      <th id=\"T_384f1_level0_col9\" class=\"col_heading level0 col9\" >0.7</th>\n",
       "      <th id=\"T_384f1_level0_col10\" class=\"col_heading level0 col10\" >0.75</th>\n",
       "      <th id=\"T_384f1_level0_col11\" class=\"col_heading level0 col11\" >0.8</th>\n",
       "    </tr>\n",
       "  </thead>\n",
       "  <tbody>\n",
       "    <tr>\n",
       "      <th id=\"T_384f1_level0_row0\" class=\"row_heading level0 row0\" >f2</th>\n",
       "      <td id=\"T_384f1_row0_col0\" class=\"data row0 col0\" >0.643</td>\n",
       "      <td id=\"T_384f1_row0_col1\" class=\"data row0 col1\" >0.758</td>\n",
       "      <td id=\"T_384f1_row0_col2\" class=\"data row0 col2\" >0.758</td>\n",
       "      <td id=\"T_384f1_row0_col3\" class=\"data row0 col3\" >0.758</td>\n",
       "      <td id=\"T_384f1_row0_col4\" class=\"data row0 col4\" >0.757</td>\n",
       "      <td id=\"T_384f1_row0_col5\" class=\"data row0 col5\" >0.751</td>\n",
       "      <td id=\"T_384f1_row0_col6\" class=\"data row0 col6\" >0.740</td>\n",
       "      <td id=\"T_384f1_row0_col7\" class=\"data row0 col7\" >0.706</td>\n",
       "      <td id=\"T_384f1_row0_col8\" class=\"data row0 col8\" >0.639</td>\n",
       "      <td id=\"T_384f1_row0_col9\" class=\"data row0 col9\" >0.540</td>\n",
       "      <td id=\"T_384f1_row0_col10\" class=\"data row0 col10\" >0.415</td>\n",
       "      <td id=\"T_384f1_row0_col11\" class=\"data row0 col11\" >0.253</td>\n",
       "    </tr>\n",
       "    <tr>\n",
       "      <th id=\"T_384f1_level0_row1\" class=\"row_heading level0 row1\" >P</th>\n",
       "      <td id=\"T_384f1_row1_col0\" class=\"data row1 col0\" >0.663</td>\n",
       "      <td id=\"T_384f1_row1_col1\" class=\"data row1 col1\" >0.782</td>\n",
       "      <td id=\"T_384f1_row1_col2\" class=\"data row1 col2\" >0.782</td>\n",
       "      <td id=\"T_384f1_row1_col3\" class=\"data row1 col3\" >0.782</td>\n",
       "      <td id=\"T_384f1_row1_col4\" class=\"data row1 col4\" >0.780</td>\n",
       "      <td id=\"T_384f1_row1_col5\" class=\"data row1 col5\" >0.774</td>\n",
       "      <td id=\"T_384f1_row1_col6\" class=\"data row1 col6\" >0.764</td>\n",
       "      <td id=\"T_384f1_row1_col7\" class=\"data row1 col7\" >0.728</td>\n",
       "      <td id=\"T_384f1_row1_col8\" class=\"data row1 col8\" >0.659</td>\n",
       "      <td id=\"T_384f1_row1_col9\" class=\"data row1 col9\" >0.556</td>\n",
       "      <td id=\"T_384f1_row1_col10\" class=\"data row1 col10\" >0.428</td>\n",
       "      <td id=\"T_384f1_row1_col11\" class=\"data row1 col11\" >0.261</td>\n",
       "    </tr>\n",
       "    <tr>\n",
       "      <th id=\"T_384f1_level0_row2\" class=\"row_heading level0 row2\" >R</th>\n",
       "      <td id=\"T_384f1_row2_col0\" class=\"data row2 col0\" >0.638</td>\n",
       "      <td id=\"T_384f1_row2_col1\" class=\"data row2 col1\" >0.752</td>\n",
       "      <td id=\"T_384f1_row2_col2\" class=\"data row2 col2\" >0.752</td>\n",
       "      <td id=\"T_384f1_row2_col3\" class=\"data row2 col3\" >0.752</td>\n",
       "      <td id=\"T_384f1_row2_col4\" class=\"data row2 col4\" >0.751</td>\n",
       "      <td id=\"T_384f1_row2_col5\" class=\"data row2 col5\" >0.745</td>\n",
       "      <td id=\"T_384f1_row2_col6\" class=\"data row2 col6\" >0.735</td>\n",
       "      <td id=\"T_384f1_row2_col7\" class=\"data row2 col7\" >0.700</td>\n",
       "      <td id=\"T_384f1_row2_col8\" class=\"data row2 col8\" >0.635</td>\n",
       "      <td id=\"T_384f1_row2_col9\" class=\"data row2 col9\" >0.535</td>\n",
       "      <td id=\"T_384f1_row2_col10\" class=\"data row2 col10\" >0.412</td>\n",
       "      <td id=\"T_384f1_row2_col11\" class=\"data row2 col11\" >0.251</td>\n",
       "    </tr>\n",
       "  </tbody>\n",
       "</table>\n"
      ],
      "text/plain": [
       "<pandas.io.formats.style.Styler at 0x7f60842f8ee0>"
      ]
     },
     "metadata": {},
     "output_type": "display_data"
    },
    {
     "name": "stdout",
     "output_type": "stream",
     "text": [
      "model 0129_yolov5l_v3_2700_clahe, conf_th 0.20, f2 0.638, precision 0.665, recall 0.631\n"
     ]
    },
    {
     "data": {
      "text/html": [
       "<style type=\"text/css\">\n",
       "#T_6e6fb_row0_col0, #T_6e6fb_row1_col0, #T_6e6fb_row2_col0 {\n",
       "  background-color: #056faf;\n",
       "  color: #f1f1f1;\n",
       "}\n",
       "#T_6e6fb_row0_col1, #T_6e6fb_row0_col2, #T_6e6fb_row0_col3, #T_6e6fb_row1_col1, #T_6e6fb_row1_col2, #T_6e6fb_row1_col3, #T_6e6fb_row2_col1, #T_6e6fb_row2_col2, #T_6e6fb_row2_col3 {\n",
       "  background-color: #023858;\n",
       "  color: #f1f1f1;\n",
       "}\n",
       "#T_6e6fb_row0_col4, #T_6e6fb_row1_col4, #T_6e6fb_row2_col4 {\n",
       "  background-color: #02395a;\n",
       "  color: #f1f1f1;\n",
       "}\n",
       "#T_6e6fb_row0_col5, #T_6e6fb_row1_col5, #T_6e6fb_row2_col5 {\n",
       "  background-color: #023f64;\n",
       "  color: #f1f1f1;\n",
       "}\n",
       "#T_6e6fb_row0_col6, #T_6e6fb_row1_col6, #T_6e6fb_row2_col6 {\n",
       "  background-color: #034973;\n",
       "  color: #f1f1f1;\n",
       "}\n",
       "#T_6e6fb_row0_col7, #T_6e6fb_row1_col7, #T_6e6fb_row2_col7 {\n",
       "  background-color: #045d92;\n",
       "  color: #f1f1f1;\n",
       "}\n",
       "#T_6e6fb_row0_col8, #T_6e6fb_row1_col8, #T_6e6fb_row2_col8 {\n",
       "  background-color: #1278b4;\n",
       "  color: #f1f1f1;\n",
       "}\n",
       "#T_6e6fb_row0_col9, #T_6e6fb_row1_col9, #T_6e6fb_row2_col9 {\n",
       "  background-color: #63a2cb;\n",
       "  color: #f1f1f1;\n",
       "}\n",
       "#T_6e6fb_row0_col10, #T_6e6fb_row1_col10, #T_6e6fb_row2_col10 {\n",
       "  background-color: #c6cce3;\n",
       "  color: #000000;\n",
       "}\n",
       "#T_6e6fb_row0_col11, #T_6e6fb_row1_col11, #T_6e6fb_row2_col11 {\n",
       "  background-color: #fff7fb;\n",
       "  color: #000000;\n",
       "}\n",
       "</style>\n",
       "<table id=\"T_6e6fb\">\n",
       "  <thead>\n",
       "    <tr>\n",
       "      <th class=\"blank level0\" >&nbsp;</th>\n",
       "      <th id=\"T_6e6fb_level0_col0\" class=\"col_heading level0 col0\" >all</th>\n",
       "      <th id=\"T_6e6fb_level0_col1\" class=\"col_heading level0 col1\" >0.3</th>\n",
       "      <th id=\"T_6e6fb_level0_col2\" class=\"col_heading level0 col2\" >0.35</th>\n",
       "      <th id=\"T_6e6fb_level0_col3\" class=\"col_heading level0 col3\" >0.4</th>\n",
       "      <th id=\"T_6e6fb_level0_col4\" class=\"col_heading level0 col4\" >0.45</th>\n",
       "      <th id=\"T_6e6fb_level0_col5\" class=\"col_heading level0 col5\" >0.5</th>\n",
       "      <th id=\"T_6e6fb_level0_col6\" class=\"col_heading level0 col6\" >0.55</th>\n",
       "      <th id=\"T_6e6fb_level0_col7\" class=\"col_heading level0 col7\" >0.6</th>\n",
       "      <th id=\"T_6e6fb_level0_col8\" class=\"col_heading level0 col8\" >0.65</th>\n",
       "      <th id=\"T_6e6fb_level0_col9\" class=\"col_heading level0 col9\" >0.7</th>\n",
       "      <th id=\"T_6e6fb_level0_col10\" class=\"col_heading level0 col10\" >0.75</th>\n",
       "      <th id=\"T_6e6fb_level0_col11\" class=\"col_heading level0 col11\" >0.8</th>\n",
       "    </tr>\n",
       "  </thead>\n",
       "  <tbody>\n",
       "    <tr>\n",
       "      <th id=\"T_6e6fb_level0_row0\" class=\"row_heading level0 row0\" >f2</th>\n",
       "      <td id=\"T_6e6fb_row0_col0\" class=\"data row0 col0\" >0.638</td>\n",
       "      <td id=\"T_6e6fb_row0_col1\" class=\"data row0 col1\" >0.759</td>\n",
       "      <td id=\"T_6e6fb_row0_col2\" class=\"data row0 col2\" >0.759</td>\n",
       "      <td id=\"T_6e6fb_row0_col3\" class=\"data row0 col3\" >0.759</td>\n",
       "      <td id=\"T_6e6fb_row0_col4\" class=\"data row0 col4\" >0.757</td>\n",
       "      <td id=\"T_6e6fb_row0_col5\" class=\"data row0 col5\" >0.745</td>\n",
       "      <td id=\"T_6e6fb_row0_col6\" class=\"data row0 col6\" >0.727</td>\n",
       "      <td id=\"T_6e6fb_row0_col7\" class=\"data row0 col7\" >0.689</td>\n",
       "      <td id=\"T_6e6fb_row0_col8\" class=\"data row0 col8\" >0.620</td>\n",
       "      <td id=\"T_6e6fb_row0_col9\" class=\"data row0 col9\" >0.530</td>\n",
       "      <td id=\"T_6e6fb_row0_col10\" class=\"data row0 col10\" >0.405</td>\n",
       "      <td id=\"T_6e6fb_row0_col11\" class=\"data row0 col11\" >0.267</td>\n",
       "    </tr>\n",
       "    <tr>\n",
       "      <th id=\"T_6e6fb_level0_row1\" class=\"row_heading level0 row1\" >P</th>\n",
       "      <td id=\"T_6e6fb_row1_col0\" class=\"data row1 col0\" >0.665</td>\n",
       "      <td id=\"T_6e6fb_row1_col1\" class=\"data row1 col1\" >0.792</td>\n",
       "      <td id=\"T_6e6fb_row1_col2\" class=\"data row1 col2\" >0.792</td>\n",
       "      <td id=\"T_6e6fb_row1_col3\" class=\"data row1 col3\" >0.792</td>\n",
       "      <td id=\"T_6e6fb_row1_col4\" class=\"data row1 col4\" >0.789</td>\n",
       "      <td id=\"T_6e6fb_row1_col5\" class=\"data row1 col5\" >0.777</td>\n",
       "      <td id=\"T_6e6fb_row1_col6\" class=\"data row1 col6\" >0.758</td>\n",
       "      <td id=\"T_6e6fb_row1_col7\" class=\"data row1 col7\" >0.719</td>\n",
       "      <td id=\"T_6e6fb_row1_col8\" class=\"data row1 col8\" >0.647</td>\n",
       "      <td id=\"T_6e6fb_row1_col9\" class=\"data row1 col9\" >0.553</td>\n",
       "      <td id=\"T_6e6fb_row1_col10\" class=\"data row1 col10\" >0.422</td>\n",
       "      <td id=\"T_6e6fb_row1_col11\" class=\"data row1 col11\" >0.278</td>\n",
       "    </tr>\n",
       "    <tr>\n",
       "      <th id=\"T_6e6fb_level0_row2\" class=\"row_heading level0 row2\" >R</th>\n",
       "      <td id=\"T_6e6fb_row2_col0\" class=\"data row2 col0\" >0.631</td>\n",
       "      <td id=\"T_6e6fb_row2_col1\" class=\"data row2 col1\" >0.751</td>\n",
       "      <td id=\"T_6e6fb_row2_col2\" class=\"data row2 col2\" >0.751</td>\n",
       "      <td id=\"T_6e6fb_row2_col3\" class=\"data row2 col3\" >0.751</td>\n",
       "      <td id=\"T_6e6fb_row2_col4\" class=\"data row2 col4\" >0.749</td>\n",
       "      <td id=\"T_6e6fb_row2_col5\" class=\"data row2 col5\" >0.737</td>\n",
       "      <td id=\"T_6e6fb_row2_col6\" class=\"data row2 col6\" >0.719</td>\n",
       "      <td id=\"T_6e6fb_row2_col7\" class=\"data row2 col7\" >0.682</td>\n",
       "      <td id=\"T_6e6fb_row2_col8\" class=\"data row2 col8\" >0.614</td>\n",
       "      <td id=\"T_6e6fb_row2_col9\" class=\"data row2 col9\" >0.525</td>\n",
       "      <td id=\"T_6e6fb_row2_col10\" class=\"data row2 col10\" >0.401</td>\n",
       "      <td id=\"T_6e6fb_row2_col11\" class=\"data row2 col11\" >0.264</td>\n",
       "    </tr>\n",
       "  </tbody>\n",
       "</table>\n"
      ],
      "text/plain": [
       "<pandas.io.formats.style.Styler at 0x7f6081e43ac0>"
      ]
     },
     "metadata": {},
     "output_type": "display_data"
    }
   ],
   "source": [
    "df_perf_dict = {model_version: pd.DataFrame(columns=[\"all\"] + [str(round(th,3)) for th in np.arange(0.3, 0.85, 0.05)]).copy() for model_version in model_versions}\n",
    "fold = 1\n",
    "for model_version in model_versions:\n",
    "    pred_col = \"pred_\" + model_version + f\"_fold{fold}\"\n",
    "    conf_th = best_conf_dict[model_version]\n",
    "    prd_bboxs_list = []\n",
    "    for index in df_oof.index:\n",
    "        prd_bboxs = df_oof.loc[index, pred_col]\n",
    "        prd_bboxs = [p for p in prd_bboxs if p[0] >= conf_th]\n",
    "        prd_bboxs_list.append(np.array(prd_bboxs))\n",
    "    f2_dict = util.calc_f2_score(gt_bboxs_list, prd_bboxs_list, verbose=False)    \n",
    "    df_perf_dict[model_version].loc[\"f2\",:] = [f2_dict[col] for col in f_cols]\n",
    "    df_perf_dict[model_version].loc[\"P\",:] = [f2_dict[col] for col in P_cols]\n",
    "    df_perf_dict[model_version].loc[\"R\",:] = [f2_dict[col] for col in R_cols]\n",
    "    print(\"model {}, conf_th {:.2f}, f2 {:.3f}, precision {:.3f}, recall {:.3f}\".format(model_version, conf_th, f2_dict['f2'], f2_dict['P'], f2_dict['R']))\n",
    "    display(df_perf_dict[model_version].astype(float).style.format(\"{:.3f}\").background_gradient(axis=1))"
   ]
  },
  {
   "cell_type": "markdown",
   "id": "d078dcf1",
   "metadata": {},
   "source": [
    "# Tracking"
   ]
  },
  {
   "cell_type": "code",
   "execution_count": 11,
   "id": "15b1dc28",
   "metadata": {
    "ExecuteTime": {
     "end_time": "2022-01-30T13:03:26.472044Z",
     "start_time": "2022-01-30T13:03:26.422125Z"
    }
   },
   "outputs": [],
   "source": [
    "from norfair import Detection, Tracker\n",
    "\n",
    "# Helper to convert bbox in format [x_min, y_min, x_max, y_max, score] to norfair.Detection class\n",
    "def to_norfair(detects, frame_id):\n",
    "    result = []\n",
    "    for x_min, y_min, x_max, y_max, score in detects:\n",
    "        xc, yc = (x_min + x_max) / 2, (y_min + y_max) / 2\n",
    "        w, h = x_max - x_min, y_max - y_min\n",
    "        result.append(Detection(points=np.array([xc, yc]), scores=np.array([score]), data=np.array([w, h, frame_id])))\n",
    "        \n",
    "    return result\n",
    "\n",
    "def euclidean_distance(detection, tracked_object):\n",
    "    return np.linalg.norm(detection.points - tracked_object.estimate)\n",
    "\n",
    "def tracking_function(tracker, frame_id, bboxes, scores, best_conf):\n",
    "    \n",
    "    detects = []\n",
    "    predictions = []\n",
    "    \n",
    "    if len(scores)>0:\n",
    "        for i in range(len(bboxes)):\n",
    "            # remember to check\n",
    "            if scores[i] <= best_conf:\n",
    "                continue\n",
    "            box = bboxes[i]\n",
    "            score = scores[i]\n",
    "            x_min = int(box[0])\n",
    "            y_min = int(box[1])\n",
    "            bbox_width = int(box[2])\n",
    "            bbox_height = int(box[3])\n",
    "            detects.append([x_min, y_min, x_min+bbox_width, y_min+bbox_height, score])\n",
    "            predictions.append('{:.2f} {} {} {} {}'.format(score, x_min, y_min, bbox_width, bbox_height))\n",
    "#             print(predictions[:-1])\n",
    "    # Update tracks using detects from current frame\n",
    "    tracked_objects = tracker.update(detections=to_norfair(detects, frame_id))\n",
    "    for tobj in tracked_objects:\n",
    "        bbox_width, bbox_height, last_detected_frame_id = tobj.last_detection.data\n",
    "        if last_detected_frame_id == frame_id:  # Skip objects that were detected on current frame\n",
    "            continue\n",
    "        # Add objects that have no detections on current frame to predictions\n",
    "        xc, yc = tobj.estimate[0]\n",
    "        x_min, y_min = int(round(xc - bbox_width / 2)), int(round(yc - bbox_height / 2))\n",
    "        \n",
    "        #exclude those in the edge\n",
    "        if (x_min + bbox_width >= 1280) or (y_min + bbox_height) >= 720 or (x_min <= 0) or (y_min <= 0):\n",
    "            continue\n",
    "        score = tobj.last_detection.scores[0]\n",
    "\n",
    "        predictions.append('{:.2f} {} {} {} {}'.format(score, x_min, y_min, bbox_width, bbox_height))\n",
    "        \n",
    "    return predictions"
   ]
  },
  {
   "cell_type": "code",
   "execution_count": 12,
   "id": "37c7fcd9",
   "metadata": {
    "ExecuteTime": {
     "end_time": "2022-01-30T13:03:38.638399Z",
     "start_time": "2022-01-30T13:03:26.472751Z"
    }
   },
   "outputs": [
    {
     "name": "stdout",
     "output_type": "stream",
     "text": [
      "Using Tracking new: model 0128_yolov5l_v3, conf_th 0.25, f2 0.653, precision 0.519, recall 0.698\n"
     ]
    },
    {
     "data": {
      "text/html": [
       "<style type=\"text/css\">\n",
       "#T_7333b_row0_col0, #T_7333b_row1_col0, #T_7333b_row2_col0 {\n",
       "  background-color: #056caa;\n",
       "  color: #f1f1f1;\n",
       "}\n",
       "#T_7333b_row0_col1, #T_7333b_row1_col1, #T_7333b_row2_col1 {\n",
       "  background-color: #023858;\n",
       "  color: #f1f1f1;\n",
       "}\n",
       "#T_7333b_row0_col2, #T_7333b_row0_col3, #T_7333b_row1_col2, #T_7333b_row1_col3, #T_7333b_row2_col2, #T_7333b_row2_col3 {\n",
       "  background-color: #02395a;\n",
       "  color: #f1f1f1;\n",
       "}\n",
       "#T_7333b_row0_col4, #T_7333b_row1_col4, #T_7333b_row2_col4 {\n",
       "  background-color: #023a5b;\n",
       "  color: #f1f1f1;\n",
       "}\n",
       "#T_7333b_row0_col5, #T_7333b_row1_col5, #T_7333b_row2_col5 {\n",
       "  background-color: #023e62;\n",
       "  color: #f1f1f1;\n",
       "}\n",
       "#T_7333b_row0_col6, #T_7333b_row1_col6, #T_7333b_row2_col6 {\n",
       "  background-color: #034871;\n",
       "  color: #f1f1f1;\n",
       "}\n",
       "#T_7333b_row0_col7, #T_7333b_row1_col7, #T_7333b_row2_col7 {\n",
       "  background-color: #045280;\n",
       "  color: #f1f1f1;\n",
       "}\n",
       "#T_7333b_row0_col8, #T_7333b_row1_col8, #T_7333b_row2_col8 {\n",
       "  background-color: #0568a3;\n",
       "  color: #f1f1f1;\n",
       "}\n",
       "#T_7333b_row0_col9, #T_7333b_row1_col9, #T_7333b_row2_col9 {\n",
       "  background-color: #4496c3;\n",
       "  color: #f1f1f1;\n",
       "}\n",
       "#T_7333b_row0_col10, #T_7333b_row1_col10, #T_7333b_row2_col10 {\n",
       "  background-color: #c2cbe2;\n",
       "  color: #000000;\n",
       "}\n",
       "#T_7333b_row0_col11, #T_7333b_row1_col11, #T_7333b_row2_col11 {\n",
       "  background-color: #fff7fb;\n",
       "  color: #000000;\n",
       "}\n",
       "</style>\n",
       "<table id=\"T_7333b\">\n",
       "  <thead>\n",
       "    <tr>\n",
       "      <th class=\"blank level0\" >&nbsp;</th>\n",
       "      <th id=\"T_7333b_level0_col0\" class=\"col_heading level0 col0\" >all</th>\n",
       "      <th id=\"T_7333b_level0_col1\" class=\"col_heading level0 col1\" >0.3</th>\n",
       "      <th id=\"T_7333b_level0_col2\" class=\"col_heading level0 col2\" >0.35</th>\n",
       "      <th id=\"T_7333b_level0_col3\" class=\"col_heading level0 col3\" >0.4</th>\n",
       "      <th id=\"T_7333b_level0_col4\" class=\"col_heading level0 col4\" >0.45</th>\n",
       "      <th id=\"T_7333b_level0_col5\" class=\"col_heading level0 col5\" >0.5</th>\n",
       "      <th id=\"T_7333b_level0_col6\" class=\"col_heading level0 col6\" >0.55</th>\n",
       "      <th id=\"T_7333b_level0_col7\" class=\"col_heading level0 col7\" >0.6</th>\n",
       "      <th id=\"T_7333b_level0_col8\" class=\"col_heading level0 col8\" >0.65</th>\n",
       "      <th id=\"T_7333b_level0_col9\" class=\"col_heading level0 col9\" >0.7</th>\n",
       "      <th id=\"T_7333b_level0_col10\" class=\"col_heading level0 col10\" >0.75</th>\n",
       "      <th id=\"T_7333b_level0_col11\" class=\"col_heading level0 col11\" >0.8</th>\n",
       "    </tr>\n",
       "  </thead>\n",
       "  <tbody>\n",
       "    <tr>\n",
       "      <th id=\"T_7333b_level0_row0\" class=\"row_heading level0 row0\" >f2</th>\n",
       "      <td id=\"T_7333b_row0_col0\" class=\"data row0 col0\" >0.653</td>\n",
       "      <td id=\"T_7333b_row0_col1\" class=\"data row0 col1\" >0.762</td>\n",
       "      <td id=\"T_7333b_row0_col2\" class=\"data row0 col2\" >0.760</td>\n",
       "      <td id=\"T_7333b_row0_col3\" class=\"data row0 col3\" >0.759</td>\n",
       "      <td id=\"T_7333b_row0_col4\" class=\"data row0 col4\" >0.757</td>\n",
       "      <td id=\"T_7333b_row0_col5\" class=\"data row0 col5\" >0.751</td>\n",
       "      <td id=\"T_7333b_row0_col6\" class=\"data row0 col6\" >0.734</td>\n",
       "      <td id=\"T_7333b_row0_col7\" class=\"data row0 col7\" >0.716</td>\n",
       "      <td id=\"T_7333b_row0_col8\" class=\"data row0 col8\" >0.664</td>\n",
       "      <td id=\"T_7333b_row0_col9\" class=\"data row0 col9\" >0.570</td>\n",
       "      <td id=\"T_7333b_row0_col10\" class=\"data row0 col10\" >0.425</td>\n",
       "      <td id=\"T_7333b_row0_col11\" class=\"data row0 col11\" >0.286</td>\n",
       "    </tr>\n",
       "    <tr>\n",
       "      <th id=\"T_7333b_level0_row1\" class=\"row_heading level0 row1\" >P</th>\n",
       "      <td id=\"T_7333b_row1_col0\" class=\"data row1 col0\" >0.519</td>\n",
       "      <td id=\"T_7333b_row1_col1\" class=\"data row1 col1\" >0.606</td>\n",
       "      <td id=\"T_7333b_row1_col2\" class=\"data row1 col2\" >0.604</td>\n",
       "      <td id=\"T_7333b_row1_col3\" class=\"data row1 col3\" >0.603</td>\n",
       "      <td id=\"T_7333b_row1_col4\" class=\"data row1 col4\" >0.602</td>\n",
       "      <td id=\"T_7333b_row1_col5\" class=\"data row1 col5\" >0.597</td>\n",
       "      <td id=\"T_7333b_row1_col6\" class=\"data row1 col6\" >0.584</td>\n",
       "      <td id=\"T_7333b_row1_col7\" class=\"data row1 col7\" >0.569</td>\n",
       "      <td id=\"T_7333b_row1_col8\" class=\"data row1 col8\" >0.528</td>\n",
       "      <td id=\"T_7333b_row1_col9\" class=\"data row1 col9\" >0.453</td>\n",
       "      <td id=\"T_7333b_row1_col10\" class=\"data row1 col10\" >0.338</td>\n",
       "      <td id=\"T_7333b_row1_col11\" class=\"data row1 col11\" >0.228</td>\n",
       "    </tr>\n",
       "    <tr>\n",
       "      <th id=\"T_7333b_level0_row2\" class=\"row_heading level0 row2\" >R</th>\n",
       "      <td id=\"T_7333b_row2_col0\" class=\"data row2 col0\" >0.698</td>\n",
       "      <td id=\"T_7333b_row2_col1\" class=\"data row2 col1\" >0.815</td>\n",
       "      <td id=\"T_7333b_row2_col2\" class=\"data row2 col2\" >0.812</td>\n",
       "      <td id=\"T_7333b_row2_col3\" class=\"data row2 col3\" >0.811</td>\n",
       "      <td id=\"T_7333b_row2_col4\" class=\"data row2 col4\" >0.809</td>\n",
       "      <td id=\"T_7333b_row2_col5\" class=\"data row2 col5\" >0.803</td>\n",
       "      <td id=\"T_7333b_row2_col6\" class=\"data row2 col6\" >0.785</td>\n",
       "      <td id=\"T_7333b_row2_col7\" class=\"data row2 col7\" >0.765</td>\n",
       "      <td id=\"T_7333b_row2_col8\" class=\"data row2 col8\" >0.710</td>\n",
       "      <td id=\"T_7333b_row2_col9\" class=\"data row2 col9\" >0.610</td>\n",
       "      <td id=\"T_7333b_row2_col10\" class=\"data row2 col10\" >0.454</td>\n",
       "      <td id=\"T_7333b_row2_col11\" class=\"data row2 col11\" >0.306</td>\n",
       "    </tr>\n",
       "  </tbody>\n",
       "</table>\n"
      ],
      "text/plain": [
       "<pandas.io.formats.style.Styler at 0x7f6080c26100>"
      ]
     },
     "metadata": {},
     "output_type": "display_data"
    },
    {
     "name": "stdout",
     "output_type": "stream",
     "text": [
      "Using Tracking new: model 0128_yolov5l_v3_highFP, conf_th 0.25, f2 0.655, precision 0.660, recall 0.653\n"
     ]
    },
    {
     "data": {
      "text/html": [
       "<style type=\"text/css\">\n",
       "#T_04944_row0_col0, #T_04944_row0_col8, #T_04944_row1_col0, #T_04944_row1_col8, #T_04944_row2_col0, #T_04944_row2_col8 {\n",
       "  background-color: #056dac;\n",
       "  color: #f1f1f1;\n",
       "}\n",
       "#T_04944_row0_col1, #T_04944_row0_col2, #T_04944_row1_col1, #T_04944_row1_col2, #T_04944_row2_col1, #T_04944_row2_col2 {\n",
       "  background-color: #023858;\n",
       "  color: #f1f1f1;\n",
       "}\n",
       "#T_04944_row0_col3, #T_04944_row1_col3, #T_04944_row2_col3 {\n",
       "  background-color: #02395a;\n",
       "  color: #f1f1f1;\n",
       "}\n",
       "#T_04944_row0_col4, #T_04944_row1_col4, #T_04944_row2_col4 {\n",
       "  background-color: #023d60;\n",
       "  color: #f1f1f1;\n",
       "}\n",
       "#T_04944_row0_col5, #T_04944_row1_col5, #T_04944_row2_col5 {\n",
       "  background-color: #034369;\n",
       "  color: #f1f1f1;\n",
       "}\n",
       "#T_04944_row0_col6, #T_04944_row1_col6, #T_04944_row2_col6 {\n",
       "  background-color: #034a74;\n",
       "  color: #f1f1f1;\n",
       "}\n",
       "#T_04944_row0_col7, #T_04944_row1_col7, #T_04944_row2_col7 {\n",
       "  background-color: #04598c;\n",
       "  color: #f1f1f1;\n",
       "}\n",
       "#T_04944_row0_col9, #T_04944_row1_col9, #T_04944_row2_col9 {\n",
       "  background-color: #4a98c5;\n",
       "  color: #f1f1f1;\n",
       "}\n",
       "#T_04944_row0_col10, #T_04944_row1_col10, #T_04944_row2_col10 {\n",
       "  background-color: #bdc8e1;\n",
       "  color: #000000;\n",
       "}\n",
       "#T_04944_row0_col11, #T_04944_row1_col11, #T_04944_row2_col11 {\n",
       "  background-color: #fff7fb;\n",
       "  color: #000000;\n",
       "}\n",
       "</style>\n",
       "<table id=\"T_04944\">\n",
       "  <thead>\n",
       "    <tr>\n",
       "      <th class=\"blank level0\" >&nbsp;</th>\n",
       "      <th id=\"T_04944_level0_col0\" class=\"col_heading level0 col0\" >all</th>\n",
       "      <th id=\"T_04944_level0_col1\" class=\"col_heading level0 col1\" >0.3</th>\n",
       "      <th id=\"T_04944_level0_col2\" class=\"col_heading level0 col2\" >0.35</th>\n",
       "      <th id=\"T_04944_level0_col3\" class=\"col_heading level0 col3\" >0.4</th>\n",
       "      <th id=\"T_04944_level0_col4\" class=\"col_heading level0 col4\" >0.45</th>\n",
       "      <th id=\"T_04944_level0_col5\" class=\"col_heading level0 col5\" >0.5</th>\n",
       "      <th id=\"T_04944_level0_col6\" class=\"col_heading level0 col6\" >0.55</th>\n",
       "      <th id=\"T_04944_level0_col7\" class=\"col_heading level0 col7\" >0.6</th>\n",
       "      <th id=\"T_04944_level0_col8\" class=\"col_heading level0 col8\" >0.65</th>\n",
       "      <th id=\"T_04944_level0_col9\" class=\"col_heading level0 col9\" >0.7</th>\n",
       "      <th id=\"T_04944_level0_col10\" class=\"col_heading level0 col10\" >0.75</th>\n",
       "      <th id=\"T_04944_level0_col11\" class=\"col_heading level0 col11\" >0.8</th>\n",
       "    </tr>\n",
       "  </thead>\n",
       "  <tbody>\n",
       "    <tr>\n",
       "      <th id=\"T_04944_level0_row0\" class=\"row_heading level0 row0\" >f2</th>\n",
       "      <td id=\"T_04944_row0_col0\" class=\"data row0 col0\" >0.655</td>\n",
       "      <td id=\"T_04944_row0_col1\" class=\"data row0 col1\" >0.762</td>\n",
       "      <td id=\"T_04944_row0_col2\" class=\"data row0 col2\" >0.761</td>\n",
       "      <td id=\"T_04944_row0_col3\" class=\"data row0 col3\" >0.759</td>\n",
       "      <td id=\"T_04944_row0_col4\" class=\"data row0 col4\" >0.753</td>\n",
       "      <td id=\"T_04944_row0_col5\" class=\"data row0 col5\" >0.743</td>\n",
       "      <td id=\"T_04944_row0_col6\" class=\"data row0 col6\" >0.731</td>\n",
       "      <td id=\"T_04944_row0_col7\" class=\"data row0 col7\" >0.707</td>\n",
       "      <td id=\"T_04944_row0_col8\" class=\"data row0 col8\" >0.654</td>\n",
       "      <td id=\"T_04944_row0_col9\" class=\"data row0 col9\" >0.574</td>\n",
       "      <td id=\"T_04944_row0_col10\" class=\"data row0 col10\" >0.448</td>\n",
       "      <td id=\"T_04944_row0_col11\" class=\"data row0 col11\" >0.309</td>\n",
       "    </tr>\n",
       "    <tr>\n",
       "      <th id=\"T_04944_level0_row1\" class=\"row_heading level0 row1\" >P</th>\n",
       "      <td id=\"T_04944_row1_col0\" class=\"data row1 col0\" >0.660</td>\n",
       "      <td id=\"T_04944_row1_col1\" class=\"data row1 col1\" >0.769</td>\n",
       "      <td id=\"T_04944_row1_col2\" class=\"data row1 col2\" >0.767</td>\n",
       "      <td id=\"T_04944_row1_col3\" class=\"data row1 col3\" >0.766</td>\n",
       "      <td id=\"T_04944_row1_col4\" class=\"data row1 col4\" >0.760</td>\n",
       "      <td id=\"T_04944_row1_col5\" class=\"data row1 col5\" >0.750</td>\n",
       "      <td id=\"T_04944_row1_col6\" class=\"data row1 col6\" >0.738</td>\n",
       "      <td id=\"T_04944_row1_col7\" class=\"data row1 col7\" >0.713</td>\n",
       "      <td id=\"T_04944_row1_col8\" class=\"data row1 col8\" >0.660</td>\n",
       "      <td id=\"T_04944_row1_col9\" class=\"data row1 col9\" >0.579</td>\n",
       "      <td id=\"T_04944_row1_col10\" class=\"data row1 col10\" >0.452</td>\n",
       "      <td id=\"T_04944_row1_col11\" class=\"data row1 col11\" >0.311</td>\n",
       "    </tr>\n",
       "    <tr>\n",
       "      <th id=\"T_04944_level0_row2\" class=\"row_heading level0 row2\" >R</th>\n",
       "      <td id=\"T_04944_row2_col0\" class=\"data row2 col0\" >0.653</td>\n",
       "      <td id=\"T_04944_row2_col1\" class=\"data row2 col1\" >0.760</td>\n",
       "      <td id=\"T_04944_row2_col2\" class=\"data row2 col2\" >0.759</td>\n",
       "      <td id=\"T_04944_row2_col3\" class=\"data row2 col3\" >0.757</td>\n",
       "      <td id=\"T_04944_row2_col4\" class=\"data row2 col4\" >0.751</td>\n",
       "      <td id=\"T_04944_row2_col5\" class=\"data row2 col5\" >0.742</td>\n",
       "      <td id=\"T_04944_row2_col6\" class=\"data row2 col6\" >0.730</td>\n",
       "      <td id=\"T_04944_row2_col7\" class=\"data row2 col7\" >0.705</td>\n",
       "      <td id=\"T_04944_row2_col8\" class=\"data row2 col8\" >0.653</td>\n",
       "      <td id=\"T_04944_row2_col9\" class=\"data row2 col9\" >0.573</td>\n",
       "      <td id=\"T_04944_row2_col10\" class=\"data row2 col10\" >0.447</td>\n",
       "      <td id=\"T_04944_row2_col11\" class=\"data row2 col11\" >0.308</td>\n",
       "    </tr>\n",
       "  </tbody>\n",
       "</table>\n"
      ],
      "text/plain": [
       "<pandas.io.formats.style.Styler at 0x7f60843ecb50>"
      ]
     },
     "metadata": {},
     "output_type": "display_data"
    },
    {
     "name": "stdout",
     "output_type": "stream",
     "text": [
      "Using Tracking new: model 0129_yolov5l_v3_highFP_1800_e11, conf_th 0.16, f2 0.659, precision 0.588, recall 0.679\n"
     ]
    },
    {
     "data": {
      "text/html": [
       "<style type=\"text/css\">\n",
       "#T_48fa4_row0_col0, #T_48fa4_row1_col0, #T_48fa4_row2_col0 {\n",
       "  background-color: #0a73b2;\n",
       "  color: #f1f1f1;\n",
       "}\n",
       "#T_48fa4_row0_col1, #T_48fa4_row1_col1, #T_48fa4_row2_col1 {\n",
       "  background-color: #023858;\n",
       "  color: #f1f1f1;\n",
       "}\n",
       "#T_48fa4_row0_col2, #T_48fa4_row1_col2, #T_48fa4_row2_col2 {\n",
       "  background-color: #02395a;\n",
       "  color: #f1f1f1;\n",
       "}\n",
       "#T_48fa4_row0_col3, #T_48fa4_row1_col3, #T_48fa4_row2_col3 {\n",
       "  background-color: #023b5d;\n",
       "  color: #f1f1f1;\n",
       "}\n",
       "#T_48fa4_row0_col4, #T_48fa4_row1_col4, #T_48fa4_row2_col4 {\n",
       "  background-color: #023f64;\n",
       "  color: #f1f1f1;\n",
       "}\n",
       "#T_48fa4_row0_col5, #T_48fa4_row1_col5, #T_48fa4_row2_col5 {\n",
       "  background-color: #03466e;\n",
       "  color: #f1f1f1;\n",
       "}\n",
       "#T_48fa4_row0_col6, #T_48fa4_row1_col6, #T_48fa4_row2_col6 {\n",
       "  background-color: #045483;\n",
       "  color: #f1f1f1;\n",
       "}\n",
       "#T_48fa4_row0_col7, #T_48fa4_row1_col7, #T_48fa4_row2_col7 {\n",
       "  background-color: #0566a0;\n",
       "  color: #f1f1f1;\n",
       "}\n",
       "#T_48fa4_row0_col8, #T_48fa4_row1_col8, #T_48fa4_row2_col8 {\n",
       "  background-color: #1c7fb8;\n",
       "  color: #f1f1f1;\n",
       "}\n",
       "#T_48fa4_row0_col9, #T_48fa4_row1_col9, #T_48fa4_row2_col9 {\n",
       "  background-color: #6ba5cd;\n",
       "  color: #f1f1f1;\n",
       "}\n",
       "#T_48fa4_row0_col10, #T_48fa4_row1_col10, #T_48fa4_row2_col10 {\n",
       "  background-color: #c1cae2;\n",
       "  color: #000000;\n",
       "}\n",
       "#T_48fa4_row0_col11, #T_48fa4_row1_col11, #T_48fa4_row2_col11 {\n",
       "  background-color: #fff7fb;\n",
       "  color: #000000;\n",
       "}\n",
       "</style>\n",
       "<table id=\"T_48fa4\">\n",
       "  <thead>\n",
       "    <tr>\n",
       "      <th class=\"blank level0\" >&nbsp;</th>\n",
       "      <th id=\"T_48fa4_level0_col0\" class=\"col_heading level0 col0\" >all</th>\n",
       "      <th id=\"T_48fa4_level0_col1\" class=\"col_heading level0 col1\" >0.3</th>\n",
       "      <th id=\"T_48fa4_level0_col2\" class=\"col_heading level0 col2\" >0.35</th>\n",
       "      <th id=\"T_48fa4_level0_col3\" class=\"col_heading level0 col3\" >0.4</th>\n",
       "      <th id=\"T_48fa4_level0_col4\" class=\"col_heading level0 col4\" >0.45</th>\n",
       "      <th id=\"T_48fa4_level0_col5\" class=\"col_heading level0 col5\" >0.5</th>\n",
       "      <th id=\"T_48fa4_level0_col6\" class=\"col_heading level0 col6\" >0.55</th>\n",
       "      <th id=\"T_48fa4_level0_col7\" class=\"col_heading level0 col7\" >0.6</th>\n",
       "      <th id=\"T_48fa4_level0_col8\" class=\"col_heading level0 col8\" >0.65</th>\n",
       "      <th id=\"T_48fa4_level0_col9\" class=\"col_heading level0 col9\" >0.7</th>\n",
       "      <th id=\"T_48fa4_level0_col10\" class=\"col_heading level0 col10\" >0.75</th>\n",
       "      <th id=\"T_48fa4_level0_col11\" class=\"col_heading level0 col11\" >0.8</th>\n",
       "    </tr>\n",
       "  </thead>\n",
       "  <tbody>\n",
       "    <tr>\n",
       "      <th id=\"T_48fa4_level0_row0\" class=\"row_heading level0 row0\" >f2</th>\n",
       "      <td id=\"T_48fa4_row0_col0\" class=\"data row0 col0\" >0.659</td>\n",
       "      <td id=\"T_48fa4_row0_col1\" class=\"data row0 col1\" >0.798</td>\n",
       "      <td id=\"T_48fa4_row0_col2\" class=\"data row0 col2\" >0.794</td>\n",
       "      <td id=\"T_48fa4_row0_col3\" class=\"data row0 col3\" >0.791</td>\n",
       "      <td id=\"T_48fa4_row0_col4\" class=\"data row0 col4\" >0.783</td>\n",
       "      <td id=\"T_48fa4_row0_col5\" class=\"data row0 col5\" >0.771</td>\n",
       "      <td id=\"T_48fa4_row0_col6\" class=\"data row0 col6\" >0.744</td>\n",
       "      <td id=\"T_48fa4_row0_col7\" class=\"data row0 col7\" >0.695</td>\n",
       "      <td id=\"T_48fa4_row0_col8\" class=\"data row0 col8\" >0.635</td>\n",
       "      <td id=\"T_48fa4_row0_col9\" class=\"data row0 col9\" >0.543</td>\n",
       "      <td id=\"T_48fa4_row0_col10\" class=\"data row0 col10\" >0.425</td>\n",
       "      <td id=\"T_48fa4_row0_col11\" class=\"data row0 col11\" >0.268</td>\n",
       "    </tr>\n",
       "    <tr>\n",
       "      <th id=\"T_48fa4_level0_row1\" class=\"row_heading level0 row1\" >P</th>\n",
       "      <td id=\"T_48fa4_row1_col0\" class=\"data row1 col0\" >0.588</td>\n",
       "      <td id=\"T_48fa4_row1_col1\" class=\"data row1 col1\" >0.712</td>\n",
       "      <td id=\"T_48fa4_row1_col2\" class=\"data row1 col2\" >0.709</td>\n",
       "      <td id=\"T_48fa4_row1_col3\" class=\"data row1 col3\" >0.706</td>\n",
       "      <td id=\"T_48fa4_row1_col4\" class=\"data row1 col4\" >0.699</td>\n",
       "      <td id=\"T_48fa4_row1_col5\" class=\"data row1 col5\" >0.688</td>\n",
       "      <td id=\"T_48fa4_row1_col6\" class=\"data row1 col6\" >0.664</td>\n",
       "      <td id=\"T_48fa4_row1_col7\" class=\"data row1 col7\" >0.620</td>\n",
       "      <td id=\"T_48fa4_row1_col8\" class=\"data row1 col8\" >0.566</td>\n",
       "      <td id=\"T_48fa4_row1_col9\" class=\"data row1 col9\" >0.484</td>\n",
       "      <td id=\"T_48fa4_row1_col10\" class=\"data row1 col10\" >0.379</td>\n",
       "      <td id=\"T_48fa4_row1_col11\" class=\"data row1 col11\" >0.239</td>\n",
       "    </tr>\n",
       "    <tr>\n",
       "      <th id=\"T_48fa4_level0_row2\" class=\"row_heading level0 row2\" >R</th>\n",
       "      <td id=\"T_48fa4_row2_col0\" class=\"data row2 col0\" >0.679</td>\n",
       "      <td id=\"T_48fa4_row2_col1\" class=\"data row2 col1\" >0.823</td>\n",
       "      <td id=\"T_48fa4_row2_col2\" class=\"data row2 col2\" >0.819</td>\n",
       "      <td id=\"T_48fa4_row2_col3\" class=\"data row2 col3\" >0.816</td>\n",
       "      <td id=\"T_48fa4_row2_col4\" class=\"data row2 col4\" >0.808</td>\n",
       "      <td id=\"T_48fa4_row2_col5\" class=\"data row2 col5\" >0.795</td>\n",
       "      <td id=\"T_48fa4_row2_col6\" class=\"data row2 col6\" >0.767</td>\n",
       "      <td id=\"T_48fa4_row2_col7\" class=\"data row2 col7\" >0.717</td>\n",
       "      <td id=\"T_48fa4_row2_col8\" class=\"data row2 col8\" >0.654</td>\n",
       "      <td id=\"T_48fa4_row2_col9\" class=\"data row2 col9\" >0.560</td>\n",
       "      <td id=\"T_48fa4_row2_col10\" class=\"data row2 col10\" >0.438</td>\n",
       "      <td id=\"T_48fa4_row2_col11\" class=\"data row2 col11\" >0.277</td>\n",
       "    </tr>\n",
       "  </tbody>\n",
       "</table>\n"
      ],
      "text/plain": [
       "<pandas.io.formats.style.Styler at 0x7f6083b856d0>"
      ]
     },
     "metadata": {},
     "output_type": "display_data"
    },
    {
     "name": "stdout",
     "output_type": "stream",
     "text": [
      "Using Tracking new: model 0129_yolov5l_v3_highFP_clahe, conf_th 0.19, f2 0.631, precision 0.598, recall 0.640\n"
     ]
    },
    {
     "data": {
      "text/html": [
       "<style type=\"text/css\">\n",
       "#T_7b069_row0_col0, #T_7b069_row1_col0, #T_7b069_row2_col0 {\n",
       "  background-color: #056ba9;\n",
       "  color: #f1f1f1;\n",
       "}\n",
       "#T_7b069_row0_col1, #T_7b069_row0_col2, #T_7b069_row1_col1, #T_7b069_row1_col2, #T_7b069_row2_col1, #T_7b069_row2_col2 {\n",
       "  background-color: #023858;\n",
       "  color: #f1f1f1;\n",
       "}\n",
       "#T_7b069_row0_col3, #T_7b069_row1_col3, #T_7b069_row2_col3 {\n",
       "  background-color: #023b5d;\n",
       "  color: #f1f1f1;\n",
       "}\n",
       "#T_7b069_row0_col4, #T_7b069_row1_col4, #T_7b069_row2_col4 {\n",
       "  background-color: #023c5f;\n",
       "  color: #f1f1f1;\n",
       "}\n",
       "#T_7b069_row0_col5, #T_7b069_row1_col5, #T_7b069_row2_col5 {\n",
       "  background-color: #023e62;\n",
       "  color: #f1f1f1;\n",
       "}\n",
       "#T_7b069_row0_col6, #T_7b069_row1_col6, #T_7b069_row2_col6 {\n",
       "  background-color: #03456c;\n",
       "  color: #f1f1f1;\n",
       "}\n",
       "#T_7b069_row0_col7, #T_7b069_row1_col7, #T_7b069_row2_col7 {\n",
       "  background-color: #045483;\n",
       "  color: #f1f1f1;\n",
       "}\n",
       "#T_7b069_row0_col8, #T_7b069_row1_col8, #T_7b069_row2_col8 {\n",
       "  background-color: #0568a3;\n",
       "  color: #f1f1f1;\n",
       "}\n",
       "#T_7b069_row0_col9, #T_7b069_row1_col9, #T_7b069_row2_col9 {\n",
       "  background-color: #3d93c2;\n",
       "  color: #f1f1f1;\n",
       "}\n",
       "#T_7b069_row0_col10, #T_7b069_row1_col10, #T_7b069_row2_col10 {\n",
       "  background-color: #afc1dd;\n",
       "  color: #000000;\n",
       "}\n",
       "#T_7b069_row0_col11, #T_7b069_row1_col11, #T_7b069_row2_col11 {\n",
       "  background-color: #fff7fb;\n",
       "  color: #000000;\n",
       "}\n",
       "</style>\n",
       "<table id=\"T_7b069\">\n",
       "  <thead>\n",
       "    <tr>\n",
       "      <th class=\"blank level0\" >&nbsp;</th>\n",
       "      <th id=\"T_7b069_level0_col0\" class=\"col_heading level0 col0\" >all</th>\n",
       "      <th id=\"T_7b069_level0_col1\" class=\"col_heading level0 col1\" >0.3</th>\n",
       "      <th id=\"T_7b069_level0_col2\" class=\"col_heading level0 col2\" >0.35</th>\n",
       "      <th id=\"T_7b069_level0_col3\" class=\"col_heading level0 col3\" >0.4</th>\n",
       "      <th id=\"T_7b069_level0_col4\" class=\"col_heading level0 col4\" >0.45</th>\n",
       "      <th id=\"T_7b069_level0_col5\" class=\"col_heading level0 col5\" >0.5</th>\n",
       "      <th id=\"T_7b069_level0_col6\" class=\"col_heading level0 col6\" >0.55</th>\n",
       "      <th id=\"T_7b069_level0_col7\" class=\"col_heading level0 col7\" >0.6</th>\n",
       "      <th id=\"T_7b069_level0_col8\" class=\"col_heading level0 col8\" >0.65</th>\n",
       "      <th id=\"T_7b069_level0_col9\" class=\"col_heading level0 col9\" >0.7</th>\n",
       "      <th id=\"T_7b069_level0_col10\" class=\"col_heading level0 col10\" >0.75</th>\n",
       "      <th id=\"T_7b069_level0_col11\" class=\"col_heading level0 col11\" >0.8</th>\n",
       "    </tr>\n",
       "  </thead>\n",
       "  <tbody>\n",
       "    <tr>\n",
       "      <th id=\"T_7b069_level0_row0\" class=\"row_heading level0 row0\" >f2</th>\n",
       "      <td id=\"T_7b069_row0_col0\" class=\"data row0 col0\" >0.631</td>\n",
       "      <td id=\"T_7b069_row0_col1\" class=\"data row0 col1\" >0.735</td>\n",
       "      <td id=\"T_7b069_row0_col2\" class=\"data row0 col2\" >0.734</td>\n",
       "      <td id=\"T_7b069_row0_col3\" class=\"data row0 col3\" >0.729</td>\n",
       "      <td id=\"T_7b069_row0_col4\" class=\"data row0 col4\" >0.727</td>\n",
       "      <td id=\"T_7b069_row0_col5\" class=\"data row0 col5\" >0.723</td>\n",
       "      <td id=\"T_7b069_row0_col6\" class=\"data row0 col6\" >0.711</td>\n",
       "      <td id=\"T_7b069_row0_col7\" class=\"data row0 col7\" >0.686</td>\n",
       "      <td id=\"T_7b069_row0_col8\" class=\"data row0 col8\" >0.640</td>\n",
       "      <td id=\"T_7b069_row0_col9\" class=\"data row0 col9\" >0.554</td>\n",
       "      <td id=\"T_7b069_row0_col10\" class=\"data row0 col10\" >0.434</td>\n",
       "      <td id=\"T_7b069_row0_col11\" class=\"data row0 col11\" >0.271</td>\n",
       "    </tr>\n",
       "    <tr>\n",
       "      <th id=\"T_7b069_level0_row1\" class=\"row_heading level0 row1\" >P</th>\n",
       "      <td id=\"T_7b069_row1_col0\" class=\"data row1 col0\" >0.598</td>\n",
       "      <td id=\"T_7b069_row1_col1\" class=\"data row1 col1\" >0.697</td>\n",
       "      <td id=\"T_7b069_row1_col2\" class=\"data row1 col2\" >0.696</td>\n",
       "      <td id=\"T_7b069_row1_col3\" class=\"data row1 col3\" >0.691</td>\n",
       "      <td id=\"T_7b069_row1_col4\" class=\"data row1 col4\" >0.689</td>\n",
       "      <td id=\"T_7b069_row1_col5\" class=\"data row1 col5\" >0.685</td>\n",
       "      <td id=\"T_7b069_row1_col6\" class=\"data row1 col6\" >0.674</td>\n",
       "      <td id=\"T_7b069_row1_col7\" class=\"data row1 col7\" >0.651</td>\n",
       "      <td id=\"T_7b069_row1_col8\" class=\"data row1 col8\" >0.607</td>\n",
       "      <td id=\"T_7b069_row1_col9\" class=\"data row1 col9\" >0.525</td>\n",
       "      <td id=\"T_7b069_row1_col10\" class=\"data row1 col10\" >0.411</td>\n",
       "      <td id=\"T_7b069_row1_col11\" class=\"data row1 col11\" >0.257</td>\n",
       "    </tr>\n",
       "    <tr>\n",
       "      <th id=\"T_7b069_level0_row2\" class=\"row_heading level0 row2\" >R</th>\n",
       "      <td id=\"T_7b069_row2_col0\" class=\"data row2 col0\" >0.640</td>\n",
       "      <td id=\"T_7b069_row2_col1\" class=\"data row2 col1\" >0.745</td>\n",
       "      <td id=\"T_7b069_row2_col2\" class=\"data row2 col2\" >0.744</td>\n",
       "      <td id=\"T_7b069_row2_col3\" class=\"data row2 col3\" >0.739</td>\n",
       "      <td id=\"T_7b069_row2_col4\" class=\"data row2 col4\" >0.737</td>\n",
       "      <td id=\"T_7b069_row2_col5\" class=\"data row2 col5\" >0.733</td>\n",
       "      <td id=\"T_7b069_row2_col6\" class=\"data row2 col6\" >0.721</td>\n",
       "      <td id=\"T_7b069_row2_col7\" class=\"data row2 col7\" >0.696</td>\n",
       "      <td id=\"T_7b069_row2_col8\" class=\"data row2 col8\" >0.649</td>\n",
       "      <td id=\"T_7b069_row2_col9\" class=\"data row2 col9\" >0.562</td>\n",
       "      <td id=\"T_7b069_row2_col10\" class=\"data row2 col10\" >0.440</td>\n",
       "      <td id=\"T_7b069_row2_col11\" class=\"data row2 col11\" >0.275</td>\n",
       "    </tr>\n",
       "  </tbody>\n",
       "</table>\n"
      ],
      "text/plain": [
       "<pandas.io.formats.style.Styler at 0x7f60843ecb20>"
      ]
     },
     "metadata": {},
     "output_type": "display_data"
    },
    {
     "name": "stdout",
     "output_type": "stream",
     "text": [
      "Using Tracking new: model 0129_yolov5l_v3_1800_clahe, conf_th 0.15, f2 0.649, precision 0.617, recall 0.657\n"
     ]
    },
    {
     "data": {
      "text/html": [
       "<style type=\"text/css\">\n",
       "#T_bf4e8_row0_col0, #T_bf4e8_row1_col0, #T_bf4e8_row2_col0 {\n",
       "  background-color: #056fae;\n",
       "  color: #f1f1f1;\n",
       "}\n",
       "#T_bf4e8_row0_col1, #T_bf4e8_row0_col2, #T_bf4e8_row1_col1, #T_bf4e8_row1_col2, #T_bf4e8_row2_col1, #T_bf4e8_row2_col2 {\n",
       "  background-color: #023858;\n",
       "  color: #f1f1f1;\n",
       "}\n",
       "#T_bf4e8_row0_col3, #T_bf4e8_row1_col3, #T_bf4e8_row2_col3 {\n",
       "  background-color: #023a5b;\n",
       "  color: #f1f1f1;\n",
       "}\n",
       "#T_bf4e8_row0_col4, #T_bf4e8_row1_col4, #T_bf4e8_row2_col4 {\n",
       "  background-color: #023d60;\n",
       "  color: #f1f1f1;\n",
       "}\n",
       "#T_bf4e8_row0_col5, #T_bf4e8_row1_col5, #T_bf4e8_row2_col5 {\n",
       "  background-color: #034267;\n",
       "  color: #f1f1f1;\n",
       "}\n",
       "#T_bf4e8_row0_col6, #T_bf4e8_row1_col6, #T_bf4e8_row2_col6 {\n",
       "  background-color: #034a74;\n",
       "  color: #f1f1f1;\n",
       "}\n",
       "#T_bf4e8_row0_col7, #T_bf4e8_row1_col7, #T_bf4e8_row2_col7 {\n",
       "  background-color: #045c90;\n",
       "  color: #f1f1f1;\n",
       "}\n",
       "#T_bf4e8_row0_col8, #T_bf4e8_row1_col8, #T_bf4e8_row2_col8 {\n",
       "  background-color: #0c74b2;\n",
       "  color: #f1f1f1;\n",
       "}\n",
       "#T_bf4e8_row0_col9, #T_bf4e8_row1_col9, #T_bf4e8_row2_col9 {\n",
       "  background-color: #60a1ca;\n",
       "  color: #f1f1f1;\n",
       "}\n",
       "#T_bf4e8_row0_col10, #T_bf4e8_row1_col10, #T_bf4e8_row2_col10 {\n",
       "  background-color: #bdc8e1;\n",
       "  color: #000000;\n",
       "}\n",
       "#T_bf4e8_row0_col11, #T_bf4e8_row1_col11, #T_bf4e8_row2_col11 {\n",
       "  background-color: #fff7fb;\n",
       "  color: #000000;\n",
       "}\n",
       "</style>\n",
       "<table id=\"T_bf4e8\">\n",
       "  <thead>\n",
       "    <tr>\n",
       "      <th class=\"blank level0\" >&nbsp;</th>\n",
       "      <th id=\"T_bf4e8_level0_col0\" class=\"col_heading level0 col0\" >all</th>\n",
       "      <th id=\"T_bf4e8_level0_col1\" class=\"col_heading level0 col1\" >0.3</th>\n",
       "      <th id=\"T_bf4e8_level0_col2\" class=\"col_heading level0 col2\" >0.35</th>\n",
       "      <th id=\"T_bf4e8_level0_col3\" class=\"col_heading level0 col3\" >0.4</th>\n",
       "      <th id=\"T_bf4e8_level0_col4\" class=\"col_heading level0 col4\" >0.45</th>\n",
       "      <th id=\"T_bf4e8_level0_col5\" class=\"col_heading level0 col5\" >0.5</th>\n",
       "      <th id=\"T_bf4e8_level0_col6\" class=\"col_heading level0 col6\" >0.55</th>\n",
       "      <th id=\"T_bf4e8_level0_col7\" class=\"col_heading level0 col7\" >0.6</th>\n",
       "      <th id=\"T_bf4e8_level0_col8\" class=\"col_heading level0 col8\" >0.65</th>\n",
       "      <th id=\"T_bf4e8_level0_col9\" class=\"col_heading level0 col9\" >0.7</th>\n",
       "      <th id=\"T_bf4e8_level0_col10\" class=\"col_heading level0 col10\" >0.75</th>\n",
       "      <th id=\"T_bf4e8_level0_col11\" class=\"col_heading level0 col11\" >0.8</th>\n",
       "    </tr>\n",
       "  </thead>\n",
       "  <tbody>\n",
       "    <tr>\n",
       "      <th id=\"T_bf4e8_level0_row0\" class=\"row_heading level0 row0\" >f2</th>\n",
       "      <td id=\"T_bf4e8_row0_col0\" class=\"data row0 col0\" >0.649</td>\n",
       "      <td id=\"T_bf4e8_row0_col1\" class=\"data row0 col1\" >0.779</td>\n",
       "      <td id=\"T_bf4e8_row0_col2\" class=\"data row0 col2\" >0.777</td>\n",
       "      <td id=\"T_bf4e8_row0_col3\" class=\"data row0 col3\" >0.773</td>\n",
       "      <td id=\"T_bf4e8_row0_col4\" class=\"data row0 col4\" >0.768</td>\n",
       "      <td id=\"T_bf4e8_row0_col5\" class=\"data row0 col5\" >0.759</td>\n",
       "      <td id=\"T_bf4e8_row0_col6\" class=\"data row0 col6\" >0.742</td>\n",
       "      <td id=\"T_bf4e8_row0_col7\" class=\"data row0 col7\" >0.706</td>\n",
       "      <td id=\"T_bf4e8_row0_col8\" class=\"data row0 col8\" >0.637</td>\n",
       "      <td id=\"T_bf4e8_row0_col9\" class=\"data row0 col9\" >0.536</td>\n",
       "      <td id=\"T_bf4e8_row0_col10\" class=\"data row0 col10\" >0.411</td>\n",
       "      <td id=\"T_bf4e8_row0_col11\" class=\"data row0 col11\" >0.249</td>\n",
       "    </tr>\n",
       "    <tr>\n",
       "      <th id=\"T_bf4e8_level0_row1\" class=\"row_heading level0 row1\" >P</th>\n",
       "      <td id=\"T_bf4e8_row1_col0\" class=\"data row1 col0\" >0.617</td>\n",
       "      <td id=\"T_bf4e8_row1_col1\" class=\"data row1 col1\" >0.741</td>\n",
       "      <td id=\"T_bf4e8_row1_col2\" class=\"data row1 col2\" >0.739</td>\n",
       "      <td id=\"T_bf4e8_row1_col3\" class=\"data row1 col3\" >0.736</td>\n",
       "      <td id=\"T_bf4e8_row1_col4\" class=\"data row1 col4\" >0.730</td>\n",
       "      <td id=\"T_bf4e8_row1_col5\" class=\"data row1 col5\" >0.722</td>\n",
       "      <td id=\"T_bf4e8_row1_col6\" class=\"data row1 col6\" >0.706</td>\n",
       "      <td id=\"T_bf4e8_row1_col7\" class=\"data row1 col7\" >0.672</td>\n",
       "      <td id=\"T_bf4e8_row1_col8\" class=\"data row1 col8\" >0.606</td>\n",
       "      <td id=\"T_bf4e8_row1_col9\" class=\"data row1 col9\" >0.510</td>\n",
       "      <td id=\"T_bf4e8_row1_col10\" class=\"data row1 col10\" >0.391</td>\n",
       "      <td id=\"T_bf4e8_row1_col11\" class=\"data row1 col11\" >0.237</td>\n",
       "    </tr>\n",
       "    <tr>\n",
       "      <th id=\"T_bf4e8_level0_row2\" class=\"row_heading level0 row2\" >R</th>\n",
       "      <td id=\"T_bf4e8_row2_col0\" class=\"data row2 col0\" >0.657</td>\n",
       "      <td id=\"T_bf4e8_row2_col1\" class=\"data row2 col1\" >0.789</td>\n",
       "      <td id=\"T_bf4e8_row2_col2\" class=\"data row2 col2\" >0.787</td>\n",
       "      <td id=\"T_bf4e8_row2_col3\" class=\"data row2 col3\" >0.783</td>\n",
       "      <td id=\"T_bf4e8_row2_col4\" class=\"data row2 col4\" >0.778</td>\n",
       "      <td id=\"T_bf4e8_row2_col5\" class=\"data row2 col5\" >0.769</td>\n",
       "      <td id=\"T_bf4e8_row2_col6\" class=\"data row2 col6\" >0.752</td>\n",
       "      <td id=\"T_bf4e8_row2_col7\" class=\"data row2 col7\" >0.715</td>\n",
       "      <td id=\"T_bf4e8_row2_col8\" class=\"data row2 col8\" >0.645</td>\n",
       "      <td id=\"T_bf4e8_row2_col9\" class=\"data row2 col9\" >0.543</td>\n",
       "      <td id=\"T_bf4e8_row2_col10\" class=\"data row2 col10\" >0.417</td>\n",
       "      <td id=\"T_bf4e8_row2_col11\" class=\"data row2 col11\" >0.252</td>\n",
       "    </tr>\n",
       "  </tbody>\n",
       "</table>\n"
      ],
      "text/plain": [
       "<pandas.io.formats.style.Styler at 0x7f6083b851f0>"
      ]
     },
     "metadata": {},
     "output_type": "display_data"
    },
    {
     "name": "stdout",
     "output_type": "stream",
     "text": [
      "Using Tracking new: model 0129_yolov5l_v3_2700_clahe, conf_th 0.20, f2 0.646, precision 0.616, recall 0.654\n"
     ]
    },
    {
     "data": {
      "text/html": [
       "<style type=\"text/css\">\n",
       "#T_09131_row0_col0, #T_09131_row1_col0, #T_09131_row2_col0 {\n",
       "  background-color: #0c74b2;\n",
       "  color: #f1f1f1;\n",
       "}\n",
       "#T_09131_row0_col1, #T_09131_row1_col1, #T_09131_row2_col1 {\n",
       "  background-color: #023858;\n",
       "  color: #f1f1f1;\n",
       "}\n",
       "#T_09131_row0_col2, #T_09131_row1_col2, #T_09131_row2_col2 {\n",
       "  background-color: #02395a;\n",
       "  color: #f1f1f1;\n",
       "}\n",
       "#T_09131_row0_col3, #T_09131_row1_col3, #T_09131_row2_col3 {\n",
       "  background-color: #023a5b;\n",
       "  color: #f1f1f1;\n",
       "}\n",
       "#T_09131_row0_col4, #T_09131_row1_col4, #T_09131_row2_col4 {\n",
       "  background-color: #023d60;\n",
       "  color: #f1f1f1;\n",
       "}\n",
       "#T_09131_row0_col5, #T_09131_row1_col5, #T_09131_row2_col5 {\n",
       "  background-color: #03456c;\n",
       "  color: #f1f1f1;\n",
       "}\n",
       "#T_09131_row0_col6, #T_09131_row1_col6, #T_09131_row2_col6 {\n",
       "  background-color: #045382;\n",
       "  color: #f1f1f1;\n",
       "}\n",
       "#T_09131_row0_col7, #T_09131_row1_col7, #T_09131_row2_col7 {\n",
       "  background-color: #04649d;\n",
       "  color: #f1f1f1;\n",
       "}\n",
       "#T_09131_row0_col8, #T_09131_row1_col8, #T_09131_row2_col8 {\n",
       "  background-color: #2182b9;\n",
       "  color: #f1f1f1;\n",
       "}\n",
       "#T_09131_row0_col9, #T_09131_row1_col9, #T_09131_row2_col9 {\n",
       "  background-color: #71a8ce;\n",
       "  color: #f1f1f1;\n",
       "}\n",
       "#T_09131_row0_col10, #T_09131_row1_col10, #T_09131_row2_col10 {\n",
       "  background-color: #cdd0e5;\n",
       "  color: #000000;\n",
       "}\n",
       "#T_09131_row0_col11, #T_09131_row1_col11, #T_09131_row2_col11 {\n",
       "  background-color: #fff7fb;\n",
       "  color: #000000;\n",
       "}\n",
       "</style>\n",
       "<table id=\"T_09131\">\n",
       "  <thead>\n",
       "    <tr>\n",
       "      <th class=\"blank level0\" >&nbsp;</th>\n",
       "      <th id=\"T_09131_level0_col0\" class=\"col_heading level0 col0\" >all</th>\n",
       "      <th id=\"T_09131_level0_col1\" class=\"col_heading level0 col1\" >0.3</th>\n",
       "      <th id=\"T_09131_level0_col2\" class=\"col_heading level0 col2\" >0.35</th>\n",
       "      <th id=\"T_09131_level0_col3\" class=\"col_heading level0 col3\" >0.4</th>\n",
       "      <th id=\"T_09131_level0_col4\" class=\"col_heading level0 col4\" >0.45</th>\n",
       "      <th id=\"T_09131_level0_col5\" class=\"col_heading level0 col5\" >0.5</th>\n",
       "      <th id=\"T_09131_level0_col6\" class=\"col_heading level0 col6\" >0.55</th>\n",
       "      <th id=\"T_09131_level0_col7\" class=\"col_heading level0 col7\" >0.6</th>\n",
       "      <th id=\"T_09131_level0_col8\" class=\"col_heading level0 col8\" >0.65</th>\n",
       "      <th id=\"T_09131_level0_col9\" class=\"col_heading level0 col9\" >0.7</th>\n",
       "      <th id=\"T_09131_level0_col10\" class=\"col_heading level0 col10\" >0.75</th>\n",
       "      <th id=\"T_09131_level0_col11\" class=\"col_heading level0 col11\" >0.8</th>\n",
       "    </tr>\n",
       "  </thead>\n",
       "  <tbody>\n",
       "    <tr>\n",
       "      <th id=\"T_09131_level0_row0\" class=\"row_heading level0 row0\" >f2</th>\n",
       "      <td id=\"T_09131_row0_col0\" class=\"data row0 col0\" >0.646</td>\n",
       "      <td id=\"T_09131_row0_col1\" class=\"data row0 col1\" >0.785</td>\n",
       "      <td id=\"T_09131_row0_col2\" class=\"data row0 col2\" >0.783</td>\n",
       "      <td id=\"T_09131_row0_col3\" class=\"data row0 col3\" >0.780</td>\n",
       "      <td id=\"T_09131_row0_col4\" class=\"data row0 col4\" >0.773</td>\n",
       "      <td id=\"T_09131_row0_col5\" class=\"data row0 col5\" >0.759</td>\n",
       "      <td id=\"T_09131_row0_col6\" class=\"data row0 col6\" >0.733</td>\n",
       "      <td id=\"T_09131_row0_col7\" class=\"data row0 col7\" >0.689</td>\n",
       "      <td id=\"T_09131_row0_col8\" class=\"data row0 col8\" >0.617</td>\n",
       "      <td id=\"T_09131_row0_col9\" class=\"data row0 col9\" >0.526</td>\n",
       "      <td id=\"T_09131_row0_col10\" class=\"data row0 col10\" >0.398</td>\n",
       "      <td id=\"T_09131_row0_col11\" class=\"data row0 col11\" >0.261</td>\n",
       "    </tr>\n",
       "    <tr>\n",
       "      <th id=\"T_09131_level0_row1\" class=\"row_heading level0 row1\" >P</th>\n",
       "      <td id=\"T_09131_row1_col0\" class=\"data row1 col0\" >0.616</td>\n",
       "      <td id=\"T_09131_row1_col1\" class=\"data row1 col1\" >0.749</td>\n",
       "      <td id=\"T_09131_row1_col2\" class=\"data row1 col2\" >0.747</td>\n",
       "      <td id=\"T_09131_row1_col3\" class=\"data row1 col3\" >0.744</td>\n",
       "      <td id=\"T_09131_row1_col4\" class=\"data row1 col4\" >0.738</td>\n",
       "      <td id=\"T_09131_row1_col5\" class=\"data row1 col5\" >0.724</td>\n",
       "      <td id=\"T_09131_row1_col6\" class=\"data row1 col6\" >0.700</td>\n",
       "      <td id=\"T_09131_row1_col7\" class=\"data row1 col7\" >0.657</td>\n",
       "      <td id=\"T_09131_row1_col8\" class=\"data row1 col8\" >0.589</td>\n",
       "      <td id=\"T_09131_row1_col9\" class=\"data row1 col9\" >0.502</td>\n",
       "      <td id=\"T_09131_row1_col10\" class=\"data row1 col10\" >0.380</td>\n",
       "      <td id=\"T_09131_row1_col11\" class=\"data row1 col11\" >0.249</td>\n",
       "    </tr>\n",
       "    <tr>\n",
       "      <th id=\"T_09131_level0_row2\" class=\"row_heading level0 row2\" >R</th>\n",
       "      <td id=\"T_09131_row2_col0\" class=\"data row2 col0\" >0.654</td>\n",
       "      <td id=\"T_09131_row2_col1\" class=\"data row2 col1\" >0.795</td>\n",
       "      <td id=\"T_09131_row2_col2\" class=\"data row2 col2\" >0.792</td>\n",
       "      <td id=\"T_09131_row2_col3\" class=\"data row2 col3\" >0.790</td>\n",
       "      <td id=\"T_09131_row2_col4\" class=\"data row2 col4\" >0.783</td>\n",
       "      <td id=\"T_09131_row2_col5\" class=\"data row2 col5\" >0.769</td>\n",
       "      <td id=\"T_09131_row2_col6\" class=\"data row2 col6\" >0.742</td>\n",
       "      <td id=\"T_09131_row2_col7\" class=\"data row2 col7\" >0.698</td>\n",
       "      <td id=\"T_09131_row2_col8\" class=\"data row2 col8\" >0.625</td>\n",
       "      <td id=\"T_09131_row2_col9\" class=\"data row2 col9\" >0.532</td>\n",
       "      <td id=\"T_09131_row2_col10\" class=\"data row2 col10\" >0.403</td>\n",
       "      <td id=\"T_09131_row2_col11\" class=\"data row2 col11\" >0.265</td>\n",
       "    </tr>\n",
       "  </tbody>\n",
       "</table>\n"
      ],
      "text/plain": [
       "<pandas.io.formats.style.Styler at 0x7f6083b85280>"
      ]
     },
     "metadata": {},
     "output_type": "display_data"
    }
   ],
   "source": [
    "df_perf_track_dict = {model_version: pd.DataFrame(columns=[\"all\"] + [str(round(th,3)) for th in np.arange(0.3, 0.85, 0.05)]).copy() for model_version in model_versions}\n",
    "df_oof.sort_values([\"video_id\",\"video_frame\"], inplace=True)\n",
    "df_oof[\"track_pred\"] = [[] for i in range(len(df_oof))]\n",
    "for model_version in model_versions:\n",
    "    BEST_CONF = best_conf_dict[model_version]\n",
    "    pred_col = \"pred_\" + model_version + f\"_fold1\"\n",
    "    previous_seq = -1\n",
    "    prd_bboxs_tracking_list = []\n",
    "    frame_id = 0\n",
    "    tracker = Tracker(\n",
    "        distance_function=euclidean_distance, \n",
    "        distance_threshold=30,\n",
    "        hit_inertia_min=3,\n",
    "        hit_inertia_max=6,\n",
    "        initialization_delay=1,\n",
    "    )          \n",
    "    for idx in df_oof.index:\n",
    "        row = df_oof.loc[idx]\n",
    "        if row[\"sequence\"] != previous_seq:\n",
    "            previous_seq = row[\"sequence\"]\n",
    "        prd_bboxs = row[pred_col]\n",
    "        bboxes, confis = [p[1:] for p in prd_bboxs], [p[0] for p in prd_bboxs]    \n",
    "        predictions = tracking_function(tracker, frame_id, bboxes, confis, BEST_CONF)    \n",
    "        prd_bboxs_tracking =  [[float(p) for p in pred.split(\" \")] for pred in predictions]\n",
    "        prd_bboxs_tracking_list.append(np.array(prd_bboxs_tracking))\n",
    "        df_oof.at[idx, \"track_pred\"].extend(prd_bboxs_tracking)\n",
    "        frame_id += 1        \n",
    "        \n",
    "    f2_dict = util.calc_f2_score(gt_bboxs_list, prd_bboxs_tracking_list, verbose=False) \n",
    "    df_perf_track_dict[model_version].loc[\"f2\",:] = [f2_dict[col] for col in f_cols]\n",
    "    df_perf_track_dict[model_version].loc[\"P\",:] = [f2_dict[col] for col in P_cols]\n",
    "    df_perf_track_dict[model_version].loc[\"R\",:] = [f2_dict[col] for col in R_cols]\n",
    "    df_oof[f'{model_version}_tps'] = f2_dict[\"tps\"]\n",
    "    df_oof[f'{model_version}_fps'] = f2_dict[\"fps\"]\n",
    "    df_oof[f'{model_version}_fns'] = f2_dict[\"fns\"]\n",
    "    print(\"Using Tracking new: model {}, conf_th {:.2f}, f2 {:.3f}, precision {:.3f}, recall {:.3f}\".format(model_version, BEST_CONF, f2_dict['f2'], f2_dict['P'], f2_dict['R']))\n",
    "    display(df_perf_track_dict[model_version].astype(float).style.format(\"{:.3f}\").background_gradient(axis=1))"
   ]
  },
  {
   "cell_type": "markdown",
   "id": "4a0bfdc1",
   "metadata": {},
   "source": [
    "# Ensemble"
   ]
  },
  {
   "cell_type": "code",
   "execution_count": null,
   "id": "25ed2fa4",
   "metadata": {
    "ExecuteTime": {
     "end_time": "2022-01-30T03:45:53.873597Z",
     "start_time": "2022-01-30T03:45:53.853585Z"
    }
   },
   "outputs": [],
   "source": [
    "from ensemble_boxes import weighted_boxes_fusion\n",
    "def run_wbf(bboxes, confs, iou_thr=0.5, skip_box_thr=0.00000001):\n",
    "    if len(bboxes) == 1:\n",
    "        return bboxes, confs, []    \n",
    "    labels = [np.ones(len(conf)) for conf in confs]\n",
    "    boxes, scores, labels = weighted_boxes_fusion(bboxes, confs, labels, iou_thr=iou_thr, skip_box_thr=skip_box_thr, allows_overflow=True)\n",
    "    return boxes, scores, labels"
   ]
  },
  {
   "cell_type": "code",
   "execution_count": null,
   "id": "e8c1862e",
   "metadata": {
    "ExecuteTime": {
     "end_time": "2022-01-30T04:11:52.890751Z",
     "start_time": "2022-01-30T04:11:50.316275Z"
    }
   },
   "outputs": [],
   "source": [
    "df_oof[\"wbf\"] = None\n",
    "wbf_models = ['0128_yolov5l_v3', '0128_yolov5l_v3_highFP', \"0129_yolov5l_v3_highFP_1800_e11\", '0129_yolov5l_v3_1800_clahe']\n",
    "for iou_thr in [0.4]:\n",
    "    iou_thr = iou_thr / 10\n",
    "    for skip_box_thr in [0.2]:\n",
    "        skip_box_thr = skip_box_thr / 10\n",
    "        prd_wbf_list = []\n",
    "        for idx in df_oof.index:\n",
    "            row = df_oof.loc[idx]\n",
    "            bboxes_l = []\n",
    "            confs_l = []    \n",
    "            frame_id = 0\n",
    "            tracker = Tracker(\n",
    "                distance_function=euclidean_distance, \n",
    "                distance_threshold=30,\n",
    "                hit_inertia_min=3,\n",
    "                hit_inertia_max=6,\n",
    "                initialization_delay=1,\n",
    "            )                      \n",
    "            for model_version in wbf_models:\n",
    "                BEST_CONF = best_conf_dict[model_version]\n",
    "                pred_col = \"pred_\" + model_version + f\"_fold1\"\n",
    "                prd_bboxs = row[pred_col]\n",
    "                prd_bboxs = [p for p in prd_bboxs if p[0] >= BEST_CONF]\n",
    "                bboxes, confis = [p[1:] for p in prd_bboxs], [p[0] for p in prd_bboxs]    \n",
    "                bboxes = np.array(bboxes,dtype=np.float64)\n",
    "                if len(bboxes) > 0:\n",
    "                    bboxes[:,2:] = bboxes[:,2:] + bboxes[:,:2]\n",
    "                    bboxes[:,0] = bboxes[:,0] / 1279.\n",
    "                    bboxes[:,1] = bboxes[:,1] / 719.\n",
    "                    bboxes[:,2] = bboxes[:,2] / 1279.\n",
    "                    bboxes[:,3] = bboxes[:,3] / 719.\n",
    "                bboxes_l.append(np.array(bboxes))\n",
    "                confs_l.append(confis)\n",
    "            bboxes_l = np.array(bboxes_l)\n",
    "            wbf_boxes, wbf_confs, _ = run_wbf(bboxes_l, confs_l, iou_thr, skip_box_thr)\n",
    "            if len(wbf_boxes) > 0:\n",
    "                wbf_boxes[:,0] = wbf_boxes[:,0] * 1279.\n",
    "                wbf_boxes[:,1] = wbf_boxes[:,1] * 719.\n",
    "                wbf_boxes[:,2] = wbf_boxes[:,2] * 1279.\n",
    "                wbf_boxes[:,3] = wbf_boxes[:,3] * 719.\n",
    "                wbf_boxes[:,2:] = wbf_boxes[:,2:] - wbf_boxes[:,:2]\n",
    "                \n",
    "            predictions = tracking_function(tracker, frame_id, wbf_boxes, wbf_confs, 0)\n",
    "            \n",
    "            prd_bboxs_tracking =  [[float(p) for p in pred.split(\" \")] for pred in predictions]\n",
    "            prd_wbf_list.append(np.array(prd_bboxs_tracking))\n",
    "            \n",
    "            frame_id += 1\n",
    "\n",
    "#             wbf_preds = [[wbf_confs[i]] + wbf_boxes[i].tolist() for i in range(len(wbf_boxes))]\n",
    "#             prd_wbf_list.append(np.array(wbf_preds))\n",
    "#             df_oof.at[idx, \"wbf\"] = wbf_preds\n",
    "\n",
    "        f2_dict = util.calc_f2_score(gt_bboxs_list, prd_wbf_list, verbose=False) \n",
    "        print(\"iou_thr {:.2f}, skip_box_thr {:.2f}, Using wbf, f2 {:.3f}, precision {:.3f}, recall {:.3f}\".format(iou_thr, skip_box_thr,f2_dict['f2'], f2_dict['P'], f2_dict['R']))"
   ]
  },
  {
   "cell_type": "code",
   "execution_count": null,
   "id": "12e5a367",
   "metadata": {},
   "outputs": [],
   "source": []
  },
  {
   "cell_type": "code",
   "execution_count": null,
   "id": "aa3fc932",
   "metadata": {},
   "outputs": [],
   "source": []
  },
  {
   "cell_type": "markdown",
   "id": "e2b850d3",
   "metadata": {},
   "source": [
    "# check image"
   ]
  },
  {
   "cell_type": "code",
   "execution_count": null,
   "id": "52bca246",
   "metadata": {
    "ExecuteTime": {
     "end_time": "2022-01-29T21:05:28.773285Z",
     "start_time": "2022-01-29T21:05:28.387411Z"
    }
   },
   "outputs": [],
   "source": [
    "df_oof['tp'] = 0\n",
    "df_oof['fp'] = 0\n",
    "df_oof['fn'] = 0\n",
    "for key in model_versions:\n",
    "    df_oof[f'{key}_tp'] = df_oof[f'{key}_tps'].apply(np.sum)\n",
    "    df_oof[f'{key}_fp'] = df_oof[f'{key}_fps'].apply(np.sum)\n",
    "    df_oof[f'{key}_fn'] = df_oof[f'{key}_fns'].apply(np.sum)\n",
    "    df_oof['tp'] = df_oof['tp'] + df_oof[f'{key}_tp']\n",
    "    df_oof['fp'] = df_oof['fp'] + df_oof[f'{key}_fp']\n",
    "    df_oof['fn'] = df_oof['fn'] + df_oof[f'{key}_fn']"
   ]
  },
  {
   "cell_type": "code",
   "execution_count": null,
   "id": "ea8e6638",
   "metadata": {
    "ExecuteTime": {
     "end_time": "2022-01-29T21:05:28.790148Z",
     "start_time": "2022-01-29T21:05:28.774464Z"
    }
   },
   "outputs": [],
   "source": [
    "color_pred = [(0,125,0)]    \n",
    "color_real = [(255,0,0)]\n",
    "def plot_img(df, idx, keys, save=False, pre=\"\"):\n",
    "    row = df.iloc[idx]\n",
    "    path = row[\"image_path\"]\n",
    "    img = cv2.imread(str(path))[...,::-1]\n",
    "    real_bboxes = row[\"real_bbox\"]\n",
    "    preds = row[\"track_pred\"]\n",
    "#     for key in keys:\n",
    "#         best_conf = best_conf_dict[key]\n",
    "#         pred_col = \"pred_\" + key + \"_fold1\"\n",
    "#         if len(row[pred_col]) > 0:\n",
    "#             preds = preds + [p for p in row[pred_col] if p[0] >= best_conf]\n",
    "            \n",
    "    bboxes = [p[1:5] for p in preds]\n",
    "    confis = [p[0] for p in preds]\n",
    "    print(f\"video {row.video_id}, sequence {row.sequence}, frame {row.video_frame}\")\n",
    "    img_plot = util.show_img(img, \n",
    "                          bboxes + real_bboxes, \n",
    "                          confis + [1] * len(real_bboxes),\n",
    "                          color_pred  * len(bboxes) + color_real * len(real_bboxes), \n",
    "                          bbox_format='coco')\n",
    "    if save:\n",
    "        img_plot.save(f\"./pic_check/{pre}v{row.video_id}_frame{row.video_frame}_seq{row.sequence}.jpg\")\n",
    "    display(img_plot)"
   ]
  },
  {
   "cell_type": "code",
   "execution_count": null,
   "id": "0d406e61",
   "metadata": {
    "ExecuteTime": {
     "end_time": "2022-01-29T21:05:42.229636Z",
     "start_time": "2022-01-29T21:05:28.790998Z"
    }
   },
   "outputs": [],
   "source": [
    "for i, iou in tqdm(enumerate(np.arange(0.3,0.85,0.05))):\n",
    "    df_oof[f\"f2_{iou:.2f}\"] = 0\n",
    "    df_oof[f\"P_{iou:.2f}\"] = 0\n",
    "    df_oof[f\"R_{iou:.2f}\"] = 0\n",
    "    for idx in df_oof.index:\n",
    "        tp = 0\n",
    "        fp = 0\n",
    "        fn = 0\n",
    "        for key in model_versions:\n",
    "            tp += df_oof.loc[idx, f'{key}_tps'][i]\n",
    "            fp += df_oof.loc[idx, f'{key}_fps'][i]\n",
    "            fn += df_oof.loc[idx, f'{key}_fns'][i]\n",
    "        df_oof.loc[idx, f\"f2_{iou:.2f}\"] = util.f_beta(tp, fp, fn, beta=2)\n",
    "        df_oof.loc[idx, f\"P_{iou:.2f}\"] = util.f_beta(tp, fp, fn, beta=0)\n",
    "        df_oof.loc[idx, f\"R_{iou:.2f}\"] = util.f_beta(tp, fp, fn, beta=100)"
   ]
  },
  {
   "cell_type": "code",
   "execution_count": null,
   "id": "9af31c12",
   "metadata": {
    "ExecuteTime": {
     "end_time": "2022-01-29T21:05:42.254029Z",
     "start_time": "2022-01-29T21:05:42.230462Z"
    }
   },
   "outputs": [],
   "source": [
    "df_oof[\"f2\"] = df_oof[[f'f2_{iou:.2f}' for iou in np.arange(0.3,0.85,0.5)]].mean(axis=1)\n",
    "df_oof[\"P\"] = df_oof[[f'P_{iou:.2f}' for iou in np.arange(0.3,0.85,0.5)]].mean(axis=1)\n",
    "df_oof[\"R\"] = df_oof[[f'R_{iou:.2f}' for iou in np.arange(0.3,0.85,0.5)]].mean(axis=1)\n",
    "#df_oof.head()"
   ]
  },
  {
   "cell_type": "code",
   "execution_count": null,
   "id": "d472bd47",
   "metadata": {
    "ExecuteTime": {
     "end_time": "2022-01-29T21:05:42.269282Z",
     "start_time": "2022-01-29T21:05:42.255210Z"
    }
   },
   "outputs": [],
   "source": [
    "show_col = [\"video_id\",\"sequence\",\"video_frame\",\"num_bbox\", \"f2\", \"P\", \"R\"]\n",
    "sub_col = [\"fp\"] + [key+\"_fp\" for key in model_versions]\n",
    "sub_col = sub_col + [\"tp\"] + [key+\"_tp\" for key in model_versions]\n",
    "sub_col = sub_col + [\"fn\"] + [key+\"_fn\" for key in model_versions]"
   ]
  },
  {
   "cell_type": "markdown",
   "id": "f336e5ad",
   "metadata": {},
   "source": [
    "## most FP among empy group"
   ]
  },
  {
   "cell_type": "code",
   "execution_count": null,
   "id": "4199850f",
   "metadata": {
    "ExecuteTime": {
     "end_time": "2022-01-29T21:05:42.385480Z",
     "start_time": "2022-01-29T21:05:42.270108Z"
    }
   },
   "outputs": [],
   "source": [
    "df_neg = df_oof.query(\"num_bbox == 0\").copy()\n",
    "df_neg.sort_values(\"fp\", ascending=False, inplace=True)\n",
    "df_neg.reset_index(inplace=True, drop=True)\n",
    "df_neg[show_col + sub_col].head()"
   ]
  },
  {
   "cell_type": "code",
   "execution_count": null,
   "id": "25dd83e5",
   "metadata": {
    "ExecuteTime": {
     "end_time": "2022-01-29T21:06:15.108719Z",
     "start_time": "2022-01-29T21:06:14.180938Z"
    },
    "scrolled": false
   },
   "outputs": [],
   "source": [
    "for i in range(5):\n",
    "    plot_img(df_neg, i, model_versions, save=False)"
   ]
  },
  {
   "attachments": {},
   "cell_type": "markdown",
   "id": "a8df7cff",
   "metadata": {},
   "source": [
    "## Most FP among non-empty group"
   ]
  },
  {
   "cell_type": "code",
   "execution_count": null,
   "id": "25cd9835",
   "metadata": {
    "ExecuteTime": {
     "end_time": "2022-01-29T21:06:36.373359Z",
     "start_time": "2022-01-29T21:06:36.310331Z"
    }
   },
   "outputs": [],
   "source": [
    "df_pos = df_oof.query(\"num_bbox > 0\").copy()\n",
    "df_pos.sort_values(\"fp\", ascending=False, inplace=True)\n",
    "df_pos.reset_index(inplace=True, drop=True)\n",
    "df_pos[show_col + sub_col].head()"
   ]
  },
  {
   "cell_type": "code",
   "execution_count": null,
   "id": "ae1dee97",
   "metadata": {
    "ExecuteTime": {
     "end_time": "2022-01-29T21:06:37.523201Z",
     "start_time": "2022-01-29T21:06:36.480647Z"
    },
    "scrolled": false
   },
   "outputs": [],
   "source": [
    "for i in range(5):\n",
    "    plot_img(df_pos, i, model_versions)"
   ]
  },
  {
   "cell_type": "markdown",
   "id": "9f550e22",
   "metadata": {},
   "source": [
    "## Most TP"
   ]
  },
  {
   "cell_type": "code",
   "execution_count": null,
   "id": "f57fa451",
   "metadata": {
    "ExecuteTime": {
     "end_time": "2022-01-29T21:06:37.550723Z",
     "start_time": "2022-01-29T21:06:37.524327Z"
    }
   },
   "outputs": [],
   "source": [
    "df_pos = df_oof.query(\"num_bbox > 0\").copy()\n",
    "df_pos.sort_values(\"tp\", ascending=False, inplace=True)\n",
    "df_pos.reset_index(inplace=True, drop=True)\n",
    "df_pos[show_col + sub_col].head(5)"
   ]
  },
  {
   "cell_type": "code",
   "execution_count": null,
   "id": "27dabbfa",
   "metadata": {
    "ExecuteTime": {
     "end_time": "2022-01-29T21:06:38.270775Z",
     "start_time": "2022-01-29T21:06:37.686041Z"
    },
    "scrolled": false
   },
   "outputs": [],
   "source": [
    "for i in range(3):\n",
    "    plot_img(df_pos, i, model_versions)"
   ]
  },
  {
   "cell_type": "markdown",
   "id": "146e4170",
   "metadata": {},
   "source": [
    "## Most FN"
   ]
  },
  {
   "cell_type": "code",
   "execution_count": null,
   "id": "e34c3f8a",
   "metadata": {
    "ExecuteTime": {
     "end_time": "2022-01-29T21:08:58.758750Z",
     "start_time": "2022-01-29T21:08:58.719398Z"
    }
   },
   "outputs": [],
   "source": [
    "df_pos = df_oof.query(\"num_bbox > 0\").copy()\n",
    "df_pos.sort_values(\"fn\", ascending=False, inplace=True)\n",
    "df_pos.reset_index(inplace=True, drop=True)\n",
    "df_pos[show_col + sub_col].head(10)"
   ]
  },
  {
   "cell_type": "code",
   "execution_count": null,
   "id": "49bfb6cd",
   "metadata": {
    "ExecuteTime": {
     "end_time": "2022-01-29T21:06:40.859989Z",
     "start_time": "2022-01-29T21:06:38.660991Z"
    },
    "scrolled": false
   },
   "outputs": [],
   "source": [
    "for i in range(10):\n",
    "    plot_img(df_pos, i, model_versions)"
   ]
  },
  {
   "cell_type": "markdown",
   "id": "a42fcf60",
   "metadata": {},
   "source": [
    "# Improve FN"
   ]
  },
  {
   "cell_type": "code",
   "execution_count": null,
   "id": "5f030e02",
   "metadata": {
    "ExecuteTime": {
     "end_time": "2022-01-29T21:08:28.249579Z",
     "start_time": "2022-01-29T21:08:28.231739Z"
    }
   },
   "outputs": [],
   "source": [
    "egs = [\n",
    "    # sequence , frame id\n",
    "    (53708, 8926),\n",
    "    (53708, 8928),\n",
    "    (53708, 9654),\n",
    "    (53708, 9655),\n",
    "]"
   ]
  },
  {
   "cell_type": "code",
   "execution_count": null,
   "id": "d7260fb1",
   "metadata": {
    "ExecuteTime": {
     "end_time": "2022-01-29T21:08:28.362365Z",
     "start_time": "2022-01-29T21:08:28.341664Z"
    }
   },
   "outputs": [],
   "source": [
    "\n",
    "def plot_img_2(df, sequence, frame_id, keys, save=False, pre=\"\", use_clahe=False, aug=None):\n",
    "    #row = df.iloc[idx]\n",
    "    row = df.query(\"sequence == @seq and video_frame == @frame_id\").iloc[0]\n",
    "    path = row[\"image_path\"]\n",
    "    img = cv2.imread(str(path))[...,::-1]\n",
    "    if use_clahe:\n",
    "        for i in range(3):\n",
    "            img[:, :, i] = clahe.apply((img[:, :, i]))         \n",
    "    if aug is not None:\n",
    "        img = aug(image=img)['image']\n",
    "    real_bboxes = row[\"real_bbox\"]\n",
    "    preds = row[\"track_pred\"]            \n",
    "    bboxes = [p[1:5] for p in preds]\n",
    "    confis = [p[0] for p in preds]\n",
    "    print(f\"video {row.video_id}, sequence {row.sequence}, frame {row.video_frame}\")\n",
    "    img_plot = util.show_img(img, \n",
    "                          bboxes + real_bboxes, \n",
    "                          confis + [1] * len(real_bboxes),\n",
    "                          color_pred  * len(bboxes) + color_real * len(real_bboxes), \n",
    "                          bbox_format='coco')\n",
    "    if save:\n",
    "        img_plot.save(f\"./pic_check/{pre}v{row.video_id}_frame{row.video_frame}_seq{row.sequence}.jpg\")\n",
    "    display(img_plot)"
   ]
  },
  {
   "cell_type": "code",
   "execution_count": null,
   "id": "0c66046d",
   "metadata": {
    "ExecuteTime": {
     "end_time": "2022-01-29T21:08:29.091680Z",
     "start_time": "2022-01-29T21:08:28.545683Z"
    },
    "scrolled": false
   },
   "outputs": [],
   "source": [
    "seq, frame = egs[0]\n",
    "seq_tp = 53708\n",
    "frame_tp = 9653\n",
    "plot_img_2(df_oof, seq, frame, model_versions, use_clahe=False)\n",
    "plot_img_2(df_oof, seq_tp, frame_tp, model_versions, use_clahe=False)"
   ]
  },
  {
   "cell_type": "markdown",
   "id": "627ad753",
   "metadata": {},
   "source": [
    "## CLAHE"
   ]
  },
  {
   "cell_type": "code",
   "execution_count": null,
   "id": "7b6276a2",
   "metadata": {
    "ExecuteTime": {
     "end_time": "2022-01-29T21:08:29.508627Z",
     "start_time": "2022-01-29T21:08:29.092568Z"
    },
    "scrolled": false
   },
   "outputs": [],
   "source": [
    "clahe = cv2.createCLAHE(clipLimit=5, tileGridSize=(10, 10))\n",
    "plot_img_2(df_oof, seq, frame, model_versions, use_clahe=True)\n",
    "plot_img_2(df_oof, seq_tp, frame_tp, model_versions, use_clahe=True)        "
   ]
  },
  {
   "cell_type": "markdown",
   "id": "966271eb",
   "metadata": {},
   "source": [
    "## HueSaturationValue"
   ]
  },
  {
   "cell_type": "code",
   "execution_count": null,
   "id": "a26e6cac",
   "metadata": {
    "ExecuteTime": {
     "end_time": "2022-01-29T21:08:30.003179Z",
     "start_time": "2022-01-29T21:08:29.509385Z"
    },
    "scrolled": true
   },
   "outputs": [],
   "source": [
    "aug = A.HueSaturationValue(hue_shift_limit=10,p = 1.0)\n",
    "plot_img_2(df_oof, seq, frame, model_versions, use_clahe=False, aug=aug)\n",
    "plot_img_2(df_oof, seq_tp, frame_tp, model_versions, use_clahe=False, aug=aug)        "
   ]
  },
  {
   "cell_type": "markdown",
   "id": "4eb7de80",
   "metadata": {},
   "source": [
    "## RGBShift"
   ]
  },
  {
   "cell_type": "code",
   "execution_count": null,
   "id": "870c90fd",
   "metadata": {
    "ExecuteTime": {
     "end_time": "2022-01-29T21:08:32.341157Z",
     "start_time": "2022-01-29T21:08:31.816690Z"
    },
    "scrolled": false
   },
   "outputs": [],
   "source": [
    "aug = A.RGBShift(r_shift_limit = 40, b_shift_limit=0, g_shift_limit=0, p = 1.0)\n",
    "plot_img_2(df_oof, seq, frame, model_versions, use_clahe=False, aug=aug)\n",
    "plot_img_2(df_oof, seq_tp, frame_tp, model_versions, use_clahe=False, aug=aug)        "
   ]
  },
  {
   "cell_type": "markdown",
   "id": "1d24a2eb",
   "metadata": {},
   "source": [
    "## FUnIE-GAN"
   ]
  },
  {
   "cell_type": "code",
   "execution_count": null,
   "id": "6d9ced85",
   "metadata": {
    "ExecuteTime": {
     "end_time": "2022-01-30T01:04:46.854094Z",
     "start_time": "2022-01-30T01:04:46.747035Z"
    }
   },
   "outputs": [],
   "source": [
    "sys.path.append(\"./FUnIE-GAN/PyTorch/\")\n",
    "from nets import funiegan\n",
    "\n",
    "model_path = \"./FUnIE-GAN/PyTorch/models/funie_generator.pth\"\n",
    "model = funiegan.GeneratorFunieGAN()\n",
    "model.load_state_dict(torch.load(model_path,map_location=torch.device('cpu')))"
   ]
  },
  {
   "cell_type": "code",
   "execution_count": null,
   "id": "d14d7ebb",
   "metadata": {
    "ExecuteTime": {
     "end_time": "2022-01-30T01:05:40.530547Z",
     "start_time": "2022-01-30T01:05:40.510842Z"
    },
    "scrolled": true
   },
   "outputs": [],
   "source": [
    "model.eval()"
   ]
  },
  {
   "cell_type": "code",
   "execution_count": null,
   "id": "b77cab97",
   "metadata": {
    "ExecuteTime": {
     "end_time": "2022-01-30T01:27:10.731951Z",
     "start_time": "2022-01-30T01:27:10.713724Z"
    }
   },
   "outputs": [],
   "source": [
    "import torchvision.transforms as transforms\n",
    "## data pipeline\n",
    "img_width, img_height, channels = 1280, 1280, 3\n",
    "transforms_ = [transforms.Resize((img_height, img_width), transforms.InterpolationMode.BICUBIC),\n",
    "               transforms.ToTensor(),\n",
    "               transforms.Normalize((0.5, 0.5, 0.5), (0.5, 0.5, 0.5)),]\n",
    "transform = transforms.Compose(transforms_)"
   ]
  },
  {
   "cell_type": "code",
   "execution_count": null,
   "id": "92acd681",
   "metadata": {
    "ExecuteTime": {
     "end_time": "2022-01-30T01:28:19.988387Z",
     "start_time": "2022-01-30T01:28:19.963765Z"
    }
   },
   "outputs": [],
   "source": [
    "path = df_oof.query(\"sequence == 53708 and video_frame == 8926\").iloc[0][\"image_path\"]\n",
    "path = df_oof.query(\"sequence == 53708 and video_frame == 9653\").iloc[0][\"image_path\"]"
   ]
  },
  {
   "cell_type": "code",
   "execution_count": null,
   "id": "c3a419fb",
   "metadata": {
    "ExecuteTime": {
     "end_time": "2022-01-30T01:28:22.219746Z",
     "start_time": "2022-01-30T01:28:20.470685Z"
    }
   },
   "outputs": [],
   "source": [
    "from PIL import Image\n",
    "from torch.autograd import Variable\n",
    "import torch\n",
    "Tensor = torch.FloatTensor \n",
    "#path = '../../data/tensorflow-great-barrier-reef/train_images/video_0/8926.jpg'\n",
    "inp_img = transform(Image.open(path))\n",
    "inp_img = Variable(inp_img).type(Tensor).unsqueeze(0)\n",
    "gen_img = model(inp_img)"
   ]
  },
  {
   "cell_type": "code",
   "execution_count": null,
   "id": "e3d363df",
   "metadata": {
    "ExecuteTime": {
     "end_time": "2022-01-30T01:28:25.080828Z",
     "start_time": "2022-01-30T01:28:25.062249Z"
    }
   },
   "outputs": [],
   "source": [
    "from torchvision.utils import save_image"
   ]
  },
  {
   "cell_type": "code",
   "execution_count": null,
   "id": "7b719014",
   "metadata": {
    "ExecuteTime": {
     "end_time": "2022-01-30T01:28:27.915312Z",
     "start_time": "2022-01-30T01:28:27.816283Z"
    }
   },
   "outputs": [],
   "source": [
    "save_image(gen_img, \"./test2.jpg\", normalize=True)"
   ]
  },
  {
   "cell_type": "code",
   "execution_count": null,
   "id": "7c6d7840",
   "metadata": {
    "ExecuteTime": {
     "end_time": "2022-01-30T01:20:29.705368Z",
     "start_time": "2022-01-30T01:20:29.342252Z"
    },
    "scrolled": false
   },
   "outputs": [],
   "source": [
    "plt.imshow(gen_img.squeeze().data.permute(1, 2, 0).numpy())"
   ]
  },
  {
   "cell_type": "code",
   "execution_count": null,
   "id": "2fd5edab",
   "metadata": {},
   "outputs": [],
   "source": []
  }
 ],
 "metadata": {
  "kernelspec": {
   "display_name": "base",
   "language": "python",
   "name": "base"
  },
  "language_info": {
   "codemirror_mode": {
    "name": "ipython",
    "version": 3
   },
   "file_extension": ".py",
   "mimetype": "text/x-python",
   "name": "python",
   "nbconvert_exporter": "python",
   "pygments_lexer": "ipython3",
   "version": "3.8.10"
  },
  "toc": {
   "base_numbering": 1,
   "nav_menu": {},
   "number_sections": true,
   "sideBar": true,
   "skip_h1_title": false,
   "title_cell": "Table of Contents",
   "title_sidebar": "Contents",
   "toc_cell": false,
   "toc_position": {
    "height": "calc(100% - 180px)",
    "left": "10px",
    "top": "150px",
    "width": "426.667px"
   },
   "toc_section_display": true,
   "toc_window_display": true
  }
 },
 "nbformat": 4,
 "nbformat_minor": 5
}
