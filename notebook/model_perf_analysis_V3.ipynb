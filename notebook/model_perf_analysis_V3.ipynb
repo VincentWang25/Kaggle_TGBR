{
 "cells": [
  {
   "cell_type": "code",
   "execution_count": null,
   "id": "c8f0ce2c",
   "metadata": {
    "ExecuteTime": {
     "end_time": "2022-01-29T20:29:59.722736Z",
     "start_time": "2022-01-29T20:29:59.706992Z"
    }
   },
   "outputs": [],
   "source": [
    "%load_ext autoreload\n",
    "%autoreload 2\n",
    "\n",
    "from IPython.core.display import display, HTML\n",
    "display(HTML(\"<style>.container { width:100% !important; }</style>\"))"
   ]
  },
  {
   "cell_type": "code",
   "execution_count": null,
   "id": "d2f506ce",
   "metadata": {
    "ExecuteTime": {
     "end_time": "2022-01-29T20:30:01.474831Z",
     "start_time": "2022-01-29T20:30:00.010731Z"
    }
   },
   "outputs": [],
   "source": [
    "import sys\n",
    "from itertools import groupby\n",
    "import numpy as np\n",
    "import cv2\n",
    "from tqdm.notebook import tqdm\n",
    "tqdm.pandas()\n",
    "import pandas as pd\n",
    "import os\n",
    "from glob import glob\n",
    "from multiprocessing import Pool\n",
    "import matplotlib.pyplot as plt\n",
    "# import cupy as cp\n",
    "import ast\n",
    "from pathlib import Path\n",
    "import pickle5 as pickle\n",
    "import torch\n",
    "\n",
    "import shutil\n",
    "import sys\n",
    "sys.path.append(\"../src/\")\n",
    "sys.path.append(\"../yolov5/\")\n",
    "\n",
    "import util\n",
    "\n",
    "from joblib import Parallel, delayed\n",
    "\n",
    "from IPython.display import display, HTML\n",
    "from sahi.model import Yolov5DetectionModel\n",
    "from sahi.utils.cv import read_image\n",
    "from sahi.utils.file import download_from_url\n",
    "from sahi.predict import get_prediction, get_sliced_prediction, predict\n",
    "from ensemble_boxes import weighted_boxes_fusion\n",
    "\n",
    "import albumentations as A\n",
    "\n",
    "from IPython.display import Image\n",
    "from matplotlib import animation, rc\n",
    "rc('animation', html='jshtml')"
   ]
  },
  {
   "cell_type": "code",
   "execution_count": null,
   "id": "e90818f1",
   "metadata": {
    "ExecuteTime": {
     "end_time": "2022-01-29T20:30:01.489271Z",
     "start_time": "2022-01-29T20:30:01.475916Z"
    }
   },
   "outputs": [],
   "source": [
    "CONF = 0\n",
    "IOU = 0.4\n",
    "AUGMENT = True # True \n",
    "SIZE = int(1280 * 1.3)  # 1280 * 1.3 \n",
    "#USE_CLACHE = True\n",
    "USE_SAHI = False"
   ]
  },
  {
   "cell_type": "markdown",
   "id": "3684e82d",
   "metadata": {},
   "source": [
    "# Load Data"
   ]
  },
  {
   "cell_type": "code",
   "execution_count": null,
   "id": "d069100c",
   "metadata": {
    "ExecuteTime": {
     "end_time": "2022-01-30T02:03:39.682269Z",
     "start_time": "2022-01-30T02:03:33.491237Z"
    }
   },
   "outputs": [],
   "source": [
    "df = util.load_pickle(\"pred_CV3_0128.pkl\")\n",
    "# df_2 = util.load_pickle(\"pred_CV3_s1800_0129.pkl\")\n",
    "# for col in df_2.columns:\n",
    "#     if col not in df.columns:\n",
    "#         df[col] = df_2[col]\n",
    "df_3 = util.load_pickle(\"pred_CV3_s1800_e11_0129.pkl\")\n",
    "for col in df_3.columns:\n",
    "    if col not in df.columns:\n",
    "        df[col] = df_3[col]\n",
    "df_4 = util.load_pickle(\"pred_CV3_s1280_clahe_0129.pkl\")\n",
    "for col in df_4.columns:\n",
    "    if col not in df.columns:\n",
    "        df[col] = df_4[col]\n",
    "        \n",
    "# df_5 = util.load_pickle(\"pred_CV3_s3600_e11_0129.pkl\")\n",
    "# df_5 = df_5.rename(columns = {\"pred_0129_yolov5l_v3_highFP_1800_e11_fold1\":\"pred_0129_yolov5l_v3_highFP_3600_e11_fold1\" })\n",
    "# for col in df_5.columns:\n",
    "#     if col not in df.columns:\n",
    "#         df[col] = df_5[col]\n",
    "\n",
    "df_6 = util.load_pickle(\"pred_CV3_s1800_clahe_0129.pkl\")\n",
    "for col in df_6.columns:\n",
    "    if col not in df.columns:\n",
    "        df[col] = df_6[col]\n",
    "        \n",
    "df_7 = util.load_pickle(\"pred_CV3_s2700_clahe_0129.pkl\")\n",
    "df_7 = df_7.rename(columns = {\"pred_0129_yolov5l_v3_1800_clahe_fold1\":\"pred_0129_yolov5l_v3_2700_clahe_fold1\" })\n",
    "for col in df_7.columns:\n",
    "    if col not in df.columns:\n",
    "        df[col] = df_7[col]"
   ]
  },
  {
   "cell_type": "code",
   "execution_count": null,
   "id": "7d2b8561",
   "metadata": {
    "ExecuteTime": {
     "end_time": "2022-01-30T02:03:39.697597Z",
     "start_time": "2022-01-30T02:03:39.683279Z"
    }
   },
   "outputs": [],
   "source": [
    "model_versions = [\"_\".join(col.split(\"_\")[1:-1]) for col in df.columns if \"_fold1\" in col]\n",
    "model_versions"
   ]
  },
  {
   "cell_type": "markdown",
   "id": "a5bd44aa",
   "metadata": {},
   "source": [
    "# Model"
   ]
  },
  {
   "cell_type": "markdown",
   "id": "36b30983",
   "metadata": {},
   "source": [
    "# Pick Conf Thresh"
   ]
  },
  {
   "cell_type": "code",
   "execution_count": null,
   "id": "9051cbe1",
   "metadata": {
    "ExecuteTime": {
     "end_time": "2022-01-30T02:03:39.929750Z",
     "start_time": "2022-01-30T02:03:39.716393Z"
    }
   },
   "outputs": [],
   "source": [
    "df_oof = df.query(\"fold == 1\").copy()\n",
    "gt_bboxs_list = []\n",
    "for index in df_oof.index:\n",
    "    gt_bboxs_list.append(np.array(df_oof.loc[index, \"real_bbox\"]))"
   ]
  },
  {
   "cell_type": "code",
   "execution_count": null,
   "id": "c7ec4428",
   "metadata": {
    "ExecuteTime": {
     "end_time": "2022-01-30T02:04:17.381455Z",
     "start_time": "2022-01-30T02:04:06.401523Z"
    }
   },
   "outputs": [],
   "source": [
    "#conf_ths = [5, 10, 15, 20, 25, 30, 35, 40]\n",
    "conf_ths = np.arange(15, 25, 1)\n",
    "#conf_ths = [12, 16, 18, 20, 22, 24]\n",
    "#conf_ths = [6, 8, 10, 12, 14]\n",
    "#conf_ths = [30, 32, 35, 38, 45, 50, 55]\n",
    "iou_ths = np.arange(0.3, 0.85, 0.05)\n",
    "fold = 1\n",
    "for model_version in model_versions:\n",
    "    if not model_version in ['0129_yolov5l_v3_2700_clahe']:\n",
    "        continue\n",
    "    pred_col = \"pred_\" + model_version + f\"_fold{fold}\"\n",
    "    for conf_th in conf_ths:\n",
    "        conf_th /= 100\n",
    "        prd_bboxs_list = []\n",
    "        for index in df_oof.index:\n",
    "            prd_bboxs = df_oof.loc[index, pred_col]\n",
    "            prd_bboxs = [p for p in prd_bboxs if p[0] >= conf_th]\n",
    "            prd_bboxs_list.append(np.array(prd_bboxs))\n",
    "        f2_dict = util.calc_f2_score(gt_bboxs_list, prd_bboxs_list, verbose=False)    \n",
    "        print(\"model {}, conf_th {:.2f}, f2 {:.3f}, precision {:.3f}, recall {:.3f}\".format(model_version, conf_th, f2_dict['f2'], f2_dict['P'], f2_dict['R']))"
   ]
  },
  {
   "cell_type": "code",
   "execution_count": null,
   "id": "6d5f4503",
   "metadata": {
    "ExecuteTime": {
     "end_time": "2022-01-30T02:04:27.776490Z",
     "start_time": "2022-01-30T02:04:27.757398Z"
    }
   },
   "outputs": [],
   "source": [
    "best_conf_dict = {\n",
    "    '0128_yolov5l_v3': 0.25,\n",
    "    \"0128_yolov5l_v3_highFP\": 0.25,\n",
    "    \"0129_yolov5l_v3_highFP_1800\": 0.25,\n",
    "    \"0129_yolov5l_v3_highFP_1800_e11\": 0.16,\n",
    "    \"0129_yolov5l_v3_highFP_clahe\": 0.19,\n",
    "    '0129_yolov5l_v3_highFP_3600_e11': 0.25,\n",
    "    '0129_yolov5l_v3_1800_clahe': 0.15,\n",
    "    '0129_yolov5l_v3_2700_clahe': 0.2,\n",
    "}"
   ]
  },
  {
   "cell_type": "code",
   "execution_count": null,
   "id": "32209ccd",
   "metadata": {
    "ExecuteTime": {
     "end_time": "2022-01-30T02:04:32.392837Z",
     "start_time": "2022-01-30T02:04:32.373436Z"
    }
   },
   "outputs": [],
   "source": [
    "pd.set_option('display.max_columns', 40)\n",
    "f_cols = [\"f2\"] + [\"f2_\" + str(round(th,3)) for th in np.arange(0.3, 0.85, 0.05)]\n",
    "P_cols = [\"P\"] + [\"P_\" + str(round(th,3)) for th in np.arange(0.3, 0.85, 0.05)]\n",
    "R_cols = [\"R\"] + [\"R_\" + str(round(th,3)) for th in np.arange(0.3, 0.85, 0.05)]"
   ]
  },
  {
   "cell_type": "code",
   "execution_count": null,
   "id": "a820dc32",
   "metadata": {
    "ExecuteTime": {
     "end_time": "2022-01-30T02:04:44.697579Z",
     "start_time": "2022-01-30T02:04:38.092228Z"
    }
   },
   "outputs": [],
   "source": [
    "df_perf_dict = {model_version: pd.DataFrame(columns=[\"all\"] + [str(round(th,3)) for th in np.arange(0.3, 0.85, 0.05)]).copy() for model_version in model_versions}\n",
    "fold = 1\n",
    "for model_version in model_versions:\n",
    "    pred_col = \"pred_\" + model_version + f\"_fold{fold}\"\n",
    "    conf_th = best_conf_dict[model_version]\n",
    "    prd_bboxs_list = []\n",
    "    for index in df_oof.index:\n",
    "        prd_bboxs = df_oof.loc[index, pred_col]\n",
    "        prd_bboxs = [p for p in prd_bboxs if p[0] >= conf_th]\n",
    "        prd_bboxs_list.append(np.array(prd_bboxs))\n",
    "    f2_dict = util.calc_f2_score(gt_bboxs_list, prd_bboxs_list, verbose=False)    \n",
    "    df_perf_dict[model_version].loc[\"f2\",:] = [f2_dict[col] for col in f_cols]\n",
    "    df_perf_dict[model_version].loc[\"P\",:] = [f2_dict[col] for col in P_cols]\n",
    "    df_perf_dict[model_version].loc[\"R\",:] = [f2_dict[col] for col in R_cols]\n",
    "    print(\"model {}, conf_th {:.2f}, f2 {:.3f}, precision {:.3f}, recall {:.3f}\".format(model_version, conf_th, f2_dict['f2'], f2_dict['P'], f2_dict['R']))\n",
    "    display(df_perf_dict[model_version].astype(float).style.format(\"{:.3f}\").background_gradient(axis=1))"
   ]
  },
  {
   "cell_type": "markdown",
   "id": "d078dcf1",
   "metadata": {},
   "source": [
    "# Tracking"
   ]
  },
  {
   "cell_type": "code",
   "execution_count": null,
   "id": "15b1dc28",
   "metadata": {
    "ExecuteTime": {
     "end_time": "2022-01-30T02:05:07.407667Z",
     "start_time": "2022-01-30T02:05:07.381086Z"
    }
   },
   "outputs": [],
   "source": [
    "from norfair import Detection, Tracker\n",
    "\n",
    "# Helper to convert bbox in format [x_min, y_min, x_max, y_max, score] to norfair.Detection class\n",
    "def to_norfair(detects, frame_id):\n",
    "    result = []\n",
    "    for x_min, y_min, x_max, y_max, score in detects:\n",
    "        xc, yc = (x_min + x_max) / 2, (y_min + y_max) / 2\n",
    "        w, h = x_max - x_min, y_max - y_min\n",
    "        result.append(Detection(points=np.array([xc, yc]), scores=np.array([score]), data=np.array([w, h, frame_id])))\n",
    "        \n",
    "    return result\n",
    "\n",
    "def euclidean_distance(detection, tracked_object):\n",
    "    return np.linalg.norm(detection.points - tracked_object.estimate)\n",
    "\n",
    "def tracking_function(tracker, frame_id, bboxes, scores, best_conf):\n",
    "    \n",
    "    detects = []\n",
    "    predictions = []\n",
    "    \n",
    "    if len(scores)>0:\n",
    "        for i in range(len(bboxes)):\n",
    "            # remember to check\n",
    "            if scores[i] <= best_conf:\n",
    "                continue\n",
    "            box = bboxes[i]\n",
    "            score = scores[i]\n",
    "            x_min = int(box[0])\n",
    "            y_min = int(box[1])\n",
    "            bbox_width = int(box[2])\n",
    "            bbox_height = int(box[3])\n",
    "            detects.append([x_min, y_min, x_min+bbox_width, y_min+bbox_height, score])\n",
    "            predictions.append('{:.2f} {} {} {} {}'.format(score, x_min, y_min, bbox_width, bbox_height))\n",
    "#             print(predictions[:-1])\n",
    "    # Update tracks using detects from current frame\n",
    "    tracked_objects = tracker.update(detections=to_norfair(detects, frame_id))\n",
    "    for tobj in tracked_objects:\n",
    "        bbox_width, bbox_height, last_detected_frame_id = tobj.last_detection.data\n",
    "        if last_detected_frame_id == frame_id:  # Skip objects that were detected on current frame\n",
    "            continue\n",
    "        # Add objects that have no detections on current frame to predictions\n",
    "        xc, yc = tobj.estimate[0]\n",
    "        x_min, y_min = int(round(xc - bbox_width / 2)), int(round(yc - bbox_height / 2))\n",
    "        \n",
    "        #exclude those in the edge\n",
    "        if (x_min + bbox_width >= 1280) or (y_min + bbox_height) >= 720 or (x_min <= 0) or (y_min <= 0):\n",
    "            continue\n",
    "        score = tobj.last_detection.scores[0]\n",
    "\n",
    "        predictions.append('{:.2f} {} {} {} {}'.format(score, x_min, y_min, bbox_width, bbox_height))\n",
    "        \n",
    "    return predictions"
   ]
  },
  {
   "cell_type": "code",
   "execution_count": null,
   "id": "37c7fcd9",
   "metadata": {
    "ExecuteTime": {
     "end_time": "2022-01-30T02:05:25.179788Z",
     "start_time": "2022-01-30T02:05:14.036216Z"
    }
   },
   "outputs": [],
   "source": [
    "df_perf_track_dict = {model_version: pd.DataFrame(columns=[\"all\"] + [str(round(th,3)) for th in np.arange(0.3, 0.85, 0.05)]).copy() for model_version in model_versions}\n",
    "df_oof.sort_values([\"video_id\",\"video_frame\"], inplace=True)\n",
    "df_oof[\"track_pred\"] = [[] for i in range(len(df_oof))]\n",
    "for model_version in model_versions:\n",
    "    BEST_CONF = best_conf_dict[model_version]\n",
    "    pred_col = \"pred_\" + model_version + f\"_fold1\"\n",
    "    previous_seq = -1\n",
    "    prd_bboxs_tracking_list = []\n",
    "    frame_id = 0\n",
    "    tracker = Tracker(\n",
    "        distance_function=euclidean_distance, \n",
    "        distance_threshold=30,\n",
    "        hit_inertia_min=3,\n",
    "        hit_inertia_max=6,\n",
    "        initialization_delay=1,\n",
    "    )          \n",
    "    for idx in df_oof.index:\n",
    "        row = df_oof.loc[idx]\n",
    "        if row[\"sequence\"] != previous_seq:\n",
    "            previous_seq = row[\"sequence\"]\n",
    "        prd_bboxs = row[pred_col]\n",
    "        bboxes, confis = [p[1:] for p in prd_bboxs], [p[0] for p in prd_bboxs]    \n",
    "        predictions = tracking_function(tracker, frame_id, bboxes, confis, BEST_CONF)    \n",
    "        prd_bboxs_tracking =  [[float(p) for p in pred.split(\" \")] for pred in predictions]\n",
    "        prd_bboxs_tracking_list.append(np.array(prd_bboxs_tracking))\n",
    "        df_oof.at[idx, \"track_pred\"].extend(prd_bboxs_tracking)\n",
    "        frame_id += 1        \n",
    "        \n",
    "    f2_dict = util.calc_f2_score(gt_bboxs_list, prd_bboxs_tracking_list, verbose=False) \n",
    "    df_perf_track_dict[model_version].loc[\"f2\",:] = [f2_dict[col] for col in f_cols]\n",
    "    df_perf_track_dict[model_version].loc[\"P\",:] = [f2_dict[col] for col in P_cols]\n",
    "    df_perf_track_dict[model_version].loc[\"R\",:] = [f2_dict[col] for col in R_cols]\n",
    "    df_oof[f'{model_version}_tps'] = f2_dict[\"tps\"]\n",
    "    df_oof[f'{model_version}_fps'] = f2_dict[\"fps\"]\n",
    "    df_oof[f'{model_version}_fns'] = f2_dict[\"fns\"]\n",
    "    print(\"Using Tracking new: model {}, conf_th {:.2f}, f2 {:.3f}, precision {:.3f}, recall {:.3f}\".format(model_version, BEST_CONF, f2_dict['f2'], f2_dict['P'], f2_dict['R']))\n",
    "    display(df_perf_track_dict[model_version].astype(float).style.format(\"{:.3f}\").background_gradient(axis=1))"
   ]
  },
  {
   "cell_type": "markdown",
   "id": "5e51bbaf",
   "metadata": {},
   "source": [
    "# Ensemble"
   ]
  },
  {
   "cell_type": "code",
   "execution_count": null,
   "id": "7906fdfb",
   "metadata": {
    "ExecuteTime": {
     "end_time": "2022-01-30T03:45:53.873597Z",
     "start_time": "2022-01-30T03:45:53.853585Z"
    }
   },
   "outputs": [],
   "source": [
    "from ensemble_boxes import weighted_boxes_fusion\n",
    "def run_wbf(bboxes, confs, iou_thr=0.5, skip_box_thr=0.00000001):\n",
    "    if len(bboxes) == 1:\n",
    "        return bboxes, confs, []    \n",
    "    labels = [np.ones(len(conf)) for conf in confs]\n",
    "    boxes, scores, labels = weighted_boxes_fusion(bboxes, confs, labels, iou_thr=iou_thr, skip_box_thr=skip_box_thr, allows_overflow=True)\n",
    "    return boxes, scores, labels"
   ]
  },
  {
   "cell_type": "code",
   "execution_count": null,
   "id": "aa0a239f",
   "metadata": {
    "ExecuteTime": {
     "end_time": "2022-01-30T04:11:52.890751Z",
     "start_time": "2022-01-30T04:11:50.316275Z"
    }
   },
   "outputs": [],
   "source": [
    "df_oof[\"wbf\"] = None\n",
    "wbf_models = ['0128_yolov5l_v3', '0128_yolov5l_v3_highFP', \"0129_yolov5l_v3_highFP_1800_e11\", '0129_yolov5l_v3_1800_clahe']\n",
    "for iou_thr in [0.4]:\n",
    "    iou_thr = iou_thr / 10\n",
    "    for skip_box_thr in [0.2]:\n",
    "        skip_box_thr = skip_box_thr / 10\n",
    "        prd_wbf_list = []\n",
    "        for idx in df_oof.index:\n",
    "            row = df_oof.loc[idx]\n",
    "            bboxes_l = []\n",
    "            confs_l = []    \n",
    "            frame_id = 0\n",
    "            tracker = Tracker(\n",
    "                distance_function=euclidean_distance, \n",
    "                distance_threshold=30,\n",
    "                hit_inertia_min=3,\n",
    "                hit_inertia_max=6,\n",
    "                initialization_delay=1,\n",
    "            )                      \n",
    "            for model_version in wbf_models:\n",
    "                BEST_CONF = best_conf_dict[model_version]\n",
    "                pred_col = \"pred_\" + model_version + f\"_fold1\"\n",
    "                prd_bboxs = row[pred_col]\n",
    "                prd_bboxs = [p for p in prd_bboxs if p[0] >= BEST_CONF]\n",
    "                bboxes, confis = [p[1:] for p in prd_bboxs], [p[0] for p in prd_bboxs]    \n",
    "                bboxes = np.array(bboxes,dtype=np.float64)\n",
    "                if len(bboxes) > 0:\n",
    "                    bboxes[:,2:] = bboxes[:,2:] + bboxes[:,:2]\n",
    "                    bboxes[:,0] = bboxes[:,0] / 1279.\n",
    "                    bboxes[:,1] = bboxes[:,1] / 719.\n",
    "                    bboxes[:,2] = bboxes[:,2] / 1279.\n",
    "                    bboxes[:,3] = bboxes[:,3] / 719.\n",
    "                bboxes_l.append(np.array(bboxes))\n",
    "                confs_l.append(confis)\n",
    "            bboxes_l = np.array(bboxes_l)\n",
    "            wbf_boxes, wbf_confs, _ = run_wbf(bboxes_l, confs_l, iou_thr, skip_box_thr)\n",
    "            if len(wbf_boxes) > 0:\n",
    "                wbf_boxes[:,0] = wbf_boxes[:,0] * 1279.\n",
    "                wbf_boxes[:,1] = wbf_boxes[:,1] * 719.\n",
    "                wbf_boxes[:,2] = wbf_boxes[:,2] * 1279.\n",
    "                wbf_boxes[:,3] = wbf_boxes[:,3] * 719.\n",
    "                wbf_boxes[:,2:] = wbf_boxes[:,2:] - wbf_boxes[:,:2]\n",
    "                \n",
    "            predictions = tracking_function(tracker, frame_id, wbf_boxes, wbf_confs, 0)\n",
    "            \n",
    "            prd_bboxs_tracking =  [[float(p) for p in pred.split(\" \")] for pred in predictions]\n",
    "            prd_wbf_list.append(np.array(prd_bboxs_tracking))\n",
    "            \n",
    "            frame_id += 1\n",
    "\n",
    "#             wbf_preds = [[wbf_confs[i]] + wbf_boxes[i].tolist() for i in range(len(wbf_boxes))]\n",
    "#             prd_wbf_list.append(np.array(wbf_preds))\n",
    "#             df_oof.at[idx, \"wbf\"] = wbf_preds\n",
    "\n",
    "        f2_dict = util.calc_f2_score(gt_bboxs_list, prd_wbf_list, verbose=False) \n",
    "        print(\"iou_thr {:.2f}, skip_box_thr {:.2f}, Using wbf, f2 {:.3f}, precision {:.3f}, recall {:.3f}\".format(iou_thr, skip_box_thr,f2_dict['f2'], f2_dict['P'], f2_dict['R']))"
   ]
  },
  {
   "cell_type": "code",
   "execution_count": null,
   "id": "dc015ded",
   "metadata": {},
   "outputs": [],
   "source": []
  },
  {
   "cell_type": "code",
   "execution_count": null,
   "id": "79a5a040",
   "metadata": {},
   "outputs": [],
   "source": []
  },
  {
   "cell_type": "markdown",
   "id": "e2b850d3",
   "metadata": {},
   "source": [
    "# check image"
   ]
  },
  {
   "cell_type": "code",
   "execution_count": null,
   "id": "52bca246",
   "metadata": {
    "ExecuteTime": {
     "end_time": "2022-01-29T21:05:28.773285Z",
     "start_time": "2022-01-29T21:05:28.387411Z"
    }
   },
   "outputs": [],
   "source": [
    "df_oof['tp'] = 0\n",
    "df_oof['fp'] = 0\n",
    "df_oof['fn'] = 0\n",
    "for key in model_versions:\n",
    "    df_oof[f'{key}_tp'] = df_oof[f'{key}_tps'].apply(np.sum)\n",
    "    df_oof[f'{key}_fp'] = df_oof[f'{key}_fps'].apply(np.sum)\n",
    "    df_oof[f'{key}_fn'] = df_oof[f'{key}_fns'].apply(np.sum)\n",
    "    df_oof['tp'] = df_oof['tp'] + df_oof[f'{key}_tp']\n",
    "    df_oof['fp'] = df_oof['fp'] + df_oof[f'{key}_fp']\n",
    "    df_oof['fn'] = df_oof['fn'] + df_oof[f'{key}_fn']"
   ]
  },
  {
   "cell_type": "code",
   "execution_count": null,
   "id": "4b233f8c",
   "metadata": {
    "ExecuteTime": {
     "end_time": "2022-01-29T21:05:28.790148Z",
     "start_time": "2022-01-29T21:05:28.774464Z"
    }
   },
   "outputs": [],
   "source": [
    "color_pred = [(0,125,0)]    \n",
    "color_real = [(255,0,0)]\n",
    "def plot_img(df, idx, keys, save=False, pre=\"\"):\n",
    "    row = df.iloc[idx]\n",
    "    path = row[\"image_path\"]\n",
    "    img = cv2.imread(str(path))[...,::-1]\n",
    "    real_bboxes = row[\"real_bbox\"]\n",
    "    preds = row[\"track_pred\"]\n",
    "#     for key in keys:\n",
    "#         best_conf = best_conf_dict[key]\n",
    "#         pred_col = \"pred_\" + key + \"_fold1\"\n",
    "#         if len(row[pred_col]) > 0:\n",
    "#             preds = preds + [p for p in row[pred_col] if p[0] >= best_conf]\n",
    "            \n",
    "    bboxes = [p[1:5] for p in preds]\n",
    "    confis = [p[0] for p in preds]\n",
    "    print(f\"video {row.video_id}, sequence {row.sequence}, frame {row.video_frame}\")\n",
    "    img_plot = util.show_img(img, \n",
    "                          bboxes + real_bboxes, \n",
    "                          confis + [1] * len(real_bboxes),\n",
    "                          color_pred  * len(bboxes) + color_real * len(real_bboxes), \n",
    "                          bbox_format='coco')\n",
    "    if save:\n",
    "        img_plot.save(f\"./pic_check/{pre}v{row.video_id}_frame{row.video_frame}_seq{row.sequence}.jpg\")\n",
    "    display(img_plot)"
   ]
  },
  {
   "cell_type": "code",
   "execution_count": null,
   "id": "693df2d2",
   "metadata": {
    "ExecuteTime": {
     "end_time": "2022-01-29T21:05:42.229636Z",
     "start_time": "2022-01-29T21:05:28.790998Z"
    }
   },
   "outputs": [],
   "source": [
    "for i, iou in tqdm(enumerate(np.arange(0.3,0.85,0.05))):\n",
    "    df_oof[f\"f2_{iou:.2f}\"] = 0\n",
    "    df_oof[f\"P_{iou:.2f}\"] = 0\n",
    "    df_oof[f\"R_{iou:.2f}\"] = 0\n",
    "    for idx in df_oof.index:\n",
    "        tp = 0\n",
    "        fp = 0\n",
    "        fn = 0\n",
    "        for key in model_versions:\n",
    "            tp += df_oof.loc[idx, f'{key}_tps'][i]\n",
    "            fp += df_oof.loc[idx, f'{key}_fps'][i]\n",
    "            fn += df_oof.loc[idx, f'{key}_fns'][i]\n",
    "        df_oof.loc[idx, f\"f2_{iou:.2f}\"] = util.f_beta(tp, fp, fn, beta=2)\n",
    "        df_oof.loc[idx, f\"P_{iou:.2f}\"] = util.f_beta(tp, fp, fn, beta=0)\n",
    "        df_oof.loc[idx, f\"R_{iou:.2f}\"] = util.f_beta(tp, fp, fn, beta=100)"
   ]
  },
  {
   "cell_type": "code",
   "execution_count": null,
   "id": "15e27e38",
   "metadata": {
    "ExecuteTime": {
     "end_time": "2022-01-29T21:05:42.254029Z",
     "start_time": "2022-01-29T21:05:42.230462Z"
    }
   },
   "outputs": [],
   "source": [
    "df_oof[\"f2\"] = df_oof[[f'f2_{iou:.2f}' for iou in np.arange(0.3,0.85,0.5)]].mean(axis=1)\n",
    "df_oof[\"P\"] = df_oof[[f'P_{iou:.2f}' for iou in np.arange(0.3,0.85,0.5)]].mean(axis=1)\n",
    "df_oof[\"R\"] = df_oof[[f'R_{iou:.2f}' for iou in np.arange(0.3,0.85,0.5)]].mean(axis=1)\n",
    "#df_oof.head()"
   ]
  },
  {
   "cell_type": "code",
   "execution_count": null,
   "id": "50bcf77b",
   "metadata": {
    "ExecuteTime": {
     "end_time": "2022-01-29T21:05:42.269282Z",
     "start_time": "2022-01-29T21:05:42.255210Z"
    }
   },
   "outputs": [],
   "source": [
    "show_col = [\"video_id\",\"sequence\",\"video_frame\",\"num_bbox\", \"f2\", \"P\", \"R\"]\n",
    "sub_col = [\"fp\"] + [key+\"_fp\" for key in model_versions]\n",
    "sub_col = sub_col + [\"tp\"] + [key+\"_tp\" for key in model_versions]\n",
    "sub_col = sub_col + [\"fn\"] + [key+\"_fn\" for key in model_versions]"
   ]
  },
  {
   "cell_type": "markdown",
   "id": "912a16c1",
   "metadata": {},
   "source": [
    "## most FP among empy group"
   ]
  },
  {
   "cell_type": "code",
   "execution_count": null,
   "id": "d1a3e6bf",
   "metadata": {
    "ExecuteTime": {
     "end_time": "2022-01-29T21:05:42.385480Z",
     "start_time": "2022-01-29T21:05:42.270108Z"
    }
   },
   "outputs": [],
   "source": [
    "df_neg = df_oof.query(\"num_bbox == 0\").copy()\n",
    "df_neg.sort_values(\"fp\", ascending=False, inplace=True)\n",
    "df_neg.reset_index(inplace=True, drop=True)\n",
    "df_neg[show_col + sub_col].head()"
   ]
  },
  {
   "cell_type": "code",
   "execution_count": null,
   "id": "4ae51ee2",
   "metadata": {
    "ExecuteTime": {
     "end_time": "2022-01-29T21:06:15.108719Z",
     "start_time": "2022-01-29T21:06:14.180938Z"
    },
    "scrolled": false
   },
   "outputs": [],
   "source": [
    "for i in range(5):\n",
    "    plot_img(df_neg, i, model_versions, save=False)"
   ]
  },
  {
   "attachments": {},
   "cell_type": "markdown",
   "id": "ec920a6a",
   "metadata": {},
   "source": [
    "## Most FP among non-empty group"
   ]
  },
  {
   "cell_type": "code",
   "execution_count": null,
   "id": "3d1f350a",
   "metadata": {
    "ExecuteTime": {
     "end_time": "2022-01-29T21:06:36.373359Z",
     "start_time": "2022-01-29T21:06:36.310331Z"
    }
   },
   "outputs": [],
   "source": [
    "df_pos = df_oof.query(\"num_bbox > 0\").copy()\n",
    "df_pos.sort_values(\"fp\", ascending=False, inplace=True)\n",
    "df_pos.reset_index(inplace=True, drop=True)\n",
    "df_pos[show_col + sub_col].head()"
   ]
  },
  {
   "cell_type": "code",
   "execution_count": null,
   "id": "0c64e661",
   "metadata": {
    "ExecuteTime": {
     "end_time": "2022-01-29T21:06:37.523201Z",
     "start_time": "2022-01-29T21:06:36.480647Z"
    },
    "scrolled": false
   },
   "outputs": [],
   "source": [
    "for i in range(5):\n",
    "    plot_img(df_pos, i, model_versions)"
   ]
  },
  {
   "cell_type": "markdown",
   "id": "fa143adf",
   "metadata": {},
   "source": [
    "## Most TP"
   ]
  },
  {
   "cell_type": "code",
   "execution_count": null,
   "id": "c5a83392",
   "metadata": {
    "ExecuteTime": {
     "end_time": "2022-01-29T21:06:37.550723Z",
     "start_time": "2022-01-29T21:06:37.524327Z"
    }
   },
   "outputs": [],
   "source": [
    "df_pos = df_oof.query(\"num_bbox > 0\").copy()\n",
    "df_pos.sort_values(\"tp\", ascending=False, inplace=True)\n",
    "df_pos.reset_index(inplace=True, drop=True)\n",
    "df_pos[show_col + sub_col].head(5)"
   ]
  },
  {
   "cell_type": "code",
   "execution_count": null,
   "id": "a7462d16",
   "metadata": {
    "ExecuteTime": {
     "end_time": "2022-01-29T21:06:38.270775Z",
     "start_time": "2022-01-29T21:06:37.686041Z"
    },
    "scrolled": false
   },
   "outputs": [],
   "source": [
    "for i in range(3):\n",
    "    plot_img(df_pos, i, model_versions)"
   ]
  },
  {
   "cell_type": "markdown",
   "id": "3cfba20d",
   "metadata": {},
   "source": [
    "## Most FN"
   ]
  },
  {
   "cell_type": "code",
   "execution_count": null,
   "id": "32684a19",
   "metadata": {
    "ExecuteTime": {
     "end_time": "2022-01-29T21:08:58.758750Z",
     "start_time": "2022-01-29T21:08:58.719398Z"
    }
   },
   "outputs": [],
   "source": [
    "df_pos = df_oof.query(\"num_bbox > 0\").copy()\n",
    "df_pos.sort_values(\"fn\", ascending=False, inplace=True)\n",
    "df_pos.reset_index(inplace=True, drop=True)\n",
    "df_pos[show_col + sub_col].head(10)"
   ]
  },
  {
   "cell_type": "code",
   "execution_count": null,
   "id": "f201ff01",
   "metadata": {
    "ExecuteTime": {
     "end_time": "2022-01-29T21:06:40.859989Z",
     "start_time": "2022-01-29T21:06:38.660991Z"
    },
    "scrolled": false
   },
   "outputs": [],
   "source": [
    "for i in range(10):\n",
    "    plot_img(df_pos, i, model_versions)"
   ]
  },
  {
   "cell_type": "markdown",
   "id": "7c7d6c50",
   "metadata": {},
   "source": [
    "# Improve FN"
   ]
  },
  {
   "cell_type": "code",
   "execution_count": null,
   "id": "79ff6f8b",
   "metadata": {
    "ExecuteTime": {
     "end_time": "2022-01-29T21:08:28.249579Z",
     "start_time": "2022-01-29T21:08:28.231739Z"
    }
   },
   "outputs": [],
   "source": [
    "egs = [\n",
    "    # sequence , frame id\n",
    "    (53708, 8926),\n",
    "    (53708, 8928),\n",
    "    (53708, 9654),\n",
    "    (53708, 9655),\n",
    "]"
   ]
  },
  {
   "cell_type": "code",
   "execution_count": null,
   "id": "ae8f23e5",
   "metadata": {
    "ExecuteTime": {
     "end_time": "2022-01-29T21:08:28.362365Z",
     "start_time": "2022-01-29T21:08:28.341664Z"
    }
   },
   "outputs": [],
   "source": [
    "\n",
    "def plot_img_2(df, sequence, frame_id, keys, save=False, pre=\"\", use_clahe=False, aug=None):\n",
    "    #row = df.iloc[idx]\n",
    "    row = df.query(\"sequence == @seq and video_frame == @frame_id\").iloc[0]\n",
    "    path = row[\"image_path\"]\n",
    "    img = cv2.imread(str(path))[...,::-1]\n",
    "    if use_clahe:\n",
    "        for i in range(3):\n",
    "            img[:, :, i] = clahe.apply((img[:, :, i]))         \n",
    "    if aug is not None:\n",
    "        img = aug(image=img)['image']\n",
    "    real_bboxes = row[\"real_bbox\"]\n",
    "    preds = row[\"track_pred\"]            \n",
    "    bboxes = [p[1:5] for p in preds]\n",
    "    confis = [p[0] for p in preds]\n",
    "    print(f\"video {row.video_id}, sequence {row.sequence}, frame {row.video_frame}\")\n",
    "    img_plot = util.show_img(img, \n",
    "                          bboxes + real_bboxes, \n",
    "                          confis + [1] * len(real_bboxes),\n",
    "                          color_pred  * len(bboxes) + color_real * len(real_bboxes), \n",
    "                          bbox_format='coco')\n",
    "    if save:\n",
    "        img_plot.save(f\"./pic_check/{pre}v{row.video_id}_frame{row.video_frame}_seq{row.sequence}.jpg\")\n",
    "    display(img_plot)"
   ]
  },
  {
   "cell_type": "code",
   "execution_count": null,
   "id": "e708e70e",
   "metadata": {
    "ExecuteTime": {
     "end_time": "2022-01-29T21:08:29.091680Z",
     "start_time": "2022-01-29T21:08:28.545683Z"
    },
    "scrolled": false
   },
   "outputs": [],
   "source": [
    "seq, frame = egs[0]\n",
    "seq_tp = 53708\n",
    "frame_tp = 9653\n",
    "plot_img_2(df_oof, seq, frame, model_versions, use_clahe=False)\n",
    "plot_img_2(df_oof, seq_tp, frame_tp, model_versions, use_clahe=False)"
   ]
  },
  {
   "cell_type": "markdown",
   "id": "b534af0b",
   "metadata": {},
   "source": [
    "## CLAHE"
   ]
  },
  {
   "cell_type": "code",
   "execution_count": null,
   "id": "92749300",
   "metadata": {
    "ExecuteTime": {
     "end_time": "2022-01-29T21:08:29.508627Z",
     "start_time": "2022-01-29T21:08:29.092568Z"
    },
    "scrolled": false
   },
   "outputs": [],
   "source": [
    "clahe = cv2.createCLAHE(clipLimit=5, tileGridSize=(10, 10))\n",
    "plot_img_2(df_oof, seq, frame, model_versions, use_clahe=True)\n",
    "plot_img_2(df_oof, seq_tp, frame_tp, model_versions, use_clahe=True)        "
   ]
  },
  {
   "cell_type": "markdown",
   "id": "f1a5585a",
   "metadata": {},
   "source": [
    "## HueSaturationValue"
   ]
  },
  {
   "cell_type": "code",
   "execution_count": null,
   "id": "9b9190e0",
   "metadata": {
    "ExecuteTime": {
     "end_time": "2022-01-29T21:08:30.003179Z",
     "start_time": "2022-01-29T21:08:29.509385Z"
    },
    "scrolled": true
   },
   "outputs": [],
   "source": [
    "aug = A.HueSaturationValue(hue_shift_limit=10,p = 1.0)\n",
    "plot_img_2(df_oof, seq, frame, model_versions, use_clahe=False, aug=aug)\n",
    "plot_img_2(df_oof, seq_tp, frame_tp, model_versions, use_clahe=False, aug=aug)        "
   ]
  },
  {
   "cell_type": "markdown",
   "id": "c8fcc2a7",
   "metadata": {},
   "source": [
    "## RGBShift"
   ]
  },
  {
   "cell_type": "code",
   "execution_count": null,
   "id": "40cf85a7",
   "metadata": {
    "ExecuteTime": {
     "end_time": "2022-01-29T21:08:32.341157Z",
     "start_time": "2022-01-29T21:08:31.816690Z"
    },
    "scrolled": false
   },
   "outputs": [],
   "source": [
    "aug = A.RGBShift(r_shift_limit = 40, b_shift_limit=0, g_shift_limit=0, p = 1.0)\n",
    "plot_img_2(df_oof, seq, frame, model_versions, use_clahe=False, aug=aug)\n",
    "plot_img_2(df_oof, seq_tp, frame_tp, model_versions, use_clahe=False, aug=aug)        "
   ]
  },
  {
   "cell_type": "markdown",
   "id": "26ffb43e",
   "metadata": {},
   "source": [
    "## FUnIE-GAN"
   ]
  },
  {
   "cell_type": "code",
   "execution_count": null,
   "id": "45e9c45a",
   "metadata": {
    "ExecuteTime": {
     "end_time": "2022-01-30T01:04:46.854094Z",
     "start_time": "2022-01-30T01:04:46.747035Z"
    }
   },
   "outputs": [],
   "source": [
    "sys.path.append(\"./FUnIE-GAN/PyTorch/\")\n",
    "from nets import funiegan\n",
    "\n",
    "model_path = \"./FUnIE-GAN/PyTorch/models/funie_generator.pth\"\n",
    "model = funiegan.GeneratorFunieGAN()\n",
    "model.load_state_dict(torch.load(model_path,map_location=torch.device('cpu')))"
   ]
  },
  {
   "cell_type": "code",
   "execution_count": null,
   "id": "0c44ce36",
   "metadata": {
    "ExecuteTime": {
     "end_time": "2022-01-30T01:05:40.530547Z",
     "start_time": "2022-01-30T01:05:40.510842Z"
    },
    "scrolled": true
   },
   "outputs": [],
   "source": [
    "model.eval()"
   ]
  },
  {
   "cell_type": "code",
   "execution_count": null,
   "id": "671885a7",
   "metadata": {
    "ExecuteTime": {
     "end_time": "2022-01-30T01:27:10.731951Z",
     "start_time": "2022-01-30T01:27:10.713724Z"
    }
   },
   "outputs": [],
   "source": [
    "import torchvision.transforms as transforms\n",
    "## data pipeline\n",
    "img_width, img_height, channels = 1280, 1280, 3\n",
    "transforms_ = [transforms.Resize((img_height, img_width), transforms.InterpolationMode.BICUBIC),\n",
    "               transforms.ToTensor(),\n",
    "               transforms.Normalize((0.5, 0.5, 0.5), (0.5, 0.5, 0.5)),]\n",
    "transform = transforms.Compose(transforms_)"
   ]
  },
  {
   "cell_type": "code",
   "execution_count": null,
   "id": "05b72b1d",
   "metadata": {
    "ExecuteTime": {
     "end_time": "2022-01-30T01:28:19.988387Z",
     "start_time": "2022-01-30T01:28:19.963765Z"
    }
   },
   "outputs": [],
   "source": [
    "path = df_oof.query(\"sequence == 53708 and video_frame == 8926\").iloc[0][\"image_path\"]\n",
    "path = df_oof.query(\"sequence == 53708 and video_frame == 9653\").iloc[0][\"image_path\"]"
   ]
  },
  {
   "cell_type": "code",
   "execution_count": null,
   "id": "c5ee9f2d",
   "metadata": {
    "ExecuteTime": {
     "end_time": "2022-01-30T01:28:22.219746Z",
     "start_time": "2022-01-30T01:28:20.470685Z"
    }
   },
   "outputs": [],
   "source": [
    "from PIL import Image\n",
    "from torch.autograd import Variable\n",
    "import torch\n",
    "Tensor = torch.FloatTensor \n",
    "#path = '../../data/tensorflow-great-barrier-reef/train_images/video_0/8926.jpg'\n",
    "inp_img = transform(Image.open(path))\n",
    "inp_img = Variable(inp_img).type(Tensor).unsqueeze(0)\n",
    "gen_img = model(inp_img)"
   ]
  },
  {
   "cell_type": "code",
   "execution_count": null,
   "id": "8ef4db60",
   "metadata": {
    "ExecuteTime": {
     "end_time": "2022-01-30T01:28:25.080828Z",
     "start_time": "2022-01-30T01:28:25.062249Z"
    }
   },
   "outputs": [],
   "source": [
    "from torchvision.utils import save_image"
   ]
  },
  {
   "cell_type": "code",
   "execution_count": null,
   "id": "01197ab0",
   "metadata": {
    "ExecuteTime": {
     "end_time": "2022-01-30T01:28:27.915312Z",
     "start_time": "2022-01-30T01:28:27.816283Z"
    }
   },
   "outputs": [],
   "source": [
    "save_image(gen_img, \"./test2.jpg\", normalize=True)"
   ]
  },
  {
   "cell_type": "code",
   "execution_count": null,
   "id": "b752c70d",
   "metadata": {
    "ExecuteTime": {
     "end_time": "2022-01-30T01:20:29.705368Z",
     "start_time": "2022-01-30T01:20:29.342252Z"
    },
    "scrolled": false
   },
   "outputs": [],
   "source": [
    "plt.imshow(gen_img.squeeze().data.permute(1, 2, 0).numpy())"
   ]
  },
  {
   "cell_type": "code",
   "execution_count": null,
   "id": "d87c5f4c",
   "metadata": {},
   "outputs": [],
   "source": []
  }
 ],
 "metadata": {
  "kernelspec": {
   "display_name": "base",
   "language": "python",
   "name": "base"
  },
  "language_info": {
   "codemirror_mode": {
    "name": "ipython",
    "version": 3
   },
   "file_extension": ".py",
   "mimetype": "text/x-python",
   "name": "python",
   "nbconvert_exporter": "python",
   "pygments_lexer": "ipython3",
   "version": "3.8.10"
  },
  "toc": {
   "base_numbering": 1,
   "nav_menu": {},
   "number_sections": true,
   "sideBar": true,
   "skip_h1_title": false,
   "title_cell": "Table of Contents",
   "title_sidebar": "Contents",
   "toc_cell": false,
   "toc_position": {
    "height": "calc(100% - 180px)",
    "left": "10px",
    "top": "150px",
    "width": "426.667px"
   },
   "toc_section_display": true,
   "toc_window_display": true
  }
 },
 "nbformat": 4,
 "nbformat_minor": 5
}
