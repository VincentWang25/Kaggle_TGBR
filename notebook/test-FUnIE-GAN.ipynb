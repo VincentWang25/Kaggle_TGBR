{
 "cells": [
  {
   "cell_type": "code",
   "execution_count": null,
   "id": "b023d49c",
   "metadata": {
    "ExecuteTime": {
     "end_time": "2022-01-09T14:50:43.025066Z",
     "start_time": "2022-01-09T14:50:42.395686Z"
    }
   },
   "outputs": [],
   "source": [
    "import os\n",
    "os.environ[\"CUDA_VISIBLE_DEVICES\"] = \"-1\"\n",
    "import sys\n",
    "sys.path.append(\"./FUnIE-GAN/PyTorch/\")\n",
    "from nets import funiegan\n",
    "\n",
    "import time\n",
    "import numpy as np\n",
    "from PIL import Image\n",
    "from glob import glob\n",
    "from ntpath import basename\n",
    "from os.path import join, exists\n",
    "# pytorch libs\n",
    "import torch\n",
    "import torch.nn as nn\n",
    "import torch.nn.functional as F\n",
    "from torch.autograd import Variable\n",
    "from torchvision.utils import save_image\n",
    "import torchvision.transforms as transforms"
   ]
  },
  {
   "cell_type": "code",
   "execution_count": null,
   "id": "75bb9792",
   "metadata": {
    "ExecuteTime": {
     "end_time": "2022-01-09T14:50:55.645042Z",
     "start_time": "2022-01-09T14:50:55.574823Z"
    }
   },
   "outputs": [],
   "source": [
    "is_cuda = torch.cuda.is_available()\n",
    "Tensor = torch.cuda.FloatTensor if is_cuda else torch.FloatTensor \n",
    "is_cuda"
   ]
  },
  {
   "cell_type": "code",
   "execution_count": null,
   "id": "edfa1013",
   "metadata": {
    "ExecuteTime": {
     "end_time": "2022-01-09T14:51:01.540964Z",
     "start_time": "2022-01-09T14:51:01.479463Z"
    }
   },
   "outputs": [],
   "source": [
    "model = funiegan.GeneratorFunieGAN()"
   ]
  },
  {
   "cell_type": "code",
   "execution_count": null,
   "id": "946cfe31",
   "metadata": {
    "ExecuteTime": {
     "end_time": "2022-01-09T14:52:00.811928Z",
     "start_time": "2022-01-09T14:52:00.791495Z"
    }
   },
   "outputs": [],
   "source": [
    "model_path = \"./FUnIE-GAN/PyTorch/models/funie_generator.pth\"\n",
    "model.load_state_dict(torch.load(model_path,map_location=torch.device('cpu')))\n",
    "if is_cuda: model.cuda()\n",
    "model.eval()\n",
    "print (\"Loaded model from %s\" % (model_path))"
   ]
  },
  {
   "cell_type": "code",
   "execution_count": null,
   "id": "bbffdabd",
   "metadata": {
    "ExecuteTime": {
     "end_time": "2022-01-09T15:00:22.757479Z",
     "start_time": "2022-01-09T15:00:22.754702Z"
    }
   },
   "outputs": [],
   "source": [
    "## data pipeline\n",
    "img_width, img_height, channels = 256, 256, 3\n",
    "transforms_ = [transforms.Resize((img_height, img_width), transforms.InterpolationMode.BICUBIC),\n",
    "               transforms.ToTensor(),\n",
    "               transforms.Normalize((0.5, 0.5, 0.5), (0.5, 0.5, 0.5)),]\n",
    "transform = transforms.Compose(transforms_)"
   ]
  },
  {
   "cell_type": "code",
   "execution_count": null,
   "id": "38476ff4",
   "metadata": {
    "ExecuteTime": {
     "end_time": "2022-01-09T15:00:23.621073Z",
     "start_time": "2022-01-09T15:00:23.618022Z"
    }
   },
   "outputs": [],
   "source": [
    "data_dir = \"./FUnIE-GAN/data/test/A/\"\n",
    "test_files = sorted(glob(join(data_dir, \"*.*\")))\n",
    "test_files"
   ]
  },
  {
   "cell_type": "code",
   "execution_count": null,
   "id": "c9945ceb",
   "metadata": {
    "ExecuteTime": {
     "end_time": "2022-01-09T15:08:11.760889Z",
     "start_time": "2022-01-09T15:08:11.688154Z"
    }
   },
   "outputs": [],
   "source": [
    "path = './FUnIE-GAN/data/test/A/1.jpg'\n",
    "inp_img = transform(Image.open(path))\n",
    "inp_img = Variable(inp_img).type(Tensor).unsqueeze(0)\n",
    "gen_img = model(inp_img)"
   ]
  },
  {
   "cell_type": "code",
   "execution_count": null,
   "id": "a3936359",
   "metadata": {
    "ExecuteTime": {
     "end_time": "2022-01-09T15:09:48.687676Z",
     "start_time": "2022-01-09T15:09:48.684263Z"
    }
   },
   "outputs": [],
   "source": [
    "gen_img.min()"
   ]
  },
  {
   "cell_type": "code",
   "execution_count": null,
   "id": "54813c89",
   "metadata": {
    "ExecuteTime": {
     "end_time": "2022-01-09T15:14:41.494197Z",
     "start_time": "2022-01-09T15:14:41.413222Z"
    }
   },
   "outputs": [],
   "source": [
    "plt.imshow(gen_img.squeeze().data.permute(1, 2, 0).numpy())"
   ]
  },
  {
   "cell_type": "code",
   "execution_count": null,
   "id": "5e756534",
   "metadata": {
    "ExecuteTime": {
     "end_time": "2022-01-09T15:56:32.504891Z",
     "start_time": "2022-01-09T15:56:32.102243Z"
    },
    "scrolled": true
   },
   "outputs": [],
   "source": [
    "import cv2\n",
    "import matplotlib.pyplot as plt\n",
    "path = '../../data/tensorflow-great-barrier-reef/train_images/video_0/16.jpg'\n",
    "img = cv2.imread(str(path))#[...,::-1]\n",
    "fig,axes = plt.subplots(1,2,figsize=(26,9))\n",
    "axes[0].imshow(img,interpolation=\"bilinear\")\n",
    "clahe = cv2.createCLAHE(clipLimit=7, tileGridSize=(14, 14))\n",
    "for i in range(3):\n",
    "    img[:, :, i] = clahe.apply((img[:, :, i]))\n",
    "img = img[...,::-1]\n",
    "axes[1].imshow(img)\n",
    "plt.show()"
   ]
  },
  {
   "cell_type": "code",
   "execution_count": null,
   "id": "aaff27ce",
   "metadata": {
    "ExecuteTime": {
     "end_time": "2022-01-09T15:54:30.476567Z",
     "start_time": "2022-01-09T15:54:30.462234Z"
    }
   },
   "outputs": [],
   "source": [
    "cv2.imread(str(path))[...,::-1].shape"
   ]
  },
  {
   "cell_type": "code",
   "execution_count": null,
   "id": "a110b94f",
   "metadata": {
    "ExecuteTime": {
     "end_time": "2022-01-09T15:54:39.442509Z",
     "start_time": "2022-01-09T15:54:39.421350Z"
    }
   },
   "outputs": [],
   "source": [
    "cv2.imread(str(path))[...].shape"
   ]
  },
  {
   "cell_type": "code",
   "execution_count": null,
   "id": "0ec8742c",
   "metadata": {},
   "outputs": [],
   "source": []
  }
 ],
 "metadata": {
  "kernelspec": {
   "display_name": "Python 3 (ipykernel)",
   "language": "python",
   "name": "python3"
  },
  "language_info": {
   "codemirror_mode": {
    "name": "ipython",
    "version": 3
   },
   "file_extension": ".py",
   "mimetype": "text/x-python",
   "name": "python",
   "nbconvert_exporter": "python",
   "pygments_lexer": "ipython3",
   "version": "3.8.10"
  },
  "toc": {
   "base_numbering": 1,
   "nav_menu": {},
   "number_sections": true,
   "sideBar": true,
   "skip_h1_title": false,
   "title_cell": "Table of Contents",
   "title_sidebar": "Contents",
   "toc_cell": false,
   "toc_position": {},
   "toc_section_display": true,
   "toc_window_display": false
  }
 },
 "nbformat": 4,
 "nbformat_minor": 5
}
