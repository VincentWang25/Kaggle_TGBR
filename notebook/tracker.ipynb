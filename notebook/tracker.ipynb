{
 "cells": [
  {
   "cell_type": "code",
   "execution_count": 26,
   "id": "62c99046",
   "metadata": {
    "ExecuteTime": {
     "end_time": "2022-02-12T22:01:29.405977Z",
     "start_time": "2022-02-12T22:01:29.392783Z"
    }
   },
   "outputs": [],
   "source": [
    "import numpy as np\n",
    "from norfair import Detection, Tracker\n",
    "\n",
    "# Helper to convert bbox in format [x_min, y_min, x_max, y_max, score] to norfair.Detection class\n",
    "def to_norfair(detects, frame_id):\n",
    "    result = []\n",
    "    for x_min, y_min, x_max, y_max, score in detects:\n",
    "        xc, yc = (x_min + x_max) / 2, (y_min + y_max) / 2\n",
    "        w, h = x_max - x_min, y_max - y_min\n",
    "        result.append(Detection(points=np.array([xc, yc]), scores=np.array([score]), data=np.array([w, h, frame_id])))\n",
    "        \n",
    "    return result\n",
    "\n",
    "def euclidean_distance(detection, tracked_object):\n",
    "    return np.linalg.norm(detection.points - tracked_object.estimate)\n",
    "\n",
    "def tracking_function(tracker, frame_id, bboxes, scores, best_conf, num_prev_bbox=None):\n",
    "    \n",
    "    detects = []\n",
    "    predictions = []\n",
    "    \n",
    "    if len(scores)>0:\n",
    "        for i in range(len(bboxes)):\n",
    "            # remember to check\n",
    "            if scores[i] <= best_conf:\n",
    "                continue\n",
    "            box = bboxes[i]\n",
    "            score = scores[i]\n",
    "            x_min = int(box[0])\n",
    "            y_min = int(box[1])\n",
    "            bbox_width = int(box[2])\n",
    "            bbox_height = int(box[3])\n",
    "            detects.append([x_min, y_min, x_min+bbox_width, y_min+bbox_height, score])\n",
    "            predictions.append('{:.2f} {} {} {} {}'.format(score, x_min, y_min, bbox_width, bbox_height))\n",
    "#             print(predictions[:-1])\n",
    "    # Update tracks using detects from current frame\n",
    "    tracked_objects = tracker.update(detections=to_norfair(detects, frame_id))\n",
    "    print(\"frame_id {}, number of notrack pred {}, number of tracked_objects {}, their frame_id {}, box x, y {}\".format(frame_id, len(bboxes), len(tracked_objects),\n",
    "                                                                                                           [o.last_detection.data[-1] for o in tracked_objects], \n",
    "                                                                                                            [o.estimate[0] for o in tracked_objects]))\n",
    "    print(\"hit counter {}\".format([o.hit_counter for o in tracked_objects ]) )\n",
    "    to_add_preds = []\n",
    "    for tobj in tracked_objects:\n",
    "        bbox_width, bbox_height, last_detected_frame_id = tobj.last_detection.data\n",
    "        if last_detected_frame_id == frame_id:  # Skip objects that were detected on current frame\n",
    "            continue\n",
    "        xc, yc = tobj.estimate[0]\n",
    "        x_min, y_min = int(round(xc - bbox_width / 2)), int(round(yc - bbox_height / 2))\n",
    "\n",
    "        #exclude those in the edge\n",
    "        if (x_min + bbox_width >= 1279) or (y_min + bbox_height) >= 719 or (x_min <= 1) or (y_min <= 1):\n",
    "            continue\n",
    "        score = tobj.last_detection.scores[0]            \n",
    "        track_pred = np.array([[x_min, y_min, bbox_width, bbox_height]])\n",
    "        #to_add_preds.append('{:.2f} {} {} {} {}'.format(score, x_min, y_min, bbox_width, bbox_height))\n",
    "        predictions.append('{:.2f} {} {} {} {}'.format(score, x_min, y_min, bbox_width, bbox_height))\n",
    "            \n",
    "        \n",
    "#     if (num_prev_bbox is None or (num_prev_bbox - len(predictions) + 1) >= len(to_add_preds)):\n",
    "#         predictions.extend(to_add_preds)\n",
    "        \n",
    "    return predictions, tracker"
   ]
  },
  {
   "cell_type": "code",
   "execution_count": 32,
   "id": "e8a4451d",
   "metadata": {
    "ExecuteTime": {
     "end_time": "2022-02-12T22:03:56.691173Z",
     "start_time": "2022-02-12T22:03:56.678450Z"
    }
   },
   "outputs": [
    {
     "name": "stdout",
     "output_type": "stream",
     "text": [
      "frame_id 0, number of notrack pred 1, number of tracked_objects 0, their frame_id [], box x, y []\n",
      "hit counter []\n",
      "['1.00 1 1 1 1']\n",
      "frame_id 1, number of notrack pred 1, number of tracked_objects 0, their frame_id [], box x, y []\n",
      "hit counter []\n",
      "['1.00 1 1 1 1']\n",
      "frame_id 2, number of notrack pred 1, number of tracked_objects 1, their frame_id [2], box x, y [array([1.5, 1.5])]\n",
      "hit counter [6]\n",
      "['1.00 1 1 1 1']\n",
      "frame_id 3, number of notrack pred 1, number of tracked_objects 1, their frame_id [3], box x, y [array([1.5, 1.5])]\n",
      "hit counter [7]\n",
      "['1.00 1 1 1 1']\n",
      "frame_id 4, number of notrack pred 1, number of tracked_objects 1, their frame_id [4], box x, y [array([1.5, 1.5])]\n",
      "hit counter [6]\n",
      "['1.00 1 1 1 1']\n",
      "frame_id 5, number of notrack pred 1, number of tracked_objects 1, their frame_id [5], box x, y [array([1.5, 1.5])]\n",
      "hit counter [7]\n",
      "['1.00 1 1 1 1']\n",
      "frame_id 6, number of notrack pred 1, number of tracked_objects 1, their frame_id [6], box x, y [array([1.5, 1.5])]\n",
      "hit counter [6]\n",
      "['1.00 1 1 1 1']\n",
      "frame_id 7, number of notrack pred 0, number of tracked_objects 1, their frame_id [6], box x, y [array([1.5, 1.5])]\n",
      "hit counter [5]\n",
      "[]\n",
      "frame_id 8, number of notrack pred 0, number of tracked_objects 1, their frame_id [6], box x, y [array([1.5, 1.5])]\n",
      "hit counter [4]\n",
      "[]\n",
      "frame_id 9, number of notrack pred 0, number of tracked_objects 1, their frame_id [6], box x, y [array([1.5, 1.5])]\n",
      "hit counter [3]\n",
      "[]\n",
      "frame_id 10, number of notrack pred 0, number of tracked_objects 1, their frame_id [6], box x, y [array([1.5, 1.5])]\n",
      "hit counter [2]\n",
      "[]\n",
      "frame_id 11, number of notrack pred 0, number of tracked_objects 0, their frame_id [], box x, y []\n",
      "hit counter []\n",
      "[]\n",
      "frame_id 12, number of notrack pred 0, number of tracked_objects 0, their frame_id [], box x, y []\n",
      "hit counter []\n",
      "[]\n",
      "frame_id 13, number of notrack pred 0, number of tracked_objects 0, their frame_id [], box x, y []\n",
      "hit counter []\n",
      "[]\n"
     ]
    }
   ],
   "source": [
    "# 1280 , 720\n",
    "bboxes = [[[1,1,1,1]] for _ in range(7)] + [[] for _ in range(7)]\n",
    "confs = [[1] for i in range(7)] + [[] for _ in range(7)]\n",
    "tracker = Tracker(\n",
    "    distance_function=euclidean_distance, \n",
    "    distance_threshold=30,\n",
    "    hit_inertia_min=3,\n",
    "    hit_inertia_max=6,\n",
    "    initialization_delay=2,\n",
    ")          \n",
    "for f in range(len(bboxes)):\n",
    "    p, tracker = tracking_function(tracker, f, bboxes[f], confs[f], 0, num_prev_bbox=None)\n",
    "    print(p)"
   ]
  },
  {
   "cell_type": "code",
   "execution_count": 29,
   "id": "2feaedd4",
   "metadata": {
    "ExecuteTime": {
     "end_time": "2022-02-12T22:02:25.502188Z",
     "start_time": "2022-02-12T22:02:25.499029Z"
    }
   },
   "outputs": [
    {
     "data": {
      "text/plain": [
       "[[1, 1, 1, 1]]"
      ]
     },
     "execution_count": 29,
     "metadata": {},
     "output_type": "execute_result"
    }
   ],
   "source": [
    "bboxes[0]"
   ]
  },
  {
   "cell_type": "code",
   "execution_count": 10,
   "id": "6191a367",
   "metadata": {
    "ExecuteTime": {
     "end_time": "2022-02-12T16:25:07.618299Z",
     "start_time": "2022-02-12T16:25:07.615631Z"
    }
   },
   "outputs": [
    {
     "data": {
      "text/plain": [
       "[[1, 1, 1, 1, 1, 1, 1, 1, 1, 1]]"
      ]
     },
     "execution_count": 10,
     "metadata": {},
     "output_type": "execute_result"
    }
   ],
   "source": [
    "confs"
   ]
  },
  {
   "cell_type": "code",
   "execution_count": null,
   "id": "af7122f5",
   "metadata": {},
   "outputs": [],
   "source": []
  }
 ],
 "metadata": {
  "kernelspec": {
   "display_name": "base",
   "language": "python",
   "name": "base"
  },
  "language_info": {
   "codemirror_mode": {
    "name": "ipython",
    "version": 3
   },
   "file_extension": ".py",
   "mimetype": "text/x-python",
   "name": "python",
   "nbconvert_exporter": "python",
   "pygments_lexer": "ipython3",
   "version": "3.8.10"
  },
  "toc": {
   "base_numbering": 1,
   "nav_menu": {},
   "number_sections": true,
   "sideBar": true,
   "skip_h1_title": false,
   "title_cell": "Table of Contents",
   "title_sidebar": "Contents",
   "toc_cell": false,
   "toc_position": {},
   "toc_section_display": true,
   "toc_window_display": false
  }
 },
 "nbformat": 4,
 "nbformat_minor": 5
}
