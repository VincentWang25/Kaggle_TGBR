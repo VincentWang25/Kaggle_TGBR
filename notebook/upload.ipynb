{
 "cells": [
  {
   "cell_type": "code",
   "execution_count": 1,
   "id": "616ad004",
   "metadata": {
    "ExecuteTime": {
     "end_time": "2022-02-03T22:21:31.173259Z",
     "start_time": "2022-02-03T22:21:31.157564Z"
    }
   },
   "outputs": [
    {
     "data": {
      "text/html": [
       "<style>.container { width:100% !important; }</style>"
      ],
      "text/plain": [
       "<IPython.core.display.HTML object>"
      ]
     },
     "metadata": {},
     "output_type": "display_data"
    }
   ],
   "source": [
    "%load_ext autoreload\n",
    "%autoreload 2\n",
    "\n",
    "from IPython.core.display import display, HTML\n",
    "display(HTML(\"<style>.container { width:100% !important; }</style>\"))"
   ]
  },
  {
   "cell_type": "code",
   "execution_count": 2,
   "id": "41d2542a",
   "metadata": {
    "ExecuteTime": {
     "end_time": "2022-02-03T22:21:31.178276Z",
     "start_time": "2022-02-03T22:21:31.173941Z"
    }
   },
   "outputs": [
    {
     "data": {
      "text/plain": [
       "'/home/vincent/miniconda3/bin/python3'"
      ]
     },
     "execution_count": 2,
     "metadata": {},
     "output_type": "execute_result"
    }
   ],
   "source": [
    "import sys\n",
    "sys.executable"
   ]
  },
  {
   "cell_type": "code",
   "execution_count": 3,
   "id": "24936f2a",
   "metadata": {
    "ExecuteTime": {
     "end_time": "2022-02-03T22:21:31.724665Z",
     "start_time": "2022-02-03T22:21:31.178815Z"
    }
   },
   "outputs": [
    {
     "data": {
      "text/plain": [
       "('1.10.1+cu102', '0.11.2+cu102')"
      ]
     },
     "execution_count": 3,
     "metadata": {},
     "output_type": "execute_result"
    }
   ],
   "source": [
    "import torch\n",
    "import torchvision\n",
    "torch.__version__, torchvision.__version__"
   ]
  },
  {
   "cell_type": "code",
   "execution_count": 4,
   "id": "572f347e",
   "metadata": {
    "ExecuteTime": {
     "end_time": "2022-02-03T22:21:32.411699Z",
     "start_time": "2022-02-03T22:21:31.725669Z"
    }
   },
   "outputs": [],
   "source": [
    "from itertools import groupby\n",
    "import numpy as np\n",
    "import cv2\n",
    "from tqdm.notebook import tqdm\n",
    "tqdm.pandas()\n",
    "import pandas as pd\n",
    "import os\n",
    "from multiprocessing import Pool\n",
    "import matplotlib.pyplot as plt\n",
    "# import cupy as cp\n",
    "import ast\n",
    "from pathlib import Path\n",
    "import pickle5 as pickle\n",
    "\n",
    "import shutil\n",
    "import sys\n",
    "sys.path.append(\"../src/\")\n",
    "sys.path.append(\"../yolov5/\")\n",
    "\n",
    "import util\n",
    "\n",
    "from joblib import Parallel, delayed\n",
    "\n",
    "from IPython.display import display, HTML\n",
    "\n",
    "from matplotlib import animation, rc\n",
    "rc('animation', html='jshtml')"
   ]
  },
  {
   "cell_type": "code",
   "execution_count": 5,
   "id": "333d6414",
   "metadata": {
    "ExecuteTime": {
     "end_time": "2022-02-03T22:21:36.409544Z",
     "start_time": "2022-02-03T22:21:32.412462Z"
    }
   },
   "outputs": [],
   "source": [
    "from mmdet.apis import init_detector, inference_detector"
   ]
  },
  {
   "cell_type": "code",
   "execution_count": 6,
   "id": "0954b7a8",
   "metadata": {
    "ExecuteTime": {
     "end_time": "2022-02-03T22:21:36.431803Z",
     "start_time": "2022-02-03T22:21:36.410407Z"
    }
   },
   "outputs": [],
   "source": [
    "meta_params = {}\n",
    "for model_version in [\"0203_m6_1200_sliced_S720_ma025_lr5e4_whole\"]:\n",
    "    model_folder = Path(f\"../output/{model_version}/\")\n",
    "    try:\n",
    "        params_path = model_folder / \"config\" / \"params.pkl\"\n",
    "        params = pickle.load(open(params_path, 'rb'))\n",
    "    except:\n",
    "        params_path = model_folder / \"config\" / \"params.yaml\"\n",
    "        params = util.load_yaml(params_path)\n",
    "    meta_params[model_version] = params"
   ]
  },
  {
   "cell_type": "code",
   "execution_count": 7,
   "id": "5d5be6d7",
   "metadata": {
    "ExecuteTime": {
     "end_time": "2022-02-03T22:21:36.448773Z",
     "start_time": "2022-02-03T22:21:36.432525Z"
    }
   },
   "outputs": [],
   "source": [
    "for model_version, params in meta_params.items():\n",
    "    for key, val in params.items():\n",
    "        if \"dir\" in key or \"path\" in key or \"file\" in key:\n",
    "            params[key] = Path(val)\n",
    "    meta_params[model_version] = params"
   ]
  },
  {
   "cell_type": "code",
   "execution_count": 8,
   "id": "c5f57be8",
   "metadata": {
    "ExecuteTime": {
     "end_time": "2022-02-03T22:22:17.296769Z",
     "start_time": "2022-02-03T22:21:36.449479Z"
    }
   },
   "outputs": [
    {
     "name": "stdout",
     "output_type": "stream",
     "text": [
      "Starting upload for file TGBR.zip\n"
     ]
    },
    {
     "name": "stderr",
     "output_type": "stream",
     "text": [
      "100%|██████████| 128M/128M [00:29<00:00, 4.50MB/s] \n",
      "  0%|          | 0.00/831 [00:00<?, ?B/s]"
     ]
    },
    {
     "name": "stdout",
     "output_type": "stream",
     "text": [
      "Upload successful: TGBR.zip (128MB)\n",
      "Starting upload for file log.txt\n"
     ]
    },
    {
     "name": "stderr",
     "output_type": "stream",
     "text": [
      "\r",
      "100%|██████████| 831/831 [00:01<00:00, 569B/s]\n",
      "\r",
      "  0%|          | 0.00/1.28k [00:00<?, ?B/s]"
     ]
    },
    {
     "name": "stdout",
     "output_type": "stream",
     "text": [
      "Upload successful: log.txt (831B)\n",
      "Starting upload for file config.zip\n"
     ]
    },
    {
     "name": "stderr",
     "output_type": "stream",
     "text": [
      "\r",
      "100%|██████████| 1.28k/1.28k [00:00<00:00, 1.32kB/s]"
     ]
    },
    {
     "name": "stdout",
     "output_type": "stream",
     "text": [
      "Upload successful: config.zip (1KB)\n",
      "Your private Dataset is being created. Please check progress at https://www.kaggle.com/vincentwang25/0203-m6-1200-sliced-S720-ma025-lr5e4-whole\n"
     ]
    },
    {
     "name": "stderr",
     "output_type": "stream",
     "text": [
      "\n"
     ]
    }
   ],
   "source": [
    "for params in meta_params.values():\n",
    "    util.upload(params)"
   ]
  },
  {
   "cell_type": "code",
   "execution_count": null,
   "id": "edd886aa",
   "metadata": {},
   "outputs": [],
   "source": []
  },
  {
   "cell_type": "code",
   "execution_count": null,
   "id": "01f64e8a",
   "metadata": {},
   "outputs": [],
   "source": []
  }
 ],
 "metadata": {
  "kernelspec": {
   "display_name": "base",
   "language": "python",
   "name": "base"
  },
  "language_info": {
   "codemirror_mode": {
    "name": "ipython",
    "version": 3
   },
   "file_extension": ".py",
   "mimetype": "text/x-python",
   "name": "python",
   "nbconvert_exporter": "python",
   "pygments_lexer": "ipython3",
   "version": "3.8.10"
  },
  "toc": {
   "base_numbering": 1,
   "nav_menu": {},
   "number_sections": true,
   "sideBar": true,
   "skip_h1_title": false,
   "title_cell": "Table of Contents",
   "title_sidebar": "Contents",
   "toc_cell": false,
   "toc_position": {},
   "toc_section_display": true,
   "toc_window_display": false
  }
 },
 "nbformat": 4,
 "nbformat_minor": 5
}
