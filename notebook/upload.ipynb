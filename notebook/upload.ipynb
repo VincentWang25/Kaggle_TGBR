{
 "cells": [
  {
   "cell_type": "code",
   "execution_count": 1,
   "id": "616ad004",
   "metadata": {
    "ExecuteTime": {
     "end_time": "2022-02-13T02:50:29.203351Z",
     "start_time": "2022-02-13T02:50:29.186182Z"
    }
   },
   "outputs": [
    {
     "data": {
      "text/html": [
       "<style>.container { width:100% !important; }</style>"
      ],
      "text/plain": [
       "<IPython.core.display.HTML object>"
      ]
     },
     "metadata": {},
     "output_type": "display_data"
    }
   ],
   "source": [
    "%load_ext autoreload\n",
    "%autoreload 2\n",
    "\n",
    "from IPython.core.display import display, HTML\n",
    "display(HTML(\"<style>.container { width:100% !important; }</style>\"))"
   ]
  },
  {
   "cell_type": "code",
   "execution_count": 2,
   "id": "41d2542a",
   "metadata": {
    "ExecuteTime": {
     "end_time": "2022-02-13T02:50:29.209186Z",
     "start_time": "2022-02-13T02:50:29.204318Z"
    }
   },
   "outputs": [
    {
     "data": {
      "text/plain": [
       "'/home/vincent/miniconda3/bin/python3'"
      ]
     },
     "execution_count": 2,
     "metadata": {},
     "output_type": "execute_result"
    }
   ],
   "source": [
    "import sys\n",
    "sys.executable"
   ]
  },
  {
   "cell_type": "code",
   "execution_count": 3,
   "id": "24936f2a",
   "metadata": {
    "ExecuteTime": {
     "end_time": "2022-02-13T02:50:29.717494Z",
     "start_time": "2022-02-13T02:50:29.209789Z"
    }
   },
   "outputs": [
    {
     "data": {
      "text/plain": [
       "('1.10.1+cu102', '0.11.2+cu102')"
      ]
     },
     "execution_count": 3,
     "metadata": {},
     "output_type": "execute_result"
    }
   ],
   "source": [
    "import torch\n",
    "import torchvision\n",
    "torch.__version__, torchvision.__version__"
   ]
  },
  {
   "cell_type": "code",
   "execution_count": 4,
   "id": "572f347e",
   "metadata": {
    "ExecuteTime": {
     "end_time": "2022-02-13T02:50:30.371733Z",
     "start_time": "2022-02-13T02:50:29.718689Z"
    }
   },
   "outputs": [],
   "source": [
    "from itertools import groupby\n",
    "import numpy as np\n",
    "import cv2\n",
    "from tqdm.notebook import tqdm\n",
    "tqdm.pandas()\n",
    "import pandas as pd\n",
    "import os\n",
    "from multiprocessing import Pool\n",
    "import matplotlib.pyplot as plt\n",
    "# import cupy as cp\n",
    "import ast\n",
    "from pathlib import Path\n",
    "import pickle5 as pickle\n",
    "\n",
    "import shutil\n",
    "import sys\n",
    "sys.path.append(\"../src/\")\n",
    "sys.path.append(\"../yolov5/\")\n",
    "\n",
    "import util\n",
    "\n",
    "from joblib import Parallel, delayed\n",
    "\n",
    "from IPython.display import display, HTML\n",
    "\n",
    "from matplotlib import animation, rc\n",
    "rc('animation', html='jshtml')"
   ]
  },
  {
   "cell_type": "code",
   "execution_count": 5,
   "id": "2cde0d1a",
   "metadata": {
    "ExecuteTime": {
     "end_time": "2022-02-13T02:50:30.384900Z",
     "start_time": "2022-02-13T02:50:30.372494Z"
    }
   },
   "outputs": [
    {
     "data": {
      "text/plain": [
       "(1316.9664, 1225)"
      ]
     },
     "execution_count": 5,
     "metadata": {},
     "output_type": "execute_result"
    }
   ],
   "source": [
    "1280 * 720 * 0.001429  , 35 * 35 "
   ]
  },
  {
   "cell_type": "code",
   "execution_count": 6,
   "id": "333d6414",
   "metadata": {
    "ExecuteTime": {
     "end_time": "2022-02-13T02:50:34.132642Z",
     "start_time": "2022-02-13T02:50:30.385586Z"
    }
   },
   "outputs": [],
   "source": [
    "from mmdet.apis import init_detector, inference_detector"
   ]
  },
  {
   "cell_type": "code",
   "execution_count": 7,
   "id": "0954b7a8",
   "metadata": {
    "ExecuteTime": {
     "end_time": "2022-02-13T02:50:34.153402Z",
     "start_time": "2022-02-13T02:50:34.133608Z"
    }
   },
   "outputs": [],
   "source": [
    "meta_params = {}\n",
    "for model_version in [\"0212_crcnn_1600_whole\"]:\n",
    "    model_folder = Path(f\"../output/{model_version}/\")\n",
    "    try:\n",
    "        params_path = model_folder / \"config\" / \"params.pkl\"\n",
    "        params = pickle.load(open(params_path, 'rb'))\n",
    "    except:\n",
    "        params_path = model_folder / \"config\" / \"params.yaml\"\n",
    "        params = util.load_yaml(params_path)\n",
    "    meta_params[model_version] = params"
   ]
  },
  {
   "cell_type": "code",
   "execution_count": 8,
   "id": "5d5be6d7",
   "metadata": {
    "ExecuteTime": {
     "end_time": "2022-02-13T02:50:34.168644Z",
     "start_time": "2022-02-13T02:50:34.154174Z"
    }
   },
   "outputs": [],
   "source": [
    "for model_version, params in meta_params.items():\n",
    "    for key, val in params.items():\n",
    "        if \"dir\" in key or \"path\" in key or \"file\" in key:\n",
    "            params[key] = Path(val)\n",
    "    meta_params[model_version] = params"
   ]
  },
  {
   "cell_type": "code",
   "execution_count": 9,
   "id": "c5f57be8",
   "metadata": {
    "ExecuteTime": {
     "end_time": "2022-02-13T02:55:53.563020Z",
     "start_time": "2022-02-13T02:50:34.169398Z"
    }
   },
   "outputs": [
    {
     "name": "stdout",
     "output_type": "stream",
     "text": [
      "Starting upload for file config.py\n"
     ]
    },
    {
     "name": "stderr",
     "output_type": "stream",
     "text": [
      "100%|██████████| 15.5k/15.5k [00:01<00:00, 13.5kB/s]\n",
      "  0%|          | 0.00/26.6k [00:00<?, ?B/s]"
     ]
    },
    {
     "name": "stdout",
     "output_type": "stream",
     "text": [
      "Upload successful: config.py (16KB)\n",
      "Starting upload for file 20220212_184542.log.json\n"
     ]
    },
    {
     "name": "stderr",
     "output_type": "stream",
     "text": [
      "\r",
      "100%|██████████| 26.6k/26.6k [00:01<00:00, 26.3kB/s]\n",
      "\r",
      "  0%|          | 0.00/527M [00:00<?, ?B/s]"
     ]
    },
    {
     "name": "stdout",
     "output_type": "stream",
     "text": [
      "Upload successful: 20220212_184542.log.json (27KB)\n",
      "Starting upload for file latest.pth\n"
     ]
    },
    {
     "name": "stderr",
     "output_type": "stream",
     "text": [
      "100%|██████████| 527M/527M [02:38<00:00, 3.48MB/s] \n",
      "  0%|          | 0.00/11.3k [00:00<?, ?B/s]"
     ]
    },
    {
     "name": "stdout",
     "output_type": "stream",
     "text": [
      "Upload successful: latest.pth (527MB)\n",
      "Starting upload for file log.txt\n"
     ]
    },
    {
     "name": "stderr",
     "output_type": "stream",
     "text": [
      "\r",
      "100%|██████████| 11.3k/11.3k [00:00<00:00, 16.0kB/s]\n",
      "\r",
      "  0%|          | 0.00/527M [00:00<?, ?B/s]\r",
      "  0%|          | 352k/527M [00:00<02:39, 3.46MB/s]"
     ]
    },
    {
     "name": "stdout",
     "output_type": "stream",
     "text": [
      "Upload successful: log.txt (11KB)\n",
      "Starting upload for file epoch_11.pth\n"
     ]
    },
    {
     "name": "stderr",
     "output_type": "stream",
     "text": [
      "100%|██████████| 527M/527M [02:30<00:00, 3.68MB/s] \n",
      "  0%|          | 0.00/5.10k [00:00<?, ?B/s]"
     ]
    },
    {
     "name": "stdout",
     "output_type": "stream",
     "text": [
      "Upload successful: epoch_11.pth (527MB)\n",
      "Starting upload for file tf_logs.zip\n"
     ]
    },
    {
     "name": "stderr",
     "output_type": "stream",
     "text": [
      "100%|██████████| 5.10k/5.10k [00:01<00:00, 3.71kB/s]\n",
      "  0%|          | 0.00/52.8k [00:00<?, ?B/s]"
     ]
    },
    {
     "name": "stdout",
     "output_type": "stream",
     "text": [
      "Upload successful: tf_logs.zip (5KB)\n",
      "Starting upload for file 20220212_184542.log\n"
     ]
    },
    {
     "name": "stderr",
     "output_type": "stream",
     "text": [
      "100%|██████████| 52.8k/52.8k [00:00<00:00, 55.4kB/s]\n",
      "  0%|          | 0.00/272k [00:00<?, ?B/s]"
     ]
    },
    {
     "name": "stdout",
     "output_type": "stream",
     "text": [
      "Upload successful: 20220212_184542.log (53KB)\n",
      "Starting upload for file config.zip\n"
     ]
    },
    {
     "name": "stderr",
     "output_type": "stream",
     "text": [
      "\r",
      "100%|██████████| 272k/272k [00:00<00:00, 328kB/s]"
     ]
    },
    {
     "name": "stdout",
     "output_type": "stream",
     "text": [
      "Upload successful: config.zip (272KB)\n",
      "Your private Dataset is being created. Please check progress at https://www.kaggle.com/vincentwang25/0212-crcnn-1600-whole\n"
     ]
    },
    {
     "name": "stderr",
     "output_type": "stream",
     "text": [
      "\n"
     ]
    }
   ],
   "source": [
    "for params in meta_params.values():\n",
    "    util.upload(params)"
   ]
  },
  {
   "cell_type": "code",
   "execution_count": null,
   "id": "5589449f",
   "metadata": {},
   "outputs": [],
   "source": []
  },
  {
   "cell_type": "code",
   "execution_count": null,
   "id": "0c12b922",
   "metadata": {},
   "outputs": [],
   "source": []
  }
 ],
 "metadata": {
  "kernelspec": {
   "display_name": "base",
   "language": "python",
   "name": "base"
  },
  "language_info": {
   "codemirror_mode": {
    "name": "ipython",
    "version": 3
   },
   "file_extension": ".py",
   "mimetype": "text/x-python",
   "name": "python",
   "nbconvert_exporter": "python",
   "pygments_lexer": "ipython3",
   "version": "3.8.10"
  },
  "toc": {
   "base_numbering": 1,
   "nav_menu": {},
   "number_sections": true,
   "sideBar": true,
   "skip_h1_title": false,
   "title_cell": "Table of Contents",
   "title_sidebar": "Contents",
   "toc_cell": false,
   "toc_position": {},
   "toc_section_display": true,
   "toc_window_display": false
  }
 },
 "nbformat": 4,
 "nbformat_minor": 5
}
