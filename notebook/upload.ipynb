{
 "cells": [
  {
   "cell_type": "code",
   "execution_count": 1,
   "id": "616ad004",
   "metadata": {
    "ExecuteTime": {
     "end_time": "2022-02-07T21:31:06.166727Z",
     "start_time": "2022-02-07T21:31:06.150361Z"
    }
   },
   "outputs": [
    {
     "data": {
      "text/html": [
       "<style>.container { width:100% !important; }</style>"
      ],
      "text/plain": [
       "<IPython.core.display.HTML object>"
      ]
     },
     "metadata": {},
     "output_type": "display_data"
    }
   ],
   "source": [
    "%load_ext autoreload\n",
    "%autoreload 2\n",
    "\n",
    "from IPython.core.display import display, HTML\n",
    "display(HTML(\"<style>.container { width:100% !important; }</style>\"))"
   ]
  },
  {
   "cell_type": "code",
   "execution_count": 2,
   "id": "41d2542a",
   "metadata": {
    "ExecuteTime": {
     "end_time": "2022-02-07T21:31:06.173219Z",
     "start_time": "2022-02-07T21:31:06.167540Z"
    }
   },
   "outputs": [
    {
     "data": {
      "text/plain": [
       "'/home/vincent/miniconda3/bin/python3'"
      ]
     },
     "execution_count": 2,
     "metadata": {},
     "output_type": "execute_result"
    }
   ],
   "source": [
    "import sys\n",
    "sys.executable"
   ]
  },
  {
   "cell_type": "code",
   "execution_count": 3,
   "id": "24936f2a",
   "metadata": {
    "ExecuteTime": {
     "end_time": "2022-02-07T21:31:06.748686Z",
     "start_time": "2022-02-07T21:31:06.173858Z"
    }
   },
   "outputs": [
    {
     "data": {
      "text/plain": [
       "('1.10.1+cu102', '0.11.2+cu102')"
      ]
     },
     "execution_count": 3,
     "metadata": {},
     "output_type": "execute_result"
    }
   ],
   "source": [
    "import torch\n",
    "import torchvision\n",
    "torch.__version__, torchvision.__version__"
   ]
  },
  {
   "cell_type": "code",
   "execution_count": 4,
   "id": "572f347e",
   "metadata": {
    "ExecuteTime": {
     "end_time": "2022-02-07T21:31:07.459724Z",
     "start_time": "2022-02-07T21:31:06.749621Z"
    }
   },
   "outputs": [],
   "source": [
    "from itertools import groupby\n",
    "import numpy as np\n",
    "import cv2\n",
    "from tqdm.notebook import tqdm\n",
    "tqdm.pandas()\n",
    "import pandas as pd\n",
    "import os\n",
    "from multiprocessing import Pool\n",
    "import matplotlib.pyplot as plt\n",
    "# import cupy as cp\n",
    "import ast\n",
    "from pathlib import Path\n",
    "import pickle5 as pickle\n",
    "\n",
    "import shutil\n",
    "import sys\n",
    "sys.path.append(\"../src/\")\n",
    "sys.path.append(\"../yolov5/\")\n",
    "\n",
    "import util\n",
    "\n",
    "from joblib import Parallel, delayed\n",
    "\n",
    "from IPython.display import display, HTML\n",
    "\n",
    "from matplotlib import animation, rc\n",
    "rc('animation', html='jshtml')"
   ]
  },
  {
   "cell_type": "code",
   "execution_count": 5,
   "id": "333d6414",
   "metadata": {
    "ExecuteTime": {
     "end_time": "2022-02-07T21:31:11.485264Z",
     "start_time": "2022-02-07T21:31:07.460627Z"
    }
   },
   "outputs": [],
   "source": [
    "from mmdet.apis import init_detector, inference_detector"
   ]
  },
  {
   "cell_type": "code",
   "execution_count": 9,
   "id": "0954b7a8",
   "metadata": {
    "ExecuteTime": {
     "end_time": "2022-02-08T03:47:33.208203Z",
     "start_time": "2022-02-08T03:47:33.180037Z"
    }
   },
   "outputs": [],
   "source": [
    "meta_params = {}\n",
    "for model_version in [\"0207_yolov5m6_B_LS02_newGT_clahe_whole\"]:\n",
    "    model_folder = Path(f\"../output/{model_version}/\")\n",
    "    try:\n",
    "        params_path = model_folder / \"config\" / \"params.pkl\"\n",
    "        params = pickle.load(open(params_path, 'rb'))\n",
    "    except:\n",
    "        params_path = model_folder / \"config\" / \"params.yaml\"\n",
    "        params = util.load_yaml(params_path)\n",
    "    meta_params[model_version] = params"
   ]
  },
  {
   "cell_type": "code",
   "execution_count": 10,
   "id": "5d5be6d7",
   "metadata": {
    "ExecuteTime": {
     "end_time": "2022-02-08T03:47:33.877476Z",
     "start_time": "2022-02-08T03:47:33.856664Z"
    }
   },
   "outputs": [],
   "source": [
    "for model_version, params in meta_params.items():\n",
    "    for key, val in params.items():\n",
    "        if \"dir\" in key or \"path\" in key or \"file\" in key:\n",
    "            params[key] = Path(val)\n",
    "    meta_params[model_version] = params"
   ]
  },
  {
   "cell_type": "code",
   "execution_count": 11,
   "id": "c5f57be8",
   "metadata": {
    "ExecuteTime": {
     "end_time": "2022-02-08T03:48:02.337747Z",
     "start_time": "2022-02-08T03:47:34.025562Z"
    }
   },
   "outputs": [
    {
     "name": "stdout",
     "output_type": "stream",
     "text": [
      "Starting upload for file TGBR.zip\n"
     ]
    },
    {
     "name": "stderr",
     "output_type": "stream",
     "text": [
      "100%|██████████| 128M/128M [00:17<00:00, 7.66MB/s]   \n",
      "  0%|          | 0.00/852 [00:00<?, ?B/s]"
     ]
    },
    {
     "name": "stdout",
     "output_type": "stream",
     "text": [
      "Upload successful: TGBR.zip (128MB)\n",
      "Starting upload for file log.txt\n"
     ]
    },
    {
     "name": "stderr",
     "output_type": "stream",
     "text": [
      "100%|██████████| 852/852 [00:01<00:00, 775B/s]\n",
      " 97%|█████████▋| 352k/362k [00:00<00:00, 3.40MB/s]"
     ]
    },
    {
     "name": "stdout",
     "output_type": "stream",
     "text": [
      "Upload successful: log.txt (852B)\n",
      "Starting upload for file config.zip\n"
     ]
    },
    {
     "name": "stderr",
     "output_type": "stream",
     "text": [
      "\r",
      "100%|██████████| 362k/362k [00:01<00:00, 298kB/s] "
     ]
    },
    {
     "name": "stdout",
     "output_type": "stream",
     "text": [
      "Upload successful: config.zip (362KB)\n",
      "Your private Dataset is being created. Please check progress at https://www.kaggle.com/vincentwang25/0207-yolov5m6-B-LS02-newGT-clahe-whole\n"
     ]
    },
    {
     "name": "stderr",
     "output_type": "stream",
     "text": [
      "\n"
     ]
    }
   ],
   "source": [
    "for params in meta_params.values():\n",
    "    util.upload(params)"
   ]
  },
  {
   "cell_type": "code",
   "execution_count": null,
   "id": "5589449f",
   "metadata": {},
   "outputs": [],
   "source": []
  },
  {
   "cell_type": "code",
   "execution_count": null,
   "id": "0c12b922",
   "metadata": {},
   "outputs": [],
   "source": []
  }
 ],
 "metadata": {
  "kernelspec": {
   "display_name": "base",
   "language": "python",
   "name": "base"
  },
  "language_info": {
   "codemirror_mode": {
    "name": "ipython",
    "version": 3
   },
   "file_extension": ".py",
   "mimetype": "text/x-python",
   "name": "python",
   "nbconvert_exporter": "python",
   "pygments_lexer": "ipython3",
   "version": "3.8.10"
  },
  "toc": {
   "base_numbering": 1,
   "nav_menu": {},
   "number_sections": true,
   "sideBar": true,
   "skip_h1_title": false,
   "title_cell": "Table of Contents",
   "title_sidebar": "Contents",
   "toc_cell": false,
   "toc_position": {},
   "toc_section_display": true,
   "toc_window_display": false
  }
 },
 "nbformat": 4,
 "nbformat_minor": 5
}
