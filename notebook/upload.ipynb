{
 "cells": [
  {
   "cell_type": "code",
   "execution_count": 1,
   "id": "616ad004",
   "metadata": {
    "ExecuteTime": {
     "end_time": "2022-01-21T13:42:38.977567Z",
     "start_time": "2022-01-21T13:42:38.959276Z"
    }
   },
   "outputs": [
    {
     "data": {
      "text/html": [
       "<style>.container { width:100% !important; }</style>"
      ],
      "text/plain": [
       "<IPython.core.display.HTML object>"
      ]
     },
     "metadata": {},
     "output_type": "display_data"
    }
   ],
   "source": [
    "%load_ext autoreload\n",
    "%autoreload 2\n",
    "\n",
    "from IPython.core.display import display, HTML\n",
    "display(HTML(\"<style>.container { width:100% !important; }</style>\"))"
   ]
  },
  {
   "cell_type": "code",
   "execution_count": 2,
   "id": "41d2542a",
   "metadata": {
    "ExecuteTime": {
     "end_time": "2022-01-21T13:42:38.984007Z",
     "start_time": "2022-01-21T13:42:38.978382Z"
    }
   },
   "outputs": [
    {
     "data": {
      "text/plain": [
       "'/home/vincent/miniconda3/envs/openmmlab/bin/python'"
      ]
     },
     "execution_count": 2,
     "metadata": {},
     "output_type": "execute_result"
    }
   ],
   "source": [
    "import sys\n",
    "sys.executable"
   ]
  },
  {
   "cell_type": "code",
   "execution_count": 3,
   "id": "24936f2a",
   "metadata": {
    "ExecuteTime": {
     "end_time": "2022-01-21T13:42:39.277937Z",
     "start_time": "2022-01-21T13:42:38.984658Z"
    }
   },
   "outputs": [
    {
     "data": {
      "text/plain": [
       "('1.6.0', '0.7.0')"
      ]
     },
     "execution_count": 3,
     "metadata": {},
     "output_type": "execute_result"
    }
   ],
   "source": [
    "import torch\n",
    "import torchvision\n",
    "torch.__version__, torchvision.__version__"
   ]
  },
  {
   "cell_type": "code",
   "execution_count": 4,
   "id": "572f347e",
   "metadata": {
    "ExecuteTime": {
     "end_time": "2022-01-21T13:42:39.880421Z",
     "start_time": "2022-01-21T13:42:39.278917Z"
    }
   },
   "outputs": [],
   "source": [
    "from itertools import groupby\n",
    "import numpy as np\n",
    "import cv2\n",
    "from tqdm.notebook import tqdm\n",
    "tqdm.pandas()\n",
    "import pandas as pd\n",
    "import os\n",
    "from multiprocessing import Pool\n",
    "import matplotlib.pyplot as plt\n",
    "# import cupy as cp\n",
    "import ast\n",
    "from pathlib import Path\n",
    "import pickle5 as pickle\n",
    "\n",
    "import shutil\n",
    "import sys\n",
    "sys.path.append(\"../src/\")\n",
    "sys.path.append(\"../yolov5/\")\n",
    "\n",
    "import util\n",
    "\n",
    "from joblib import Parallel, delayed\n",
    "\n",
    "from IPython.display import display, HTML\n",
    "\n",
    "from matplotlib import animation, rc\n",
    "rc('animation', html='jshtml')"
   ]
  },
  {
   "cell_type": "code",
   "execution_count": 5,
   "id": "333d6414",
   "metadata": {
    "ExecuteTime": {
     "end_time": "2022-01-21T13:42:43.462832Z",
     "start_time": "2022-01-21T13:42:39.881237Z"
    }
   },
   "outputs": [],
   "source": [
    "from mmdet.apis import init_detector, inference_detector"
   ]
  },
  {
   "cell_type": "code",
   "execution_count": 6,
   "id": "0954b7a8",
   "metadata": {
    "ExecuteTime": {
     "end_time": "2022-01-21T13:42:43.482711Z",
     "start_time": "2022-01-21T13:42:43.463750Z"
    }
   },
   "outputs": [],
   "source": [
    "meta_params = {}\n",
    "for model_version in ['0120_swin']:#, '0110_yolov5l_fold0_new_hyp_remove_noaug']:\n",
    "    model_folder = Path(f\"../output/{model_version}/\")\n",
    "    try:\n",
    "        params_path = model_folder / \"config\" / \"params.pkl\"\n",
    "        params = pickle.load(open(params_path, 'rb'))\n",
    "    except:\n",
    "        params_path = model_folder / \"config\" / \"params.yaml\"\n",
    "        params = util.load_yaml(params_path)\n",
    "    meta_params[model_version] = params"
   ]
  },
  {
   "cell_type": "code",
   "execution_count": 7,
   "id": "5d5be6d7",
   "metadata": {
    "ExecuteTime": {
     "end_time": "2022-01-21T13:42:43.499811Z",
     "start_time": "2022-01-21T13:42:43.483597Z"
    }
   },
   "outputs": [],
   "source": [
    "for model_version, params in meta_params.items():\n",
    "    for key, val in params.items():\n",
    "        if \"dir\" in key or \"path\" in key or \"file\" in key:\n",
    "            params[key] = Path(val)\n",
    "    meta_params[model_version] = params"
   ]
  },
  {
   "cell_type": "code",
   "execution_count": 8,
   "id": "c5f57be8",
   "metadata": {
    "ExecuteTime": {
     "end_time": "2022-01-21T13:46:42.960652Z",
     "start_time": "2022-01-21T13:42:43.500595Z"
    }
   },
   "outputs": [
    {
     "name": "stdout",
     "output_type": "stream",
     "text": [
      "Starting upload for file config.py\n"
     ]
    },
    {
     "name": "stderr",
     "output_type": "stream",
     "text": [
      "100%|██████████| 11.8k/11.8k [00:01<00:00, 9.76kB/s]\n",
      "  0%|          | 0.00/9.39k [00:00<?, ?B/s]"
     ]
    },
    {
     "name": "stdout",
     "output_type": "stream",
     "text": [
      "Upload successful: config.py (12KB)\n",
      "Skipping: latest.pth\n",
      "Starting upload for file log.txt\n"
     ]
    },
    {
     "name": "stderr",
     "output_type": "stream",
     "text": [
      "\r",
      "100%|██████████| 9.39k/9.39k [00:00<00:00, 10.5kB/s]\n",
      "\r",
      "  0%|          | 0.00/128k [00:00<?, ?B/s]"
     ]
    },
    {
     "name": "stdout",
     "output_type": "stream",
     "text": [
      "Upload successful: log.txt (9KB)\n",
      "Starting upload for file tf_logs.zip\n"
     ]
    },
    {
     "name": "stderr",
     "output_type": "stream",
     "text": [
      "\r",
      "100%|██████████| 128k/128k [00:01<00:00, 86.1kB/s]\n",
      "\r",
      "  0%|          | 0.00/244k [00:00<?, ?B/s]"
     ]
    },
    {
     "name": "stdout",
     "output_type": "stream",
     "text": [
      "Upload successful: tf_logs.zip (128KB)\n",
      "Starting upload for file 20220120_231358.log.json\n"
     ]
    },
    {
     "name": "stderr",
     "output_type": "stream",
     "text": [
      "100%|██████████| 244k/244k [00:01<00:00, 158kB/s] \n",
      "  0%|          | 0.00/1.05G [00:00<?, ?B/s]"
     ]
    },
    {
     "name": "stdout",
     "output_type": "stream",
     "text": [
      "Upload successful: 20220120_231358.log.json (244KB)\n",
      "Starting upload for file best_bbox_mAP_epoch_9.pth\n"
     ]
    },
    {
     "name": "stderr",
     "output_type": "stream",
     "text": [
      "100%|██████████| 1.05G/1.05G [03:46<00:00, 4.97MB/s]"
     ]
    },
    {
     "name": "stdout",
     "output_type": "stream",
     "text": [
      "Upload successful: best_bbox_mAP_epoch_9.pth (1GB)\n",
      "Starting upload for file config.zip\n"
     ]
    },
    {
     "name": "stderr",
     "output_type": "stream",
     "text": [
      "\n",
      "100%|██████████| 248k/248k [00:01<00:00, 183kB/s]  \n",
      "  0%|          | 0.00/326k [00:00<?, ?B/s]"
     ]
    },
    {
     "name": "stdout",
     "output_type": "stream",
     "text": [
      "Upload successful: config.zip (248KB)\n",
      "Starting upload for file 20220120_231358.log\n"
     ]
    },
    {
     "name": "stderr",
     "output_type": "stream",
     "text": [
      "\r",
      "100%|██████████| 326k/326k [00:01<00:00, 291kB/s]"
     ]
    },
    {
     "name": "stdout",
     "output_type": "stream",
     "text": [
      "Upload successful: 20220120_231358.log (326KB)\n",
      "Your private Dataset is being created. Please check progress at https://www.kaggle.com/vincentwang25/0120-swin\n"
     ]
    },
    {
     "name": "stderr",
     "output_type": "stream",
     "text": [
      "\n"
     ]
    }
   ],
   "source": [
    "util.upload(meta_params['0120_swin'])"
   ]
  },
  {
   "cell_type": "code",
   "execution_count": 9,
   "id": "8d1aeca7",
   "metadata": {
    "ExecuteTime": {
     "end_time": "2022-01-21T13:46:42.978991Z",
     "start_time": "2022-01-21T13:46:42.962304Z"
    }
   },
   "outputs": [
    {
     "data": {
      "text/plain": [
       "1"
      ]
     },
     "execution_count": 9,
     "metadata": {},
     "output_type": "execute_result"
    }
   ],
   "source": [
    "1"
   ]
  },
  {
   "cell_type": "code",
   "execution_count": null,
   "id": "edd886aa",
   "metadata": {},
   "outputs": [],
   "source": []
  }
 ],
 "metadata": {
  "kernelspec": {
   "display_name": "openmmlab",
   "language": "python",
   "name": "openmmlab"
  },
  "language_info": {
   "codemirror_mode": {
    "name": "ipython",
    "version": 3
   },
   "file_extension": ".py",
   "mimetype": "text/x-python",
   "name": "python",
   "nbconvert_exporter": "python",
   "pygments_lexer": "ipython3",
   "version": "3.7.11"
  },
  "toc": {
   "base_numbering": 1,
   "nav_menu": {},
   "number_sections": true,
   "sideBar": true,
   "skip_h1_title": false,
   "title_cell": "Table of Contents",
   "title_sidebar": "Contents",
   "toc_cell": false,
   "toc_position": {},
   "toc_section_display": true,
   "toc_window_display": false
  }
 },
 "nbformat": 4,
 "nbformat_minor": 5
}
