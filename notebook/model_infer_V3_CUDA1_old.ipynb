{
 "cells": [
  {
   "cell_type": "code",
   "execution_count": 1,
   "id": "c8f0ce2c",
   "metadata": {
    "ExecuteTime": {
     "end_time": "2022-02-06T13:05:27.819393Z",
     "start_time": "2022-02-06T13:05:27.802988Z"
    }
   },
   "outputs": [
    {
     "data": {
      "text/html": [
       "<style>.container { width:100% !important; }</style>"
      ],
      "text/plain": [
       "<IPython.core.display.HTML object>"
      ]
     },
     "metadata": {},
     "output_type": "display_data"
    }
   ],
   "source": [
    "%load_ext autoreload\n",
    "%autoreload 2\n",
    "\n",
    "from IPython.core.display import display, HTML\n",
    "display(HTML(\"<style>.container { width:100% !important; }</style>\"))"
   ]
  },
  {
   "cell_type": "code",
   "execution_count": 2,
   "id": "d2f506ce",
   "metadata": {
    "ExecuteTime": {
     "end_time": "2022-02-06T13:05:33.269319Z",
     "start_time": "2022-02-06T13:05:27.820330Z"
    }
   },
   "outputs": [],
   "source": [
    "import sys\n",
    "from itertools import groupby\n",
    "import numpy as np\n",
    "import cv2\n",
    "from tqdm.notebook import tqdm\n",
    "tqdm.pandas()\n",
    "import pandas as pd\n",
    "import os\n",
    "from glob import glob\n",
    "from multiprocessing import Pool\n",
    "import matplotlib.pyplot as plt\n",
    "# import cupy as cp\n",
    "import ast\n",
    "from pathlib import Path\n",
    "import pickle5 as pickle\n",
    "import torch\n",
    "\n",
    "import shutil\n",
    "import sys\n",
    "sys.path.append(\"../src/\")\n",
    "sys.path.append(\"../yolov5/\")\n",
    "\n",
    "import util\n",
    "\n",
    "from joblib import Parallel, delayed\n",
    "\n",
    "from mmdet.apis import init_detector, inference_detector\n",
    "\n",
    "from IPython.display import display, HTML\n",
    "from sahi.utils.cv import read_image\n",
    "from sahi.utils.file import download_from_url\n",
    "from sahi.model import Yolov5DetectionModel\n",
    "from sahi.predict import get_prediction, get_sliced_prediction, predict\n",
    "from ensemble_boxes import weighted_boxes_fusion\n",
    "\n",
    "from IPython.display import Image\n",
    "from matplotlib import animation, rc\n",
    "rc('animation', html='jshtml')"
   ]
  },
  {
   "cell_type": "code",
   "execution_count": 3,
   "id": "e90818f1",
   "metadata": {
    "ExecuteTime": {
     "end_time": "2022-02-06T13:05:33.292394Z",
     "start_time": "2022-02-06T13:05:33.270181Z"
    }
   },
   "outputs": [],
   "source": [
    "CONF = 0.01\n",
    "IOU = 0.4\n",
    "AUGMENT = True # True "
   ]
  },
  {
   "cell_type": "code",
   "execution_count": 4,
   "id": "628ff3ad",
   "metadata": {
    "ExecuteTime": {
     "end_time": "2022-02-06T13:05:33.311208Z",
     "start_time": "2022-02-06T13:05:33.293661Z"
    }
   },
   "outputs": [],
   "source": [
    "# add augmentation choice\n",
    "def perform_inference(self, image, image_size, augment=AUGMENT):\n",
    "    try:\n",
    "        import yolov5\n",
    "    except ImportError:\n",
    "        raise ImportError('Please run \"pip install -U yolov5\" ' \"to install YOLOv5 first for YOLOv5 inference.\")\n",
    "\n",
    "    # Confirm model is loaded\n",
    "    assert self.model is not None, \"Model is not loaded, load it by calling .load_model()\"\n",
    "\n",
    "    if image_size is not None:\n",
    "        warnings.warn(\"Set 'image_size' at DetectionModel init.\", DeprecationWarning)\n",
    "        prediction_result = self.model(image, size=image_size, augment=augment)\n",
    "    elif self.image_size is not None:\n",
    "        prediction_result = self.model(image, size=self.image_size, augment=augment)\n",
    "    else:\n",
    "        prediction_result = self.model(image, augment=augment)\n",
    "    self._original_predictions = prediction_result\n",
    "    return \n",
    "\n",
    "Yolov5DetectionModel.perform_inference = perform_inference"
   ]
  },
  {
   "cell_type": "code",
   "execution_count": 5,
   "id": "3b6005b3",
   "metadata": {
    "ExecuteTime": {
     "end_time": "2022-02-06T13:05:33.328247Z",
     "start_time": "2022-02-06T13:05:33.311935Z"
    }
   },
   "outputs": [],
   "source": [
    "model_versions = ['0205_yolov5m6_B_LS02']\n",
    "CUDA = \"cuda:1\""
   ]
  },
  {
   "cell_type": "markdown",
   "id": "3684e82d",
   "metadata": {},
   "source": [
    "# Load Data"
   ]
  },
  {
   "cell_type": "code",
   "execution_count": 6,
   "id": "bbf678d1",
   "metadata": {
    "ExecuteTime": {
     "end_time": "2022-02-06T13:05:33.366865Z",
     "start_time": "2022-02-06T13:05:33.329074Z"
    }
   },
   "outputs": [
    {
     "data": {
      "text/plain": [
       "(23501, 7)"
      ]
     },
     "execution_count": 6,
     "metadata": {},
     "output_type": "execute_result"
    }
   ],
   "source": [
    "INPUT_DIR = Path(\"../../data/tensorflow-great-barrier-reef/\")\n",
    "df = pd.read_csv(INPUT_DIR / \"train.csv\")\n",
    "folds = util.load_pickle(\"../input/fold_test_2.pkl\")\n",
    "df[\"fold\"] = df[\"sequence\"].apply(lambda x: folds[x])\n",
    "df.shape"
   ]
  },
  {
   "cell_type": "code",
   "execution_count": 7,
   "id": "1c4eed09",
   "metadata": {
    "ExecuteTime": {
     "end_time": "2022-02-06T13:05:53.130463Z",
     "start_time": "2022-02-06T13:05:33.367808Z"
    }
   },
   "outputs": [
    {
     "data": {
      "application/vnd.jupyter.widget-view+json": {
       "model_id": "583bb83dc7f2458eaea2d0821cf3ca8a",
       "version_major": 2,
       "version_minor": 0
      },
      "text/plain": [
       "  0%|          | 0/23501 [00:00<?, ?it/s]"
      ]
     },
     "metadata": {},
     "output_type": "display_data"
    },
    {
     "data": {
      "application/vnd.jupyter.widget-view+json": {
       "model_id": "91752d143ca04d9baf997ca5f1eb5c3e",
       "version_major": 2,
       "version_minor": 0
      },
      "text/plain": [
       "  0%|          | 0/23501 [00:00<?, ?it/s]"
      ]
     },
     "metadata": {},
     "output_type": "display_data"
    }
   ],
   "source": [
    "data_param = {'root_dir':INPUT_DIR,'label_dir':INPUT_DIR / \"labels\"}\n",
    "df = df.progress_apply(lambda x: util.get_path(x, data_param, infer=True), axis=1)\n",
    "df['annotations'] = df['annotations'].progress_apply(lambda x: ast.literal_eval(x))\n",
    "df[\"real_bbox\"] = df[\"annotations\"].apply(lambda annots: [list(annot.values()) for annot in annots])"
   ]
  },
  {
   "cell_type": "code",
   "execution_count": 8,
   "id": "6c97008e",
   "metadata": {
    "ExecuteTime": {
     "end_time": "2022-02-06T13:05:53.189545Z",
     "start_time": "2022-02-06T13:05:53.131500Z"
    }
   },
   "outputs": [
    {
     "data": {
      "application/vnd.jupyter.widget-view+json": {
       "model_id": "002a6475d04e435d878733d80b909577",
       "version_major": 2,
       "version_minor": 0
      },
      "text/plain": [
       "  0%|          | 0/23501 [00:00<?, ?it/s]"
      ]
     },
     "metadata": {},
     "output_type": "display_data"
    },
    {
     "name": "stdout",
     "output_type": "stream",
     "text": [
      "No BBox: 79.07% | With BBox: 20.93%\n"
     ]
    }
   ],
   "source": [
    "df['num_bbox'] = df['annotations'].progress_apply(lambda x: len(x))\n",
    "data = (df.num_bbox>0).value_counts(normalize=True)*100\n",
    "print(f\"No BBox: {data[0]:0.2f}% | With BBox: {data[1]:0.2f}%\")"
   ]
  },
  {
   "cell_type": "code",
   "execution_count": 9,
   "id": "e64374e5",
   "metadata": {
    "ExecuteTime": {
     "end_time": "2022-02-06T13:05:53.216422Z",
     "start_time": "2022-02-06T13:05:53.190600Z"
    }
   },
   "outputs": [
    {
     "data": {
      "text/plain": [
       "fold\n",
       "0    0.549803\n",
       "1    0.332484\n",
       "dtype: float64"
      ]
     },
     "execution_count": 9,
     "metadata": {},
     "output_type": "execute_result"
    }
   ],
   "source": [
    "# COTS per frame\n",
    "df.groupby(\"fold\").apply(lambda df: df[\"num_bbox\"].sum() / df.shape[0])"
   ]
  },
  {
   "cell_type": "code",
   "execution_count": 10,
   "id": "851eb02c",
   "metadata": {
    "ExecuteTime": {
     "end_time": "2022-02-06T13:05:53.238507Z",
     "start_time": "2022-02-06T13:05:53.218520Z"
    }
   },
   "outputs": [
    {
     "data": {
      "text/plain": [
       "0    0.799711\n",
       "1    0.200289\n",
       "Name: fold, dtype: float64"
      ]
     },
     "execution_count": 10,
     "metadata": {},
     "output_type": "execute_result"
    }
   ],
   "source": [
    "df['fold'].value_counts(normalize=True)"
   ]
  },
  {
   "cell_type": "markdown",
   "id": "a5bd44aa",
   "metadata": {},
   "source": [
    "# Model"
   ]
  },
  {
   "cell_type": "code",
   "execution_count": 11,
   "id": "ef45f306",
   "metadata": {
    "ExecuteTime": {
     "end_time": "2022-02-06T13:05:53.261932Z",
     "start_time": "2022-02-06T13:05:53.239182Z"
    }
   },
   "outputs": [],
   "source": [
    "meta_params = {}\n",
    "for model_version in model_versions:\n",
    "    model_folder = Path(f\"../output/{model_version}/\")\n",
    "    try:\n",
    "        params_path = model_folder / \"config\" / \"params.pkl\"\n",
    "        params = pickle.load(open(params_path, 'rb'))\n",
    "    except:\n",
    "        params_path = model_folder / \"config\" / \"params.yaml\"\n",
    "        params = util.load_yaml(params_path)\n",
    "        \n",
    "    for key, val in params.items():\n",
    "        if \"dir\" in key or \"path\" in key or \"file\" in key:\n",
    "            params[key] = Path(val)\n",
    "    meta_params[model_version] = params"
   ]
  },
  {
   "cell_type": "code",
   "execution_count": 12,
   "id": "9fdc893e",
   "metadata": {
    "ExecuteTime": {
     "end_time": "2022-02-06T13:05:53.407049Z",
     "start_time": "2022-02-06T13:05:53.262630Z"
    }
   },
   "outputs": [
    {
     "data": {
      "image/png": "[encoded data removed]",
      "text/plain": [
       "<Figure size 360x360 with 1 Axes>"
      ]
     },
     "metadata": {
      "needs_background": "light"
     },
     "output_type": "display_data"
    }
   ],
   "source": [
    "fig, axes = plt.subplots(1, len(meta_params),figsize=(5*len(meta_params), 5))\n",
    "if len(meta_params) == 1:\n",
    "    axes = [axes]\n",
    "target_score = {}\n",
    "for i,(model_version, params) in enumerate(meta_params.items()):\n",
    "    if params[\"tools\"] == \"mmdetection\":\n",
    "        continue\n",
    "    logging_dir = params[\"ckpt_path\"].parent.parent\n",
    "    res_df = pd.read_csv(logging_dir / \"results.csv\")    \n",
    "    res_df[['       metrics/score','   metrics/precision', '      metrics/recall']].plot(ax=axes[i])\n",
    "    axes[i].legend()\n",
    "    axes[i].set_title(f\"{model_version} score\")    \n",
    "    target_score[model_version] = res_df['       metrics/score'].max()\n",
    "plt.show()    "
   ]
  },
  {
   "cell_type": "code",
   "execution_count": 13,
   "id": "855638bb",
   "metadata": {
    "ExecuteTime": {
     "end_time": "2022-02-06T13:05:53.425046Z",
     "start_time": "2022-02-06T13:05:53.407869Z"
    }
   },
   "outputs": [
    {
     "data": {
      "text/plain": [
       "{'0206_m_P7_2300_B_LR1e3': 0.62746}"
      ]
     },
     "execution_count": 13,
     "metadata": {},
     "output_type": "execute_result"
    }
   ],
   "source": [
    "target_score"
   ]
  },
  {
   "cell_type": "code",
   "execution_count": 14,
   "id": "1e5c608c",
   "metadata": {
    "ExecuteTime": {
     "end_time": "2022-02-06T13:05:53.442042Z",
     "start_time": "2022-02-06T13:05:53.425740Z"
    }
   },
   "outputs": [
    {
     "data": {
      "text/plain": [
       "2300"
      ]
     },
     "execution_count": 14,
     "metadata": {},
     "output_type": "execute_result"
    }
   ],
   "source": [
    "params['img_size']"
   ]
  },
  {
   "cell_type": "code",
   "execution_count": 15,
   "id": "83ccd37e",
   "metadata": {
    "ExecuteTime": {
     "end_time": "2022-02-06T13:06:00.116174Z",
     "start_time": "2022-02-06T13:05:53.442724Z"
    }
   },
   "outputs": [
    {
     "name": "stderr",
     "output_type": "stream",
     "text": [
      "YOLOv5 🚀 v6.0-190-g4359cb0 torch 1.10.1+cu102 CUDA:0 (NVIDIA GeForce RTX 2080 Ti, 11016MiB)\n",
      "\n",
      "Fusing layers... \n",
      "Model Summary: 466 layers, 66964362 parameters, 0 gradients, 51.1 GFLOPs\n",
      "Adding AutoShape... \n"
     ]
    }
   ],
   "source": [
    "models = {}\n",
    "for model_version, params in meta_params.items():\n",
    "    if params['tools'] == \"yolov5\":\n",
    "        params[\"repo\"] = Path(\"../yolov5/\").resolve()\n",
    "    else:\n",
    "        ckp = glob(str(params['output_dir']) + \"/\" + \"latest*\")[0]\n",
    "        params['ckpt_path'] = ckp\n",
    "    params[\"augment\"]  = AUGMENT\n",
    "    params[\"conf\"] = CONF\n",
    "    params[\"iou\"] = IOU\n",
    "\n",
    "    if \"slice\" in model_version:\n",
    "        model = Yolov5DetectionModel(\n",
    "            model_path=str(params['ckpt_path']),\n",
    "            confidence_threshold=0.01,\n",
    "            image_size = int(params['img_size'] * 1.3),\n",
    "            device=CUDA, # or 'cuda:0'\n",
    "        )    \n",
    "    else:\n",
    "        if params['tools']  == \"yolov5\":\n",
    "            model = util.load_model(params)\n",
    "            device = torch.device(CUDA)\n",
    "            model.to(device)\n",
    "        elif params['tools'] == \"mmdetection\":\n",
    "            model = init_detector(str(params['cfg_dir'] / \"config.py\"), ckp, device=CUDA)\n",
    "    models[model_version] = model"
   ]
  },
  {
   "cell_type": "code",
   "execution_count": 16,
   "id": "f4566b0c",
   "metadata": {
    "ExecuteTime": {
     "end_time": "2022-02-06T13:06:00.135028Z",
     "start_time": "2022-02-06T13:06:00.117059Z"
    },
    "scrolled": false
   },
   "outputs": [],
   "source": [
    "#print(model.cfg.pretty_text)"
   ]
  },
  {
   "cell_type": "markdown",
   "id": "aeb7e88a",
   "metadata": {},
   "source": [
    "# Prediction"
   ]
  },
  {
   "cell_type": "code",
   "execution_count": 17,
   "id": "0d0be6e0",
   "metadata": {
    "ExecuteTime": {
     "end_time": "2022-02-06T13:06:00.153454Z",
     "start_time": "2022-02-06T13:06:00.135784Z"
    }
   },
   "outputs": [
    {
     "data": {
      "text/plain": [
       "Index(['video_id', 'sequence', 'video_frame', 'sequence_frame', 'image_id',\n",
       "       'annotations', 'fold', 'old_image_path', 'image_path', 'label_path',\n",
       "       'real_bbox', 'num_bbox', 'pred_0206_m_P7_2300_B_LR1e3_fold1'],\n",
       "      dtype='object')"
      ]
     },
     "execution_count": 17,
     "metadata": {},
     "output_type": "execute_result"
    }
   ],
   "source": [
    "#df[\"pred\"] = None\n",
    "for model_version in meta_params.keys():\n",
    "    df[\"pred_\" + model_version + f\"_fold1\"] = None\n",
    "df.columns"
   ]
  },
  {
   "cell_type": "code",
   "execution_count": 18,
   "id": "24cecc1d",
   "metadata": {
    "ExecuteTime": {
     "end_time": "2022-02-06T13:24:07.608625Z",
     "start_time": "2022-02-06T13:06:00.154168Z"
    }
   },
   "outputs": [
    {
     "data": {
      "application/vnd.jupyter.widget-view+json": {
       "model_id": "52e7bb72f8984904880ca5a4e27cfc45",
       "version_major": 2,
       "version_minor": 0
      },
      "text/plain": [
       "  0%|          | 0/23501 [00:00<?, ?it/s]"
      ]
     },
     "metadata": {},
     "output_type": "display_data"
    }
   ],
   "source": [
    "SH = 720\n",
    "SW = 720\n",
    "OHR = 0.2\n",
    "OWR = 0.2\n",
    "PMT = 0.4\n",
    "clahe = cv2.createCLAHE(clipLimit=5, tileGridSize=(10, 10))\n",
    "for idx in tqdm(range(len(df))):\n",
    "    row = df.loc[idx]\n",
    "    target_fold = row['fold']\n",
    "    if target_fold != 1:\n",
    "        continue\n",
    "    img_path = row[\"image_path\"]\n",
    "    img = cv2.imread(str(img_path))\n",
    "    for model_version, model in models.items():\n",
    "        SIZE = int(meta_params[model_version][\"img_size\"] * 1.3)\n",
    "        pred_col = \"pred_\" + model_version + f\"_fold{target_fold}\"\n",
    "        if row[pred_col] is not None:\n",
    "            continue\n",
    "        USE_CLACHE = meta_params[model_version].get(\"use_clahe\", True)\n",
    "        img2 = img.copy()\n",
    "        if USE_CLACHE:\n",
    "            for i in range(3):\n",
    "                img2[:, :, i] = clahe.apply((img2[:, :, i]))     \n",
    "                \n",
    "        if meta_params[model_version][\"tools\"] == \"yolov5\":\n",
    "            img2 = img2[...,::-1]\n",
    "            if \"slice\" in model_version:\n",
    "                result_sliced = get_sliced_prediction(\n",
    "                    img2,\n",
    "                    model,\n",
    "                    slice_height = SH,\n",
    "                    slice_width = SW,\n",
    "                    overlap_height_ratio = OHR,\n",
    "                    overlap_width_ratio = OWR,\n",
    "                    postprocess_match_threshold = PMT,\n",
    "                    verbose = False)\n",
    "                object_prediction_list = result_sliced.object_prediction_list\n",
    "                confs = [obj_pred.score.value for obj_pred in object_prediction_list]\n",
    "                pred_bbox = np.array([obj_pred.bbox.to_coco_bbox() for obj_pred in object_prediction_list])\n",
    "            else:\n",
    "                pred_bbox, confs = util.predict(model, img2, size=SIZE, augment=AUGMENT, use_sahi=False)\n",
    "\n",
    "        elif meta_params[model_version][\"tools\"] == \"mmdetection\":\n",
    "            result = inference_detector(model, img2)\n",
    "            pred_bbox = result[0][:,:4]\n",
    "            pred_bbox[:,2:] = pred_bbox[:,2:] - pred_bbox[:,:2]\n",
    "            pred_confs = result[0][:,4]\n",
    "            confs = pred_confs.tolist()\n",
    "        df.at[idx, pred_col] = [ [conf] + pred_bbox[i].tolist() for i, conf in enumerate(confs)]"
   ]
  },
  {
   "cell_type": "code",
   "execution_count": 19,
   "id": "34baaa11",
   "metadata": {
    "ExecuteTime": {
     "end_time": "2022-02-06T13:24:07.730072Z",
     "start_time": "2022-02-06T13:24:07.609562Z"
    }
   },
   "outputs": [],
   "source": [
    "#save it\n",
    "util.save_pickle(df, f\"pred_{model_versions[0]}.pkl\")"
   ]
  },
  {
   "cell_type": "code",
   "execution_count": 20,
   "id": "0af83403",
   "metadata": {
    "ExecuteTime": {
     "end_time": "2022-02-06T13:24:07.748671Z",
     "start_time": "2022-02-06T13:24:07.730995Z"
    }
   },
   "outputs": [
    {
     "data": {
      "text/plain": [
       "'pred_0206_m_P7_2300_B_LR1e3.pkl'"
      ]
     },
     "execution_count": 20,
     "metadata": {},
     "output_type": "execute_result"
    }
   ],
   "source": [
    "f\"pred_{model_versions[0]}.pkl\""
   ]
  },
  {
   "cell_type": "code",
   "execution_count": null,
   "id": "b8856e53",
   "metadata": {},
   "outputs": [],
   "source": []
  }
 ],
 "metadata": {
  "kernelspec": {
   "display_name": "base",
   "language": "python",
   "name": "base"
  },
  "language_info": {
   "codemirror_mode": {
    "name": "ipython",
    "version": 3
   },
   "file_extension": ".py",
   "mimetype": "text/x-python",
   "name": "python",
   "nbconvert_exporter": "python",
   "pygments_lexer": "ipython3",
   "version": "3.8.10"
  },
  "toc": {
   "base_numbering": 1,
   "nav_menu": {},
   "number_sections": true,
   "sideBar": true,
   "skip_h1_title": false,
   "title_cell": "Table of Contents",
   "title_sidebar": "Contents",
   "toc_cell": false,
   "toc_position": {},
   "toc_section_display": true,
   "toc_window_display": false
  }
 },
 "nbformat": 4,
 "nbformat_minor": 5
}
