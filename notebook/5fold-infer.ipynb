{
 "cells": [
  {
   "cell_type": "code",
   "execution_count": 1,
   "id": "c8f0ce2c",
   "metadata": {
    "ExecuteTime": {
     "end_time": "2022-01-27T14:52:34.968945Z",
     "start_time": "2022-01-27T14:52:34.952374Z"
    }
   },
   "outputs": [
    {
     "data": {
      "text/html": [
       "<style>.container { width:100% !important; }</style>"
      ],
      "text/plain": [
       "<IPython.core.display.HTML object>"
      ]
     },
     "metadata": {},
     "output_type": "display_data"
    }
   ],
   "source": [
    "%load_ext autoreload\n",
    "%autoreload 2\n",
    "\n",
    "from IPython.core.display import display, HTML\n",
    "display(HTML(\"<style>.container { width:100% !important; }</style>\"))"
   ]
  },
  {
   "cell_type": "code",
   "execution_count": 2,
   "id": "d2f506ce",
   "metadata": {
    "ExecuteTime": {
     "end_time": "2022-01-27T14:52:36.659885Z",
     "start_time": "2022-01-27T14:52:35.260258Z"
    }
   },
   "outputs": [],
   "source": [
    "import sys\n",
    "from itertools import groupby\n",
    "import numpy as np\n",
    "import cv2\n",
    "from tqdm.notebook import tqdm\n",
    "tqdm.pandas()\n",
    "import pandas as pd\n",
    "import os\n",
    "from glob import glob\n",
    "from multiprocessing import Pool\n",
    "import matplotlib.pyplot as plt\n",
    "# import cupy as cp\n",
    "import ast\n",
    "from pathlib import Path\n",
    "import pickle5 as pickle\n",
    "import torch\n",
    "\n",
    "import shutil\n",
    "import sys\n",
    "sys.path.append(\"../src/\")\n",
    "sys.path.append(\"../yolov5/\")\n",
    "\n",
    "import util\n",
    "\n",
    "from joblib import Parallel, delayed\n",
    "\n",
    "from IPython.display import display, HTML\n",
    "from sahi.model import Yolov5DetectionModel\n",
    "from sahi.utils.cv import read_image\n",
    "from sahi.utils.file import download_from_url\n",
    "from sahi.predict import get_prediction, get_sliced_prediction, predict\n",
    "from ensemble_boxes import weighted_boxes_fusion\n",
    "\n",
    "from IPython.display import Image\n",
    "from matplotlib import animation, rc\n",
    "rc('animation', html='jshtml')"
   ]
  },
  {
   "cell_type": "code",
   "execution_count": 3,
   "id": "e90818f1",
   "metadata": {
    "ExecuteTime": {
     "end_time": "2022-01-27T14:52:36.673302Z",
     "start_time": "2022-01-27T14:52:36.660712Z"
    }
   },
   "outputs": [],
   "source": [
    "CONF = 0\n",
    "IOU = 0.4\n",
    "AUGMENT = True # True\n",
    "SIZE = int(1280 * 1.3)  # 1280 * 1.3 \n",
    "#USE_CLACHE = True\n",
    "USE_SAHI = False"
   ]
  },
  {
   "cell_type": "markdown",
   "id": "3684e82d",
   "metadata": {},
   "source": [
    "# Load Data"
   ]
  },
  {
   "cell_type": "code",
   "execution_count": 4,
   "id": "bbf678d1",
   "metadata": {
    "ExecuteTime": {
     "end_time": "2022-01-27T14:52:37.809392Z",
     "start_time": "2022-01-27T14:52:37.776743Z"
    }
   },
   "outputs": [
    {
     "data": {
      "text/plain": [
       "(23501, 7)"
      ]
     },
     "execution_count": 4,
     "metadata": {},
     "output_type": "execute_result"
    }
   ],
   "source": [
    "INPUT_DIR = Path(\"../../data/tensorflow-great-barrier-reef/\")\n",
    "df = pd.read_csv(INPUT_DIR / \"train.csv\")\n",
    "#folds = pd.read_csv(\"../input/train_folds_balanced.csv\") #_CPF\n",
    "#df = pd.merge(df, folds[[\"video_id\",\"video_frame\",\"fold\"]], on=[\"video_id\",'video_frame'])\n",
    "df[\"fold\"] = df[\"video_id\"]\n",
    "df.shape"
   ]
  },
  {
   "cell_type": "code",
   "execution_count": 5,
   "id": "1c4eed09",
   "metadata": {
    "ExecuteTime": {
     "end_time": "2022-01-27T14:52:57.318088Z",
     "start_time": "2022-01-27T14:52:38.137701Z"
    }
   },
   "outputs": [
    {
     "data": {
      "application/vnd.jupyter.widget-view+json": {
       "model_id": "2b87f2aaf8454a4dac974b177ebe7840",
       "version_major": 2,
       "version_minor": 0
      },
      "text/plain": [
       "  0%|          | 0/23501 [00:00<?, ?it/s]"
      ]
     },
     "metadata": {},
     "output_type": "display_data"
    },
    {
     "data": {
      "application/vnd.jupyter.widget-view+json": {
       "model_id": "514efc3c8d1e453b8d2bf6a2dd1bf640",
       "version_major": 2,
       "version_minor": 0
      },
      "text/plain": [
       "  0%|          | 0/23501 [00:00<?, ?it/s]"
      ]
     },
     "metadata": {},
     "output_type": "display_data"
    }
   ],
   "source": [
    "data_param = {'root_dir':INPUT_DIR,'label_dir':INPUT_DIR / \"labels\"}\n",
    "df = df.progress_apply(lambda x: util.get_path(x, data_param, infer=True), axis=1)\n",
    "df['annotations'] = df['annotations'].progress_apply(lambda x: ast.literal_eval(x))\n",
    "df[\"real_bbox\"] = df[\"annotations\"].apply(lambda annots: [list(annot.values()) for annot in annots])"
   ]
  },
  {
   "cell_type": "code",
   "execution_count": 6,
   "id": "6c97008e",
   "metadata": {
    "ExecuteTime": {
     "end_time": "2022-01-27T14:52:57.368786Z",
     "start_time": "2022-01-27T14:52:57.319103Z"
    }
   },
   "outputs": [
    {
     "data": {
      "application/vnd.jupyter.widget-view+json": {
       "model_id": "f8b78dee799748d592ae51843b7edc43",
       "version_major": 2,
       "version_minor": 0
      },
      "text/plain": [
       "  0%|          | 0/23501 [00:00<?, ?it/s]"
      ]
     },
     "metadata": {},
     "output_type": "display_data"
    },
    {
     "name": "stdout",
     "output_type": "stream",
     "text": [
      "No BBox: 79.07% | With BBox: 20.93%\n"
     ]
    }
   ],
   "source": [
    "df['num_bbox'] = df['annotations'].progress_apply(lambda x: len(x))\n",
    "data = (df.num_bbox>0).value_counts(normalize=True)*100\n",
    "print(f\"No BBox: {data[0]:0.2f}% | With BBox: {data[1]:0.2f}%\")"
   ]
  },
  {
   "cell_type": "code",
   "execution_count": 7,
   "id": "e64374e5",
   "metadata": {
    "ExecuteTime": {
     "end_time": "2022-01-27T14:52:57.390907Z",
     "start_time": "2022-01-27T14:52:57.369698Z"
    }
   },
   "outputs": [
    {
     "data": {
      "text/plain": [
       "fold\n",
       "0    0.456917\n",
       "1    0.775510\n",
       "2    0.286065\n",
       "dtype: float64"
      ]
     },
     "execution_count": 7,
     "metadata": {},
     "output_type": "execute_result"
    }
   ],
   "source": [
    "# COTS per frame\n",
    "df.groupby(\"fold\").apply(lambda df: df[\"num_bbox\"].sum() / df.shape[0])"
   ]
  },
  {
   "cell_type": "markdown",
   "id": "a5bd44aa",
   "metadata": {},
   "source": [
    "# Model"
   ]
  },
  {
   "cell_type": "code",
   "execution_count": 8,
   "id": "ef45f306",
   "metadata": {
    "ExecuteTime": {
     "end_time": "2022-01-27T14:52:57.421053Z",
     "start_time": "2022-01-27T14:52:57.391988Z"
    }
   },
   "outputs": [],
   "source": [
    "meta_params = {}\n",
    "#model_versions = ['0123_yolov5s', \"0124_yolov5s_f0\",\"0124_yolov5s_f1\",\"0125_yolov5s_f2\",\"0125_yolov5s_f3\"]\n",
    "#model_versions = ['0125_yolov5s_f0_cpf', \"0125_yolov5s_f1_cpf\",\"0125_yolov5s_f2_cpf\",\"0125_yolov5s_f3_cpf\",\"0125_yolov5s_f4_cpf\"]\n",
    "#model_versions = ['0125_yolov5l_wpre_f0', \"0125_yolov5l_wpre_f1\",\"0125_yolov5l_wpre_f2\",\"0126_yolov5l_wpre_f3\",\"0125_yolov5l_wpre_f4\"]\n",
    "model_versions = ['0127_yolov5l_wpre_v0_FP', \"0127_yolov5l_wpre_v1_FP\",\"0127_yolov5l_wpre_v2_FP\"]\n",
    "for model_version in model_versions:#, '0110_yolov5l_fold0_new_hyp_remove_noaug']:\n",
    "    model_folder = Path(f\"../output/{model_version}/\")\n",
    "    try:\n",
    "        params_path = model_folder / \"config\" / \"params.pkl\"\n",
    "        params = pickle.load(open(params_path, 'rb'))\n",
    "    except:\n",
    "        params_path = model_folder / \"config\" / \"params.yaml\"\n",
    "        params = util.load_yaml(params_path)\n",
    "        \n",
    "    for key, val in params.items():\n",
    "        if \"dir\" in key or \"path\" in key or \"file\" in key:\n",
    "            params[key] = Path(val)\n",
    "    meta_params[model_version] = params"
   ]
  },
  {
   "cell_type": "code",
   "execution_count": 10,
   "id": "9fdc893e",
   "metadata": {
    "ExecuteTime": {
     "end_time": "2022-01-27T14:54:13.021808Z",
     "start_time": "2022-01-27T14:54:12.767732Z"
    }
   },
   "outputs": [
    {
     "data": {
      "image/png": "[encoded data removed]",
      "text/plain": [
       "<Figure size 1080x360 with 3 Axes>"
      ]
     },
     "metadata": {
      "needs_background": "light"
     },
     "output_type": "display_data"
    }
   ],
   "source": [
    "fig, axes = plt.subplots(1, len(meta_params),figsize=(5*len(meta_params), 5))\n",
    "target_score = {}\n",
    "for i,(model_version, params) in enumerate(meta_params.items()):\n",
    "    if params[\"tools\"] == \"mmdetection\":\n",
    "        continue\n",
    "    logging_dir = params[\"ckpt_path\"].parent.parent\n",
    "    res_df = pd.read_csv(logging_dir / \"results.csv\")    \n",
    "    res_df[['       metrics/score','   metrics/precision', '      metrics/recall', '     metrics/mAP_0.5', 'metrics/mAP_0.5:0.95', ]].plot(ax=axes[i])\n",
    "    axes[i].legend()\n",
    "    axes[i].set_title(f\"{model_version} score\")    \n",
    "    target_score[model_version] = res_df['       metrics/score'].max()\n",
    "plt.show()    "
   ]
  },
  {
   "cell_type": "code",
   "execution_count": 11,
   "id": "855638bb",
   "metadata": {
    "ExecuteTime": {
     "end_time": "2022-01-27T14:54:16.453383Z",
     "start_time": "2022-01-27T14:54:16.435115Z"
    }
   },
   "outputs": [
    {
     "data": {
      "text/plain": [
       "{'0127_yolov5l_wpre_v0_FP': 0.54605,\n",
       " '0127_yolov5l_wpre_v1_FP': 0.5299,\n",
       " '0127_yolov5l_wpre_v2_FP': 0.65039}"
      ]
     },
     "execution_count": 11,
     "metadata": {},
     "output_type": "execute_result"
    }
   ],
   "source": [
    "target_score"
   ]
  },
  {
   "cell_type": "code",
   "execution_count": 12,
   "id": "83ccd37e",
   "metadata": {
    "ExecuteTime": {
     "end_time": "2022-01-27T14:55:08.875445Z",
     "start_time": "2022-01-27T14:55:05.377124Z"
    }
   },
   "outputs": [
    {
     "name": "stderr",
     "output_type": "stream",
     "text": [
      "YOLOv5 🚀 v6.0-186-g56783c1 torch 1.10.1+cu102 CUDA:0 (NVIDIA GeForce RTX 2080 Ti, 11016MiB)\n",
      "\n",
      "Fusing layers... \n",
      "Model Summary: 367 layers, 46108278 parameters, 0 gradients, 107.8 GFLOPs\n",
      "Adding AutoShape... \n",
      "YOLOv5 🚀 v6.0-186-g56783c1 torch 1.10.1+cu102 CUDA:0 (NVIDIA GeForce RTX 2080 Ti, 11016MiB)\n",
      "\n",
      "Fusing layers... \n",
      "Model Summary: 367 layers, 46108278 parameters, 0 gradients, 107.8 GFLOPs\n",
      "Adding AutoShape... \n",
      "YOLOv5 🚀 v6.0-186-g56783c1 torch 1.10.1+cu102 CUDA:0 (NVIDIA GeForce RTX 2080 Ti, 11016MiB)\n",
      "\n",
      "Fusing layers... \n",
      "Model Summary: 367 layers, 46108278 parameters, 0 gradients, 107.8 GFLOPs\n",
      "Adding AutoShape... \n"
     ]
    }
   ],
   "source": [
    "models = {}\n",
    "for model_version, params in meta_params.items():\n",
    "    if params['tools'] == \"yolov5\":\n",
    "        params[\"repo\"] = Path(\"../yolov5/\").resolve()\n",
    "    else:\n",
    "        ckp = glob(str(params['output_dir']) + \"/\" + \"best*\")[0]\n",
    "        params['ckpt_path'] = ckp\n",
    "    params[\"augment\"]  = AUGMENT\n",
    "    params[\"conf\"] = CONF\n",
    "    params[\"iou\"] = IOU\n",
    "\n",
    "    if USE_SAHI:\n",
    "        model = Yolov5DetectionModel(\n",
    "            model_path=str(params['ckpt_path']),\n",
    "            confidence_threshold=CONF,\n",
    "            image_size = params['img_size'],\n",
    "            device=\"cuda:0\", # or 'cuda:0'\n",
    "        )    \n",
    "    else:\n",
    "        if params['tools']  == \"yolov5\":\n",
    "            model = util.load_model(params)\n",
    "            device = torch.device(\"cuda\")\n",
    "            model.to(device)\n",
    "        elif params['tools'] == \"mmdetection\":\n",
    "            model = init_detector(str(params['cfg_dir'] / \"config.py\"), ckp, device='cuda:0')\n",
    "            \n",
    "    models[model_version] = model    "
   ]
  },
  {
   "cell_type": "markdown",
   "id": "aeb7e88a",
   "metadata": {},
   "source": [
    "# Prediction"
   ]
  },
  {
   "cell_type": "code",
   "execution_count": 13,
   "id": "8adbf9c3",
   "metadata": {
    "ExecuteTime": {
     "end_time": "2022-01-27T14:55:08.890893Z",
     "start_time": "2022-01-27T14:55:08.876419Z"
    }
   },
   "outputs": [
    {
     "data": {
      "text/plain": [
       "2"
      ]
     },
     "execution_count": 13,
     "metadata": {},
     "output_type": "execute_result"
    }
   ],
   "source": [
    "meta_params[model_version][\"fold\"][0]"
   ]
  },
  {
   "cell_type": "code",
   "execution_count": 14,
   "id": "0d0be6e0",
   "metadata": {
    "ExecuteTime": {
     "end_time": "2022-01-27T14:55:08.910406Z",
     "start_time": "2022-01-27T14:55:08.891524Z"
    }
   },
   "outputs": [
    {
     "data": {
      "text/plain": [
       "Index(['video_id', 'sequence', 'video_frame', 'sequence_frame', 'image_id',\n",
       "       'annotations', 'fold', 'old_image_path', 'image_path', 'label_path',\n",
       "       'real_bbox', 'num_bbox', 'pred', 'pred_0127_yolov5l_wpre_v0_FP_fold0',\n",
       "       'pred_0127_yolov5l_wpre_v1_FP_fold1',\n",
       "       'pred_0127_yolov5l_wpre_v2_FP_fold2'],\n",
       "      dtype='object')"
      ]
     },
     "execution_count": 14,
     "metadata": {},
     "output_type": "execute_result"
    }
   ],
   "source": [
    "df[\"pred\"] = None\n",
    "for model_version in meta_params.keys():\n",
    "    fold = meta_params[model_version][\"fold\"][0]\n",
    "    df[\"pred_\" + model_version + f\"_fold{fold}\"] = None\n",
    "df.columns"
   ]
  },
  {
   "cell_type": "code",
   "execution_count": 15,
   "id": "24cecc1d",
   "metadata": {
    "ExecuteTime": {
     "end_time": "2022-01-27T16:02:22.820551Z",
     "start_time": "2022-01-27T14:55:08.911344Z"
    }
   },
   "outputs": [
    {
     "data": {
      "application/vnd.jupyter.widget-view+json": {
       "model_id": "905c5ae96144407dbcb1d7d45edd67e1",
       "version_major": 2,
       "version_minor": 0
      },
      "text/plain": [
       "  0%|          | 0/23501 [00:00<?, ?it/s]"
      ]
     },
     "metadata": {},
     "output_type": "display_data"
    }
   ],
   "source": [
    "SH = 640\n",
    "SW = 640\n",
    "OHR = 0.2\n",
    "OWR = 0.2\n",
    "PMT = 0.2\n",
    "clahe = cv2.createCLAHE(clipLimit=5, tileGridSize=(14, 14))\n",
    "for idx in tqdm(range(len(df))):\n",
    "    row = df.loc[idx]\n",
    "    target_fold = row['fold']\n",
    "    img_path = row[\"image_path\"]\n",
    "    img = cv2.imread(str(img_path))\n",
    "    for model_version, model in models.items():\n",
    "        model_fold = meta_params[model_version][\"fold\"][0]\n",
    "        if model_fold != target_fold:\n",
    "            continue\n",
    "            \n",
    "        USE_CLACHE = meta_params[model_version].get(\"use_clahe\", True)\n",
    "        img2 = img.copy()\n",
    "        if USE_CLACHE:\n",
    "            for i in range(3):\n",
    "                img2[:, :, i] = clahe.apply((img2[:, :, i]))     \n",
    "                \n",
    "        if meta_params[model_version][\"tools\"] == \"yolov5\":\n",
    "            img2 = img2[...,::-1]\n",
    "            if USE_SAHI:\n",
    "                result_sliced = get_sliced_prediction(\n",
    "                    img2,\n",
    "                    model,\n",
    "                    slice_height = SH,\n",
    "                    slice_width = SW,\n",
    "                    overlap_height_ratio = OHR,\n",
    "                    overlap_width_ratio = OWR,\n",
    "                    postprocess_match_threshold = PMT,\n",
    "                    verbose = False)\n",
    "                object_prediction_list = result_sliced.object_prediction_list\n",
    "                confs = [obj_pred.score.value for obj_pred in object_prediction_list]\n",
    "                pred_bbox = np.array([obj_pred.bbox.to_coco_bbox() for obj_pred in object_prediction_list])\n",
    "            else:\n",
    "                pred_bbox, confs = util.predict(model, img2, size=SIZE, augment=AUGMENT, use_sahi=USE_SAHI)\n",
    "\n",
    "        elif meta_params[model_version][\"tools\"] == \"mmdetection\":\n",
    "            result = inference_detector(model, img2)\n",
    "            pred_bbox = result[0][:,:4]\n",
    "            pred_bbox[:,2:] = pred_bbox[:,2:] - pred_bbox[:,:2]\n",
    "            pred_confs = result[0][:,4]\n",
    "            confs = pred_confs.tolist()\n",
    "            \n",
    "        df.at[idx, \"pred_\" + model_version + f\"_fold{target_fold}\"] = [ [conf] + pred_bbox[i].tolist() for i, conf in enumerate(confs)]\n",
    "        df.at[idx, \"pred\"] = df.at[idx, \"pred_\" + model_version + f\"_fold{target_fold}\"]"
   ]
  },
  {
   "cell_type": "code",
   "execution_count": 16,
   "id": "34baaa11",
   "metadata": {
    "ExecuteTime": {
     "end_time": "2022-01-27T16:02:25.464759Z",
     "start_time": "2022-01-27T16:02:22.821612Z"
    }
   },
   "outputs": [],
   "source": [
    "#save it\n",
    "util.save_pickle(df, \"pred_all_large_wpre_video_FP.pkl\")"
   ]
  },
  {
   "cell_type": "markdown",
   "id": "36b30983",
   "metadata": {},
   "source": [
    "# Pick Conf Thresh"
   ]
  },
  {
   "cell_type": "code",
   "execution_count": 44,
   "id": "0b3fe6a3",
   "metadata": {
    "ExecuteTime": {
     "end_time": "2022-01-26T19:12:54.842024Z",
     "start_time": "2022-01-26T19:12:54.822233Z"
    }
   },
   "outputs": [],
   "source": [
    "def run_wbf(bboxes, confs, image_size=1280, iou_thr=0.4, skip_box_thr=0.7, weights=None, conf_type='avg'):\n",
    "    if len(bboxes) == 1:\n",
    "        return bboxes[0], confs[0], []    \n",
    "    boxes =  [bbox / (image_size-1) for bbox in bboxes]\n",
    "    scores = [conf for conf in confs]    \n",
    "    labels = [np.ones(len(conf)) for conf in confs]\n",
    "    boxes, scores, labels = weighted_boxes_fusion(boxes, scores, labels, weights=weights, iou_thr=iou_thr, skip_box_thr=skip_box_thr,conf_type=conf_type)\n",
    "    boxes = boxes * (image_size-1)\n",
    "    return boxes, scores, labels"
   ]
  },
  {
   "cell_type": "code",
   "execution_count": 45,
   "id": "68d01657",
   "metadata": {
    "ExecuteTime": {
     "end_time": "2022-01-26T19:12:56.918450Z",
     "start_time": "2022-01-26T19:12:55.292070Z"
    }
   },
   "outputs": [],
   "source": [
    "pred_col = \"pred\"\n",
    "gt_bboxs_list = []\n",
    "for idx in range(len(df)):\n",
    "    row = df.iloc[idx]\n",
    "    if row[pred_col] is None:\n",
    "        continue\n",
    "    gt_bboxs = row[\"real_bbox\"]\n",
    "    gt_bboxs_list.append(np.array(gt_bboxs))"
   ]
  },
  {
   "cell_type": "code",
   "execution_count": 47,
   "id": "c7ec4428",
   "metadata": {
    "ExecuteTime": {
     "end_time": "2022-01-26T19:20:50.408596Z",
     "start_time": "2022-01-26T19:20:12.795842Z"
    }
   },
   "outputs": [
    {
     "name": "stdout",
     "output_type": "stream",
     "text": [
      "conf_th 0.06, pred: f2 0.5946, precision 0.50, recall 0.62 \n",
      "conf_th 0.08, pred: f2 0.6007, precision 0.55, recall 0.61 \n",
      "conf_th 0.10, pred: f2 0.6030, precision 0.59, recall 0.61 \n",
      "conf_th 0.12, pred: f2 0.6037, precision 0.62, recall 0.60 \n",
      "conf_th 0.14, pred: f2 0.6034, precision 0.64, recall 0.59 \n"
     ]
    }
   ],
   "source": [
    "#conf_ths = [10, 15, 20, 25, 30, 35, 40, 45, 50, 55]\n",
    "#conf_ths = [12, 16, 18, 20, 22, 24]\n",
    "conf_ths = [6, 8, 10, 12, 14]\n",
    "#conf_ths = [20, 24, 26, 28, 30]\n",
    "#conf_ths = [30, 32, 35, 38, 45, 50, 55]\n",
    "#conf_ths = [32, 34, 40, 45, 50]\n",
    "iou_ths = np.arange(0.3, 0.85, 0.05)\n",
    "for conf_th in conf_ths:\n",
    "    conf_th /= 100\n",
    "    prd_bboxs_list = []\n",
    "    for index in df.index:\n",
    "        if df.loc[index, \"pred\"] is None:\n",
    "            continue\n",
    "        prd_bboxs = df.loc[index, pred_col]\n",
    "        prd_bboxs = [p for p in prd_bboxs if p[0] >= conf_th]\n",
    "        #prd_bboxs = [[confis[i]] + bboxes[i] for i in range(len(prd_bboxs)) if prd_bboxs[i][0] >= conf_th]\n",
    "        prd_bboxs_list.append(np.array(prd_bboxs))\n",
    "    tps, fps, fns = util.calc_f2_score(gt_bboxs_list, prd_bboxs_list, verbose=False)    \n",
    "    #df[\"tp\"], df[\"fp\"], df[\"fn\"] = tps, fps, fns    \n",
    "    precision = util.f_beta(np.sum(tps), np.sum(fps), np.sum(fns), beta=0)\n",
    "    recall = util.f_beta(np.sum(tps), np.sum(fps), np.sum(fns), beta=100)    \n",
    "    score = util.f_beta(np.sum(tps), np.sum(fps), np.sum(fns), beta=2) \n",
    "    #score_only_bbox =  util.f_beta(*df.query(\"has_annotations\")[[\"tp\", \"fp\", \"fn\"]].sum(axis=0), beta=2) \n",
    "    print(f\"conf_th {conf_th:.2f}, pred: f2 {score:.4f}, precision {precision:.2f}, recall {recall:.2f} \")"
   ]
  },
  {
   "cell_type": "markdown",
   "id": "d078dcf1",
   "metadata": {},
   "source": [
    "# Tracking"
   ]
  },
  {
   "cell_type": "code",
   "execution_count": 48,
   "id": "15b1dc28",
   "metadata": {
    "ExecuteTime": {
     "end_time": "2022-01-26T19:20:59.276369Z",
     "start_time": "2022-01-26T19:20:59.253440Z"
    }
   },
   "outputs": [],
   "source": [
    "from norfair import Detection, Tracker\n",
    "\n",
    "# Helper to convert bbox in format [x_min, y_min, x_max, y_max, score] to norfair.Detection class\n",
    "def to_norfair(detects, frame_id):\n",
    "    result = []\n",
    "    for x_min, y_min, x_max, y_max, score in detects:\n",
    "        xc, yc = (x_min + x_max) / 2, (y_min + y_max) / 2\n",
    "        w, h = x_max - x_min, y_max - y_min\n",
    "        result.append(Detection(points=np.array([xc, yc]), scores=np.array([score]), data=np.array([w, h, frame_id])))\n",
    "        \n",
    "    return result\n",
    "\n",
    "def euclidean_distance(detection, tracked_object):\n",
    "    return np.linalg.norm(detection.points - tracked_object.estimate)\n",
    "\n",
    "def tracking_function(tracker, frame_id, bboxes, scores, best_conf):\n",
    "    \n",
    "    detects = []\n",
    "    predictions = []\n",
    "    \n",
    "    if len(scores)>0:\n",
    "        for i in range(len(bboxes)):\n",
    "            # remember to check\n",
    "            if scores[i] <= best_conf:\n",
    "                continue\n",
    "            box = bboxes[i]\n",
    "            score = scores[i]\n",
    "            x_min = int(box[0])\n",
    "            y_min = int(box[1])\n",
    "            bbox_width = int(box[2])\n",
    "            bbox_height = int(box[3])\n",
    "            detects.append([x_min, y_min, x_min+bbox_width, y_min+bbox_height, score])\n",
    "            predictions.append('{:.2f} {} {} {} {}'.format(score, x_min, y_min, bbox_width, bbox_height))\n",
    "#             print(predictions[:-1])\n",
    "    # Update tracks using detects from current frame\n",
    "    tracked_objects = tracker.update(detections=to_norfair(detects, frame_id))\n",
    "    for tobj in tracked_objects:\n",
    "        bbox_width, bbox_height, last_detected_frame_id = tobj.last_detection.data\n",
    "        if last_detected_frame_id == frame_id:  # Skip objects that were detected on current frame\n",
    "            continue\n",
    "        # Add objects that have no detections on current frame to predictions\n",
    "        xc, yc = tobj.estimate[0]\n",
    "        x_min, y_min = int(round(xc - bbox_width / 2)), int(round(yc - bbox_height / 2))\n",
    "        score = tobj.last_detection.scores[0]\n",
    "\n",
    "        predictions.append('{:.2f} {} {} {} {}'.format(score, x_min, y_min, bbox_width, bbox_height))\n",
    "        \n",
    "    return predictions"
   ]
  },
  {
   "cell_type": "code",
   "execution_count": 49,
   "id": "5e636adb",
   "metadata": {
    "ExecuteTime": {
     "end_time": "2022-01-26T19:20:59.607215Z",
     "start_time": "2022-01-26T19:20:59.589374Z"
    }
   },
   "outputs": [],
   "source": [
    "tracker = Tracker(\n",
    "    distance_function=euclidean_distance, \n",
    "    distance_threshold=30,\n",
    "    hit_inertia_min=3,\n",
    "    hit_inertia_max=6,\n",
    "    initialization_delay=1,\n",
    ")"
   ]
  },
  {
   "cell_type": "code",
   "execution_count": 50,
   "id": "37c7fcd9",
   "metadata": {
    "ExecuteTime": {
     "end_time": "2022-01-26T19:21:11.228048Z",
     "start_time": "2022-01-26T19:21:00.646264Z"
    }
   },
   "outputs": [
    {
     "name": "stdout",
     "output_type": "stream",
     "text": [
      "Adding tracking, pred: f2 0.6034, precision 0.64, recall 0.59\n"
     ]
    }
   ],
   "source": [
    "BEST_CONF = 0.12\n",
    "frame_id = 0\n",
    "prd_bboxs_tracking_list = []\n",
    "for idx in range(len(df)):\n",
    "    row = df.iloc[idx]\n",
    "    prd_bboxs = row[\"pred\"]\n",
    "    if prd_bboxs is None:\n",
    "        continue\n",
    "    bboxes, confis = [p[1:] for p in prd_bboxs], [p[0] for p in prd_bboxs]    \n",
    "    predictions = tracking_function(tracker, frame_id, bboxes, confis, BEST_CONF)    \n",
    "    prd_bboxs_tracking =   [[float(p) for p in pred.split(\" \")] for pred in predictions]\n",
    "    prd_bboxs_tracking_list.append(np.array(prd_bboxs_tracking))\n",
    "    frame_id += 1\n",
    "    \n",
    "tps, fps, fns = util.calc_f2_score(gt_bboxs_list, prd_bboxs_list, verbose=False)    \n",
    "#df[\"tp\"], df[\"fp\"], df[\"fn\"] = tps, fps, fns    \n",
    "precision = util.f_beta(np.sum(tps), np.sum(fps), np.sum(fns), beta=0)\n",
    "recall = util.f_beta(np.sum(tps), np.sum(fps), np.sum(fns), beta=100)    \n",
    "score = util.f_beta(np.sum(tps), np.sum(fps), np.sum(fns), beta=2) \n",
    "print(f\"Adding tracking, pred: f2 {score:.4f}, precision {precision:.2f}, recall {recall:.2f}\")"
   ]
  },
  {
   "cell_type": "markdown",
   "id": "e2b850d3",
   "metadata": {},
   "source": [
    "# check image"
   ]
  }
 ],
 "metadata": {
  "kernelspec": {
   "display_name": "base",
   "language": "python",
   "name": "base"
  },
  "language_info": {
   "codemirror_mode": {
    "name": "ipython",
    "version": 3
   },
   "file_extension": ".py",
   "mimetype": "text/x-python",
   "name": "python",
   "nbconvert_exporter": "python",
   "pygments_lexer": "ipython3",
   "version": "3.8.10"
  },
  "toc": {
   "base_numbering": 1,
   "nav_menu": {},
   "number_sections": true,
   "sideBar": true,
   "skip_h1_title": false,
   "title_cell": "Table of Contents",
   "title_sidebar": "Contents",
   "toc_cell": false,
   "toc_position": {},
   "toc_section_display": true,
   "toc_window_display": false
  }
 },
 "nbformat": 4,
 "nbformat_minor": 5
}
